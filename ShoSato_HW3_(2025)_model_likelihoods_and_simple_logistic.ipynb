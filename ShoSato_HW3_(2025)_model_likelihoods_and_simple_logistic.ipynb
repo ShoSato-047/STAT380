{
  "nbformat": 4,
  "nbformat_minor": 0,
  "metadata": {
    "colab": {
      "provenance": [],
      "include_colab_link": true
    },
    "kernelspec": {
      "name": "ir",
      "display_name": "R"
    },
    "language_info": {
      "name": "R"
    }
  },
  "cells": [
    {
      "cell_type": "markdown",
      "metadata": {
        "id": "view-in-github",
        "colab_type": "text"
      },
      "source": [
        "<a href=\"https://colab.research.google.com/github/ShoSato-047/STAT380/blob/main/ShoSato_HW3_(2025)_model_likelihoods_and_simple_logistic.ipynb\" target=\"_parent\"><img src=\"https://colab.research.google.com/assets/colab-badge.svg\" alt=\"Open In Colab\"/></a>"
      ]
    },
    {
      "cell_type": "markdown",
      "source": [
        "# INSTRUCTIONS\n",
        "\n",
        "Save a copy of this notebook in your Google drive.  Complete the HW and submit a **viewable** link (make sure to change share permissions from \"**Restricted**\" to \"**Anyone with link can view**\".\n",
        "\n",
        "***Bold and italicize the font of your responses.***"
      ],
      "metadata": {
        "id": "2d_GkM37erQa"
      }
    },
    {
      "cell_type": "markdown",
      "source": [
        "# Question 1 (30 points)\n",
        "\n",
        "In this question we investigate number of deaths caused by the HIV virus per year in the tri-state area of Iowa, Minnesota, and Wisconsin from 1999-2020.  Data accessed via the [CDC Wonder](https://wonder.cdc.gov/controller/saved/D76/D325F404) query system."
      ],
      "metadata": {
        "id": "AYfqmTyMgWF0"
      }
    },
    {
      "cell_type": "code",
      "source": [
        "hiv_deaths <- read.csv('https://www.dropbox.com/s/xt2hn9yro6h3hg2/hiv_deaths.csv?dl=1')\n",
        "head(hiv_deaths)"
      ],
      "metadata": {
        "colab": {
          "base_uri": "https://localhost:8080/",
          "height": 286
        },
        "id": "9Iebyeunhp5r",
        "outputId": "4828180b-87d0-4204-f55a-bdd72739d0bb"
      },
      "execution_count": 47,
      "outputs": [
        {
          "output_type": "display_data",
          "data": {
            "text/html": [
              "<table class=\"dataframe\">\n",
              "<caption>A data.frame: 6 × 4</caption>\n",
              "<thead>\n",
              "\t<tr><th></th><th scope=col>State</th><th scope=col>Year</th><th scope=col>Deaths</th><th scope=col>Population</th></tr>\n",
              "\t<tr><th></th><th scope=col>&lt;chr&gt;</th><th scope=col>&lt;int&gt;</th><th scope=col>&lt;int&gt;</th><th scope=col>&lt;int&gt;</th></tr>\n",
              "</thead>\n",
              "<tbody>\n",
              "\t<tr><th scope=row>1</th><td>Iowa</td><td>1999</td><td>21</td><td>2917634</td></tr>\n",
              "\t<tr><th scope=row>2</th><td>Iowa</td><td>2000</td><td>23</td><td>2926324</td></tr>\n",
              "\t<tr><th scope=row>3</th><td>Iowa</td><td>2001</td><td>18</td><td>2931997</td></tr>\n",
              "\t<tr><th scope=row>4</th><td>Iowa</td><td>2002</td><td>29</td><td>2934234</td></tr>\n",
              "\t<tr><th scope=row>5</th><td>Iowa</td><td>2003</td><td>20</td><td>2941999</td></tr>\n",
              "\t<tr><th scope=row>6</th><td>Iowa</td><td>2004</td><td>27</td><td>2953635</td></tr>\n",
              "</tbody>\n",
              "</table>\n"
            ],
            "text/markdown": "\nA data.frame: 6 × 4\n\n| <!--/--> | State &lt;chr&gt; | Year &lt;int&gt; | Deaths &lt;int&gt; | Population &lt;int&gt; |\n|---|---|---|---|---|\n| 1 | Iowa | 1999 | 21 | 2917634 |\n| 2 | Iowa | 2000 | 23 | 2926324 |\n| 3 | Iowa | 2001 | 18 | 2931997 |\n| 4 | Iowa | 2002 | 29 | 2934234 |\n| 5 | Iowa | 2003 | 20 | 2941999 |\n| 6 | Iowa | 2004 | 27 | 2953635 |\n\n",
            "text/latex": "A data.frame: 6 × 4\n\\begin{tabular}{r|llll}\n  & State & Year & Deaths & Population\\\\\n  & <chr> & <int> & <int> & <int>\\\\\n\\hline\n\t1 & Iowa & 1999 & 21 & 2917634\\\\\n\t2 & Iowa & 2000 & 23 & 2926324\\\\\n\t3 & Iowa & 2001 & 18 & 2931997\\\\\n\t4 & Iowa & 2002 & 29 & 2934234\\\\\n\t5 & Iowa & 2003 & 20 & 2941999\\\\\n\t6 & Iowa & 2004 & 27 & 2953635\\\\\n\\end{tabular}\n",
            "text/plain": [
              "  State Year Deaths Population\n",
              "1 Iowa  1999 21     2917634   \n",
              "2 Iowa  2000 23     2926324   \n",
              "3 Iowa  2001 18     2931997   \n",
              "4 Iowa  2002 29     2934234   \n",
              "5 Iowa  2003 20     2941999   \n",
              "6 Iowa  2004 27     2953635   "
            ]
          },
          "metadata": {}
        }
      ]
    },
    {
      "cell_type": "markdown",
      "source": [
        "Here the response variable $Y_i$ measures the number of occurrences (deaths) per unit time (1 year), so a Poisson distribution seems appropriate for modeling this response.  Specifically:\n",
        "\n",
        "$$P(Y_i = k_i; \\lambda) = \\frac{e^{-\\lambda\\cdot 1}(\\lambda\\cdot 1)^{k_i}}{k_i!} =  \\frac{e^{-\\lambda}\\lambda^{k_i}}{k_i!}$$"
      ],
      "metadata": {
        "id": "4cvhMnoGhsnF"
      }
    },
    {
      "cell_type": "markdown",
      "source": [
        "Recall for any model with parameter vector $\\theta$, the log-likelihood of the observed data $Y$ given values of $\\theta$ is:\n",
        "\n",
        "$$logLik(\\theta) = \\log\\left(\\prod_{i=1}^n P(Y_i = k_i;\\theta)\\right) =  \\sum_{i=1}^n \\log(P(Y_i = k_i))$$"
      ],
      "metadata": {
        "id": "TbpsXE9si8aM"
      }
    },
    {
      "cell_type": "markdown",
      "source": [
        "Consider **Model 1**, a Poisson model with a single parameter $\\lambda$ that is in common for all data values.  For this model, the log-likelihood is:\n",
        "\n",
        "$$logLik(\\lambda) = \\sum_{i=1}^n \\log\\left(\\frac{e^{-\\lambda}\\lambda^{k_i}}{k_i!}\\right),$$\n",
        "\n",
        "so each data row with observation $k_i$ HIV deaths contributes $\\log\\left(\\frac{e^{-\\lambda}\\lambda^{k_i}}{k_i!}\\right)$ to Model 1's log-likelihood."
      ],
      "metadata": {
        "id": "8VTUaqtYjDGK"
      }
    },
    {
      "cell_type": "markdown",
      "source": [
        "We want to also consider **Model 2**, a model with three parameters $(\\lambda_I, \\lambda_M, \\lambda_W)$ for Iowa, Minnesota, and Wisconsin, respectively, that allows the rate parameters to vary by state.  The Model 2 log-likelihood is:\n",
        "\n",
        "$$logLik(\\lambda_I, \\lambda_M, \\lambda_W) = \\sum_{all\\ k_i\\in IA}\\log\\left(\\frac{e^{-\\lambda_I}\\lambda_I^{k_i}}{k_i!}\\right) +\\sum_{all\\ k_i\\in MN}\\log\\left(\\frac{e^{-\\lambda_M}\\lambda_M^{k_i}}{k_i!}\\right) +\\sum_{all\\ k_i\\in WI}\\log\\left(\\frac{e^{-\\lambda_W}\\lambda_W^{k_i}}{k_i!}\\right) $$"
      ],
      "metadata": {
        "id": "d_YY0qaAmQWY"
      }
    },
    {
      "cell_type": "markdown",
      "source": [
        "## A) Warmup: Finding log-likelihood contributions\n",
        "\n",
        "Consider the following three states:"
      ],
      "metadata": {
        "id": "2Zv2_bkFnzsm"
      }
    },
    {
      "cell_type": "code",
      "source": [
        "library(dplyr)\n",
        "hiv_deaths %>%\n",
        "  slice(1, 25, 50)"
      ],
      "metadata": {
        "colab": {
          "base_uri": "https://localhost:8080/",
          "height": 192
        },
        "id": "Q8Bqwa_coWuq",
        "outputId": "4cdeda6a-c802-4744-f749-44275b22da86"
      },
      "execution_count": 48,
      "outputs": [
        {
          "output_type": "display_data",
          "data": {
            "text/html": [
              "<table class=\"dataframe\">\n",
              "<caption>A data.frame: 3 × 4</caption>\n",
              "<thead>\n",
              "\t<tr><th scope=col>State</th><th scope=col>Year</th><th scope=col>Deaths</th><th scope=col>Population</th></tr>\n",
              "\t<tr><th scope=col>&lt;chr&gt;</th><th scope=col>&lt;int&gt;</th><th scope=col>&lt;int&gt;</th><th scope=col>&lt;int&gt;</th></tr>\n",
              "</thead>\n",
              "<tbody>\n",
              "\t<tr><td>Iowa     </td><td>1999</td><td>21</td><td>2917634</td></tr>\n",
              "\t<tr><td>Minnesota</td><td>2001</td><td>53</td><td>4982796</td></tr>\n",
              "\t<tr><td>Wisconsin</td><td>2004</td><td>48</td><td>5514026</td></tr>\n",
              "</tbody>\n",
              "</table>\n"
            ],
            "text/markdown": "\nA data.frame: 3 × 4\n\n| State &lt;chr&gt; | Year &lt;int&gt; | Deaths &lt;int&gt; | Population &lt;int&gt; |\n|---|---|---|---|\n| Iowa      | 1999 | 21 | 2917634 |\n| Minnesota | 2001 | 53 | 4982796 |\n| Wisconsin | 2004 | 48 | 5514026 |\n\n",
            "text/latex": "A data.frame: 3 × 4\n\\begin{tabular}{llll}\n State & Year & Deaths & Population\\\\\n <chr> & <int> & <int> & <int>\\\\\n\\hline\n\t Iowa      & 1999 & 21 & 2917634\\\\\n\t Minnesota & 2001 & 53 & 4982796\\\\\n\t Wisconsin & 2004 & 48 & 5514026\\\\\n\\end{tabular}\n",
            "text/plain": [
              "  State     Year Deaths Population\n",
              "1 Iowa      1999 21     2917634   \n",
              "2 Minnesota 2001 53     4982796   \n",
              "3 Wisconsin 2004 48     5514026   "
            ]
          },
          "metadata": {}
        }
      ]
    },
    {
      "cell_type": "markdown",
      "source": [
        "### i) Model 1\n",
        "\n",
        "What is the total contribution of these three data values to the Model 1 log-likelihood, as a function of $\\lambda$?"
      ],
      "metadata": {
        "id": "_00fTU8Sogkh"
      }
    },
    {
      "cell_type": "markdown",
      "source": [
        "# **A i - Answer:**\n",
        "\n",
        "$$logLik(\\lambda) = \\sum_{i=1}^n \\log\\left(\\frac{e^{-\\lambda}\\lambda^{k_i}}\n",
        "{k_i!}\\right)$$\n",
        "$$= \\log\\left(\\frac{e^{-\\lambda}\\lambda^{21}}{21!}\\right) +\n",
        "\\log\\left(\\frac{e^{-\\lambda}\\lambda^{53}}{53!}\\right) +\n",
        "\\log\\left(\\frac{e^{-\\lambda}\\lambda^{48}}{48!}\\right)$$\n",
        "\n",
        "  - n = 3\n",
        "  - $k_1$ = 21\n",
        "  - $k_2$ = 53\n",
        "  - $k_3$ = 48"
      ],
      "metadata": {
        "id": "LX1X1J9VWx0N"
      }
    },
    {
      "cell_type": "markdown",
      "source": [
        "### ii) Model 2\n",
        "\n",
        "What is the total contribution of these three data values to the Model 2 log-likelihood, as a function of $(\\lambda_I, \\lambda_M, \\lambda_W)$?"
      ],
      "metadata": {
        "id": "RMVaUeRQqQOe"
      }
    },
    {
      "cell_type": "markdown",
      "source": [
        "# **A ii - Answer:**\n",
        "$$logLik(\\lambda_I, \\lambda_M, \\lambda_W) = \\sum_{all\\ k_i\\in IA}\\log\\left(\\frac{e^{-\\lambda_I}\\lambda_I^{k_i}}{k_i!}\\right) +\\sum_{all\\ k_i\\in MN}\\log\\left(\\frac{e^{-\\lambda_M}\\lambda_M^{k_i}}{k_i!}\\right) +\\sum_{all\\ k_i\\in WI}\\log\\left(\\frac{e^{-\\lambda_W}\\lambda_W^{k_i}}{k_i!}\\right) $$\n",
        "\n",
        "  - $$\\sum_{all\\ k_i\\in IA}\\log\\left(\\frac{e^{-\\lambda_W}\\lambda_W^{21}}{21!}\\right) $$\n",
        "  - $$\\sum_{all\\ k_i\\in MN}\\log\\left(\\frac{e^{-\\lambda_W}\\lambda_W^{53}}{53!}\\right) $$\n",
        "  - $$\\sum_{all\\ k_i\\in WI}\\log\\left(\\frac{e^{-\\lambda_W}\\lambda_W^{48}}{48!}\\right) $$\n",
        "\n",
        "\n",
        "$$logLik(\\lambda_I, \\lambda_M, \\lambda_W) = \\sum_{all\\ k_i\\in IA}\\log\\left(\\frac{e^{-\\lambda_I}\\lambda_I^{21}}{21!}\\right) +\\sum_{all\\ k_i\\in MN}\\log\\left(\\frac{e^{-\\lambda_M}\\lambda_M^{53}}{53!}\\right) +\\sum_{all\\ k_i\\in WI}\\log\\left(\\frac{e^{-\\lambda_W}\\lambda_W^{48}}{48!}\\right) $$"
      ],
      "metadata": {
        "id": "3CTfoGoqatFR"
      }
    },
    {
      "cell_type": "markdown",
      "source": [
        "## B) Writing the log-likelihood functions\n"
      ],
      "metadata": {
        "id": "wraagyM8ktgg"
      }
    },
    {
      "cell_type": "markdown",
      "source": [
        "### i) Model 1\n",
        "\n",
        "\n",
        "Write a function `loglik.model1(lambda)` that takes as an argument a single parameter $\\lambda$ and returns the log-likelihood of all the observed data values.  Check that it works by verifying `loglik.model1(30)` returns `-491.7487`."
      ],
      "metadata": {
        "id": "jw89rxturCaq"
      }
    },
    {
      "cell_type": "code",
      "source": [
        "loglik.model1 <- function(lambda) {\n",
        "  log_likelihood <- sum(dpois(hiv_deaths$Deaths, lambda = lambda, log = TRUE))\n",
        "  return(log_likelihood)\n",
        "}"
      ],
      "metadata": {
        "id": "0be_h7najhFY"
      },
      "execution_count": 49,
      "outputs": []
    },
    {
      "cell_type": "code",
      "source": [
        "# verifying loglik.model1(30) returns -491.7487\n",
        "loglik.model1(30)"
      ],
      "metadata": {
        "colab": {
          "base_uri": "https://localhost:8080/",
          "height": 34
        },
        "id": "-XLPZI0Cmwhu",
        "outputId": "5666c756-d570-494a-aa8e-a8d26c83d0a7"
      },
      "execution_count": 50,
      "outputs": [
        {
          "output_type": "display_data",
          "data": {
            "text/html": [
              "-491.748700297101"
            ],
            "text/markdown": "-491.748700297101",
            "text/latex": "-491.748700297101",
            "text/plain": [
              "[1] -491.7487"
            ]
          },
          "metadata": {}
        }
      ]
    },
    {
      "cell_type": "markdown",
      "source": [
        "### ii) Model 2\n",
        "\n",
        "Write a function `loglik.model2(lambdavec)` that takes as an argument a vector of 3 parameters $(\\lambda_I, \\lambda_M, \\lambda_W)$ and returns the log-likelihood of all the observed data values for those parameters.  Check that it works by verifying `loglik.model2(c(20, 50, 40))` returns `-315.1246367`.\n",
        "\n",
        "Hint: the code below calculates the contribution of each row to the Model 2 log-likelihood when $(\\lambda_I, \\lambda_M, \\lambda_W)=(30, 30, 30)$, then finds the total contribution."
      ],
      "metadata": {
        "id": "FZHGbV5FrJ_9"
      }
    },
    {
      "cell_type": "code",
      "source": [
        "lambdaI <- 30\n",
        "lambdaM  <- 30\n",
        "lambdaW <- 30\n",
        "example <- hiv_deaths %>%\n",
        "  mutate(model2.loglik.contribution = case_when(State=='Iowa'~log(dpois(Deaths, lambdaI)),\n",
        "                                                State=='Minnesota'~log(dpois(Deaths, lambdaM)),\n",
        "                                                State=='Wisconsin'~log(dpois(Deaths, lambdaW))\n",
        "                                                )\n",
        "        )"
      ],
      "metadata": {
        "id": "gRs2XXV_shSd"
      },
      "execution_count": 51,
      "outputs": []
    },
    {
      "cell_type": "code",
      "source": [
        "head(example)"
      ],
      "metadata": {
        "colab": {
          "base_uri": "https://localhost:8080/",
          "height": 286
        },
        "id": "EsVKXv5kxYUh",
        "outputId": "8490d830-2ec5-4746-b297-4a5dcb2c8bc3"
      },
      "execution_count": 52,
      "outputs": [
        {
          "output_type": "display_data",
          "data": {
            "text/html": [
              "<table class=\"dataframe\">\n",
              "<caption>A data.frame: 6 × 5</caption>\n",
              "<thead>\n",
              "\t<tr><th></th><th scope=col>State</th><th scope=col>Year</th><th scope=col>Deaths</th><th scope=col>Population</th><th scope=col>model2.loglik.contribution</th></tr>\n",
              "\t<tr><th></th><th scope=col>&lt;chr&gt;</th><th scope=col>&lt;int&gt;</th><th scope=col>&lt;int&gt;</th><th scope=col>&lt;int&gt;</th><th scope=col>&lt;dbl&gt;</th></tr>\n",
              "</thead>\n",
              "<tbody>\n",
              "\t<tr><th scope=row>1</th><td>Iowa</td><td>1999</td><td>21</td><td>2917634</td><td>-3.954994</td></tr>\n",
              "\t<tr><th scope=row>2</th><td>Iowa</td><td>2000</td><td>23</td><td>2926324</td><td>-3.379136</td></tr>\n",
              "\t<tr><th scope=row>3</th><td>Iowa</td><td>2001</td><td>18</td><td>2931997</td><td>-5.173892</td></tr>\n",
              "\t<tr><th scope=row>4</th><td>Iowa</td><td>2002</td><td>29</td><td>2934234</td><td>-2.622315</td></tr>\n",
              "\t<tr><th scope=row>5</th><td>Iowa</td><td>2003</td><td>20</td><td>2941999</td><td>-4.311669</td></tr>\n",
              "\t<tr><th scope=row>6</th><td>Iowa</td><td>2004</td><td>27</td><td>2953635</td><td>-2.725209</td></tr>\n",
              "</tbody>\n",
              "</table>\n"
            ],
            "text/markdown": "\nA data.frame: 6 × 5\n\n| <!--/--> | State &lt;chr&gt; | Year &lt;int&gt; | Deaths &lt;int&gt; | Population &lt;int&gt; | model2.loglik.contribution &lt;dbl&gt; |\n|---|---|---|---|---|---|\n| 1 | Iowa | 1999 | 21 | 2917634 | -3.954994 |\n| 2 | Iowa | 2000 | 23 | 2926324 | -3.379136 |\n| 3 | Iowa | 2001 | 18 | 2931997 | -5.173892 |\n| 4 | Iowa | 2002 | 29 | 2934234 | -2.622315 |\n| 5 | Iowa | 2003 | 20 | 2941999 | -4.311669 |\n| 6 | Iowa | 2004 | 27 | 2953635 | -2.725209 |\n\n",
            "text/latex": "A data.frame: 6 × 5\n\\begin{tabular}{r|lllll}\n  & State & Year & Deaths & Population & model2.loglik.contribution\\\\\n  & <chr> & <int> & <int> & <int> & <dbl>\\\\\n\\hline\n\t1 & Iowa & 1999 & 21 & 2917634 & -3.954994\\\\\n\t2 & Iowa & 2000 & 23 & 2926324 & -3.379136\\\\\n\t3 & Iowa & 2001 & 18 & 2931997 & -5.173892\\\\\n\t4 & Iowa & 2002 & 29 & 2934234 & -2.622315\\\\\n\t5 & Iowa & 2003 & 20 & 2941999 & -4.311669\\\\\n\t6 & Iowa & 2004 & 27 & 2953635 & -2.725209\\\\\n\\end{tabular}\n",
            "text/plain": [
              "  State Year Deaths Population model2.loglik.contribution\n",
              "1 Iowa  1999 21     2917634    -3.954994                 \n",
              "2 Iowa  2000 23     2926324    -3.379136                 \n",
              "3 Iowa  2001 18     2931997    -5.173892                 \n",
              "4 Iowa  2002 29     2934234    -2.622315                 \n",
              "5 Iowa  2003 20     2941999    -4.311669                 \n",
              "6 Iowa  2004 27     2953635    -2.725209                 "
            ]
          },
          "metadata": {}
        }
      ]
    },
    {
      "cell_type": "code",
      "source": [
        "loglik.model2 <- function(lambdavec) {\n",
        "  # need to assign the correct lambda values to the corresponding states using case_when()\n",
        "  log_likelihood <- hiv_deaths %>%\n",
        "    mutate(model2_loglik_contribution = case_when(State == \"Iowa\" ~ dpois(Deaths, lambda = lambdavec[1], log = TRUE),\n",
        "                                                  State == \"Minnesota\" ~ dpois(Deaths, lambda = lambdavec[2], log = TRUE),\n",
        "                                                  State == \"Wisconsin\" ~ dpois(Deaths, lambda = lambdavec[3], log = TRUE)\n",
        "    )) %>%\n",
        "    summarise(total_loglik = sum(model2_loglik_contribution)) %>%\n",
        "    pull(total_loglik)\n",
        "\n",
        "  return(log_likelihood)\n",
        "}"
      ],
      "metadata": {
        "id": "yQDnvFQKsfKn"
      },
      "execution_count": 53,
      "outputs": []
    },
    {
      "cell_type": "code",
      "source": [
        "# verifying loglik.model2(c(20, 50, 40)) returns -315.1246367.\n",
        "loglik.model2(c(20, 50, 40))"
      ],
      "metadata": {
        "colab": {
          "base_uri": "https://localhost:8080/",
          "height": 34
        },
        "id": "XgohwUINnVhC",
        "outputId": "b2102483-8cef-4e82-9cbc-cf5178dfd008"
      },
      "execution_count": 54,
      "outputs": [
        {
          "output_type": "display_data",
          "data": {
            "text/html": [
              "-315.124636796004"
            ],
            "text/markdown": "-315.124636796004",
            "text/latex": "-315.124636796004",
            "text/plain": [
              "[1] -315.1246"
            ]
          },
          "metadata": {}
        }
      ]
    },
    {
      "cell_type": "markdown",
      "source": [
        "## C) Maximizing the log-likelihoods\n",
        "\n",
        "Find the maximum likelihood estimators (MLEs) for the two models:"
      ],
      "metadata": {
        "id": "DakTn-xBz5z6"
      }
    },
    {
      "cell_type": "markdown",
      "source": [
        "### i) Model 1\n",
        "\n",
        "Use `optimize()` and `loglik.model1()` to find the MLE of $\\lambda$ for the single-parameter Model 1.  Verify that the MLE is just the average number of deaths across all states in the data set."
      ],
      "metadata": {
        "id": "Vv61vBDI0GWh"
      }
    },
    {
      "cell_type": "code",
      "source": [
        "# the average number of deaths across all states\n",
        "hiv_deaths %>%\n",
        "  summarise(average_deaths = mean(Deaths))"
      ],
      "metadata": {
        "colab": {
          "base_uri": "https://localhost:8080/",
          "height": 129
        },
        "id": "crsHuZJtD1uM",
        "outputId": "bdfccef0-27fc-45a6-931f-9c1e58f6e973"
      },
      "execution_count": 55,
      "outputs": [
        {
          "output_type": "display_data",
          "data": {
            "text/html": [
              "<table class=\"dataframe\">\n",
              "<caption>A data.frame: 1 × 1</caption>\n",
              "<thead>\n",
              "\t<tr><th scope=col>average_deaths</th></tr>\n",
              "\t<tr><th scope=col>&lt;dbl&gt;</th></tr>\n",
              "</thead>\n",
              "<tbody>\n",
              "\t<tr><td>36.77273</td></tr>\n",
              "</tbody>\n",
              "</table>\n"
            ],
            "text/markdown": "\nA data.frame: 1 × 1\n\n| average_deaths &lt;dbl&gt; |\n|---|\n| 36.77273 |\n\n",
            "text/latex": "A data.frame: 1 × 1\n\\begin{tabular}{l}\n average\\_deaths\\\\\n <dbl>\\\\\n\\hline\n\t 36.77273\\\\\n\\end{tabular}\n",
            "text/plain": [
              "  average_deaths\n",
              "1 36.77273      "
            ]
          },
          "metadata": {}
        }
      ]
    },
    {
      "cell_type": "markdown",
      "source": [
        "<font color = red>**Question:**\n",
        "<br>\n",
        "Am I suppposes to guess the \"interval\" based on the average deaths? (see note 3.1)"
      ],
      "metadata": {
        "id": "HFoZrrwMHEJi"
      }
    },
    {
      "cell_type": "code",
      "source": [
        "# my verification with optimize()\n",
        "optimize(loglik.model1, interval = c(0, 100), maximum = TRUE)"
      ],
      "metadata": {
        "id": "BQT0ddDPvcH8",
        "outputId": "373a7f98-9ea8-436a-dad4-ea53de626230",
        "colab": {
          "base_uri": "https://localhost:8080/",
          "height": 114
        }
      },
      "execution_count": 56,
      "outputs": [
        {
          "output_type": "display_data",
          "data": {
            "text/html": [
              "<dl>\n",
              "\t<dt>$maximum</dt>\n",
              "\t\t<dd>36.7727246066064</dd>\n",
              "\t<dt>$objective</dt>\n",
              "\t\t<dd>-444.710808190832</dd>\n",
              "</dl>\n"
            ],
            "text/markdown": "$maximum\n:   36.7727246066064\n$objective\n:   -444.710808190832\n\n\n",
            "text/latex": "\\begin{description}\n\\item[\\$maximum] 36.7727246066064\n\\item[\\$objective] -444.710808190832\n\\end{description}\n",
            "text/plain": [
              "$maximum\n",
              "[1] 36.77272\n",
              "\n",
              "$objective\n",
              "[1] -444.7108\n"
            ]
          },
          "metadata": {}
        }
      ]
    },
    {
      "cell_type": "markdown",
      "source": [
        "### ii) Model 2\n",
        "\n",
        "Use `optim()` and `loglik.model2()` to find the MLE of $(\\lambda_I, \\lambda_M, \\lambda_W)$ for the three-parameter Model 2.  Verify that the MLEs are the average number of deaths by state in the data set."
      ],
      "metadata": {
        "id": "nf6mun0F0Z3s"
      }
    },
    {
      "cell_type": "markdown",
      "source": [
        "**<font color = red> Refer to the note 3.2**\n",
        "<br>\n",
        "You cannot use \"optimize\" function when you have multiple parameters.\n",
        "<br>\n",
        "Instead, use \"optim\"."
      ],
      "metadata": {
        "id": "kfDWJJAHVKDC"
      }
    },
    {
      "cell_type": "code",
      "source": [
        "# the average number of deaths by state\n",
        "hiv_deaths %>%\n",
        "  group_by(State) %>%\n",
        "  summarise(average_deaths = mean(Deaths))"
      ],
      "metadata": {
        "colab": {
          "base_uri": "https://localhost:8080/",
          "height": 192
        },
        "id": "8xmNxGUWEHK7",
        "outputId": "30157da4-82b6-4408-c533-3ff4214ddc41"
      },
      "execution_count": 57,
      "outputs": [
        {
          "output_type": "display_data",
          "data": {
            "text/html": [
              "<table class=\"dataframe\">\n",
              "<caption>A tibble: 3 × 2</caption>\n",
              "<thead>\n",
              "\t<tr><th scope=col>State</th><th scope=col>average_deaths</th></tr>\n",
              "\t<tr><th scope=col>&lt;chr&gt;</th><th scope=col>&lt;dbl&gt;</th></tr>\n",
              "</thead>\n",
              "<tbody>\n",
              "\t<tr><td>Iowa     </td><td>19.50000</td></tr>\n",
              "\t<tr><td>Minnesota</td><td>43.95455</td></tr>\n",
              "\t<tr><td>Wisconsin</td><td>46.86364</td></tr>\n",
              "</tbody>\n",
              "</table>\n"
            ],
            "text/markdown": "\nA tibble: 3 × 2\n\n| State &lt;chr&gt; | average_deaths &lt;dbl&gt; |\n|---|---|\n| Iowa      | 19.50000 |\n| Minnesota | 43.95455 |\n| Wisconsin | 46.86364 |\n\n",
            "text/latex": "A tibble: 3 × 2\n\\begin{tabular}{ll}\n State & average\\_deaths\\\\\n <chr> & <dbl>\\\\\n\\hline\n\t Iowa      & 19.50000\\\\\n\t Minnesota & 43.95455\\\\\n\t Wisconsin & 46.86364\\\\\n\\end{tabular}\n",
            "text/plain": [
              "  State     average_deaths\n",
              "1 Iowa      19.50000      \n",
              "2 Minnesota 43.95455      \n",
              "3 Wisconsin 46.86364      "
            ]
          },
          "metadata": {}
        }
      ]
    },
    {
      "cell_type": "code",
      "source": [
        "# my verification with optim()\n",
        "optim(par = c(30, 30, 30),\n",
        "      fn = loglik.model2,\n",
        "      control = list(fnscale = -1))"
      ],
      "metadata": {
        "colab": {
          "base_uri": "https://localhost:8080/",
          "height": 219
        },
        "id": "7wyMKzMLVrIr",
        "outputId": "25fd66b6-eb9f-4e0b-e017-fd90a1d9a82d"
      },
      "execution_count": 58,
      "outputs": [
        {
          "output_type": "display_data",
          "data": {
            "text/html": [
              "<dl>\n",
              "\t<dt>$par</dt>\n",
              "\t\t<dd><style>\n",
              ".list-inline {list-style: none; margin:0; padding: 0}\n",
              ".list-inline>li {display: inline-block}\n",
              ".list-inline>li:not(:last-child)::after {content: \"\\00b7\"; padding: 0 .5ex}\n",
              "</style>\n",
              "<ol class=list-inline><li>19.4995106990696</li><li>43.9498452579646</li><li>46.8610136819688</li></ol>\n",
              "</dd>\n",
              "\t<dt>$value</dt>\n",
              "\t\t<dd>-294.328520825565</dd>\n",
              "\t<dt>$counts</dt>\n",
              "\t\t<dd><style>\n",
              ".dl-inline {width: auto; margin:0; padding: 0}\n",
              ".dl-inline>dt, .dl-inline>dd {float: none; width: auto; display: inline-block}\n",
              ".dl-inline>dt::after {content: \":\\0020\"; padding-right: .5ex}\n",
              ".dl-inline>dt:not(:first-of-type) {padding-left: .5ex}\n",
              "</style><dl class=dl-inline><dt>function</dt><dd>136</dd><dt>gradient</dt><dd>&lt;NA&gt;</dd></dl>\n",
              "</dd>\n",
              "\t<dt>$convergence</dt>\n",
              "\t\t<dd>0</dd>\n",
              "\t<dt>$message</dt>\n",
              "\t\t<dd>NULL</dd>\n",
              "</dl>\n"
            ],
            "text/markdown": "$par\n:   1. 19.4995106990696\n2. 43.9498452579646\n3. 46.8610136819688\n\n\n\n$value\n:   -294.328520825565\n$counts\n:   function\n:   136gradient\n:   &lt;NA&gt;\n\n\n$convergence\n:   0\n$message\n:   NULL\n\n\n",
            "text/latex": "\\begin{description}\n\\item[\\$par] \\begin{enumerate*}\n\\item 19.4995106990696\n\\item 43.9498452579646\n\\item 46.8610136819688\n\\end{enumerate*}\n\n\\item[\\$value] -294.328520825565\n\\item[\\$counts] \\begin{description*}\n\\item[function] 136\n\\item[gradient] <NA>\n\\end{description*}\n\n\\item[\\$convergence] 0\n\\item[\\$message] NULL\n\\end{description}\n",
            "text/plain": [
              "$par\n",
              "[1] 19.49951 43.94985 46.86101\n",
              "\n",
              "$value\n",
              "[1] -294.3285\n",
              "\n",
              "$counts\n",
              "function gradient \n",
              "     136       NA \n",
              "\n",
              "$convergence\n",
              "[1] 0\n",
              "\n",
              "$message\n",
              "NULL\n"
            ]
          },
          "metadata": {}
        }
      ]
    },
    {
      "cell_type": "markdown",
      "source": [
        "## D) Comparing the models\n"
      ],
      "metadata": {
        "id": "_0xRGuGM0tLA"
      }
    },
    {
      "cell_type": "markdown",
      "source": [
        "### i) AIC, BIC\n",
        "Fill in the table below with the model metrics:\n",
        "\n",
        "Model | Number of parameters | Maximized log-likelihood | AIC | BIC |\n",
        "--- | --- | --- | --- | --- |\n",
        "1   | 1 | -444.7108 | 891.42 | 893.61  |\n",
        "2   | 3 | -294.3285 | 594.66 | 601.23  |\n"
      ],
      "metadata": {
        "id": "4woMh4Wv1MdM"
      }
    },
    {
      "cell_type": "markdown",
      "source": [
        "![image.png](data:image/png;base64,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)"
      ],
      "metadata": {
        "id": "h5ZiafI1eC_N"
      }
    },
    {
      "cell_type": "code",
      "source": [
        "# AIC of Model 1 (1 parameter model):\n",
        "-2 * -444.7108 + 2 * 1"
      ],
      "metadata": {
        "colab": {
          "base_uri": "https://localhost:8080/",
          "height": 34
        },
        "id": "6viXYN97dxPx",
        "outputId": "dda3b2fa-6f34-41cf-995d-d360ca9caab0"
      },
      "execution_count": 59,
      "outputs": [
        {
          "output_type": "display_data",
          "data": {
            "text/html": [
              "891.4216"
            ],
            "text/markdown": "891.4216",
            "text/latex": "891.4216",
            "text/plain": [
              "[1] 891.4216"
            ]
          },
          "metadata": {}
        }
      ]
    },
    {
      "cell_type": "code",
      "source": [
        "# AIC of Model 2 (3 parameters model):\n",
        "-2 * -294.3285 + 2 * 3"
      ],
      "metadata": {
        "colab": {
          "base_uri": "https://localhost:8080/",
          "height": 34
        },
        "id": "aEzoWriddxey",
        "outputId": "fcf6b909-9f19-4c42-b7f8-a365c7c14f5c"
      },
      "execution_count": 60,
      "outputs": [
        {
          "output_type": "display_data",
          "data": {
            "text/html": [
              "594.657"
            ],
            "text/markdown": "594.657",
            "text/latex": "594.657",
            "text/plain": [
              "[1] 594.657"
            ]
          },
          "metadata": {}
        }
      ]
    },
    {
      "cell_type": "code",
      "source": [
        "# There are 66 rows in the df\n",
        "hiv_deaths %>%\n",
        "  summarise(n = n())"
      ],
      "metadata": {
        "colab": {
          "base_uri": "https://localhost:8080/",
          "height": 164
        },
        "id": "RB1vIFZqe9dy",
        "outputId": "7138dada-7308-4bf9-9045-979756b4b266"
      },
      "execution_count": 61,
      "outputs": [
        {
          "output_type": "display_data",
          "data": {
            "text/html": [
              "<table class=\"dataframe\">\n",
              "<caption>A data.frame: 1 × 1</caption>\n",
              "<thead>\n",
              "\t<tr><th scope=col>n</th></tr>\n",
              "\t<tr><th scope=col>&lt;int&gt;</th></tr>\n",
              "</thead>\n",
              "<tbody>\n",
              "\t<tr><td>66</td></tr>\n",
              "</tbody>\n",
              "</table>\n"
            ],
            "text/markdown": "\nA data.frame: 1 × 1\n\n| n &lt;int&gt; |\n|---|\n| 66 |\n\n",
            "text/latex": "A data.frame: 1 × 1\n\\begin{tabular}{l}\n n\\\\\n <int>\\\\\n\\hline\n\t 66\\\\\n\\end{tabular}\n",
            "text/plain": [
              "  n \n",
              "1 66"
            ]
          },
          "metadata": {}
        }
      ]
    },
    {
      "cell_type": "code",
      "source": [
        "# BIC of Model 1 (1 parameter model):\n",
        "-2 * -444.7108  + log(66) * 1"
      ],
      "metadata": {
        "colab": {
          "base_uri": "https://localhost:8080/",
          "height": 34
        },
        "id": "VxwjlFjneaSG",
        "outputId": "244a829b-38da-4624-9133-3a6df9c589d7"
      },
      "execution_count": 62,
      "outputs": [
        {
          "output_type": "display_data",
          "data": {
            "text/html": [
              "893.611254742026"
            ],
            "text/markdown": "893.611254742026",
            "text/latex": "893.611254742026",
            "text/plain": [
              "[1] 893.6113"
            ]
          },
          "metadata": {}
        }
      ]
    },
    {
      "cell_type": "code",
      "source": [
        "# BIC of Model 2 (3 parameter model):\n",
        "-2 * -294.3285  + log(66) * 3"
      ],
      "metadata": {
        "colab": {
          "base_uri": "https://localhost:8080/",
          "height": 34
        },
        "id": "siFu9-CoefqN",
        "outputId": "64518bac-a926-4812-ad7d-cdb16875f4e1"
      },
      "execution_count": 63,
      "outputs": [
        {
          "output_type": "display_data",
          "data": {
            "text/html": [
              "601.225964226079"
            ],
            "text/markdown": "601.225964226079",
            "text/latex": "601.225964226079",
            "text/plain": [
              "[1] 601.226"
            ]
          },
          "metadata": {}
        }
      ]
    },
    {
      "cell_type": "markdown",
      "source": [
        "### ii) Likelihood ratio test\n",
        "\n",
        "Find the likelihood ratio test statistic and its associated p-value."
      ],
      "metadata": {
        "id": "Mv_uieoA1bsi"
      }
    },
    {
      "cell_type": "markdown",
      "source": [
        "![image.png](data:image/png;base64,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)"
      ],
      "metadata": {
        "id": "-RJoOXXRk-Di"
      }
    },
    {
      "cell_type": "code",
      "source": [
        "# Difference in maximized log-likelihoods\n",
        "# Always be positive\n",
        "-294.3285 - -444.7108"
      ],
      "metadata": {
        "colab": {
          "base_uri": "https://localhost:8080/",
          "height": 34
        },
        "id": "mPu5yuIzg6Vs",
        "outputId": "524c9916-89e2-407a-95fd-a5d1176b47b7"
      },
      "execution_count": 64,
      "outputs": [
        {
          "output_type": "display_data",
          "data": {
            "text/html": [
              "150.3823"
            ],
            "text/markdown": "150.3823",
            "text/latex": "150.3823",
            "text/plain": [
              "[1] 150.3823"
            ]
          },
          "metadata": {}
        }
      ]
    },
    {
      "cell_type": "code",
      "source": [
        "# This is something = similar to F-stat\n",
        "LambdaStat <- 2*(-294.3285 - -444.7108)\n",
        "LambdaStat"
      ],
      "metadata": {
        "colab": {
          "base_uri": "https://localhost:8080/",
          "height": 34
        },
        "id": "LK-0kp_UlgrW",
        "outputId": "48b8108b-1b81-418f-c669-11ebb6a2d825"
      },
      "execution_count": 65,
      "outputs": [
        {
          "output_type": "display_data",
          "data": {
            "text/html": [
              "300.7646"
            ],
            "text/markdown": "300.7646",
            "text/latex": "300.7646",
            "text/plain": [
              "[1] 300.7646"
            ]
          },
          "metadata": {}
        }
      ]
    },
    {
      "cell_type": "code",
      "source": [
        "# P-value, probability if observing 300.76 Or LARGER:\n",
        "# (pchisq finds 4.88 Or LOWER by default)\n",
        "1 - pchisq(300.76, df = 3-1)"
      ],
      "metadata": {
        "colab": {
          "base_uri": "https://localhost:8080/",
          "height": 34
        },
        "id": "QK0ZdoUulq6O",
        "outputId": "2ee1cb7c-3cc4-4533-d88e-aaf77c433a5c"
      },
      "execution_count": 66,
      "outputs": [
        {
          "output_type": "display_data",
          "data": {
            "text/html": [
              "0"
            ],
            "text/markdown": "0",
            "text/latex": "0",
            "text/plain": [
              "[1] 0"
            ]
          },
          "metadata": {}
        }
      ]
    },
    {
      "cell_type": "markdown",
      "source": [
        "# **D ii - Answer:**\n",
        "**p-value is 0.00 < 0.05, so we have sufficient evidence that the 3-parameter model (Model 2) improves the fit.**"
      ],
      "metadata": {
        "id": "ZT4jUgnRmplN"
      }
    },
    {
      "cell_type": "markdown",
      "source": [
        "## E) Summary and conclusion\n",
        "\n",
        "Take a step back and summarize your findings.  How do HIV deaths vary across state?  Is there evidence that this difference is meaningful?  Use all your results up to this point to justify your claims."
      ],
      "metadata": {
        "id": "RVH6nkH-1p4V"
      }
    },
    {
      "cell_type": "markdown",
      "source": [
        "<font color = red> **Refer to the Activity 4**"
      ],
      "metadata": {
        "id": "NfMbWmJOowoP"
      }
    },
    {
      "cell_type": "markdown",
      "source": [
        "# **E - Answer:**\n",
        "**We reject the null hypothesis (p < 0.05). In the other words, we support the alternative hypothesis (Model 2). This indicates that the difference in the HIV death rate in each state has a statistically significant difference.**"
      ],
      "metadata": {
        "id": "ITImG9KTmg2P"
      }
    },
    {
      "cell_type": "markdown",
      "source": [
        "# Question 2 (30 points)\n",
        "\n",
        "A topic of some interest in the genetics literature over the past 30 years has been the study of sex-ratio data. In particular, one suggested hypothesis is that there are enough families with an unbalanced sex ratio among their children that the sexes of successive childbirths are not independent random variables but are rather related to each other. This hypothesis suggests that if a couple’s first child is (fe)male, they are more likely to have (fe)male children in successive births. (Personal anecdote: among my wife and her siblings, one has five children (all boys); one has four children (all girls); one has three children (all girls); and my wife and I have two children (both boys). Nobody has yet had two children of different sexes. Coincidence or signal?) The data in the Sex Ratio file report on 175,313 children from 51,868 families with at least two children.  For families with more than 5 children, the sexes of just the first 5 are given.  Thus the maximium family size reported is 5.\n"
      ],
      "metadata": {
        "id": "_IrR7R9rNOKy"
      }
    },
    {
      "cell_type": "code",
      "source": [
        "sexratios <- read.csv('https://www.dropbox.com/s/c04146dc7gbz5kr/sex_ratios_uncounted.csv?dl=1')"
      ],
      "metadata": {
        "id": "m_Y3HkXwD4wz"
      },
      "execution_count": 67,
      "outputs": []
    },
    {
      "cell_type": "markdown",
      "source": [
        "A couple exemplary families to give you a feel for the data set:"
      ],
      "metadata": {
        "id": "5dFOrA_2IMDc"
      }
    },
    {
      "cell_type": "code",
      "source": [
        "sexratios %>% filter(familyid==43515)"
      ],
      "metadata": {
        "colab": {
          "base_uri": "https://localhost:8080/",
          "height": 255
        },
        "id": "sN5zMBBaIGTC",
        "outputId": "bf1d5654-3ca7-40e7-fde1-76f881a248cb"
      },
      "execution_count": 68,
      "outputs": [
        {
          "output_type": "display_data",
          "data": {
            "text/html": [
              "<table class=\"dataframe\">\n",
              "<caption>A data.frame: 5 × 6</caption>\n",
              "<thead>\n",
              "\t<tr><th scope=col>familyid</th><th scope=col>childid</th><th scope=col>nm_chld</th><th scope=col>sexchldn</th><th scope=col>sxchld</th><th scope=col>sxprev</th></tr>\n",
              "\t<tr><th scope=col>&lt;int&gt;</th><th scope=col>&lt;int&gt;</th><th scope=col>&lt;int&gt;</th><th scope=col>&lt;chr&gt;</th><th scope=col>&lt;chr&gt;</th><th scope=col>&lt;chr&gt;</th></tr>\n",
              "</thead>\n",
              "<tbody>\n",
              "\t<tr><td>43515</td><td>1</td><td>5</td><td>MFFFM</td><td>M</td><td>First</td></tr>\n",
              "\t<tr><td>43515</td><td>2</td><td>5</td><td>MFFFM</td><td>F</td><td>M    </td></tr>\n",
              "\t<tr><td>43515</td><td>3</td><td>5</td><td>MFFFM</td><td>F</td><td>F    </td></tr>\n",
              "\t<tr><td>43515</td><td>4</td><td>5</td><td>MFFFM</td><td>F</td><td>F    </td></tr>\n",
              "\t<tr><td>43515</td><td>5</td><td>5</td><td>MFFFM</td><td>M</td><td>F    </td></tr>\n",
              "</tbody>\n",
              "</table>\n"
            ],
            "text/markdown": "\nA data.frame: 5 × 6\n\n| familyid &lt;int&gt; | childid &lt;int&gt; | nm_chld &lt;int&gt; | sexchldn &lt;chr&gt; | sxchld &lt;chr&gt; | sxprev &lt;chr&gt; |\n|---|---|---|---|---|---|\n| 43515 | 1 | 5 | MFFFM | M | First |\n| 43515 | 2 | 5 | MFFFM | F | M     |\n| 43515 | 3 | 5 | MFFFM | F | F     |\n| 43515 | 4 | 5 | MFFFM | F | F     |\n| 43515 | 5 | 5 | MFFFM | M | F     |\n\n",
            "text/latex": "A data.frame: 5 × 6\n\\begin{tabular}{llllll}\n familyid & childid & nm\\_chld & sexchldn & sxchld & sxprev\\\\\n <int> & <int> & <int> & <chr> & <chr> & <chr>\\\\\n\\hline\n\t 43515 & 1 & 5 & MFFFM & M & First\\\\\n\t 43515 & 2 & 5 & MFFFM & F & M    \\\\\n\t 43515 & 3 & 5 & MFFFM & F & F    \\\\\n\t 43515 & 4 & 5 & MFFFM & F & F    \\\\\n\t 43515 & 5 & 5 & MFFFM & M & F    \\\\\n\\end{tabular}\n",
            "text/plain": [
              "  familyid childid nm_chld sexchldn sxchld sxprev\n",
              "1 43515    1       5       MFFFM    M      First \n",
              "2 43515    2       5       MFFFM    F      M     \n",
              "3 43515    3       5       MFFFM    F      F     \n",
              "4 43515    4       5       MFFFM    F      F     \n",
              "5 43515    5       5       MFFFM    M      F     "
            ]
          },
          "metadata": {}
        }
      ]
    },
    {
      "cell_type": "code",
      "source": [
        "sexratios %>% filter(familyid==24303)"
      ],
      "metadata": {
        "colab": {
          "base_uri": "https://localhost:8080/",
          "height": 192
        },
        "id": "QsSvThMuIOdQ",
        "outputId": "a466fe5e-a62b-4145-f3a3-773fd0449edb"
      },
      "execution_count": 69,
      "outputs": [
        {
          "output_type": "display_data",
          "data": {
            "text/html": [
              "<table class=\"dataframe\">\n",
              "<caption>A data.frame: 3 × 6</caption>\n",
              "<thead>\n",
              "\t<tr><th scope=col>familyid</th><th scope=col>childid</th><th scope=col>nm_chld</th><th scope=col>sexchldn</th><th scope=col>sxchld</th><th scope=col>sxprev</th></tr>\n",
              "\t<tr><th scope=col>&lt;int&gt;</th><th scope=col>&lt;int&gt;</th><th scope=col>&lt;int&gt;</th><th scope=col>&lt;chr&gt;</th><th scope=col>&lt;chr&gt;</th><th scope=col>&lt;chr&gt;</th></tr>\n",
              "</thead>\n",
              "<tbody>\n",
              "\t<tr><td>24303</td><td>1</td><td>3</td><td>FMM</td><td>F</td><td>First</td></tr>\n",
              "\t<tr><td>24303</td><td>2</td><td>3</td><td>FMM</td><td>M</td><td>F    </td></tr>\n",
              "\t<tr><td>24303</td><td>3</td><td>3</td><td>FMM</td><td>M</td><td>M    </td></tr>\n",
              "</tbody>\n",
              "</table>\n"
            ],
            "text/markdown": "\nA data.frame: 3 × 6\n\n| familyid &lt;int&gt; | childid &lt;int&gt; | nm_chld &lt;int&gt; | sexchldn &lt;chr&gt; | sxchld &lt;chr&gt; | sxprev &lt;chr&gt; |\n|---|---|---|---|---|---|\n| 24303 | 1 | 3 | FMM | F | First |\n| 24303 | 2 | 3 | FMM | M | F     |\n| 24303 | 3 | 3 | FMM | M | M     |\n\n",
            "text/latex": "A data.frame: 3 × 6\n\\begin{tabular}{llllll}\n familyid & childid & nm\\_chld & sexchldn & sxchld & sxprev\\\\\n <int> & <int> & <int> & <chr> & <chr> & <chr>\\\\\n\\hline\n\t 24303 & 1 & 3 & FMM & F & First\\\\\n\t 24303 & 2 & 3 & FMM & M & F    \\\\\n\t 24303 & 3 & 3 & FMM & M & M    \\\\\n\\end{tabular}\n",
            "text/plain": [
              "  familyid childid nm_chld sexchldn sxchld sxprev\n",
              "1 24303    1       3       FMM      F      First \n",
              "2 24303    2       3       FMM      M      F     \n",
              "3 24303    3       3       FMM      M      M     "
            ]
          },
          "metadata": {}
        }
      ]
    },
    {
      "cell_type": "markdown",
      "source": [
        "Columns:\n",
        "\n",
        "*\t`familyid`, `childid`: IDs for family and child within family\n",
        "*\t`nm_chld`: number of children in family\n",
        "* `sexchldn`: sequence of child sex\n",
        "* `sxchld`: the sex of each child; this is the primary response variable, $Y_i$.\n",
        "* `sxprev`: one of `First`, `M`, `F` indicating whether that child was a first-born, or followed a Male or Female child, respectively.  This is the primary $X_i$ variable."
      ],
      "metadata": {
        "id": "IDPjWTnXODGr"
      }
    },
    {
      "cell_type": "markdown",
      "source": [
        "We want to consider two different models for $Y$, the binary variable indicating whether each child is male/female.  For this problem we will code $Y = 1$ for male children and $Y=0$ for female children.\n",
        "\n"
      ],
      "metadata": {
        "id": "35pcFimpNrYZ"
      }
    },
    {
      "cell_type": "markdown",
      "source": [
        "We'll consider 2 different models:"
      ],
      "metadata": {
        "id": "brxAdWjVSjTl"
      }
    },
    {
      "cell_type": "markdown",
      "source": [
        "\n",
        "***Model 1:*** the sexes of previous children are not related to the sex of the current child.  This is a one-parameter model with a single $p$ representing $P(Y_i = 1)$: the probability of a male child regardless of any previous children born.  $1-p$ represents $P(Y_i = 0)$, the probability of a female child regardless of any previous children born.\n",
        "\n",
        "Under Model 1, the contribution of each child to the log-likelihood is:\n",
        "\n",
        "$$\\log\\left(p^{k_i}(1-p)^{1-k_i}\\right) = k_i \\log(p) + (1-k_i) \\log(p)$$\n",
        "\n",
        "That is:\n",
        "\n",
        "* Each male child contributes $\\log(p)$ to the log-likelihood\n",
        "* Each female child contributes $\\log(1-p)$ to the log-likelihood"
      ],
      "metadata": {
        "id": "30v1QqNAR4Yn"
      }
    },
    {
      "cell_type": "markdown",
      "source": [
        "\n",
        "\n",
        "***Model 2:*** the probability of having a (fe)male child depends on the sex of the previous child.  We'll use three parameters for this model: $p_1$, $p_M$, and $p_F$, where:\n",
        "* $p_1 = P(Y_i = 1 | \\mbox{first-born})$ represents probability of a male on the first birth; $P(Y_i = 0 | \\mbox{first-born})=1-p_1$ represents probability of female on the first birth.\n",
        "  - Each first-born male child contributes $\\log(p_1)$ to Model 2's log-likelihood\n",
        "  - Each first-born female child contributes $\\log(1-p_1)$ to Model 2's log-likelihood  \n",
        "* $p_M=P(Y_i = 1 | \\mbox{previous child was male})$ represents probability of a male given the previous child was male; $1-p_M = P(Y_i = 0 | \\mbox{previous child was female})$ represents probability of female given the previous child was male.\n",
        "  - Each male born after a male contributes $\\log(p_M)$ to Model 2's log-likelihood\n",
        "  - Each female born after a male contributes $\\log(1-p_M)$ to Model 2's log-likelihood  \n",
        "* $p_F=P(Y_i = 1 | \\mbox{previous child was female})$ represents probability of a male given the previous child was female; $1-p_F = P(Y_i = 0 | \\mbox{previous child was female})$ represents probability of female given the previous child was female.\n",
        "  - Each male born after a female contributes $\\log(p_F)$ to Model 2's log-likelihood\n",
        "  - Each female born after a female contributes $\\log(1-p_F)$ to Model 2's log-likelihood  "
      ],
      "metadata": {
        "id": "ON43VDr1R3S9"
      }
    },
    {
      "cell_type": "markdown",
      "source": [
        "<font color = red> **Refer to the Activity 4**"
      ],
      "metadata": {
        "id": "U7EVZ0XI3j14"
      }
    },
    {
      "cell_type": "markdown",
      "source": [
        "## A) Warmup: finding log-likelihood contributions\n",
        "\n",
        "Consider the family below:"
      ],
      "metadata": {
        "id": "HjRt369r8Kuv"
      }
    },
    {
      "cell_type": "code",
      "source": [
        "family43515 <- sexratios %>% filter(familyid==43515)\n",
        "family43515"
      ],
      "metadata": {
        "colab": {
          "base_uri": "https://localhost:8080/",
          "height": 255
        },
        "id": "j3ju-7I88bx4",
        "outputId": "b32c88c2-ced7-432e-97f8-801d3c4c6902"
      },
      "execution_count": 70,
      "outputs": [
        {
          "output_type": "display_data",
          "data": {
            "text/html": [
              "<table class=\"dataframe\">\n",
              "<caption>A data.frame: 5 × 6</caption>\n",
              "<thead>\n",
              "\t<tr><th scope=col>familyid</th><th scope=col>childid</th><th scope=col>nm_chld</th><th scope=col>sexchldn</th><th scope=col>sxchld</th><th scope=col>sxprev</th></tr>\n",
              "\t<tr><th scope=col>&lt;int&gt;</th><th scope=col>&lt;int&gt;</th><th scope=col>&lt;int&gt;</th><th scope=col>&lt;chr&gt;</th><th scope=col>&lt;chr&gt;</th><th scope=col>&lt;chr&gt;</th></tr>\n",
              "</thead>\n",
              "<tbody>\n",
              "\t<tr><td>43515</td><td>1</td><td>5</td><td>MFFFM</td><td>M</td><td>First</td></tr>\n",
              "\t<tr><td>43515</td><td>2</td><td>5</td><td>MFFFM</td><td>F</td><td>M    </td></tr>\n",
              "\t<tr><td>43515</td><td>3</td><td>5</td><td>MFFFM</td><td>F</td><td>F    </td></tr>\n",
              "\t<tr><td>43515</td><td>4</td><td>5</td><td>MFFFM</td><td>F</td><td>F    </td></tr>\n",
              "\t<tr><td>43515</td><td>5</td><td>5</td><td>MFFFM</td><td>M</td><td>F    </td></tr>\n",
              "</tbody>\n",
              "</table>\n"
            ],
            "text/markdown": "\nA data.frame: 5 × 6\n\n| familyid &lt;int&gt; | childid &lt;int&gt; | nm_chld &lt;int&gt; | sexchldn &lt;chr&gt; | sxchld &lt;chr&gt; | sxprev &lt;chr&gt; |\n|---|---|---|---|---|---|\n| 43515 | 1 | 5 | MFFFM | M | First |\n| 43515 | 2 | 5 | MFFFM | F | M     |\n| 43515 | 3 | 5 | MFFFM | F | F     |\n| 43515 | 4 | 5 | MFFFM | F | F     |\n| 43515 | 5 | 5 | MFFFM | M | F     |\n\n",
            "text/latex": "A data.frame: 5 × 6\n\\begin{tabular}{llllll}\n familyid & childid & nm\\_chld & sexchldn & sxchld & sxprev\\\\\n <int> & <int> & <int> & <chr> & <chr> & <chr>\\\\\n\\hline\n\t 43515 & 1 & 5 & MFFFM & M & First\\\\\n\t 43515 & 2 & 5 & MFFFM & F & M    \\\\\n\t 43515 & 3 & 5 & MFFFM & F & F    \\\\\n\t 43515 & 4 & 5 & MFFFM & F & F    \\\\\n\t 43515 & 5 & 5 & MFFFM & M & F    \\\\\n\\end{tabular}\n",
            "text/plain": [
              "  familyid childid nm_chld sexchldn sxchld sxprev\n",
              "1 43515    1       5       MFFFM    M      First \n",
              "2 43515    2       5       MFFFM    F      M     \n",
              "3 43515    3       5       MFFFM    F      F     \n",
              "4 43515    4       5       MFFFM    F      F     \n",
              "5 43515    5       5       MFFFM    M      F     "
            ]
          },
          "metadata": {}
        }
      ]
    },
    {
      "cell_type": "markdown",
      "source": [
        "### i) Model 1\n",
        "\n",
        "What is the total contribution of this family to the Model 1 log-likelihood, as a function of $p$?"
      ],
      "metadata": {
        "id": "mvMb7yYQ8zfB"
      }
    },
    {
      "cell_type": "markdown",
      "source": [
        "# **A-i: Answer**\n",
        "**$\\log$L$(p)$ = $M*\\log(p)$ + $F*\\log(1-p)$ + $F*\\log(1-p)$ + $F*\\log(1-p)$ + $M*\\log(p)$**\n",
        "\n",
        "**$\\log$L$(p)$ = $2*\\log(p)$ + $3*\\log(1-p)$**"
      ],
      "metadata": {
        "id": "Cl6B-xslwTyt"
      }
    },
    {
      "cell_type": "markdown",
      "source": [
        "### ii) Model 2\n",
        "\n",
        "What is the total contribution of this family to the Model 2 log-likelihood, as a function of $(p_1, p_M, p_F)$?"
      ],
      "metadata": {
        "id": "9_0BbI9L8zfB"
      }
    },
    {
      "cell_type": "markdown",
      "source": [
        "# **A-ii: Answer**\n",
        "**$\\log$L$(p_1, p_M, p_F)$ = $\\log(p_1)$ + $\\log(1-p_M)$ + $\\log(1-p_F)$ + $\\log(1-p_F)$ + $\\log(p_F)$**\n",
        "\n",
        "**$\\log$L$(p_1, p_M, p_F)$ = $\\log(p_1)$ + $\\log(1-p_M)$ + $2*\\log(1-p_F)$ + $\\log(p_F)$**\n"
      ],
      "metadata": {
        "id": "hkGkmTBxyHMh"
      }
    },
    {
      "cell_type": "markdown",
      "source": [
        "## B) Writing the log-likelihood functions\n"
      ],
      "metadata": {
        "id": "iAPB5VMw9D5k"
      }
    },
    {
      "cell_type": "markdown",
      "source": [
        "### i) Model 1\n",
        "\n",
        "\n",
        "Write a function `loglik.model1(p)` that takes as an argument a single parameter $p$ and returns the log-likelihood of all the observed data values.  \n",
        "\n",
        "Check your code by ensuring it matches:\n",
        "\n",
        "\n",
        "`loglik.model1(0.4)`\n",
        "\n",
        "`-125549.537551589`"
      ],
      "metadata": {
        "id": "-RMUYyWa9D5k"
      }
    },
    {
      "cell_type": "code",
      "source": [
        "sexratios %>%\n",
        "  group_by(sxchld) %>%\n",
        "  summarise(n = n())"
      ],
      "metadata": {
        "colab": {
          "base_uri": "https://localhost:8080/",
          "height": 161
        },
        "id": "VAm2DTZw27bg",
        "outputId": "480343cf-c1fb-44ef-c312-0a704216666f"
      },
      "execution_count": 71,
      "outputs": [
        {
          "output_type": "display_data",
          "data": {
            "text/html": [
              "<table class=\"dataframe\">\n",
              "<caption>A tibble: 2 × 2</caption>\n",
              "<thead>\n",
              "\t<tr><th scope=col>sxchld</th><th scope=col>n</th></tr>\n",
              "\t<tr><th scope=col>&lt;chr&gt;</th><th scope=col>&lt;int&gt;</th></tr>\n",
              "</thead>\n",
              "<tbody>\n",
              "\t<tr><td>F</td><td>86538</td></tr>\n",
              "\t<tr><td>M</td><td>88775</td></tr>\n",
              "</tbody>\n",
              "</table>\n"
            ],
            "text/markdown": "\nA tibble: 2 × 2\n\n| sxchld &lt;chr&gt; | n &lt;int&gt; |\n|---|---|\n| F | 86538 |\n| M | 88775 |\n\n",
            "text/latex": "A tibble: 2 × 2\n\\begin{tabular}{ll}\n sxchld & n\\\\\n <chr> & <int>\\\\\n\\hline\n\t F & 86538\\\\\n\t M & 88775\\\\\n\\end{tabular}\n",
            "text/plain": [
              "  sxchld n    \n",
              "1 F      86538\n",
              "2 M      88775"
            ]
          },
          "metadata": {}
        }
      ]
    },
    {
      "cell_type": "code",
      "source": [
        "# This is my function\n",
        "loglik.model1 <- function(p){\n",
        "  log.lik <- 88775*log(p) + 86538*log(1-p)\n",
        "  return(log.lik)\n",
        "}"
      ],
      "metadata": {
        "id": "GzRd3S5a3UWq"
      },
      "execution_count": 72,
      "outputs": []
    },
    {
      "cell_type": "code",
      "source": [
        "# Checking my code works\n",
        "loglik.model1(0.4)"
      ],
      "metadata": {
        "colab": {
          "base_uri": "https://localhost:8080/",
          "height": 34
        },
        "id": "gELwqq0l2100",
        "outputId": "9a566b9a-f539-4a92-8c48-2d976a66a3d2"
      },
      "execution_count": 73,
      "outputs": [
        {
          "output_type": "display_data",
          "data": {
            "text/html": [
              "-125549.537551589"
            ],
            "text/markdown": "-125549.537551589",
            "text/latex": "-125549.537551589",
            "text/plain": [
              "[1] -125549.5"
            ]
          },
          "metadata": {}
        }
      ]
    },
    {
      "cell_type": "markdown",
      "source": [
        "### ii) Model 2\n"
      ],
      "metadata": {
        "id": "-dpJtqhI98Kb"
      }
    },
    {
      "cell_type": "markdown",
      "source": [
        "Write a function `loglik.model2(pvec)` that takes as an argument a vector of 3 parameters $(p_1, p_M, p_F)$ and returns the log-likelihood of all the observed data values for those parameters.  Check that it works by verifying `loglik.model2(c(.5, .6, .4))` returns `-123702.635775539`.\n",
        "\n",
        "Hint: the code below calculates the contribution of each child from Family 43515 to the log-likelihood when $(p_1, p_M, p_F) = (0.5, 0.6, 0.4)$"
      ],
      "metadata": {
        "id": "EOP8mqPyBM4V"
      }
    },
    {
      "cell_type": "code",
      "source": [
        "p1 <- 0.5\n",
        "pM <- 0.6\n",
        "pF <- 0.4\n",
        "family43515 %>%\n",
        "  mutate(loglik2.contribution = case_when(sxchld=='M' & sxprev=='First'~log(p1),\n",
        "                                          sxchld=='F' & sxprev=='First'~log(1-p1),\n",
        "                                          sxchld=='M' & sxprev=='M'~log(pM),\n",
        "                                          sxchld=='F' & sxprev=='M'~log(1-pM),\n",
        "                                          sxchld=='M' & sxprev=='F'~log(pF),\n",
        "                                          sxchld=='F' & sxprev=='F'~log(1-pF)))"
      ],
      "metadata": {
        "colab": {
          "base_uri": "https://localhost:8080/",
          "height": 255
        },
        "id": "1gOJgP5WBkVn",
        "outputId": "2a83f9b0-1845-4e7f-f978-19da97fb3005"
      },
      "execution_count": 74,
      "outputs": [
        {
          "output_type": "display_data",
          "data": {
            "text/html": [
              "<table class=\"dataframe\">\n",
              "<caption>A data.frame: 5 × 7</caption>\n",
              "<thead>\n",
              "\t<tr><th scope=col>familyid</th><th scope=col>childid</th><th scope=col>nm_chld</th><th scope=col>sexchldn</th><th scope=col>sxchld</th><th scope=col>sxprev</th><th scope=col>loglik2.contribution</th></tr>\n",
              "\t<tr><th scope=col>&lt;int&gt;</th><th scope=col>&lt;int&gt;</th><th scope=col>&lt;int&gt;</th><th scope=col>&lt;chr&gt;</th><th scope=col>&lt;chr&gt;</th><th scope=col>&lt;chr&gt;</th><th scope=col>&lt;dbl&gt;</th></tr>\n",
              "</thead>\n",
              "<tbody>\n",
              "\t<tr><td>43515</td><td>1</td><td>5</td><td>MFFFM</td><td>M</td><td>First</td><td>-0.6931472</td></tr>\n",
              "\t<tr><td>43515</td><td>2</td><td>5</td><td>MFFFM</td><td>F</td><td>M    </td><td>-0.9162907</td></tr>\n",
              "\t<tr><td>43515</td><td>3</td><td>5</td><td>MFFFM</td><td>F</td><td>F    </td><td>-0.5108256</td></tr>\n",
              "\t<tr><td>43515</td><td>4</td><td>5</td><td>MFFFM</td><td>F</td><td>F    </td><td>-0.5108256</td></tr>\n",
              "\t<tr><td>43515</td><td>5</td><td>5</td><td>MFFFM</td><td>M</td><td>F    </td><td>-0.9162907</td></tr>\n",
              "</tbody>\n",
              "</table>\n"
            ],
            "text/markdown": "\nA data.frame: 5 × 7\n\n| familyid &lt;int&gt; | childid &lt;int&gt; | nm_chld &lt;int&gt; | sexchldn &lt;chr&gt; | sxchld &lt;chr&gt; | sxprev &lt;chr&gt; | loglik2.contribution &lt;dbl&gt; |\n|---|---|---|---|---|---|---|\n| 43515 | 1 | 5 | MFFFM | M | First | -0.6931472 |\n| 43515 | 2 | 5 | MFFFM | F | M     | -0.9162907 |\n| 43515 | 3 | 5 | MFFFM | F | F     | -0.5108256 |\n| 43515 | 4 | 5 | MFFFM | F | F     | -0.5108256 |\n| 43515 | 5 | 5 | MFFFM | M | F     | -0.9162907 |\n\n",
            "text/latex": "A data.frame: 5 × 7\n\\begin{tabular}{lllllll}\n familyid & childid & nm\\_chld & sexchldn & sxchld & sxprev & loglik2.contribution\\\\\n <int> & <int> & <int> & <chr> & <chr> & <chr> & <dbl>\\\\\n\\hline\n\t 43515 & 1 & 5 & MFFFM & M & First & -0.6931472\\\\\n\t 43515 & 2 & 5 & MFFFM & F & M     & -0.9162907\\\\\n\t 43515 & 3 & 5 & MFFFM & F & F     & -0.5108256\\\\\n\t 43515 & 4 & 5 & MFFFM & F & F     & -0.5108256\\\\\n\t 43515 & 5 & 5 & MFFFM & M & F     & -0.9162907\\\\\n\\end{tabular}\n",
            "text/plain": [
              "  familyid childid nm_chld sexchldn sxchld sxprev loglik2.contribution\n",
              "1 43515    1       5       MFFFM    M      First  -0.6931472          \n",
              "2 43515    2       5       MFFFM    F      M      -0.9162907          \n",
              "3 43515    3       5       MFFFM    F      F      -0.5108256          \n",
              "4 43515    4       5       MFFFM    F      F      -0.5108256          \n",
              "5 43515    5       5       MFFFM    M      F      -0.9162907          "
            ]
          },
          "metadata": {}
        }
      ]
    },
    {
      "cell_type": "code",
      "source": [
        "# This is my function\n",
        "loglik.model2 <- function(pvec) {\n",
        "  p1 <- pvec[1]\n",
        "  pM <- pvec[2]\n",
        "  pF <- pvec[3]\n",
        "\n",
        "  model2_df <- sexratios  %>%\n",
        "   mutate(model2.loglik.contribution = case_when(sxchld=='M' & sxprev=='First'~log(p1),\n",
        "                                                 sxchld=='F' & sxprev=='First'~log(1-p1),\n",
        "                                                 sxchld=='M' & sxprev=='M'~log(pM),\n",
        "                                                 sxchld=='F' & sxprev=='M'~log(1-pM),\n",
        "                                                 sxchld=='M' & sxprev=='F'~log(pF),\n",
        "                                                 sxchld=='F' & sxprev=='F'~log(1-pF)\n",
        "                                                 ))\n",
        "  loglik <- sum(model2_df$model2.loglik.contribution)\n",
        "  return(loglik)\n",
        "}"
      ],
      "metadata": {
        "id": "CQuZ9dB16lI7"
      },
      "execution_count": 75,
      "outputs": []
    },
    {
      "cell_type": "code",
      "source": [
        "# Checking my code works\n",
        "loglik.model2(c(0.5, 0.6, 0.4))"
      ],
      "metadata": {
        "colab": {
          "base_uri": "https://localhost:8080/",
          "height": 34
        },
        "id": "JbT-STBx8Zrd",
        "outputId": "4ceb0feb-d802-4d13-bd29-35d470bd8df2"
      },
      "execution_count": 76,
      "outputs": [
        {
          "output_type": "display_data",
          "data": {
            "text/html": [
              "-123702.635775539"
            ],
            "text/markdown": "-123702.635775539",
            "text/latex": "-123702.635775539",
            "text/plain": [
              "[1] -123702.6"
            ]
          },
          "metadata": {}
        }
      ]
    },
    {
      "cell_type": "markdown",
      "source": [
        "## C) Maximizing the log-likelihoods\n",
        "\n"
      ],
      "metadata": {
        "id": "mxDWK4jWaYWs"
      }
    },
    {
      "cell_type": "markdown",
      "source": [
        "### i) Model 1\n",
        "\n",
        "Use your `loglik.model1(p)` function and `optimize()` to find the MLE of the Model 1 parameter, $\\hat p_{MLE}$.  Verify that the MLE equals the overall proportion of male children across the entire data set."
      ],
      "metadata": {
        "id": "xlHAWgyMA9y6"
      }
    },
    {
      "cell_type": "code",
      "source": [
        "#  find the MLE of the Model 1\n",
        "optimize(loglik.model1, interval = c(0,1), maximum = TRUE)"
      ],
      "metadata": {
        "colab": {
          "base_uri": "https://localhost:8080/",
          "height": 114
        },
        "id": "cBogs4dl9Bdz",
        "outputId": "fd3f4a25-365f-43f9-8ddd-c88253213f43"
      },
      "execution_count": 77,
      "outputs": [
        {
          "output_type": "display_data",
          "data": {
            "text/html": [
              "<dl>\n",
              "\t<dt>$maximum</dt>\n",
              "\t\t<dd>0.506365177624014</dd>\n",
              "\t<dt>$objective</dt>\n",
              "\t\t<dd>-121503.439256369</dd>\n",
              "</dl>\n"
            ],
            "text/markdown": "$maximum\n:   0.506365177624014\n$objective\n:   -121503.439256369\n\n\n",
            "text/latex": "\\begin{description}\n\\item[\\$maximum] 0.506365177624014\n\\item[\\$objective] -121503.439256369\n\\end{description}\n",
            "text/plain": [
              "$maximum\n",
              "[1] 0.5063652\n",
              "\n",
              "$objective\n",
              "[1] -121503.4\n"
            ]
          },
          "metadata": {}
        }
      ]
    },
    {
      "cell_type": "code",
      "source": [
        "# Verify that the MLE equals the overall proportion of male children across the entire data set.\n",
        "sexratios %>%\n",
        "  summarise(total = n(),\n",
        "            male = sum(case_when(sxchld=='M'~1, TRUE~0))) %>%\n",
        "  mutate(male_ratio = male/total)"
      ],
      "metadata": {
        "colab": {
          "base_uri": "https://localhost:8080/",
          "height": 129
        },
        "id": "ZFjS8MYH9bqC",
        "outputId": "1931ad3e-0999-43b5-add8-b5b8b6d0ddc5"
      },
      "execution_count": 78,
      "outputs": [
        {
          "output_type": "display_data",
          "data": {
            "text/html": [
              "<table class=\"dataframe\">\n",
              "<caption>A data.frame: 1 × 3</caption>\n",
              "<thead>\n",
              "\t<tr><th scope=col>total</th><th scope=col>male</th><th scope=col>male_ratio</th></tr>\n",
              "\t<tr><th scope=col>&lt;int&gt;</th><th scope=col>&lt;dbl&gt;</th><th scope=col>&lt;dbl&gt;</th></tr>\n",
              "</thead>\n",
              "<tbody>\n",
              "\t<tr><td>175313</td><td>88775</td><td>0.50638</td></tr>\n",
              "</tbody>\n",
              "</table>\n"
            ],
            "text/markdown": "\nA data.frame: 1 × 3\n\n| total &lt;int&gt; | male &lt;dbl&gt; | male_ratio &lt;dbl&gt; |\n|---|---|---|\n| 175313 | 88775 | 0.50638 |\n\n",
            "text/latex": "A data.frame: 1 × 3\n\\begin{tabular}{lll}\n total & male & male\\_ratio\\\\\n <int> & <dbl> & <dbl>\\\\\n\\hline\n\t 175313 & 88775 & 0.50638\\\\\n\\end{tabular}\n",
            "text/plain": [
              "  total  male  male_ratio\n",
              "1 175313 88775 0.50638   "
            ]
          },
          "metadata": {}
        }
      ]
    },
    {
      "cell_type": "markdown",
      "source": [
        "### ii) Model 2\n",
        "\n",
        "Use `optim()` and `loglik.model2()` to find the MLE of $(p_1,p_M,p_F)$ for the three-parameter Model 2.  Verify that these MLEs are, respectively, the proportion of males among all first-borns; the proportion of males following male children; and the proportion of males following female children."
      ],
      "metadata": {
        "id": "Xhev9c6VaYWr"
      }
    },
    {
      "cell_type": "code",
      "source": [
        "# Verification of optim()\n",
        "sexratios %>%\n",
        "  summarise(male_1st = sum(sxprev == 'First' & sxchld == 'M') / sum(sxprev == 'First'),\n",
        "            male_after_M = sum(sxprev == 'M' & sxchld == 'M') / sum(sxprev == 'M'),\n",
        "            male_after_F = sum(sxprev == 'F' & sxchld == 'M') / sum(sxprev == 'F')\n",
        "  )"
      ],
      "metadata": {
        "colab": {
          "base_uri": "https://localhost:8080/",
          "height": 129
        },
        "id": "6OE-Pn3gH89k",
        "outputId": "84eb9e91-e7c1-4220-ebcb-5fa164225714"
      },
      "execution_count": 79,
      "outputs": [
        {
          "output_type": "display_data",
          "data": {
            "text/html": [
              "<table class=\"dataframe\">\n",
              "<caption>A data.frame: 1 × 3</caption>\n",
              "<thead>\n",
              "\t<tr><th scope=col>male_1st</th><th scope=col>male_after_M</th><th scope=col>male_after_F</th></tr>\n",
              "\t<tr><th scope=col>&lt;dbl&gt;</th><th scope=col>&lt;dbl&gt;</th><th scope=col>&lt;dbl&gt;</th></tr>\n",
              "</thead>\n",
              "<tbody>\n",
              "\t<tr><td>0.5041451</td><td>0.5138949</td><td>0.500637</td></tr>\n",
              "</tbody>\n",
              "</table>\n"
            ],
            "text/markdown": "\nA data.frame: 1 × 3\n\n| male_1st &lt;dbl&gt; | male_after_M &lt;dbl&gt; | male_after_F &lt;dbl&gt; |\n|---|---|---|\n| 0.5041451 | 0.5138949 | 0.500637 |\n\n",
            "text/latex": "A data.frame: 1 × 3\n\\begin{tabular}{lll}\n male\\_1st & male\\_after\\_M & male\\_after\\_F\\\\\n <dbl> & <dbl> & <dbl>\\\\\n\\hline\n\t 0.5041451 & 0.5138949 & 0.500637\\\\\n\\end{tabular}\n",
            "text/plain": [
              "  male_1st  male_after_M male_after_F\n",
              "1 0.5041451 0.5138949    0.500637    "
            ]
          },
          "metadata": {}
        }
      ]
    },
    {
      "cell_type": "code",
      "source": [
        "# find the MLE of the Model 1\n",
        "optim(par = c(0.5, 0.5, 0.5),\n",
        "      fn = loglik.model2,\n",
        "      control = list(fnscale = -1))"
      ],
      "metadata": {
        "colab": {
          "base_uri": "https://localhost:8080/",
          "height": 219
        },
        "id": "4yX1-7qCAG5Q",
        "outputId": "0244ec6d-e37a-4ce2-c617-3e2c34651095"
      },
      "execution_count": 80,
      "outputs": [
        {
          "output_type": "display_data",
          "data": {
            "text/html": [
              "<dl>\n",
              "\t<dt>$par</dt>\n",
              "\t\t<dd><style>\n",
              ".list-inline {list-style: none; margin:0; padding: 0}\n",
              ".list-inline>li {display: inline-block}\n",
              ".list-inline>li:not(:last-child)::after {content: \"\\00b7\"; padding: 0 .5ex}\n",
              "</style>\n",
              "<ol class=list-inline><li>0.504056775275678</li><li>0.513889190070172</li><li>0.500690500943829</li></ol>\n",
              "</dd>\n",
              "\t<dt>$value</dt>\n",
              "\t\t<dd>-121491.853314561</dd>\n",
              "\t<dt>$counts</dt>\n",
              "\t\t<dd><style>\n",
              ".dl-inline {width: auto; margin:0; padding: 0}\n",
              ".dl-inline>dt, .dl-inline>dd {float: none; width: auto; display: inline-block}\n",
              ".dl-inline>dt::after {content: \":\\0020\"; padding-right: .5ex}\n",
              ".dl-inline>dt:not(:first-of-type) {padding-left: .5ex}\n",
              "</style><dl class=dl-inline><dt>function</dt><dd>62</dd><dt>gradient</dt><dd>&lt;NA&gt;</dd></dl>\n",
              "</dd>\n",
              "\t<dt>$convergence</dt>\n",
              "\t\t<dd>0</dd>\n",
              "\t<dt>$message</dt>\n",
              "\t\t<dd>NULL</dd>\n",
              "</dl>\n"
            ],
            "text/markdown": "$par\n:   1. 0.504056775275678\n2. 0.513889190070172\n3. 0.500690500943829\n\n\n\n$value\n:   -121491.853314561\n$counts\n:   function\n:   62gradient\n:   &lt;NA&gt;\n\n\n$convergence\n:   0\n$message\n:   NULL\n\n\n",
            "text/latex": "\\begin{description}\n\\item[\\$par] \\begin{enumerate*}\n\\item 0.504056775275678\n\\item 0.513889190070172\n\\item 0.500690500943829\n\\end{enumerate*}\n\n\\item[\\$value] -121491.853314561\n\\item[\\$counts] \\begin{description*}\n\\item[function] 62\n\\item[gradient] <NA>\n\\end{description*}\n\n\\item[\\$convergence] 0\n\\item[\\$message] NULL\n\\end{description}\n",
            "text/plain": [
              "$par\n",
              "[1] 0.5040568 0.5138892 0.5006905\n",
              "\n",
              "$value\n",
              "[1] -121491.9\n",
              "\n",
              "$counts\n",
              "function gradient \n",
              "      62       NA \n",
              "\n",
              "$convergence\n",
              "[1] 0\n",
              "\n",
              "$message\n",
              "NULL\n"
            ]
          },
          "metadata": {}
        }
      ]
    },
    {
      "cell_type": "markdown",
      "source": [
        "## D) Comparing the models\n",
        "\n",
        "Is Model 2 a meaningfully different model than Model 1?  We will adress this using our likelihood-based model comparison methods."
      ],
      "metadata": {
        "id": "Q755n_2IFhGj"
      }
    },
    {
      "cell_type": "markdown",
      "source": [
        "### i) AIC, BIC\n",
        "Fill in the table below with the model metrics:\n",
        "\n",
        "Model | Number of parameters | Maximized log-likelihood | AIC | BIC |\n",
        "--- | --- | --- | --- | --- |\n",
        "1   |  1  | -121503.44 | 243008.88 | 243018.95 |\n",
        "2   |  3  | -121491.85 | 242985.70 | 242995.77 |\n"
      ],
      "metadata": {
        "id": "tpPuJL_3FvWY"
      }
    },
    {
      "cell_type": "markdown",
      "source": [
        "![image.png](data:image/png;base64,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)"
      ],
      "metadata": {
        "id": "lXUz-d7QNK4o"
      }
    },
    {
      "cell_type": "code",
      "source": [
        "# There are 66 rows in the df\n",
        "sexratios %>%\n",
        "  summarise(n = n())"
      ],
      "metadata": {
        "colab": {
          "base_uri": "https://localhost:8080/",
          "height": 164
        },
        "id": "7JyS4OEEMgfT",
        "outputId": "3df91282-f549-47f3-a2d4-5267536bc231"
      },
      "execution_count": 81,
      "outputs": [
        {
          "output_type": "display_data",
          "data": {
            "text/html": [
              "<table class=\"dataframe\">\n",
              "<caption>A data.frame: 1 × 1</caption>\n",
              "<thead>\n",
              "\t<tr><th scope=col>n</th></tr>\n",
              "\t<tr><th scope=col>&lt;int&gt;</th></tr>\n",
              "</thead>\n",
              "<tbody>\n",
              "\t<tr><td>175313</td></tr>\n",
              "</tbody>\n",
              "</table>\n"
            ],
            "text/markdown": "\nA data.frame: 1 × 1\n\n| n &lt;int&gt; |\n|---|\n| 175313 |\n\n",
            "text/latex": "A data.frame: 1 × 1\n\\begin{tabular}{l}\n n\\\\\n <int>\\\\\n\\hline\n\t 175313\\\\\n\\end{tabular}\n",
            "text/plain": [
              "  n     \n",
              "1 175313"
            ]
          },
          "metadata": {}
        }
      ]
    },
    {
      "cell_type": "code",
      "source": [
        "# Model 1 AIC:\n",
        "2*1 -2*-121503.44\n",
        "\n",
        "# Model 1 BIC:\n",
        "log(175313)*1 - 2*-121503.44"
      ],
      "metadata": {
        "colab": {
          "base_uri": "https://localhost:8080/",
          "height": 52
        },
        "id": "BucmyNQ7L6HD",
        "outputId": "01269b35-afcc-450a-e6fc-b8bac8a6e9a7"
      },
      "execution_count": 82,
      "outputs": [
        {
          "output_type": "display_data",
          "data": {
            "text/html": [
              "243008.88"
            ],
            "text/markdown": "243008.88",
            "text/latex": "243008.88",
            "text/plain": [
              "[1] 243008.9"
            ]
          },
          "metadata": {}
        },
        {
          "output_type": "display_data",
          "data": {
            "text/html": [
              "243018.954328227"
            ],
            "text/markdown": "243018.954328227",
            "text/latex": "243018.954328227",
            "text/plain": [
              "[1] 243019"
            ]
          },
          "metadata": {}
        }
      ]
    },
    {
      "cell_type": "code",
      "source": [
        "# Model 2 AIC:\n",
        "2*1 -2*-121491.85\n",
        "\n",
        "# Model 2 BIC:\n",
        "log(175313)*1 - 2*-121491.85"
      ],
      "metadata": {
        "colab": {
          "base_uri": "https://localhost:8080/",
          "height": 52
        },
        "id": "nPSAuaZkNZsj",
        "outputId": "3bb01678-b6ec-4e83-baae-17adcd42d51e"
      },
      "execution_count": 83,
      "outputs": [
        {
          "output_type": "display_data",
          "data": {
            "text/html": [
              "242985.7"
            ],
            "text/markdown": "242985.7",
            "text/latex": "242985.7",
            "text/plain": [
              "[1] 242985.7"
            ]
          },
          "metadata": {}
        },
        {
          "output_type": "display_data",
          "data": {
            "text/html": [
              "242995.774328227"
            ],
            "text/markdown": "242995.774328227",
            "text/latex": "242995.774328227",
            "text/plain": [
              "[1] 242995.8"
            ]
          },
          "metadata": {}
        }
      ]
    },
    {
      "cell_type": "markdown",
      "source": [
        "### ii) Likelihood ratio test\n",
        "\n",
        "Find the likelihood ratio test statistic and its associated p-value."
      ],
      "metadata": {
        "id": "yIOUaGvzFvWY"
      }
    },
    {
      "cell_type": "code",
      "source": [
        "# Difference:\n",
        "-121491.85 - -121503.44"
      ],
      "metadata": {
        "colab": {
          "base_uri": "https://localhost:8080/",
          "height": 34
        },
        "id": "mqzDDnAHOQ-o",
        "outputId": "38fe0d58-baea-4317-ab02-04e34f6d0813"
      },
      "execution_count": 84,
      "outputs": [
        {
          "output_type": "display_data",
          "data": {
            "text/html": [
              "11.5899999999965"
            ],
            "text/markdown": "11.5899999999965",
            "text/latex": "11.5899999999965",
            "text/plain": [
              "[1] 11.59"
            ]
          },
          "metadata": {}
        }
      ]
    },
    {
      "cell_type": "code",
      "source": [
        "# Test statistics:\n",
        "2*(-121491.85 - -121503.44)"
      ],
      "metadata": {
        "colab": {
          "base_uri": "https://localhost:8080/",
          "height": 34
        },
        "id": "Sjmz3fbVOriM",
        "outputId": "dc88a472-d3ad-44e1-bfb9-49c8195ca6e9"
      },
      "execution_count": 85,
      "outputs": [
        {
          "output_type": "display_data",
          "data": {
            "text/html": [
              "23.179999999993"
            ],
            "text/markdown": "23.179999999993",
            "text/latex": "23.179999999993",
            "text/plain": [
              "[1] 23.18"
            ]
          },
          "metadata": {}
        }
      ]
    },
    {
      "cell_type": "code",
      "source": [
        "1 - pchisq(23.179999, df = 3-1)"
      ],
      "metadata": {
        "colab": {
          "base_uri": "https://localhost:8080/",
          "height": 34
        },
        "id": "q-GGyopyO5qw",
        "outputId": "22ff86e5-8a17-4c9a-bc5d-bddc62960f00"
      },
      "execution_count": 86,
      "outputs": [
        {
          "output_type": "display_data",
          "data": {
            "text/html": [
              "9.25821307862229e-06"
            ],
            "text/markdown": "9.25821307862229e-06",
            "text/latex": "9.25821307862229e-06",
            "text/plain": [
              "[1] 9.258213e-06"
            ]
          },
          "metadata": {}
        }
      ]
    },
    {
      "cell_type": "markdown",
      "source": [
        "<font color = red> Note: p-value is exceeding 1 . . . something is wrong"
      ],
      "metadata": {
        "id": "PmFy2TX6SH1a"
      }
    },
    {
      "cell_type": "markdown",
      "source": [
        "## E) Summary and conclusion\n",
        "\n",
        "How does the estimated probability of having a male child change, relative to the overall proportion of male children, depending on whether it's the first child or whether the child follows a male or a female? Is there evidence that this difference is meaningful?  Explain."
      ],
      "metadata": {
        "id": "u99viU5uEdTC"
      }
    },
    {
      "cell_type": "markdown",
      "source": [
        "# **E - Answer:**\n",
        "**We fail to reject the null hypothesis (p > 0.05), which suggests there is insufficient evidence to conclude that the probability of having a male child depends on whether it's the first child or whether the previous child was male or female. In other words, the data does not provide strong evidence for a meaningful difference in sex probabilities based on these factors. Therefore, we conclude that, based on the data, the sex of children appears to be independent of the sex of previous children.**"
      ],
      "metadata": {
        "id": "i8dONpcqSZ7t"
      }
    },
    {
      "cell_type": "markdown",
      "source": [
        "# Question 3 (20 points)\n",
        "\n",
        "The data for this problem is taken from undergraduates from a small liberal arts school over several years. The response variable is `Acceptance`, 1 = accepted and 0 = denied.  `GPA`, the grade point average of each student at their undergraduate institution, is one of our explanatory $X$ variables of interest.  The code below creates two more: `GPA_cat` ($GPA \\geq 3.7 = A$, $3.3 \\leq GPA < 3.7= A-$, $GPA \\leq 3.3= B$ or lower), and `GPA3` which is just GPA minus 3:"
      ],
      "metadata": {
        "id": "RpAurotyHMWe"
      }
    },
    {
      "cell_type": "code",
      "source": [
        "library(dplyr)\n",
        "medgpa <- read.csv('https://www.dropbox.com/s/nbmjfeh4m598pdz/MedGPA.csv?dl=1') %>%\n",
        "  mutate(GPA_cat = case_when(GPA >= 3.7 ~ 'A',\n",
        "                            GPA <3.7 & GPA >=3.3~ 'A-',\n",
        "                            .default='B or lower'),\n",
        "        GPA3 = GPA-3\n",
        "  )"
      ],
      "metadata": {
        "id": "Wslz0PbyHQE8"
      },
      "execution_count": 87,
      "outputs": []
    },
    {
      "cell_type": "code",
      "source": [
        "head(medgpa)"
      ],
      "metadata": {
        "colab": {
          "base_uri": "https://localhost:8080/",
          "height": 286
        },
        "id": "4Ms433SAVyD1",
        "outputId": "4d255f7d-1c59-4fd0-81f8-35679a0a6841"
      },
      "execution_count": 88,
      "outputs": [
        {
          "output_type": "display_data",
          "data": {
            "text/html": [
              "<table class=\"dataframe\">\n",
              "<caption>A data.frame: 6 × 13</caption>\n",
              "<thead>\n",
              "\t<tr><th></th><th scope=col>Accept</th><th scope=col>Acceptance</th><th scope=col>Sex</th><th scope=col>BCPM</th><th scope=col>GPA</th><th scope=col>VR</th><th scope=col>PS</th><th scope=col>WS</th><th scope=col>BS</th><th scope=col>MCAT</th><th scope=col>Apps</th><th scope=col>GPA_cat</th><th scope=col>GPA3</th></tr>\n",
              "\t<tr><th></th><th scope=col>&lt;chr&gt;</th><th scope=col>&lt;int&gt;</th><th scope=col>&lt;chr&gt;</th><th scope=col>&lt;dbl&gt;</th><th scope=col>&lt;dbl&gt;</th><th scope=col>&lt;int&gt;</th><th scope=col>&lt;int&gt;</th><th scope=col>&lt;int&gt;</th><th scope=col>&lt;int&gt;</th><th scope=col>&lt;int&gt;</th><th scope=col>&lt;int&gt;</th><th scope=col>&lt;chr&gt;</th><th scope=col>&lt;dbl&gt;</th></tr>\n",
              "</thead>\n",
              "<tbody>\n",
              "\t<tr><th scope=row>1</th><td>D</td><td>0</td><td>F</td><td>3.59</td><td>3.62</td><td>11</td><td> 9</td><td>9</td><td> 9</td><td>38</td><td> 5</td><td>A-        </td><td>0.62</td></tr>\n",
              "\t<tr><th scope=row>2</th><td>A</td><td>1</td><td>M</td><td>3.75</td><td>3.84</td><td>12</td><td>13</td><td>8</td><td>12</td><td>45</td><td> 3</td><td>A         </td><td>0.84</td></tr>\n",
              "\t<tr><th scope=row>3</th><td>A</td><td>1</td><td>F</td><td>3.24</td><td>3.23</td><td> 9</td><td>10</td><td>5</td><td> 9</td><td>33</td><td>19</td><td>B or lower</td><td>0.23</td></tr>\n",
              "\t<tr><th scope=row>4</th><td>A</td><td>1</td><td>F</td><td>3.74</td><td>3.69</td><td>12</td><td>11</td><td>7</td><td>10</td><td>40</td><td> 5</td><td>A-        </td><td>0.69</td></tr>\n",
              "\t<tr><th scope=row>5</th><td>A</td><td>1</td><td>F</td><td>3.53</td><td>3.38</td><td> 9</td><td>11</td><td>4</td><td>11</td><td>35</td><td>11</td><td>A-        </td><td>0.38</td></tr>\n",
              "\t<tr><th scope=row>6</th><td>A</td><td>1</td><td>M</td><td>3.59</td><td>3.72</td><td>10</td><td> 9</td><td>7</td><td>10</td><td>36</td><td> 5</td><td>A         </td><td>0.72</td></tr>\n",
              "</tbody>\n",
              "</table>\n"
            ],
            "text/markdown": "\nA data.frame: 6 × 13\n\n| <!--/--> | Accept &lt;chr&gt; | Acceptance &lt;int&gt; | Sex &lt;chr&gt; | BCPM &lt;dbl&gt; | GPA &lt;dbl&gt; | VR &lt;int&gt; | PS &lt;int&gt; | WS &lt;int&gt; | BS &lt;int&gt; | MCAT &lt;int&gt; | Apps &lt;int&gt; | GPA_cat &lt;chr&gt; | GPA3 &lt;dbl&gt; |\n|---|---|---|---|---|---|---|---|---|---|---|---|---|---|\n| 1 | D | 0 | F | 3.59 | 3.62 | 11 |  9 | 9 |  9 | 38 |  5 | A-         | 0.62 |\n| 2 | A | 1 | M | 3.75 | 3.84 | 12 | 13 | 8 | 12 | 45 |  3 | A          | 0.84 |\n| 3 | A | 1 | F | 3.24 | 3.23 |  9 | 10 | 5 |  9 | 33 | 19 | B or lower | 0.23 |\n| 4 | A | 1 | F | 3.74 | 3.69 | 12 | 11 | 7 | 10 | 40 |  5 | A-         | 0.69 |\n| 5 | A | 1 | F | 3.53 | 3.38 |  9 | 11 | 4 | 11 | 35 | 11 | A-         | 0.38 |\n| 6 | A | 1 | M | 3.59 | 3.72 | 10 |  9 | 7 | 10 | 36 |  5 | A          | 0.72 |\n\n",
            "text/latex": "A data.frame: 6 × 13\n\\begin{tabular}{r|lllllllllllll}\n  & Accept & Acceptance & Sex & BCPM & GPA & VR & PS & WS & BS & MCAT & Apps & GPA\\_cat & GPA3\\\\\n  & <chr> & <int> & <chr> & <dbl> & <dbl> & <int> & <int> & <int> & <int> & <int> & <int> & <chr> & <dbl>\\\\\n\\hline\n\t1 & D & 0 & F & 3.59 & 3.62 & 11 &  9 & 9 &  9 & 38 &  5 & A-         & 0.62\\\\\n\t2 & A & 1 & M & 3.75 & 3.84 & 12 & 13 & 8 & 12 & 45 &  3 & A          & 0.84\\\\\n\t3 & A & 1 & F & 3.24 & 3.23 &  9 & 10 & 5 &  9 & 33 & 19 & B or lower & 0.23\\\\\n\t4 & A & 1 & F & 3.74 & 3.69 & 12 & 11 & 7 & 10 & 40 &  5 & A-         & 0.69\\\\\n\t5 & A & 1 & F & 3.53 & 3.38 &  9 & 11 & 4 & 11 & 35 & 11 & A-         & 0.38\\\\\n\t6 & A & 1 & M & 3.59 & 3.72 & 10 &  9 & 7 & 10 & 36 &  5 & A          & 0.72\\\\\n\\end{tabular}\n",
            "text/plain": [
              "  Accept Acceptance Sex BCPM GPA  VR PS WS BS MCAT Apps GPA_cat    GPA3\n",
              "1 D      0          F   3.59 3.62 11  9 9   9 38    5   A-         0.62\n",
              "2 A      1          M   3.75 3.84 12 13 8  12 45    3   A          0.84\n",
              "3 A      1          F   3.24 3.23  9 10 5   9 33   19   B or lower 0.23\n",
              "4 A      1          F   3.74 3.69 12 11 7  10 40    5   A-         0.69\n",
              "5 A      1          F   3.53 3.38  9 11 4  11 35   11   A-         0.38\n",
              "6 A      1          M   3.59 3.72 10  9 7  10 36    5   A          0.72"
            ]
          },
          "metadata": {}
        }
      ]
    },
    {
      "cell_type": "markdown",
      "source": [
        "## A)\n",
        "\n",
        "Create a plot summarizing the relationship between acceptance and GPA category.  Summarize your findings."
      ],
      "metadata": {
        "id": "36AIuQBimHtd"
      }
    },
    {
      "cell_type": "code",
      "source": [
        "library(ggplot2)\n",
        "options(repr.plot.width=10, repr.plot.height=8)"
      ],
      "metadata": {
        "id": "rRHJR4RWXs3U"
      },
      "execution_count": 89,
      "outputs": []
    },
    {
      "cell_type": "code",
      "source": [
        "ggplot(data = medgpa) +\n",
        "  geom_bar(aes(x = GPA_cat, fill = factor(Acceptance)), position = \"stack\")"
      ],
      "metadata": {
        "colab": {
          "base_uri": "https://localhost:8080/",
          "height": 497
        },
        "id": "HOdSuLrEbal1",
        "outputId": "109654f3-6b95-4c35-96a2-9fcd20e1af2e"
      },
      "execution_count": 90,
      "outputs": [
        {
          "output_type": "display_data",
          "data": {
            "text/plain": [
              "plot without title"
            ],
            "image/png": "[encoded data removed]"
          },
          "metadata": {
            "image/png": {
              "width": 600,
              "height": 480
            }
          }
        }
      ]
    },
    {
      "cell_type": "markdown",
      "source": [
        "# **A - Answer:**\n",
        "**Students in the A category have the highest acceptance rate.**\n",
        "\n",
        "**Studnets in the A- category have the largest number of applicants.**\n",
        "\n",
        "**Students in the B or below category have the smallest number of applicants as well as the acceptance rate.**"
      ],
      "metadata": {
        "id": "keP5nGwnb-ai"
      }
    },
    {
      "cell_type": "markdown",
      "source": [
        "## B)\n",
        "\n",
        "Fit the following model:\n",
        "\n",
        "$$logit(P(Y_i = 1|GPA3_i)) = \\beta_0 + \\beta_1 GPA3_i$$"
      ],
      "metadata": {
        "id": "MYX7Z4Fol71W"
      }
    },
    {
      "cell_type": "markdown",
      "source": [
        "Interpret both model coefficients (or functions thereof), and fully summarize the nature of the modeled relationship between GPA and acceptance from this model."
      ],
      "metadata": {
        "id": "bASPcZ9Dm6nw"
      }
    },
    {
      "cell_type": "markdown",
      "source": [
        "<font color = red> **Refer to the Activity 5, Note 4.3**"
      ],
      "metadata": {
        "id": "r86EJ4oufHsu"
      }
    },
    {
      "cell_type": "code",
      "source": [
        "gpa_model <- glm(Acceptance~ GPA3, family = binomial, data = medgpa)\n",
        "gpa_model"
      ],
      "metadata": {
        "colab": {
          "base_uri": "https://localhost:8080/",
          "height": 191
        },
        "id": "tCDusSc_lys5",
        "outputId": "7f81b8ff-596a-4de0-84cf-c5d2becb10bc"
      },
      "execution_count": 91,
      "outputs": [
        {
          "output_type": "display_data",
          "data": {
            "text/plain": [
              "\n",
              "Call:  glm(formula = Acceptance ~ GPA3, family = binomial, data = medgpa)\n",
              "\n",
              "Coefficients:\n",
              "(Intercept)         GPA3  \n",
              "     -2.844        5.454  \n",
              "\n",
              "Degrees of Freedom: 54 Total (i.e. Null);  53 Residual\n",
              "Null Deviance:\t    75.79 \n",
              "Residual Deviance: 56.84 \tAIC: 60.84"
            ]
          },
          "metadata": {}
        }
      ]
    },
    {
      "cell_type": "code",
      "source": [
        "# This is the odds ratio\n",
        "exp(5.454)"
      ],
      "metadata": {
        "colab": {
          "base_uri": "https://localhost:8080/",
          "height": 34
        },
        "id": "P6a4aAj6mtUi",
        "outputId": "0e6e56ab-3d99-4df0-b176-195b7e313e14"
      },
      "execution_count": 92,
      "outputs": [
        {
          "output_type": "display_data",
          "data": {
            "text/html": [
              "233.691063121858"
            ],
            "text/markdown": "233.691063121858",
            "text/latex": "233.691063121858",
            "text/plain": [
              "[1] 233.6911"
            ]
          },
          "metadata": {}
        }
      ]
    },
    {
      "cell_type": "markdown",
      "source": [
        "<font color = red> **Note:**\n",
        "<br>\n",
        "The odds ratio tells you **how many times more likely** an event is to happen for a one-unit increase in the predictor variable (in this case, GPA3).\n",
        "<br>\n",
        "An odds ratio of 233.69 means the odds of acceptance increase by 233.69 times for every 1-unit increase in GPA3, not a 234% increase."
      ],
      "metadata": {
        "id": "fZ1c38OBoBV4"
      }
    },
    {
      "cell_type": "markdown",
      "source": [
        "# **B - Answer:**\n",
        "**A 1-unit increase in GPA3 is associated with a 233.69 times increase in the odds of being accepted to the university.**"
      ],
      "metadata": {
        "id": "SLWtcJ1Tmy-c"
      }
    },
    {
      "cell_type": "markdown",
      "source": [
        "## C)\n",
        "\n",
        "Using this model, fully characterize the estimated change in odds of acceptance for two students who differ by 0.3 in their GPA.  (Hint: `emmeans`)"
      ],
      "metadata": {
        "id": "_vxRXzJopB51"
      }
    },
    {
      "cell_type": "code",
      "source": [
        "install.packages('emmeans')\n",
        "library(emmeans)"
      ],
      "metadata": {
        "colab": {
          "base_uri": "https://localhost:8080/"
        },
        "id": "JeZUa1MwO2xc",
        "outputId": "642dc9dc-99ff-456b-843d-3da49ade72ee"
      },
      "execution_count": 93,
      "outputs": [
        {
          "output_type": "stream",
          "name": "stderr",
          "text": [
            "Installing package into ‘/usr/local/lib/R/site-library’\n",
            "(as ‘lib’ is unspecified)\n",
            "\n",
            "also installing the dependencies ‘estimability’, ‘numDeriv’, ‘mvtnorm’\n",
            "\n",
            "\n",
            "Welcome to emmeans.\n",
            "Caution: You lose important information if you filter this package's results.\n",
            "See '? untidy'\n",
            "\n"
          ]
        }
      ]
    },
    {
      "cell_type": "code",
      "source": [
        "? emmeans"
      ],
      "metadata": {
        "id": "O7-bcdyRR2ac"
      },
      "execution_count": 98,
      "outputs": []
    },
    {
      "cell_type": "code",
      "source": [
        "# Find the estimated means when GPA3 = 0 and 0.3\n",
        "emm <- emmeans(gpa_model, ~ GPA3, at = list(GPA3 = c(0, 0.3)))\n",
        "\n",
        "contrast(emm, method = \"pairwise\", type = \"response\") %>%\n",
        "  confint()"
      ],
      "metadata": {
        "colab": {
          "base_uri": "https://localhost:8080/",
          "height": 129
        },
        "id": "V86glkoVRJmV",
        "outputId": "a755e332-01bd-49a0-c208-e34f5f52b6ab"
      },
      "execution_count": 99,
      "outputs": [
        {
          "output_type": "display_data",
          "data": {
            "text/html": [
              "<table class=\"dataframe\">\n",
              "<caption>A summary_emm: 1 × 6</caption>\n",
              "<thead>\n",
              "\t<tr><th></th><th scope=col>contrast</th><th scope=col>odds.ratio</th><th scope=col>SE</th><th scope=col>df</th><th scope=col>asymp.LCL</th><th scope=col>asymp.UCL</th></tr>\n",
              "\t<tr><th></th><th scope=col>&lt;fct&gt;</th><th scope=col>&lt;dbl&gt;</th><th scope=col>&lt;dbl&gt;</th><th scope=col>&lt;dbl&gt;</th><th scope=col>&lt;dbl&gt;</th><th scope=col>&lt;dbl&gt;</th></tr>\n",
              "</thead>\n",
              "<tbody>\n",
              "\t<tr><th scope=row>1</th><td>GPA30 / GPA30.3</td><td>0.1947089</td><td>0.09224346</td><td>Inf</td><td>0.0769358</td><td>0.4927686</td></tr>\n",
              "</tbody>\n",
              "</table>\n"
            ],
            "text/markdown": "\nA summary_emm: 1 × 6\n\n| <!--/--> | contrast &lt;fct&gt; | odds.ratio &lt;dbl&gt; | SE &lt;dbl&gt; | df &lt;dbl&gt; | asymp.LCL &lt;dbl&gt; | asymp.UCL &lt;dbl&gt; |\n|---|---|---|---|---|---|---|\n| 1 | GPA30 / GPA30.3 | 0.1947089 | 0.09224346 | Inf | 0.0769358 | 0.4927686 |\n\n",
            "text/latex": "A summary\\_emm: 1 × 6\n\\begin{tabular}{r|llllll}\n  & contrast & odds.ratio & SE & df & asymp.LCL & asymp.UCL\\\\\n  & <fct> & <dbl> & <dbl> & <dbl> & <dbl> & <dbl>\\\\\n\\hline\n\t1 & GPA30 / GPA30.3 & 0.1947089 & 0.09224346 & Inf & 0.0769358 & 0.4927686\\\\\n\\end{tabular}\n",
            "text/plain": [
              "  contrast        odds.ratio SE         df  asymp.LCL asymp.UCL\n",
              "1 GPA30 / GPA30.3 0.1947089  0.09224346 Inf 0.0769358 0.4927686"
            ]
          },
          "metadata": {}
        }
      ]
    },
    {
      "cell_type": "code",
      "source": [
        "1/0.1947089"
      ],
      "metadata": {
        "colab": {
          "base_uri": "https://localhost:8080/",
          "height": 34
        },
        "id": "vMU-GCHZTTEa",
        "outputId": "919a7ede-362e-4a5e-cda2-3f8b988db620"
      },
      "execution_count": 100,
      "outputs": [
        {
          "output_type": "display_data",
          "data": {
            "text/html": [
              "5.13587206337255"
            ],
            "text/markdown": "5.13587206337255",
            "text/latex": "5.13587206337255",
            "text/plain": [
              "[1] 5.135872"
            ]
          },
          "metadata": {}
        }
      ]
    },
    {
      "cell_type": "markdown",
      "source": [
        "# **C - Answer:**\n",
        "**The odds of acceptance at GPA3 = 3.0 are 0.1947 times the odds of acceptance at GPA3 = 3.3. This indicates that an increase of 0.3 GPA points is associated with a 5.14-fold increase in the likelihood of acceptance.**"
      ],
      "metadata": {
        "id": "QC-khZNnSdvr"
      }
    },
    {
      "cell_type": "markdown",
      "source": [
        "## D)\n",
        "\n",
        "\n",
        "Fit a logistic regression model using `GPA_cat` instead of `GPA3`. Use this model and `emmeans` to contrast the odds of acceptance comparing:\n",
        "\n",
        "* A to A- students;\n",
        "* A- to B students\n",
        "\n",
        "For each of the contrasts,\n",
        "\n",
        "* Interpret an odds ratio;\n",
        "* Determine whether the odds ratio is statistically significant using an appropriate p-value and 95% confidence interval.  "
      ],
      "metadata": {
        "id": "m_PU5WVwnGZZ"
      }
    },
    {
      "cell_type": "code",
      "source": [
        "gpa_model_2 <- glm(Acceptance~ GPA_cat, family = binomial, data = medgpa)\n",
        "summary(gpa_model_2)"
      ],
      "metadata": {
        "colab": {
          "base_uri": "https://localhost:8080/",
          "height": 347
        },
        "id": "01zHpTj-X8eh",
        "outputId": "ad667eb2-60d0-4586-940e-3f5466237376"
      },
      "execution_count": 106,
      "outputs": [
        {
          "output_type": "display_data",
          "data": {
            "text/plain": [
              "\n",
              "Call:\n",
              "glm(formula = Acceptance ~ GPA_cat, family = binomial, data = medgpa)\n",
              "\n",
              "Coefficients:\n",
              "                  Estimate Std. Error z value Pr(>|z|)   \n",
              "(Intercept)         2.1401     0.7475   2.863  0.00420 **\n",
              "GPA_catA-          -2.5148     0.8439  -2.980  0.00288 **\n",
              "GPA_catB or lower  -3.3928     1.0962  -3.095  0.00197 **\n",
              "---\n",
              "Signif. codes:  0 ‘***’ 0.001 ‘**’ 0.01 ‘*’ 0.05 ‘.’ 0.1 ‘ ’ 1\n",
              "\n",
              "(Dispersion parameter for binomial family taken to be 1)\n",
              "\n",
              "    Null deviance: 75.791  on 54  degrees of freedom\n",
              "Residual deviance: 58.820  on 52  degrees of freedom\n",
              "AIC: 64.82\n",
              "\n",
              "Number of Fisher Scoring iterations: 4\n"
            ]
          },
          "metadata": {}
        }
      ]
    },
    {
      "cell_type": "code",
      "source": [
        "emmeans(gpa_model_2, specs= ~GPA_cat) %>%\n",
        "  contrast(method ='consec',reverse=TRUE, type = 'response') %>%\n",
        "  summary()\n",
        "    #confint()"
      ],
      "metadata": {
        "colab": {
          "base_uri": "https://localhost:8080/",
          "height": 161
        },
        "id": "qG-b0PwEYY6Y",
        "outputId": "f1838bb0-22d6-4463-bf9c-dd4503c3a984"
      },
      "execution_count": 109,
      "outputs": [
        {
          "output_type": "display_data",
          "data": {
            "text/html": [
              "<table class=\"dataframe\">\n",
              "<caption>A summary_emm: 2 × 7</caption>\n",
              "<thead>\n",
              "\t<tr><th></th><th scope=col>contrast</th><th scope=col>odds.ratio</th><th scope=col>SE</th><th scope=col>df</th><th scope=col>null</th><th scope=col>z.ratio</th><th scope=col>p.value</th></tr>\n",
              "\t<tr><th></th><th scope=col>&lt;fct&gt;</th><th scope=col>&lt;dbl&gt;</th><th scope=col>&lt;dbl&gt;</th><th scope=col>&lt;dbl&gt;</th><th scope=col>&lt;dbl&gt;</th><th scope=col>&lt;dbl&gt;</th><th scope=col>&lt;dbl&gt;</th></tr>\n",
              "</thead>\n",
              "<tbody>\n",
              "\t<tr><th scope=row>1</th><td>A / (A-)         </td><td>12.36364</td><td>10.433768</td><td>Inf</td><td>1</td><td>2.979899</td><td>0.005740275</td></tr>\n",
              "\t<tr><th scope=row>2</th><td>(A-) / B or lower</td><td> 2.40625</td><td> 2.147186</td><td>Inf</td><td>1</td><td>0.984011</td><td>0.539596135</td></tr>\n",
              "</tbody>\n",
              "</table>\n"
            ],
            "text/markdown": "\nA summary_emm: 2 × 7\n\n| <!--/--> | contrast &lt;fct&gt; | odds.ratio &lt;dbl&gt; | SE &lt;dbl&gt; | df &lt;dbl&gt; | null &lt;dbl&gt; | z.ratio &lt;dbl&gt; | p.value &lt;dbl&gt; |\n|---|---|---|---|---|---|---|---|\n| 1 | A / (A-)          | 12.36364 | 10.433768 | Inf | 1 | 2.979899 | 0.005740275 |\n| 2 | (A-) / B or lower |  2.40625 |  2.147186 | Inf | 1 | 0.984011 | 0.539596135 |\n\n",
            "text/latex": "A summary\\_emm: 2 × 7\n\\begin{tabular}{r|lllllll}\n  & contrast & odds.ratio & SE & df & null & z.ratio & p.value\\\\\n  & <fct> & <dbl> & <dbl> & <dbl> & <dbl> & <dbl> & <dbl>\\\\\n\\hline\n\t1 & A / (A-)          & 12.36364 & 10.433768 & Inf & 1 & 2.979899 & 0.005740275\\\\\n\t2 & (A-) / B or lower &  2.40625 &  2.147186 & Inf & 1 & 0.984011 & 0.539596135\\\\\n\\end{tabular}\n",
            "text/plain": [
              "  contrast          odds.ratio SE        df  null z.ratio  p.value    \n",
              "1 A / (A-)          12.36364   10.433768 Inf 1    2.979899 0.005740275\n",
              "2 (A-) / B or lower  2.40625    2.147186 Inf 1    0.984011 0.539596135"
            ]
          },
          "metadata": {}
        }
      ]
    },
    {
      "cell_type": "markdown",
      "source": [
        "# **D - Answer:**\n",
        "### **A to A- students:**\n",
        "**The odds of acceptance is 12.36 times higher for A students compared to A- students(CI: 1.88 ~ 81.38). Since the CI is above 1, we are confident to say that there is a statistical difference in the acceptance rate between A and A- students(p = 0.0057).**\n",
        "<br>\n",
        "### **A- to B or lower students:**\n",
        "**The odds of acceptance is 2.41 times higher for A- students compared to B or lower students(CI: 0.33 ~ 17.65). Since the CI includes 1, we are NOT confident to say that there is a statistical difference in the acceptance rate between A- and B or lower students(p = 0.5396).**\n"
      ],
      "metadata": {
        "id": "-cbGiHI-Y6NI"
      }
    }
  ]
}