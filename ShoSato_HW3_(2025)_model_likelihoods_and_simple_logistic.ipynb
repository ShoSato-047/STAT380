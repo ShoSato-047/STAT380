{
  "nbformat": 4,
  "nbformat_minor": 0,
  "metadata": {
    "colab": {
      "provenance": [],
      "include_colab_link": true
    },
    "kernelspec": {
      "name": "ir",
      "display_name": "R"
    },
    "language_info": {
      "name": "R"
    }
  },
  "cells": [
    {
      "cell_type": "markdown",
      "metadata": {
        "id": "view-in-github",
        "colab_type": "text"
      },
      "source": [
        "<a href=\"https://colab.research.google.com/github/ShoSato-047/STAT380/blob/main/ShoSato_HW3_(2025)_model_likelihoods_and_simple_logistic.ipynb\" target=\"_parent\"><img src=\"https://colab.research.google.com/assets/colab-badge.svg\" alt=\"Open In Colab\"/></a>"
      ]
    },
    {
      "cell_type": "markdown",
      "source": [
        "# INSTRUCTIONS\n",
        "\n",
        "Save a copy of this notebook in your Google drive.  Complete the HW and submit a **viewable** link (make sure to change share permissions from \"**Restricted**\" to \"**Anyone with link can view**\".\n",
        "\n",
        "***Bold and italicize the font of your responses.***"
      ],
      "metadata": {
        "id": "2d_GkM37erQa"
      }
    },
    {
      "cell_type": "markdown",
      "source": [
        "# Question 1 (30 points)\n",
        "\n",
        "In this question we investigate number of deaths caused by the HIV virus per year in the tri-state area of Iowa, Minnesota, and Wisconsin from 1999-2020.  Data accessed via the [CDC Wonder](https://wonder.cdc.gov/controller/saved/D76/D325F404) query system."
      ],
      "metadata": {
        "id": "AYfqmTyMgWF0"
      }
    },
    {
      "cell_type": "code",
      "source": [
        "hiv_deaths <- read.csv('https://www.dropbox.com/s/xt2hn9yro6h3hg2/hiv_deaths.csv?dl=1')\n",
        "head(hiv_deaths)"
      ],
      "metadata": {
        "colab": {
          "base_uri": "https://localhost:8080/",
          "height": 286
        },
        "id": "9Iebyeunhp5r",
        "outputId": "9e9d2e71-0e56-42c1-f8dc-a67cbc58b9a9"
      },
      "execution_count": null,
      "outputs": [
        {
          "output_type": "display_data",
          "data": {
            "text/html": [
              "<table class=\"dataframe\">\n",
              "<caption>A data.frame: 6 × 4</caption>\n",
              "<thead>\n",
              "\t<tr><th></th><th scope=col>State</th><th scope=col>Year</th><th scope=col>Deaths</th><th scope=col>Population</th></tr>\n",
              "\t<tr><th></th><th scope=col>&lt;chr&gt;</th><th scope=col>&lt;int&gt;</th><th scope=col>&lt;int&gt;</th><th scope=col>&lt;int&gt;</th></tr>\n",
              "</thead>\n",
              "<tbody>\n",
              "\t<tr><th scope=row>1</th><td>Iowa</td><td>1999</td><td>21</td><td>2917634</td></tr>\n",
              "\t<tr><th scope=row>2</th><td>Iowa</td><td>2000</td><td>23</td><td>2926324</td></tr>\n",
              "\t<tr><th scope=row>3</th><td>Iowa</td><td>2001</td><td>18</td><td>2931997</td></tr>\n",
              "\t<tr><th scope=row>4</th><td>Iowa</td><td>2002</td><td>29</td><td>2934234</td></tr>\n",
              "\t<tr><th scope=row>5</th><td>Iowa</td><td>2003</td><td>20</td><td>2941999</td></tr>\n",
              "\t<tr><th scope=row>6</th><td>Iowa</td><td>2004</td><td>27</td><td>2953635</td></tr>\n",
              "</tbody>\n",
              "</table>\n"
            ],
            "text/markdown": "\nA data.frame: 6 × 4\n\n| <!--/--> | State &lt;chr&gt; | Year &lt;int&gt; | Deaths &lt;int&gt; | Population &lt;int&gt; |\n|---|---|---|---|---|\n| 1 | Iowa | 1999 | 21 | 2917634 |\n| 2 | Iowa | 2000 | 23 | 2926324 |\n| 3 | Iowa | 2001 | 18 | 2931997 |\n| 4 | Iowa | 2002 | 29 | 2934234 |\n| 5 | Iowa | 2003 | 20 | 2941999 |\n| 6 | Iowa | 2004 | 27 | 2953635 |\n\n",
            "text/latex": "A data.frame: 6 × 4\n\\begin{tabular}{r|llll}\n  & State & Year & Deaths & Population\\\\\n  & <chr> & <int> & <int> & <int>\\\\\n\\hline\n\t1 & Iowa & 1999 & 21 & 2917634\\\\\n\t2 & Iowa & 2000 & 23 & 2926324\\\\\n\t3 & Iowa & 2001 & 18 & 2931997\\\\\n\t4 & Iowa & 2002 & 29 & 2934234\\\\\n\t5 & Iowa & 2003 & 20 & 2941999\\\\\n\t6 & Iowa & 2004 & 27 & 2953635\\\\\n\\end{tabular}\n",
            "text/plain": [
              "  State Year Deaths Population\n",
              "1 Iowa  1999 21     2917634   \n",
              "2 Iowa  2000 23     2926324   \n",
              "3 Iowa  2001 18     2931997   \n",
              "4 Iowa  2002 29     2934234   \n",
              "5 Iowa  2003 20     2941999   \n",
              "6 Iowa  2004 27     2953635   "
            ]
          },
          "metadata": {}
        }
      ]
    },
    {
      "cell_type": "markdown",
      "source": [
        "Here the response variable $Y_i$ measures the number of occurrences (deaths) per unit time (1 year), so a Poisson distribution seems appropriate for modeling this response.  Specifically:\n",
        "\n",
        "$$P(Y_i = k_i; \\lambda) = \\frac{e^{-\\lambda\\cdot 1}(\\lambda\\cdot 1)^{k_i}}{k_i!} =  \\frac{e^{-\\lambda}\\lambda^{k_i}}{k_i!}$$"
      ],
      "metadata": {
        "id": "4cvhMnoGhsnF"
      }
    },
    {
      "cell_type": "markdown",
      "source": [
        "Recall for any model with parameter vector $\\theta$, the log-likelihood of the observed data $Y$ given values of $\\theta$ is:\n",
        "\n",
        "$$logLik(\\theta) = \\log\\left(\\prod_{i=1}^n P(Y_i = k_i;\\theta)\\right) =  \\sum_{i=1}^n \\log(P(Y_i = k_i))$$"
      ],
      "metadata": {
        "id": "TbpsXE9si8aM"
      }
    },
    {
      "cell_type": "markdown",
      "source": [
        "Consider **Model 1**, a Poisson model with a single parameter $\\lambda$ that is in common for all data values.  For this model, the log-likelihood is:\n",
        "\n",
        "$$logLik(\\lambda) = \\sum_{i=1}^n \\log\\left(\\frac{e^{-\\lambda}\\lambda^{k_i}}{k_i!}\\right),$$\n",
        "\n",
        "so each data row with observation $k_i$ HIV deaths contributes $\\log\\left(\\frac{e^{-\\lambda}\\lambda^{k_i}}{k_i!}\\right)$ to Model 1's log-likelihood."
      ],
      "metadata": {
        "id": "8VTUaqtYjDGK"
      }
    },
    {
      "cell_type": "markdown",
      "source": [
        "We want to also consider **Model 2**, a model with three parameters $(\\lambda_I, \\lambda_M, \\lambda_W)$ for Iowa, Minnesota, and Wisconsin, respectively, that allows the rate parameters to vary by state.  The Model 2 log-likelihood is:\n",
        "\n",
        "$$logLik(\\lambda_I, \\lambda_M, \\lambda_W) = \\sum_{all\\ k_i\\in IA}\\log\\left(\\frac{e^{-\\lambda_I}\\lambda_I^{k_i}}{k_i!}\\right) +\\sum_{all\\ k_i\\in MN}\\log\\left(\\frac{e^{-\\lambda_M}\\lambda_M^{k_i}}{k_i!}\\right) +\\sum_{all\\ k_i\\in WI}\\log\\left(\\frac{e^{-\\lambda_W}\\lambda_W^{k_i}}{k_i!}\\right) $$"
      ],
      "metadata": {
        "id": "d_YY0qaAmQWY"
      }
    },
    {
      "cell_type": "markdown",
      "source": [
        "## A) Warmup: Finding log-likelihood contributions\n",
        "\n",
        "Consider the following three states:"
      ],
      "metadata": {
        "id": "2Zv2_bkFnzsm"
      }
    },
    {
      "cell_type": "code",
      "source": [
        "library(dplyr)\n",
        "hiv_deaths %>%\n",
        "  slice(1, 25, 50)"
      ],
      "metadata": {
        "colab": {
          "base_uri": "https://localhost:8080/",
          "height": 435
        },
        "id": "Q8Bqwa_coWuq",
        "outputId": "539910e6-a2f6-4f9f-825e-602a12cfdb91"
      },
      "execution_count": null,
      "outputs": [
        {
          "output_type": "stream",
          "name": "stderr",
          "text": [
            "\n",
            "Attaching package: ‘dplyr’\n",
            "\n",
            "\n",
            "The following objects are masked from ‘package:stats’:\n",
            "\n",
            "    filter, lag\n",
            "\n",
            "\n",
            "The following objects are masked from ‘package:base’:\n",
            "\n",
            "    intersect, setdiff, setequal, union\n",
            "\n",
            "\n"
          ]
        },
        {
          "output_type": "display_data",
          "data": {
            "text/html": [
              "<table class=\"dataframe\">\n",
              "<caption>A data.frame: 3 × 4</caption>\n",
              "<thead>\n",
              "\t<tr><th scope=col>State</th><th scope=col>Year</th><th scope=col>Deaths</th><th scope=col>Population</th></tr>\n",
              "\t<tr><th scope=col>&lt;chr&gt;</th><th scope=col>&lt;int&gt;</th><th scope=col>&lt;int&gt;</th><th scope=col>&lt;int&gt;</th></tr>\n",
              "</thead>\n",
              "<tbody>\n",
              "\t<tr><td>Iowa     </td><td>1999</td><td>21</td><td>2917634</td></tr>\n",
              "\t<tr><td>Minnesota</td><td>2001</td><td>53</td><td>4982796</td></tr>\n",
              "\t<tr><td>Wisconsin</td><td>2004</td><td>48</td><td>5514026</td></tr>\n",
              "</tbody>\n",
              "</table>\n"
            ],
            "text/markdown": "\nA data.frame: 3 × 4\n\n| State &lt;chr&gt; | Year &lt;int&gt; | Deaths &lt;int&gt; | Population &lt;int&gt; |\n|---|---|---|---|\n| Iowa      | 1999 | 21 | 2917634 |\n| Minnesota | 2001 | 53 | 4982796 |\n| Wisconsin | 2004 | 48 | 5514026 |\n\n",
            "text/latex": "A data.frame: 3 × 4\n\\begin{tabular}{llll}\n State & Year & Deaths & Population\\\\\n <chr> & <int> & <int> & <int>\\\\\n\\hline\n\t Iowa      & 1999 & 21 & 2917634\\\\\n\t Minnesota & 2001 & 53 & 4982796\\\\\n\t Wisconsin & 2004 & 48 & 5514026\\\\\n\\end{tabular}\n",
            "text/plain": [
              "  State     Year Deaths Population\n",
              "1 Iowa      1999 21     2917634   \n",
              "2 Minnesota 2001 53     4982796   \n",
              "3 Wisconsin 2004 48     5514026   "
            ]
          },
          "metadata": {}
        }
      ]
    },
    {
      "cell_type": "markdown",
      "source": [
        "### i) Model 1\n",
        "\n",
        "What is the total contribution of these three data values to the Model 1 log-likelihood, as a function of $\\lambda$?"
      ],
      "metadata": {
        "id": "_00fTU8Sogkh"
      }
    },
    {
      "cell_type": "markdown",
      "source": [
        "# **A i - Answer:**\n",
        "\n",
        "$$logLik(\\lambda) = \\sum_{i=1}^n \\log\\left(\\frac{e^{-\\lambda}\\lambda^{k_i}}\n",
        "{k_i!}\\right)$$\n",
        "$$= \\log\\left(\\frac{e^{-\\lambda}\\lambda^{21}}{21!}\\right) +\n",
        "\\log\\left(\\frac{e^{-\\lambda}\\lambda^{53}}{53!}\\right) +\n",
        "\\log\\left(\\frac{e^{-\\lambda}\\lambda^{48}}{48!}\\right)$$\n",
        "\n",
        "  - n = 3\n",
        "  - $k_1$ = 21\n",
        "  - $k_2$ = 53\n",
        "  - $k_3$ = 48"
      ],
      "metadata": {
        "id": "LX1X1J9VWx0N"
      }
    },
    {
      "cell_type": "markdown",
      "source": [
        "### ii) Model 2\n",
        "\n",
        "What is the total contribution of these three data values to the Model 2 log-likelihood, as a function of $(\\lambda_I, \\lambda_M, \\lambda_W)$?"
      ],
      "metadata": {
        "id": "RMVaUeRQqQOe"
      }
    },
    {
      "cell_type": "markdown",
      "source": [
        "# **A ii - Answer:**\n",
        "$$logLik(\\lambda_I, \\lambda_M, \\lambda_W) = \\sum_{all\\ k_i\\in IA}\\log\\left(\\frac{e^{-\\lambda_I}\\lambda_I^{k_i}}{k_i!}\\right) +\\sum_{all\\ k_i\\in MN}\\log\\left(\\frac{e^{-\\lambda_M}\\lambda_M^{k_i}}{k_i!}\\right) +\\sum_{all\\ k_i\\in WI}\\log\\left(\\frac{e^{-\\lambda_W}\\lambda_W^{k_i}}{k_i!}\\right) $$\n",
        "\n",
        "  - $$\\sum_{all\\ k_i\\in IA}\\log\\left(\\frac{e^{-\\lambda_W}\\lambda_W^{21}}{21!}\\right) $$\n",
        "  - $$\\sum_{all\\ k_i\\in MN}\\log\\left(\\frac{e^{-\\lambda_W}\\lambda_W^{53}}{53!}\\right) $$\n",
        "  - $$\\sum_{all\\ k_i\\in WI}\\log\\left(\\frac{e^{-\\lambda_W}\\lambda_W^{48}}{48!}\\right) $$\n",
        "\n",
        "\n",
        "$$logLik(\\lambda_I, \\lambda_M, \\lambda_W) = \\sum_{all\\ k_i\\in IA}\\log\\left(\\frac{e^{-\\lambda_I}\\lambda_I^{21}}{21!}\\right) +\\sum_{all\\ k_i\\in MN}\\log\\left(\\frac{e^{-\\lambda_M}\\lambda_M^{53}}{53!}\\right) +\\sum_{all\\ k_i\\in WI}\\log\\left(\\frac{e^{-\\lambda_W}\\lambda_W^{48}}{48!}\\right) $$"
      ],
      "metadata": {
        "id": "3CTfoGoqatFR"
      }
    },
    {
      "cell_type": "markdown",
      "source": [
        "## B) Writing the log-likelihood functions\n"
      ],
      "metadata": {
        "id": "wraagyM8ktgg"
      }
    },
    {
      "cell_type": "markdown",
      "source": [
        "### i) Model 1\n",
        "\n",
        "\n",
        "Write a function `loglik.model1(lambda)` that takes as an argument a single parameter $\\lambda$ and returns the log-likelihood of all the observed data values.  Check that it works by verifying `loglik.model1(30)` returns `-491.7487`."
      ],
      "metadata": {
        "id": "jw89rxturCaq"
      }
    },
    {
      "cell_type": "code",
      "source": [
        "loglik.model1 <- function(lambda) {\n",
        "  out <- sum(log(dpois(hiv_deaths$Deaths, lambda)))\n",
        "  return(out)\n",
        "}"
      ],
      "metadata": {
        "id": "UMVd88S-gdfB"
      },
      "execution_count": null,
      "outputs": []
    },
    {
      "cell_type": "code",
      "source": [
        "# verifying loglik.model1(30) returns -491.7487\n",
        "loglik.model1(30)"
      ],
      "metadata": {
        "colab": {
          "base_uri": "https://localhost:8080/",
          "height": 34
        },
        "id": "-XLPZI0Cmwhu",
        "outputId": "10b22023-ed3a-406a-a77c-0892a0b090dd"
      },
      "execution_count": null,
      "outputs": [
        {
          "output_type": "display_data",
          "data": {
            "text/html": [
              "-491.748700297101"
            ],
            "text/markdown": "-491.748700297101",
            "text/latex": "-491.748700297101",
            "text/plain": [
              "[1] -491.7487"
            ]
          },
          "metadata": {}
        }
      ]
    },
    {
      "cell_type": "markdown",
      "source": [
        "### ii) Model 2\n",
        "\n",
        "Write a function `loglik.model2(lambdavec)` that takes as an argument a vector of 3 parameters $(\\lambda_I, \\lambda_M, \\lambda_W)$ and returns the log-likelihood of all the observed data values for those parameters.  Check that it works by verifying `loglik.model2(c(20, 50, 40))` returns `-315.1246367`.\n",
        "\n",
        "Hint: the code below calculates the contribution of each row to the Model 2 log-likelihood when $(\\lambda_I, \\lambda_M, \\lambda_W)=(30, 30, 30)$, then finds the total contribution."
      ],
      "metadata": {
        "id": "FZHGbV5FrJ_9"
      }
    },
    {
      "cell_type": "code",
      "source": [
        "lambdaI <- 30\n",
        "lambdaM  <- 30\n",
        "lambdaW <- 30\n",
        "example <- hiv_deaths %>%\n",
        "  mutate(model2.loglik.contribution = case_when(State=='Iowa'~log(dpois(Deaths, lambdaI)),\n",
        "                                                State=='Minnesota'~log(dpois(Deaths, lambdaM)),\n",
        "                                                State=='Wisconsin'~log(dpois(Deaths, lambdaW))\n",
        "                                                )\n",
        "        )"
      ],
      "metadata": {
        "id": "gRs2XXV_shSd"
      },
      "execution_count": null,
      "outputs": []
    },
    {
      "cell_type": "code",
      "source": [
        "head(example)"
      ],
      "metadata": {
        "colab": {
          "base_uri": "https://localhost:8080/",
          "height": 286
        },
        "id": "EsVKXv5kxYUh",
        "outputId": "3b25b9b7-704e-42af-ff18-60828ff4c1ba"
      },
      "execution_count": null,
      "outputs": [
        {
          "output_type": "display_data",
          "data": {
            "text/html": [
              "<table class=\"dataframe\">\n",
              "<caption>A data.frame: 6 × 5</caption>\n",
              "<thead>\n",
              "\t<tr><th></th><th scope=col>State</th><th scope=col>Year</th><th scope=col>Deaths</th><th scope=col>Population</th><th scope=col>model2.loglik.contribution</th></tr>\n",
              "\t<tr><th></th><th scope=col>&lt;chr&gt;</th><th scope=col>&lt;int&gt;</th><th scope=col>&lt;int&gt;</th><th scope=col>&lt;int&gt;</th><th scope=col>&lt;dbl&gt;</th></tr>\n",
              "</thead>\n",
              "<tbody>\n",
              "\t<tr><th scope=row>1</th><td>Iowa</td><td>1999</td><td>21</td><td>2917634</td><td>-3.954994</td></tr>\n",
              "\t<tr><th scope=row>2</th><td>Iowa</td><td>2000</td><td>23</td><td>2926324</td><td>-3.379136</td></tr>\n",
              "\t<tr><th scope=row>3</th><td>Iowa</td><td>2001</td><td>18</td><td>2931997</td><td>-5.173892</td></tr>\n",
              "\t<tr><th scope=row>4</th><td>Iowa</td><td>2002</td><td>29</td><td>2934234</td><td>-2.622315</td></tr>\n",
              "\t<tr><th scope=row>5</th><td>Iowa</td><td>2003</td><td>20</td><td>2941999</td><td>-4.311669</td></tr>\n",
              "\t<tr><th scope=row>6</th><td>Iowa</td><td>2004</td><td>27</td><td>2953635</td><td>-2.725209</td></tr>\n",
              "</tbody>\n",
              "</table>\n"
            ],
            "text/markdown": "\nA data.frame: 6 × 5\n\n| <!--/--> | State &lt;chr&gt; | Year &lt;int&gt; | Deaths &lt;int&gt; | Population &lt;int&gt; | model2.loglik.contribution &lt;dbl&gt; |\n|---|---|---|---|---|---|\n| 1 | Iowa | 1999 | 21 | 2917634 | -3.954994 |\n| 2 | Iowa | 2000 | 23 | 2926324 | -3.379136 |\n| 3 | Iowa | 2001 | 18 | 2931997 | -5.173892 |\n| 4 | Iowa | 2002 | 29 | 2934234 | -2.622315 |\n| 5 | Iowa | 2003 | 20 | 2941999 | -4.311669 |\n| 6 | Iowa | 2004 | 27 | 2953635 | -2.725209 |\n\n",
            "text/latex": "A data.frame: 6 × 5\n\\begin{tabular}{r|lllll}\n  & State & Year & Deaths & Population & model2.loglik.contribution\\\\\n  & <chr> & <int> & <int> & <int> & <dbl>\\\\\n\\hline\n\t1 & Iowa & 1999 & 21 & 2917634 & -3.954994\\\\\n\t2 & Iowa & 2000 & 23 & 2926324 & -3.379136\\\\\n\t3 & Iowa & 2001 & 18 & 2931997 & -5.173892\\\\\n\t4 & Iowa & 2002 & 29 & 2934234 & -2.622315\\\\\n\t5 & Iowa & 2003 & 20 & 2941999 & -4.311669\\\\\n\t6 & Iowa & 2004 & 27 & 2953635 & -2.725209\\\\\n\\end{tabular}\n",
            "text/plain": [
              "  State Year Deaths Population model2.loglik.contribution\n",
              "1 Iowa  1999 21     2917634    -3.954994                 \n",
              "2 Iowa  2000 23     2926324    -3.379136                 \n",
              "3 Iowa  2001 18     2931997    -5.173892                 \n",
              "4 Iowa  2002 29     2934234    -2.622315                 \n",
              "5 Iowa  2003 20     2941999    -4.311669                 \n",
              "6 Iowa  2004 27     2953635    -2.725209                 "
            ]
          },
          "metadata": {}
        }
      ]
    },
    {
      "cell_type": "code",
      "source": [
        "loglik.model2 <- function(lambdavec) {\n",
        "  lambdaI <- lambdavec[1]\n",
        "  lambdaM <- lambdavec[2]\n",
        "  lambdaW <- lambdavec[3]\n",
        "  example <- hiv_deaths %>%\n",
        "  mutate(model2.loglik.contribution = case_when(State=='Iowa'~log(dpois(Deaths, lambdaI)),\n",
        "                                                State=='Minnesota'~log(dpois(Deaths, lambdaM)),\n",
        "                                                State=='Wisconsin'~log(dpois(Deaths, lambdaW))\n",
        "                                                )\n",
        "        )\n",
        "\n",
        "  out <- sum(example$model2.loglik.contribution)\n",
        "  return(out)\n",
        "}"
      ],
      "metadata": {
        "id": "ihgUh9QshJC7"
      },
      "execution_count": null,
      "outputs": []
    },
    {
      "cell_type": "code",
      "source": [
        "# verifying loglik.model2(c(20, 50, 40)) returns -315.1246367.\n",
        "loglik.model2(c(20, 50, 40))"
      ],
      "metadata": {
        "colab": {
          "base_uri": "https://localhost:8080/",
          "height": 34
        },
        "id": "XgohwUINnVhC",
        "outputId": "747af568-7183-43e4-b639-f5273763315b"
      },
      "execution_count": null,
      "outputs": [
        {
          "output_type": "display_data",
          "data": {
            "text/html": [
              "-315.124636796004"
            ],
            "text/markdown": "-315.124636796004",
            "text/latex": "-315.124636796004",
            "text/plain": [
              "[1] -315.1246"
            ]
          },
          "metadata": {}
        }
      ]
    },
    {
      "cell_type": "markdown",
      "source": [
        "## C) Maximizing the log-likelihoods\n",
        "\n",
        "Find the maximum likelihood estimators (MLEs) for the two models:"
      ],
      "metadata": {
        "id": "DakTn-xBz5z6"
      }
    },
    {
      "cell_type": "markdown",
      "source": [
        "### i) Model 1\n",
        "\n",
        "Use `optimize()` and `loglik.model1()` to find the MLE of $\\lambda$ for the single-parameter Model 1.  Verify that the MLE is just the average number of deaths across all states in the data set."
      ],
      "metadata": {
        "id": "Vv61vBDI0GWh"
      }
    },
    {
      "cell_type": "code",
      "source": [
        "# the average number of deaths across all states\n",
        "hiv_deaths %>%\n",
        "  summarise(average_deaths = mean(Deaths))"
      ],
      "metadata": {
        "colab": {
          "base_uri": "https://localhost:8080/",
          "height": 129
        },
        "id": "crsHuZJtD1uM",
        "outputId": "c1d52adc-0274-4104-9a44-2735d60c46eb"
      },
      "execution_count": null,
      "outputs": [
        {
          "output_type": "display_data",
          "data": {
            "text/html": [
              "<table class=\"dataframe\">\n",
              "<caption>A data.frame: 1 × 1</caption>\n",
              "<thead>\n",
              "\t<tr><th scope=col>average_deaths</th></tr>\n",
              "\t<tr><th scope=col>&lt;dbl&gt;</th></tr>\n",
              "</thead>\n",
              "<tbody>\n",
              "\t<tr><td>36.77273</td></tr>\n",
              "</tbody>\n",
              "</table>\n"
            ],
            "text/markdown": "\nA data.frame: 1 × 1\n\n| average_deaths &lt;dbl&gt; |\n|---|\n| 36.77273 |\n\n",
            "text/latex": "A data.frame: 1 × 1\n\\begin{tabular}{l}\n average\\_deaths\\\\\n <dbl>\\\\\n\\hline\n\t 36.77273\\\\\n\\end{tabular}\n",
            "text/plain": [
              "  average_deaths\n",
              "1 36.77273      "
            ]
          },
          "metadata": {}
        }
      ]
    },
    {
      "cell_type": "markdown",
      "source": [
        "<font color = red>**Question:**\n",
        "<br>\n",
        "Am I suppposes to guess the \"interval\" based on the average deaths? (see note 3.1)"
      ],
      "metadata": {
        "id": "HFoZrrwMHEJi"
      }
    },
    {
      "cell_type": "code",
      "source": [
        "# my verification with optimize()\n",
        "optimize(loglik.model1, interval = c(0, 100), maximum = TRUE)"
      ],
      "metadata": {
        "id": "BQT0ddDPvcH8",
        "outputId": "9bb74c34-0a66-4da0-e0d0-d17ab5925bde",
        "colab": {
          "base_uri": "https://localhost:8080/",
          "height": 114
        }
      },
      "execution_count": null,
      "outputs": [
        {
          "output_type": "display_data",
          "data": {
            "text/html": [
              "<dl>\n",
              "\t<dt>$maximum</dt>\n",
              "\t\t<dd>36.7727246066064</dd>\n",
              "\t<dt>$objective</dt>\n",
              "\t\t<dd>-444.710808190832</dd>\n",
              "</dl>\n"
            ],
            "text/markdown": "$maximum\n:   36.7727246066064\n$objective\n:   -444.710808190832\n\n\n",
            "text/latex": "\\begin{description}\n\\item[\\$maximum] 36.7727246066064\n\\item[\\$objective] -444.710808190832\n\\end{description}\n",
            "text/plain": [
              "$maximum\n",
              "[1] 36.77272\n",
              "\n",
              "$objective\n",
              "[1] -444.7108\n"
            ]
          },
          "metadata": {}
        }
      ]
    },
    {
      "cell_type": "markdown",
      "source": [
        "### ii) Model 2\n",
        "\n",
        "Use `optim()` and `loglik.model2()` to find the MLE of $(\\lambda_I, \\lambda_M, \\lambda_W)$ for the three-parameter Model 2.  Verify that the MLEs are the average number of deaths by state in the data set."
      ],
      "metadata": {
        "id": "nf6mun0F0Z3s"
      }
    },
    {
      "cell_type": "markdown",
      "source": [
        "**<font color = red> Refer to the note 3.2**\n",
        "<br>\n",
        "You cannot use \"optimize\" function when you have multiple parameters.\n",
        "<br>\n",
        "Instead, use \"optim\"."
      ],
      "metadata": {
        "id": "kfDWJJAHVKDC"
      }
    },
    {
      "cell_type": "code",
      "source": [
        "# the average number of deaths by state\n",
        "hiv_deaths %>%\n",
        "  group_by(State) %>%\n",
        "  summarise(average_deaths = mean(Deaths))"
      ],
      "metadata": {
        "colab": {
          "base_uri": "https://localhost:8080/",
          "height": 192
        },
        "id": "8xmNxGUWEHK7",
        "outputId": "68f657ae-2d70-4c6b-870c-f4b56162b0c4"
      },
      "execution_count": null,
      "outputs": [
        {
          "output_type": "display_data",
          "data": {
            "text/html": [
              "<table class=\"dataframe\">\n",
              "<caption>A tibble: 3 × 2</caption>\n",
              "<thead>\n",
              "\t<tr><th scope=col>State</th><th scope=col>average_deaths</th></tr>\n",
              "\t<tr><th scope=col>&lt;chr&gt;</th><th scope=col>&lt;dbl&gt;</th></tr>\n",
              "</thead>\n",
              "<tbody>\n",
              "\t<tr><td>Iowa     </td><td>19.50000</td></tr>\n",
              "\t<tr><td>Minnesota</td><td>43.95455</td></tr>\n",
              "\t<tr><td>Wisconsin</td><td>46.86364</td></tr>\n",
              "</tbody>\n",
              "</table>\n"
            ],
            "text/markdown": "\nA tibble: 3 × 2\n\n| State &lt;chr&gt; | average_deaths &lt;dbl&gt; |\n|---|---|\n| Iowa      | 19.50000 |\n| Minnesota | 43.95455 |\n| Wisconsin | 46.86364 |\n\n",
            "text/latex": "A tibble: 3 × 2\n\\begin{tabular}{ll}\n State & average\\_deaths\\\\\n <chr> & <dbl>\\\\\n\\hline\n\t Iowa      & 19.50000\\\\\n\t Minnesota & 43.95455\\\\\n\t Wisconsin & 46.86364\\\\\n\\end{tabular}\n",
            "text/plain": [
              "  State     average_deaths\n",
              "1 Iowa      19.50000      \n",
              "2 Minnesota 43.95455      \n",
              "3 Wisconsin 46.86364      "
            ]
          },
          "metadata": {}
        }
      ]
    },
    {
      "cell_type": "code",
      "source": [
        "# my verification with optim()\n",
        "optim(loglik.model2, par = c(30,30,30), control = list(fnscale = -1))"
      ],
      "metadata": {
        "colab": {
          "base_uri": "https://localhost:8080/",
          "height": 219
        },
        "id": "bCps9OkqiNMC",
        "outputId": "937d8f76-43d5-4b2c-b9bd-c8020eba6173"
      },
      "execution_count": null,
      "outputs": [
        {
          "output_type": "display_data",
          "data": {
            "text/html": [
              "<dl>\n",
              "\t<dt>$par</dt>\n",
              "\t\t<dd><style>\n",
              ".list-inline {list-style: none; margin:0; padding: 0}\n",
              ".list-inline>li {display: inline-block}\n",
              ".list-inline>li:not(:last-child)::after {content: \"\\00b7\"; padding: 0 .5ex}\n",
              "</style>\n",
              "<ol class=list-inline><li>19.4995106990696</li><li>43.9498452579646</li><li>46.8610136819688</li></ol>\n",
              "</dd>\n",
              "\t<dt>$value</dt>\n",
              "\t\t<dd>-294.328520825565</dd>\n",
              "\t<dt>$counts</dt>\n",
              "\t\t<dd><style>\n",
              ".dl-inline {width: auto; margin:0; padding: 0}\n",
              ".dl-inline>dt, .dl-inline>dd {float: none; width: auto; display: inline-block}\n",
              ".dl-inline>dt::after {content: \":\\0020\"; padding-right: .5ex}\n",
              ".dl-inline>dt:not(:first-of-type) {padding-left: .5ex}\n",
              "</style><dl class=dl-inline><dt>function</dt><dd>136</dd><dt>gradient</dt><dd>&lt;NA&gt;</dd></dl>\n",
              "</dd>\n",
              "\t<dt>$convergence</dt>\n",
              "\t\t<dd>0</dd>\n",
              "\t<dt>$message</dt>\n",
              "\t\t<dd>NULL</dd>\n",
              "</dl>\n"
            ],
            "text/markdown": "$par\n:   1. 19.4995106990696\n2. 43.9498452579646\n3. 46.8610136819688\n\n\n\n$value\n:   -294.328520825565\n$counts\n:   function\n:   136gradient\n:   &lt;NA&gt;\n\n\n$convergence\n:   0\n$message\n:   NULL\n\n\n",
            "text/latex": "\\begin{description}\n\\item[\\$par] \\begin{enumerate*}\n\\item 19.4995106990696\n\\item 43.9498452579646\n\\item 46.8610136819688\n\\end{enumerate*}\n\n\\item[\\$value] -294.328520825565\n\\item[\\$counts] \\begin{description*}\n\\item[function] 136\n\\item[gradient] <NA>\n\\end{description*}\n\n\\item[\\$convergence] 0\n\\item[\\$message] NULL\n\\end{description}\n",
            "text/plain": [
              "$par\n",
              "[1] 19.49951 43.94985 46.86101\n",
              "\n",
              "$value\n",
              "[1] -294.3285\n",
              "\n",
              "$counts\n",
              "function gradient \n",
              "     136       NA \n",
              "\n",
              "$convergence\n",
              "[1] 0\n",
              "\n",
              "$message\n",
              "NULL\n"
            ]
          },
          "metadata": {}
        }
      ]
    },
    {
      "cell_type": "markdown",
      "source": [
        "## D) Comparing the models\n"
      ],
      "metadata": {
        "id": "_0xRGuGM0tLA"
      }
    },
    {
      "cell_type": "markdown",
      "source": [
        "### i) AIC, BIC\n",
        "Fill in the table below with the model metrics:\n",
        "\n",
        "Model | Number of parameters | Maximized log-likelihood | AIC | BIC |\n",
        "--- | --- | --- | --- | --- |\n",
        "1   | 1 | -444.7108 | 891.42 | 893.61  |\n",
        "2   | 3 | -294.3285 | 594.66 | 601.23  |\n"
      ],
      "metadata": {
        "id": "4woMh4Wv1MdM"
      }
    },
    {
      "cell_type": "markdown",
      "source": [
        "![image.png](data:image/png;base64,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)"
      ],
      "metadata": {
        "id": "h5ZiafI1eC_N"
      }
    },
    {
      "cell_type": "code",
      "source": [
        "# AIC of Model 1 (1 parameter model):\n",
        "-2 * -444.7108 + 2 * 1"
      ],
      "metadata": {
        "colab": {
          "base_uri": "https://localhost:8080/",
          "height": 34
        },
        "id": "6viXYN97dxPx",
        "outputId": "a0ff2f26-c3d7-48fb-d001-caeb96b3eb85"
      },
      "execution_count": null,
      "outputs": [
        {
          "output_type": "display_data",
          "data": {
            "text/html": [
              "891.4216"
            ],
            "text/markdown": "891.4216",
            "text/latex": "891.4216",
            "text/plain": [
              "[1] 891.4216"
            ]
          },
          "metadata": {}
        }
      ]
    },
    {
      "cell_type": "code",
      "source": [
        "# AIC of Model 2 (3 parameters model):\n",
        "-2 * -294.3285 + 2 * 3"
      ],
      "metadata": {
        "colab": {
          "base_uri": "https://localhost:8080/",
          "height": 34
        },
        "id": "aEzoWriddxey",
        "outputId": "6ca6335c-1ae7-4408-b66a-b9a52d82ebdf"
      },
      "execution_count": null,
      "outputs": [
        {
          "output_type": "display_data",
          "data": {
            "text/html": [
              "594.657"
            ],
            "text/markdown": "594.657",
            "text/latex": "594.657",
            "text/plain": [
              "[1] 594.657"
            ]
          },
          "metadata": {}
        }
      ]
    },
    {
      "cell_type": "code",
      "source": [
        "# There are 66 rows in the df\n",
        "hiv_deaths %>%\n",
        "  summarise(n = n())"
      ],
      "metadata": {
        "colab": {
          "base_uri": "https://localhost:8080/",
          "height": 164
        },
        "id": "RB1vIFZqe9dy",
        "outputId": "f171ab8a-786b-46b3-f793-943384d91e06"
      },
      "execution_count": null,
      "outputs": [
        {
          "output_type": "display_data",
          "data": {
            "text/html": [
              "<table class=\"dataframe\">\n",
              "<caption>A data.frame: 1 × 1</caption>\n",
              "<thead>\n",
              "\t<tr><th scope=col>n</th></tr>\n",
              "\t<tr><th scope=col>&lt;int&gt;</th></tr>\n",
              "</thead>\n",
              "<tbody>\n",
              "\t<tr><td>66</td></tr>\n",
              "</tbody>\n",
              "</table>\n"
            ],
            "text/markdown": "\nA data.frame: 1 × 1\n\n| n &lt;int&gt; |\n|---|\n| 66 |\n\n",
            "text/latex": "A data.frame: 1 × 1\n\\begin{tabular}{l}\n n\\\\\n <int>\\\\\n\\hline\n\t 66\\\\\n\\end{tabular}\n",
            "text/plain": [
              "  n \n",
              "1 66"
            ]
          },
          "metadata": {}
        }
      ]
    },
    {
      "cell_type": "code",
      "source": [
        "# BIC of Model 1 (1 parameter model):\n",
        "-2 * -444.7108  + log(66) * 1"
      ],
      "metadata": {
        "colab": {
          "base_uri": "https://localhost:8080/",
          "height": 34
        },
        "id": "VxwjlFjneaSG",
        "outputId": "1a33f05b-23d8-4600-8a33-726bc308c123"
      },
      "execution_count": null,
      "outputs": [
        {
          "output_type": "display_data",
          "data": {
            "text/html": [
              "893.611254742026"
            ],
            "text/markdown": "893.611254742026",
            "text/latex": "893.611254742026",
            "text/plain": [
              "[1] 893.6113"
            ]
          },
          "metadata": {}
        }
      ]
    },
    {
      "cell_type": "code",
      "source": [
        "# BIC of Model 2 (3 parameter model):\n",
        "-2 * -294.3285  + log(66) * 3"
      ],
      "metadata": {
        "colab": {
          "base_uri": "https://localhost:8080/",
          "height": 34
        },
        "id": "siFu9-CoefqN",
        "outputId": "f3ec3de5-b078-4a86-b130-85c978c49bae"
      },
      "execution_count": null,
      "outputs": [
        {
          "output_type": "display_data",
          "data": {
            "text/html": [
              "601.225964226079"
            ],
            "text/markdown": "601.225964226079",
            "text/latex": "601.225964226079",
            "text/plain": [
              "[1] 601.226"
            ]
          },
          "metadata": {}
        }
      ]
    },
    {
      "cell_type": "markdown",
      "source": [
        "### ii) Likelihood ratio test\n",
        "\n",
        "Find the likelihood ratio test statistic and its associated p-value."
      ],
      "metadata": {
        "id": "Mv_uieoA1bsi"
      }
    },
    {
      "cell_type": "markdown",
      "source": [
        "![image.png](data:image/png;base64,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)"
      ],
      "metadata": {
        "id": "-RJoOXXRk-Di"
      }
    },
    {
      "cell_type": "code",
      "source": [
        "# Difference in maximized log-likelihoods\n",
        "# Always be positive\n",
        "-294.3285 - -444.7108"
      ],
      "metadata": {
        "colab": {
          "base_uri": "https://localhost:8080/",
          "height": 34
        },
        "id": "mPu5yuIzg6Vs",
        "outputId": "a9d754a0-91ca-471e-e5a2-e94b86eb4084"
      },
      "execution_count": null,
      "outputs": [
        {
          "output_type": "display_data",
          "data": {
            "text/html": [
              "150.3823"
            ],
            "text/markdown": "150.3823",
            "text/latex": "150.3823",
            "text/plain": [
              "[1] 150.3823"
            ]
          },
          "metadata": {}
        }
      ]
    },
    {
      "cell_type": "code",
      "source": [
        "# This is something = similar to F-stat\n",
        "LambdaStat <- 2*(-294.3285 - -444.7108)\n",
        "LambdaStat"
      ],
      "metadata": {
        "colab": {
          "base_uri": "https://localhost:8080/",
          "height": 34
        },
        "id": "LK-0kp_UlgrW",
        "outputId": "4f3fdf59-5540-4a01-c49c-bfdcff388db5"
      },
      "execution_count": null,
      "outputs": [
        {
          "output_type": "display_data",
          "data": {
            "text/html": [
              "300.7646"
            ],
            "text/markdown": "300.7646",
            "text/latex": "300.7646",
            "text/plain": [
              "[1] 300.7646"
            ]
          },
          "metadata": {}
        }
      ]
    },
    {
      "cell_type": "code",
      "source": [
        "# P-value, probability if observing 300.76 Or LARGER:\n",
        "# (pchisq finds 4.88 Or LOWER by default)\n",
        "1 - pchisq(300.76, df = 3-1)"
      ],
      "metadata": {
        "colab": {
          "base_uri": "https://localhost:8080/",
          "height": 34
        },
        "id": "QK0ZdoUulq6O",
        "outputId": "20078a52-87fb-4070-f8da-242ac731f34f"
      },
      "execution_count": null,
      "outputs": [
        {
          "output_type": "display_data",
          "data": {
            "text/html": [
              "0"
            ],
            "text/markdown": "0",
            "text/latex": "0",
            "text/plain": [
              "[1] 0"
            ]
          },
          "metadata": {}
        }
      ]
    },
    {
      "cell_type": "code",
      "source": [
        "pchisq(LambdaStat, df = 2, lower.tail=FALSE)"
      ],
      "metadata": {
        "colab": {
          "base_uri": "https://localhost:8080/",
          "height": 34
        },
        "id": "XNPTvgUCjUtL",
        "outputId": "2b2976a2-0587-49bf-c0e1-39bdee5920a7"
      },
      "execution_count": null,
      "outputs": [
        {
          "output_type": "display_data",
          "data": {
            "text/html": [
              "4.89549863804781e-66"
            ],
            "text/markdown": "4.89549863804781e-66",
            "text/latex": "4.89549863804781e-66",
            "text/plain": [
              "[1] 4.895499e-66"
            ]
          },
          "metadata": {}
        }
      ]
    },
    {
      "cell_type": "markdown",
      "source": [
        "# **D ii - Answer:**\n",
        "**p-value is 0.00 < 0.05, so we have sufficient evidence that the 3-parameter model (Model 2) improves the fit.**"
      ],
      "metadata": {
        "id": "ZT4jUgnRmplN"
      }
    },
    {
      "cell_type": "markdown",
      "source": [
        "## E) Summary and conclusion\n",
        "\n",
        "Take a step back and summarize your findings.  How do HIV deaths vary across state?  Is there evidence that this difference is meaningful?  Use all your results up to this point to justify your claims."
      ],
      "metadata": {
        "id": "RVH6nkH-1p4V"
      }
    },
    {
      "cell_type": "markdown",
      "source": [
        "<font color = red> **Refer to the Activity 4**\n",
        "<br>\n",
        "<font color = red> p-value bigger than 1 does make sense (4.89)??"
      ],
      "metadata": {
        "id": "NfMbWmJOowoP"
      }
    },
    {
      "cell_type": "markdown",
      "source": [
        "# **E - Answer:**\n",
        "**We reject the null hypothesis (p < 0.05). In the other words, we support the alternative hypothesis (Model 2). This indicates that the difference in the HIV death rate in each state has a statistically significant difference.**\n",
        "\n",
        "# **E - Correct Solution:**\n",
        "**<font color = red>HIV rates do vary by state, with the number of deaths highest on average in Wisconsin and lowest in Iowa (these are of course highly dependent on the state's overall population, which we will learn to adjust for later in the semester). There is strong evidence that the rate of deaths differ by state: the AIC and BIC are both much smaller for Model 2, indicating 3 rate parameters are necessary. The p-value from the likelihood ratio test is also highly significant, indicating Model 2 is a notable improvement upon Model 1.**"
      ],
      "metadata": {
        "id": "ITImG9KTmg2P"
      }
    },
    {
      "cell_type": "markdown",
      "source": [
        "# Question 2 (30 points)\n",
        "\n",
        "A topic of some interest in the genetics literature over the past 30 years has been the study of sex-ratio data. In particular, one suggested hypothesis is that there are enough families with an unbalanced sex ratio among their children that the sexes of successive childbirths are not independent random variables but are rather related to each other. This hypothesis suggests that if a couple’s first child is (fe)male, they are more likely to have (fe)male children in successive births. (Personal anecdote: among my wife and her siblings, one has five children (all boys); one has four children (all girls); one has three children (all girls); and my wife and I have two children (both boys). Nobody has yet had two children of different sexes. Coincidence or signal?) The data in the Sex Ratio file report on 175,313 children from 51,868 families with at least two children.  For families with more than 5 children, the sexes of just the first 5 are given.  Thus the maximium family size reported is 5.\n"
      ],
      "metadata": {
        "id": "_IrR7R9rNOKy"
      }
    },
    {
      "cell_type": "code",
      "source": [
        "sexratios <- read.csv('https://www.dropbox.com/s/c04146dc7gbz5kr/sex_ratios_uncounted.csv?dl=1')"
      ],
      "metadata": {
        "id": "m_Y3HkXwD4wz"
      },
      "execution_count": null,
      "outputs": []
    },
    {
      "cell_type": "markdown",
      "source": [
        "A couple exemplary families to give you a feel for the data set:"
      ],
      "metadata": {
        "id": "5dFOrA_2IMDc"
      }
    },
    {
      "cell_type": "code",
      "source": [
        "sexratios %>% filter(familyid==43515)"
      ],
      "metadata": {
        "colab": {
          "base_uri": "https://localhost:8080/",
          "height": 255
        },
        "id": "sN5zMBBaIGTC",
        "outputId": "22ff4a61-e125-4b10-fdf2-26a49786e51d"
      },
      "execution_count": null,
      "outputs": [
        {
          "output_type": "display_data",
          "data": {
            "text/html": [
              "<table class=\"dataframe\">\n",
              "<caption>A data.frame: 5 × 6</caption>\n",
              "<thead>\n",
              "\t<tr><th scope=col>familyid</th><th scope=col>childid</th><th scope=col>nm_chld</th><th scope=col>sexchldn</th><th scope=col>sxchld</th><th scope=col>sxprev</th></tr>\n",
              "\t<tr><th scope=col>&lt;int&gt;</th><th scope=col>&lt;int&gt;</th><th scope=col>&lt;int&gt;</th><th scope=col>&lt;chr&gt;</th><th scope=col>&lt;chr&gt;</th><th scope=col>&lt;chr&gt;</th></tr>\n",
              "</thead>\n",
              "<tbody>\n",
              "\t<tr><td>43515</td><td>1</td><td>5</td><td>MFFFM</td><td>M</td><td>First</td></tr>\n",
              "\t<tr><td>43515</td><td>2</td><td>5</td><td>MFFFM</td><td>F</td><td>M    </td></tr>\n",
              "\t<tr><td>43515</td><td>3</td><td>5</td><td>MFFFM</td><td>F</td><td>F    </td></tr>\n",
              "\t<tr><td>43515</td><td>4</td><td>5</td><td>MFFFM</td><td>F</td><td>F    </td></tr>\n",
              "\t<tr><td>43515</td><td>5</td><td>5</td><td>MFFFM</td><td>M</td><td>F    </td></tr>\n",
              "</tbody>\n",
              "</table>\n"
            ],
            "text/markdown": "\nA data.frame: 5 × 6\n\n| familyid &lt;int&gt; | childid &lt;int&gt; | nm_chld &lt;int&gt; | sexchldn &lt;chr&gt; | sxchld &lt;chr&gt; | sxprev &lt;chr&gt; |\n|---|---|---|---|---|---|\n| 43515 | 1 | 5 | MFFFM | M | First |\n| 43515 | 2 | 5 | MFFFM | F | M     |\n| 43515 | 3 | 5 | MFFFM | F | F     |\n| 43515 | 4 | 5 | MFFFM | F | F     |\n| 43515 | 5 | 5 | MFFFM | M | F     |\n\n",
            "text/latex": "A data.frame: 5 × 6\n\\begin{tabular}{llllll}\n familyid & childid & nm\\_chld & sexchldn & sxchld & sxprev\\\\\n <int> & <int> & <int> & <chr> & <chr> & <chr>\\\\\n\\hline\n\t 43515 & 1 & 5 & MFFFM & M & First\\\\\n\t 43515 & 2 & 5 & MFFFM & F & M    \\\\\n\t 43515 & 3 & 5 & MFFFM & F & F    \\\\\n\t 43515 & 4 & 5 & MFFFM & F & F    \\\\\n\t 43515 & 5 & 5 & MFFFM & M & F    \\\\\n\\end{tabular}\n",
            "text/plain": [
              "  familyid childid nm_chld sexchldn sxchld sxprev\n",
              "1 43515    1       5       MFFFM    M      First \n",
              "2 43515    2       5       MFFFM    F      M     \n",
              "3 43515    3       5       MFFFM    F      F     \n",
              "4 43515    4       5       MFFFM    F      F     \n",
              "5 43515    5       5       MFFFM    M      F     "
            ]
          },
          "metadata": {}
        }
      ]
    },
    {
      "cell_type": "code",
      "source": [
        "sexratios %>% filter(familyid==24303)"
      ],
      "metadata": {
        "colab": {
          "base_uri": "https://localhost:8080/",
          "height": 192
        },
        "id": "QsSvThMuIOdQ",
        "outputId": "1ecafa88-6659-4bc5-d42a-9e67216948ee"
      },
      "execution_count": null,
      "outputs": [
        {
          "output_type": "display_data",
          "data": {
            "text/html": [
              "<table class=\"dataframe\">\n",
              "<caption>A data.frame: 3 × 6</caption>\n",
              "<thead>\n",
              "\t<tr><th scope=col>familyid</th><th scope=col>childid</th><th scope=col>nm_chld</th><th scope=col>sexchldn</th><th scope=col>sxchld</th><th scope=col>sxprev</th></tr>\n",
              "\t<tr><th scope=col>&lt;int&gt;</th><th scope=col>&lt;int&gt;</th><th scope=col>&lt;int&gt;</th><th scope=col>&lt;chr&gt;</th><th scope=col>&lt;chr&gt;</th><th scope=col>&lt;chr&gt;</th></tr>\n",
              "</thead>\n",
              "<tbody>\n",
              "\t<tr><td>24303</td><td>1</td><td>3</td><td>FMM</td><td>F</td><td>First</td></tr>\n",
              "\t<tr><td>24303</td><td>2</td><td>3</td><td>FMM</td><td>M</td><td>F    </td></tr>\n",
              "\t<tr><td>24303</td><td>3</td><td>3</td><td>FMM</td><td>M</td><td>M    </td></tr>\n",
              "</tbody>\n",
              "</table>\n"
            ],
            "text/markdown": "\nA data.frame: 3 × 6\n\n| familyid &lt;int&gt; | childid &lt;int&gt; | nm_chld &lt;int&gt; | sexchldn &lt;chr&gt; | sxchld &lt;chr&gt; | sxprev &lt;chr&gt; |\n|---|---|---|---|---|---|\n| 24303 | 1 | 3 | FMM | F | First |\n| 24303 | 2 | 3 | FMM | M | F     |\n| 24303 | 3 | 3 | FMM | M | M     |\n\n",
            "text/latex": "A data.frame: 3 × 6\n\\begin{tabular}{llllll}\n familyid & childid & nm\\_chld & sexchldn & sxchld & sxprev\\\\\n <int> & <int> & <int> & <chr> & <chr> & <chr>\\\\\n\\hline\n\t 24303 & 1 & 3 & FMM & F & First\\\\\n\t 24303 & 2 & 3 & FMM & M & F    \\\\\n\t 24303 & 3 & 3 & FMM & M & M    \\\\\n\\end{tabular}\n",
            "text/plain": [
              "  familyid childid nm_chld sexchldn sxchld sxprev\n",
              "1 24303    1       3       FMM      F      First \n",
              "2 24303    2       3       FMM      M      F     \n",
              "3 24303    3       3       FMM      M      M     "
            ]
          },
          "metadata": {}
        }
      ]
    },
    {
      "cell_type": "markdown",
      "source": [
        "Columns:\n",
        "\n",
        "*\t`familyid`, `childid`: IDs for family and child within family\n",
        "*\t`nm_chld`: number of children in family\n",
        "* `sexchldn`: sequence of child sex\n",
        "* `sxchld`: the sex of each child; this is the primary response variable, $Y_i$.\n",
        "* `sxprev`: one of `First`, `M`, `F` indicating whether that child was a first-born, or followed a Male or Female child, respectively.  This is the primary $X_i$ variable."
      ],
      "metadata": {
        "id": "IDPjWTnXODGr"
      }
    },
    {
      "cell_type": "markdown",
      "source": [
        "We want to consider two different models for $Y$, the binary variable indicating whether each child is male/female.  For this problem we will code $Y = 1$ for male children and $Y=0$ for female children.\n",
        "\n"
      ],
      "metadata": {
        "id": "35pcFimpNrYZ"
      }
    },
    {
      "cell_type": "markdown",
      "source": [
        "We'll consider 2 different models:"
      ],
      "metadata": {
        "id": "brxAdWjVSjTl"
      }
    },
    {
      "cell_type": "markdown",
      "source": [
        "\n",
        "***Model 1:*** the sexes of previous children are not related to the sex of the current child.  This is a one-parameter model with a single $p$ representing $P(Y_i = 1)$: the probability of a male child regardless of any previous children born.  $1-p$ represents $P(Y_i = 0)$, the probability of a female child regardless of any previous children born.\n",
        "\n",
        "Under Model 1, the contribution of each child to the log-likelihood is:\n",
        "\n",
        "$$\\log\\left(p^{k_i}(1-p)^{1-k_i}\\right) = k_i \\log(p) + (1-k_i) \\log(p)$$\n",
        "\n",
        "That is:\n",
        "\n",
        "* Each male child contributes $\\log(p)$ to the log-likelihood\n",
        "* Each female child contributes $\\log(1-p)$ to the log-likelihood"
      ],
      "metadata": {
        "id": "30v1QqNAR4Yn"
      }
    },
    {
      "cell_type": "markdown",
      "source": [
        "\n",
        "\n",
        "***Model 2:*** the probability of having a (fe)male child depends on the sex of the previous child.  We'll use three parameters for this model: $p_1$, $p_M$, and $p_F$, where:\n",
        "* $p_1 = P(Y_i = 1 | \\mbox{first-born})$ represents probability of a male on the first birth; $P(Y_i = 0 | \\mbox{first-born})=1-p_1$ represents probability of female on the first birth.\n",
        "  - Each first-born male child contributes $\\log(p_1)$ to Model 2's log-likelihood\n",
        "  - Each first-born female child contributes $\\log(1-p_1)$ to Model 2's log-likelihood  \n",
        "* $p_M=P(Y_i = 1 | \\mbox{previous child was male})$ represents probability of a male given the previous child was male; $1-p_M = P(Y_i = 0 | \\mbox{previous child was female})$ represents probability of female given the previous child was male.\n",
        "  - Each male born after a male contributes $\\log(p_M)$ to Model 2's log-likelihood\n",
        "  - Each female born after a male contributes $\\log(1-p_M)$ to Model 2's log-likelihood  \n",
        "* $p_F=P(Y_i = 1 | \\mbox{previous child was female})$ represents probability of a male given the previous child was female; $1-p_F = P(Y_i = 0 | \\mbox{previous child was female})$ represents probability of female given the previous child was female.\n",
        "  - Each male born after a female contributes $\\log(p_F)$ to Model 2's log-likelihood\n",
        "  - Each female born after a female contributes $\\log(1-p_F)$ to Model 2's log-likelihood  "
      ],
      "metadata": {
        "id": "ON43VDr1R3S9"
      }
    },
    {
      "cell_type": "markdown",
      "source": [
        "<font color = red> **Refer to the Activity 4**"
      ],
      "metadata": {
        "id": "U7EVZ0XI3j14"
      }
    },
    {
      "cell_type": "markdown",
      "source": [
        "## A) Warmup: finding log-likelihood contributions\n",
        "\n",
        "Consider the family below:"
      ],
      "metadata": {
        "id": "HjRt369r8Kuv"
      }
    },
    {
      "cell_type": "code",
      "source": [
        "family43515 <- sexratios %>% filter(familyid==43515)\n",
        "family43515"
      ],
      "metadata": {
        "colab": {
          "base_uri": "https://localhost:8080/",
          "height": 255
        },
        "id": "j3ju-7I88bx4",
        "outputId": "d29fd1ea-9c29-493f-a7ee-bd40ecf95fda"
      },
      "execution_count": null,
      "outputs": [
        {
          "output_type": "display_data",
          "data": {
            "text/html": [
              "<table class=\"dataframe\">\n",
              "<caption>A data.frame: 5 × 6</caption>\n",
              "<thead>\n",
              "\t<tr><th scope=col>familyid</th><th scope=col>childid</th><th scope=col>nm_chld</th><th scope=col>sexchldn</th><th scope=col>sxchld</th><th scope=col>sxprev</th></tr>\n",
              "\t<tr><th scope=col>&lt;int&gt;</th><th scope=col>&lt;int&gt;</th><th scope=col>&lt;int&gt;</th><th scope=col>&lt;chr&gt;</th><th scope=col>&lt;chr&gt;</th><th scope=col>&lt;chr&gt;</th></tr>\n",
              "</thead>\n",
              "<tbody>\n",
              "\t<tr><td>43515</td><td>1</td><td>5</td><td>MFFFM</td><td>M</td><td>First</td></tr>\n",
              "\t<tr><td>43515</td><td>2</td><td>5</td><td>MFFFM</td><td>F</td><td>M    </td></tr>\n",
              "\t<tr><td>43515</td><td>3</td><td>5</td><td>MFFFM</td><td>F</td><td>F    </td></tr>\n",
              "\t<tr><td>43515</td><td>4</td><td>5</td><td>MFFFM</td><td>F</td><td>F    </td></tr>\n",
              "\t<tr><td>43515</td><td>5</td><td>5</td><td>MFFFM</td><td>M</td><td>F    </td></tr>\n",
              "</tbody>\n",
              "</table>\n"
            ],
            "text/markdown": "\nA data.frame: 5 × 6\n\n| familyid &lt;int&gt; | childid &lt;int&gt; | nm_chld &lt;int&gt; | sexchldn &lt;chr&gt; | sxchld &lt;chr&gt; | sxprev &lt;chr&gt; |\n|---|---|---|---|---|---|\n| 43515 | 1 | 5 | MFFFM | M | First |\n| 43515 | 2 | 5 | MFFFM | F | M     |\n| 43515 | 3 | 5 | MFFFM | F | F     |\n| 43515 | 4 | 5 | MFFFM | F | F     |\n| 43515 | 5 | 5 | MFFFM | M | F     |\n\n",
            "text/latex": "A data.frame: 5 × 6\n\\begin{tabular}{llllll}\n familyid & childid & nm\\_chld & sexchldn & sxchld & sxprev\\\\\n <int> & <int> & <int> & <chr> & <chr> & <chr>\\\\\n\\hline\n\t 43515 & 1 & 5 & MFFFM & M & First\\\\\n\t 43515 & 2 & 5 & MFFFM & F & M    \\\\\n\t 43515 & 3 & 5 & MFFFM & F & F    \\\\\n\t 43515 & 4 & 5 & MFFFM & F & F    \\\\\n\t 43515 & 5 & 5 & MFFFM & M & F    \\\\\n\\end{tabular}\n",
            "text/plain": [
              "  familyid childid nm_chld sexchldn sxchld sxprev\n",
              "1 43515    1       5       MFFFM    M      First \n",
              "2 43515    2       5       MFFFM    F      M     \n",
              "3 43515    3       5       MFFFM    F      F     \n",
              "4 43515    4       5       MFFFM    F      F     \n",
              "5 43515    5       5       MFFFM    M      F     "
            ]
          },
          "metadata": {}
        }
      ]
    },
    {
      "cell_type": "markdown",
      "source": [
        "### i) Model 1\n",
        "\n",
        "What is the total contribution of this family to the Model 1 log-likelihood, as a function of $p$?"
      ],
      "metadata": {
        "id": "mvMb7yYQ8zfB"
      }
    },
    {
      "cell_type": "markdown",
      "source": [
        "# **A-i: Answer**\n",
        "**$\\log$L$(p)$ = $M*\\log(p)$ + $F*\\log(1-p)$ + $F*\\log(1-p)$ + $F*\\log(1-p)$ + $M*\\log(p)$**\n",
        "\n",
        "**$\\log$L$(p)$ = $2*\\log(p)$ + $3*\\log(1-p)$**"
      ],
      "metadata": {
        "id": "Cl6B-xslwTyt"
      }
    },
    {
      "cell_type": "markdown",
      "source": [
        "### ii) Model 2\n",
        "\n",
        "What is the total contribution of this family to the Model 2 log-likelihood, as a function of $(p_1, p_M, p_F)$?"
      ],
      "metadata": {
        "id": "9_0BbI9L8zfB"
      }
    },
    {
      "cell_type": "markdown",
      "source": [
        "# **A-ii: Answer**\n",
        "**$\\log$L$(p_1, p_M, p_F)$ = $\\log(p_1)$ + $\\log(1-p_M)$ + $\\log(1-p_F)$ + $\\log(1-p_F)$ + $\\log(p_F)$**\n",
        "\n",
        "**$\\log$L$(p_1, p_M, p_F)$ = $\\log(p_1)$ + $\\log(1-p_M)$ + $2*\\log(1-p_F)$ + $\\log(p_F)$**\n"
      ],
      "metadata": {
        "id": "hkGkmTBxyHMh"
      }
    },
    {
      "cell_type": "markdown",
      "source": [
        "## B) Writing the log-likelihood functions\n"
      ],
      "metadata": {
        "id": "iAPB5VMw9D5k"
      }
    },
    {
      "cell_type": "markdown",
      "source": [
        "### i) Model 1\n",
        "\n",
        "\n",
        "Write a function `loglik.model1(p)` that takes as an argument a single parameter $p$ and returns the log-likelihood of all the observed data values.  \n",
        "\n",
        "Check your code by ensuring it matches:\n",
        "\n",
        "\n",
        "`loglik.model1(0.4)`\n",
        "\n",
        "`-125549.537551589`"
      ],
      "metadata": {
        "id": "-RMUYyWa9D5k"
      }
    },
    {
      "cell_type": "code",
      "source": [
        "sexratios %>%\n",
        "  group_by(sxchld) %>%\n",
        "  summarise(n = n())"
      ],
      "metadata": {
        "colab": {
          "base_uri": "https://localhost:8080/",
          "height": 161
        },
        "id": "VAm2DTZw27bg",
        "outputId": "415f0d6e-1c5e-479b-9e5a-70ace421a504"
      },
      "execution_count": null,
      "outputs": [
        {
          "output_type": "display_data",
          "data": {
            "text/html": [
              "<table class=\"dataframe\">\n",
              "<caption>A tibble: 2 × 2</caption>\n",
              "<thead>\n",
              "\t<tr><th scope=col>sxchld</th><th scope=col>n</th></tr>\n",
              "\t<tr><th scope=col>&lt;chr&gt;</th><th scope=col>&lt;int&gt;</th></tr>\n",
              "</thead>\n",
              "<tbody>\n",
              "\t<tr><td>F</td><td>86538</td></tr>\n",
              "\t<tr><td>M</td><td>88775</td></tr>\n",
              "</tbody>\n",
              "</table>\n"
            ],
            "text/markdown": "\nA tibble: 2 × 2\n\n| sxchld &lt;chr&gt; | n &lt;int&gt; |\n|---|---|\n| F | 86538 |\n| M | 88775 |\n\n",
            "text/latex": "A tibble: 2 × 2\n\\begin{tabular}{ll}\n sxchld & n\\\\\n <chr> & <int>\\\\\n\\hline\n\t F & 86538\\\\\n\t M & 88775\\\\\n\\end{tabular}\n",
            "text/plain": [
              "  sxchld n    \n",
              "1 F      86538\n",
              "2 M      88775"
            ]
          },
          "metadata": {}
        }
      ]
    },
    {
      "cell_type": "code",
      "source": [
        "# This is my function\n",
        "loglik.model1 <- function(p){\n",
        "  out <- 88775*log(p) + 86538*log(1-p)\n",
        "  return(out)\n",
        "}"
      ],
      "metadata": {
        "id": "GzRd3S5a3UWq"
      },
      "execution_count": null,
      "outputs": []
    },
    {
      "cell_type": "code",
      "source": [
        "# Checking my code works\n",
        "loglik.model1(0.4)"
      ],
      "metadata": {
        "colab": {
          "base_uri": "https://localhost:8080/",
          "height": 34
        },
        "id": "gELwqq0l2100",
        "outputId": "d175494c-54d9-4a33-989e-314fcb2eb37b"
      },
      "execution_count": null,
      "outputs": [
        {
          "output_type": "display_data",
          "data": {
            "text/html": [
              "-125549.537551589"
            ],
            "text/markdown": "-125549.537551589",
            "text/latex": "-125549.537551589",
            "text/plain": [
              "[1] -125549.5"
            ]
          },
          "metadata": {}
        }
      ]
    },
    {
      "cell_type": "markdown",
      "source": [
        "### ii) Model 2\n"
      ],
      "metadata": {
        "id": "-dpJtqhI98Kb"
      }
    },
    {
      "cell_type": "markdown",
      "source": [
        "Write a function `loglik.model2(pvec)` that takes as an argument a vector of 3 parameters $(p_1, p_M, p_F)$ and returns the log-likelihood of all the observed data values for those parameters.  Check that it works by verifying `loglik.model2(c(.5, .6, .4))` returns `-123702.635775539`.\n",
        "\n",
        "Hint: the code below calculates the contribution of each child from Family 43515 to the log-likelihood when $(p_1, p_M, p_F) = (0.5, 0.6, 0.4)$"
      ],
      "metadata": {
        "id": "EOP8mqPyBM4V"
      }
    },
    {
      "cell_type": "code",
      "source": [
        "p1 <- 0.5\n",
        "pM <- 0.6\n",
        "pF <- 0.4\n",
        "family43515 %>%\n",
        "  mutate(loglik2.contribution = case_when(sxchld=='M' & sxprev=='First'~log(p1),\n",
        "                                          sxchld=='F' & sxprev=='First'~log(1-p1),\n",
        "                                          sxchld=='M' & sxprev=='M'~log(pM),\n",
        "                                          sxchld=='F' & sxprev=='M'~log(1-pM),\n",
        "                                          sxchld=='M' & sxprev=='F'~log(pF),\n",
        "                                          sxchld=='F' & sxprev=='F'~log(1-pF)))"
      ],
      "metadata": {
        "colab": {
          "base_uri": "https://localhost:8080/",
          "height": 255
        },
        "id": "1gOJgP5WBkVn",
        "outputId": "07d24a38-87ed-45cd-ccbf-fe698cb7881a"
      },
      "execution_count": null,
      "outputs": [
        {
          "output_type": "display_data",
          "data": {
            "text/html": [
              "<table class=\"dataframe\">\n",
              "<caption>A data.frame: 5 × 7</caption>\n",
              "<thead>\n",
              "\t<tr><th scope=col>familyid</th><th scope=col>childid</th><th scope=col>nm_chld</th><th scope=col>sexchldn</th><th scope=col>sxchld</th><th scope=col>sxprev</th><th scope=col>loglik2.contribution</th></tr>\n",
              "\t<tr><th scope=col>&lt;int&gt;</th><th scope=col>&lt;int&gt;</th><th scope=col>&lt;int&gt;</th><th scope=col>&lt;chr&gt;</th><th scope=col>&lt;chr&gt;</th><th scope=col>&lt;chr&gt;</th><th scope=col>&lt;dbl&gt;</th></tr>\n",
              "</thead>\n",
              "<tbody>\n",
              "\t<tr><td>43515</td><td>1</td><td>5</td><td>MFFFM</td><td>M</td><td>First</td><td>-0.6931472</td></tr>\n",
              "\t<tr><td>43515</td><td>2</td><td>5</td><td>MFFFM</td><td>F</td><td>M    </td><td>-0.9162907</td></tr>\n",
              "\t<tr><td>43515</td><td>3</td><td>5</td><td>MFFFM</td><td>F</td><td>F    </td><td>-0.5108256</td></tr>\n",
              "\t<tr><td>43515</td><td>4</td><td>5</td><td>MFFFM</td><td>F</td><td>F    </td><td>-0.5108256</td></tr>\n",
              "\t<tr><td>43515</td><td>5</td><td>5</td><td>MFFFM</td><td>M</td><td>F    </td><td>-0.9162907</td></tr>\n",
              "</tbody>\n",
              "</table>\n"
            ],
            "text/markdown": "\nA data.frame: 5 × 7\n\n| familyid &lt;int&gt; | childid &lt;int&gt; | nm_chld &lt;int&gt; | sexchldn &lt;chr&gt; | sxchld &lt;chr&gt; | sxprev &lt;chr&gt; | loglik2.contribution &lt;dbl&gt; |\n|---|---|---|---|---|---|---|\n| 43515 | 1 | 5 | MFFFM | M | First | -0.6931472 |\n| 43515 | 2 | 5 | MFFFM | F | M     | -0.9162907 |\n| 43515 | 3 | 5 | MFFFM | F | F     | -0.5108256 |\n| 43515 | 4 | 5 | MFFFM | F | F     | -0.5108256 |\n| 43515 | 5 | 5 | MFFFM | M | F     | -0.9162907 |\n\n",
            "text/latex": "A data.frame: 5 × 7\n\\begin{tabular}{lllllll}\n familyid & childid & nm\\_chld & sexchldn & sxchld & sxprev & loglik2.contribution\\\\\n <int> & <int> & <int> & <chr> & <chr> & <chr> & <dbl>\\\\\n\\hline\n\t 43515 & 1 & 5 & MFFFM & M & First & -0.6931472\\\\\n\t 43515 & 2 & 5 & MFFFM & F & M     & -0.9162907\\\\\n\t 43515 & 3 & 5 & MFFFM & F & F     & -0.5108256\\\\\n\t 43515 & 4 & 5 & MFFFM & F & F     & -0.5108256\\\\\n\t 43515 & 5 & 5 & MFFFM & M & F     & -0.9162907\\\\\n\\end{tabular}\n",
            "text/plain": [
              "  familyid childid nm_chld sexchldn sxchld sxprev loglik2.contribution\n",
              "1 43515    1       5       MFFFM    M      First  -0.6931472          \n",
              "2 43515    2       5       MFFFM    F      M      -0.9162907          \n",
              "3 43515    3       5       MFFFM    F      F      -0.5108256          \n",
              "4 43515    4       5       MFFFM    F      F      -0.5108256          \n",
              "5 43515    5       5       MFFFM    M      F      -0.9162907          "
            ]
          },
          "metadata": {}
        }
      ]
    },
    {
      "cell_type": "code",
      "source": [
        "# This is my function\n",
        "loglik.model2 <- function(pvec) {\n",
        "  p1 <- pvec[1]\n",
        "  pM <- pvec[2]\n",
        "  pF <- pvec[3]\n",
        "\n",
        "  model2_df <- sexratios  %>%\n",
        "   mutate(model2.loglik.contribution = case_when(sxchld=='M' & sxprev=='First'~log(p1),\n",
        "                                                 sxchld=='F' & sxprev=='First'~log(1-p1),\n",
        "                                                 sxchld=='M' & sxprev=='M'~log(pM),\n",
        "                                                 sxchld=='F' & sxprev=='M'~log(1-pM),\n",
        "                                                 sxchld=='M' & sxprev=='F'~log(pF),\n",
        "                                                 sxchld=='F' & sxprev=='F'~log(1-pF)\n",
        "                                                 ))\n",
        "  out <- sum(model2_df$model2.loglik.contribution)\n",
        "  return(out)\n",
        "}"
      ],
      "metadata": {
        "id": "CQuZ9dB16lI7"
      },
      "execution_count": null,
      "outputs": []
    },
    {
      "cell_type": "code",
      "source": [
        "# Checking my code works\n",
        "loglik.model2(c(0.5, 0.6, 0.4))"
      ],
      "metadata": {
        "colab": {
          "base_uri": "https://localhost:8080/",
          "height": 34
        },
        "id": "JbT-STBx8Zrd",
        "outputId": "0c8c63e4-8d30-4252-9db8-659ee1f834d2"
      },
      "execution_count": null,
      "outputs": [
        {
          "output_type": "display_data",
          "data": {
            "text/html": [
              "-123702.635775539"
            ],
            "text/markdown": "-123702.635775539",
            "text/latex": "-123702.635775539",
            "text/plain": [
              "[1] -123702.6"
            ]
          },
          "metadata": {}
        }
      ]
    },
    {
      "cell_type": "markdown",
      "source": [
        "## C) Maximizing the log-likelihoods\n",
        "\n"
      ],
      "metadata": {
        "id": "mxDWK4jWaYWs"
      }
    },
    {
      "cell_type": "markdown",
      "source": [
        "### i) Model 1\n",
        "\n",
        "Use your `loglik.model1(p)` function and `optimize()` to find the MLE of the Model 1 parameter, $\\hat p_{MLE}$.  Verify that the MLE equals the overall proportion of male children across the entire data set."
      ],
      "metadata": {
        "id": "xlHAWgyMA9y6"
      }
    },
    {
      "cell_type": "code",
      "source": [
        "#  find the MLE of the Model 1\n",
        "optimize(loglik.model1, interval = c(0,1), maximum = TRUE)"
      ],
      "metadata": {
        "colab": {
          "base_uri": "https://localhost:8080/",
          "height": 114
        },
        "id": "cBogs4dl9Bdz",
        "outputId": "e425a2ba-afe2-4500-92be-0a62fec6e165"
      },
      "execution_count": null,
      "outputs": [
        {
          "output_type": "display_data",
          "data": {
            "text/html": [
              "<dl>\n",
              "\t<dt>$maximum</dt>\n",
              "\t\t<dd>0.506365177624014</dd>\n",
              "\t<dt>$objective</dt>\n",
              "\t\t<dd>-121503.439256369</dd>\n",
              "</dl>\n"
            ],
            "text/markdown": "$maximum\n:   0.506365177624014\n$objective\n:   -121503.439256369\n\n\n",
            "text/latex": "\\begin{description}\n\\item[\\$maximum] 0.506365177624014\n\\item[\\$objective] -121503.439256369\n\\end{description}\n",
            "text/plain": [
              "$maximum\n",
              "[1] 0.5063652\n",
              "\n",
              "$objective\n",
              "[1] -121503.4\n"
            ]
          },
          "metadata": {}
        }
      ]
    },
    {
      "cell_type": "code",
      "source": [
        "# Verify that the MLE equals the overall proportion of male children across the entire data set.\n",
        "sexratios %>%\n",
        "  summarise(n = n(),\n",
        "            male_total = sum(sxchld=='M')) %>%\n",
        "  mutate(male_ratio = male_total/n)"
      ],
      "metadata": {
        "colab": {
          "base_uri": "https://localhost:8080/",
          "height": 129
        },
        "id": "jG-sR1FsgKZo",
        "outputId": "799db5d6-228f-44e9-966a-f0695dd98705"
      },
      "execution_count": null,
      "outputs": [
        {
          "output_type": "display_data",
          "data": {
            "text/html": [
              "<table class=\"dataframe\">\n",
              "<caption>A data.frame: 1 × 3</caption>\n",
              "<thead>\n",
              "\t<tr><th scope=col>n</th><th scope=col>male_total</th><th scope=col>male_ratio</th></tr>\n",
              "\t<tr><th scope=col>&lt;int&gt;</th><th scope=col>&lt;int&gt;</th><th scope=col>&lt;dbl&gt;</th></tr>\n",
              "</thead>\n",
              "<tbody>\n",
              "\t<tr><td>175313</td><td>88775</td><td>0.50638</td></tr>\n",
              "</tbody>\n",
              "</table>\n"
            ],
            "text/markdown": "\nA data.frame: 1 × 3\n\n| n &lt;int&gt; | male_total &lt;int&gt; | male_ratio &lt;dbl&gt; |\n|---|---|---|\n| 175313 | 88775 | 0.50638 |\n\n",
            "text/latex": "A data.frame: 1 × 3\n\\begin{tabular}{lll}\n n & male\\_total & male\\_ratio\\\\\n <int> & <int> & <dbl>\\\\\n\\hline\n\t 175313 & 88775 & 0.50638\\\\\n\\end{tabular}\n",
            "text/plain": [
              "  n      male_total male_ratio\n",
              "1 175313 88775      0.50638   "
            ]
          },
          "metadata": {}
        }
      ]
    },
    {
      "cell_type": "markdown",
      "source": [
        "### ii) Model 2\n",
        "\n",
        "Use `optim()` and `loglik.model2()` to find the MLE of $(p_1,p_M,p_F)$ for the three-parameter Model 2.  Verify that these MLEs are, respectively, the proportion of males among all first-borns; the proportion of males following male children; and the proportion of males following female children."
      ],
      "metadata": {
        "id": "Xhev9c6VaYWr"
      }
    },
    {
      "cell_type": "markdown",
      "source": [
        "![image.png](data:image/png;base64,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)"
      ],
      "metadata": {
        "id": "pP_Ctfk9hiew"
      }
    },
    {
      "cell_type": "code",
      "source": [
        "# Verification of optim()\n",
        "sexratios %>%\n",
        "  summarise(n_1st = sum(sxprev=='First'),\n",
        "            n_1st_male = sum(sxprev=='First' & sxchld=='M'),\n",
        "            n_2nd = sum(sxprev=='M'),\n",
        "            n_2nd_male = sum(sxprev=='M' & sxchld=='M'),\n",
        "            n_3rd = sum(sxprev=='F'),\n",
        "            n_3rd_male = sum(sxprev=='F' & sxchld=='M'),\n",
        "            ) %>%\n",
        "  mutate(male_1st = n_1st_male/n_1st,\n",
        "         male_2nd = n_2nd_male/n_2nd,\n",
        "         male_3rd = n_3rd_male/n_3rd\n",
        ")"
      ],
      "metadata": {
        "colab": {
          "base_uri": "https://localhost:8080/",
          "height": 129
        },
        "id": "qHaLsjBChGQl",
        "outputId": "76a3d17d-f775-45cf-a58c-f09b090c2f30"
      },
      "execution_count": null,
      "outputs": [
        {
          "output_type": "display_data",
          "data": {
            "text/html": [
              "<table class=\"dataframe\">\n",
              "<caption>A data.frame: 1 × 9</caption>\n",
              "<thead>\n",
              "\t<tr><th scope=col>n_1st</th><th scope=col>n_1st_male</th><th scope=col>n_2nd</th><th scope=col>n_2nd_male</th><th scope=col>n_3rd</th><th scope=col>n_3rd_male</th><th scope=col>male_1st</th><th scope=col>male_2nd</th><th scope=col>male_3rd</th></tr>\n",
              "\t<tr><th scope=col>&lt;int&gt;</th><th scope=col>&lt;int&gt;</th><th scope=col>&lt;int&gt;</th><th scope=col>&lt;int&gt;</th><th scope=col>&lt;int&gt;</th><th scope=col>&lt;int&gt;</th><th scope=col>&lt;dbl&gt;</th><th scope=col>&lt;dbl&gt;</th><th scope=col>&lt;dbl&gt;</th></tr>\n",
              "</thead>\n",
              "<tbody>\n",
              "\t<tr><td>51868</td><td>26149</td><td>62217</td><td>31973</td><td>61228</td><td>30653</td><td>0.5041451</td><td>0.5138949</td><td>0.500637</td></tr>\n",
              "</tbody>\n",
              "</table>\n"
            ],
            "text/markdown": "\nA data.frame: 1 × 9\n\n| n_1st &lt;int&gt; | n_1st_male &lt;int&gt; | n_2nd &lt;int&gt; | n_2nd_male &lt;int&gt; | n_3rd &lt;int&gt; | n_3rd_male &lt;int&gt; | male_1st &lt;dbl&gt; | male_2nd &lt;dbl&gt; | male_3rd &lt;dbl&gt; |\n|---|---|---|---|---|---|---|---|---|\n| 51868 | 26149 | 62217 | 31973 | 61228 | 30653 | 0.5041451 | 0.5138949 | 0.500637 |\n\n",
            "text/latex": "A data.frame: 1 × 9\n\\begin{tabular}{lllllllll}\n n\\_1st & n\\_1st\\_male & n\\_2nd & n\\_2nd\\_male & n\\_3rd & n\\_3rd\\_male & male\\_1st & male\\_2nd & male\\_3rd\\\\\n <int> & <int> & <int> & <int> & <int> & <int> & <dbl> & <dbl> & <dbl>\\\\\n\\hline\n\t 51868 & 26149 & 62217 & 31973 & 61228 & 30653 & 0.5041451 & 0.5138949 & 0.500637\\\\\n\\end{tabular}\n",
            "text/plain": [
              "  n_1st n_1st_male n_2nd n_2nd_male n_3rd n_3rd_male male_1st  male_2nd \n",
              "1 51868 26149      62217 31973      61228 30653      0.5041451 0.5138949\n",
              "  male_3rd\n",
              "1 0.500637"
            ]
          },
          "metadata": {}
        }
      ]
    },
    {
      "cell_type": "code",
      "source": [
        "# Verification of optim()\n",
        "sexratios %>%\n",
        "  summarise(male_1st = sum(sxprev == 'First' & sxchld == 'M') / sum(sxprev == 'First'),\n",
        "            male_after_M = sum(sxprev == 'M' & sxchld == 'M') / sum(sxprev == 'M'),\n",
        "            male_after_F = sum(sxprev == 'F' & sxchld == 'M') / sum(sxprev == 'F')\n",
        "  )"
      ],
      "metadata": {
        "colab": {
          "base_uri": "https://localhost:8080/",
          "height": 129
        },
        "id": "6OE-Pn3gH89k",
        "outputId": "d7238dc5-1711-4327-a3ea-9837785239c5"
      },
      "execution_count": null,
      "outputs": [
        {
          "output_type": "display_data",
          "data": {
            "text/html": [
              "<table class=\"dataframe\">\n",
              "<caption>A data.frame: 1 × 3</caption>\n",
              "<thead>\n",
              "\t<tr><th scope=col>male_1st</th><th scope=col>male_after_M</th><th scope=col>male_after_F</th></tr>\n",
              "\t<tr><th scope=col>&lt;dbl&gt;</th><th scope=col>&lt;dbl&gt;</th><th scope=col>&lt;dbl&gt;</th></tr>\n",
              "</thead>\n",
              "<tbody>\n",
              "\t<tr><td>0.5041451</td><td>0.5138949</td><td>0.500637</td></tr>\n",
              "</tbody>\n",
              "</table>\n"
            ],
            "text/markdown": "\nA data.frame: 1 × 3\n\n| male_1st &lt;dbl&gt; | male_after_M &lt;dbl&gt; | male_after_F &lt;dbl&gt; |\n|---|---|---|\n| 0.5041451 | 0.5138949 | 0.500637 |\n\n",
            "text/latex": "A data.frame: 1 × 3\n\\begin{tabular}{lll}\n male\\_1st & male\\_after\\_M & male\\_after\\_F\\\\\n <dbl> & <dbl> & <dbl>\\\\\n\\hline\n\t 0.5041451 & 0.5138949 & 0.500637\\\\\n\\end{tabular}\n",
            "text/plain": [
              "  male_1st  male_after_M male_after_F\n",
              "1 0.5041451 0.5138949    0.500637    "
            ]
          },
          "metadata": {}
        }
      ]
    },
    {
      "cell_type": "code",
      "source": [
        "# find the MLE of the Model 1\n",
        "optim(par = c(0.5, 0.5, 0.5),\n",
        "      fn = loglik.model2,\n",
        "      control = list(fnscale = -1))"
      ],
      "metadata": {
        "colab": {
          "base_uri": "https://localhost:8080/",
          "height": 219
        },
        "id": "4yX1-7qCAG5Q",
        "outputId": "8cd0b60b-72c6-4c47-da6e-5b2cab9626f7"
      },
      "execution_count": null,
      "outputs": [
        {
          "output_type": "display_data",
          "data": {
            "text/html": [
              "<dl>\n",
              "\t<dt>$par</dt>\n",
              "\t\t<dd><style>\n",
              ".list-inline {list-style: none; margin:0; padding: 0}\n",
              ".list-inline>li {display: inline-block}\n",
              ".list-inline>li:not(:last-child)::after {content: \"\\00b7\"; padding: 0 .5ex}\n",
              "</style>\n",
              "<ol class=list-inline><li>0.504056775275678</li><li>0.513889190070172</li><li>0.500690500943829</li></ol>\n",
              "</dd>\n",
              "\t<dt>$value</dt>\n",
              "\t\t<dd>-121491.853314561</dd>\n",
              "\t<dt>$counts</dt>\n",
              "\t\t<dd><style>\n",
              ".dl-inline {width: auto; margin:0; padding: 0}\n",
              ".dl-inline>dt, .dl-inline>dd {float: none; width: auto; display: inline-block}\n",
              ".dl-inline>dt::after {content: \":\\0020\"; padding-right: .5ex}\n",
              ".dl-inline>dt:not(:first-of-type) {padding-left: .5ex}\n",
              "</style><dl class=dl-inline><dt>function</dt><dd>62</dd><dt>gradient</dt><dd>&lt;NA&gt;</dd></dl>\n",
              "</dd>\n",
              "\t<dt>$convergence</dt>\n",
              "\t\t<dd>0</dd>\n",
              "\t<dt>$message</dt>\n",
              "\t\t<dd>NULL</dd>\n",
              "</dl>\n"
            ],
            "text/markdown": "$par\n:   1. 0.504056775275678\n2. 0.513889190070172\n3. 0.500690500943829\n\n\n\n$value\n:   -121491.853314561\n$counts\n:   function\n:   62gradient\n:   &lt;NA&gt;\n\n\n$convergence\n:   0\n$message\n:   NULL\n\n\n",
            "text/latex": "\\begin{description}\n\\item[\\$par] \\begin{enumerate*}\n\\item 0.504056775275678\n\\item 0.513889190070172\n\\item 0.500690500943829\n\\end{enumerate*}\n\n\\item[\\$value] -121491.853314561\n\\item[\\$counts] \\begin{description*}\n\\item[function] 62\n\\item[gradient] <NA>\n\\end{description*}\n\n\\item[\\$convergence] 0\n\\item[\\$message] NULL\n\\end{description}\n",
            "text/plain": [
              "$par\n",
              "[1] 0.5040568 0.5138892 0.5006905\n",
              "\n",
              "$value\n",
              "[1] -121491.9\n",
              "\n",
              "$counts\n",
              "function gradient \n",
              "      62       NA \n",
              "\n",
              "$convergence\n",
              "[1] 0\n",
              "\n",
              "$message\n",
              "NULL\n"
            ]
          },
          "metadata": {}
        }
      ]
    },
    {
      "cell_type": "markdown",
      "source": [
        "## D) Comparing the models\n",
        "\n",
        "Is Model 2 a meaningfully different model than Model 1?  We will adress this using our likelihood-based model comparison methods."
      ],
      "metadata": {
        "id": "Q755n_2IFhGj"
      }
    },
    {
      "cell_type": "markdown",
      "source": [
        "### i) AIC, BIC\n",
        "Fill in the table below with the model metrics:\n",
        "\n",
        "Model | Number of parameters | Maximized log-likelihood | AIC | BIC |\n",
        "--- | --- | --- | --- | --- |\n",
        "1   |  1  | -121503.44 | 243008.88 | 243018.95 |\n",
        "2   |  3  | -121491.85 | 242985.70 | 242995.77 |\n"
      ],
      "metadata": {
        "id": "tpPuJL_3FvWY"
      }
    },
    {
      "cell_type": "markdown",
      "source": [
        "![image.png](data:image/png;base64,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)"
      ],
      "metadata": {
        "id": "lXUz-d7QNK4o"
      }
    },
    {
      "cell_type": "code",
      "source": [
        "# There are 66 rows in the df\n",
        "sexratios %>%\n",
        "  summarise(n = n())"
      ],
      "metadata": {
        "colab": {
          "base_uri": "https://localhost:8080/",
          "height": 164
        },
        "id": "7JyS4OEEMgfT",
        "outputId": "00ec947d-6d60-45b4-d1e1-0c0cd4304bbe"
      },
      "execution_count": null,
      "outputs": [
        {
          "output_type": "display_data",
          "data": {
            "text/html": [
              "<table class=\"dataframe\">\n",
              "<caption>A data.frame: 1 × 1</caption>\n",
              "<thead>\n",
              "\t<tr><th scope=col>n</th></tr>\n",
              "\t<tr><th scope=col>&lt;int&gt;</th></tr>\n",
              "</thead>\n",
              "<tbody>\n",
              "\t<tr><td>175313</td></tr>\n",
              "</tbody>\n",
              "</table>\n"
            ],
            "text/markdown": "\nA data.frame: 1 × 1\n\n| n &lt;int&gt; |\n|---|\n| 175313 |\n\n",
            "text/latex": "A data.frame: 1 × 1\n\\begin{tabular}{l}\n n\\\\\n <int>\\\\\n\\hline\n\t 175313\\\\\n\\end{tabular}\n",
            "text/plain": [
              "  n     \n",
              "1 175313"
            ]
          },
          "metadata": {}
        }
      ]
    },
    {
      "cell_type": "code",
      "source": [
        "# Model 1 AIC:\n",
        "2*1 -2*-121503.44\n",
        "\n",
        "# Model 1 BIC:\n",
        "log(175313)*1 - 2*-121503.44"
      ],
      "metadata": {
        "colab": {
          "base_uri": "https://localhost:8080/",
          "height": 52
        },
        "id": "BucmyNQ7L6HD",
        "outputId": "d7eba001-4b58-4404-dbc5-255f363538f4"
      },
      "execution_count": null,
      "outputs": [
        {
          "output_type": "display_data",
          "data": {
            "text/html": [
              "243008.88"
            ],
            "text/markdown": "243008.88",
            "text/latex": "243008.88",
            "text/plain": [
              "[1] 243008.9"
            ]
          },
          "metadata": {}
        },
        {
          "output_type": "display_data",
          "data": {
            "text/html": [
              "243018.954328227"
            ],
            "text/markdown": "243018.954328227",
            "text/latex": "243018.954328227",
            "text/plain": [
              "[1] 243019"
            ]
          },
          "metadata": {}
        }
      ]
    },
    {
      "cell_type": "code",
      "source": [
        "# Model 2 AIC:\n",
        "2*1 -2*-121491.85\n",
        "\n",
        "# Model 2 BIC:\n",
        "log(175313)*1 - 2*-121491.85"
      ],
      "metadata": {
        "colab": {
          "base_uri": "https://localhost:8080/",
          "height": 52
        },
        "id": "nPSAuaZkNZsj",
        "outputId": "5dfd653d-f596-4ed0-a498-eb66593882c2"
      },
      "execution_count": null,
      "outputs": [
        {
          "output_type": "display_data",
          "data": {
            "text/html": [
              "242985.7"
            ],
            "text/markdown": "242985.7",
            "text/latex": "242985.7",
            "text/plain": [
              "[1] 242985.7"
            ]
          },
          "metadata": {}
        },
        {
          "output_type": "display_data",
          "data": {
            "text/html": [
              "242995.774328227"
            ],
            "text/markdown": "242995.774328227",
            "text/latex": "242995.774328227",
            "text/plain": [
              "[1] 242995.8"
            ]
          },
          "metadata": {}
        }
      ]
    },
    {
      "cell_type": "markdown",
      "source": [
        "### ii) Likelihood ratio test\n",
        "\n",
        "Find the likelihood ratio test statistic and its associated p-value."
      ],
      "metadata": {
        "id": "yIOUaGvzFvWY"
      }
    },
    {
      "cell_type": "code",
      "source": [
        "# Difference:\n",
        "-121491.85 - -121503.44"
      ],
      "metadata": {
        "colab": {
          "base_uri": "https://localhost:8080/",
          "height": 34
        },
        "id": "mqzDDnAHOQ-o",
        "outputId": "39d9b775-7939-4b8b-c270-abba08e7bfd6"
      },
      "execution_count": null,
      "outputs": [
        {
          "output_type": "display_data",
          "data": {
            "text/html": [
              "11.5899999999965"
            ],
            "text/markdown": "11.5899999999965",
            "text/latex": "11.5899999999965",
            "text/plain": [
              "[1] 11.59"
            ]
          },
          "metadata": {}
        }
      ]
    },
    {
      "cell_type": "code",
      "source": [
        "# Test statistics:\n",
        "2*(-121491.85 - -121503.44)"
      ],
      "metadata": {
        "colab": {
          "base_uri": "https://localhost:8080/",
          "height": 34
        },
        "id": "Sjmz3fbVOriM",
        "outputId": "b9651169-a109-4b84-9514-120c0fcb804b"
      },
      "execution_count": null,
      "outputs": [
        {
          "output_type": "display_data",
          "data": {
            "text/html": [
              "23.179999999993"
            ],
            "text/markdown": "23.179999999993",
            "text/latex": "23.179999999993",
            "text/plain": [
              "[1] 23.18"
            ]
          },
          "metadata": {}
        }
      ]
    },
    {
      "cell_type": "code",
      "source": [
        "1 - pchisq(23.179999, df = 3-1)"
      ],
      "metadata": {
        "colab": {
          "base_uri": "https://localhost:8080/",
          "height": 34
        },
        "id": "q-GGyopyO5qw",
        "outputId": "cc2a4726-f60e-4da8-f9d9-b2ec8e226e44"
      },
      "execution_count": null,
      "outputs": [
        {
          "output_type": "display_data",
          "data": {
            "text/html": [
              "9.25821307862229e-06"
            ],
            "text/markdown": "9.25821307862229e-06",
            "text/latex": "9.25821307862229e-06",
            "text/plain": [
              "[1] 9.258213e-06"
            ]
          },
          "metadata": {}
        }
      ]
    },
    {
      "cell_type": "code",
      "source": [
        "# alternative way to get a p-value\n",
        "pchisq(23.179999, df = 2, lower.tail=FALSE)"
      ],
      "metadata": {
        "colab": {
          "base_uri": "https://localhost:8080/",
          "height": 34
        },
        "id": "UAU2gVNFoPM8",
        "outputId": "2e497177-9680-4f28-a7c7-544c26ea233e"
      },
      "execution_count": null,
      "outputs": [
        {
          "output_type": "display_data",
          "data": {
            "text/html": [
              "9.25821307861044e-06"
            ],
            "text/markdown": "9.25821307861044e-06",
            "text/latex": "9.25821307861044e-06",
            "text/plain": [
              "[1] 9.258213e-06"
            ]
          },
          "metadata": {}
        }
      ]
    },
    {
      "cell_type": "markdown",
      "source": [
        "<font color = red> Note: p-value is exceeding 1 . . . something is wrong\n",
        "<br>\n",
        "Note: p-value is *10^-6"
      ],
      "metadata": {
        "id": "PmFy2TX6SH1a"
      }
    },
    {
      "cell_type": "markdown",
      "source": [
        "## E) Summary and conclusion\n",
        "\n",
        "How does the estimated probability of having a male child change, relative to the overall proportion of male children, depending on whether it's the first child or whether the child follows a male or a female? Is there evidence that this difference is meaningful?  Explain."
      ],
      "metadata": {
        "id": "u99viU5uEdTC"
      }
    },
    {
      "cell_type": "markdown",
      "source": [
        "# **E - Answer:**\n",
        "**We fail to reject the null hypothesis (p > 0.05), which suggests there is insufficient evidence to conclude that the probability of having a male child depends on whether it's the first child or whether the previous child was male or female. In other words, the data does not provide strong evidence for a meaningful difference in sex probabilities based on these factors. Therefore, we conclude that, based on the data, the sex of children appears to be independent of the sex of previous children.**\n",
        "\n",
        "# **E - Correct Solution**\n",
        "**<font color = red>There are some interesting differences in the probability of having a male child depending on previous children. While 50.4% of first children are male, this percent decreases if the previous child was female down to 50.1%, and increases to 51.3% if the previous child was male. The 3-parameter model has a lower AIC than the 1-parameter model (BIC very slightly prefers the simpler modeL), and the p-value is highly significant indicating that the 3-parameter model which depends on the sex of previous children is a meaningful improvement over the 1-parameter model.**"
      ],
      "metadata": {
        "id": "i8dONpcqSZ7t"
      }
    },
    {
      "cell_type": "markdown",
      "source": [
        "# Question 3 (20 points)\n",
        "\n",
        "The data for this problem is taken from undergraduates from a small liberal arts school over several years. The response variable is `Acceptance`, 1 = accepted and 0 = denied.  `GPA`, the grade point average of each student at their undergraduate institution, is one of our explanatory $X$ variables of interest.  The code below creates two more: `GPA_cat` ($GPA \\geq 3.7 = A$, $3.3 \\leq GPA < 3.7= A-$, $GPA \\leq 3.3= B$ or lower), and `GPA3` which is just GPA minus 3:"
      ],
      "metadata": {
        "id": "RpAurotyHMWe"
      }
    },
    {
      "cell_type": "code",
      "source": [
        "library(dplyr)\n",
        "medgpa <- read.csv('https://www.dropbox.com/s/nbmjfeh4m598pdz/MedGPA.csv?dl=1') %>%\n",
        "  mutate(GPA_cat = case_when(GPA >= 3.7 ~ 'A',\n",
        "                            GPA <3.7 & GPA >=3.3~ 'A-',\n",
        "                            .default='B or lower'),\n",
        "        GPA3 = GPA-3\n",
        "  )"
      ],
      "metadata": {
        "id": "Wslz0PbyHQE8"
      },
      "execution_count": null,
      "outputs": []
    },
    {
      "cell_type": "code",
      "source": [
        "head(medgpa)"
      ],
      "metadata": {
        "colab": {
          "base_uri": "https://localhost:8080/",
          "height": 286
        },
        "id": "4Ms433SAVyD1",
        "outputId": "6413fb0b-329e-4301-e021-03fab6cccdf9"
      },
      "execution_count": null,
      "outputs": [
        {
          "output_type": "display_data",
          "data": {
            "text/html": [
              "<table class=\"dataframe\">\n",
              "<caption>A data.frame: 6 × 13</caption>\n",
              "<thead>\n",
              "\t<tr><th></th><th scope=col>Accept</th><th scope=col>Acceptance</th><th scope=col>Sex</th><th scope=col>BCPM</th><th scope=col>GPA</th><th scope=col>VR</th><th scope=col>PS</th><th scope=col>WS</th><th scope=col>BS</th><th scope=col>MCAT</th><th scope=col>Apps</th><th scope=col>GPA_cat</th><th scope=col>GPA3</th></tr>\n",
              "\t<tr><th></th><th scope=col>&lt;chr&gt;</th><th scope=col>&lt;int&gt;</th><th scope=col>&lt;chr&gt;</th><th scope=col>&lt;dbl&gt;</th><th scope=col>&lt;dbl&gt;</th><th scope=col>&lt;int&gt;</th><th scope=col>&lt;int&gt;</th><th scope=col>&lt;int&gt;</th><th scope=col>&lt;int&gt;</th><th scope=col>&lt;int&gt;</th><th scope=col>&lt;int&gt;</th><th scope=col>&lt;chr&gt;</th><th scope=col>&lt;dbl&gt;</th></tr>\n",
              "</thead>\n",
              "<tbody>\n",
              "\t<tr><th scope=row>1</th><td>D</td><td>0</td><td>F</td><td>3.59</td><td>3.62</td><td>11</td><td> 9</td><td>9</td><td> 9</td><td>38</td><td> 5</td><td>A-        </td><td>0.62</td></tr>\n",
              "\t<tr><th scope=row>2</th><td>A</td><td>1</td><td>M</td><td>3.75</td><td>3.84</td><td>12</td><td>13</td><td>8</td><td>12</td><td>45</td><td> 3</td><td>A         </td><td>0.84</td></tr>\n",
              "\t<tr><th scope=row>3</th><td>A</td><td>1</td><td>F</td><td>3.24</td><td>3.23</td><td> 9</td><td>10</td><td>5</td><td> 9</td><td>33</td><td>19</td><td>B or lower</td><td>0.23</td></tr>\n",
              "\t<tr><th scope=row>4</th><td>A</td><td>1</td><td>F</td><td>3.74</td><td>3.69</td><td>12</td><td>11</td><td>7</td><td>10</td><td>40</td><td> 5</td><td>A-        </td><td>0.69</td></tr>\n",
              "\t<tr><th scope=row>5</th><td>A</td><td>1</td><td>F</td><td>3.53</td><td>3.38</td><td> 9</td><td>11</td><td>4</td><td>11</td><td>35</td><td>11</td><td>A-        </td><td>0.38</td></tr>\n",
              "\t<tr><th scope=row>6</th><td>A</td><td>1</td><td>M</td><td>3.59</td><td>3.72</td><td>10</td><td> 9</td><td>7</td><td>10</td><td>36</td><td> 5</td><td>A         </td><td>0.72</td></tr>\n",
              "</tbody>\n",
              "</table>\n"
            ],
            "text/markdown": "\nA data.frame: 6 × 13\n\n| <!--/--> | Accept &lt;chr&gt; | Acceptance &lt;int&gt; | Sex &lt;chr&gt; | BCPM &lt;dbl&gt; | GPA &lt;dbl&gt; | VR &lt;int&gt; | PS &lt;int&gt; | WS &lt;int&gt; | BS &lt;int&gt; | MCAT &lt;int&gt; | Apps &lt;int&gt; | GPA_cat &lt;chr&gt; | GPA3 &lt;dbl&gt; |\n|---|---|---|---|---|---|---|---|---|---|---|---|---|---|\n| 1 | D | 0 | F | 3.59 | 3.62 | 11 |  9 | 9 |  9 | 38 |  5 | A-         | 0.62 |\n| 2 | A | 1 | M | 3.75 | 3.84 | 12 | 13 | 8 | 12 | 45 |  3 | A          | 0.84 |\n| 3 | A | 1 | F | 3.24 | 3.23 |  9 | 10 | 5 |  9 | 33 | 19 | B or lower | 0.23 |\n| 4 | A | 1 | F | 3.74 | 3.69 | 12 | 11 | 7 | 10 | 40 |  5 | A-         | 0.69 |\n| 5 | A | 1 | F | 3.53 | 3.38 |  9 | 11 | 4 | 11 | 35 | 11 | A-         | 0.38 |\n| 6 | A | 1 | M | 3.59 | 3.72 | 10 |  9 | 7 | 10 | 36 |  5 | A          | 0.72 |\n\n",
            "text/latex": "A data.frame: 6 × 13\n\\begin{tabular}{r|lllllllllllll}\n  & Accept & Acceptance & Sex & BCPM & GPA & VR & PS & WS & BS & MCAT & Apps & GPA\\_cat & GPA3\\\\\n  & <chr> & <int> & <chr> & <dbl> & <dbl> & <int> & <int> & <int> & <int> & <int> & <int> & <chr> & <dbl>\\\\\n\\hline\n\t1 & D & 0 & F & 3.59 & 3.62 & 11 &  9 & 9 &  9 & 38 &  5 & A-         & 0.62\\\\\n\t2 & A & 1 & M & 3.75 & 3.84 & 12 & 13 & 8 & 12 & 45 &  3 & A          & 0.84\\\\\n\t3 & A & 1 & F & 3.24 & 3.23 &  9 & 10 & 5 &  9 & 33 & 19 & B or lower & 0.23\\\\\n\t4 & A & 1 & F & 3.74 & 3.69 & 12 & 11 & 7 & 10 & 40 &  5 & A-         & 0.69\\\\\n\t5 & A & 1 & F & 3.53 & 3.38 &  9 & 11 & 4 & 11 & 35 & 11 & A-         & 0.38\\\\\n\t6 & A & 1 & M & 3.59 & 3.72 & 10 &  9 & 7 & 10 & 36 &  5 & A          & 0.72\\\\\n\\end{tabular}\n",
            "text/plain": [
              "  Accept Acceptance Sex BCPM GPA  VR PS WS BS MCAT Apps GPA_cat    GPA3\n",
              "1 D      0          F   3.59 3.62 11  9 9   9 38    5   A-         0.62\n",
              "2 A      1          M   3.75 3.84 12 13 8  12 45    3   A          0.84\n",
              "3 A      1          F   3.24 3.23  9 10 5   9 33   19   B or lower 0.23\n",
              "4 A      1          F   3.74 3.69 12 11 7  10 40    5   A-         0.69\n",
              "5 A      1          F   3.53 3.38  9 11 4  11 35   11   A-         0.38\n",
              "6 A      1          M   3.59 3.72 10  9 7  10 36    5   A          0.72"
            ]
          },
          "metadata": {}
        }
      ]
    },
    {
      "cell_type": "markdown",
      "source": [
        "## A)\n",
        "\n",
        "Create a plot summarizing the relationship between acceptance and GPA category.  Summarize your findings."
      ],
      "metadata": {
        "id": "36AIuQBimHtd"
      }
    },
    {
      "cell_type": "code",
      "source": [
        "library(ggplot2)\n",
        "options(repr.plot.width=10, repr.plot.height=8)"
      ],
      "metadata": {
        "id": "rRHJR4RWXs3U"
      },
      "execution_count": null,
      "outputs": []
    },
    {
      "cell_type": "code",
      "source": [
        "# This is a wrong plot, use position = \"fill\"\n",
        "ggplot(data = medgpa) +\n",
        "  geom_bar(aes(x = GPA_cat, fill = factor(Acceptance)), position = \"stack\")"
      ],
      "metadata": {
        "colab": {
          "base_uri": "https://localhost:8080/",
          "height": 497
        },
        "id": "HOdSuLrEbal1",
        "outputId": "a2516d01-5aa3-41b6-aa9e-a482a0bb94a9"
      },
      "execution_count": null,
      "outputs": [
        {
          "output_type": "display_data",
          "data": {
            "text/plain": [
              "plot without title"
            ],
            "image/png": "[encoded data removed]"
          },
          "metadata": {
            "image/png": {
              "width": 600,
              "height": 480
            }
          }
        }
      ]
    },
    {
      "cell_type": "code",
      "source": [
        "ggplot(data = medgpa) +\n",
        "  geom_bar(aes(x = GPA_cat, fill = factor(Acceptance)), position = \"fill\")"
      ],
      "metadata": {
        "colab": {
          "base_uri": "https://localhost:8080/",
          "height": 497
        },
        "id": "KMraiDFfqsOl",
        "outputId": "78179098-edbe-4fc1-fc3f-d8d47643ceaa"
      },
      "execution_count": null,
      "outputs": [
        {
          "output_type": "display_data",
          "data": {
            "text/plain": [
              "plot without title"
            ],
            "image/png": "[encoded data removed]"
          },
          "metadata": {
            "image/png": {
              "width": 600,
              "height": 480
            }
          }
        }
      ]
    },
    {
      "cell_type": "markdown",
      "source": [
        "# **A - Answer:**\n",
        "**Students in the A category have the highest acceptance rate.**\n",
        "\n",
        "**Studnets in the A- category have the largest number of applicants.**\n",
        "\n",
        "**Students in the B or below category have the smallest number of applicants as well as the acceptance rate.**"
      ],
      "metadata": {
        "id": "keP5nGwnb-ai"
      }
    },
    {
      "cell_type": "markdown",
      "source": [
        "## B)\n",
        "\n",
        "Fit the following model:\n",
        "\n",
        "$$logit(P(Y_i = 1|GPA3_i)) = \\beta_0 + \\beta_1 GPA3_i$$"
      ],
      "metadata": {
        "id": "MYX7Z4Fol71W"
      }
    },
    {
      "cell_type": "markdown",
      "source": [
        "Interpret both model coefficients (or functions thereof), and fully summarize the nature of the modeled relationship between GPA and acceptance from this model."
      ],
      "metadata": {
        "id": "bASPcZ9Dm6nw"
      }
    },
    {
      "cell_type": "markdown",
      "source": [
        "<font color = red> **Refer to the Activity 5, Note 4.3**"
      ],
      "metadata": {
        "id": "r86EJ4oufHsu"
      }
    },
    {
      "cell_type": "code",
      "source": [
        "gpa_model <- glm(Acceptance~ GPA3, family = binomial, data = medgpa)\n",
        "summary(gpa_model)"
      ],
      "metadata": {
        "colab": {
          "base_uri": "https://localhost:8080/",
          "height": 329
        },
        "id": "tCDusSc_lys5",
        "outputId": "3f8bbc10-4823-4ebc-eed9-9235d5d9f79b"
      },
      "execution_count": null,
      "outputs": [
        {
          "output_type": "display_data",
          "data": {
            "text/plain": [
              "\n",
              "Call:\n",
              "glm(formula = Acceptance ~ GPA3, family = binomial, data = medgpa)\n",
              "\n",
              "Coefficients:\n",
              "            Estimate Std. Error z value Pr(>|z|)    \n",
              "(Intercept)  -2.8440     0.9399  -3.026 0.002478 ** \n",
              "GPA3          5.4542     1.5792   3.454 0.000553 ***\n",
              "---\n",
              "Signif. codes:  0 ‘***’ 0.001 ‘**’ 0.01 ‘*’ 0.05 ‘.’ 0.1 ‘ ’ 1\n",
              "\n",
              "(Dispersion parameter for binomial family taken to be 1)\n",
              "\n",
              "    Null deviance: 75.791  on 54  degrees of freedom\n",
              "Residual deviance: 56.839  on 53  degrees of freedom\n",
              "AIC: 60.839\n",
              "\n",
              "Number of Fisher Scoring iterations: 4\n"
            ]
          },
          "metadata": {}
        }
      ]
    },
    {
      "cell_type": "code",
      "source": [
        "exp(-2.844)"
      ],
      "metadata": {
        "colab": {
          "base_uri": "https://localhost:8080/",
          "height": 34
        },
        "id": "pcY18KTaspYZ",
        "outputId": "9d4f9b8d-b472-4dc7-f674-dcbe8ada9f73"
      },
      "execution_count": null,
      "outputs": [
        {
          "output_type": "display_data",
          "data": {
            "text/html": [
              "0.0581924300833861"
            ],
            "text/markdown": "0.0581924300833861",
            "text/latex": "0.0581924300833861",
            "text/plain": [
              "[1] 0.05819243"
            ]
          },
          "metadata": {}
        }
      ]
    },
    {
      "cell_type": "code",
      "source": [
        "# This is the odds ratio\n",
        "exp(5.454)"
      ],
      "metadata": {
        "colab": {
          "base_uri": "https://localhost:8080/",
          "height": 34
        },
        "id": "P6a4aAj6mtUi",
        "outputId": "cedb4e4f-86bb-48b8-f8cc-ce85e3ecf881"
      },
      "execution_count": null,
      "outputs": [
        {
          "output_type": "display_data",
          "data": {
            "text/html": [
              "233.691063121858"
            ],
            "text/markdown": "233.691063121858",
            "text/latex": "233.691063121858",
            "text/plain": [
              "[1] 233.6911"
            ]
          },
          "metadata": {}
        }
      ]
    },
    {
      "cell_type": "code",
      "source": [
        "exp(confint(gpa_model))"
      ],
      "metadata": {
        "colab": {
          "base_uri": "https://localhost:8080/",
          "height": 164
        },
        "id": "64FcYLl5tJsE",
        "outputId": "a78fdb5e-462a-45dd-daab-5063456b2058"
      },
      "execution_count": null,
      "outputs": [
        {
          "output_type": "stream",
          "name": "stderr",
          "text": [
            "Waiting for profiling to be done...\n",
            "\n"
          ]
        },
        {
          "output_type": "display_data",
          "data": {
            "text/html": [
              "<table class=\"dataframe\">\n",
              "<caption>A matrix: 2 × 2 of type dbl</caption>\n",
              "<thead>\n",
              "\t<tr><th></th><th scope=col>2.5 %</th><th scope=col>97.5 %</th></tr>\n",
              "</thead>\n",
              "<tbody>\n",
              "\t<tr><th scope=row>(Intercept)</th><td> 0.007313255</td><td>   0.3036997</td></tr>\n",
              "\t<tr><th scope=row>GPA3</th><td>14.825011298</td><td>7829.2459518</td></tr>\n",
              "</tbody>\n",
              "</table>\n"
            ],
            "text/markdown": "\nA matrix: 2 × 2 of type dbl\n\n| <!--/--> | 2.5 % | 97.5 % |\n|---|---|---|\n| (Intercept) |  0.007313255 |    0.3036997 |\n| GPA3 | 14.825011298 | 7829.2459518 |\n\n",
            "text/latex": "A matrix: 2 × 2 of type dbl\n\\begin{tabular}{r|ll}\n  & 2.5 \\% & 97.5 \\%\\\\\n\\hline\n\t(Intercept) &  0.007313255 &    0.3036997\\\\\n\tGPA3 & 14.825011298 & 7829.2459518\\\\\n\\end{tabular}\n",
            "text/plain": [
              "            2.5 %        97.5 %      \n",
              "(Intercept)  0.007313255    0.3036997\n",
              "GPA3        14.825011298 7829.2459518"
            ]
          },
          "metadata": {}
        }
      ]
    },
    {
      "cell_type": "markdown",
      "source": [
        "<font color = red> **Note:**\n",
        "<br>\n",
        "The odds ratio tells you **how many times more likely** an event is to happen for a one-unit increase in the predictor variable (in this case, GPA3).\n",
        "<br>\n",
        "An odds ratio of 233.69 means the odds of acceptance increase by 233.69 times for every 1-unit increase in GPA3, not a 234% increase."
      ],
      "metadata": {
        "id": "fZ1c38OBoBV4"
      }
    },
    {
      "cell_type": "markdown",
      "source": [
        "# **B - Answer:**\n",
        "**The odds of acceptance of students with GPA 3.0 is only 0.058. A 1-unit increase in GPA3 (ex 3.0 to 4.0) is associated with a 233.69 times increase in the odds of being accepted to the university. GPA is strongly related to odds of acceptance (p-value < .001, 95% CI for OR: 14.8, 7829.2).**"
      ],
      "metadata": {
        "id": "SLWtcJ1Tmy-c"
      }
    },
    {
      "cell_type": "markdown",
      "source": [
        "## C)\n",
        "\n",
        "Using this model, fully characterize the estimated change in odds of acceptance for two students who differ by 0.3 in their GPA.  (Hint: `emmeans`)"
      ],
      "metadata": {
        "id": "_vxRXzJopB51"
      }
    },
    {
      "cell_type": "code",
      "source": [
        "install.packages('emmeans')\n",
        "library(emmeans)"
      ],
      "metadata": {
        "colab": {
          "base_uri": "https://localhost:8080/"
        },
        "id": "JeZUa1MwO2xc",
        "outputId": "5632401f-bc7f-448c-996f-87f21aebfc33"
      },
      "execution_count": null,
      "outputs": [
        {
          "output_type": "stream",
          "name": "stderr",
          "text": [
            "Installing package into ‘/usr/local/lib/R/site-library’\n",
            "(as ‘lib’ is unspecified)\n",
            "\n",
            "also installing the dependencies ‘estimability’, ‘numDeriv’, ‘mvtnorm’\n",
            "\n",
            "\n",
            "Welcome to emmeans.\n",
            "Caution: You lose important information if you filter this package's results.\n",
            "See '? untidy'\n",
            "\n"
          ]
        }
      ]
    },
    {
      "cell_type": "code",
      "source": [
        "? emmeans"
      ],
      "metadata": {
        "id": "O7-bcdyRR2ac"
      },
      "execution_count": null,
      "outputs": []
    },
    {
      "cell_type": "code",
      "source": [
        "# Find the estimated means when GPA3 = 0 and 0.3\n",
        "emm <- emmeans(gpa_model, ~ GPA3, at = list(GPA3 = c(3.0, 3.3)))"
      ],
      "metadata": {
        "id": "V86glkoVRJmV"
      },
      "execution_count": null,
      "outputs": []
    },
    {
      "cell_type": "code",
      "source": [
        "contrast(emm, method = \"pairwise\", type = \"response\")"
      ],
      "metadata": {
        "colab": {
          "base_uri": "https://localhost:8080/",
          "height": 86
        },
        "id": "w9nn-cXsu8_D",
        "outputId": "4e569822-6042-4364-c070-06a7374130a4"
      },
      "execution_count": null,
      "outputs": [
        {
          "output_type": "display_data",
          "data": {
            "text/plain": [
              " contrast        odds.ratio     SE  df null z.ratio p.value\n",
              " GPA33 / GPA33.3      0.195 0.0922 Inf    1  -3.454  0.0006\n",
              "\n",
              "Tests are performed on the log odds ratio scale "
            ]
          },
          "metadata": {}
        }
      ]
    },
    {
      "cell_type": "code",
      "source": [
        "confint(contrast(emm, method = \"pairwise\", type = \"response\"))"
      ],
      "metadata": {
        "colab": {
          "base_uri": "https://localhost:8080/",
          "height": 129
        },
        "id": "MqPMW2Gft_hc",
        "outputId": "b51f452e-c193-4cb0-bd92-be95bc147473"
      },
      "execution_count": null,
      "outputs": [
        {
          "output_type": "display_data",
          "data": {
            "text/html": [
              "<table class=\"dataframe\">\n",
              "<caption>A summary_emm: 1 × 6</caption>\n",
              "<thead>\n",
              "\t<tr><th></th><th scope=col>contrast</th><th scope=col>odds.ratio</th><th scope=col>SE</th><th scope=col>df</th><th scope=col>asymp.LCL</th><th scope=col>asymp.UCL</th></tr>\n",
              "\t<tr><th></th><th scope=col>&lt;fct&gt;</th><th scope=col>&lt;dbl&gt;</th><th scope=col>&lt;dbl&gt;</th><th scope=col>&lt;dbl&gt;</th><th scope=col>&lt;dbl&gt;</th><th scope=col>&lt;dbl&gt;</th></tr>\n",
              "</thead>\n",
              "<tbody>\n",
              "\t<tr><th scope=row>1</th><td>GPA33 / GPA33.3</td><td>0.1947089</td><td>0.09224346</td><td>Inf</td><td>0.0769358</td><td>0.4927686</td></tr>\n",
              "</tbody>\n",
              "</table>\n"
            ],
            "text/markdown": "\nA summary_emm: 1 × 6\n\n| <!--/--> | contrast &lt;fct&gt; | odds.ratio &lt;dbl&gt; | SE &lt;dbl&gt; | df &lt;dbl&gt; | asymp.LCL &lt;dbl&gt; | asymp.UCL &lt;dbl&gt; |\n|---|---|---|---|---|---|---|\n| 1 | GPA33 / GPA33.3 | 0.1947089 | 0.09224346 | Inf | 0.0769358 | 0.4927686 |\n\n",
            "text/latex": "A summary\\_emm: 1 × 6\n\\begin{tabular}{r|llllll}\n  & contrast & odds.ratio & SE & df & asymp.LCL & asymp.UCL\\\\\n  & <fct> & <dbl> & <dbl> & <dbl> & <dbl> & <dbl>\\\\\n\\hline\n\t1 & GPA33 / GPA33.3 & 0.1947089 & 0.09224346 & Inf & 0.0769358 & 0.4927686\\\\\n\\end{tabular}\n",
            "text/plain": [
              "  contrast        odds.ratio SE         df  asymp.LCL asymp.UCL\n",
              "1 GPA33 / GPA33.3 0.1947089  0.09224346 Inf 0.0769358 0.4927686"
            ]
          },
          "metadata": {}
        }
      ]
    },
    {
      "cell_type": "code",
      "source": [
        "1/0.195"
      ],
      "metadata": {
        "colab": {
          "base_uri": "https://localhost:8080/",
          "height": 34
        },
        "id": "-9IkZaVmvQ3T",
        "outputId": "e043d51d-2741-45d3-8f95-b36179a37add"
      },
      "execution_count": null,
      "outputs": [
        {
          "output_type": "display_data",
          "data": {
            "text/html": [
              "5.12820512820513"
            ],
            "text/markdown": "5.12820512820513",
            "text/latex": "5.12820512820513",
            "text/plain": [
              "[1] 5.128205"
            ]
          },
          "metadata": {}
        }
      ]
    },
    {
      "cell_type": "markdown",
      "source": [
        "# **C - Answer:**\n",
        "**The odds of acceptance at GPA3 = 3.0 are 0.1947 times the odds of acceptance at GPA3 = 3.3. This indicates that an increase of 0.3 GPA points is associated with a 5.14-fold increase in the likelihood of acceptance. This is a statistically significant odds ratio (p-value = 0.0006, 95% CI for OR: (2.0, 13.0)**"
      ],
      "metadata": {
        "id": "QC-khZNnSdvr"
      }
    },
    {
      "cell_type": "markdown",
      "source": [
        "## D)\n",
        "\n",
        "\n",
        "Fit a logistic regression model using `GPA_cat` instead of `GPA3`. Use this model and `emmeans` to contrast the odds of acceptance comparing:\n",
        "\n",
        "* A to A- students;\n",
        "* A- to B students\n",
        "\n",
        "For each of the contrasts,\n",
        "\n",
        "* Interpret an odds ratio;\n",
        "* Determine whether the odds ratio is statistically significant using an appropriate p-value and 95% confidence interval.  "
      ],
      "metadata": {
        "id": "m_PU5WVwnGZZ"
      }
    },
    {
      "cell_type": "code",
      "source": [
        "gpa_model_2 <- glm(Acceptance~ GPA_cat, family = binomial, data = medgpa)\n",
        "summary(gpa_model_2)"
      ],
      "metadata": {
        "colab": {
          "base_uri": "https://localhost:8080/",
          "height": 347
        },
        "id": "01zHpTj-X8eh",
        "outputId": "0566511e-9ac6-4ef7-b36b-36850f2e908e"
      },
      "execution_count": null,
      "outputs": [
        {
          "output_type": "display_data",
          "data": {
            "text/plain": [
              "\n",
              "Call:\n",
              "glm(formula = Acceptance ~ GPA_cat, family = binomial, data = medgpa)\n",
              "\n",
              "Coefficients:\n",
              "                  Estimate Std. Error z value Pr(>|z|)   \n",
              "(Intercept)         2.1401     0.7475   2.863  0.00420 **\n",
              "GPA_catA-          -2.5148     0.8439  -2.980  0.00288 **\n",
              "GPA_catB or lower  -3.3928     1.0962  -3.095  0.00197 **\n",
              "---\n",
              "Signif. codes:  0 ‘***’ 0.001 ‘**’ 0.01 ‘*’ 0.05 ‘.’ 0.1 ‘ ’ 1\n",
              "\n",
              "(Dispersion parameter for binomial family taken to be 1)\n",
              "\n",
              "    Null deviance: 75.791  on 54  degrees of freedom\n",
              "Residual deviance: 58.820  on 52  degrees of freedom\n",
              "AIC: 64.82\n",
              "\n",
              "Number of Fisher Scoring iterations: 4\n"
            ]
          },
          "metadata": {}
        }
      ]
    },
    {
      "cell_type": "code",
      "source": [
        "emmeans(gpa_model_2, specs= ~GPA_cat) %>%\n",
        "  contrast(method ='consec',reverse=TRUE, type = 'response') %>%\n",
        "  summary()"
      ],
      "metadata": {
        "colab": {
          "base_uri": "https://localhost:8080/",
          "height": 161
        },
        "id": "qG-b0PwEYY6Y",
        "outputId": "c7aadbb1-1c8a-41e9-9aab-22d14903a0f4"
      },
      "execution_count": null,
      "outputs": [
        {
          "output_type": "display_data",
          "data": {
            "text/html": [
              "<table class=\"dataframe\">\n",
              "<caption>A summary_emm: 2 × 7</caption>\n",
              "<thead>\n",
              "\t<tr><th></th><th scope=col>contrast</th><th scope=col>odds.ratio</th><th scope=col>SE</th><th scope=col>df</th><th scope=col>null</th><th scope=col>z.ratio</th><th scope=col>p.value</th></tr>\n",
              "\t<tr><th></th><th scope=col>&lt;fct&gt;</th><th scope=col>&lt;dbl&gt;</th><th scope=col>&lt;dbl&gt;</th><th scope=col>&lt;dbl&gt;</th><th scope=col>&lt;dbl&gt;</th><th scope=col>&lt;dbl&gt;</th><th scope=col>&lt;dbl&gt;</th></tr>\n",
              "</thead>\n",
              "<tbody>\n",
              "\t<tr><th scope=row>1</th><td>A / (A-)         </td><td>12.36364</td><td>10.433768</td><td>Inf</td><td>1</td><td>2.979899</td><td>0.005740275</td></tr>\n",
              "\t<tr><th scope=row>2</th><td>(A-) / B or lower</td><td> 2.40625</td><td> 2.147186</td><td>Inf</td><td>1</td><td>0.984011</td><td>0.539596135</td></tr>\n",
              "</tbody>\n",
              "</table>\n"
            ],
            "text/markdown": "\nA summary_emm: 2 × 7\n\n| <!--/--> | contrast &lt;fct&gt; | odds.ratio &lt;dbl&gt; | SE &lt;dbl&gt; | df &lt;dbl&gt; | null &lt;dbl&gt; | z.ratio &lt;dbl&gt; | p.value &lt;dbl&gt; |\n|---|---|---|---|---|---|---|---|\n| 1 | A / (A-)          | 12.36364 | 10.433768 | Inf | 1 | 2.979899 | 0.005740275 |\n| 2 | (A-) / B or lower |  2.40625 |  2.147186 | Inf | 1 | 0.984011 | 0.539596135 |\n\n",
            "text/latex": "A summary\\_emm: 2 × 7\n\\begin{tabular}{r|lllllll}\n  & contrast & odds.ratio & SE & df & null & z.ratio & p.value\\\\\n  & <fct> & <dbl> & <dbl> & <dbl> & <dbl> & <dbl> & <dbl>\\\\\n\\hline\n\t1 & A / (A-)          & 12.36364 & 10.433768 & Inf & 1 & 2.979899 & 0.005740275\\\\\n\t2 & (A-) / B or lower &  2.40625 &  2.147186 & Inf & 1 & 0.984011 & 0.539596135\\\\\n\\end{tabular}\n",
            "text/plain": [
              "  contrast          odds.ratio SE        df  null z.ratio  p.value    \n",
              "1 A / (A-)          12.36364   10.433768 Inf 1    2.979899 0.005740275\n",
              "2 (A-) / B or lower  2.40625    2.147186 Inf 1    0.984011 0.539596135"
            ]
          },
          "metadata": {}
        }
      ]
    },
    {
      "cell_type": "code",
      "source": [
        "emmeans(gpa_model_2, specs= ~GPA_cat) %>%\n",
        "  contrast(method ='consec',reverse=TRUE, type = 'response') %>%\n",
        "  confint()"
      ],
      "metadata": {
        "colab": {
          "base_uri": "https://localhost:8080/",
          "height": 161
        },
        "id": "m_p99jvrwAED",
        "outputId": "be14b773-dbde-4980-e654-c4712f4f0f38"
      },
      "execution_count": null,
      "outputs": [
        {
          "output_type": "display_data",
          "data": {
            "text/html": [
              "<table class=\"dataframe\">\n",
              "<caption>A summary_emm: 2 × 6</caption>\n",
              "<thead>\n",
              "\t<tr><th></th><th scope=col>contrast</th><th scope=col>odds.ratio</th><th scope=col>SE</th><th scope=col>df</th><th scope=col>asymp.LCL</th><th scope=col>asymp.UCL</th></tr>\n",
              "\t<tr><th></th><th scope=col>&lt;fct&gt;</th><th scope=col>&lt;dbl&gt;</th><th scope=col>&lt;dbl&gt;</th><th scope=col>&lt;dbl&gt;</th><th scope=col>&lt;dbl&gt;</th><th scope=col>&lt;dbl&gt;</th></tr>\n",
              "</thead>\n",
              "<tbody>\n",
              "\t<tr><th scope=row>1</th><td>A / (A-)         </td><td>12.36364</td><td>10.433768</td><td>Inf</td><td>1.8784184</td><td>81.37671</td></tr>\n",
              "\t<tr><th scope=row>2</th><td>(A-) / B or lower</td><td> 2.40625</td><td> 2.147186</td><td>Inf</td><td>0.3281134</td><td>17.64646</td></tr>\n",
              "</tbody>\n",
              "</table>\n"
            ],
            "text/markdown": "\nA summary_emm: 2 × 6\n\n| <!--/--> | contrast &lt;fct&gt; | odds.ratio &lt;dbl&gt; | SE &lt;dbl&gt; | df &lt;dbl&gt; | asymp.LCL &lt;dbl&gt; | asymp.UCL &lt;dbl&gt; |\n|---|---|---|---|---|---|---|\n| 1 | A / (A-)          | 12.36364 | 10.433768 | Inf | 1.8784184 | 81.37671 |\n| 2 | (A-) / B or lower |  2.40625 |  2.147186 | Inf | 0.3281134 | 17.64646 |\n\n",
            "text/latex": "A summary\\_emm: 2 × 6\n\\begin{tabular}{r|llllll}\n  & contrast & odds.ratio & SE & df & asymp.LCL & asymp.UCL\\\\\n  & <fct> & <dbl> & <dbl> & <dbl> & <dbl> & <dbl>\\\\\n\\hline\n\t1 & A / (A-)          & 12.36364 & 10.433768 & Inf & 1.8784184 & 81.37671\\\\\n\t2 & (A-) / B or lower &  2.40625 &  2.147186 & Inf & 0.3281134 & 17.64646\\\\\n\\end{tabular}\n",
            "text/plain": [
              "  contrast          odds.ratio SE        df  asymp.LCL asymp.UCL\n",
              "1 A / (A-)          12.36364   10.433768 Inf 1.8784184 81.37671 \n",
              "2 (A-) / B or lower  2.40625    2.147186 Inf 0.3281134 17.64646 "
            ]
          },
          "metadata": {}
        }
      ]
    },
    {
      "cell_type": "markdown",
      "source": [
        "# **D - Answer:**\n",
        "### **A to A- students:**\n",
        "**The odds of acceptance is 12.36 times higher for A students compared to A- students(CI: 1.88 ~ 81.38). Since the CI is above 1, we are confident to say that there is a statistical difference in the acceptance rate between A and A- students(p = 0.0057).**\n",
        "<br>\n",
        "### **A- to B or lower students:**\n",
        "**The odds of acceptance is 2.41 times higher for A- students compared to B or lower students(CI: 0.33 ~ 17.65). Since the CI includes 1, we are NOT confident to say that there is a statistical difference in the acceptance rate between A- and B or lower students(p = 0.5396).**\n"
      ],
      "metadata": {
        "id": "-cbGiHI-Y6NI"
      }
    }
  ]
}