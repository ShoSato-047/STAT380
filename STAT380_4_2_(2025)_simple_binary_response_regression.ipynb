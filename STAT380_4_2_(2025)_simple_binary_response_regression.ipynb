{
  "nbformat": 4,
  "nbformat_minor": 0,
  "metadata": {
    "colab": {
      "provenance": [],
      "include_colab_link": true
    },
    "kernelspec": {
      "name": "ir",
      "display_name": "R"
    },
    "language_info": {
      "name": "R"
    }
  },
  "cells": [
    {
      "cell_type": "markdown",
      "metadata": {
        "id": "view-in-github",
        "colab_type": "text"
      },
      "source": [
        "<a href=\"https://colab.research.google.com/github/ShoSato-047/STAT380/blob/main/STAT380_4_2_(2025)_simple_binary_response_regression.ipynb\" target=\"_parent\"><img src=\"https://colab.research.google.com/assets/colab-badge.svg\" alt=\"Open In Colab\"/></a>"
      ]
    },
    {
      "cell_type": "markdown",
      "source": [
        "# Introduction\n",
        "\n",
        "In this notebook we formally consider GLMs for modeling a binary response $Y_i$ given covariate $X_i$.  There are two such models:\n",
        "\n",
        "* Logistic regression (most common): models the *log-odds* of $Y_i = 1$ given $X_i$.\n",
        "* Rate ratio regression (less common): models the *log probability* of $Y_i = 1$ given $X_i$.\n",
        "\n",
        "In this notebook we focus on fitting the model and interpreting coefficients."
      ],
      "metadata": {
        "id": "0wpAJYEKFCiM"
      }
    },
    {
      "cell_type": "markdown",
      "source": [
        "# Case study\n",
        "\n",
        "We'll once again consider the lobster survival data from the previous notebook:"
      ],
      "metadata": {
        "id": "eDq0ZUJ9OCTU"
      }
    },
    {
      "cell_type": "code",
      "source": [
        "library(dplyr)\n",
        "lobsters <- read.csv('https://www.dropbox.com/s/kw3px03a6t3s1x3/lobsters.csv?dl=1')\n",
        "head(lobsters)"
      ],
      "metadata": {
        "id": "a9DnqIZjFDk2",
        "colab": {
          "base_uri": "https://localhost:8080/",
          "height": 529
        },
        "outputId": "61ede7e5-0c7b-48cb-8483-a601a5aabbb5"
      },
      "execution_count": 1,
      "outputs": [
        {
          "output_type": "stream",
          "name": "stderr",
          "text": [
            "\n",
            "Attaching package: ‘dplyr’\n",
            "\n",
            "\n",
            "The following objects are masked from ‘package:stats’:\n",
            "\n",
            "    filter, lag\n",
            "\n",
            "\n",
            "The following objects are masked from ‘package:base’:\n",
            "\n",
            "    intersect, setdiff, setequal, union\n",
            "\n",
            "\n"
          ]
        },
        {
          "output_type": "display_data",
          "data": {
            "text/html": [
              "<table class=\"dataframe\">\n",
              "<caption>A data.frame: 6 × 3</caption>\n",
              "<thead>\n",
              "\t<tr><th></th><th scope=col>length.mm</th><th scope=col>size</th><th scope=col>survival</th></tr>\n",
              "\t<tr><th></th><th scope=col>&lt;int&gt;</th><th scope=col>&lt;chr&gt;</th><th scope=col>&lt;int&gt;</th></tr>\n",
              "</thead>\n",
              "<tbody>\n",
              "\t<tr><th scope=row>1</th><td>27</td><td>small</td><td>0</td></tr>\n",
              "\t<tr><th scope=row>2</th><td>27</td><td>small</td><td>0</td></tr>\n",
              "\t<tr><th scope=row>3</th><td>27</td><td>small</td><td>0</td></tr>\n",
              "\t<tr><th scope=row>4</th><td>27</td><td>small</td><td>0</td></tr>\n",
              "\t<tr><th scope=row>5</th><td>27</td><td>small</td><td>0</td></tr>\n",
              "\t<tr><th scope=row>6</th><td>30</td><td>small</td><td>0</td></tr>\n",
              "</tbody>\n",
              "</table>\n"
            ],
            "text/markdown": "\nA data.frame: 6 × 3\n\n| <!--/--> | length.mm &lt;int&gt; | size &lt;chr&gt; | survival &lt;int&gt; |\n|---|---|---|---|\n| 1 | 27 | small | 0 |\n| 2 | 27 | small | 0 |\n| 3 | 27 | small | 0 |\n| 4 | 27 | small | 0 |\n| 5 | 27 | small | 0 |\n| 6 | 30 | small | 0 |\n\n",
            "text/latex": "A data.frame: 6 × 3\n\\begin{tabular}{r|lll}\n  & length.mm & size & survival\\\\\n  & <int> & <chr> & <int>\\\\\n\\hline\n\t1 & 27 & small & 0\\\\\n\t2 & 27 & small & 0\\\\\n\t3 & 27 & small & 0\\\\\n\t4 & 27 & small & 0\\\\\n\t5 & 27 & small & 0\\\\\n\t6 & 30 & small & 0\\\\\n\\end{tabular}\n",
            "text/plain": [
              "  length.mm size  survival\n",
              "1 27        small 0       \n",
              "2 27        small 0       \n",
              "3 27        small 0       \n",
              "4 27        small 0       \n",
              "5 27        small 0       \n",
              "6 30        small 0       "
            ]
          },
          "metadata": {}
        }
      ]
    },
    {
      "cell_type": "markdown",
      "source": [
        "# The logistic model\n",
        "\n",
        "For binary response $Y\\sim BIN(1,p)$ with a single covariate $X$, the logistic regression model links $p_{X} = E(Y | X) = P(Y=1|X)$ to the linear term $\\beta_0 + \\beta_1 X$ by way of the logit, or log-odds, function:\n",
        "\n",
        "\n",
        "$$logit(E(Y|X)) = \\log\\left(\\frac{p_{X}}{1-p_{X}}\\right) = \\beta_0 + \\beta_1 X.$$"
      ],
      "metadata": {
        "id": "PrLiuFJa5_cP"
      }
    },
    {
      "cell_type": "markdown",
      "source": [
        "## Coefficient interpretation\n",
        "\n",
        "We interpret the coefficients of the logistic model similarly to coefficients from an ordinary linear regression model, but now in terms of the *log-odds*.\n",
        "\n",
        "* $\\beta_0$ represents the log-odds of $Y = 1$ when $X = 0$\n",
        "* $\\beta_1$ represents the change in the log-odds for a one-unit change in $X$"
      ],
      "metadata": {
        "id": "kRHwbfH47cjU"
      }
    },
    {
      "cell_type": "markdown",
      "source": [
        "Note that a difference in log-odds is just:\n",
        "\n",
        "$$\\beta_1 = \\log\\left(\\frac{p_{X+1}}{1-p_{X+1}}\\right) - \\log\\left(\\frac{p_{X}}{1-p_{X}}\\right)$$\n",
        "$$=\\log\\left(\\frac{p_{X+1}}{1-p_{X+1}}/\\frac{p_{X}}{1-p_{X}}\\right)$$\n",
        "\n",
        "i.e., $\\beta_1$ represents the *log odds ratio* for a one-unit change in $X$.\n",
        "\n"
      ],
      "metadata": {
        "id": "r-__jRoc7574"
      }
    },
    {
      "cell_type": "markdown",
      "source": [
        "## Exponentiated coefficients\n",
        "\n",
        "We have:\n",
        "\n",
        "$$\\beta_0 = \\log\\left(\\frac{p_0}{1-p_0}\\right),$$\n",
        "\n",
        "the log-odds of $Y=1$ when $X=0$.  It follows that:\n",
        "\n",
        "$$e^{\\beta_0} = \\frac{p_0}{1-p_0}$$\n",
        "\n",
        "represents the *odds of $Y=1$ when $X=0$.*\n",
        "\n",
        "For any given $X$:\n",
        "\n",
        "$$e^{\\beta_0 +\\beta_1 X} = \\frac{p_X}{1-p_X}$$\n",
        "\n",
        "represents the *odds of $Y=1$ given $X$.*\n",
        "\n",
        "Since $\\beta_1$ represents the *log odds ratio* for a one-unit change in $X_i$, we can back-transform to note that:\n",
        "\n",
        "$$e^{\\beta_1} = \\frac{p_{X+1}}{1-p_{X+1}}/\\frac{p_{X}}{1-p_{X}},$$\n",
        "\n",
        "i.e., that $\\beta_1$ represents the *odds ratio* for a one-unit change in $X$."
      ],
      "metadata": {
        "id": "gxKLPfF49F0x"
      }
    },
    {
      "cell_type": "markdown",
      "source": [
        "## From log-odds to probability\n",
        "\n",
        "When we fit a logistic regression model we model:\n",
        "\n",
        "$$logit(p_X) =\\log\\left(\\frac{p_{X}}{1-p_{X}}\\right) = \\beta_0 + \\beta_1 X$$\n",
        "\n",
        "Plugging in $X$ to the linear term will yield *linear fitted values*.  We can obtain fitted values on the scale of $p_X = E(Y|X)$ by way of inverting the logit function, which is often referred to as the **expit** function:\n",
        "\n",
        "$$p_X = expit(\\beta_0 + \\beta_1 X) =  \\frac{\\exp(\\beta_0 + \\beta_1 X)}{1+\\exp(\\beta_0 + \\beta_1 X)}$$\n",
        "\n",
        "These are called *response fitted values.*"
      ],
      "metadata": {
        "id": "bIvm6SXTBPJ6"
      }
    },
    {
      "cell_type": "markdown",
      "source": [
        "# Fitting the simple logistic model: lobster size"
      ],
      "metadata": {
        "id": "XjzlXiKn7Jfv"
      }
    },
    {
      "cell_type": "markdown",
      "source": [
        "Let's consider a simple logistic model of $P(Y_i = 1 | X_i)$ for the lobster data, where $Y_i = 1$ if lobster $i$ survived the tank experience and 0 otherwise.  For now we will model $Y_i$ using the binary $X_i$ where:\n",
        "\n",
        "$$\\begin{cases} X_i = 1 & \\mbox{small lobsters}\\\\\n",
        "X_i = 0 & \\mbox{large lobsters} \\\\\n",
        "\\end{cases}\n",
        "$$"
      ],
      "metadata": {
        "id": "obFu-bDW7TjB"
      }
    },
    {
      "cell_type": "markdown",
      "source": [
        "Fitting generalized linear models like logistic regression is accomplished by way of the `glm()` function.   "
      ],
      "metadata": {
        "id": "qMu3s34Q7Ss_"
      }
    },
    {
      "cell_type": "code",
      "source": [
        "head(lobsters)"
      ],
      "metadata": {
        "colab": {
          "base_uri": "https://localhost:8080/",
          "height": 286
        },
        "id": "cH8qbXfXEN1F",
        "outputId": "591bed83-49de-4dc0-e18e-dcd734155fc2"
      },
      "execution_count": 2,
      "outputs": [
        {
          "output_type": "display_data",
          "data": {
            "text/html": [
              "<table class=\"dataframe\">\n",
              "<caption>A data.frame: 6 × 3</caption>\n",
              "<thead>\n",
              "\t<tr><th></th><th scope=col>length.mm</th><th scope=col>size</th><th scope=col>survival</th></tr>\n",
              "\t<tr><th></th><th scope=col>&lt;int&gt;</th><th scope=col>&lt;chr&gt;</th><th scope=col>&lt;int&gt;</th></tr>\n",
              "</thead>\n",
              "<tbody>\n",
              "\t<tr><th scope=row>1</th><td>27</td><td>small</td><td>0</td></tr>\n",
              "\t<tr><th scope=row>2</th><td>27</td><td>small</td><td>0</td></tr>\n",
              "\t<tr><th scope=row>3</th><td>27</td><td>small</td><td>0</td></tr>\n",
              "\t<tr><th scope=row>4</th><td>27</td><td>small</td><td>0</td></tr>\n",
              "\t<tr><th scope=row>5</th><td>27</td><td>small</td><td>0</td></tr>\n",
              "\t<tr><th scope=row>6</th><td>30</td><td>small</td><td>0</td></tr>\n",
              "</tbody>\n",
              "</table>\n"
            ],
            "text/markdown": "\nA data.frame: 6 × 3\n\n| <!--/--> | length.mm &lt;int&gt; | size &lt;chr&gt; | survival &lt;int&gt; |\n|---|---|---|---|\n| 1 | 27 | small | 0 |\n| 2 | 27 | small | 0 |\n| 3 | 27 | small | 0 |\n| 4 | 27 | small | 0 |\n| 5 | 27 | small | 0 |\n| 6 | 30 | small | 0 |\n\n",
            "text/latex": "A data.frame: 6 × 3\n\\begin{tabular}{r|lll}\n  & length.mm & size & survival\\\\\n  & <int> & <chr> & <int>\\\\\n\\hline\n\t1 & 27 & small & 0\\\\\n\t2 & 27 & small & 0\\\\\n\t3 & 27 & small & 0\\\\\n\t4 & 27 & small & 0\\\\\n\t5 & 27 & small & 0\\\\\n\t6 & 30 & small & 0\\\\\n\\end{tabular}\n",
            "text/plain": [
              "  length.mm size  survival\n",
              "1 27        small 0       \n",
              "2 27        small 0       \n",
              "3 27        small 0       \n",
              "4 27        small 0       \n",
              "5 27        small 0       \n",
              "6 30        small 0       "
            ]
          },
          "metadata": {}
        }
      ]
    },
    {
      "cell_type": "code",
      "source": [
        "survival.logistic.fit <- glm(survival ~ size, data = lobsters, family = binomial)"
      ],
      "metadata": {
        "id": "gsdN_H8FELr2"
      },
      "execution_count": 3,
      "outputs": []
    },
    {
      "cell_type": "markdown",
      "source": [
        "Note the `family=binomial` argument, which indicates we have a binomial response variable $Y_i$.  The default link function for the binomial family is the logit link, which will fit logistic regression.  Notice:"
      ],
      "metadata": {
        "id": "SZY8rJyBEhqm"
      }
    },
    {
      "cell_type": "code",
      "source": [
        "survival.logistic.fit$family"
      ],
      "metadata": {
        "colab": {
          "base_uri": "https://localhost:8080/",
          "height": 69
        },
        "id": "YFQKOmI4TUTp",
        "outputId": "c5b3e49d-e03e-4e25-c10f-a27c84d560cc"
      },
      "execution_count": 4,
      "outputs": [
        {
          "output_type": "display_data",
          "data": {
            "text/plain": [
              "\n",
              "Family: binomial \n",
              "Link function: logit \n"
            ]
          },
          "metadata": {}
        }
      ]
    },
    {
      "cell_type": "markdown",
      "source": [
        "\n",
        "\n",
        "Investigating model output:"
      ],
      "metadata": {
        "id": "LbQNJBcITSQc"
      }
    },
    {
      "cell_type": "code",
      "source": [
        "summary(survival.logistic.fit)"
      ],
      "metadata": {
        "colab": {
          "base_uri": "https://localhost:8080/",
          "height": 329
        },
        "id": "YCODrQCKER9D",
        "outputId": "bf97d174-6015-4932-d610-7a5b3206049d"
      },
      "execution_count": 5,
      "outputs": [
        {
          "output_type": "display_data",
          "data": {
            "text/plain": [
              "\n",
              "Call:\n",
              "glm(formula = survival ~ size, family = binomial, data = lobsters)\n",
              "\n",
              "Coefficients:\n",
              "            Estimate Std. Error z value Pr(>|z|)    \n",
              "(Intercept)   0.8899     0.2477   3.593 0.000327 ***\n",
              "sizesmall    -1.7974     0.3498  -5.138 2.77e-07 ***\n",
              "---\n",
              "Signif. codes:  0 ‘***’ 0.001 ‘**’ 0.01 ‘*’ 0.05 ‘.’ 0.1 ‘ ’ 1\n",
              "\n",
              "(Dispersion parameter for binomial family taken to be 1)\n",
              "\n",
              "    Null deviance: 220.41  on 158  degrees of freedom\n",
              "Residual deviance: 191.28  on 157  degrees of freedom\n",
              "AIC: 195.28\n",
              "\n",
              "Number of Fisher Scoring iterations: 4\n"
            ]
          },
          "metadata": {}
        }
      ]
    },
    {
      "cell_type": "markdown",
      "source": [
        "The coefficients $\\hat\\beta_0$ and $\\hat\\beta_1$ are maximum likelihood estimators, and note this model has an AIC = 195.28 which we could use to compare to more complex models (more later).\n"
      ],
      "metadata": {
        "id": "drlXjxF-GeYj"
      }
    },
    {
      "cell_type": "markdown",
      "source": [
        "## Understanding the coefficients\n",
        "\n",
        "Let's focus now on interpreting those model coefficients."
      ],
      "metadata": {
        "id": "ery_HmQtMFD-"
      }
    },
    {
      "cell_type": "markdown",
      "source": [
        "Recall the 2x2 table:"
      ],
      "metadata": {
        "id": "nfr8pAZVFlTg"
      }
    },
    {
      "cell_type": "code",
      "source": [
        "xtabs(~survival + size, data = lobsters)"
      ],
      "metadata": {
        "colab": {
          "base_uri": "https://localhost:8080/",
          "height": 86
        },
        "id": "2zaXJJXDFqc3",
        "outputId": "857ec46e-5746-49ee-e151-bd267672e544"
      },
      "execution_count": 6,
      "outputs": [
        {
          "output_type": "display_data",
          "data": {
            "text/plain": [
              "        size\n",
              "survival large small\n",
              "       0    23    57\n",
              "       1    56    23"
            ]
          },
          "metadata": {}
        }
      ]
    },
    {
      "cell_type": "markdown",
      "source": [
        "Previously we found the following summaries (remember $X=0$ for large and $X=1$ for small lobsters):\n",
        "\n",
        "* $Odds(Y=1|X = 0) = 56/23$\n",
        "* $Odds(Y=1|X = 1) = 23/57$\n",
        "* $Odds\\ ratio(X=1/X=0) = (23\\cdot 23) / (56\\cdot 57) = 0.166$"
      ],
      "metadata": {
        "id": "-qro89JXGDIC"
      }
    },
    {
      "cell_type": "markdown",
      "source": [
        "Using these summaries:\n",
        "\n",
        "* Verify $\\hat\\beta_0 = 0.8899$.\n",
        "* Verify $\\hat\\beta_0 + \\hat\\beta_1 = 0.8899-1.7974 = -0.9075$.\n",
        "* Verify $\\exp(\\hat\\beta_1)$."
      ],
      "metadata": {
        "id": "qM0QhwGOFsS_"
      }
    },
    {
      "cell_type": "code",
      "source": [
        "# verify estimated intercept:\n",
        "# log-odds of survival for x = 0 (large lobsters)\n",
        "log(56/23)"
      ],
      "metadata": {
        "id": "is_QuP-6tZ0H",
        "colab": {
          "base_uri": "https://localhost:8080/",
          "height": 34
        },
        "outputId": "ea9b055a-3b48-4c5a-ddcb-1ccc4e0af979"
      },
      "execution_count": 7,
      "outputs": [
        {
          "output_type": "display_data",
          "data": {
            "text/html": [
              "0.889857474806"
            ],
            "text/markdown": "0.889857474806",
            "text/latex": "0.889857474806",
            "text/plain": [
              "[1] 0.8898575"
            ]
          },
          "metadata": {}
        }
      ]
    },
    {
      "cell_type": "code",
      "source": [
        "# intercept + slope:\n",
        "log(23/57)"
      ],
      "metadata": {
        "colab": {
          "base_uri": "https://localhost:8080/",
          "height": 34
        },
        "id": "pmU02iB9t3Ce",
        "outputId": "b8699db0-129d-4f78-a52d-396592b034b2"
      },
      "execution_count": 8,
      "outputs": [
        {
          "output_type": "display_data",
          "data": {
            "text/html": [
              "-0.9075570519054"
            ],
            "text/markdown": "-0.9075570519054",
            "text/latex": "-0.9075570519054",
            "text/plain": [
              "[1] -0.9075571"
            ]
          },
          "metadata": {}
        }
      ]
    },
    {
      "cell_type": "code",
      "source": [
        "# slope\n",
        "# difference in log-odds, X=1 minus X=0 (small -large):\n",
        "log(23/57) - log(56/23)"
      ],
      "metadata": {
        "colab": {
          "base_uri": "https://localhost:8080/",
          "height": 34
        },
        "id": "kTCYFJUGt_dt",
        "outputId": "99f14512-7af3-4015-b3fc-1b4f23c75598"
      },
      "execution_count": 9,
      "outputs": [
        {
          "output_type": "display_data",
          "data": {
            "text/html": [
              "-1.7974145267114"
            ],
            "text/markdown": "-1.7974145267114",
            "text/latex": "-1.7974145267114",
            "text/plain": [
              "[1] -1.797415"
            ]
          },
          "metadata": {}
        }
      ]
    },
    {
      "cell_type": "markdown",
      "source": [
        "## Understanding the fitted values\n",
        "\n",
        "Consider two types of fitted values, which we will add on to the data set:"
      ],
      "metadata": {
        "id": "39rLFWP3MHxt"
      }
    },
    {
      "cell_type": "code",
      "source": [
        "# \"predict\" gives you predicted values\n",
        "lobsters$fitted.logits <- predict(survival.logistic.fit)"
      ],
      "metadata": {
        "id": "mmJtXj3HHhtQ"
      },
      "execution_count": 13,
      "outputs": []
    },
    {
      "cell_type": "code",
      "source": [
        "lobsters$fitted.p <- predict(survival.logistic.fit, type = 'response')"
      ],
      "metadata": {
        "id": "wkKmgiL4GYt4"
      },
      "execution_count": 11,
      "outputs": []
    },
    {
      "cell_type": "code",
      "source": [
        "head(lobsters,2)"
      ],
      "metadata": {
        "colab": {
          "base_uri": "https://localhost:8080/",
          "height": 161
        },
        "id": "mX1zkwsVGbdZ",
        "outputId": "fd9686ca-811c-4ae9-ae07-5e6be080f839"
      },
      "execution_count": 12,
      "outputs": [
        {
          "output_type": "display_data",
          "data": {
            "text/html": [
              "<table class=\"dataframe\">\n",
              "<caption>A data.frame: 2 × 5</caption>\n",
              "<thead>\n",
              "\t<tr><th></th><th scope=col>length.mm</th><th scope=col>size</th><th scope=col>survival</th><th scope=col>fitted.logits</th><th scope=col>fitted.p</th></tr>\n",
              "\t<tr><th></th><th scope=col>&lt;int&gt;</th><th scope=col>&lt;chr&gt;</th><th scope=col>&lt;int&gt;</th><th scope=col>&lt;dbl&gt;</th><th scope=col>&lt;dbl&gt;</th></tr>\n",
              "</thead>\n",
              "<tbody>\n",
              "\t<tr><th scope=row>1</th><td>27</td><td>small</td><td>0</td><td>-0.9075571</td><td>0.2875</td></tr>\n",
              "\t<tr><th scope=row>2</th><td>27</td><td>small</td><td>0</td><td>-0.9075571</td><td>0.2875</td></tr>\n",
              "</tbody>\n",
              "</table>\n"
            ],
            "text/markdown": "\nA data.frame: 2 × 5\n\n| <!--/--> | length.mm &lt;int&gt; | size &lt;chr&gt; | survival &lt;int&gt; | fitted.logits &lt;dbl&gt; | fitted.p &lt;dbl&gt; |\n|---|---|---|---|---|---|\n| 1 | 27 | small | 0 | -0.9075571 | 0.2875 |\n| 2 | 27 | small | 0 | -0.9075571 | 0.2875 |\n\n",
            "text/latex": "A data.frame: 2 × 5\n\\begin{tabular}{r|lllll}\n  & length.mm & size & survival & fitted.logits & fitted.p\\\\\n  & <int> & <chr> & <int> & <dbl> & <dbl>\\\\\n\\hline\n\t1 & 27 & small & 0 & -0.9075571 & 0.2875\\\\\n\t2 & 27 & small & 0 & -0.9075571 & 0.2875\\\\\n\\end{tabular}\n",
            "text/plain": [
              "  length.mm size  survival fitted.logits fitted.p\n",
              "1 27        small 0        -0.9075571    0.2875  \n",
              "2 27        small 0        -0.9075571    0.2875  "
            ]
          },
          "metadata": {}
        }
      ]
    },
    {
      "cell_type": "code",
      "source": [
        "tail(lobsters, 2)"
      ],
      "metadata": {
        "colab": {
          "base_uri": "https://localhost:8080/",
          "height": 161
        },
        "id": "tGhl3wOsMp20",
        "outputId": "7ee12e02-004b-46dd-d092-f6fc7ce0cf28"
      },
      "execution_count": 14,
      "outputs": [
        {
          "output_type": "display_data",
          "data": {
            "text/html": [
              "<table class=\"dataframe\">\n",
              "<caption>A data.frame: 2 × 5</caption>\n",
              "<thead>\n",
              "\t<tr><th></th><th scope=col>length.mm</th><th scope=col>size</th><th scope=col>survival</th><th scope=col>fitted.logits</th><th scope=col>fitted.p</th></tr>\n",
              "\t<tr><th></th><th scope=col>&lt;int&gt;</th><th scope=col>&lt;chr&gt;</th><th scope=col>&lt;int&gt;</th><th scope=col>&lt;dbl&gt;</th><th scope=col>&lt;dbl&gt;</th></tr>\n",
              "</thead>\n",
              "<tbody>\n",
              "\t<tr><th scope=row>158</th><td>54</td><td>large</td><td>1</td><td>0.8898575</td><td>0.7088608</td></tr>\n",
              "\t<tr><th scope=row>159</th><td>57</td><td>large</td><td>1</td><td>0.8898575</td><td>0.7088608</td></tr>\n",
              "</tbody>\n",
              "</table>\n"
            ],
            "text/markdown": "\nA data.frame: 2 × 5\n\n| <!--/--> | length.mm &lt;int&gt; | size &lt;chr&gt; | survival &lt;int&gt; | fitted.logits &lt;dbl&gt; | fitted.p &lt;dbl&gt; |\n|---|---|---|---|---|---|\n| 158 | 54 | large | 1 | 0.8898575 | 0.7088608 |\n| 159 | 57 | large | 1 | 0.8898575 | 0.7088608 |\n\n",
            "text/latex": "A data.frame: 2 × 5\n\\begin{tabular}{r|lllll}\n  & length.mm & size & survival & fitted.logits & fitted.p\\\\\n  & <int> & <chr> & <int> & <dbl> & <dbl>\\\\\n\\hline\n\t158 & 54 & large & 1 & 0.8898575 & 0.7088608\\\\\n\t159 & 57 & large & 1 & 0.8898575 & 0.7088608\\\\\n\\end{tabular}\n",
            "text/plain": [
              "    length.mm size  survival fitted.logits fitted.p \n",
              "158 54        large 1        0.8898575     0.7088608\n",
              "159 57        large 1        0.8898575     0.7088608"
            ]
          },
          "metadata": {}
        }
      ]
    },
    {
      "cell_type": "markdown",
      "source": [
        "* Verify computation of the first `fitted.p` value using:\n",
        "  - The first `fitted.logit`\n",
        "  - The 2x2 table summarizing the $Y/X$ relationship\n",
        "  "
      ],
      "metadata": {
        "id": "Wsa2isYTMrKE"
      }
    },
    {
      "cell_type": "code",
      "source": [
        "# verify the first fitted logit:\n",
        "# betahat0 + betahat1*x\n",
        "0.8899 + -1.7974 *1"
      ],
      "metadata": {
        "colab": {
          "base_uri": "https://localhost:8080/",
          "height": 34
        },
        "id": "JZJXRMdrvPOs",
        "outputId": "e24a257d-1c8e-4e81-8115-de697a80c431"
      },
      "execution_count": 17,
      "outputs": [
        {
          "output_type": "display_data",
          "data": {
            "text/html": [
              "-0.9075"
            ],
            "text/markdown": "-0.9075",
            "text/latex": "-0.9075",
            "text/plain": [
              "[1] -0.9075"
            ]
          },
          "metadata": {}
        }
      ]
    },
    {
      "cell_type": "code",
      "source": [
        "# verify the first fitted p:\n",
        "# expit(-0.9075)\n",
        "exp(-0.9075)/(1+exp(-0.9075))\n",
        "\n",
        "# Note that this is sample % of small lobsters that survived"
      ],
      "metadata": {
        "colab": {
          "base_uri": "https://localhost:8080/",
          "height": 34
        },
        "id": "gOWBZRm4vyqs",
        "outputId": "75cf67c9-1b10-4adf-ff97-1018811e5839"
      },
      "execution_count": 18,
      "outputs": [
        {
          "output_type": "display_data",
          "data": {
            "text/html": [
              "0.28751168686793"
            ],
            "text/markdown": "0.28751168686793",
            "text/latex": "0.28751168686793",
            "text/plain": [
              "[1] 0.2875117"
            ]
          },
          "metadata": {}
        }
      ]
    },
    {
      "cell_type": "code",
      "source": [
        "# verify from the 2x2 table\n",
        "23/80"
      ],
      "metadata": {
        "colab": {
          "base_uri": "https://localhost:8080/",
          "height": 34
        },
        "id": "9euxn49kxIKd",
        "outputId": "543c1c21-a5ff-4803-e7ef-8416dec0201f"
      },
      "execution_count": 23,
      "outputs": [
        {
          "output_type": "display_data",
          "data": {
            "text/html": [
              "0.2875"
            ],
            "text/markdown": "0.2875",
            "text/latex": "0.2875",
            "text/plain": [
              "[1] 0.2875"
            ]
          },
          "metadata": {}
        }
      ]
    },
    {
      "cell_type": "markdown",
      "source": [
        "\n",
        "\n",
        "* Verify computation of the last `fitted.p` value using:\n",
        "  - The last `fitted.logit`\n",
        "  - The 2x2 table summarizing the $Y/X$ relationship"
      ],
      "metadata": {
        "id": "FDa1Ev6CvOHs"
      }
    },
    {
      "cell_type": "code",
      "source": [
        "# verify the first fitted logit:\n",
        "# betahat0 + betahat1*x\n",
        "0.8899 + -1.7974 *0"
      ],
      "metadata": {
        "colab": {
          "base_uri": "https://localhost:8080/",
          "height": 34
        },
        "id": "QW9ILgpRwS-B",
        "outputId": "d40161de-2f70-4072-fe8e-be35bb9c7b2c"
      },
      "execution_count": 20,
      "outputs": [
        {
          "output_type": "display_data",
          "data": {
            "text/html": [
              "0.8899"
            ],
            "text/markdown": "0.8899",
            "text/latex": "0.8899",
            "text/plain": [
              "[1] 0.8899"
            ]
          },
          "metadata": {}
        }
      ]
    },
    {
      "cell_type": "code",
      "source": [
        "# verify the first fitted p:\n",
        "# expit(0.8899)\n",
        "exp(0.8899)/(1+exp(0.8899))\n",
        "\n",
        "# Note that this is sample % of large lobsters that survived"
      ],
      "metadata": {
        "colab": {
          "base_uri": "https://localhost:8080/",
          "height": 34
        },
        "id": "yCswgR-ZwWOL",
        "outputId": "df8f9954-8365-46dc-df0a-02d665b79102"
      },
      "execution_count": 25,
      "outputs": [
        {
          "output_type": "display_data",
          "data": {
            "text/html": [
              "0.708869535645472"
            ],
            "text/markdown": "0.708869535645472",
            "text/latex": "0.708869535645472",
            "text/plain": [
              "[1] 0.7088695"
            ]
          },
          "metadata": {}
        }
      ]
    },
    {
      "cell_type": "code",
      "source": [
        "# verify from the 2x2 table\n",
        "56/79"
      ],
      "metadata": {
        "colab": {
          "base_uri": "https://localhost:8080/",
          "height": 34
        },
        "id": "6qbAtahWxK6C",
        "outputId": "0acf8d24-38a9-4119-b3db-8aa2697667ae"
      },
      "execution_count": 24,
      "outputs": [
        {
          "output_type": "display_data",
          "data": {
            "text/html": [
              "0.708860759493671"
            ],
            "text/markdown": "0.708860759493671",
            "text/latex": "0.708860759493671",
            "text/plain": [
              "[1] 0.7088608"
            ]
          },
          "metadata": {}
        }
      ]
    },
    {
      "cell_type": "markdown",
      "source": [
        "## Testing for significance\n",
        "\n",
        "Testing whether $Y$ (survival) is significantly associated with $X$ (size) is accomplished by testing:\n",
        "\n",
        "$$H_0: \\beta_1 = 0$$\n",
        "$$H_a: \\beta_1 \\ne 0$$"
      ],
      "metadata": {
        "id": "-6_dxmgzNbfS"
      }
    },
    {
      "cell_type": "markdown",
      "source": [
        "This is often rewritten in terms of the *odds ratio*.  Since $e^0 = 1$ this becomes:\n",
        "\n",
        "$$H_0: OR= \\exp(\\beta_1)  = 1$$\n",
        "$$H_a: OR=\\exp(\\beta_1) \\ne  1$$"
      ],
      "metadata": {
        "id": "7mx0Lp2LNnRe"
      }
    },
    {
      "cell_type": "markdown",
      "source": [
        "We can test these hypotheses by forming the test statistic:\n",
        "\n",
        "$$z = \\frac{\\hat\\beta_1 - 0}{SE(\\hat\\beta_1)}$$\n",
        "\n",
        "We compare this to a standard normal to determine statistical significance.  "
      ],
      "metadata": {
        "id": "d0ZZZpiSOIMY"
      }
    },
    {
      "cell_type": "markdown",
      "source": [
        "Recall the model output:"
      ],
      "metadata": {
        "id": "AhirGMh7OVB6"
      }
    },
    {
      "cell_type": "code",
      "source": [
        "summary(survival.logistic.fit)"
      ],
      "metadata": {
        "colab": {
          "base_uri": "https://localhost:8080/",
          "height": 329
        },
        "id": "9-4V82XYNx7m",
        "outputId": "6ff3c39b-a9b3-46d0-c116-55f1f51b3f57"
      },
      "execution_count": 26,
      "outputs": [
        {
          "output_type": "display_data",
          "data": {
            "text/plain": [
              "\n",
              "Call:\n",
              "glm(formula = survival ~ size, family = binomial, data = lobsters)\n",
              "\n",
              "Coefficients:\n",
              "            Estimate Std. Error z value Pr(>|z|)    \n",
              "(Intercept)   0.8899     0.2477   3.593 0.000327 ***\n",
              "sizesmall    -1.7974     0.3498  -5.138 2.77e-07 ***\n",
              "---\n",
              "Signif. codes:  0 ‘***’ 0.001 ‘**’ 0.01 ‘*’ 0.05 ‘.’ 0.1 ‘ ’ 1\n",
              "\n",
              "(Dispersion parameter for binomial family taken to be 1)\n",
              "\n",
              "    Null deviance: 220.41  on 158  degrees of freedom\n",
              "Residual deviance: 191.28  on 157  degrees of freedom\n",
              "AIC: 195.28\n",
              "\n",
              "Number of Fisher Scoring iterations: 4\n"
            ]
          },
          "metadata": {}
        }
      ]
    },
    {
      "cell_type": "markdown",
      "source": [
        "* Verify the `z value` for $\\hat\\beta_1$\n",
        "* Verify the p-value\n",
        "  - Using [StatKey](https://www.lock5stat.com/StatKey/)\n",
        "  - Using `pnorm()`"
      ],
      "metadata": {
        "id": "PtqtAdlUOXpA"
      }
    },
    {
      "cell_type": "markdown",
      "source": [
        "We can also obtain confidence intervals using the `confint()` function:"
      ],
      "metadata": {
        "id": "6oKXqvlQOkvY"
      }
    },
    {
      "cell_type": "code",
      "source": [
        "# verify z:\n",
        "-1.7974 / 0.3498"
      ],
      "metadata": {
        "colab": {
          "base_uri": "https://localhost:8080/",
          "height": 34
        },
        "id": "WTj51Nizx5ai",
        "outputId": "893df271-1c56-4f13-b309-8a4608d35613"
      },
      "execution_count": 27,
      "outputs": [
        {
          "output_type": "display_data",
          "data": {
            "text/html": [
              "-5.13836477987421"
            ],
            "text/markdown": "-5.13836477987421",
            "text/latex": "-5.13836477987421",
            "text/plain": [
              "[1] -5.138365"
            ]
          },
          "metadata": {}
        }
      ]
    },
    {
      "cell_type": "code",
      "source": [
        "pnorm(-5.1383)*2"
      ],
      "metadata": {
        "colab": {
          "base_uri": "https://localhost:8080/",
          "height": 34
        },
        "id": "0ka_fDhGyLZN",
        "outputId": "67b94b20-e237-4d19-89e4-c755cb6cd70d"
      },
      "execution_count": 29,
      "outputs": [
        {
          "output_type": "display_data",
          "data": {
            "text/html": [
              "2.77235042124004e-07"
            ],
            "text/markdown": "2.77235042124004e-07",
            "text/latex": "2.77235042124004e-07",
            "text/plain": [
              "[1] 2.77235e-07"
            ]
          },
          "metadata": {}
        }
      ]
    },
    {
      "cell_type": "code",
      "source": [
        "#95% CI, on the log-odds/logit scale:\n",
        "confint(survival.logistic.fit)"
      ],
      "metadata": {
        "colab": {
          "base_uri": "https://localhost:8080/",
          "height": 164
        },
        "id": "qqfZbLxEOruD",
        "outputId": "ebb21791-3f3c-43a0-b5c2-170ccf81433f"
      },
      "execution_count": null,
      "outputs": [
        {
          "output_type": "stream",
          "name": "stderr",
          "text": [
            "Waiting for profiling to be done...\n",
            "\n"
          ]
        },
        {
          "output_type": "display_data",
          "data": {
            "text/html": [
              "<table class=\"dataframe\">\n",
              "<caption>A matrix: 2 × 2 of type dbl</caption>\n",
              "<thead>\n",
              "\t<tr><th></th><th scope=col>2.5 %</th><th scope=col>97.5 %</th></tr>\n",
              "</thead>\n",
              "<tbody>\n",
              "\t<tr><th scope=row>(Intercept)</th><td> 0.4184375</td><td> 1.394299</td></tr>\n",
              "\t<tr><th scope=row>sizesmall</th><td>-2.5013585</td><td>-1.126615</td></tr>\n",
              "</tbody>\n",
              "</table>\n"
            ],
            "text/markdown": "\nA matrix: 2 × 2 of type dbl\n\n| <!--/--> | 2.5 % | 97.5 % |\n|---|---|---|\n| (Intercept) |  0.4184375 |  1.394299 |\n| sizesmall | -2.5013585 | -1.126615 |\n\n",
            "text/latex": "A matrix: 2 × 2 of type dbl\n\\begin{tabular}{r|ll}\n  & 2.5 \\% & 97.5 \\%\\\\\n\\hline\n\t(Intercept) &  0.4184375 &  1.394299\\\\\n\tsizesmall & -2.5013585 & -1.126615\\\\\n\\end{tabular}\n",
            "text/plain": [
              "            2.5 %      97.5 %   \n",
              "(Intercept)  0.4184375  1.394299\n",
              "sizesmall   -2.5013585 -1.126615"
            ]
          },
          "metadata": {}
        }
      ]
    },
    {
      "cell_type": "markdown",
      "source": [
        "We typically want these to be on the odds ratio scale, which we accomplish by exponentiating:"
      ],
      "metadata": {
        "id": "t2X-1nQmOtVY"
      }
    },
    {
      "cell_type": "code",
      "source": [
        "#95% CI, on the odds/odds ratio scale:\n",
        "exp(confint(survival.logistic.fit))"
      ],
      "metadata": {
        "colab": {
          "base_uri": "https://localhost:8080/",
          "height": 164
        },
        "id": "XBpUKXJuOyjo",
        "outputId": "e74aa04c-a7e3-49db-a98d-e0afa54221b2"
      },
      "execution_count": null,
      "outputs": [
        {
          "output_type": "stream",
          "name": "stderr",
          "text": [
            "Waiting for profiling to be done...\n",
            "\n"
          ]
        },
        {
          "output_type": "display_data",
          "data": {
            "text/html": [
              "<table class=\"dataframe\">\n",
              "<caption>A matrix: 2 × 2 of type dbl</caption>\n",
              "<thead>\n",
              "\t<tr><th></th><th scope=col>2.5 %</th><th scope=col>97.5 %</th></tr>\n",
              "</thead>\n",
              "<tbody>\n",
              "\t<tr><th scope=row>(Intercept)</th><td>1.51958530</td><td>4.0321477</td></tr>\n",
              "\t<tr><th scope=row>sizesmall</th><td>0.08197356</td><td>0.3241285</td></tr>\n",
              "</tbody>\n",
              "</table>\n"
            ],
            "text/markdown": "\nA matrix: 2 × 2 of type dbl\n\n| <!--/--> | 2.5 % | 97.5 % |\n|---|---|---|\n| (Intercept) | 1.51958530 | 4.0321477 |\n| sizesmall | 0.08197356 | 0.3241285 |\n\n",
            "text/latex": "A matrix: 2 × 2 of type dbl\n\\begin{tabular}{r|ll}\n  & 2.5 \\% & 97.5 \\%\\\\\n\\hline\n\t(Intercept) & 1.51958530 & 4.0321477\\\\\n\tsizesmall & 0.08197356 & 0.3241285\\\\\n\\end{tabular}\n",
            "text/plain": [
              "            2.5 %      97.5 %   \n",
              "(Intercept) 1.51958530 4.0321477\n",
              "sizesmall   0.08197356 0.3241285"
            ]
          },
          "metadata": {}
        }
      ]
    },
    {
      "cell_type": "markdown",
      "source": [
        "## **Full conclusion**\n",
        "\n",
        "Writing a summary of an association from a logistic model should involve:\n",
        "\n",
        "* An interpretation of the *odds ratio*\n",
        "* A p-value and 95% CI, on the *odds ratio* scale\n",
        "\n",
        "Here's the interpretation from our simple logistic model:\n",
        "\n",
        "***The odds of survival for small lobsters were 16.6% as high as the odds of survival for large lobsters, a statistically significant difference (p-value < .001; 95% CI for OR: 0.08, 0.32 does not overlap ONE).***"
      ],
      "metadata": {
        "id": "3O-1RWGiO55A"
      }
    },
    {
      "cell_type": "markdown",
      "source": [
        "Of course, coding $X=1$ for small lobsters is arbitrary. If you want you could put everything on the \"larger-than-one\" scale by taking $1/\\exp(\\hat\\beta_1)$ and $(1/\\exp(UCL),1/\\exp(LCL))$ to find the 95% confidence interval:"
      ],
      "metadata": {
        "id": "19pQvoBLPbqg"
      }
    },
    {
      "cell_type": "code",
      "source": [
        "#Odds ratio, taking Odds(Large)/Odds(small):\n",
        "1/exp(survival.logistic.fit$coefficients[2])"
      ],
      "metadata": {
        "colab": {
          "base_uri": "https://localhost:8080/",
          "height": 34
        },
        "id": "dTExSO1AQLya",
        "outputId": "4055291b-4a23-433f-8230-d95161a5b88f"
      },
      "execution_count": 30,
      "outputs": [
        {
          "output_type": "display_data",
          "data": {
            "text/html": [
              "<strong>sizesmall:</strong> 6.03402646500765"
            ],
            "text/markdown": "**sizesmall:** 6.03402646500765",
            "text/latex": "\\textbf{sizesmall:} 6.03402646500765",
            "text/plain": [
              "sizesmall \n",
              " 6.034026 "
            ]
          },
          "metadata": {}
        }
      ]
    },
    {
      "cell_type": "code",
      "source": [
        "#95% CI for ddds ratio, taking Odds(Large)/Odds(small):\n",
        "1/exp(confint(survival.logistic.fit)[2,])"
      ],
      "metadata": {
        "colab": {
          "base_uri": "https://localhost:8080/",
          "height": 69
        },
        "id": "bfvJF9flQWdz",
        "outputId": "64317d3c-cf60-401f-b307-47e60222e709"
      },
      "execution_count": 31,
      "outputs": [
        {
          "output_type": "stream",
          "name": "stderr",
          "text": [
            "Waiting for profiling to be done...\n",
            "\n"
          ]
        },
        {
          "output_type": "display_data",
          "data": {
            "text/html": [
              "<style>\n",
              ".dl-inline {width: auto; margin:0; padding: 0}\n",
              ".dl-inline>dt, .dl-inline>dd {float: none; width: auto; display: inline-block}\n",
              ".dl-inline>dt::after {content: \":\\0020\"; padding-right: .5ex}\n",
              ".dl-inline>dt:not(:first-of-type) {padding-left: .5ex}\n",
              "</style><dl class=dl-inline><dt>2.5 %</dt><dd>12.1990549505245</dd><dt>97.5 %</dt><dd>3.08519601677657</dd></dl>\n"
            ],
            "text/markdown": "2.5 %\n:   12.199054950524597.5 %\n:   3.08519601677657\n\n",
            "text/latex": "\\begin{description*}\n\\item[2.5 \\textbackslash{}\\%] 12.1990549505245\n\\item[97.5 \\textbackslash{}\\%] 3.08519601677657\n\\end{description*}\n",
            "text/plain": [
              "    2.5 %    97.5 % \n",
              "12.199055  3.085196 "
            ]
          },
          "metadata": {}
        }
      ]
    },
    {
      "cell_type": "markdown",
      "source": [
        "Interpretation this way:\n",
        "\n",
        "\n",
        "***The odds of survival for large lobsters were 6.0 times higher than the odds of survival for small lobsters, a statistically significant difference (p-value < .001; 95% CI for OR: 3.1, 12.2 does not overlap ONE).***\n",
        "\n"
      ],
      "metadata": {
        "id": "ukX58Sk2Qdab"
      }
    },
    {
      "cell_type": "markdown",
      "source": [
        "# The rate ratio model\n",
        "\n",
        "While the logistic model uses the canonical logit function to link $p_X = E(Y|X)$ with $\\beta_0 + \\beta_1 X$, and is the most common choice for modeling a binary response, it's not the only option.  We could also use the log link, in which case we model:\n",
        "\n",
        "\n",
        "$$\\log(E(Y|X)) = \\log(p_X) = \\beta_0 + \\beta_1 X.$$"
      ],
      "metadata": {
        "id": "uE7kHxFXQt1X"
      }
    },
    {
      "cell_type": "markdown",
      "source": [
        "## Coefficient interpretation\n",
        "\n",
        "\n",
        "* $\\beta_0$ represents the log probability that $Y = 1$ when $X = 0$\n",
        "* $\\beta_1$ represents the change in the log probability of $Y=1$ for a one-unit change in $X$\n"
      ],
      "metadata": {
        "id": "s658Hc_ARbK4"
      }
    },
    {
      "cell_type": "markdown",
      "source": [
        "# Fitting the simple rate ratio model: lobster size"
      ],
      "metadata": {
        "id": "lnN5PqcYSt_Z"
      }
    },
    {
      "cell_type": "markdown",
      "source": [
        "Fitting this model requires specifying a different link function in the `glm()` call:"
      ],
      "metadata": {
        "id": "vBAWgmhNSx_z"
      }
    },
    {
      "cell_type": "code",
      "source": [
        "survival.log.fit <- glm(survival ~ size, data = lobsters, family = binomial(link='log'))"
      ],
      "metadata": {
        "id": "1Lzt95nSSt_m"
      },
      "execution_count": 32,
      "outputs": []
    },
    {
      "cell_type": "code",
      "source": [
        "survival.log.fit$family"
      ],
      "metadata": {
        "colab": {
          "base_uri": "https://localhost:8080/",
          "height": 69
        },
        "id": "E5wHXTBHTZ5L",
        "outputId": "086853d8-9771-4452-a6d2-23248d64182c"
      },
      "execution_count": 33,
      "outputs": [
        {
          "output_type": "display_data",
          "data": {
            "text/plain": [
              "\n",
              "Family: binomial \n",
              "Link function: log \n"
            ]
          },
          "metadata": {}
        }
      ]
    },
    {
      "cell_type": "markdown",
      "source": [
        "Investigating model output:"
      ],
      "metadata": {
        "id": "dixmP5eiSt_n"
      }
    },
    {
      "cell_type": "code",
      "source": [
        "summary(survival.log.fit)"
      ],
      "metadata": {
        "colab": {
          "base_uri": "https://localhost:8080/",
          "height": 347
        },
        "outputId": "244eac27-2357-42f4-cb62-6a4d64600745",
        "id": "P4FaKYeZSt_n"
      },
      "execution_count": 34,
      "outputs": [
        {
          "output_type": "display_data",
          "data": {
            "text/plain": [
              "\n",
              "Call:\n",
              "glm(formula = survival ~ size, family = binomial(link = \"log\"), \n",
              "    data = lobsters)\n",
              "\n",
              "Coefficients:\n",
              "            Estimate Std. Error z value Pr(>|z|)    \n",
              "(Intercept)  -0.3441     0.0721  -4.772 1.82e-06 ***\n",
              "sizesmall    -0.9024     0.1902  -4.745 2.09e-06 ***\n",
              "---\n",
              "Signif. codes:  0 ‘***’ 0.001 ‘**’ 0.01 ‘*’ 0.05 ‘.’ 0.1 ‘ ’ 1\n",
              "\n",
              "(Dispersion parameter for binomial family taken to be 1)\n",
              "\n",
              "    Null deviance: 220.41  on 158  degrees of freedom\n",
              "Residual deviance: 191.28  on 157  degrees of freedom\n",
              "AIC: 195.28\n",
              "\n",
              "Number of Fisher Scoring iterations: 6\n"
            ]
          },
          "metadata": {}
        }
      ]
    },
    {
      "cell_type": "markdown",
      "source": [
        "## Understanding the coefficients"
      ],
      "metadata": {
        "id": "HTYtplC5St_n"
      }
    },
    {
      "cell_type": "markdown",
      "source": [
        "Recall the 2x2 table:"
      ],
      "metadata": {
        "id": "fcIhDEKhSt_n"
      }
    },
    {
      "cell_type": "code",
      "source": [
        "xtabs(~survival + size, data = lobsters)"
      ],
      "metadata": {
        "colab": {
          "base_uri": "https://localhost:8080/",
          "height": 86
        },
        "outputId": "327b52fa-0a75-4024-8e71-014544941862",
        "id": "QBj2Q8P3St_n"
      },
      "execution_count": 35,
      "outputs": [
        {
          "output_type": "display_data",
          "data": {
            "text/plain": [
              "        size\n",
              "survival large small\n",
              "       0    23    57\n",
              "       1    56    23"
            ]
          },
          "metadata": {}
        }
      ]
    },
    {
      "cell_type": "code",
      "source": [
        "prop.table(xtabs(~survival + size, data = lobsters), 2)"
      ],
      "metadata": {
        "colab": {
          "base_uri": "https://localhost:8080/",
          "height": 86
        },
        "id": "MlRpVnvyTsb8",
        "outputId": "6f2e8a85-ce4d-44dc-b167-12e7f7e86997"
      },
      "execution_count": 36,
      "outputs": [
        {
          "output_type": "display_data",
          "data": {
            "text/plain": [
              "        size\n",
              "survival     large     small\n",
              "       0 0.2911392 0.7125000\n",
              "       1 0.7088608 0.2875000"
            ]
          },
          "metadata": {}
        }
      ]
    },
    {
      "cell_type": "markdown",
      "source": [
        "Previously we found the following summaries (remember $X=0$ for large and $X=1$ for small lobsters):\n",
        "\n",
        "* $P(Y=1|X = 0) = 56/79 = 0.709$\n",
        "* $P(Y=1|X = 1) = 23/80 = 0.288$\n",
        "* $Rate\\ ratio(X=1/X=0) = 0.287/0.709 =0.4047$"
      ],
      "metadata": {
        "id": "US61rwdUSt_n"
      }
    },
    {
      "cell_type": "markdown",
      "source": [
        "Using these summaries:\n",
        "\n",
        "* Verify $\\hat\\beta_0 = -0.3441$.\n",
        "* Verify $\\hat\\beta_0 + \\hat\\beta_1 = -0.3441-0.9024 = -1.2465$.\n",
        "* Verify $\\exp(\\hat\\beta_1)$."
      ],
      "metadata": {
        "id": "pFaYVEk3St_n"
      }
    },
    {
      "cell_type": "code",
      "source": [
        "# verify estimated intercept:\n",
        "# log of survival probability for large lobsters:\n",
        "log(56/79)"
      ],
      "metadata": {
        "colab": {
          "base_uri": "https://localhost:8080/",
          "height": 34
        },
        "id": "bKgVjVcL0Irs",
        "outputId": "8a1f4406-2722-46bb-bfe2-36b652d486a0"
      },
      "execution_count": 38,
      "outputs": [
        {
          "output_type": "display_data",
          "data": {
            "text/html": [
              "-0.344096161731872"
            ],
            "text/markdown": "-0.344096161731872",
            "text/latex": "-0.344096161731872",
            "text/plain": [
              "[1] -0.3440962"
            ]
          },
          "metadata": {}
        }
      ]
    },
    {
      "cell_type": "code",
      "source": [
        "# verify intercept + slope:\n",
        "# log of survival probability for small lobsters:\n",
        "log(23/80)"
      ],
      "metadata": {
        "colab": {
          "base_uri": "https://localhost:8080/",
          "height": 34
        },
        "id": "exiZKnlQ019l",
        "outputId": "77822ae4-2568-432e-e4d5-b27d0f8e5e0c"
      },
      "execution_count": 40,
      "outputs": [
        {
          "output_type": "display_data",
          "data": {
            "text/html": [
              "-1.24653241874473"
            ],
            "text/markdown": "-1.24653241874473",
            "text/latex": "-1.24653241874473",
            "text/plain": [
              "[1] -1.246532"
            ]
          },
          "metadata": {}
        }
      ]
    },
    {
      "cell_type": "code",
      "source": [
        "# exp(betahat) = rate ratio\n",
        "exp(-0.9024)\n",
        "(23/80)/(56/79)"
      ],
      "metadata": {
        "colab": {
          "base_uri": "https://localhost:8080/",
          "height": 52
        },
        "id": "_q0Q-5wT1FzJ",
        "outputId": "ad0dd780-faaf-4de9-aaa4-dee6e413f29e"
      },
      "execution_count": 41,
      "outputs": [
        {
          "output_type": "display_data",
          "data": {
            "text/html": [
              "0.405595062541667"
            ],
            "text/markdown": "0.405595062541667",
            "text/latex": "0.405595062541667",
            "text/plain": [
              "[1] 0.4055951"
            ]
          },
          "metadata": {}
        },
        {
          "output_type": "display_data",
          "data": {
            "text/html": [
              "0.405580357142857"
            ],
            "text/markdown": "0.405580357142857",
            "text/latex": "0.405580357142857",
            "text/plain": [
              "[1] 0.4055804"
            ]
          },
          "metadata": {}
        }
      ]
    },
    {
      "cell_type": "markdown",
      "source": [
        "## Testing for significance\n"
      ],
      "metadata": {
        "id": "h5aAlhlySt_o"
      }
    },
    {
      "cell_type": "markdown",
      "source": [
        "Just as in logistic regression, rate ratio regression tests for association between $X$ and $Y$ by testing whether $e^{\\beta_1} = 1$, but now $e^{\\beta_1}$ represents the rate ratio:\n",
        "\n",
        "$$H_0: RR= \\exp(\\beta_1)  = 1$$\n",
        "$$H_a: RR=\\exp(\\beta_1) \\ne  1$$"
      ],
      "metadata": {
        "id": "GOv_cwygSt_o"
      }
    },
    {
      "cell_type": "markdown",
      "source": [
        "Obtaining confidence intervals for the rate ratio:"
      ],
      "metadata": {
        "id": "bAMRRlnXRJa0"
      }
    },
    {
      "cell_type": "code",
      "source": [
        "exp(confint(survival.log.fit))"
      ],
      "metadata": {
        "colab": {
          "base_uri": "https://localhost:8080/",
          "height": 164
        },
        "id": "2APCJi6FVh_T",
        "outputId": "ff978d9f-88e4-477c-8fa2-81848f25be94"
      },
      "execution_count": null,
      "outputs": [
        {
          "output_type": "stream",
          "name": "stderr",
          "text": [
            "Waiting for profiling to be done...\n",
            "\n"
          ]
        },
        {
          "output_type": "display_data",
          "data": {
            "text/html": [
              "<table class=\"dataframe\">\n",
              "<caption>A matrix: 2 × 2 of type dbl</caption>\n",
              "<thead>\n",
              "\t<tr><th></th><th scope=col>2.5 %</th><th scope=col>97.5 %</th></tr>\n",
              "</thead>\n",
              "<tbody>\n",
              "\t<tr><th scope=row>(Intercept)</th><td>0.6030994</td><td>0.8012691</td></tr>\n",
              "\t<tr><th scope=row>sizesmall</th><td>0.2707825</td><td>0.5747536</td></tr>\n",
              "</tbody>\n",
              "</table>\n"
            ],
            "text/markdown": "\nA matrix: 2 × 2 of type dbl\n\n| <!--/--> | 2.5 % | 97.5 % |\n|---|---|---|\n| (Intercept) | 0.6030994 | 0.8012691 |\n| sizesmall | 0.2707825 | 0.5747536 |\n\n",
            "text/latex": "A matrix: 2 × 2 of type dbl\n\\begin{tabular}{r|ll}\n  & 2.5 \\% & 97.5 \\%\\\\\n\\hline\n\t(Intercept) & 0.6030994 & 0.8012691\\\\\n\tsizesmall & 0.2707825 & 0.5747536\\\\\n\\end{tabular}\n",
            "text/plain": [
              "            2.5 %     97.5 %   \n",
              "(Intercept) 0.6030994 0.8012691\n",
              "sizesmall   0.2707825 0.5747536"
            ]
          },
          "metadata": {}
        }
      ]
    },
    {
      "cell_type": "markdown",
      "source": [
        "## **Full conclusion**\n",
        "\n",
        "The interpretations are now about ratios of probabilities.  In our case:\n",
        "\n",
        "\n",
        "***The probability of survival for small lobsters were $\\exp(-0.9024)$ = 41% as high as the probability of survival for large lobsters, a statistically significant difference (p-value < .001; 95% CI for RR: 0.27, 0.57 does not overlap ONE).***"
      ],
      "metadata": {
        "id": "QFbbh1BUVlLf"
      }
    },
    {
      "cell_type": "markdown",
      "source": [
        "If we wanted we could also reciprocate all these to obtain interpretations of the RR that are > 1."
      ],
      "metadata": {
        "id": "Ti5VaWQqVmez"
      }
    },
    {
      "cell_type": "markdown",
      "source": [
        "# Logistic vs rate ratio\n",
        "\n",
        "In practice, logistic regression (logit link) is more common than rate ratio (log link) for modeling binary outcomes for 2 reasons:\n",
        "\n",
        "* Case control studies: in these studies, $Y=1$ are oversampled relative to $Y=0$ (e.g., to study relationships of some rare disease with risk factors).  In these studies, odds ratios are interpretable while rate ratios are biased.  Thus logistic regression is the only option.\n",
        "* $-\\infty < logit(p_X) < \\infty$ while $0 < \\log(p_X) < \\infty$.  This has the advantage of $p_X$ being defined for *any $X$* in a logistic model while, in some cases, $p_X$ may not be defined if $\\beta_0 + \\beta_1 X$ yields something negative in a rate ratio model."
      ],
      "metadata": {
        "id": "5gY8kv_IWS0X"
      }
    },
    {
      "cell_type": "markdown",
      "source": [
        "# Why the funky logit link?"
      ],
      "metadata": {
        "id": "Zn1gRLyPW4P9"
      }
    },
    {
      "cell_type": "markdown",
      "source": [
        "The $logit(p_X) = \\log\\left(\\frac{p_X}{1-p_X}\\right)$ link is strange at first glance.  Beyond just being the link we use because it's canonical for mathematical reasons, it's also very practical.  Here's an example."
      ],
      "metadata": {
        "id": "BLQOSzVpW-SF"
      }
    },
    {
      "cell_type": "markdown",
      "source": [
        "Consider modeling lobster survival not with the binary large/small variable, but the actual length in milimeters.  \n"
      ],
      "metadata": {
        "id": "1zX9Vu0pXgsO"
      }
    },
    {
      "cell_type": "markdown",
      "source": [
        "Consider a naive approach, fitting an ordinary linear regression model of $Y$ vs length in millimeters:"
      ],
      "metadata": {
        "id": "VOHoWlL9br7Q"
      }
    },
    {
      "cell_type": "code",
      "source": [
        "library(ggplot2)\n",
        "ggplot(data = lobsters, aes(x = length.mm, y = jitter(survival,.1))) +\n",
        "  geom_point() +\n",
        "  geom_smooth(method='lm') +\n",
        "  ylab('P(Y=1|length)') + xlab('Length(mm)')"
      ],
      "metadata": {
        "colab": {
          "base_uri": "https://localhost:8080/",
          "height": 454
        },
        "id": "Tfs-n9zcbyLs",
        "outputId": "97f994e6-27cc-474b-eba9-0c2f8369572c"
      },
      "execution_count": null,
      "outputs": [
        {
          "output_type": "stream",
          "name": "stderr",
          "text": [
            "\u001b[1m\u001b[22m`geom_smooth()` using formula = 'y ~ x'\n"
          ]
        },
        {
          "output_type": "display_data",
          "data": {
            "text/plain": [
              "plot without title"
            ],
            "image/png": "[encoded data removed]"
          },
          "metadata": {
            "image/png": {
              "width": 420,
              "height": 420
            }
          }
        }
      ]
    },
    {
      "cell_type": "markdown",
      "source": [
        "Suppose we fit the ordinary simple linear regression model:\n",
        "\n",
        "$$p_{X_i} = E(Y_i|X_i) = \\beta_0 + \\beta_1 X_i$$\n",
        "\n",
        "Where now, $X_i$ is the length in mm of lobster $i$."
      ],
      "metadata": {
        "id": "6a_jRChhcGi9"
      }
    },
    {
      "cell_type": "code",
      "source": [
        "ols.length.fit <- lm(survival~length.mm, data = lobsters)\n",
        "summary(ols.length.fit)"
      ],
      "metadata": {
        "colab": {
          "base_uri": "https://localhost:8080/",
          "height": 329
        },
        "id": "FMPc0GK3cbFK",
        "outputId": "bb31dec8-1416-4361-cf8c-98cea33396a3"
      },
      "execution_count": 42,
      "outputs": [
        {
          "output_type": "display_data",
          "data": {
            "text/plain": [
              "\n",
              "Call:\n",
              "lm(formula = survival ~ length.mm, data = lobsters)\n",
              "\n",
              "Residuals:\n",
              "     Min       1Q   Median       3Q      Max \n",
              "-0.90152 -0.33413 -0.01499  0.38217  0.89282 \n",
              "\n",
              "Coefficients:\n",
              "             Estimate Std. Error t value Pr(>|t|)    \n",
              "(Intercept) -1.027588   0.205645  -4.997 1.54e-06 ***\n",
              "length.mm    0.037826   0.005031   7.518 4.00e-12 ***\n",
              "---\n",
              "Signif. codes:  0 ‘***’ 0.001 ‘**’ 0.01 ‘*’ 0.05 ‘.’ 0.1 ‘ ’ 1\n",
              "\n",
              "Residual standard error: 0.4315 on 157 degrees of freedom\n",
              "Multiple R-squared:  0.2647,\tAdjusted R-squared:   0.26 \n",
              "F-statistic: 56.52 on 1 and 157 DF,  p-value: 4.002e-12\n"
            ]
          },
          "metadata": {}
        }
      ]
    },
    {
      "cell_type": "markdown",
      "source": [
        "* Consider a 26-mm lobster.  What is $\\hat p_{26}$, the modeled probability of survival for a 26-mm lobster?\n",
        "* Consider a 54-mm lobster (of which there are several in the data set).  What is $\\hat p_{54}$, the modeled probability of survival for a 54-mm lobster?\n",
        "* What are the issues with these fitted values?"
      ],
      "metadata": {
        "id": "pCqlzurRc3wR"
      }
    },
    {
      "cell_type": "code",
      "source": [
        "# find fitted value for 26 mm lobster:\n",
        "-1.027588 + 0.037826*26\n",
        "\n",
        "# probabiity is negative"
      ],
      "metadata": {
        "colab": {
          "base_uri": "https://localhost:8080/",
          "height": 34
        },
        "id": "k-1bD3I72ekk",
        "outputId": "4df22a1a-49d0-4a6c-867d-94d2a69d3741"
      },
      "execution_count": 56,
      "outputs": [
        {
          "output_type": "display_data",
          "data": {
            "text/html": [
              "-0.0441119999999999"
            ],
            "text/markdown": "-0.0441119999999999",
            "text/latex": "-0.0441119999999999",
            "text/plain": [
              "[1] -0.044112"
            ]
          },
          "metadata": {}
        }
      ]
    },
    {
      "cell_type": "code",
      "source": [
        "# find fitted value for 54 mm lobster:\n",
        "-1.027588 + 0.037826*54\n",
        "\n",
        "# probability is more than 100%"
      ],
      "metadata": {
        "colab": {
          "base_uri": "https://localhost:8080/",
          "height": 34
        },
        "id": "Rut7cYxN2rOW",
        "outputId": "29c95209-2e5c-46bb-c03f-9287317cb6ec"
      },
      "execution_count": 57,
      "outputs": [
        {
          "output_type": "display_data",
          "data": {
            "text/html": [
              "1.015016"
            ],
            "text/markdown": "1.015016",
            "text/latex": "1.015016",
            "text/plain": [
              "[1] 1.015016"
            ]
          },
          "metadata": {}
        }
      ]
    },
    {
      "cell_type": "markdown",
      "source": [
        "Now consider a logistic fit of the form:\n",
        "\n",
        "$$\\log\\left(\\frac{p_{X_i}}{1-p_{X_i}}\\right) = \\beta_0 + \\beta_1 X_i$$\n",
        "\n",
        "where once again $X_i$ is the length in mm of lobster $i$."
      ],
      "metadata": {
        "id": "d8U-NqVFdbZx"
      }
    },
    {
      "cell_type": "code",
      "source": [
        "logistic.length.fit  <- glm(survival~length.mm, data = lobsters, family=binomial)\n",
        "summary(logistic.length.fit)"
      ],
      "metadata": {
        "colab": {
          "base_uri": "https://localhost:8080/",
          "height": 329
        },
        "id": "FV4KHiBliYNh",
        "outputId": "2ef3d9ca-3816-4248-9672-5a9b131278a7"
      },
      "execution_count": 58,
      "outputs": [
        {
          "output_type": "display_data",
          "data": {
            "text/plain": [
              "\n",
              "Call:\n",
              "glm(formula = survival ~ length.mm, family = binomial, data = lobsters)\n",
              "\n",
              "Coefficients:\n",
              "            Estimate Std. Error z value Pr(>|z|)    \n",
              "(Intercept) -7.89597    1.38501  -5.701 1.19e-08 ***\n",
              "length.mm    0.19586    0.03415   5.735 9.77e-09 ***\n",
              "---\n",
              "Signif. codes:  0 ‘***’ 0.001 ‘**’ 0.01 ‘*’ 0.05 ‘.’ 0.1 ‘ ’ 1\n",
              "\n",
              "(Dispersion parameter for binomial family taken to be 1)\n",
              "\n",
              "    Null deviance: 220.41  on 158  degrees of freedom\n",
              "Residual deviance: 172.87  on 157  degrees of freedom\n",
              "AIC: 176.87\n",
              "\n",
              "Number of Fisher Scoring iterations: 4\n"
            ]
          },
          "metadata": {}
        }
      ]
    },
    {
      "cell_type": "markdown",
      "source": [
        "* Consider a 26-mm lobster.  What is $\\hat p_{26}$, the modeled probability of survival for a 26-mm lobster?\n",
        "* Consider a 54-mm lobster (there actually is one in this data set).  What is $\\hat p_{54}$, the modeled probability of survival for a 54-mm lobster?\n",
        "* Why are these preferable to the OLS fitted values?"
      ],
      "metadata": {
        "id": "jmUierb5iknu"
      }
    },
    {
      "cell_type": "code",
      "source": [
        "# logistic model gives probability that can be interpreted.\n",
        "# linear in log-odds scale\n",
        "# s shape in p scale"
      ],
      "metadata": {
        "id": "rff0ZiHX30iY"
      },
      "execution_count": 59,
      "outputs": []
    },
    {
      "cell_type": "code",
      "source": [
        "# fitted log-odds for the 26mm lobster:\n",
        "-7.89597 + 0.19586*26"
      ],
      "metadata": {
        "colab": {
          "base_uri": "https://localhost:8080/",
          "height": 34
        },
        "id": "auVB9ded3G_T",
        "outputId": "40ec1832-188b-4f86-d88a-ba101f8046d3"
      },
      "execution_count": 60,
      "outputs": [
        {
          "output_type": "display_data",
          "data": {
            "text/html": [
              "-2.80361"
            ],
            "text/markdown": "-2.80361",
            "text/latex": "-2.80361",
            "text/plain": [
              "[1] -2.80361"
            ]
          },
          "metadata": {}
        }
      ]
    },
    {
      "cell_type": "code",
      "source": [
        "# fitted probability for the 26mm lobster:\n",
        "# expit\n",
        "exp(-2.80361) / (1+exp(-2.80361))"
      ],
      "metadata": {
        "colab": {
          "base_uri": "https://localhost:8080/",
          "height": 34
        },
        "id": "oB_AJH0Z3S8C",
        "outputId": "ece187bc-b346-4366-f869-e32c945f7ac0"
      },
      "execution_count": 61,
      "outputs": [
        {
          "output_type": "display_data",
          "data": {
            "text/html": [
              "0.0571294097640317"
            ],
            "text/markdown": "0.0571294097640317",
            "text/latex": "0.0571294097640317",
            "text/plain": [
              "[1] 0.05712941"
            ]
          },
          "metadata": {}
        }
      ]
    },
    {
      "cell_type": "code",
      "source": [
        "# fitted log-odds for the 54mm lobster:\n",
        "-7.89597 + 0.19586*54"
      ],
      "metadata": {
        "colab": {
          "base_uri": "https://localhost:8080/",
          "height": 34
        },
        "id": "3YX4lNRI3mW1",
        "outputId": "d520883c-0c8a-4623-d1ea-0257cc538f52"
      },
      "execution_count": 62,
      "outputs": [
        {
          "output_type": "display_data",
          "data": {
            "text/html": [
              "2.68047"
            ],
            "text/markdown": "2.68047",
            "text/latex": "2.68047",
            "text/plain": [
              "[1] 2.68047"
            ]
          },
          "metadata": {}
        }
      ]
    },
    {
      "cell_type": "code",
      "source": [
        "# fitted probability for the 54mm lobster:\n",
        "# expit\n",
        "exp(2.68047) / (1+exp(2.68047))"
      ],
      "metadata": {
        "colab": {
          "base_uri": "https://localhost:8080/",
          "height": 34
        },
        "id": "M6CWcWzd3oJo",
        "outputId": "a5f24ad9-3143-4c03-b6cc-e6d59b97a409"
      },
      "execution_count": 63,
      "outputs": [
        {
          "output_type": "display_data",
          "data": {
            "text/html": [
              "0.93586433984489"
            ],
            "text/markdown": "0.93586433984489",
            "text/latex": "0.93586433984489",
            "text/plain": [
              "[1] 0.9358643"
            ]
          },
          "metadata": {}
        }
      ]
    },
    {
      "cell_type": "markdown",
      "source": [
        "Adding the fitted probabilities from this logistic model to the data set, and plotting them:"
      ],
      "metadata": {
        "id": "EsEtsvMgU4WC"
      }
    },
    {
      "cell_type": "code",
      "source": [
        "lobsters$length.fitted.p <- predict(logistic.length.fit, type = 'response')"
      ],
      "metadata": {
        "id": "qhgOq8UjVFlS"
      },
      "execution_count": 64,
      "outputs": []
    },
    {
      "cell_type": "code",
      "source": [
        "library(ggplot2)\n",
        "ggplot(data = lobsters, aes(x = length.mm, y = jitter(survival, .1))) +\n",
        "  geom_point() +\n",
        "  geom_line(aes(x = length.mm, y = length.fitted.p)) +\n",
        "  ylab('P(Y=1|length)') + xlab('Length(mm)')"
      ],
      "metadata": {
        "colab": {
          "base_uri": "https://localhost:8080/",
          "height": 437
        },
        "id": "3egvmV9yU616",
        "outputId": "64fc7130-ec51-4659-cb95-88679a6e1dbc"
      },
      "execution_count": 65,
      "outputs": [
        {
          "output_type": "display_data",
          "data": {
            "text/plain": [
              "plot without title"
            ],
            "image/png": "[encoded data removed]"
          },
          "metadata": {
            "image/png": {
              "width": 420,
              "height": 420
            }
          }
        }
      ]
    },
    {
      "cell_type": "markdown",
      "source": [
        "The graphs below show the relationship between $p$ and $logit(p)$:"
      ],
      "metadata": {
        "id": "sroMC2qoipTo"
      }
    },
    {
      "cell_type": "markdown",
      "source": [
        "![](https://i.stack.imgur.com/WY61Z.png)"
      ],
      "metadata": {
        "id": "ZYuyHMtNiS1q"
      }
    },
    {
      "cell_type": "markdown",
      "source": [
        "The linear term $\\beta_0 + \\beta_1 X$ can be anywhere on the real line.  This is problematic if you are modeling $p$ directly and plugging in some $X$ yields fitted values outside of $[0,1]$.  However, this is no problem with the logit link, when $logit(p) = \\beta_0 + \\beta_1 X$:  since $p = \\frac{\\exp(\\beta_0 + \\beta_1 X)}{1+\\exp(\\beta_0 + \\beta_1 X)}$, the linear term $\\beta_0 + \\beta_1 X$ can be anywhere on the real line but $p$ is still guaranteed to be $\\in [0,1]$."
      ],
      "metadata": {
        "id": "h9XSWLEois5g"
      }
    },
    {
      "cell_type": "markdown",
      "source": [
        "# Regression on quantitative covariate\n",
        "\n",
        "Reconsider the following logistic model:\n",
        "\n",
        "\n",
        "$$\\log\\left(\\frac{p_{X_i}}{1-p_{X_i}}\\right) = \\beta_0 + \\beta_1 X_i$$\n",
        "\n",
        "where once again $X_i$ is the length in mm of lobster $i$."
      ],
      "metadata": {
        "id": "ZZgDBNVwHsAl"
      }
    },
    {
      "cell_type": "code",
      "source": [
        "logistic.length.fit  <- glm(survival~length.mm, data = lobsters, family=binomial)\n",
        "summary(logistic.length.fit)"
      ],
      "metadata": {
        "colab": {
          "base_uri": "https://localhost:8080/",
          "height": 329
        },
        "id": "_Ff5oV4wH98O",
        "outputId": "92effbc5-a778-4986-9545-6289f4aa81ac"
      },
      "execution_count": 66,
      "outputs": [
        {
          "output_type": "display_data",
          "data": {
            "text/plain": [
              "\n",
              "Call:\n",
              "glm(formula = survival ~ length.mm, family = binomial, data = lobsters)\n",
              "\n",
              "Coefficients:\n",
              "            Estimate Std. Error z value Pr(>|z|)    \n",
              "(Intercept) -7.89597    1.38501  -5.701 1.19e-08 ***\n",
              "length.mm    0.19586    0.03415   5.735 9.77e-09 ***\n",
              "---\n",
              "Signif. codes:  0 ‘***’ 0.001 ‘**’ 0.01 ‘*’ 0.05 ‘.’ 0.1 ‘ ’ 1\n",
              "\n",
              "(Dispersion parameter for binomial family taken to be 1)\n",
              "\n",
              "    Null deviance: 220.41  on 158  degrees of freedom\n",
              "Residual deviance: 172.87  on 157  degrees of freedom\n",
              "AIC: 176.87\n",
              "\n",
              "Number of Fisher Scoring iterations: 4\n"
            ]
          },
          "metadata": {}
        }
      ]
    },
    {
      "cell_type": "code",
      "source": [
        "confint(logistic.length.fit)"
      ],
      "metadata": {
        "colab": {
          "base_uri": "https://localhost:8080/",
          "height": 164
        },
        "id": "8i3kd_c1IFBs",
        "outputId": "e11c2eb3-448c-4681-b861-dfa0c7970d40"
      },
      "execution_count": 67,
      "outputs": [
        {
          "output_type": "stream",
          "name": "stderr",
          "text": [
            "Waiting for profiling to be done...\n",
            "\n"
          ]
        },
        {
          "output_type": "display_data",
          "data": {
            "text/html": [
              "<table class=\"dataframe\">\n",
              "<caption>A matrix: 2 × 2 of type dbl</caption>\n",
              "<thead>\n",
              "\t<tr><th></th><th scope=col>2.5 %</th><th scope=col>97.5 %</th></tr>\n",
              "</thead>\n",
              "<tbody>\n",
              "\t<tr><th scope=row>(Intercept)</th><td>-10.8034922</td><td>-5.3449643</td></tr>\n",
              "\t<tr><th scope=row>length.mm</th><td>  0.1329987</td><td> 0.2675871</td></tr>\n",
              "</tbody>\n",
              "</table>\n"
            ],
            "text/markdown": "\nA matrix: 2 × 2 of type dbl\n\n| <!--/--> | 2.5 % | 97.5 % |\n|---|---|---|\n| (Intercept) | -10.8034922 | -5.3449643 |\n| length.mm |   0.1329987 |  0.2675871 |\n\n",
            "text/latex": "A matrix: 2 × 2 of type dbl\n\\begin{tabular}{r|ll}\n  & 2.5 \\% & 97.5 \\%\\\\\n\\hline\n\t(Intercept) & -10.8034922 & -5.3449643\\\\\n\tlength.mm &   0.1329987 &  0.2675871\\\\\n\\end{tabular}\n",
            "text/plain": [
              "            2.5 %       97.5 %    \n",
              "(Intercept) -10.8034922 -5.3449643\n",
              "length.mm     0.1329987  0.2675871"
            ]
          },
          "metadata": {}
        }
      ]
    },
    {
      "cell_type": "markdown",
      "source": [
        "This is regression on a *quantitative* covariate, length.  \n",
        "\n",
        "* $\\hat\\beta_0$: the log-odds of survival for a 0-mm lobster\n",
        "  - Clearly absurd; could again mean-center the lengths to obtain a more meaningful intercept estimate."
      ],
      "metadata": {
        "id": "aDdKAZ_9H-IB"
      }
    },
    {
      "cell_type": "markdown",
      "source": [
        "Exponentiating the $\\hat\\beta_1$ coefficient and 95% CI:"
      ],
      "metadata": {
        "id": "5H-5k5fXIW-G"
      }
    },
    {
      "cell_type": "code",
      "source": [
        "exp(3*logistic.length.fit$coefficients[2])"
      ],
      "metadata": {
        "colab": {
          "base_uri": "https://localhost:8080/",
          "height": 34
        },
        "id": "ejQQHsnyIQHx",
        "outputId": "a6504f55-5716-4acb-a3ef-41a3e648b255"
      },
      "execution_count": 72,
      "outputs": [
        {
          "output_type": "display_data",
          "data": {
            "text/html": [
              "<strong>length.mm:</strong> 1.79961682333703"
            ],
            "text/markdown": "**length.mm:** 1.79961682333703",
            "text/latex": "\\textbf{length.mm:} 1.79961682333703",
            "text/plain": [
              "length.mm \n",
              " 1.799617 "
            ]
          },
          "metadata": {}
        }
      ]
    },
    {
      "cell_type": "code",
      "source": [
        "exp(confint(logistic.length.fit))"
      ],
      "metadata": {
        "colab": {
          "base_uri": "https://localhost:8080/",
          "height": 164
        },
        "id": "DMZzJGqbIb6h",
        "outputId": "cf2d829e-02c6-4ba1-d205-ebce2cebf8c0"
      },
      "execution_count": 73,
      "outputs": [
        {
          "output_type": "stream",
          "name": "stderr",
          "text": [
            "Waiting for profiling to be done...\n",
            "\n"
          ]
        },
        {
          "output_type": "display_data",
          "data": {
            "text/html": [
              "<table class=\"dataframe\">\n",
              "<caption>A matrix: 2 × 2 of type dbl</caption>\n",
              "<thead>\n",
              "\t<tr><th></th><th scope=col>2.5 %</th><th scope=col>97.5 %</th></tr>\n",
              "</thead>\n",
              "<tbody>\n",
              "\t<tr><th scope=row>(Intercept)</th><td>2.032839e-05</td><td>0.004772121</td></tr>\n",
              "\t<tr><th scope=row>length.mm</th><td>1.142249e+00</td><td>1.306807434</td></tr>\n",
              "</tbody>\n",
              "</table>\n"
            ],
            "text/markdown": "\nA matrix: 2 × 2 of type dbl\n\n| <!--/--> | 2.5 % | 97.5 % |\n|---|---|---|\n| (Intercept) | 2.032839e-05 | 0.004772121 |\n| length.mm | 1.142249e+00 | 1.306807434 |\n\n",
            "text/latex": "A matrix: 2 × 2 of type dbl\n\\begin{tabular}{r|ll}\n  & 2.5 \\% & 97.5 \\%\\\\\n\\hline\n\t(Intercept) & 2.032839e-05 & 0.004772121\\\\\n\tlength.mm & 1.142249e+00 & 1.306807434\\\\\n\\end{tabular}\n",
            "text/plain": [
              "            2.5 %        97.5 %     \n",
              "(Intercept) 2.032839e-05 0.004772121\n",
              "length.mm   1.142249e+00 1.306807434"
            ]
          },
          "metadata": {}
        }
      ]
    },
    {
      "cell_type": "markdown",
      "source": [
        "Interpretation:\n",
        "\n",
        "***The odds of survival are 1.2 times greater for every 1-mm increase in lobster length, a statisticailly significant increase (p-value <.001; 95% CI: 1.1, 1.3)***"
      ],
      "metadata": {
        "id": "OUjsTYKAIeFR"
      }
    },
    {
      "cell_type": "markdown",
      "source": [
        "Question:\n",
        "\n",
        "* This interpretation is for every 1-mm increase in lobster length, but the length brackets are 3mm.  What is the modeled odds ratio comparing lobsters that differ by 3mm in length?"
      ],
      "metadata": {
        "id": "YXpz7hsQIpzC"
      }
    },
    {
      "cell_type": "markdown",
      "source": [
        "We can determine whether this is statistically significant, once again, by way of `emmeans`:"
      ],
      "metadata": {
        "id": "QskdttltI_Ru"
      }
    },
    {
      "cell_type": "code",
      "source": [
        "install.packages('emmeans')\n",
        "library(emmeans)"
      ],
      "metadata": {
        "colab": {
          "base_uri": "https://localhost:8080/"
        },
        "id": "hkFgr32SI5NS",
        "outputId": "f578a7bd-91ec-4cee-a1c4-1be777c95548"
      },
      "execution_count": 74,
      "outputs": [
        {
          "output_type": "stream",
          "name": "stderr",
          "text": [
            "Installing package into ‘/usr/local/lib/R/site-library’\n",
            "(as ‘lib’ is unspecified)\n",
            "\n"
          ]
        }
      ]
    },
    {
      "cell_type": "markdown",
      "source": [
        "Setting up an `emmeans` object, picking two lengths 3 mm apart (ultimately we will contrast these, and the actual lengths do not matter as long as they are 3 mm apart):"
      ],
      "metadata": {
        "id": "UkMmQCsJJhvn"
      }
    },
    {
      "cell_type": "code",
      "source": [
        "emobject.logit <- emmeans(logistic.length.fit, specs = ~length.mm, at  =list(length.mm=c(30, 33)))\n",
        "emobject.logit"
      ],
      "metadata": {
        "colab": {
          "base_uri": "https://localhost:8080/",
          "height": 121
        },
        "id": "rhj2ovcZI-Wa",
        "outputId": "b0154526-32da-4108-a194-f03b64fdf4a5"
      },
      "execution_count": 75,
      "outputs": [
        {
          "output_type": "display_data",
          "data": {
            "text/plain": [
              " length.mm emmean    SE  df asymp.LCL asymp.UCL\n",
              "        30  -2.02 0.394 Inf     -2.79     -1.25\n",
              "        33  -1.43 0.308 Inf     -2.04     -0.83\n",
              "\n",
              "Results are given on the logit (not the response) scale. \n",
              "Confidence level used: 0.95 "
            ]
          },
          "metadata": {}
        }
      ]
    },
    {
      "cell_type": "markdown",
      "source": [
        "* Verify these estimates given the model summary output."
      ],
      "metadata": {
        "id": "z6U70W05fgHY"
      }
    },
    {
      "cell_type": "code",
      "source": [
        "contrast(emobject.logit, method ='pairwise')"
      ],
      "metadata": {
        "colab": {
          "base_uri": "https://localhost:8080/",
          "height": 86
        },
        "id": "LD6qgz-HJzJF",
        "outputId": "553a1098-2611-42de-d8da-4d65c0eecfdd"
      },
      "execution_count": 76,
      "outputs": [
        {
          "output_type": "display_data",
          "data": {
            "text/plain": [
              " contrast                  estimate    SE  df z.ratio p.value\n",
              " length.mm30 - length.mm33   -0.588 0.102 Inf  -5.735  <.0001\n",
              "\n",
              "Results are given on the log odds ratio (not the response) scale. "
            ]
          },
          "metadata": {}
        }
      ]
    },
    {
      "cell_type": "markdown",
      "source": [
        "By default, the output is on the logit scale, and the contrast is the difference in log-odds.  We can return the output on the odds ratio scale with `type = 'response'`:"
      ],
      "metadata": {
        "id": "GGmXecLFJows"
      }
    },
    {
      "cell_type": "code",
      "source": [
        "contrast(emobject.logit, method ='pairwise', type = 'response')"
      ],
      "metadata": {
        "colab": {
          "base_uri": "https://localhost:8080/",
          "height": 86
        },
        "id": "JYQlRNG-JYI6",
        "outputId": "791615cc-ec56-4edb-a404-aba908ce865f"
      },
      "execution_count": 77,
      "outputs": [
        {
          "output_type": "display_data",
          "data": {
            "text/plain": [
              " contrast                  odds.ratio     SE  df null z.ratio p.value\n",
              " length.mm30 / length.mm33      0.556 0.0569 Inf    1  -5.735  <.0001\n",
              "\n",
              "Tests are performed on the log odds ratio scale "
            ]
          },
          "metadata": {}
        }
      ]
    },
    {
      "cell_type": "markdown",
      "source": [
        "Obtaining the 95% CI:"
      ],
      "metadata": {
        "id": "r3q8LzTIKNQe"
      }
    },
    {
      "cell_type": "code",
      "source": [
        "confint(contrast(emobject.logit, method ='pairwise', type = 'response'))"
      ],
      "metadata": {
        "colab": {
          "base_uri": "https://localhost:8080/",
          "height": 129
        },
        "id": "uDUeD2RxKRQ1",
        "outputId": "8dbc42a8-12c8-45c0-bc1b-52e7724c8e8f"
      },
      "execution_count": 78,
      "outputs": [
        {
          "output_type": "display_data",
          "data": {
            "text/html": [
              "<table class=\"dataframe\">\n",
              "<caption>A summary_emm: 1 × 6</caption>\n",
              "<thead>\n",
              "\t<tr><th></th><th scope=col>contrast</th><th scope=col>odds.ratio</th><th scope=col>SE</th><th scope=col>df</th><th scope=col>asymp.LCL</th><th scope=col>asymp.UCL</th></tr>\n",
              "\t<tr><th></th><th scope=col>&lt;fct&gt;</th><th scope=col>&lt;dbl&gt;</th><th scope=col>&lt;dbl&gt;</th><th scope=col>&lt;dbl&gt;</th><th scope=col>&lt;dbl&gt;</th><th scope=col>&lt;dbl&gt;</th></tr>\n",
              "</thead>\n",
              "<tbody>\n",
              "\t<tr><th scope=row>1</th><td>length.mm30 / length.mm33</td><td>0.5556738</td><td>0.05693497</td><td>Inf</td><td>0.4545743</td><td>0.6792584</td></tr>\n",
              "</tbody>\n",
              "</table>\n"
            ],
            "text/markdown": "\nA summary_emm: 1 × 6\n\n| <!--/--> | contrast &lt;fct&gt; | odds.ratio &lt;dbl&gt; | SE &lt;dbl&gt; | df &lt;dbl&gt; | asymp.LCL &lt;dbl&gt; | asymp.UCL &lt;dbl&gt; |\n|---|---|---|---|---|---|---|\n| 1 | length.mm30 / length.mm33 | 0.5556738 | 0.05693497 | Inf | 0.4545743 | 0.6792584 |\n\n",
            "text/latex": "A summary\\_emm: 1 × 6\n\\begin{tabular}{r|llllll}\n  & contrast & odds.ratio & SE & df & asymp.LCL & asymp.UCL\\\\\n  & <fct> & <dbl> & <dbl> & <dbl> & <dbl> & <dbl>\\\\\n\\hline\n\t1 & length.mm30 / length.mm33 & 0.5556738 & 0.05693497 & Inf & 0.4545743 & 0.6792584\\\\\n\\end{tabular}\n",
            "text/plain": [
              "  contrast                  odds.ratio SE         df  asymp.LCL asymp.UCL\n",
              "1 length.mm30 / length.mm33 0.5556738  0.05693497 Inf 0.4545743 0.6792584"
            ]
          },
          "metadata": {}
        }
      ]
    },
    {
      "cell_type": "markdown",
      "source": [
        "`contrast()` has a nifty little `revpairwise` method if you want the contrasts the other way:"
      ],
      "metadata": {
        "id": "FfdRZkhlKYiO"
      }
    },
    {
      "cell_type": "code",
      "source": [
        "contrast(emobject.logit, method ='revpairwise', type = 'response')"
      ],
      "metadata": {
        "colab": {
          "base_uri": "https://localhost:8080/",
          "height": 86
        },
        "id": "nsYTLDGXKc6l",
        "outputId": "9b3ebc8d-a756-47a5-c5f5-7c862a697f66"
      },
      "execution_count": 79,
      "outputs": [
        {
          "output_type": "display_data",
          "data": {
            "text/plain": [
              " contrast                  odds.ratio    SE  df null z.ratio p.value\n",
              " length.mm33 / length.mm30        1.8 0.184 Inf    1   5.735  <.0001\n",
              "\n",
              "Tests are performed on the log odds ratio scale "
            ]
          },
          "metadata": {}
        }
      ]
    },
    {
      "cell_type": "code",
      "source": [
        "confint(contrast(emobject.logit, method ='revpairwise', type = 'response'))"
      ],
      "metadata": {
        "colab": {
          "base_uri": "https://localhost:8080/",
          "height": 129
        },
        "id": "cCICEvihKfSu",
        "outputId": "9b59f958-193f-42fd-815f-084d005d0648"
      },
      "execution_count": 80,
      "outputs": [
        {
          "output_type": "display_data",
          "data": {
            "text/html": [
              "<table class=\"dataframe\">\n",
              "<caption>A summary_emm: 1 × 6</caption>\n",
              "<thead>\n",
              "\t<tr><th></th><th scope=col>contrast</th><th scope=col>odds.ratio</th><th scope=col>SE</th><th scope=col>df</th><th scope=col>asymp.LCL</th><th scope=col>asymp.UCL</th></tr>\n",
              "\t<tr><th></th><th scope=col>&lt;fct&gt;</th><th scope=col>&lt;dbl&gt;</th><th scope=col>&lt;dbl&gt;</th><th scope=col>&lt;dbl&gt;</th><th scope=col>&lt;dbl&gt;</th><th scope=col>&lt;dbl&gt;</th></tr>\n",
              "</thead>\n",
              "<tbody>\n",
              "\t<tr><th scope=row>1</th><td>length.mm33 / length.mm30</td><td>1.799617</td><td>0.1843908</td><td>Inf</td><td>1.472194</td><td>2.19986</td></tr>\n",
              "</tbody>\n",
              "</table>\n"
            ],
            "text/markdown": "\nA summary_emm: 1 × 6\n\n| <!--/--> | contrast &lt;fct&gt; | odds.ratio &lt;dbl&gt; | SE &lt;dbl&gt; | df &lt;dbl&gt; | asymp.LCL &lt;dbl&gt; | asymp.UCL &lt;dbl&gt; |\n|---|---|---|---|---|---|---|\n| 1 | length.mm33 / length.mm30 | 1.799617 | 0.1843908 | Inf | 1.472194 | 2.19986 |\n\n",
            "text/latex": "A summary\\_emm: 1 × 6\n\\begin{tabular}{r|llllll}\n  & contrast & odds.ratio & SE & df & asymp.LCL & asymp.UCL\\\\\n  & <fct> & <dbl> & <dbl> & <dbl> & <dbl> & <dbl>\\\\\n\\hline\n\t1 & length.mm33 / length.mm30 & 1.799617 & 0.1843908 & Inf & 1.472194 & 2.19986\\\\\n\\end{tabular}\n",
            "text/plain": [
              "  contrast                  odds.ratio SE        df  asymp.LCL asymp.UCL\n",
              "1 length.mm33 / length.mm30 1.799617   0.1843908 Inf 1.472194  2.19986  "
            ]
          },
          "metadata": {}
        }
      ]
    },
    {
      "cell_type": "markdown",
      "source": [
        "* Verify that these contrasts are the same if we compare a 35mm lobster to a 38mm lobster.  Then write a formal summary of the contrast between lobsters that differ by 3mm."
      ],
      "metadata": {
        "id": "NyoycEcLKlR1"
      }
    },
    {
      "cell_type": "markdown",
      "source": [
        "# **Conclusion**\n",
        "**A 3-mm increase in length is associated with a 1.8 times higher odss of survival, a statistically significant increase (p-value < 0.0001, 95% CI: 1.47, 2.20 does not overlap 1).**"
      ],
      "metadata": {
        "id": "9eauElyG5dsI"
      }
    },
    {
      "cell_type": "code",
      "source": [],
      "metadata": {
        "id": "p9HXT-ca6Ejd"
      },
      "execution_count": null,
      "outputs": []
    }
  ]
}