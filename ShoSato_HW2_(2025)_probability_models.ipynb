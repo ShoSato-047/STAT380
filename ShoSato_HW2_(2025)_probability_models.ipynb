{
  "nbformat": 4,
  "nbformat_minor": 0,
  "metadata": {
    "colab": {
      "provenance": [],
      "include_colab_link": true
    },
    "kernelspec": {
      "name": "ir",
      "display_name": "R"
    },
    "language_info": {
      "name": "R"
    }
  },
  "cells": [
    {
      "cell_type": "markdown",
      "metadata": {
        "id": "view-in-github",
        "colab_type": "text"
      },
      "source": [
        "<a href=\"https://colab.research.google.com/github/ShoSato-047/STAT380/blob/main/ShoSato_HW2_(2025)_probability_models.ipynb\" target=\"_parent\"><img src=\"https://colab.research.google.com/assets/colab-badge.svg\" alt=\"Open In Colab\"/></a>"
      ]
    },
    {
      "cell_type": "markdown",
      "source": [
        "# Instructions\n",
        "\n",
        "* ***Bold and italicize the font of all your text responses.***\n",
        "* Make sure to submit a *viewable* link (change link share permissions to \"Anyone with link can view\""
      ],
      "metadata": {
        "id": "P1FU6P73L3ub"
      }
    },
    {
      "cell_type": "markdown",
      "source": [
        "# Q1 (5 points)\n",
        "\n",
        "A particular concentration of a chemical found in polluted water has been found to be lethal to 20% of the fish that are exposed to the concentration for 24 hours.  Twenty fish are placed in a tank containing this concentration of chemical.  Define $Y$ to be the number of fish that survive."
      ],
      "metadata": {
        "id": "YTGygTBE76Hf"
      }
    },
    {
      "cell_type": "markdown",
      "source": [
        "## A)\n",
        "\n",
        "What probability model should we use to define probabilities for $Y$?  State the distribution of $Y$ using $Y\\sim$ notation, and justify your rationale for this choice."
      ],
      "metadata": {
        "id": "chlRDVdP8aWB"
      }
    },
    {
      "cell_type": "markdown",
      "source": [
        "# **A - Answer**\n",
        "***Binomial model should be used for this problem. Because . . .***\n",
        "  - ***Each trial has one of two possible outcomes: \"survive\" or \"die\".***\n",
        "  - ***The probability of \"survive\" on each trial is the same (80%).***\n",
        "  - ***The survival of one fish is independent of the others.***\n",
        "\n",
        "<br>\n",
        "\n",
        "***Y ~BIN(n * p) = BIN(n=20 * p=0.80)***\n",
        "  <br>\n",
        "  Where . . .\n",
        "\n",
        "  - ***n = 20 fish***\n",
        "  - ***p = 0.80 (80%)***\n",
        "\n"
      ],
      "metadata": {
        "id": "PBD0ea9vVfTR"
      }
    },
    {
      "cell_type": "markdown",
      "source": [
        "## B)\n",
        "\n",
        "What is the probability that exactly 15 fish survive?  Answer this in three ways:"
      ],
      "metadata": {
        "id": "Mpi9imdW-znS"
      }
    },
    {
      "cell_type": "markdown",
      "source": [
        "i. Via a simulation study  \n",
        "ii. Via exact calculation (without using any `d---()` functions in R)  \n",
        "iii. Using the appropriate `d---()` function in R"
      ],
      "metadata": {
        "id": "Kaig2DZT_HeL"
      }
    },
    {
      "cell_type": "code",
      "source": [
        "# How many of them are exactly 15?\n",
        "binomial_sims <- rbinom(10000, size=20, prob = 0.80)"
      ],
      "metadata": {
        "id": "vdGE3pa9dj_A"
      },
      "execution_count": 1,
      "outputs": []
    },
    {
      "cell_type": "code",
      "source": [
        "binomial_sims == 15"
      ],
      "metadata": {
        "colab": {
          "base_uri": "https://localhost:8080/",
          "height": 295
        },
        "id": "t2rwYxORd7rD",
        "outputId": "eb49d953-43cf-41ad-d9a8-df76d571bfac"
      },
      "execution_count": 2,
      "outputs": [
        {
          "output_type": "display_data",
          "data": {
            "text/html": [
              "<style>\n",
              ".list-inline {list-style: none; margin:0; padding: 0}\n",
              ".list-inline>li {display: inline-block}\n",
              ".list-inline>li:not(:last-child)::after {content: \"\\00b7\"; padding: 0 .5ex}\n",
              "</style>\n",
              "<ol class=list-inline><li>FALSE</li><li>FALSE</li><li>FALSE</li><li>FALSE</li><li>FALSE</li><li>FALSE</li><li>FALSE</li><li>FALSE</li><li>FALSE</li><li>FALSE</li><li>FALSE</li><li>FALSE</li><li>FALSE</li><li>FALSE</li><li>TRUE</li><li>FALSE</li><li>FALSE</li><li>TRUE</li><li>FALSE</li><li>FALSE</li><li>FALSE</li><li>FALSE</li><li>TRUE</li><li>FALSE</li><li>FALSE</li><li>FALSE</li><li>FALSE</li><li>FALSE</li><li>FALSE</li><li>FALSE</li><li>FALSE</li><li>FALSE</li><li>FALSE</li><li>FALSE</li><li>FALSE</li><li>FALSE</li><li>FALSE</li><li>FALSE</li><li>FALSE</li><li>FALSE</li><li>TRUE</li><li>FALSE</li><li>FALSE</li><li>FALSE</li><li>FALSE</li><li>FALSE</li><li>FALSE</li><li>FALSE</li><li>TRUE</li><li>FALSE</li><li>FALSE</li><li>FALSE</li><li>TRUE</li><li>FALSE</li><li>FALSE</li><li>FALSE</li><li>FALSE</li><li>FALSE</li><li>FALSE</li><li>FALSE</li><li>FALSE</li><li>FALSE</li><li>FALSE</li><li>FALSE</li><li>FALSE</li><li>TRUE</li><li>FALSE</li><li>FALSE</li><li>FALSE</li><li>FALSE</li><li>FALSE</li><li>FALSE</li><li>FALSE</li><li>TRUE</li><li>FALSE</li><li>FALSE</li><li>FALSE</li><li>FALSE</li><li>FALSE</li><li>FALSE</li><li>FALSE</li><li>FALSE</li><li>FALSE</li><li>TRUE</li><li>FALSE</li><li>FALSE</li><li>FALSE</li><li>TRUE</li><li>FALSE</li><li>FALSE</li><li>FALSE</li><li>FALSE</li><li>FALSE</li><li>TRUE</li><li>TRUE</li><li>TRUE</li><li>FALSE</li><li>FALSE</li><li>FALSE</li><li>TRUE</li><li>FALSE</li><li>FALSE</li><li>FALSE</li><li>TRUE</li><li>FALSE</li><li>TRUE</li><li>FALSE</li><li>FALSE</li><li>TRUE</li><li>FALSE</li><li>FALSE</li><li>FALSE</li><li>FALSE</li><li>TRUE</li><li>FALSE</li><li>FALSE</li><li>TRUE</li><li>FALSE</li><li>FALSE</li><li>FALSE</li><li>FALSE</li><li>FALSE</li><li>FALSE</li><li>TRUE</li><li>FALSE</li><li>FALSE</li><li>TRUE</li><li>FALSE</li><li>FALSE</li><li>FALSE</li><li>TRUE</li><li>FALSE</li><li>FALSE</li><li>FALSE</li><li>TRUE</li><li>TRUE</li><li>TRUE</li><li>TRUE</li><li>FALSE</li><li>FALSE</li><li>FALSE</li><li>FALSE</li><li>FALSE</li><li>TRUE</li><li>TRUE</li><li>FALSE</li><li>FALSE</li><li>FALSE</li><li>FALSE</li><li>FALSE</li><li>TRUE</li><li>FALSE</li><li>TRUE</li><li>FALSE</li><li>FALSE</li><li>FALSE</li><li>FALSE</li><li>FALSE</li><li>FALSE</li><li>TRUE</li><li>TRUE</li><li>FALSE</li><li>FALSE</li><li>TRUE</li><li>FALSE</li><li>FALSE</li><li>FALSE</li><li>TRUE</li><li>FALSE</li><li>FALSE</li><li>FALSE</li><li>FALSE</li><li>FALSE</li><li>FALSE</li><li>TRUE</li><li>FALSE</li><li>FALSE</li><li>FALSE</li><li>FALSE</li><li>FALSE</li><li>FALSE</li><li>FALSE</li><li>FALSE</li><li>FALSE</li><li>FALSE</li><li>FALSE</li><li>FALSE</li><li>FALSE</li><li>FALSE</li><li>TRUE</li><li>FALSE</li><li>FALSE</li><li>FALSE</li><li>FALSE</li><li>FALSE</li><li>FALSE</li><li>FALSE</li><li>FALSE</li><li>TRUE</li><li>FALSE</li><li>⋯</li><li>TRUE</li><li>FALSE</li><li>FALSE</li><li>FALSE</li><li>FALSE</li><li>FALSE</li><li>FALSE</li><li>FALSE</li><li>FALSE</li><li>FALSE</li><li>TRUE</li><li>FALSE</li><li>FALSE</li><li>FALSE</li><li>FALSE</li><li>FALSE</li><li>FALSE</li><li>FALSE</li><li>FALSE</li><li>FALSE</li><li>FALSE</li><li>FALSE</li><li>FALSE</li><li>FALSE</li><li>FALSE</li><li>FALSE</li><li>FALSE</li><li>TRUE</li><li>FALSE</li><li>FALSE</li><li>TRUE</li><li>FALSE</li><li>FALSE</li><li>FALSE</li><li>FALSE</li><li>TRUE</li><li>FALSE</li><li>FALSE</li><li>FALSE</li><li>FALSE</li><li>FALSE</li><li>FALSE</li><li>FALSE</li><li>FALSE</li><li>FALSE</li><li>FALSE</li><li>TRUE</li><li>FALSE</li><li>FALSE</li><li>TRUE</li><li>FALSE</li><li>FALSE</li><li>FALSE</li><li>TRUE</li><li>FALSE</li><li>FALSE</li><li>FALSE</li><li>FALSE</li><li>TRUE</li><li>FALSE</li><li>FALSE</li><li>FALSE</li><li>TRUE</li><li>FALSE</li><li>FALSE</li><li>FALSE</li><li>FALSE</li><li>FALSE</li><li>FALSE</li><li>FALSE</li><li>TRUE</li><li>FALSE</li><li>FALSE</li><li>TRUE</li><li>FALSE</li><li>TRUE</li><li>FALSE</li><li>FALSE</li><li>FALSE</li><li>FALSE</li><li>FALSE</li><li>FALSE</li><li>FALSE</li><li>FALSE</li><li>FALSE</li><li>FALSE</li><li>TRUE</li><li>FALSE</li><li>FALSE</li><li>FALSE</li><li>FALSE</li><li>FALSE</li><li>FALSE</li><li>FALSE</li><li>FALSE</li><li>FALSE</li><li>TRUE</li><li>FALSE</li><li>FALSE</li><li>FALSE</li><li>FALSE</li><li>FALSE</li><li>FALSE</li><li>FALSE</li><li>FALSE</li><li>FALSE</li><li>FALSE</li><li>FALSE</li><li>FALSE</li><li>FALSE</li><li>FALSE</li><li>TRUE</li><li>TRUE</li><li>FALSE</li><li>FALSE</li><li>FALSE</li><li>FALSE</li><li>FALSE</li><li>FALSE</li><li>FALSE</li><li>FALSE</li><li>FALSE</li><li>FALSE</li><li>FALSE</li><li>FALSE</li><li>FALSE</li><li>FALSE</li><li>FALSE</li><li>FALSE</li><li>TRUE</li><li>FALSE</li><li>FALSE</li><li>FALSE</li><li>FALSE</li><li>FALSE</li><li>FALSE</li><li>FALSE</li><li>TRUE</li><li>FALSE</li><li>FALSE</li><li>FALSE</li><li>FALSE</li><li>FALSE</li><li>FALSE</li><li>FALSE</li><li>FALSE</li><li>FALSE</li><li>FALSE</li><li>FALSE</li><li>FALSE</li><li>FALSE</li><li>FALSE</li><li>FALSE</li><li>FALSE</li><li>FALSE</li><li>FALSE</li><li>FALSE</li><li>FALSE</li><li>FALSE</li><li>FALSE</li><li>FALSE</li><li>FALSE</li><li>FALSE</li><li>TRUE</li><li>FALSE</li><li>FALSE</li><li>FALSE</li><li>FALSE</li><li>TRUE</li><li>FALSE</li><li>FALSE</li><li>TRUE</li><li>FALSE</li><li>FALSE</li><li>FALSE</li><li>FALSE</li><li>TRUE</li><li>FALSE</li><li>FALSE</li><li>FALSE</li><li>FALSE</li><li>FALSE</li><li>FALSE</li><li>FALSE</li><li>FALSE</li><li>FALSE</li><li>FALSE</li><li>FALSE</li><li>FALSE</li><li>FALSE</li><li>TRUE</li><li>FALSE</li><li>FALSE</li><li>TRUE</li><li>TRUE</li><li>TRUE</li><li>FALSE</li><li>FALSE</li><li>FALSE</li><li>FALSE</li></ol>\n"
            ],
            "text/markdown": "1. FALSE\n2. FALSE\n3. FALSE\n4. FALSE\n5. FALSE\n6. FALSE\n7. FALSE\n8. FALSE\n9. FALSE\n10. FALSE\n11. FALSE\n12. FALSE\n13. FALSE\n14. FALSE\n15. TRUE\n16. FALSE\n17. FALSE\n18. TRUE\n19. FALSE\n20. FALSE\n21. FALSE\n22. FALSE\n23. TRUE\n24. FALSE\n25. FALSE\n26. FALSE\n27. FALSE\n28. FALSE\n29. FALSE\n30. FALSE\n31. FALSE\n32. FALSE\n33. FALSE\n34. FALSE\n35. FALSE\n36. FALSE\n37. FALSE\n38. FALSE\n39. FALSE\n40. FALSE\n41. TRUE\n42. FALSE\n43. FALSE\n44. FALSE\n45. FALSE\n46. FALSE\n47. FALSE\n48. FALSE\n49. TRUE\n50. FALSE\n51. FALSE\n52. FALSE\n53. TRUE\n54. FALSE\n55. FALSE\n56. FALSE\n57. FALSE\n58. FALSE\n59. FALSE\n60. FALSE\n61. FALSE\n62. FALSE\n63. FALSE\n64. FALSE\n65. FALSE\n66. TRUE\n67. FALSE\n68. FALSE\n69. FALSE\n70. FALSE\n71. FALSE\n72. FALSE\n73. FALSE\n74. TRUE\n75. FALSE\n76. FALSE\n77. FALSE\n78. FALSE\n79. FALSE\n80. FALSE\n81. FALSE\n82. FALSE\n83. FALSE\n84. TRUE\n85. FALSE\n86. FALSE\n87. FALSE\n88. TRUE\n89. FALSE\n90. FALSE\n91. FALSE\n92. FALSE\n93. FALSE\n94. TRUE\n95. TRUE\n96. TRUE\n97. FALSE\n98. FALSE\n99. FALSE\n100. TRUE\n101. FALSE\n102. FALSE\n103. FALSE\n104. TRUE\n105. FALSE\n106. TRUE\n107. FALSE\n108. FALSE\n109. TRUE\n110. FALSE\n111. FALSE\n112. FALSE\n113. FALSE\n114. TRUE\n115. FALSE\n116. FALSE\n117. TRUE\n118. FALSE\n119. FALSE\n120. FALSE\n121. FALSE\n122. FALSE\n123. FALSE\n124. TRUE\n125. FALSE\n126. FALSE\n127. TRUE\n128. FALSE\n129. FALSE\n130. FALSE\n131. TRUE\n132. FALSE\n133. FALSE\n134. FALSE\n135. TRUE\n136. TRUE\n137. TRUE\n138. TRUE\n139. FALSE\n140. FALSE\n141. FALSE\n142. FALSE\n143. FALSE\n144. TRUE\n145. TRUE\n146. FALSE\n147. FALSE\n148. FALSE\n149. FALSE\n150. FALSE\n151. TRUE\n152. FALSE\n153. TRUE\n154. FALSE\n155. FALSE\n156. FALSE\n157. FALSE\n158. FALSE\n159. FALSE\n160. TRUE\n161. TRUE\n162. FALSE\n163. FALSE\n164. TRUE\n165. FALSE\n166. FALSE\n167. FALSE\n168. TRUE\n169. FALSE\n170. FALSE\n171. FALSE\n172. FALSE\n173. FALSE\n174. FALSE\n175. TRUE\n176. FALSE\n177. FALSE\n178. FALSE\n179. FALSE\n180. FALSE\n181. FALSE\n182. FALSE\n183. FALSE\n184. FALSE\n185. FALSE\n186. FALSE\n187. FALSE\n188. FALSE\n189. FALSE\n190. TRUE\n191. FALSE\n192. FALSE\n193. FALSE\n194. FALSE\n195. FALSE\n196. FALSE\n197. FALSE\n198. FALSE\n199. TRUE\n200. FALSE\n201. ⋯\n202. TRUE\n203. FALSE\n204. FALSE\n205. FALSE\n206. FALSE\n207. FALSE\n208. FALSE\n209. FALSE\n210. FALSE\n211. FALSE\n212. TRUE\n213. FALSE\n214. FALSE\n215. FALSE\n216. FALSE\n217. FALSE\n218. FALSE\n219. FALSE\n220. FALSE\n221. FALSE\n222. FALSE\n223. FALSE\n224. FALSE\n225. FALSE\n226. FALSE\n227. FALSE\n228. FALSE\n229. TRUE\n230. FALSE\n231. FALSE\n232. TRUE\n233. FALSE\n234. FALSE\n235. FALSE\n236. FALSE\n237. TRUE\n238. FALSE\n239. FALSE\n240. FALSE\n241. FALSE\n242. FALSE\n243. FALSE\n244. FALSE\n245. FALSE\n246. FALSE\n247. FALSE\n248. TRUE\n249. FALSE\n250. FALSE\n251. TRUE\n252. FALSE\n253. FALSE\n254. FALSE\n255. TRUE\n256. FALSE\n257. FALSE\n258. FALSE\n259. FALSE\n260. TRUE\n261. FALSE\n262. FALSE\n263. FALSE\n264. TRUE\n265. FALSE\n266. FALSE\n267. FALSE\n268. FALSE\n269. FALSE\n270. FALSE\n271. FALSE\n272. TRUE\n273. FALSE\n274. FALSE\n275. TRUE\n276. FALSE\n277. TRUE\n278. FALSE\n279. FALSE\n280. FALSE\n281. FALSE\n282. FALSE\n283. FALSE\n284. FALSE\n285. FALSE\n286. FALSE\n287. FALSE\n288. TRUE\n289. FALSE\n290. FALSE\n291. FALSE\n292. FALSE\n293. FALSE\n294. FALSE\n295. FALSE\n296. FALSE\n297. FALSE\n298. TRUE\n299. FALSE\n300. FALSE\n301. FALSE\n302. FALSE\n303. FALSE\n304. FALSE\n305. FALSE\n306. FALSE\n307. FALSE\n308. FALSE\n309. FALSE\n310. FALSE\n311. FALSE\n312. FALSE\n313. TRUE\n314. TRUE\n315. FALSE\n316. FALSE\n317. FALSE\n318. FALSE\n319. FALSE\n320. FALSE\n321. FALSE\n322. FALSE\n323. FALSE\n324. FALSE\n325. FALSE\n326. FALSE\n327. FALSE\n328. FALSE\n329. FALSE\n330. FALSE\n331. TRUE\n332. FALSE\n333. FALSE\n334. FALSE\n335. FALSE\n336. FALSE\n337. FALSE\n338. FALSE\n339. TRUE\n340. FALSE\n341. FALSE\n342. FALSE\n343. FALSE\n344. FALSE\n345. FALSE\n346. FALSE\n347. FALSE\n348. FALSE\n349. FALSE\n350. FALSE\n351. FALSE\n352. FALSE\n353. FALSE\n354. FALSE\n355. FALSE\n356. FALSE\n357. FALSE\n358. FALSE\n359. FALSE\n360. FALSE\n361. FALSE\n362. FALSE\n363. FALSE\n364. FALSE\n365. TRUE\n366. FALSE\n367. FALSE\n368. FALSE\n369. FALSE\n370. TRUE\n371. FALSE\n372. FALSE\n373. TRUE\n374. FALSE\n375. FALSE\n376. FALSE\n377. FALSE\n378. TRUE\n379. FALSE\n380. FALSE\n381. FALSE\n382. FALSE\n383. FALSE\n384. FALSE\n385. FALSE\n386. FALSE\n387. FALSE\n388. FALSE\n389. FALSE\n390. FALSE\n391. FALSE\n392. TRUE\n393. FALSE\n394. FALSE\n395. TRUE\n396. TRUE\n397. TRUE\n398. FALSE\n399. FALSE\n400. FALSE\n401. FALSE\n\n\n",
            "text/latex": "\\begin{enumerate*}\n\\item FALSE\n\\item FALSE\n\\item FALSE\n\\item FALSE\n\\item FALSE\n\\item FALSE\n\\item FALSE\n\\item FALSE\n\\item FALSE\n\\item FALSE\n\\item FALSE\n\\item FALSE\n\\item FALSE\n\\item FALSE\n\\item TRUE\n\\item FALSE\n\\item FALSE\n\\item TRUE\n\\item FALSE\n\\item FALSE\n\\item FALSE\n\\item FALSE\n\\item TRUE\n\\item FALSE\n\\item FALSE\n\\item FALSE\n\\item FALSE\n\\item FALSE\n\\item FALSE\n\\item FALSE\n\\item FALSE\n\\item FALSE\n\\item FALSE\n\\item FALSE\n\\item FALSE\n\\item FALSE\n\\item FALSE\n\\item FALSE\n\\item FALSE\n\\item FALSE\n\\item TRUE\n\\item FALSE\n\\item FALSE\n\\item FALSE\n\\item FALSE\n\\item FALSE\n\\item FALSE\n\\item FALSE\n\\item TRUE\n\\item FALSE\n\\item FALSE\n\\item FALSE\n\\item TRUE\n\\item FALSE\n\\item FALSE\n\\item FALSE\n\\item FALSE\n\\item FALSE\n\\item FALSE\n\\item FALSE\n\\item FALSE\n\\item FALSE\n\\item FALSE\n\\item FALSE\n\\item FALSE\n\\item TRUE\n\\item FALSE\n\\item FALSE\n\\item FALSE\n\\item FALSE\n\\item FALSE\n\\item FALSE\n\\item FALSE\n\\item TRUE\n\\item FALSE\n\\item FALSE\n\\item FALSE\n\\item FALSE\n\\item FALSE\n\\item FALSE\n\\item FALSE\n\\item FALSE\n\\item FALSE\n\\item TRUE\n\\item FALSE\n\\item FALSE\n\\item FALSE\n\\item TRUE\n\\item FALSE\n\\item FALSE\n\\item FALSE\n\\item FALSE\n\\item FALSE\n\\item TRUE\n\\item TRUE\n\\item TRUE\n\\item FALSE\n\\item FALSE\n\\item FALSE\n\\item TRUE\n\\item FALSE\n\\item FALSE\n\\item FALSE\n\\item TRUE\n\\item FALSE\n\\item TRUE\n\\item FALSE\n\\item FALSE\n\\item TRUE\n\\item FALSE\n\\item FALSE\n\\item FALSE\n\\item FALSE\n\\item TRUE\n\\item FALSE\n\\item FALSE\n\\item TRUE\n\\item FALSE\n\\item FALSE\n\\item FALSE\n\\item FALSE\n\\item FALSE\n\\item FALSE\n\\item TRUE\n\\item FALSE\n\\item FALSE\n\\item TRUE\n\\item FALSE\n\\item FALSE\n\\item FALSE\n\\item TRUE\n\\item FALSE\n\\item FALSE\n\\item FALSE\n\\item TRUE\n\\item TRUE\n\\item TRUE\n\\item TRUE\n\\item FALSE\n\\item FALSE\n\\item FALSE\n\\item FALSE\n\\item FALSE\n\\item TRUE\n\\item TRUE\n\\item FALSE\n\\item FALSE\n\\item FALSE\n\\item FALSE\n\\item FALSE\n\\item TRUE\n\\item FALSE\n\\item TRUE\n\\item FALSE\n\\item FALSE\n\\item FALSE\n\\item FALSE\n\\item FALSE\n\\item FALSE\n\\item TRUE\n\\item TRUE\n\\item FALSE\n\\item FALSE\n\\item TRUE\n\\item FALSE\n\\item FALSE\n\\item FALSE\n\\item TRUE\n\\item FALSE\n\\item FALSE\n\\item FALSE\n\\item FALSE\n\\item FALSE\n\\item FALSE\n\\item TRUE\n\\item FALSE\n\\item FALSE\n\\item FALSE\n\\item FALSE\n\\item FALSE\n\\item FALSE\n\\item FALSE\n\\item FALSE\n\\item FALSE\n\\item FALSE\n\\item FALSE\n\\item FALSE\n\\item FALSE\n\\item FALSE\n\\item TRUE\n\\item FALSE\n\\item FALSE\n\\item FALSE\n\\item FALSE\n\\item FALSE\n\\item FALSE\n\\item FALSE\n\\item FALSE\n\\item TRUE\n\\item FALSE\n\\item ⋯\n\\item TRUE\n\\item FALSE\n\\item FALSE\n\\item FALSE\n\\item FALSE\n\\item FALSE\n\\item FALSE\n\\item FALSE\n\\item FALSE\n\\item FALSE\n\\item TRUE\n\\item FALSE\n\\item FALSE\n\\item FALSE\n\\item FALSE\n\\item FALSE\n\\item FALSE\n\\item FALSE\n\\item FALSE\n\\item FALSE\n\\item FALSE\n\\item FALSE\n\\item FALSE\n\\item FALSE\n\\item FALSE\n\\item FALSE\n\\item FALSE\n\\item TRUE\n\\item FALSE\n\\item FALSE\n\\item TRUE\n\\item FALSE\n\\item FALSE\n\\item FALSE\n\\item FALSE\n\\item TRUE\n\\item FALSE\n\\item FALSE\n\\item FALSE\n\\item FALSE\n\\item FALSE\n\\item FALSE\n\\item FALSE\n\\item FALSE\n\\item FALSE\n\\item FALSE\n\\item TRUE\n\\item FALSE\n\\item FALSE\n\\item TRUE\n\\item FALSE\n\\item FALSE\n\\item FALSE\n\\item TRUE\n\\item FALSE\n\\item FALSE\n\\item FALSE\n\\item FALSE\n\\item TRUE\n\\item FALSE\n\\item FALSE\n\\item FALSE\n\\item TRUE\n\\item FALSE\n\\item FALSE\n\\item FALSE\n\\item FALSE\n\\item FALSE\n\\item FALSE\n\\item FALSE\n\\item TRUE\n\\item FALSE\n\\item FALSE\n\\item TRUE\n\\item FALSE\n\\item TRUE\n\\item FALSE\n\\item FALSE\n\\item FALSE\n\\item FALSE\n\\item FALSE\n\\item FALSE\n\\item FALSE\n\\item FALSE\n\\item FALSE\n\\item FALSE\n\\item TRUE\n\\item FALSE\n\\item FALSE\n\\item FALSE\n\\item FALSE\n\\item FALSE\n\\item FALSE\n\\item FALSE\n\\item FALSE\n\\item FALSE\n\\item TRUE\n\\item FALSE\n\\item FALSE\n\\item FALSE\n\\item FALSE\n\\item FALSE\n\\item FALSE\n\\item FALSE\n\\item FALSE\n\\item FALSE\n\\item FALSE\n\\item FALSE\n\\item FALSE\n\\item FALSE\n\\item FALSE\n\\item TRUE\n\\item TRUE\n\\item FALSE\n\\item FALSE\n\\item FALSE\n\\item FALSE\n\\item FALSE\n\\item FALSE\n\\item FALSE\n\\item FALSE\n\\item FALSE\n\\item FALSE\n\\item FALSE\n\\item FALSE\n\\item FALSE\n\\item FALSE\n\\item FALSE\n\\item FALSE\n\\item TRUE\n\\item FALSE\n\\item FALSE\n\\item FALSE\n\\item FALSE\n\\item FALSE\n\\item FALSE\n\\item FALSE\n\\item TRUE\n\\item FALSE\n\\item FALSE\n\\item FALSE\n\\item FALSE\n\\item FALSE\n\\item FALSE\n\\item FALSE\n\\item FALSE\n\\item FALSE\n\\item FALSE\n\\item FALSE\n\\item FALSE\n\\item FALSE\n\\item FALSE\n\\item FALSE\n\\item FALSE\n\\item FALSE\n\\item FALSE\n\\item FALSE\n\\item FALSE\n\\item FALSE\n\\item FALSE\n\\item FALSE\n\\item FALSE\n\\item FALSE\n\\item TRUE\n\\item FALSE\n\\item FALSE\n\\item FALSE\n\\item FALSE\n\\item TRUE\n\\item FALSE\n\\item FALSE\n\\item TRUE\n\\item FALSE\n\\item FALSE\n\\item FALSE\n\\item FALSE\n\\item TRUE\n\\item FALSE\n\\item FALSE\n\\item FALSE\n\\item FALSE\n\\item FALSE\n\\item FALSE\n\\item FALSE\n\\item FALSE\n\\item FALSE\n\\item FALSE\n\\item FALSE\n\\item FALSE\n\\item FALSE\n\\item TRUE\n\\item FALSE\n\\item FALSE\n\\item TRUE\n\\item TRUE\n\\item TRUE\n\\item FALSE\n\\item FALSE\n\\item FALSE\n\\item FALSE\n\\end{enumerate*}\n",
            "text/plain": [
              "    [1] FALSE FALSE FALSE FALSE FALSE FALSE FALSE FALSE FALSE FALSE FALSE FALSE\n",
              "   [13] FALSE FALSE  TRUE FALSE FALSE  TRUE FALSE FALSE FALSE FALSE  TRUE FALSE\n",
              "   [25] FALSE FALSE FALSE FALSE FALSE FALSE FALSE FALSE FALSE FALSE FALSE FALSE\n",
              "   [37] FALSE FALSE FALSE FALSE  TRUE FALSE FALSE FALSE FALSE FALSE FALSE FALSE\n",
              "   [49]  TRUE FALSE FALSE FALSE  TRUE FALSE FALSE FALSE FALSE FALSE FALSE FALSE\n",
              "   [61] FALSE FALSE FALSE FALSE FALSE  TRUE FALSE FALSE FALSE FALSE FALSE FALSE\n",
              "   [73] FALSE  TRUE FALSE FALSE FALSE FALSE FALSE FALSE FALSE FALSE FALSE  TRUE\n",
              "   [85] FALSE FALSE FALSE  TRUE FALSE FALSE FALSE FALSE FALSE  TRUE  TRUE  TRUE\n",
              "   [97] FALSE FALSE FALSE  TRUE FALSE FALSE FALSE  TRUE FALSE  TRUE FALSE FALSE\n",
              "  [109]  TRUE FALSE FALSE FALSE FALSE  TRUE FALSE FALSE  TRUE FALSE FALSE FALSE\n",
              "  [121] FALSE FALSE FALSE  TRUE FALSE FALSE  TRUE FALSE FALSE FALSE  TRUE FALSE\n",
              "  [133] FALSE FALSE  TRUE  TRUE  TRUE  TRUE FALSE FALSE FALSE FALSE FALSE  TRUE\n",
              "  [145]  TRUE FALSE FALSE FALSE FALSE FALSE  TRUE FALSE  TRUE FALSE FALSE FALSE\n",
              "  [157] FALSE FALSE FALSE  TRUE  TRUE FALSE FALSE  TRUE FALSE FALSE FALSE  TRUE\n",
              "  [169] FALSE FALSE FALSE FALSE FALSE FALSE  TRUE FALSE FALSE FALSE FALSE FALSE\n",
              "  [181] FALSE FALSE FALSE FALSE FALSE FALSE FALSE FALSE FALSE  TRUE FALSE FALSE\n",
              "  [193] FALSE FALSE FALSE FALSE FALSE FALSE  TRUE FALSE FALSE FALSE FALSE FALSE\n",
              "  [205]  TRUE  TRUE FALSE FALSE  TRUE FALSE FALSE FALSE FALSE FALSE FALSE  TRUE\n",
              "  [217]  TRUE FALSE  TRUE FALSE FALSE FALSE FALSE FALSE FALSE  TRUE FALSE  TRUE\n",
              "  [229]  TRUE FALSE FALSE FALSE  TRUE FALSE FALSE FALSE  TRUE FALSE  TRUE FALSE\n",
              "  [241]  TRUE FALSE FALSE FALSE FALSE FALSE FALSE FALSE FALSE FALSE FALSE FALSE\n",
              "  [253] FALSE FALSE FALSE FALSE FALSE FALSE FALSE FALSE FALSE  TRUE FALSE  TRUE\n",
              "  [265] FALSE FALSE FALSE FALSE FALSE FALSE FALSE FALSE FALSE FALSE FALSE  TRUE\n",
              "  [277]  TRUE FALSE FALSE FALSE FALSE FALSE  TRUE FALSE FALSE FALSE FALSE FALSE\n",
              "  [289] FALSE FALSE FALSE FALSE FALSE  TRUE  TRUE  TRUE FALSE FALSE FALSE FALSE\n",
              "  [301] FALSE FALSE FALSE FALSE FALSE  TRUE FALSE FALSE FALSE FALSE FALSE FALSE\n",
              "  [313] FALSE FALSE FALSE FALSE FALSE  TRUE  TRUE FALSE FALSE FALSE FALSE  TRUE\n",
              "  [325] FALSE FALSE FALSE FALSE  TRUE FALSE FALSE FALSE FALSE FALSE  TRUE FALSE\n",
              "  [337] FALSE FALSE FALSE FALSE  TRUE FALSE FALSE FALSE FALSE FALSE FALSE  TRUE\n",
              "  [349] FALSE  TRUE FALSE FALSE FALSE FALSE FALSE  TRUE FALSE FALSE FALSE FALSE\n",
              "  [361] FALSE FALSE FALSE FALSE FALSE FALSE FALSE FALSE FALSE FALSE  TRUE FALSE\n",
              "  [373] FALSE FALSE FALSE  TRUE FALSE  TRUE  TRUE FALSE  TRUE FALSE FALSE  TRUE\n",
              "  [385] FALSE FALSE FALSE FALSE FALSE FALSE FALSE FALSE FALSE FALSE FALSE FALSE\n",
              "  [397] FALSE FALSE FALSE FALSE  TRUE FALSE  TRUE FALSE FALSE FALSE FALSE FALSE\n",
              "  [409] FALSE FALSE FALSE FALSE FALSE FALSE FALSE FALSE FALSE FALSE FALSE FALSE\n",
              "  [421]  TRUE  TRUE FALSE FALSE FALSE FALSE FALSE FALSE FALSE FALSE FALSE  TRUE\n",
              "  [433] FALSE FALSE FALSE FALSE  TRUE FALSE FALSE FALSE FALSE FALSE FALSE  TRUE\n",
              "  [445] FALSE FALSE FALSE FALSE FALSE FALSE FALSE FALSE  TRUE FALSE FALSE FALSE\n",
              "  [457] FALSE FALSE FALSE FALSE FALSE FALSE  TRUE FALSE FALSE FALSE  TRUE FALSE\n",
              "  [469]  TRUE  TRUE FALSE  TRUE FALSE  TRUE FALSE FALSE FALSE FALSE FALSE FALSE\n",
              "  [481] FALSE FALSE FALSE FALSE FALSE  TRUE FALSE FALSE  TRUE FALSE FALSE  TRUE\n",
              "  [493] FALSE FALSE FALSE  TRUE FALSE FALSE FALSE FALSE FALSE FALSE FALSE FALSE\n",
              "  [505] FALSE FALSE  TRUE FALSE  TRUE  TRUE  TRUE FALSE FALSE FALSE FALSE FALSE\n",
              "  [517]  TRUE FALSE FALSE FALSE FALSE FALSE FALSE FALSE  TRUE FALSE FALSE FALSE\n",
              "  [529] FALSE FALSE FALSE FALSE  TRUE FALSE FALSE FALSE FALSE FALSE FALSE FALSE\n",
              "  [541] FALSE FALSE FALSE FALSE FALSE FALSE FALSE FALSE FALSE FALSE FALSE FALSE\n",
              "  [553] FALSE FALSE FALSE FALSE FALSE FALSE FALSE  TRUE FALSE  TRUE FALSE FALSE\n",
              "  [565] FALSE  TRUE FALSE FALSE FALSE FALSE FALSE FALSE  TRUE  TRUE FALSE  TRUE\n",
              "  [577] FALSE FALSE FALSE FALSE  TRUE FALSE FALSE FALSE FALSE FALSE FALSE FALSE\n",
              "  [589] FALSE FALSE  TRUE FALSE FALSE FALSE  TRUE FALSE FALSE FALSE  TRUE FALSE\n",
              "  [601] FALSE FALSE FALSE  TRUE  TRUE  TRUE FALSE FALSE FALSE FALSE FALSE FALSE\n",
              "  [613] FALSE FALSE FALSE FALSE FALSE FALSE FALSE FALSE FALSE FALSE FALSE FALSE\n",
              "  [625]  TRUE FALSE  TRUE FALSE FALSE FALSE FALSE FALSE FALSE  TRUE FALSE FALSE\n",
              "  [637] FALSE FALSE FALSE FALSE FALSE FALSE  TRUE FALSE FALSE FALSE FALSE  TRUE\n",
              "  [649] FALSE FALSE FALSE FALSE FALSE FALSE FALSE FALSE  TRUE FALSE FALSE FALSE\n",
              "  [661] FALSE FALSE FALSE FALSE FALSE FALSE FALSE FALSE FALSE FALSE FALSE FALSE\n",
              "  [673] FALSE FALSE FALSE FALSE FALSE FALSE FALSE FALSE FALSE  TRUE FALSE FALSE\n",
              "  [685] FALSE FALSE FALSE FALSE FALSE FALSE FALSE FALSE  TRUE FALSE FALSE FALSE\n",
              "  [697]  TRUE FALSE FALSE FALSE FALSE FALSE FALSE FALSE  TRUE  TRUE FALSE  TRUE\n",
              "  [709] FALSE FALSE  TRUE FALSE FALSE FALSE FALSE FALSE  TRUE FALSE FALSE FALSE\n",
              "  [721] FALSE FALSE FALSE FALSE FALSE FALSE FALSE FALSE  TRUE FALSE FALSE FALSE\n",
              "  [733] FALSE FALSE FALSE FALSE FALSE FALSE  TRUE FALSE FALSE  TRUE FALSE  TRUE\n",
              "  [745]  TRUE FALSE FALSE FALSE FALSE FALSE FALSE FALSE FALSE FALSE FALSE FALSE\n",
              "  [757] FALSE FALSE FALSE  TRUE FALSE FALSE FALSE  TRUE FALSE FALSE FALSE FALSE\n",
              "  [769] FALSE FALSE FALSE FALSE  TRUE FALSE  TRUE FALSE FALSE FALSE  TRUE FALSE\n",
              "  [781] FALSE FALSE FALSE  TRUE FALSE  TRUE FALSE FALSE FALSE FALSE FALSE FALSE\n",
              "  [793] FALSE FALSE FALSE FALSE  TRUE  TRUE FALSE  TRUE FALSE FALSE FALSE FALSE\n",
              "  [805]  TRUE FALSE FALSE FALSE FALSE FALSE FALSE FALSE FALSE FALSE FALSE  TRUE\n",
              "  [817] FALSE FALSE FALSE FALSE FALSE FALSE FALSE  TRUE  TRUE FALSE FALSE FALSE\n",
              "  [829] FALSE FALSE FALSE FALSE FALSE  TRUE FALSE  TRUE FALSE FALSE FALSE FALSE\n",
              "  [841] FALSE FALSE FALSE FALSE  TRUE FALSE FALSE FALSE FALSE FALSE FALSE  TRUE\n",
              "  [853] FALSE FALSE FALSE FALSE FALSE FALSE FALSE FALSE FALSE FALSE  TRUE FALSE\n",
              "  [865] FALSE FALSE FALSE  TRUE FALSE FALSE FALSE FALSE  TRUE FALSE FALSE FALSE\n",
              "  [877] FALSE FALSE  TRUE FALSE FALSE FALSE  TRUE FALSE FALSE FALSE FALSE FALSE\n",
              "  [889] FALSE  TRUE FALSE FALSE FALSE FALSE FALSE FALSE FALSE FALSE FALSE FALSE\n",
              "  [901] FALSE FALSE FALSE FALSE FALSE FALSE FALSE FALSE FALSE FALSE  TRUE FALSE\n",
              "  [913]  TRUE FALSE  TRUE FALSE FALSE  TRUE FALSE FALSE FALSE  TRUE FALSE FALSE\n",
              "  [925] FALSE  TRUE FALSE FALSE FALSE FALSE FALSE FALSE FALSE FALSE FALSE FALSE\n",
              "  [937]  TRUE FALSE  TRUE FALSE FALSE FALSE FALSE FALSE FALSE FALSE FALSE FALSE\n",
              "  [949] FALSE FALSE FALSE FALSE  TRUE  TRUE FALSE FALSE  TRUE FALSE FALSE FALSE\n",
              "  [961] FALSE FALSE FALSE FALSE FALSE FALSE FALSE FALSE FALSE FALSE FALSE FALSE\n",
              "  [973]  TRUE FALSE  TRUE FALSE FALSE FALSE FALSE FALSE FALSE  TRUE FALSE FALSE\n",
              "  [985] FALSE FALSE FALSE FALSE  TRUE FALSE FALSE FALSE  TRUE FALSE FALSE FALSE\n",
              "  [997] FALSE FALSE FALSE FALSE FALSE FALSE  TRUE  TRUE  TRUE FALSE FALSE FALSE\n",
              " [1009] FALSE  TRUE FALSE FALSE FALSE FALSE FALSE FALSE FALSE FALSE FALSE  TRUE\n",
              " [1021]  TRUE FALSE FALSE FALSE FALSE FALSE FALSE FALSE FALSE FALSE FALSE  TRUE\n",
              " [1033] FALSE FALSE FALSE FALSE FALSE FALSE FALSE FALSE  TRUE  TRUE FALSE FALSE\n",
              " [1045] FALSE  TRUE FALSE FALSE FALSE FALSE FALSE FALSE  TRUE FALSE FALSE FALSE\n",
              " [1057]  TRUE FALSE FALSE FALSE FALSE FALSE FALSE  TRUE FALSE FALSE FALSE  TRUE\n",
              " [1069] FALSE  TRUE FALSE FALSE FALSE  TRUE  TRUE FALSE FALSE FALSE FALSE FALSE\n",
              " [1081] FALSE FALSE  TRUE FALSE  TRUE FALSE FALSE FALSE FALSE  TRUE  TRUE  TRUE\n",
              " [1093] FALSE FALSE FALSE FALSE FALSE FALSE FALSE FALSE  TRUE FALSE FALSE FALSE\n",
              " [1105] FALSE  TRUE FALSE FALSE FALSE FALSE FALSE FALSE FALSE FALSE FALSE FALSE\n",
              " [1117] FALSE FALSE  TRUE FALSE FALSE FALSE FALSE FALSE FALSE  TRUE FALSE FALSE\n",
              " [1129] FALSE FALSE FALSE FALSE FALSE  TRUE FALSE FALSE FALSE FALSE FALSE FALSE\n",
              " [1141] FALSE FALSE FALSE FALSE FALSE FALSE FALSE FALSE FALSE FALSE FALSE  TRUE\n",
              " [1153] FALSE FALSE FALSE  TRUE  TRUE FALSE FALSE FALSE FALSE FALSE FALSE FALSE\n",
              " [1165]  TRUE FALSE FALSE  TRUE  TRUE FALSE FALSE  TRUE FALSE FALSE  TRUE FALSE\n",
              " [1177] FALSE FALSE FALSE FALSE FALSE FALSE FALSE FALSE  TRUE FALSE FALSE  TRUE\n",
              " [1189] FALSE FALSE  TRUE  TRUE FALSE FALSE  TRUE  TRUE FALSE  TRUE FALSE FALSE\n",
              " [1201] FALSE FALSE FALSE FALSE FALSE  TRUE  TRUE FALSE  TRUE FALSE  TRUE FALSE\n",
              " [1213] FALSE FALSE FALSE FALSE FALSE FALSE FALSE FALSE FALSE FALSE FALSE FALSE\n",
              " [1225] FALSE FALSE  TRUE  TRUE FALSE FALSE FALSE FALSE  TRUE  TRUE FALSE FALSE\n",
              " [1237] FALSE FALSE FALSE FALSE FALSE FALSE FALSE FALSE FALSE FALSE FALSE  TRUE\n",
              " [1249] FALSE FALSE FALSE FALSE FALSE  TRUE FALSE FALSE FALSE FALSE FALSE FALSE\n",
              " [1261] FALSE FALSE FALSE FALSE FALSE FALSE FALSE  TRUE FALSE  TRUE  TRUE FALSE\n",
              " [1273] FALSE FALSE FALSE  TRUE FALSE FALSE FALSE FALSE FALSE FALSE  TRUE  TRUE\n",
              " [1285]  TRUE FALSE FALSE FALSE FALSE FALSE FALSE  TRUE FALSE FALSE FALSE FALSE\n",
              " [1297] FALSE FALSE FALSE FALSE FALSE  TRUE FALSE FALSE FALSE FALSE FALSE FALSE\n",
              " [1309] FALSE FALSE FALSE  TRUE FALSE FALSE FALSE FALSE FALSE FALSE FALSE FALSE\n",
              " [1321] FALSE FALSE  TRUE FALSE FALSE FALSE FALSE FALSE  TRUE FALSE FALSE  TRUE\n",
              " [1333]  TRUE FALSE FALSE FALSE  TRUE FALSE FALSE FALSE FALSE FALSE  TRUE FALSE\n",
              " [1345] FALSE FALSE FALSE FALSE FALSE  TRUE FALSE FALSE  TRUE FALSE FALSE FALSE\n",
              " [1357] FALSE  TRUE  TRUE FALSE FALSE FALSE FALSE FALSE FALSE FALSE FALSE  TRUE\n",
              " [1369] FALSE FALSE FALSE  TRUE FALSE FALSE FALSE FALSE FALSE FALSE  TRUE FALSE\n",
              " [1381]  TRUE FALSE FALSE FALSE FALSE FALSE FALSE FALSE FALSE FALSE FALSE FALSE\n",
              " [1393] FALSE FALSE FALSE FALSE FALSE FALSE FALSE FALSE FALSE  TRUE FALSE FALSE\n",
              " [1405]  TRUE  TRUE FALSE  TRUE  TRUE FALSE FALSE FALSE FALSE FALSE FALSE  TRUE\n",
              " [1417] FALSE FALSE FALSE FALSE FALSE  TRUE FALSE FALSE  TRUE FALSE  TRUE  TRUE\n",
              " [1429] FALSE FALSE FALSE FALSE FALSE FALSE FALSE FALSE  TRUE FALSE FALSE FALSE\n",
              " [1441] FALSE FALSE  TRUE FALSE FALSE FALSE FALSE  TRUE  TRUE FALSE FALSE FALSE\n",
              " [1453] FALSE  TRUE  TRUE FALSE FALSE FALSE  TRUE FALSE FALSE FALSE FALSE FALSE\n",
              " [1465] FALSE FALSE FALSE FALSE FALSE FALSE  TRUE  TRUE FALSE FALSE FALSE FALSE\n",
              " [1477] FALSE  TRUE FALSE FALSE FALSE  TRUE  TRUE FALSE FALSE FALSE FALSE FALSE\n",
              " [1489]  TRUE FALSE FALSE FALSE FALSE FALSE FALSE FALSE FALSE  TRUE FALSE FALSE\n",
              " [1501] FALSE  TRUE  TRUE  TRUE FALSE FALSE FALSE FALSE FALSE FALSE FALSE FALSE\n",
              " [1513] FALSE FALSE  TRUE FALSE FALSE FALSE FALSE FALSE FALSE FALSE  TRUE FALSE\n",
              " [1525]  TRUE FALSE FALSE FALSE FALSE FALSE FALSE FALSE FALSE FALSE FALSE FALSE\n",
              " [1537] FALSE FALSE  TRUE FALSE FALSE FALSE FALSE FALSE FALSE FALSE FALSE FALSE\n",
              " [1549] FALSE FALSE FALSE  TRUE FALSE FALSE FALSE FALSE FALSE FALSE  TRUE FALSE\n",
              " [1561] FALSE FALSE FALSE FALSE FALSE FALSE FALSE FALSE FALSE FALSE FALSE FALSE\n",
              " [1573] FALSE FALSE FALSE FALSE FALSE FALSE  TRUE  TRUE FALSE FALSE FALSE FALSE\n",
              " [1585] FALSE  TRUE FALSE FALSE FALSE FALSE FALSE FALSE FALSE  TRUE FALSE FALSE\n",
              " [1597] FALSE FALSE FALSE FALSE FALSE FALSE FALSE FALSE FALSE FALSE FALSE FALSE\n",
              " [1609] FALSE FALSE FALSE FALSE FALSE FALSE  TRUE FALSE FALSE FALSE  TRUE FALSE\n",
              " [1621]  TRUE FALSE FALSE FALSE FALSE FALSE FALSE FALSE FALSE  TRUE FALSE FALSE\n",
              " [1633]  TRUE FALSE FALSE FALSE  TRUE FALSE FALSE FALSE FALSE FALSE FALSE FALSE\n",
              " [1645] FALSE FALSE FALSE  TRUE FALSE FALSE FALSE FALSE FALSE FALSE FALSE FALSE\n",
              " [1657] FALSE  TRUE FALSE FALSE FALSE FALSE FALSE FALSE FALSE FALSE FALSE FALSE\n",
              " [1669] FALSE FALSE FALSE FALSE FALSE FALSE FALSE FALSE FALSE FALSE FALSE FALSE\n",
              " [1681] FALSE FALSE FALSE FALSE FALSE  TRUE FALSE  TRUE FALSE FALSE  TRUE FALSE\n",
              " [1693] FALSE FALSE FALSE FALSE FALSE FALSE FALSE FALSE FALSE FALSE FALSE FALSE\n",
              " [1705] FALSE FALSE  TRUE FALSE FALSE FALSE FALSE FALSE FALSE FALSE FALSE FALSE\n",
              " [1717] FALSE FALSE FALSE FALSE FALSE FALSE FALSE FALSE FALSE  TRUE FALSE FALSE\n",
              " [1729] FALSE FALSE FALSE FALSE FALSE  TRUE FALSE  TRUE FALSE FALSE FALSE FALSE\n",
              " [1741] FALSE FALSE FALSE FALSE FALSE FALSE FALSE FALSE FALSE FALSE FALSE FALSE\n",
              " [1753] FALSE FALSE FALSE FALSE FALSE FALSE FALSE  TRUE FALSE  TRUE FALSE FALSE\n",
              " [1765] FALSE FALSE FALSE FALSE FALSE FALSE  TRUE FALSE FALSE FALSE FALSE FALSE\n",
              " [1777]  TRUE  TRUE FALSE FALSE FALSE FALSE FALSE FALSE FALSE FALSE  TRUE FALSE\n",
              " [1789] FALSE FALSE FALSE FALSE FALSE FALSE FALSE  TRUE FALSE FALSE  TRUE FALSE\n",
              " [1801] FALSE FALSE  TRUE FALSE FALSE FALSE  TRUE FALSE FALSE FALSE FALSE FALSE\n",
              " [1813] FALSE FALSE  TRUE FALSE FALSE FALSE FALSE  TRUE FALSE  TRUE  TRUE FALSE\n",
              " [1825] FALSE  TRUE FALSE FALSE FALSE FALSE FALSE FALSE FALSE FALSE FALSE FALSE\n",
              " [1837] FALSE  TRUE FALSE FALSE FALSE FALSE FALSE FALSE FALSE FALSE FALSE FALSE\n",
              " [1849] FALSE FALSE FALSE FALSE  TRUE FALSE FALSE FALSE  TRUE FALSE FALSE FALSE\n",
              " [1861] FALSE FALSE  TRUE  TRUE  TRUE FALSE FALSE FALSE FALSE FALSE FALSE  TRUE\n",
              " [1873] FALSE FALSE FALSE FALSE FALSE FALSE FALSE FALSE FALSE FALSE FALSE FALSE\n",
              " [1885] FALSE  TRUE FALSE FALSE FALSE FALSE FALSE FALSE FALSE FALSE FALSE FALSE\n",
              " [1897] FALSE FALSE FALSE FALSE FALSE FALSE FALSE FALSE FALSE  TRUE  TRUE FALSE\n",
              " [1909] FALSE FALSE FALSE FALSE FALSE FALSE FALSE  TRUE FALSE FALSE FALSE FALSE\n",
              " [1921]  TRUE FALSE FALSE FALSE FALSE FALSE FALSE FALSE FALSE FALSE FALSE FALSE\n",
              " [1933] FALSE FALSE FALSE FALSE FALSE FALSE FALSE FALSE FALSE FALSE FALSE  TRUE\n",
              " [1945] FALSE FALSE FALSE FALSE FALSE FALSE FALSE FALSE FALSE  TRUE FALSE FALSE\n",
              " [1957] FALSE FALSE FALSE  TRUE FALSE FALSE FALSE FALSE  TRUE FALSE FALSE FALSE\n",
              " [1969] FALSE FALSE FALSE FALSE FALSE FALSE FALSE FALSE FALSE FALSE FALSE FALSE\n",
              " [1981]  TRUE  TRUE FALSE FALSE FALSE FALSE FALSE FALSE FALSE FALSE FALSE FALSE\n",
              " [1993] FALSE FALSE FALSE FALSE FALSE FALSE FALSE  TRUE FALSE FALSE FALSE FALSE\n",
              " [2005] FALSE FALSE FALSE FALSE FALSE FALSE FALSE FALSE FALSE FALSE FALSE FALSE\n",
              " [2017] FALSE FALSE FALSE  TRUE FALSE  TRUE FALSE  TRUE FALSE FALSE FALSE FALSE\n",
              " [2029] FALSE  TRUE FALSE FALSE FALSE FALSE FALSE FALSE FALSE  TRUE FALSE FALSE\n",
              " [2041] FALSE  TRUE  TRUE FALSE FALSE FALSE FALSE  TRUE FALSE  TRUE FALSE FALSE\n",
              " [2053] FALSE FALSE FALSE FALSE FALSE FALSE  TRUE  TRUE  TRUE FALSE FALSE FALSE\n",
              " [2065] FALSE FALSE FALSE FALSE  TRUE FALSE  TRUE FALSE  TRUE FALSE FALSE  TRUE\n",
              " [2077]  TRUE FALSE FALSE FALSE FALSE FALSE FALSE FALSE FALSE FALSE FALSE FALSE\n",
              " [2089] FALSE FALSE FALSE FALSE FALSE FALSE FALSE FALSE FALSE FALSE FALSE FALSE\n",
              " [2101] FALSE FALSE FALSE FALSE FALSE FALSE FALSE FALSE  TRUE FALSE FALSE FALSE\n",
              " [2113] FALSE FALSE FALSE FALSE FALSE FALSE  TRUE FALSE FALSE FALSE  TRUE FALSE\n",
              " [2125] FALSE FALSE FALSE FALSE FALSE  TRUE FALSE FALSE FALSE FALSE FALSE FALSE\n",
              " [2137]  TRUE  TRUE FALSE FALSE FALSE FALSE FALSE FALSE FALSE FALSE FALSE FALSE\n",
              " [2149] FALSE FALSE FALSE FALSE FALSE  TRUE FALSE FALSE FALSE FALSE  TRUE FALSE\n",
              " [2161] FALSE FALSE FALSE FALSE FALSE  TRUE FALSE FALSE FALSE FALSE FALSE FALSE\n",
              " [2173]  TRUE FALSE FALSE FALSE FALSE  TRUE FALSE FALSE  TRUE FALSE FALSE FALSE\n",
              " [2185]  TRUE FALSE FALSE FALSE  TRUE FALSE FALSE FALSE FALSE FALSE FALSE FALSE\n",
              " [2197] FALSE FALSE FALSE FALSE FALSE  TRUE FALSE FALSE FALSE FALSE FALSE FALSE\n",
              " [2209] FALSE  TRUE FALSE FALSE FALSE FALSE FALSE  TRUE  TRUE FALSE FALSE FALSE\n",
              " [2221]  TRUE FALSE FALSE FALSE  TRUE  TRUE FALSE FALSE FALSE FALSE  TRUE  TRUE\n",
              " [2233] FALSE FALSE FALSE FALSE FALSE FALSE FALSE FALSE FALSE FALSE FALSE FALSE\n",
              " [2245] FALSE FALSE  TRUE FALSE FALSE FALSE  TRUE FALSE FALSE FALSE FALSE FALSE\n",
              " [2257]  TRUE  TRUE FALSE FALSE FALSE  TRUE FALSE FALSE  TRUE FALSE FALSE  TRUE\n",
              " [2269]  TRUE FALSE FALSE FALSE FALSE FALSE FALSE FALSE FALSE  TRUE FALSE FALSE\n",
              " [2281]  TRUE FALSE FALSE FALSE  TRUE  TRUE FALSE FALSE FALSE FALSE FALSE FALSE\n",
              " [2293] FALSE  TRUE FALSE FALSE FALSE FALSE FALSE FALSE FALSE  TRUE FALSE FALSE\n",
              " [2305]  TRUE  TRUE FALSE FALSE  TRUE FALSE FALSE FALSE FALSE FALSE FALSE FALSE\n",
              " [2317]  TRUE FALSE FALSE  TRUE FALSE  TRUE  TRUE FALSE FALSE FALSE FALSE FALSE\n",
              " [2329] FALSE FALSE FALSE  TRUE FALSE FALSE FALSE FALSE FALSE FALSE FALSE FALSE\n",
              " [2341] FALSE  TRUE FALSE FALSE FALSE FALSE FALSE FALSE FALSE FALSE FALSE  TRUE\n",
              " [2353] FALSE FALSE FALSE  TRUE FALSE FALSE FALSE FALSE FALSE FALSE FALSE FALSE\n",
              " [2365] FALSE  TRUE FALSE  TRUE FALSE FALSE FALSE FALSE FALSE  TRUE FALSE FALSE\n",
              " [2377] FALSE FALSE FALSE FALSE  TRUE FALSE FALSE  TRUE FALSE FALSE FALSE FALSE\n",
              " [2389] FALSE FALSE FALSE FALSE FALSE FALSE FALSE  TRUE  TRUE FALSE FALSE FALSE\n",
              " [2401] FALSE FALSE FALSE FALSE FALSE FALSE FALSE FALSE FALSE FALSE FALSE  TRUE\n",
              " [2413] FALSE FALSE FALSE  TRUE  TRUE FALSE FALSE FALSE FALSE FALSE FALSE FALSE\n",
              " [2425] FALSE FALSE FALSE FALSE FALSE FALSE FALSE FALSE FALSE  TRUE FALSE FALSE\n",
              " [2437] FALSE FALSE FALSE FALSE FALSE FALSE FALSE FALSE FALSE FALSE FALSE  TRUE\n",
              " [2449] FALSE  TRUE FALSE FALSE  TRUE FALSE FALSE FALSE  TRUE FALSE FALSE  TRUE\n",
              " [2461] FALSE FALSE FALSE  TRUE FALSE FALSE FALSE FALSE FALSE  TRUE FALSE FALSE\n",
              " [2473]  TRUE  TRUE  TRUE FALSE FALSE FALSE FALSE  TRUE  TRUE FALSE  TRUE  TRUE\n",
              " [2485] FALSE  TRUE  TRUE FALSE FALSE FALSE FALSE FALSE FALSE FALSE FALSE FALSE\n",
              " [2497] FALSE FALSE FALSE FALSE FALSE FALSE FALSE FALSE FALSE FALSE FALSE FALSE\n",
              " [2509] FALSE  TRUE FALSE FALSE FALSE FALSE FALSE FALSE FALSE FALSE FALSE FALSE\n",
              " [2521] FALSE FALSE FALSE FALSE FALSE FALSE FALSE FALSE FALSE FALSE  TRUE FALSE\n",
              " [2533] FALSE  TRUE  TRUE FALSE FALSE FALSE FALSE FALSE FALSE FALSE FALSE FALSE\n",
              " [2545] FALSE FALSE FALSE FALSE FALSE FALSE FALSE FALSE  TRUE FALSE FALSE FALSE\n",
              " [2557] FALSE FALSE FALSE  TRUE FALSE FALSE FALSE FALSE FALSE FALSE FALSE FALSE\n",
              " [2569] FALSE FALSE FALSE FALSE FALSE FALSE  TRUE  TRUE FALSE FALSE FALSE FALSE\n",
              " [2581] FALSE FALSE FALSE FALSE FALSE  TRUE FALSE FALSE FALSE FALSE FALSE FALSE\n",
              " [2593] FALSE FALSE FALSE FALSE FALSE FALSE FALSE FALSE FALSE FALSE FALSE FALSE\n",
              " [2605] FALSE FALSE FALSE FALSE FALSE FALSE FALSE FALSE FALSE FALSE FALSE  TRUE\n",
              " [2617] FALSE FALSE  TRUE FALSE FALSE FALSE FALSE FALSE FALSE FALSE FALSE FALSE\n",
              " [2629] FALSE FALSE FALSE FALSE FALSE FALSE FALSE FALSE FALSE  TRUE FALSE FALSE\n",
              " [2641] FALSE FALSE FALSE FALSE  TRUE FALSE FALSE  TRUE FALSE FALSE FALSE FALSE\n",
              " [2653] FALSE FALSE  TRUE FALSE FALSE FALSE FALSE FALSE  TRUE FALSE FALSE FALSE\n",
              " [2665] FALSE FALSE FALSE FALSE  TRUE FALSE FALSE FALSE FALSE FALSE FALSE FALSE\n",
              " [2677] FALSE FALSE FALSE  TRUE  TRUE FALSE FALSE FALSE FALSE FALSE FALSE FALSE\n",
              " [2689] FALSE FALSE  TRUE  TRUE FALSE FALSE  TRUE FALSE FALSE  TRUE  TRUE FALSE\n",
              " [2701] FALSE FALSE FALSE  TRUE  TRUE FALSE FALSE FALSE FALSE FALSE FALSE  TRUE\n",
              " [2713]  TRUE  TRUE FALSE FALSE FALSE FALSE FALSE FALSE FALSE FALSE FALSE FALSE\n",
              " [2725]  TRUE FALSE FALSE FALSE FALSE FALSE FALSE FALSE FALSE FALSE FALSE  TRUE\n",
              " [2737] FALSE FALSE FALSE  TRUE FALSE  TRUE FALSE FALSE FALSE FALSE FALSE FALSE\n",
              " [2749]  TRUE FALSE FALSE FALSE FALSE  TRUE FALSE FALSE FALSE FALSE FALSE FALSE\n",
              " [2761] FALSE FALSE FALSE FALSE FALSE FALSE FALSE FALSE FALSE FALSE FALSE FALSE\n",
              " [2773]  TRUE FALSE FALSE FALSE FALSE FALSE  TRUE FALSE FALSE FALSE FALSE FALSE\n",
              " [2785] FALSE FALSE  TRUE FALSE FALSE FALSE FALSE  TRUE FALSE  TRUE  TRUE  TRUE\n",
              " [2797] FALSE FALSE FALSE FALSE FALSE FALSE FALSE FALSE FALSE  TRUE FALSE  TRUE\n",
              " [2809] FALSE FALSE FALSE FALSE FALSE FALSE FALSE FALSE FALSE FALSE FALSE FALSE\n",
              " [2821]  TRUE  TRUE FALSE FALSE  TRUE FALSE FALSE FALSE FALSE FALSE FALSE  TRUE\n",
              " [2833] FALSE FALSE  TRUE FALSE FALSE FALSE FALSE FALSE FALSE FALSE FALSE FALSE\n",
              " [2845] FALSE FALSE FALSE  TRUE FALSE FALSE FALSE FALSE  TRUE FALSE FALSE FALSE\n",
              " [2857] FALSE FALSE  TRUE  TRUE FALSE FALSE FALSE FALSE FALSE  TRUE  TRUE FALSE\n",
              " [2869]  TRUE  TRUE FALSE FALSE FALSE FALSE FALSE FALSE FALSE  TRUE FALSE FALSE\n",
              " [2881] FALSE  TRUE FALSE FALSE FALSE FALSE FALSE FALSE FALSE  TRUE FALSE FALSE\n",
              " [2893] FALSE FALSE FALSE FALSE FALSE FALSE FALSE  TRUE  TRUE FALSE FALSE FALSE\n",
              " [2905] FALSE FALSE FALSE FALSE FALSE FALSE FALSE FALSE FALSE FALSE FALSE FALSE\n",
              " [2917]  TRUE FALSE  TRUE FALSE  TRUE FALSE FALSE FALSE FALSE FALSE FALSE FALSE\n",
              " [2929] FALSE FALSE FALSE FALSE  TRUE FALSE FALSE  TRUE FALSE FALSE FALSE FALSE\n",
              " [2941] FALSE FALSE FALSE FALSE  TRUE FALSE FALSE FALSE FALSE FALSE  TRUE  TRUE\n",
              " [2953] FALSE FALSE FALSE FALSE FALSE FALSE  TRUE FALSE  TRUE FALSE FALSE FALSE\n",
              " [2965] FALSE FALSE FALSE  TRUE  TRUE FALSE FALSE FALSE FALSE FALSE  TRUE FALSE\n",
              " [2977] FALSE FALSE FALSE FALSE FALSE FALSE FALSE FALSE FALSE FALSE FALSE  TRUE\n",
              " [2989] FALSE FALSE FALSE FALSE  TRUE FALSE FALSE FALSE FALSE FALSE FALSE FALSE\n",
              " [3001] FALSE FALSE FALSE FALSE FALSE FALSE FALSE FALSE  TRUE FALSE FALSE FALSE\n",
              " [3013] FALSE FALSE FALSE  TRUE FALSE FALSE FALSE FALSE FALSE FALSE FALSE FALSE\n",
              " [3025] FALSE FALSE FALSE FALSE FALSE FALSE FALSE FALSE  TRUE FALSE FALSE FALSE\n",
              " [3037] FALSE FALSE FALSE FALSE FALSE FALSE FALSE  TRUE FALSE FALSE FALSE FALSE\n",
              " [3049] FALSE  TRUE FALSE FALSE FALSE FALSE  TRUE FALSE FALSE  TRUE  TRUE FALSE\n",
              " [3061] FALSE FALSE  TRUE FALSE FALSE FALSE FALSE FALSE  TRUE  TRUE FALSE FALSE\n",
              " [3073] FALSE FALSE FALSE  TRUE FALSE FALSE FALSE FALSE FALSE FALSE  TRUE FALSE\n",
              " [3085] FALSE  TRUE FALSE FALSE FALSE FALSE FALSE FALSE  TRUE FALSE FALSE FALSE\n",
              " [3097]  TRUE FALSE FALSE  TRUE  TRUE FALSE FALSE FALSE FALSE FALSE FALSE  TRUE\n",
              " [3109] FALSE  TRUE  TRUE FALSE FALSE FALSE FALSE  TRUE FALSE FALSE FALSE FALSE\n",
              " [3121] FALSE FALSE FALSE FALSE FALSE FALSE FALSE  TRUE  TRUE FALSE FALSE FALSE\n",
              " [3133]  TRUE FALSE  TRUE FALSE FALSE FALSE FALSE FALSE FALSE FALSE FALSE  TRUE\n",
              " [3145] FALSE FALSE FALSE  TRUE FALSE FALSE  TRUE FALSE  TRUE FALSE FALSE FALSE\n",
              " [3157] FALSE  TRUE FALSE FALSE  TRUE FALSE FALSE FALSE FALSE FALSE FALSE FALSE\n",
              " [3169] FALSE FALSE FALSE FALSE FALSE  TRUE FALSE FALSE FALSE FALSE FALSE FALSE\n",
              " [3181]  TRUE FALSE FALSE FALSE FALSE  TRUE  TRUE FALSE FALSE FALSE  TRUE FALSE\n",
              " [3193] FALSE FALSE  TRUE FALSE FALSE FALSE FALSE FALSE  TRUE FALSE FALSE  TRUE\n",
              " [3205] FALSE  TRUE FALSE FALSE FALSE FALSE FALSE FALSE FALSE FALSE FALSE FALSE\n",
              " [3217] FALSE FALSE FALSE FALSE FALSE  TRUE FALSE  TRUE FALSE FALSE FALSE FALSE\n",
              " [3229] FALSE  TRUE FALSE FALSE FALSE  TRUE FALSE FALSE FALSE FALSE  TRUE FALSE\n",
              " [3241] FALSE FALSE FALSE FALSE FALSE FALSE FALSE FALSE FALSE FALSE FALSE FALSE\n",
              " [3253] FALSE FALSE FALSE FALSE FALSE FALSE FALSE FALSE  TRUE FALSE  TRUE FALSE\n",
              " [3265]  TRUE FALSE FALSE FALSE FALSE FALSE FALSE  TRUE FALSE  TRUE FALSE FALSE\n",
              " [3277] FALSE FALSE  TRUE FALSE  TRUE FALSE  TRUE  TRUE FALSE FALSE FALSE FALSE\n",
              " [3289]  TRUE FALSE FALSE  TRUE FALSE FALSE FALSE FALSE FALSE  TRUE FALSE  TRUE\n",
              " [3301] FALSE FALSE FALSE FALSE FALSE FALSE  TRUE FALSE  TRUE FALSE FALSE FALSE\n",
              " [3313]  TRUE FALSE FALSE FALSE  TRUE FALSE FALSE  TRUE FALSE FALSE  TRUE FALSE\n",
              " [3325] FALSE FALSE FALSE FALSE FALSE FALSE FALSE FALSE FALSE FALSE FALSE FALSE\n",
              " [3337] FALSE FALSE FALSE FALSE FALSE FALSE  TRUE FALSE FALSE FALSE FALSE FALSE\n",
              " [3349] FALSE FALSE FALSE FALSE FALSE  TRUE FALSE FALSE FALSE FALSE FALSE FALSE\n",
              " [3361] FALSE FALSE  TRUE  TRUE  TRUE FALSE FALSE FALSE FALSE FALSE FALSE FALSE\n",
              " [3373]  TRUE FALSE FALSE  TRUE FALSE FALSE  TRUE  TRUE FALSE FALSE FALSE FALSE\n",
              " [3385] FALSE FALSE FALSE  TRUE FALSE FALSE FALSE FALSE FALSE FALSE FALSE FALSE\n",
              " [3397] FALSE FALSE FALSE FALSE FALSE FALSE FALSE FALSE FALSE FALSE FALSE  TRUE\n",
              " [3409] FALSE FALSE FALSE FALSE FALSE FALSE FALSE FALSE FALSE FALSE FALSE  TRUE\n",
              " [3421] FALSE FALSE FALSE FALSE FALSE FALSE FALSE FALSE  TRUE FALSE FALSE FALSE\n",
              " [3433] FALSE FALSE  TRUE  TRUE FALSE FALSE FALSE  TRUE  TRUE FALSE FALSE FALSE\n",
              " [3445] FALSE FALSE FALSE FALSE  TRUE FALSE FALSE FALSE FALSE FALSE FALSE FALSE\n",
              " [3457] FALSE  TRUE FALSE  TRUE FALSE FALSE FALSE FALSE FALSE  TRUE FALSE FALSE\n",
              " [3469] FALSE FALSE FALSE FALSE FALSE FALSE FALSE FALSE FALSE  TRUE FALSE FALSE\n",
              " [3481] FALSE FALSE FALSE FALSE FALSE FALSE FALSE  TRUE FALSE FALSE FALSE  TRUE\n",
              " [3493] FALSE FALSE  TRUE FALSE FALSE FALSE FALSE FALSE FALSE FALSE FALSE FALSE\n",
              " [3505] FALSE FALSE FALSE FALSE FALSE  TRUE  TRUE FALSE FALSE FALSE  TRUE FALSE\n",
              " [3517] FALSE FALSE FALSE FALSE FALSE FALSE FALSE  TRUE FALSE FALSE FALSE  TRUE\n",
              " [3529] FALSE FALSE  TRUE FALSE FALSE FALSE FALSE FALSE FALSE FALSE FALSE FALSE\n",
              " [3541] FALSE FALSE FALSE FALSE FALSE FALSE FALSE FALSE FALSE FALSE FALSE FALSE\n",
              " [3553] FALSE FALSE FALSE FALSE FALSE FALSE FALSE FALSE  TRUE FALSE FALSE FALSE\n",
              " [3565] FALSE FALSE  TRUE FALSE  TRUE FALSE FALSE FALSE FALSE FALSE  TRUE FALSE\n",
              " [3577] FALSE FALSE FALSE  TRUE FALSE FALSE FALSE FALSE FALSE  TRUE FALSE FALSE\n",
              " [3589] FALSE FALSE  TRUE FALSE FALSE  TRUE FALSE FALSE FALSE FALSE FALSE FALSE\n",
              " [3601] FALSE  TRUE  TRUE  TRUE FALSE FALSE FALSE  TRUE FALSE FALSE FALSE FALSE\n",
              " [3613]  TRUE FALSE FALSE FALSE FALSE FALSE FALSE FALSE  TRUE FALSE FALSE FALSE\n",
              " [3625]  TRUE FALSE FALSE FALSE  TRUE FALSE FALSE FALSE FALSE FALSE FALSE FALSE\n",
              " [3637] FALSE FALSE FALSE FALSE  TRUE FALSE FALSE FALSE FALSE  TRUE FALSE  TRUE\n",
              " [3649] FALSE FALSE FALSE FALSE FALSE FALSE FALSE FALSE FALSE FALSE FALSE FALSE\n",
              " [3661]  TRUE  TRUE FALSE FALSE FALSE FALSE  TRUE FALSE FALSE FALSE FALSE  TRUE\n",
              " [3673] FALSE FALSE FALSE FALSE FALSE FALSE FALSE  TRUE FALSE FALSE FALSE FALSE\n",
              " [3685]  TRUE FALSE  TRUE FALSE FALSE FALSE FALSE FALSE  TRUE FALSE FALSE FALSE\n",
              " [3697]  TRUE FALSE FALSE FALSE FALSE  TRUE FALSE FALSE FALSE FALSE  TRUE FALSE\n",
              " [3709] FALSE FALSE FALSE FALSE FALSE FALSE FALSE FALSE FALSE FALSE FALSE FALSE\n",
              " [3721] FALSE FALSE FALSE FALSE FALSE  TRUE FALSE FALSE  TRUE FALSE  TRUE FALSE\n",
              " [3733] FALSE FALSE FALSE  TRUE  TRUE FALSE FALSE FALSE FALSE FALSE FALSE FALSE\n",
              " [3745] FALSE FALSE FALSE FALSE FALSE FALSE FALSE FALSE FALSE FALSE FALSE FALSE\n",
              " [3757]  TRUE FALSE FALSE FALSE FALSE FALSE  TRUE FALSE FALSE FALSE FALSE FALSE\n",
              " [3769] FALSE FALSE FALSE FALSE FALSE FALSE FALSE FALSE FALSE  TRUE FALSE FALSE\n",
              " [3781] FALSE FALSE FALSE FALSE  TRUE  TRUE FALSE FALSE FALSE FALSE  TRUE FALSE\n",
              " [3793] FALSE FALSE FALSE FALSE FALSE FALSE FALSE FALSE  TRUE FALSE FALSE FALSE\n",
              " [3805] FALSE FALSE FALSE FALSE FALSE FALSE  TRUE FALSE FALSE FALSE  TRUE FALSE\n",
              " [3817] FALSE FALSE FALSE FALSE FALSE FALSE FALSE FALSE FALSE FALSE  TRUE FALSE\n",
              " [3829] FALSE FALSE  TRUE FALSE FALSE FALSE FALSE FALSE FALSE FALSE FALSE FALSE\n",
              " [3841] FALSE FALSE FALSE FALSE FALSE FALSE FALSE FALSE FALSE  TRUE FALSE  TRUE\n",
              " [3853]  TRUE FALSE FALSE FALSE FALSE FALSE FALSE FALSE FALSE  TRUE FALSE FALSE\n",
              " [3865]  TRUE FALSE FALSE FALSE FALSE FALSE  TRUE FALSE FALSE FALSE FALSE FALSE\n",
              " [3877] FALSE FALSE FALSE FALSE FALSE FALSE FALSE FALSE  TRUE  TRUE FALSE FALSE\n",
              " [3889] FALSE  TRUE FALSE FALSE  TRUE FALSE FALSE FALSE FALSE FALSE FALSE FALSE\n",
              " [3901] FALSE FALSE FALSE FALSE FALSE FALSE FALSE FALSE FALSE  TRUE  TRUE FALSE\n",
              " [3913] FALSE FALSE FALSE FALSE FALSE FALSE FALSE FALSE FALSE FALSE FALSE  TRUE\n",
              " [3925] FALSE FALSE FALSE FALSE FALSE FALSE  TRUE  TRUE  TRUE FALSE FALSE  TRUE\n",
              " [3937] FALSE FALSE  TRUE FALSE  TRUE FALSE FALSE FALSE  TRUE  TRUE FALSE FALSE\n",
              " [3949] FALSE FALSE FALSE FALSE FALSE FALSE FALSE FALSE FALSE FALSE  TRUE FALSE\n",
              " [3961] FALSE FALSE FALSE FALSE FALSE  TRUE FALSE FALSE  TRUE FALSE  TRUE FALSE\n",
              " [3973] FALSE FALSE FALSE FALSE FALSE FALSE FALSE FALSE FALSE FALSE FALSE FALSE\n",
              " [3985] FALSE FALSE FALSE FALSE FALSE FALSE FALSE FALSE FALSE FALSE FALSE FALSE\n",
              " [3997] FALSE FALSE FALSE FALSE FALSE FALSE FALSE FALSE FALSE FALSE FALSE FALSE\n",
              " [4009] FALSE FALSE FALSE FALSE  TRUE FALSE FALSE FALSE FALSE FALSE FALSE FALSE\n",
              " [4021] FALSE FALSE  TRUE FALSE  TRUE FALSE FALSE FALSE FALSE FALSE FALSE  TRUE\n",
              " [4033] FALSE  TRUE FALSE FALSE  TRUE FALSE FALSE FALSE FALSE FALSE FALSE FALSE\n",
              " [4045]  TRUE FALSE  TRUE FALSE FALSE FALSE FALSE FALSE FALSE FALSE FALSE FALSE\n",
              " [4057] FALSE FALSE FALSE FALSE  TRUE  TRUE FALSE FALSE FALSE  TRUE FALSE FALSE\n",
              " [4069] FALSE FALSE FALSE FALSE FALSE FALSE FALSE FALSE FALSE FALSE FALSE FALSE\n",
              " [4081] FALSE FALSE  TRUE FALSE FALSE FALSE FALSE  TRUE FALSE FALSE FALSE  TRUE\n",
              " [4093]  TRUE FALSE FALSE FALSE FALSE FALSE FALSE  TRUE  TRUE FALSE FALSE  TRUE\n",
              " [4105]  TRUE FALSE FALSE FALSE FALSE FALSE FALSE FALSE FALSE FALSE FALSE FALSE\n",
              " [4117] FALSE  TRUE FALSE FALSE FALSE FALSE FALSE FALSE FALSE FALSE FALSE FALSE\n",
              " [4129] FALSE FALSE FALSE FALSE FALSE FALSE FALSE FALSE FALSE FALSE FALSE FALSE\n",
              " [4141] FALSE FALSE FALSE FALSE FALSE FALSE  TRUE  TRUE FALSE FALSE FALSE FALSE\n",
              " [4153] FALSE FALSE  TRUE FALSE FALSE FALSE FALSE FALSE FALSE  TRUE FALSE FALSE\n",
              " [4165] FALSE  TRUE FALSE FALSE FALSE FALSE FALSE FALSE FALSE FALSE FALSE FALSE\n",
              " [4177] FALSE FALSE  TRUE FALSE FALSE FALSE FALSE FALSE  TRUE  TRUE FALSE FALSE\n",
              " [4189]  TRUE FALSE FALSE FALSE FALSE FALSE FALSE  TRUE  TRUE FALSE FALSE FALSE\n",
              " [4201]  TRUE  TRUE FALSE FALSE FALSE FALSE FALSE FALSE FALSE FALSE FALSE FALSE\n",
              " [4213] FALSE FALSE  TRUE FALSE  TRUE  TRUE FALSE FALSE FALSE FALSE  TRUE FALSE\n",
              " [4225] FALSE FALSE FALSE  TRUE FALSE FALSE FALSE FALSE FALSE  TRUE FALSE FALSE\n",
              " [4237] FALSE  TRUE FALSE FALSE FALSE FALSE FALSE FALSE  TRUE FALSE  TRUE  TRUE\n",
              " [4249] FALSE FALSE FALSE FALSE FALSE FALSE FALSE FALSE FALSE FALSE FALSE FALSE\n",
              " [4261] FALSE FALSE FALSE FALSE FALSE FALSE FALSE FALSE FALSE FALSE  TRUE FALSE\n",
              " [4273]  TRUE FALSE FALSE  TRUE FALSE FALSE FALSE FALSE  TRUE FALSE FALSE  TRUE\n",
              " [4285] FALSE  TRUE FALSE FALSE FALSE FALSE FALSE FALSE FALSE FALSE FALSE FALSE\n",
              " [4297] FALSE FALSE FALSE FALSE  TRUE FALSE FALSE FALSE FALSE  TRUE FALSE FALSE\n",
              " [4309] FALSE FALSE FALSE  TRUE FALSE FALSE FALSE FALSE FALSE FALSE FALSE  TRUE\n",
              " [4321]  TRUE FALSE FALSE FALSE FALSE FALSE FALSE FALSE FALSE FALSE FALSE FALSE\n",
              " [4333] FALSE FALSE FALSE FALSE FALSE FALSE FALSE FALSE  TRUE FALSE FALSE FALSE\n",
              " [4345] FALSE  TRUE FALSE FALSE FALSE FALSE FALSE FALSE FALSE FALSE FALSE FALSE\n",
              " [4357] FALSE FALSE FALSE  TRUE FALSE  TRUE FALSE FALSE FALSE FALSE FALSE FALSE\n",
              " [4369] FALSE  TRUE FALSE FALSE  TRUE FALSE FALSE FALSE FALSE FALSE  TRUE FALSE\n",
              " [4381]  TRUE FALSE FALSE  TRUE FALSE FALSE FALSE FALSE FALSE FALSE FALSE FALSE\n",
              " [4393] FALSE FALSE FALSE FALSE FALSE  TRUE FALSE FALSE FALSE FALSE FALSE FALSE\n",
              " [4405] FALSE FALSE FALSE FALSE FALSE FALSE FALSE FALSE FALSE FALSE FALSE FALSE\n",
              " [4417] FALSE FALSE FALSE FALSE FALSE FALSE  TRUE FALSE FALSE FALSE FALSE  TRUE\n",
              " [4429] FALSE FALSE FALSE  TRUE FALSE FALSE FALSE  TRUE  TRUE FALSE FALSE  TRUE\n",
              " [4441]  TRUE FALSE FALSE  TRUE FALSE FALSE FALSE FALSE FALSE  TRUE FALSE FALSE\n",
              " [4453] FALSE FALSE FALSE FALSE FALSE FALSE FALSE FALSE  TRUE FALSE FALSE FALSE\n",
              " [4465] FALSE FALSE FALSE FALSE FALSE  TRUE FALSE FALSE FALSE FALSE FALSE  TRUE\n",
              " [4477] FALSE  TRUE FALSE FALSE FALSE FALSE FALSE FALSE FALSE FALSE FALSE FALSE\n",
              " [4489] FALSE FALSE FALSE FALSE FALSE FALSE  TRUE FALSE FALSE FALSE  TRUE FALSE\n",
              " [4501] FALSE FALSE FALSE  TRUE FALSE FALSE FALSE FALSE FALSE FALSE FALSE FALSE\n",
              " [4513] FALSE  TRUE FALSE FALSE FALSE FALSE FALSE FALSE  TRUE FALSE FALSE FALSE\n",
              " [4525] FALSE FALSE FALSE FALSE FALSE FALSE FALSE FALSE  TRUE FALSE FALSE FALSE\n",
              " [4537] FALSE FALSE FALSE FALSE FALSE FALSE FALSE FALSE FALSE  TRUE FALSE FALSE\n",
              " [4549] FALSE FALSE FALSE FALSE FALSE FALSE FALSE  TRUE FALSE FALSE FALSE FALSE\n",
              " [4561] FALSE  TRUE FALSE  TRUE FALSE FALSE FALSE FALSE FALSE FALSE FALSE FALSE\n",
              " [4573] FALSE FALSE FALSE FALSE FALSE  TRUE  TRUE FALSE FALSE FALSE FALSE FALSE\n",
              " [4585] FALSE FALSE  TRUE FALSE FALSE  TRUE FALSE FALSE FALSE FALSE  TRUE  TRUE\n",
              " [4597] FALSE  TRUE FALSE FALSE FALSE  TRUE FALSE FALSE FALSE FALSE FALSE FALSE\n",
              " [4609] FALSE  TRUE FALSE FALSE FALSE FALSE  TRUE  TRUE FALSE FALSE FALSE  TRUE\n",
              " [4621]  TRUE FALSE FALSE FALSE FALSE FALSE  TRUE FALSE FALSE FALSE FALSE FALSE\n",
              " [4633] FALSE FALSE FALSE FALSE FALSE FALSE FALSE FALSE FALSE FALSE FALSE FALSE\n",
              " [4645]  TRUE FALSE FALSE FALSE FALSE FALSE FALSE  TRUE FALSE FALSE FALSE FALSE\n",
              " [4657] FALSE FALSE FALSE FALSE FALSE  TRUE FALSE  TRUE  TRUE FALSE FALSE FALSE\n",
              " [4669] FALSE FALSE  TRUE FALSE FALSE  TRUE FALSE FALSE  TRUE FALSE  TRUE FALSE\n",
              " [4681] FALSE FALSE FALSE FALSE FALSE FALSE FALSE FALSE FALSE FALSE FALSE FALSE\n",
              " [4693] FALSE FALSE FALSE  TRUE FALSE FALSE FALSE FALSE FALSE FALSE FALSE FALSE\n",
              " [4705] FALSE FALSE  TRUE FALSE FALSE  TRUE  TRUE FALSE FALSE  TRUE FALSE FALSE\n",
              " [4717]  TRUE FALSE FALSE FALSE FALSE FALSE FALSE FALSE FALSE FALSE FALSE FALSE\n",
              " [4729] FALSE FALSE FALSE FALSE FALSE FALSE FALSE FALSE FALSE FALSE FALSE FALSE\n",
              " [4741]  TRUE FALSE FALSE FALSE FALSE FALSE FALSE FALSE FALSE FALSE  TRUE FALSE\n",
              " [4753]  TRUE FALSE FALSE FALSE FALSE  TRUE FALSE FALSE FALSE FALSE  TRUE FALSE\n",
              " [4765]  TRUE FALSE  TRUE FALSE  TRUE FALSE  TRUE FALSE FALSE FALSE FALSE FALSE\n",
              " [4777] FALSE FALSE  TRUE FALSE FALSE FALSE FALSE FALSE FALSE FALSE FALSE FALSE\n",
              " [4789]  TRUE FALSE  TRUE FALSE FALSE FALSE FALSE FALSE FALSE FALSE FALSE FALSE\n",
              " [4801] FALSE FALSE FALSE FALSE FALSE FALSE FALSE FALSE FALSE  TRUE FALSE FALSE\n",
              " [4813] FALSE FALSE FALSE FALSE FALSE FALSE FALSE FALSE  TRUE FALSE FALSE  TRUE\n",
              " [4825] FALSE FALSE FALSE FALSE FALSE  TRUE FALSE FALSE  TRUE FALSE FALSE FALSE\n",
              " [4837] FALSE FALSE  TRUE FALSE FALSE FALSE  TRUE FALSE FALSE  TRUE FALSE FALSE\n",
              " [4849]  TRUE  TRUE  TRUE FALSE FALSE FALSE  TRUE FALSE FALSE FALSE FALSE FALSE\n",
              " [4861] FALSE FALSE FALSE FALSE FALSE  TRUE FALSE FALSE FALSE FALSE FALSE FALSE\n",
              " [4873] FALSE FALSE  TRUE FALSE FALSE FALSE FALSE  TRUE FALSE FALSE FALSE FALSE\n",
              " [4885]  TRUE FALSE FALSE FALSE  TRUE FALSE FALSE FALSE FALSE FALSE FALSE FALSE\n",
              " [4897] FALSE FALSE FALSE FALSE FALSE FALSE FALSE  TRUE FALSE FALSE FALSE FALSE\n",
              " [4909] FALSE FALSE FALSE FALSE FALSE FALSE FALSE FALSE FALSE FALSE FALSE  TRUE\n",
              " [4921] FALSE FALSE FALSE  TRUE FALSE FALSE  TRUE  TRUE FALSE FALSE FALSE FALSE\n",
              " [4933] FALSE  TRUE FALSE FALSE FALSE FALSE  TRUE FALSE FALSE  TRUE FALSE FALSE\n",
              " [4945] FALSE FALSE FALSE FALSE  TRUE FALSE FALSE FALSE FALSE FALSE FALSE FALSE\n",
              " [4957] FALSE FALSE FALSE FALSE FALSE  TRUE FALSE FALSE FALSE FALSE FALSE FALSE\n",
              " [4969] FALSE FALSE FALSE  TRUE FALSE FALSE FALSE  TRUE FALSE  TRUE FALSE  TRUE\n",
              " [4981]  TRUE FALSE FALSE FALSE FALSE FALSE FALSE FALSE FALSE FALSE FALSE FALSE\n",
              " [4993] FALSE FALSE FALSE FALSE  TRUE FALSE FALSE FALSE FALSE  TRUE FALSE FALSE\n",
              " [5005] FALSE FALSE FALSE FALSE FALSE FALSE FALSE FALSE FALSE FALSE FALSE  TRUE\n",
              " [5017] FALSE FALSE FALSE FALSE FALSE FALSE FALSE  TRUE FALSE  TRUE FALSE FALSE\n",
              " [5029] FALSE FALSE FALSE FALSE FALSE FALSE FALSE FALSE FALSE FALSE FALSE FALSE\n",
              " [5041] FALSE FALSE  TRUE FALSE FALSE FALSE  TRUE FALSE  TRUE FALSE FALSE FALSE\n",
              " [5053]  TRUE  TRUE FALSE FALSE FALSE FALSE FALSE FALSE  TRUE FALSE FALSE FALSE\n",
              " [5065] FALSE  TRUE FALSE FALSE  TRUE FALSE FALSE FALSE FALSE FALSE FALSE FALSE\n",
              " [5077] FALSE  TRUE FALSE  TRUE FALSE FALSE FALSE FALSE FALSE FALSE  TRUE  TRUE\n",
              " [5089] FALSE  TRUE FALSE FALSE FALSE FALSE FALSE FALSE FALSE FALSE FALSE FALSE\n",
              " [5101] FALSE FALSE FALSE FALSE FALSE  TRUE FALSE FALSE FALSE FALSE FALSE FALSE\n",
              " [5113] FALSE FALSE FALSE FALSE FALSE FALSE FALSE FALSE FALSE  TRUE  TRUE FALSE\n",
              " [5125] FALSE FALSE  TRUE  TRUE  TRUE FALSE FALSE  TRUE FALSE  TRUE FALSE FALSE\n",
              " [5137] FALSE FALSE  TRUE FALSE FALSE FALSE FALSE FALSE FALSE FALSE FALSE FALSE\n",
              " [5149] FALSE FALSE FALSE FALSE  TRUE FALSE FALSE FALSE FALSE  TRUE FALSE FALSE\n",
              " [5161] FALSE FALSE FALSE FALSE FALSE FALSE FALSE FALSE FALSE  TRUE FALSE FALSE\n",
              " [5173] FALSE FALSE FALSE FALSE FALSE FALSE  TRUE FALSE FALSE FALSE FALSE  TRUE\n",
              " [5185] FALSE FALSE FALSE FALSE FALSE FALSE FALSE FALSE FALSE  TRUE  TRUE FALSE\n",
              " [5197] FALSE FALSE FALSE FALSE FALSE FALSE FALSE FALSE FALSE FALSE FALSE FALSE\n",
              " [5209] FALSE FALSE FALSE FALSE FALSE FALSE FALSE FALSE FALSE FALSE FALSE FALSE\n",
              " [5221] FALSE  TRUE FALSE  TRUE FALSE FALSE FALSE FALSE  TRUE FALSE FALSE FALSE\n",
              " [5233] FALSE  TRUE FALSE FALSE FALSE  TRUE FALSE  TRUE FALSE FALSE FALSE FALSE\n",
              " [5245] FALSE FALSE FALSE FALSE FALSE FALSE FALSE  TRUE FALSE FALSE FALSE FALSE\n",
              " [5257] FALSE  TRUE FALSE FALSE FALSE FALSE  TRUE FALSE  TRUE FALSE  TRUE FALSE\n",
              " [5269]  TRUE FALSE FALSE  TRUE FALSE FALSE FALSE FALSE FALSE FALSE FALSE FALSE\n",
              " [5281]  TRUE FALSE FALSE FALSE FALSE FALSE FALSE FALSE FALSE FALSE FALSE FALSE\n",
              " [5293] FALSE FALSE FALSE FALSE FALSE FALSE  TRUE  TRUE FALSE FALSE FALSE FALSE\n",
              " [5305] FALSE FALSE FALSE  TRUE FALSE  TRUE  TRUE FALSE FALSE FALSE  TRUE FALSE\n",
              " [5317] FALSE FALSE FALSE FALSE FALSE FALSE FALSE FALSE FALSE FALSE FALSE FALSE\n",
              " [5329] FALSE FALSE FALSE FALSE  TRUE FALSE FALSE  TRUE  TRUE FALSE FALSE FALSE\n",
              " [5341] FALSE  TRUE  TRUE FALSE FALSE FALSE FALSE  TRUE FALSE FALSE FALSE  TRUE\n",
              " [5353]  TRUE  TRUE FALSE FALSE FALSE  TRUE FALSE FALSE FALSE FALSE  TRUE FALSE\n",
              " [5365]  TRUE FALSE FALSE FALSE FALSE FALSE FALSE FALSE FALSE FALSE  TRUE FALSE\n",
              " [5377] FALSE FALSE FALSE  TRUE FALSE FALSE FALSE FALSE FALSE FALSE FALSE FALSE\n",
              " [5389] FALSE FALSE FALSE FALSE  TRUE FALSE FALSE FALSE FALSE  TRUE  TRUE FALSE\n",
              " [5401] FALSE FALSE FALSE FALSE FALSE FALSE  TRUE FALSE  TRUE FALSE FALSE  TRUE\n",
              " [5413]  TRUE FALSE FALSE FALSE FALSE FALSE FALSE FALSE FALSE FALSE  TRUE FALSE\n",
              " [5425] FALSE FALSE FALSE FALSE FALSE FALSE FALSE  TRUE FALSE FALSE FALSE FALSE\n",
              " [5437] FALSE FALSE FALSE FALSE FALSE FALSE FALSE FALSE  TRUE  TRUE FALSE  TRUE\n",
              " [5449] FALSE FALSE FALSE  TRUE FALSE FALSE FALSE FALSE  TRUE FALSE FALSE FALSE\n",
              " [5461] FALSE FALSE FALSE FALSE FALSE  TRUE FALSE FALSE FALSE FALSE  TRUE FALSE\n",
              " [5473] FALSE FALSE FALSE FALSE FALSE FALSE FALSE FALSE FALSE FALSE FALSE FALSE\n",
              " [5485] FALSE FALSE FALSE FALSE FALSE FALSE FALSE FALSE FALSE FALSE FALSE FALSE\n",
              " [5497] FALSE FALSE FALSE  TRUE FALSE FALSE  TRUE FALSE FALSE FALSE FALSE FALSE\n",
              " [5509] FALSE FALSE FALSE FALSE FALSE FALSE FALSE  TRUE FALSE FALSE  TRUE FALSE\n",
              " [5521] FALSE FALSE FALSE FALSE FALSE FALSE FALSE FALSE FALSE FALSE FALSE FALSE\n",
              " [5533] FALSE FALSE FALSE  TRUE FALSE FALSE FALSE FALSE  TRUE FALSE FALSE  TRUE\n",
              " [5545] FALSE  TRUE FALSE FALSE FALSE FALSE FALSE FALSE  TRUE  TRUE FALSE  TRUE\n",
              " [5557] FALSE FALSE FALSE  TRUE FALSE  TRUE FALSE FALSE  TRUE FALSE FALSE  TRUE\n",
              " [5569] FALSE FALSE FALSE FALSE FALSE FALSE FALSE FALSE FALSE FALSE FALSE FALSE\n",
              " [5581]  TRUE FALSE FALSE FALSE FALSE FALSE  TRUE  TRUE FALSE FALSE  TRUE FALSE\n",
              " [5593] FALSE FALSE  TRUE FALSE FALSE FALSE  TRUE FALSE FALSE  TRUE FALSE FALSE\n",
              " [5605] FALSE FALSE FALSE FALSE  TRUE FALSE FALSE FALSE  TRUE  TRUE FALSE FALSE\n",
              " [5617] FALSE FALSE FALSE FALSE FALSE FALSE FALSE  TRUE FALSE FALSE FALSE FALSE\n",
              " [5629]  TRUE FALSE FALSE FALSE FALSE FALSE  TRUE FALSE FALSE FALSE FALSE FALSE\n",
              " [5641] FALSE FALSE FALSE FALSE FALSE FALSE FALSE  TRUE FALSE FALSE  TRUE FALSE\n",
              " [5653] FALSE FALSE FALSE FALSE FALSE  TRUE FALSE FALSE FALSE FALSE FALSE FALSE\n",
              " [5665] FALSE FALSE FALSE FALSE  TRUE FALSE  TRUE FALSE FALSE FALSE FALSE FALSE\n",
              " [5677] FALSE  TRUE FALSE FALSE FALSE FALSE FALSE  TRUE FALSE  TRUE FALSE  TRUE\n",
              " [5689] FALSE FALSE FALSE  TRUE FALSE  TRUE FALSE FALSE FALSE  TRUE FALSE FALSE\n",
              " [5701] FALSE FALSE FALSE FALSE  TRUE FALSE FALSE FALSE FALSE FALSE FALSE FALSE\n",
              " [5713]  TRUE FALSE FALSE FALSE FALSE FALSE FALSE  TRUE  TRUE  TRUE FALSE FALSE\n",
              " [5725] FALSE FALSE FALSE  TRUE FALSE  TRUE FALSE FALSE  TRUE FALSE FALSE  TRUE\n",
              " [5737] FALSE FALSE FALSE FALSE FALSE FALSE FALSE FALSE  TRUE FALSE FALSE FALSE\n",
              " [5749]  TRUE FALSE FALSE FALSE FALSE FALSE FALSE  TRUE FALSE  TRUE FALSE FALSE\n",
              " [5761] FALSE  TRUE FALSE FALSE FALSE FALSE FALSE  TRUE FALSE FALSE FALSE FALSE\n",
              " [5773] FALSE FALSE FALSE  TRUE  TRUE FALSE FALSE  TRUE FALSE FALSE FALSE FALSE\n",
              " [5785] FALSE FALSE FALSE FALSE FALSE FALSE FALSE FALSE FALSE FALSE FALSE FALSE\n",
              " [5797] FALSE FALSE FALSE FALSE FALSE FALSE FALSE  TRUE FALSE FALSE  TRUE  TRUE\n",
              " [5809] FALSE FALSE FALSE FALSE FALSE FALSE  TRUE FALSE FALSE FALSE FALSE  TRUE\n",
              " [5821] FALSE FALSE  TRUE FALSE FALSE FALSE FALSE FALSE FALSE FALSE  TRUE  TRUE\n",
              " [5833] FALSE FALSE FALSE FALSE FALSE FALSE FALSE FALSE  TRUE FALSE  TRUE FALSE\n",
              " [5845] FALSE FALSE  TRUE FALSE FALSE FALSE FALSE FALSE FALSE FALSE  TRUE FALSE\n",
              " [5857] FALSE FALSE FALSE FALSE FALSE  TRUE FALSE FALSE FALSE FALSE  TRUE FALSE\n",
              " [5869] FALSE FALSE FALSE FALSE FALSE FALSE FALSE FALSE FALSE FALSE FALSE FALSE\n",
              " [5881]  TRUE  TRUE FALSE  TRUE FALSE  TRUE  TRUE  TRUE FALSE FALSE  TRUE  TRUE\n",
              " [5893] FALSE FALSE FALSE FALSE FALSE FALSE FALSE FALSE FALSE FALSE FALSE FALSE\n",
              " [5905]  TRUE FALSE FALSE FALSE  TRUE FALSE FALSE  TRUE FALSE FALSE FALSE  TRUE\n",
              " [5917] FALSE FALSE FALSE FALSE FALSE FALSE FALSE FALSE FALSE FALSE FALSE FALSE\n",
              " [5929] FALSE FALSE FALSE FALSE FALSE FALSE FALSE  TRUE  TRUE FALSE FALSE FALSE\n",
              " [5941] FALSE FALSE FALSE  TRUE  TRUE FALSE FALSE FALSE FALSE FALSE FALSE FALSE\n",
              " [5953] FALSE FALSE FALSE FALSE FALSE FALSE FALSE FALSE FALSE  TRUE FALSE FALSE\n",
              " [5965] FALSE FALSE FALSE FALSE FALSE FALSE FALSE  TRUE FALSE FALSE FALSE FALSE\n",
              " [5977] FALSE FALSE FALSE FALSE FALSE FALSE FALSE FALSE FALSE FALSE FALSE  TRUE\n",
              " [5989]  TRUE FALSE  TRUE FALSE FALSE FALSE FALSE  TRUE FALSE FALSE FALSE FALSE\n",
              " [6001] FALSE FALSE  TRUE FALSE FALSE FALSE FALSE  TRUE FALSE FALSE FALSE  TRUE\n",
              " [6013] FALSE FALSE FALSE FALSE FALSE FALSE FALSE  TRUE FALSE FALSE FALSE FALSE\n",
              " [6025] FALSE FALSE FALSE FALSE FALSE FALSE FALSE FALSE FALSE FALSE FALSE FALSE\n",
              " [6037] FALSE FALSE FALSE FALSE FALSE FALSE FALSE FALSE FALSE FALSE FALSE FALSE\n",
              " [6049]  TRUE FALSE  TRUE  TRUE FALSE FALSE FALSE FALSE  TRUE FALSE FALSE FALSE\n",
              " [6061] FALSE FALSE FALSE  TRUE  TRUE FALSE FALSE FALSE FALSE FALSE FALSE FALSE\n",
              " [6073] FALSE  TRUE FALSE FALSE FALSE FALSE FALSE  TRUE FALSE FALSE FALSE FALSE\n",
              " [6085] FALSE FALSE FALSE FALSE FALSE FALSE FALSE FALSE FALSE FALSE FALSE FALSE\n",
              " [6097] FALSE FALSE FALSE FALSE FALSE FALSE  TRUE FALSE FALSE FALSE FALSE FALSE\n",
              " [6109]  TRUE FALSE FALSE FALSE FALSE  TRUE FALSE FALSE FALSE FALSE  TRUE FALSE\n",
              " [6121] FALSE FALSE FALSE FALSE FALSE FALSE FALSE FALSE FALSE FALSE FALSE  TRUE\n",
              " [6133] FALSE FALSE FALSE FALSE  TRUE FALSE FALSE  TRUE FALSE FALSE FALSE FALSE\n",
              " [6145] FALSE FALSE FALSE FALSE FALSE FALSE FALSE FALSE FALSE FALSE FALSE FALSE\n",
              " [6157] FALSE FALSE FALSE FALSE FALSE FALSE FALSE FALSE FALSE  TRUE  TRUE FALSE\n",
              " [6169] FALSE FALSE FALSE FALSE FALSE  TRUE  TRUE  TRUE FALSE FALSE  TRUE FALSE\n",
              " [6181] FALSE FALSE FALSE FALSE FALSE FALSE FALSE FALSE FALSE FALSE  TRUE  TRUE\n",
              " [6193] FALSE FALSE FALSE FALSE FALSE FALSE FALSE FALSE  TRUE FALSE  TRUE FALSE\n",
              " [6205] FALSE FALSE FALSE FALSE FALSE FALSE  TRUE FALSE FALSE FALSE FALSE FALSE\n",
              " [6217] FALSE FALSE FALSE FALSE  TRUE FALSE FALSE FALSE FALSE FALSE FALSE FALSE\n",
              " [6229] FALSE FALSE  TRUE FALSE FALSE FALSE FALSE FALSE FALSE  TRUE  TRUE FALSE\n",
              " [6241] FALSE FALSE FALSE  TRUE FALSE FALSE FALSE FALSE FALSE FALSE  TRUE FALSE\n",
              " [6253] FALSE FALSE FALSE FALSE FALSE FALSE FALSE FALSE FALSE FALSE FALSE FALSE\n",
              " [6265] FALSE FALSE  TRUE FALSE FALSE FALSE FALSE FALSE  TRUE FALSE  TRUE  TRUE\n",
              " [6277]  TRUE  TRUE FALSE FALSE FALSE FALSE FALSE FALSE  TRUE FALSE  TRUE FALSE\n",
              " [6289] FALSE  TRUE  TRUE FALSE  TRUE FALSE FALSE FALSE FALSE FALSE  TRUE FALSE\n",
              " [6301] FALSE FALSE FALSE FALSE FALSE FALSE  TRUE FALSE  TRUE FALSE FALSE FALSE\n",
              " [6313] FALSE  TRUE FALSE FALSE FALSE FALSE FALSE FALSE  TRUE FALSE FALSE FALSE\n",
              " [6325] FALSE  TRUE FALSE FALSE FALSE FALSE FALSE FALSE FALSE  TRUE FALSE  TRUE\n",
              " [6337]  TRUE FALSE  TRUE  TRUE FALSE  TRUE FALSE FALSE FALSE FALSE FALSE FALSE\n",
              " [6349] FALSE  TRUE FALSE  TRUE FALSE FALSE FALSE FALSE  TRUE FALSE FALSE FALSE\n",
              " [6361]  TRUE  TRUE  TRUE  TRUE  TRUE FALSE  TRUE FALSE FALSE  TRUE  TRUE FALSE\n",
              " [6373] FALSE FALSE FALSE FALSE FALSE FALSE FALSE FALSE  TRUE  TRUE FALSE  TRUE\n",
              " [6385] FALSE FALSE FALSE FALSE FALSE FALSE FALSE FALSE FALSE FALSE FALSE FALSE\n",
              " [6397] FALSE FALSE FALSE FALSE FALSE FALSE FALSE FALSE FALSE FALSE FALSE FALSE\n",
              " [6409] FALSE FALSE FALSE FALSE FALSE FALSE FALSE FALSE FALSE  TRUE FALSE FALSE\n",
              " [6421] FALSE FALSE FALSE  TRUE  TRUE FALSE FALSE  TRUE FALSE FALSE FALSE FALSE\n",
              " [6433]  TRUE FALSE FALSE FALSE FALSE FALSE  TRUE  TRUE FALSE FALSE FALSE FALSE\n",
              " [6445] FALSE FALSE FALSE FALSE  TRUE FALSE  TRUE  TRUE FALSE FALSE FALSE FALSE\n",
              " [6457] FALSE FALSE FALSE  TRUE FALSE FALSE FALSE  TRUE FALSE FALSE FALSE FALSE\n",
              " [6469] FALSE FALSE FALSE  TRUE FALSE FALSE FALSE FALSE FALSE FALSE FALSE FALSE\n",
              " [6481]  TRUE FALSE FALSE FALSE FALSE FALSE FALSE  TRUE FALSE FALSE FALSE FALSE\n",
              " [6493] FALSE FALSE FALSE  TRUE FALSE FALSE FALSE FALSE FALSE FALSE FALSE FALSE\n",
              " [6505] FALSE FALSE FALSE FALSE  TRUE FALSE FALSE FALSE FALSE FALSE FALSE FALSE\n",
              " [6517]  TRUE FALSE FALSE  TRUE FALSE  TRUE FALSE FALSE FALSE FALSE FALSE FALSE\n",
              " [6529] FALSE FALSE FALSE FALSE FALSE FALSE FALSE FALSE  TRUE FALSE FALSE  TRUE\n",
              " [6541] FALSE FALSE  TRUE FALSE  TRUE FALSE FALSE FALSE FALSE FALSE FALSE  TRUE\n",
              " [6553] FALSE FALSE FALSE FALSE FALSE FALSE FALSE FALSE FALSE FALSE  TRUE FALSE\n",
              " [6565] FALSE  TRUE FALSE  TRUE  TRUE FALSE FALSE FALSE FALSE FALSE FALSE FALSE\n",
              " [6577] FALSE FALSE  TRUE FALSE FALSE FALSE FALSE FALSE FALSE  TRUE FALSE FALSE\n",
              " [6589] FALSE FALSE FALSE  TRUE FALSE  TRUE FALSE  TRUE FALSE  TRUE FALSE  TRUE\n",
              " [6601] FALSE FALSE FALSE FALSE FALSE FALSE FALSE FALSE  TRUE FALSE FALSE FALSE\n",
              " [6613] FALSE FALSE FALSE  TRUE FALSE FALSE FALSE FALSE FALSE FALSE FALSE FALSE\n",
              " [6625] FALSE FALSE FALSE FALSE FALSE FALSE FALSE FALSE FALSE  TRUE FALSE FALSE\n",
              " [6637] FALSE  TRUE FALSE FALSE  TRUE FALSE  TRUE FALSE FALSE FALSE FALSE FALSE\n",
              " [6649]  TRUE FALSE FALSE FALSE  TRUE FALSE FALSE  TRUE FALSE FALSE FALSE FALSE\n",
              " [6661] FALSE FALSE  TRUE FALSE FALSE FALSE FALSE FALSE FALSE FALSE FALSE FALSE\n",
              " [6673] FALSE  TRUE FALSE FALSE FALSE FALSE  TRUE FALSE FALSE FALSE FALSE FALSE\n",
              " [6685] FALSE FALSE FALSE FALSE FALSE FALSE FALSE FALSE FALSE FALSE FALSE FALSE\n",
              " [6697] FALSE FALSE FALSE FALSE FALSE FALSE FALSE FALSE FALSE FALSE FALSE FALSE\n",
              " [6709] FALSE FALSE FALSE FALSE FALSE FALSE FALSE FALSE FALSE FALSE FALSE FALSE\n",
              " [6721] FALSE FALSE FALSE  TRUE FALSE FALSE FALSE FALSE FALSE FALSE  TRUE  TRUE\n",
              " [6733] FALSE FALSE  TRUE FALSE FALSE FALSE  TRUE FALSE FALSE FALSE FALSE  TRUE\n",
              " [6745] FALSE FALSE FALSE  TRUE FALSE  TRUE  TRUE FALSE FALSE FALSE FALSE FALSE\n",
              " [6757] FALSE FALSE FALSE FALSE  TRUE FALSE FALSE FALSE FALSE FALSE FALSE FALSE\n",
              " [6769] FALSE FALSE FALSE FALSE FALSE FALSE  TRUE FALSE FALSE FALSE FALSE  TRUE\n",
              " [6781]  TRUE FALSE FALSE FALSE FALSE FALSE FALSE FALSE  TRUE FALSE FALSE FALSE\n",
              " [6793]  TRUE  TRUE FALSE FALSE FALSE FALSE  TRUE  TRUE FALSE FALSE FALSE FALSE\n",
              " [6805]  TRUE FALSE FALSE FALSE FALSE FALSE FALSE FALSE FALSE FALSE FALSE FALSE\n",
              " [6817]  TRUE FALSE FALSE FALSE FALSE  TRUE FALSE FALSE FALSE FALSE FALSE  TRUE\n",
              " [6829] FALSE  TRUE FALSE  TRUE FALSE  TRUE FALSE FALSE FALSE FALSE FALSE FALSE\n",
              " [6841] FALSE FALSE FALSE FALSE FALSE FALSE  TRUE FALSE FALSE FALSE FALSE  TRUE\n",
              " [6853] FALSE FALSE FALSE FALSE FALSE  TRUE FALSE FALSE FALSE FALSE FALSE FALSE\n",
              " [6865] FALSE FALSE  TRUE FALSE  TRUE FALSE FALSE FALSE FALSE FALSE  TRUE FALSE\n",
              " [6877]  TRUE FALSE  TRUE FALSE FALSE FALSE FALSE FALSE  TRUE FALSE FALSE  TRUE\n",
              " [6889] FALSE FALSE FALSE FALSE FALSE  TRUE FALSE FALSE FALSE FALSE  TRUE FALSE\n",
              " [6901] FALSE FALSE FALSE  TRUE FALSE FALSE FALSE  TRUE FALSE FALSE FALSE FALSE\n",
              " [6913] FALSE FALSE FALSE FALSE FALSE  TRUE FALSE FALSE  TRUE FALSE FALSE FALSE\n",
              " [6925] FALSE FALSE FALSE FALSE FALSE FALSE FALSE FALSE FALSE FALSE FALSE FALSE\n",
              " [6937] FALSE  TRUE FALSE  TRUE FALSE FALSE FALSE FALSE FALSE FALSE FALSE FALSE\n",
              " [6949] FALSE FALSE FALSE FALSE FALSE FALSE FALSE FALSE FALSE FALSE  TRUE  TRUE\n",
              " [6961] FALSE FALSE FALSE FALSE FALSE FALSE FALSE FALSE FALSE FALSE FALSE FALSE\n",
              " [6973]  TRUE FALSE FALSE FALSE FALSE FALSE  TRUE FALSE FALSE FALSE FALSE FALSE\n",
              " [6985] FALSE FALSE FALSE  TRUE FALSE FALSE FALSE FALSE FALSE FALSE FALSE FALSE\n",
              " [6997] FALSE FALSE FALSE  TRUE FALSE FALSE FALSE FALSE FALSE FALSE  TRUE  TRUE\n",
              " [7009] FALSE FALSE FALSE FALSE FALSE FALSE FALSE FALSE  TRUE FALSE FALSE FALSE\n",
              " [7021] FALSE  TRUE FALSE FALSE FALSE FALSE FALSE FALSE FALSE FALSE FALSE FALSE\n",
              " [7033] FALSE FALSE  TRUE FALSE FALSE FALSE FALSE FALSE  TRUE FALSE FALSE FALSE\n",
              " [7045] FALSE FALSE FALSE FALSE FALSE FALSE FALSE FALSE FALSE  TRUE FALSE FALSE\n",
              " [7057] FALSE FALSE  TRUE FALSE FALSE FALSE FALSE FALSE FALSE  TRUE FALSE FALSE\n",
              " [7069] FALSE FALSE FALSE FALSE FALSE FALSE FALSE FALSE FALSE FALSE FALSE FALSE\n",
              " [7081]  TRUE  TRUE FALSE FALSE FALSE FALSE  TRUE FALSE FALSE FALSE FALSE FALSE\n",
              " [7093] FALSE FALSE FALSE FALSE FALSE FALSE FALSE FALSE  TRUE FALSE  TRUE FALSE\n",
              " [7105] FALSE FALSE FALSE FALSE FALSE FALSE FALSE FALSE FALSE FALSE FALSE FALSE\n",
              " [7117] FALSE FALSE FALSE FALSE FALSE FALSE  TRUE FALSE  TRUE FALSE FALSE FALSE\n",
              " [7129] FALSE FALSE FALSE FALSE FALSE FALSE FALSE FALSE FALSE FALSE FALSE  TRUE\n",
              " [7141] FALSE FALSE FALSE FALSE FALSE FALSE FALSE  TRUE FALSE FALSE FALSE FALSE\n",
              " [7153] FALSE FALSE FALSE FALSE FALSE FALSE FALSE  TRUE FALSE  TRUE  TRUE FALSE\n",
              " [7165] FALSE FALSE FALSE  TRUE FALSE FALSE FALSE  TRUE FALSE FALSE FALSE  TRUE\n",
              " [7177] FALSE FALSE  TRUE FALSE FALSE FALSE FALSE  TRUE FALSE FALSE FALSE FALSE\n",
              " [7189] FALSE FALSE  TRUE FALSE FALSE FALSE  TRUE  TRUE FALSE FALSE FALSE  TRUE\n",
              " [7201] FALSE FALSE FALSE  TRUE FALSE FALSE FALSE FALSE FALSE FALSE FALSE FALSE\n",
              " [7213] FALSE FALSE FALSE FALSE FALSE FALSE FALSE  TRUE FALSE FALSE FALSE FALSE\n",
              " [7225] FALSE FALSE FALSE FALSE FALSE FALSE FALSE FALSE FALSE FALSE  TRUE FALSE\n",
              " [7237] FALSE  TRUE FALSE FALSE  TRUE FALSE FALSE FALSE FALSE FALSE FALSE FALSE\n",
              " [7249] FALSE FALSE  TRUE FALSE  TRUE FALSE FALSE FALSE FALSE  TRUE  TRUE FALSE\n",
              " [7261] FALSE FALSE FALSE  TRUE FALSE FALSE  TRUE FALSE FALSE FALSE FALSE  TRUE\n",
              " [7273] FALSE FALSE FALSE FALSE FALSE FALSE FALSE FALSE FALSE FALSE FALSE FALSE\n",
              " [7285] FALSE  TRUE  TRUE FALSE FALSE FALSE  TRUE FALSE  TRUE FALSE FALSE FALSE\n",
              " [7297] FALSE FALSE FALSE FALSE FALSE FALSE FALSE FALSE FALSE FALSE FALSE FALSE\n",
              " [7309]  TRUE FALSE  TRUE FALSE FALSE  TRUE FALSE  TRUE FALSE  TRUE FALSE  TRUE\n",
              " [7321] FALSE  TRUE  TRUE FALSE FALSE FALSE  TRUE FALSE FALSE FALSE FALSE  TRUE\n",
              " [7333] FALSE FALSE FALSE FALSE  TRUE FALSE FALSE FALSE FALSE FALSE FALSE FALSE\n",
              " [7345] FALSE FALSE FALSE FALSE FALSE FALSE FALSE FALSE FALSE FALSE FALSE  TRUE\n",
              " [7357] FALSE FALSE FALSE FALSE FALSE  TRUE FALSE FALSE FALSE FALSE FALSE FALSE\n",
              " [7369]  TRUE FALSE FALSE FALSE FALSE FALSE FALSE FALSE FALSE FALSE FALSE FALSE\n",
              " [7381] FALSE FALSE FALSE FALSE FALSE FALSE FALSE FALSE FALSE FALSE FALSE FALSE\n",
              " [7393]  TRUE FALSE  TRUE FALSE FALSE FALSE FALSE FALSE  TRUE FALSE FALSE FALSE\n",
              " [7405]  TRUE FALSE FALSE FALSE FALSE FALSE  TRUE FALSE FALSE FALSE  TRUE FALSE\n",
              " [7417] FALSE FALSE FALSE FALSE FALSE FALSE FALSE FALSE  TRUE FALSE FALSE FALSE\n",
              " [7429] FALSE FALSE FALSE FALSE FALSE FALSE FALSE FALSE FALSE  TRUE FALSE FALSE\n",
              " [7441]  TRUE  TRUE FALSE FALSE FALSE FALSE  TRUE FALSE FALSE FALSE  TRUE FALSE\n",
              " [7453] FALSE FALSE FALSE FALSE FALSE FALSE FALSE FALSE FALSE FALSE FALSE FALSE\n",
              " [7465] FALSE FALSE  TRUE FALSE FALSE FALSE FALSE FALSE FALSE FALSE FALSE FALSE\n",
              " [7477] FALSE FALSE FALSE FALSE FALSE FALSE FALSE  TRUE FALSE FALSE FALSE FALSE\n",
              " [7489] FALSE FALSE  TRUE FALSE FALSE FALSE FALSE FALSE FALSE  TRUE FALSE FALSE\n",
              " [7501] FALSE FALSE  TRUE FALSE  TRUE FALSE FALSE FALSE FALSE FALSE  TRUE FALSE\n",
              " [7513] FALSE FALSE  TRUE FALSE FALSE FALSE FALSE FALSE FALSE FALSE FALSE FALSE\n",
              " [7525] FALSE FALSE FALSE  TRUE FALSE FALSE  TRUE FALSE  TRUE FALSE FALSE FALSE\n",
              " [7537] FALSE  TRUE  TRUE FALSE FALSE FALSE FALSE  TRUE FALSE FALSE FALSE  TRUE\n",
              " [7549] FALSE FALSE FALSE FALSE FALSE FALSE FALSE FALSE FALSE FALSE FALSE FALSE\n",
              " [7561] FALSE FALSE FALSE FALSE FALSE  TRUE FALSE  TRUE FALSE  TRUE FALSE  TRUE\n",
              " [7573] FALSE FALSE FALSE FALSE FALSE FALSE FALSE FALSE FALSE FALSE FALSE FALSE\n",
              " [7585] FALSE FALSE FALSE FALSE FALSE  TRUE FALSE FALSE FALSE  TRUE FALSE FALSE\n",
              " [7597]  TRUE FALSE FALSE FALSE FALSE FALSE FALSE FALSE FALSE FALSE FALSE FALSE\n",
              " [7609] FALSE FALSE FALSE FALSE FALSE FALSE FALSE FALSE FALSE FALSE FALSE  TRUE\n",
              " [7621] FALSE FALSE  TRUE FALSE FALSE FALSE FALSE FALSE FALSE  TRUE FALSE FALSE\n",
              " [7633] FALSE FALSE  TRUE FALSE FALSE FALSE FALSE FALSE FALSE FALSE  TRUE FALSE\n",
              " [7645] FALSE FALSE FALSE FALSE FALSE FALSE FALSE FALSE  TRUE FALSE FALSE FALSE\n",
              " [7657] FALSE  TRUE FALSE FALSE FALSE FALSE FALSE FALSE FALSE  TRUE FALSE FALSE\n",
              " [7669] FALSE FALSE FALSE FALSE FALSE FALSE FALSE FALSE FALSE FALSE FALSE FALSE\n",
              " [7681] FALSE FALSE FALSE FALSE FALSE FALSE FALSE FALSE FALSE FALSE FALSE  TRUE\n",
              " [7693] FALSE FALSE  TRUE FALSE FALSE FALSE FALSE FALSE FALSE FALSE FALSE FALSE\n",
              " [7705] FALSE FALSE  TRUE FALSE FALSE FALSE FALSE FALSE FALSE FALSE FALSE FALSE\n",
              " [7717] FALSE FALSE  TRUE FALSE FALSE FALSE FALSE  TRUE  TRUE FALSE FALSE FALSE\n",
              " [7729] FALSE FALSE FALSE  TRUE FALSE FALSE FALSE FALSE FALSE FALSE FALSE FALSE\n",
              " [7741] FALSE FALSE  TRUE FALSE FALSE FALSE FALSE FALSE  TRUE FALSE FALSE FALSE\n",
              " [7753]  TRUE FALSE FALSE FALSE FALSE FALSE FALSE FALSE FALSE FALSE FALSE FALSE\n",
              " [7765] FALSE FALSE  TRUE FALSE FALSE FALSE FALSE FALSE FALSE FALSE FALSE  TRUE\n",
              " [7777]  TRUE FALSE FALSE  TRUE FALSE FALSE FALSE FALSE  TRUE FALSE FALSE  TRUE\n",
              " [7789]  TRUE FALSE FALSE FALSE FALSE FALSE FALSE  TRUE  TRUE FALSE  TRUE  TRUE\n",
              " [7801] FALSE FALSE FALSE FALSE FALSE  TRUE FALSE FALSE FALSE  TRUE FALSE FALSE\n",
              " [7813] FALSE  TRUE FALSE  TRUE  TRUE FALSE FALSE FALSE FALSE FALSE FALSE FALSE\n",
              " [7825] FALSE FALSE FALSE  TRUE FALSE FALSE FALSE FALSE FALSE FALSE FALSE  TRUE\n",
              " [7837]  TRUE FALSE FALSE FALSE FALSE FALSE FALSE FALSE  TRUE FALSE FALSE FALSE\n",
              " [7849] FALSE FALSE FALSE FALSE FALSE  TRUE FALSE FALSE FALSE  TRUE  TRUE FALSE\n",
              " [7861] FALSE FALSE FALSE  TRUE FALSE FALSE FALSE FALSE  TRUE FALSE  TRUE  TRUE\n",
              " [7873]  TRUE FALSE  TRUE FALSE FALSE FALSE FALSE FALSE FALSE FALSE FALSE  TRUE\n",
              " [7885] FALSE  TRUE FALSE FALSE FALSE  TRUE FALSE FALSE  TRUE FALSE FALSE FALSE\n",
              " [7897] FALSE FALSE FALSE FALSE FALSE FALSE FALSE FALSE FALSE FALSE FALSE  TRUE\n",
              " [7909] FALSE FALSE FALSE FALSE FALSE FALSE FALSE  TRUE FALSE FALSE FALSE  TRUE\n",
              " [7921] FALSE FALSE FALSE FALSE FALSE FALSE  TRUE FALSE FALSE  TRUE FALSE FALSE\n",
              " [7933] FALSE FALSE FALSE  TRUE FALSE  TRUE FALSE  TRUE FALSE  TRUE  TRUE FALSE\n",
              " [7945] FALSE FALSE FALSE FALSE FALSE FALSE  TRUE  TRUE FALSE FALSE FALSE FALSE\n",
              " [7957] FALSE  TRUE FALSE FALSE FALSE FALSE FALSE FALSE  TRUE  TRUE FALSE FALSE\n",
              " [7969] FALSE FALSE FALSE FALSE FALSE  TRUE FALSE FALSE FALSE FALSE FALSE FALSE\n",
              " [7981]  TRUE FALSE FALSE FALSE FALSE FALSE FALSE FALSE FALSE  TRUE FALSE FALSE\n",
              " [7993] FALSE FALSE FALSE  TRUE FALSE FALSE  TRUE  TRUE  TRUE FALSE FALSE FALSE\n",
              " [8005] FALSE FALSE FALSE  TRUE FALSE FALSE FALSE FALSE FALSE FALSE FALSE FALSE\n",
              " [8017]  TRUE  TRUE FALSE FALSE FALSE FALSE FALSE FALSE FALSE  TRUE FALSE FALSE\n",
              " [8029] FALSE FALSE FALSE FALSE FALSE FALSE  TRUE FALSE FALSE FALSE FALSE FALSE\n",
              " [8041]  TRUE FALSE FALSE FALSE  TRUE FALSE FALSE FALSE FALSE FALSE  TRUE FALSE\n",
              " [8053] FALSE  TRUE FALSE FALSE FALSE FALSE FALSE FALSE FALSE  TRUE FALSE FALSE\n",
              " [8065] FALSE  TRUE FALSE FALSE FALSE FALSE FALSE FALSE FALSE FALSE  TRUE FALSE\n",
              " [8077] FALSE FALSE FALSE FALSE FALSE FALSE FALSE FALSE FALSE FALSE FALSE FALSE\n",
              " [8089] FALSE FALSE FALSE FALSE FALSE FALSE FALSE  TRUE FALSE FALSE FALSE FALSE\n",
              " [8101] FALSE  TRUE FALSE FALSE FALSE FALSE FALSE FALSE FALSE FALSE FALSE  TRUE\n",
              " [8113] FALSE FALSE FALSE FALSE FALSE  TRUE FALSE FALSE FALSE FALSE FALSE  TRUE\n",
              " [8125]  TRUE FALSE FALSE FALSE FALSE FALSE  TRUE FALSE FALSE FALSE FALSE FALSE\n",
              " [8137] FALSE FALSE  TRUE FALSE FALSE FALSE FALSE FALSE FALSE  TRUE FALSE FALSE\n",
              " [8149] FALSE FALSE FALSE FALSE  TRUE FALSE FALSE FALSE FALSE FALSE FALSE FALSE\n",
              " [8161] FALSE  TRUE FALSE  TRUE FALSE FALSE FALSE FALSE FALSE FALSE FALSE FALSE\n",
              " [8173] FALSE FALSE FALSE FALSE FALSE FALSE FALSE FALSE FALSE FALSE FALSE FALSE\n",
              " [8185] FALSE FALSE FALSE FALSE  TRUE FALSE FALSE FALSE FALSE  TRUE FALSE FALSE\n",
              " [8197] FALSE FALSE FALSE FALSE  TRUE FALSE FALSE  TRUE  TRUE FALSE FALSE FALSE\n",
              " [8209] FALSE FALSE FALSE  TRUE FALSE  TRUE FALSE FALSE FALSE  TRUE FALSE FALSE\n",
              " [8221] FALSE FALSE FALSE FALSE FALSE FALSE FALSE FALSE  TRUE FALSE FALSE  TRUE\n",
              " [8233] FALSE  TRUE FALSE FALSE FALSE FALSE  TRUE FALSE FALSE FALSE  TRUE FALSE\n",
              " [8245] FALSE FALSE FALSE FALSE FALSE FALSE FALSE  TRUE  TRUE FALSE FALSE FALSE\n",
              " [8257]  TRUE FALSE FALSE FALSE FALSE FALSE FALSE FALSE FALSE FALSE FALSE FALSE\n",
              " [8269]  TRUE FALSE FALSE FALSE FALSE FALSE FALSE FALSE FALSE FALSE FALSE FALSE\n",
              " [8281] FALSE  TRUE  TRUE FALSE FALSE FALSE FALSE FALSE  TRUE FALSE FALSE  TRUE\n",
              " [8293]  TRUE FALSE FALSE FALSE FALSE FALSE FALSE FALSE FALSE FALSE FALSE FALSE\n",
              " [8305] FALSE FALSE FALSE FALSE FALSE FALSE FALSE FALSE FALSE FALSE  TRUE FALSE\n",
              " [8317]  TRUE FALSE FALSE FALSE FALSE FALSE FALSE FALSE FALSE FALSE FALSE FALSE\n",
              " [8329] FALSE  TRUE FALSE FALSE FALSE FALSE FALSE FALSE  TRUE FALSE FALSE  TRUE\n",
              " [8341] FALSE FALSE  TRUE FALSE FALSE  TRUE FALSE FALSE FALSE FALSE FALSE FALSE\n",
              " [8353]  TRUE FALSE FALSE FALSE FALSE FALSE FALSE FALSE  TRUE  TRUE  TRUE  TRUE\n",
              " [8365] FALSE FALSE FALSE FALSE  TRUE FALSE  TRUE  TRUE FALSE FALSE FALSE  TRUE\n",
              " [8377] FALSE FALSE FALSE FALSE  TRUE FALSE FALSE FALSE FALSE FALSE FALSE FALSE\n",
              " [8389] FALSE FALSE FALSE  TRUE FALSE FALSE FALSE FALSE  TRUE FALSE FALSE FALSE\n",
              " [8401] FALSE FALSE FALSE FALSE FALSE  TRUE FALSE FALSE FALSE  TRUE  TRUE FALSE\n",
              " [8413] FALSE FALSE FALSE FALSE FALSE  TRUE FALSE FALSE FALSE FALSE FALSE FALSE\n",
              " [8425] FALSE FALSE FALSE FALSE FALSE FALSE FALSE  TRUE FALSE FALSE FALSE FALSE\n",
              " [8437] FALSE FALSE FALSE  TRUE  TRUE FALSE  TRUE FALSE FALSE FALSE FALSE FALSE\n",
              " [8449] FALSE FALSE  TRUE FALSE  TRUE  TRUE FALSE FALSE FALSE FALSE FALSE FALSE\n",
              " [8461] FALSE FALSE FALSE FALSE FALSE FALSE FALSE  TRUE FALSE  TRUE FALSE FALSE\n",
              " [8473]  TRUE FALSE FALSE FALSE FALSE FALSE FALSE  TRUE FALSE  TRUE FALSE  TRUE\n",
              " [8485] FALSE FALSE FALSE  TRUE FALSE FALSE FALSE  TRUE FALSE FALSE  TRUE FALSE\n",
              " [8497] FALSE FALSE FALSE FALSE FALSE FALSE FALSE FALSE  TRUE FALSE FALSE FALSE\n",
              " [8509] FALSE FALSE FALSE FALSE FALSE FALSE FALSE FALSE FALSE FALSE FALSE FALSE\n",
              " [8521]  TRUE FALSE FALSE FALSE FALSE FALSE FALSE  TRUE FALSE FALSE FALSE  TRUE\n",
              " [8533] FALSE  TRUE FALSE FALSE  TRUE FALSE FALSE FALSE  TRUE FALSE FALSE FALSE\n",
              " [8545] FALSE FALSE FALSE FALSE FALSE FALSE FALSE FALSE FALSE  TRUE FALSE FALSE\n",
              " [8557] FALSE FALSE FALSE FALSE FALSE FALSE FALSE FALSE FALSE FALSE FALSE FALSE\n",
              " [8569] FALSE FALSE  TRUE FALSE FALSE FALSE FALSE FALSE  TRUE FALSE FALSE FALSE\n",
              " [8581] FALSE FALSE FALSE FALSE FALSE FALSE FALSE FALSE FALSE FALSE FALSE FALSE\n",
              " [8593] FALSE  TRUE FALSE FALSE FALSE FALSE FALSE  TRUE FALSE FALSE FALSE FALSE\n",
              " [8605] FALSE FALSE FALSE  TRUE FALSE  TRUE FALSE  TRUE FALSE FALSE FALSE FALSE\n",
              " [8617] FALSE FALSE  TRUE  TRUE  TRUE FALSE  TRUE FALSE FALSE FALSE FALSE FALSE\n",
              " [8629] FALSE FALSE  TRUE  TRUE FALSE FALSE FALSE FALSE FALSE FALSE  TRUE  TRUE\n",
              " [8641]  TRUE  TRUE FALSE FALSE  TRUE  TRUE FALSE FALSE FALSE FALSE FALSE  TRUE\n",
              " [8653] FALSE  TRUE FALSE  TRUE FALSE FALSE FALSE FALSE FALSE FALSE FALSE FALSE\n",
              " [8665] FALSE FALSE FALSE FALSE FALSE FALSE  TRUE FALSE FALSE FALSE FALSE FALSE\n",
              " [8677] FALSE FALSE FALSE FALSE FALSE FALSE FALSE FALSE FALSE FALSE FALSE FALSE\n",
              " [8689] FALSE FALSE FALSE FALSE  TRUE  TRUE FALSE FALSE  TRUE FALSE FALSE FALSE\n",
              " [8701] FALSE FALSE FALSE FALSE FALSE FALSE FALSE  TRUE FALSE FALSE FALSE FALSE\n",
              " [8713]  TRUE FALSE FALSE FALSE FALSE FALSE  TRUE FALSE  TRUE  TRUE FALSE FALSE\n",
              " [8725] FALSE FALSE FALSE  TRUE FALSE FALSE FALSE FALSE  TRUE  TRUE FALSE  TRUE\n",
              " [8737] FALSE FALSE FALSE FALSE  TRUE FALSE FALSE  TRUE FALSE FALSE FALSE  TRUE\n",
              " [8749] FALSE FALSE FALSE FALSE FALSE FALSE FALSE FALSE FALSE FALSE  TRUE FALSE\n",
              " [8761] FALSE FALSE FALSE  TRUE FALSE FALSE FALSE FALSE FALSE FALSE FALSE  TRUE\n",
              " [8773] FALSE FALSE FALSE FALSE FALSE FALSE  TRUE FALSE FALSE FALSE FALSE  TRUE\n",
              " [8785] FALSE FALSE FALSE  TRUE FALSE  TRUE FALSE  TRUE FALSE FALSE FALSE  TRUE\n",
              " [8797] FALSE FALSE FALSE FALSE FALSE FALSE FALSE FALSE  TRUE FALSE FALSE  TRUE\n",
              " [8809]  TRUE  TRUE FALSE FALSE FALSE FALSE FALSE FALSE  TRUE FALSE FALSE FALSE\n",
              " [8821] FALSE FALSE FALSE  TRUE FALSE FALSE FALSE FALSE FALSE FALSE FALSE FALSE\n",
              " [8833]  TRUE FALSE  TRUE FALSE FALSE  TRUE FALSE  TRUE FALSE FALSE FALSE FALSE\n",
              " [8845] FALSE FALSE FALSE  TRUE FALSE FALSE FALSE FALSE FALSE FALSE FALSE FALSE\n",
              " [8857]  TRUE FALSE FALSE FALSE  TRUE FALSE FALSE FALSE FALSE  TRUE FALSE  TRUE\n",
              " [8869] FALSE  TRUE FALSE FALSE FALSE FALSE FALSE  TRUE FALSE FALSE FALSE FALSE\n",
              " [8881] FALSE  TRUE FALSE FALSE FALSE FALSE FALSE FALSE FALSE FALSE  TRUE FALSE\n",
              " [8893] FALSE FALSE FALSE  TRUE  TRUE FALSE FALSE  TRUE FALSE FALSE  TRUE FALSE\n",
              " [8905] FALSE FALSE FALSE FALSE  TRUE  TRUE FALSE FALSE FALSE  TRUE FALSE FALSE\n",
              " [8917] FALSE FALSE FALSE FALSE FALSE FALSE FALSE FALSE FALSE  TRUE FALSE FALSE\n",
              " [8929] FALSE FALSE FALSE FALSE FALSE FALSE FALSE FALSE FALSE FALSE  TRUE FALSE\n",
              " [8941] FALSE FALSE FALSE FALSE FALSE FALSE FALSE FALSE FALSE FALSE FALSE FALSE\n",
              " [8953] FALSE FALSE FALSE FALSE FALSE FALSE FALSE FALSE FALSE FALSE FALSE  TRUE\n",
              " [8965] FALSE FALSE FALSE FALSE FALSE FALSE FALSE  TRUE FALSE FALSE FALSE FALSE\n",
              " [8977] FALSE FALSE  TRUE FALSE FALSE FALSE  TRUE FALSE  TRUE FALSE  TRUE FALSE\n",
              " [8989]  TRUE FALSE FALSE FALSE FALSE FALSE FALSE FALSE  TRUE FALSE FALSE FALSE\n",
              " [9001] FALSE FALSE FALSE FALSE FALSE  TRUE FALSE FALSE  TRUE FALSE FALSE FALSE\n",
              " [9013] FALSE FALSE FALSE FALSE FALSE  TRUE FALSE FALSE FALSE  TRUE FALSE FALSE\n",
              " [9025] FALSE FALSE FALSE FALSE FALSE FALSE  TRUE FALSE FALSE  TRUE  TRUE FALSE\n",
              " [9037] FALSE FALSE FALSE FALSE FALSE  TRUE FALSE FALSE  TRUE FALSE FALSE FALSE\n",
              " [9049] FALSE FALSE  TRUE FALSE  TRUE FALSE FALSE FALSE  TRUE FALSE FALSE  TRUE\n",
              " [9061] FALSE FALSE FALSE FALSE FALSE FALSE FALSE FALSE FALSE FALSE FALSE FALSE\n",
              " [9073] FALSE FALSE FALSE FALSE FALSE FALSE  TRUE FALSE FALSE  TRUE FALSE FALSE\n",
              " [9085] FALSE FALSE FALSE FALSE FALSE FALSE FALSE FALSE FALSE FALSE FALSE FALSE\n",
              " [9097] FALSE FALSE FALSE FALSE  TRUE FALSE FALSE FALSE FALSE  TRUE  TRUE FALSE\n",
              " [9109] FALSE FALSE FALSE FALSE FALSE FALSE FALSE FALSE FALSE FALSE FALSE FALSE\n",
              " [9121] FALSE FALSE  TRUE  TRUE FALSE FALSE FALSE FALSE FALSE FALSE FALSE FALSE\n",
              " [9133] FALSE FALSE FALSE FALSE FALSE FALSE FALSE FALSE FALSE  TRUE FALSE  TRUE\n",
              " [9145] FALSE FALSE FALSE FALSE FALSE FALSE FALSE FALSE FALSE FALSE  TRUE FALSE\n",
              " [9157] FALSE FALSE FALSE FALSE FALSE FALSE  TRUE FALSE  TRUE FALSE FALSE FALSE\n",
              " [9169] FALSE FALSE FALSE FALSE  TRUE FALSE FALSE FALSE FALSE FALSE  TRUE  TRUE\n",
              " [9181] FALSE FALSE FALSE  TRUE FALSE  TRUE FALSE FALSE FALSE FALSE  TRUE FALSE\n",
              " [9193] FALSE FALSE FALSE FALSE FALSE FALSE FALSE FALSE FALSE  TRUE FALSE  TRUE\n",
              " [9205] FALSE FALSE FALSE FALSE FALSE  TRUE FALSE FALSE FALSE FALSE  TRUE FALSE\n",
              " [9217] FALSE FALSE FALSE FALSE FALSE FALSE FALSE FALSE FALSE FALSE FALSE FALSE\n",
              " [9229] FALSE FALSE FALSE FALSE  TRUE FALSE FALSE  TRUE FALSE  TRUE  TRUE FALSE\n",
              " [9241] FALSE FALSE FALSE FALSE FALSE FALSE FALSE FALSE FALSE FALSE FALSE FALSE\n",
              " [9253] FALSE FALSE  TRUE FALSE FALSE FALSE FALSE FALSE FALSE FALSE FALSE FALSE\n",
              " [9265] FALSE  TRUE FALSE FALSE  TRUE FALSE FALSE FALSE FALSE FALSE  TRUE FALSE\n",
              " [9277] FALSE FALSE FALSE FALSE FALSE FALSE FALSE FALSE FALSE FALSE FALSE FALSE\n",
              " [9289] FALSE FALSE FALSE FALSE FALSE FALSE FALSE FALSE  TRUE FALSE FALSE  TRUE\n",
              " [9301] FALSE FALSE FALSE FALSE FALSE FALSE  TRUE FALSE FALSE  TRUE FALSE FALSE\n",
              " [9313] FALSE FALSE FALSE FALSE  TRUE FALSE FALSE  TRUE FALSE FALSE FALSE FALSE\n",
              " [9325] FALSE FALSE FALSE FALSE FALSE  TRUE FALSE FALSE FALSE  TRUE FALSE FALSE\n",
              " [9337] FALSE FALSE FALSE FALSE FALSE FALSE FALSE FALSE FALSE FALSE FALSE FALSE\n",
              " [9349] FALSE FALSE FALSE  TRUE  TRUE FALSE FALSE FALSE FALSE FALSE FALSE  TRUE\n",
              " [9361]  TRUE  TRUE FALSE FALSE  TRUE  TRUE FALSE FALSE FALSE FALSE FALSE FALSE\n",
              " [9373] FALSE FALSE  TRUE FALSE FALSE FALSE FALSE  TRUE FALSE FALSE FALSE  TRUE\n",
              " [9385] FALSE FALSE FALSE  TRUE FALSE  TRUE FALSE  TRUE  TRUE  TRUE FALSE FALSE\n",
              " [9397] FALSE  TRUE FALSE  TRUE FALSE FALSE FALSE FALSE FALSE FALSE FALSE FALSE\n",
              " [9409] FALSE FALSE FALSE FALSE FALSE FALSE FALSE  TRUE FALSE  TRUE FALSE FALSE\n",
              " [9421] FALSE FALSE FALSE FALSE FALSE FALSE FALSE  TRUE FALSE  TRUE  TRUE FALSE\n",
              " [9433] FALSE FALSE FALSE FALSE FALSE FALSE FALSE FALSE FALSE FALSE  TRUE FALSE\n",
              " [9445] FALSE FALSE FALSE FALSE FALSE FALSE FALSE FALSE FALSE  TRUE FALSE FALSE\n",
              " [9457]  TRUE FALSE FALSE FALSE  TRUE FALSE FALSE FALSE FALSE FALSE FALSE FALSE\n",
              " [9469] FALSE FALSE  TRUE FALSE FALSE FALSE FALSE FALSE FALSE FALSE FALSE FALSE\n",
              " [9481] FALSE FALSE FALSE FALSE FALSE  TRUE FALSE FALSE FALSE FALSE FALSE FALSE\n",
              " [9493] FALSE  TRUE FALSE FALSE FALSE FALSE  TRUE  TRUE FALSE FALSE FALSE FALSE\n",
              " [9505] FALSE FALSE FALSE FALSE FALSE FALSE FALSE FALSE FALSE  TRUE FALSE FALSE\n",
              " [9517] FALSE  TRUE FALSE FALSE FALSE FALSE FALSE FALSE  TRUE FALSE FALSE FALSE\n",
              " [9529] FALSE FALSE  TRUE  TRUE FALSE FALSE FALSE FALSE FALSE FALSE FALSE FALSE\n",
              " [9541] FALSE FALSE FALSE FALSE FALSE FALSE FALSE  TRUE FALSE FALSE FALSE  TRUE\n",
              " [9553] FALSE FALSE FALSE FALSE FALSE FALSE FALSE FALSE FALSE FALSE FALSE FALSE\n",
              " [9565] FALSE FALSE FALSE  TRUE FALSE  TRUE FALSE FALSE FALSE FALSE FALSE  TRUE\n",
              " [9577] FALSE FALSE FALSE FALSE FALSE FALSE FALSE  TRUE FALSE  TRUE  TRUE FALSE\n",
              " [9589] FALSE FALSE FALSE FALSE FALSE FALSE FALSE FALSE FALSE  TRUE FALSE FALSE\n",
              " [9601]  TRUE FALSE FALSE FALSE FALSE  TRUE FALSE FALSE FALSE FALSE FALSE FALSE\n",
              " [9613] FALSE FALSE FALSE FALSE  TRUE FALSE FALSE FALSE FALSE  TRUE FALSE FALSE\n",
              " [9625]  TRUE FALSE FALSE  TRUE FALSE FALSE FALSE FALSE FALSE FALSE FALSE FALSE\n",
              " [9637]  TRUE  TRUE FALSE FALSE FALSE FALSE FALSE FALSE FALSE  TRUE FALSE FALSE\n",
              " [9649] FALSE FALSE FALSE FALSE FALSE  TRUE FALSE  TRUE FALSE FALSE FALSE FALSE\n",
              " [9661] FALSE FALSE  TRUE  TRUE FALSE FALSE FALSE  TRUE FALSE FALSE FALSE FALSE\n",
              " [9673] FALSE FALSE  TRUE  TRUE FALSE FALSE FALSE FALSE  TRUE FALSE FALSE  TRUE\n",
              " [9685]  TRUE FALSE  TRUE  TRUE  TRUE FALSE FALSE FALSE FALSE FALSE FALSE FALSE\n",
              " [9697] FALSE FALSE FALSE FALSE FALSE FALSE FALSE FALSE FALSE FALSE FALSE  TRUE\n",
              " [9709] FALSE FALSE FALSE FALSE  TRUE FALSE FALSE FALSE FALSE FALSE FALSE FALSE\n",
              " [9721] FALSE FALSE FALSE  TRUE FALSE FALSE FALSE FALSE  TRUE FALSE FALSE FALSE\n",
              " [9733] FALSE FALSE FALSE FALSE FALSE FALSE  TRUE FALSE FALSE FALSE FALSE FALSE\n",
              " [9745] FALSE FALSE FALSE FALSE FALSE FALSE FALSE FALSE  TRUE  TRUE  TRUE FALSE\n",
              " [9757] FALSE FALSE FALSE FALSE FALSE FALSE FALSE FALSE FALSE FALSE  TRUE FALSE\n",
              " [9769] FALSE FALSE  TRUE  TRUE FALSE  TRUE  TRUE FALSE  TRUE FALSE  TRUE FALSE\n",
              " [9781] FALSE FALSE  TRUE  TRUE FALSE  TRUE FALSE FALSE FALSE  TRUE FALSE FALSE\n",
              " [9793] FALSE FALSE  TRUE FALSE FALSE FALSE FALSE FALSE  TRUE FALSE FALSE FALSE\n",
              " [9805] FALSE FALSE FALSE FALSE FALSE FALSE  TRUE FALSE FALSE FALSE FALSE FALSE\n",
              " [9817] FALSE FALSE FALSE FALSE FALSE FALSE FALSE FALSE FALSE FALSE FALSE  TRUE\n",
              " [9829] FALSE FALSE  TRUE FALSE FALSE FALSE FALSE  TRUE FALSE FALSE FALSE FALSE\n",
              " [9841] FALSE FALSE FALSE FALSE FALSE FALSE  TRUE FALSE FALSE  TRUE FALSE FALSE\n",
              " [9853] FALSE  TRUE FALSE FALSE FALSE FALSE  TRUE FALSE FALSE FALSE  TRUE FALSE\n",
              " [9865] FALSE FALSE FALSE FALSE FALSE FALSE  TRUE FALSE FALSE  TRUE FALSE  TRUE\n",
              " [9877] FALSE FALSE FALSE FALSE FALSE FALSE FALSE FALSE FALSE FALSE  TRUE FALSE\n",
              " [9889] FALSE FALSE FALSE FALSE FALSE FALSE FALSE FALSE  TRUE FALSE FALSE FALSE\n",
              " [9901] FALSE FALSE FALSE FALSE FALSE FALSE FALSE FALSE FALSE FALSE FALSE  TRUE\n",
              " [9913]  TRUE FALSE FALSE FALSE FALSE FALSE FALSE FALSE FALSE FALSE FALSE FALSE\n",
              " [9925] FALSE FALSE FALSE FALSE FALSE  TRUE FALSE FALSE FALSE FALSE FALSE FALSE\n",
              " [9937] FALSE  TRUE FALSE FALSE FALSE FALSE FALSE FALSE FALSE FALSE FALSE FALSE\n",
              " [9949] FALSE FALSE FALSE FALSE FALSE FALSE FALSE FALSE FALSE FALSE FALSE FALSE\n",
              " [9961] FALSE FALSE FALSE  TRUE FALSE FALSE FALSE FALSE  TRUE FALSE FALSE  TRUE\n",
              " [9973] FALSE FALSE FALSE FALSE  TRUE FALSE FALSE FALSE FALSE FALSE FALSE FALSE\n",
              " [9985] FALSE FALSE FALSE FALSE FALSE FALSE  TRUE FALSE FALSE  TRUE  TRUE  TRUE\n",
              " [9997] FALSE FALSE FALSE FALSE"
            ]
          },
          "metadata": {}
        }
      ]
    },
    {
      "cell_type": "code",
      "source": [
        "# Via a simulation study\n",
        "mean(binomial_sims == 15)"
      ],
      "metadata": {
        "colab": {
          "base_uri": "https://localhost:8080/",
          "height": 34
        },
        "id": "2VurtAQDeMCO",
        "outputId": "55c7b42d-bff6-46ce-d153-5e06e4c75eba"
      },
      "execution_count": 3,
      "outputs": [
        {
          "output_type": "display_data",
          "data": {
            "text/html": [
              "0.1685"
            ],
            "text/markdown": "0.1685",
            "text/latex": "0.1685",
            "text/plain": [
              "[1] 0.1685"
            ]
          },
          "metadata": {}
        }
      ]
    },
    {
      "cell_type": "markdown",
      "source": [
        "### Binomial model formula\n",
        "\n",
        "In general, with:\n",
        "* $Y$ = number of “survive”\n",
        "* $n$ = sample size\n",
        "* $p$ = probability of a “survive”\n",
        "\n",
        "The binomial probability model is:\n",
        "\n",
        "$$P(Y=k) = {n \\choose k} p^k (1-p)^{n-k}; k = 0,1,...,n$$\n",
        "\n",
        "* k=15\n",
        "* n=20\n",
        "* P=0.80"
      ],
      "metadata": {
        "id": "F3XRPpADfZJm"
      }
    },
    {
      "cell_type": "code",
      "source": [
        "# Via exact calculation\n",
        "choose(20,15) *0.80^15*(0.80^15)"
      ],
      "metadata": {
        "colab": {
          "base_uri": "https://localhost:8080/",
          "height": 34
        },
        "id": "3Fy3a-qFfzYB",
        "outputId": "ba1fd332-fea3-4fd3-d020-711c1550ab20"
      },
      "execution_count": 4,
      "outputs": [
        {
          "output_type": "display_data",
          "data": {
            "text/html": [
              "19.1930223690806"
            ],
            "text/markdown": "19.1930223690806",
            "text/latex": "19.1930223690806",
            "text/plain": [
              "[1] 19.19302"
            ]
          },
          "metadata": {}
        }
      ]
    },
    {
      "cell_type": "code",
      "source": [
        "# Using the appropriate d---() function in R\n",
        "dbinom(15, size=20, prob = 0.80)"
      ],
      "metadata": {
        "colab": {
          "base_uri": "https://localhost:8080/",
          "height": 34
        },
        "id": "3XI4lldPgkt0",
        "outputId": "24c19157-5e09-432b-8fc2-df7a2fcfc558"
      },
      "execution_count": 5,
      "outputs": [
        {
          "output_type": "display_data",
          "data": {
            "text/html": [
              "0.17455952155688"
            ],
            "text/markdown": "0.17455952155688",
            "text/latex": "0.17455952155688",
            "text/plain": [
              "[1] 0.1745595"
            ]
          },
          "metadata": {}
        }
      ]
    },
    {
      "cell_type": "markdown",
      "source": [
        "# **B - Answer**\n",
        "- ***The probability that exactly 15 fish survive is 17.0% (simulation study)***\n",
        "- ***The probability that exactly 15 fish survive is 19.2% (exact calculation)***\n",
        "- ***The probability that exactly 15 fish survive is 17.5% ( dbinom() function in R)***"
      ],
      "metadata": {
        "id": "ZnMmqb7ieUnA"
      }
    },
    {
      "cell_type": "markdown",
      "source": [
        "## C)\n",
        "\n",
        "What is the probability that at least 15 fish survive?  Answer this in three ways:\n",
        "\n",
        "i. Via a simulation study  \n",
        "ii. Using the appropriate `d---()` function in R  \n",
        "iii. Using the appropriate `p---()` function in R"
      ],
      "metadata": {
        "id": "FLPIJzzB_uJn"
      }
    },
    {
      "cell_type": "code",
      "source": [
        "# simulation study\n",
        "mean(binomial_sims >= 15)"
      ],
      "metadata": {
        "colab": {
          "base_uri": "https://localhost:8080/",
          "height": 34
        },
        "id": "S3LN0QPJhzMf",
        "outputId": "a4ee3f6c-ae47-422e-cdde-071196a168ff"
      },
      "execution_count": 6,
      "outputs": [
        {
          "output_type": "display_data",
          "data": {
            "text/html": [
              "0.8027"
            ],
            "text/markdown": "0.8027",
            "text/latex": "0.8027",
            "text/plain": [
              "[1] 0.8027"
            ]
          },
          "metadata": {}
        }
      ]
    },
    {
      "cell_type": "code",
      "source": [
        "# d---() function in R\n",
        "1 - sum(dbinom(0:14, 20, 0.80))"
      ],
      "metadata": {
        "colab": {
          "base_uri": "https://localhost:8080/",
          "height": 34
        },
        "id": "kWoBiZ7RiC7w",
        "outputId": "e474387d-a466-4419-dd37-9f0d932eb980"
      },
      "execution_count": 7,
      "outputs": [
        {
          "output_type": "display_data",
          "data": {
            "text/html": [
              "0.80420778545955"
            ],
            "text/markdown": "0.80420778545955",
            "text/latex": "0.80420778545955",
            "text/plain": [
              "[1] 0.8042078"
            ]
          },
          "metadata": {}
        }
      ]
    },
    {
      "cell_type": "code",
      "source": [
        "# p---() function in R\n",
        "1 - pbinom(14, 20, 0.80)"
      ],
      "metadata": {
        "colab": {
          "base_uri": "https://localhost:8080/",
          "height": 34
        },
        "id": "ejnso9ngiRfE",
        "outputId": "29265301-aa6f-494d-9f74-884f87758af8"
      },
      "execution_count": 8,
      "outputs": [
        {
          "output_type": "display_data",
          "data": {
            "text/html": [
              "0.80420778545955"
            ],
            "text/markdown": "0.80420778545955",
            "text/latex": "0.80420778545955",
            "text/plain": [
              "[1] 0.8042078"
            ]
          },
          "metadata": {}
        }
      ]
    },
    {
      "cell_type": "markdown",
      "source": [
        "# **C - Answer**\n",
        "- ***The probability that at least 15 fish survive is 79.9% (simulation study)***\n",
        "- ***The probability that at least 15 fish survive is 80.4% (dbinom() function in R)***\n",
        "- ***The probability that at least 15 fish survive is 80.4% (pbinom() function in R)***"
      ],
      "metadata": {
        "id": "NpZOzVSFkhrv"
      }
    },
    {
      "cell_type": "markdown",
      "source": [
        "## D)\n",
        "\n",
        "How many fish would be expected to survive?  Answer this in two ways.\n",
        "\n",
        "i. Using a simulation study  \n",
        "ii. Using properties of the distribution of $Y$."
      ],
      "metadata": {
        "id": "RM3bBMH5DQp-"
      }
    },
    {
      "cell_type": "markdown",
      "source": [
        "$E(Y) = np$"
      ],
      "metadata": {
        "id": "9Yy3dwvnhaN2"
      }
    },
    {
      "cell_type": "code",
      "source": [
        "# Using a simulation study\n",
        "binomial_sims <- rbinom(10000, size=20, prob=0.80)\n",
        "mean(binomial_sims)"
      ],
      "metadata": {
        "colab": {
          "base_uri": "https://localhost:8080/",
          "height": 34
        },
        "id": "O8rcIZraeYkP",
        "outputId": "a043db24-2675-439a-e3ba-4e3782a95a98"
      },
      "execution_count": 9,
      "outputs": [
        {
          "output_type": "display_data",
          "data": {
            "text/html": [
              "16"
            ],
            "text/markdown": "16",
            "text/latex": "16",
            "text/plain": [
              "[1] 16"
            ]
          },
          "metadata": {}
        }
      ]
    },
    {
      "cell_type": "code",
      "source": [
        "# Using properties of the distribution of Y\n",
        "Y = 20 * 0.80\n",
        "Y"
      ],
      "metadata": {
        "colab": {
          "base_uri": "https://localhost:8080/",
          "height": 34
        },
        "id": "g2_KXmlKgmeT",
        "outputId": "ea614a7c-c6a7-42b4-b63a-83269ca0116e"
      },
      "execution_count": 10,
      "outputs": [
        {
          "output_type": "display_data",
          "data": {
            "text/html": [
              "16"
            ],
            "text/markdown": "16",
            "text/latex": "16",
            "text/plain": [
              "[1] 16"
            ]
          },
          "metadata": {}
        }
      ]
    },
    {
      "cell_type": "markdown",
      "source": [
        "# **D - Answer**\n",
        "- ***16.02 fish are expected to survive out of 20 (simulation study).***\n",
        "- ***16.00 fish are expected to survive out of 20 (Using properties of the distribution of Y)***"
      ],
      "metadata": {
        "id": "zDyyp026hxx7"
      }
    },
    {
      "cell_type": "markdown",
      "source": [
        "# Q2 (5 points)\n",
        "\n",
        "People whose blood type is O-negative are universal donors, meaning anyone can receive a blood transfusion of O-negative blood.  In the U.S., about 7.2% of people have O-negative blood.  A blood donor clinic has a goal of finding 10 O-negative individuals, and continues to screen volunteers until it has achieved its goal.  Define $Y$ to be the number of non-O-negative individuals who are screened before the clinic has met its goal."
      ],
      "metadata": {
        "id": "4vOrZyX8AACc"
      }
    },
    {
      "cell_type": "markdown",
      "source": [
        "## A)\n",
        "\n",
        "What probability model should we use to define probabilities for $Y$?  State the distribution of $Y$ using $Y\\sim$ notation, and justify your rationale for this choice."
      ],
      "metadata": {
        "id": "BdL11uccAACd"
      }
    },
    {
      "cell_type": "markdown",
      "source": [
        "# **A - Answer**\n",
        "***Negative Binomial model should be used for this problem. Because . . .***\n",
        "  - ***Each trial has one of two possible outcomes: \"screening O-negative blood\" or \"screening non-O-negative blood\".***\n",
        "  - ***The probability of \"success\" (screening O-negative blood) on each trial is the same (7.2%).***\n",
        "  - ***The random variable Y measures the number of failures before some pre-determined number of successes, r.***\n",
        "\n",
        "<br>\n",
        "\n",
        "***Y ~NB(r, p) = NB(r=10 * p=0.072)***\n",
        "  <br>\n",
        "  Where . . .\n",
        "\n",
        "  - ***r = 10 O-negative individuals***\n",
        "  - ***p = 0.072 (7.2%)***"
      ],
      "metadata": {
        "id": "7LHk0qNTi81t"
      }
    },
    {
      "cell_type": "markdown",
      "source": [
        "## B)\n",
        "\n",
        "What is the probability that it has to screen 100 people before achieving its goal?  Answer this in three ways:"
      ],
      "metadata": {
        "id": "WZ4DX1c0AACd"
      }
    },
    {
      "cell_type": "markdown",
      "source": [
        "i. Via a simulation study  \n",
        "ii. Via exact calculation (without using any `d---()` functions in R)  \n",
        "iii. Using the appropriate `d---()` function in R"
      ],
      "metadata": {
        "id": "Fm0E--uMa_nK"
      }
    },
    {
      "cell_type": "code",
      "source": [
        "# simulation study\n",
        "blood_samples <- rnbinom(100000, 10, 0.072)\n",
        "#head(blood_samples==100)\n",
        "mean(blood_samples==100)"
      ],
      "metadata": {
        "colab": {
          "base_uri": "https://localhost:8080/",
          "height": 34
        },
        "id": "Xdr5Ct6mmc_0",
        "outputId": "87525dcd-1f3e-4968-f4b0-89674834bf8d"
      },
      "execution_count": 11,
      "outputs": [
        {
          "output_type": "display_data",
          "data": {
            "text/html": [
              "0.00914"
            ],
            "text/markdown": "0.00914",
            "text/latex": "0.00914",
            "text/plain": [
              "[1] 0.00914"
            ]
          },
          "metadata": {}
        }
      ]
    },
    {
      "cell_type": "markdown",
      "source": [
        "![image.png](data:image/png;base64,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)\n"
      ],
      "metadata": {
        "id": "yohm7PlmnppN"
      }
    },
    {
      "cell_type": "code",
      "source": [
        "# exact calculation\n",
        "choose(100+10-1, 100)*0.072^10 * (1 - 0.072)^100"
      ],
      "metadata": {
        "colab": {
          "base_uri": "https://localhost:8080/",
          "height": 34
        },
        "id": "ebC7mSwBnMR5",
        "outputId": "a86df262-4475-44b3-e32a-2bb7fe2d88e5"
      },
      "execution_count": 12,
      "outputs": [
        {
          "output_type": "display_data",
          "data": {
            "text/html": [
              "0.00907571518425068"
            ],
            "text/markdown": "0.00907571518425068",
            "text/latex": "0.00907571518425068",
            "text/plain": [
              "[1] 0.009075715"
            ]
          },
          "metadata": {}
        }
      ]
    },
    {
      "cell_type": "code",
      "source": [
        "# d---() function in R\n",
        "dnbinom(100, 10, 0.072)"
      ],
      "metadata": {
        "colab": {
          "base_uri": "https://localhost:8080/",
          "height": 34
        },
        "id": "MDFLE5uNnTmp",
        "outputId": "ec591825-7685-4f3e-bcdb-183341bd30ed"
      },
      "execution_count": 13,
      "outputs": [
        {
          "output_type": "display_data",
          "data": {
            "text/html": [
              "0.00907571518425064"
            ],
            "text/markdown": "0.00907571518425064",
            "text/latex": "0.00907571518425064",
            "text/plain": [
              "[1] 0.009075715"
            ]
          },
          "metadata": {}
        }
      ]
    },
    {
      "cell_type": "markdown",
      "source": [
        "# **B - Answer**\n",
        "- ***The probability of screening 100 people before screening 10 O-negative individuals is 0.961% (simulation study)***\n",
        "- ***The probability of screening 100 people before screening 10 O-negative individuals is 0.908% (exact calculation)***\n",
        "- ***The probability of screening 100 people before screening 10 O-negative individuals is 0.908% (d---() function in R)***"
      ],
      "metadata": {
        "id": "5tX8ViZUomFT"
      }
    },
    {
      "cell_type": "markdown",
      "source": [
        "## C)\n",
        "\n",
        "What is the probability that the clinic has to screen 100 or fewer individuals to meet its goal?  Answer this in three ways:"
      ],
      "metadata": {
        "id": "Pt923mhBAACf"
      }
    },
    {
      "cell_type": "markdown",
      "source": [
        "\n",
        "i. Via a simulation study  \n",
        "ii. Using the appropriate `d---()` function in R  \n",
        "iii. Using the appropriate `p---()` function in R"
      ],
      "metadata": {
        "id": "krIvrWFTbBz5"
      }
    },
    {
      "cell_type": "code",
      "source": [
        "# simulation study\n",
        "mean(blood_samples <= 100)"
      ],
      "metadata": {
        "colab": {
          "base_uri": "https://localhost:8080/",
          "height": 34
        },
        "id": "mxWo_kLBpwkU",
        "outputId": "6c4dc521-3cd4-47d1-8f08-053e1c79b040"
      },
      "execution_count": 14,
      "outputs": [
        {
          "output_type": "display_data",
          "data": {
            "text/html": [
              "0.26537"
            ],
            "text/markdown": "0.26537",
            "text/latex": "0.26537",
            "text/plain": [
              "[1] 0.26537"
            ]
          },
          "metadata": {}
        }
      ]
    },
    {
      "cell_type": "code",
      "source": [
        "# d---() function in R\n",
        "sum(dnbinom(0:100, size = 10, prob = 0.072))"
      ],
      "metadata": {
        "colab": {
          "base_uri": "https://localhost:8080/",
          "height": 34
        },
        "id": "6TDXS0dSqFP3",
        "outputId": "3da874bc-4c39-4117-8f0d-29ae54289723"
      },
      "execution_count": 15,
      "outputs": [
        {
          "output_type": "display_data",
          "data": {
            "text/html": [
              "0.268397185255739"
            ],
            "text/markdown": "0.268397185255739",
            "text/latex": "0.268397185255739",
            "text/plain": [
              "[1] 0.2683972"
            ]
          },
          "metadata": {}
        }
      ]
    },
    {
      "cell_type": "code",
      "source": [
        "# p---() function in R\n",
        "pnbinom(100, 10, 0.072)"
      ],
      "metadata": {
        "colab": {
          "base_uri": "https://localhost:8080/",
          "height": 34
        },
        "id": "SNcPtCY4qE94",
        "outputId": "3a1654fa-3c90-4357-b9f7-dde415811bf0"
      },
      "execution_count": 16,
      "outputs": [
        {
          "output_type": "display_data",
          "data": {
            "text/html": [
              "0.268397185255739"
            ],
            "text/markdown": "0.268397185255739",
            "text/latex": "0.268397185255739",
            "text/plain": [
              "[1] 0.2683972"
            ]
          },
          "metadata": {}
        }
      ]
    },
    {
      "cell_type": "markdown",
      "source": [
        "# **C - Answer**\n",
        "- ***The probability of screening 100 people or fewer before screening 10 O-negative individuals is 27.04% (simulation study)***\n",
        "- ***The probability of screening 100 people or fewer before screening 10 O-negative individuals is 26.84% (d---() function in R)***\n",
        "- ***The probability of screening 100 people or fewer before screening 10 O-negative individuals is 26.84% (p---() function in R)***"
      ],
      "metadata": {
        "id": "rgr-M2SlsUYU"
      }
    },
    {
      "cell_type": "markdown",
      "source": [
        "## D)\n",
        "\n",
        "How many people should the clinic expect to have to screen before meeting its goal?  Answer this in two ways."
      ],
      "metadata": {
        "id": "Wo0dH8N1C58V"
      }
    },
    {
      "cell_type": "markdown",
      "source": [
        "\n",
        "i. Using a simulation study  \n",
        "ii. Using properties of the distribution of $Y$."
      ],
      "metadata": {
        "id": "Rw3GVX51bVE2"
      }
    },
    {
      "cell_type": "code",
      "source": [
        "# Using a simulation study\n",
        "blood_samples <- rnbinom(100000, 10, 0.072)\n",
        "mean(blood_samples)"
      ],
      "metadata": {
        "colab": {
          "base_uri": "https://localhost:8080/",
          "height": 34
        },
        "id": "bt9mBj7PtUIn",
        "outputId": "d531638a-f698-4c8e-aa11-e6b147362bdd"
      },
      "execution_count": 17,
      "outputs": [
        {
          "output_type": "display_data",
          "data": {
            "text/html": [
              "128.74073"
            ],
            "text/markdown": "128.74073",
            "text/latex": "128.74073",
            "text/plain": [
              "[1] 128.7407"
            ]
          },
          "metadata": {}
        }
      ]
    },
    {
      "cell_type": "code",
      "source": [
        "# Using properties of the distribution of Y.\n",
        "Y <- (10 * (1 - 0.072)) / 0.072\n",
        "Y"
      ],
      "metadata": {
        "colab": {
          "base_uri": "https://localhost:8080/",
          "height": 34
        },
        "id": "8m1-ON9BtbQk",
        "outputId": "37da5dd9-985b-412c-8958-b09c3bef9657"
      },
      "execution_count": 18,
      "outputs": [
        {
          "output_type": "display_data",
          "data": {
            "text/html": [
              "128.888888888889"
            ],
            "text/markdown": "128.888888888889",
            "text/latex": "128.888888888889",
            "text/plain": [
              "[1] 128.8889"
            ]
          },
          "metadata": {}
        }
      ]
    },
    {
      "cell_type": "markdown",
      "source": [
        "# **D - Answer**\n",
        "- ***129.00 people are expected to screen before screening 10 O-negative individuals (simulation study).***\n",
        "- ***128.89 people are expected to screen before screening 10 O-negative individuals (Using properties of the distribution of Y).***\n"
      ],
      "metadata": {
        "id": "oBYF8jzYu4mZ"
      }
    },
    {
      "cell_type": "markdown",
      "source": [
        "# Q3 (5 points)\n",
        "\n",
        "Cars pass a buy intersection at a rate of approximately 16 cars per minute.  Define $Y$ to be the number of cars that will cross in the next half-hour."
      ],
      "metadata": {
        "id": "xLc0rBplDdNH"
      }
    },
    {
      "cell_type": "markdown",
      "source": [
        "## A)\n",
        "\n",
        "What probability model should we use to define probabilities for $Y$?  State the distribution of $Y$ using $Y\\sim$ notation, and justify your rationale for this choice."
      ],
      "metadata": {
        "id": "4IKC_4rVDdNH"
      }
    },
    {
      "cell_type": "markdown",
      "source": [
        "# **A - Answer**\n",
        "***Poisson model should be used for this problem. Because . . .***\n",
        "  - ***We are interested in the number of occourances ($\\lambda$) in a specific time interval (t).***\n",
        "\n",
        "<br>\n",
        "\n",
        "***Y ~POI($\\lambda$, t) = POI($\\lambda$=16 * t=30) = POI(480)***\n",
        "  <br>\n",
        "  Where . . .\n",
        "\n",
        "  - ***$\\lambda$ = 16 cars/min***\n",
        "  - ***t = 30 minutes***"
      ],
      "metadata": {
        "id": "4EZek2y9eeOg"
      }
    },
    {
      "cell_type": "markdown",
      "source": [
        "## B)\n",
        "\n",
        "What is the probability that 500 cars pass by in the next half hour?  Answer this in three ways:"
      ],
      "metadata": {
        "id": "2Lm3PwKhDdNI"
      }
    },
    {
      "cell_type": "markdown",
      "source": [
        "i. Via a simulation study  \n",
        "ii. Via exact calculation (without using any `d---()` functions in R)  \n",
        "  - NOTE: exact calculation in `R` is impossible given the very large numbers involved; you will get `Inf` and `NaN`s returned.  So for this problem only you should *provide the mathematical formula you need to evaluate* to find this probability, instead of actually finding it.  \n",
        "  \n",
        "iii. Using the appropriate `d---()` function in R"
      ],
      "metadata": {
        "id": "UDyiDjpWBPmN"
      }
    },
    {
      "cell_type": "code",
      "source": [
        "# simulation study\n",
        "simulation_500 <- rpois(10000, 16*30)\n",
        "mean(simulation_500 == 500)"
      ],
      "metadata": {
        "colab": {
          "base_uri": "https://localhost:8080/",
          "height": 34
        },
        "id": "2BzQ1QxGg-sH",
        "outputId": "17493a9f-8151-4946-9694-2f34764efdf4"
      },
      "execution_count": 19,
      "outputs": [
        {
          "output_type": "display_data",
          "data": {
            "text/html": [
              "0.0112"
            ],
            "text/markdown": "0.0112",
            "text/latex": "0.0112",
            "text/plain": [
              "[1] 0.0112"
            ]
          },
          "metadata": {}
        }
      ]
    },
    {
      "cell_type": "code",
      "source": [
        "# exact calculation"
      ],
      "metadata": {
        "id": "K8cATMErjRpN"
      },
      "execution_count": 20,
      "outputs": []
    },
    {
      "cell_type": "markdown",
      "source": [
        "## Model over time\n",
        "\n",
        "* $Y$: random number of occurrences per $t$ time units\n",
        "* $\\lambda$: the average rate of occurrences per single unit of time\n",
        "* $t$: the number of time units over which we observe $Y$\n",
        "* $\\mu = \\lambda t$ : expected number of occurrences per $t$ time units\n",
        "\n",
        "$$P(Y=k) = \\frac{e^{-\\lambda t} (\\lambda t)^k}{k!}; k = 0, 1, 2, ...$$\n",
        "\n",
        "In this case we would say $Y \\sim POI(\\lambda t)$.\n",
        "\n",
        "$$P(Y=500) = \\frac{e^{-480} (480)^500}{500!};$$"
      ],
      "metadata": {
        "id": "r8WhySUzk7y5"
      }
    },
    {
      "cell_type": "code",
      "source": [
        "# d---() function in R\n",
        "dpois(500, lambda = 480)"
      ],
      "metadata": {
        "colab": {
          "base_uri": "https://localhost:8080/",
          "height": 34
        },
        "id": "tJDNMOinjXLV",
        "outputId": "ae09f4f8-0a58-46ec-97e9-9d0ddc328ce8"
      },
      "execution_count": 21,
      "outputs": [
        {
          "output_type": "display_data",
          "data": {
            "text/html": [
              "0.0118265708831306"
            ],
            "text/markdown": "0.0118265708831306",
            "text/latex": "0.0118265708831306",
            "text/plain": [
              "[1] 0.01182657"
            ]
          },
          "metadata": {}
        }
      ]
    },
    {
      "cell_type": "markdown",
      "source": [
        "# **B - Answer**\n",
        "- ***The probability of 500 cars pass by in the next half hour is 1.260% (simulation study)***\n",
        "- ***The probability of 500 cars pass by in the next half hour is 1.183% (d---() function in R)***\n"
      ],
      "metadata": {
        "id": "ZU36zzj2mgT0"
      }
    },
    {
      "cell_type": "markdown",
      "source": [
        "## C)\n",
        "\n",
        "What is the probability that at least 500 cars will pass by in the next half hour?  Answer this in three ways:"
      ],
      "metadata": {
        "id": "ydv4iilRDdNJ"
      }
    },
    {
      "cell_type": "markdown",
      "source": [
        "\n",
        "i. Via a simulation study  \n",
        "ii. Using the appropriate `d---()` function in R  \n",
        "iii. Using the appropriate `p---()` function in R"
      ],
      "metadata": {
        "id": "gDz3mYcIbNja"
      }
    },
    {
      "cell_type": "code",
      "source": [
        "# simulation study\n",
        "simulation_500 <- rpois(10000, 16*30)\n",
        "mean(simulation_500 >= 500)"
      ],
      "metadata": {
        "colab": {
          "base_uri": "https://localhost:8080/",
          "height": 34
        },
        "id": "HaoW89e2ncuh",
        "outputId": "388263d3-999f-4e96-a94b-8b3db895d2d6"
      },
      "execution_count": 22,
      "outputs": [
        {
          "output_type": "display_data",
          "data": {
            "text/html": [
              "0.1909"
            ],
            "text/markdown": "0.1909",
            "text/latex": "0.1909",
            "text/plain": [
              "[1] 0.1909"
            ]
          },
          "metadata": {}
        }
      ]
    },
    {
      "cell_type": "code",
      "source": [
        "# d---() function in R\n",
        "# sum up the probabilities for Y = 1, 2 . . . 500\n",
        "1 - sum(dpois(0:500, 480))"
      ],
      "metadata": {
        "colab": {
          "base_uri": "https://localhost:8080/",
          "height": 34
        },
        "id": "ToVx3ZpxoU06",
        "outputId": "27e362ef-f7df-4fcd-ba8c-d95ae8a8f6dc"
      },
      "execution_count": 23,
      "outputs": [
        {
          "output_type": "display_data",
          "data": {
            "text/html": [
              "0.174455402307194"
            ],
            "text/markdown": "0.174455402307194",
            "text/latex": "0.174455402307194",
            "text/plain": [
              "[1] 0.1744554"
            ]
          },
          "metadata": {}
        }
      ]
    },
    {
      "cell_type": "code",
      "source": [
        "# p---() function in R\n",
        "1 - ppois(500, lambda=480)"
      ],
      "metadata": {
        "colab": {
          "base_uri": "https://localhost:8080/",
          "height": 34
        },
        "id": "XSuexql6nFEm",
        "outputId": "57640b79-cfb7-4318-bfbf-b1bbe2d9e826"
      },
      "execution_count": 24,
      "outputs": [
        {
          "output_type": "display_data",
          "data": {
            "text/html": [
              "0.174455402307194"
            ],
            "text/markdown": "0.174455402307194",
            "text/latex": "0.174455402307194",
            "text/plain": [
              "[1] 0.1744554"
            ]
          },
          "metadata": {}
        }
      ]
    },
    {
      "cell_type": "markdown",
      "source": [
        "# **C - Answer**\n",
        "- ***The probability of at least 500 cars pass by in the next half hour is 18.28% (simulation study)***\n",
        "- ***The probability of at least 500 cars pass by in the next half hour is 17.45% (d---() function in R)***\n",
        "- ***The probability of at least 500 cars pass by in the next half hour is 17.45% (p---() function in R)***\n"
      ],
      "metadata": {
        "id": "K9dxKqsnpeEN"
      }
    },
    {
      "cell_type": "markdown",
      "source": [
        "## D)\n",
        "\n",
        "How many cars would be expected to drive by in the next half hour?  Answer this in two ways."
      ],
      "metadata": {
        "id": "ZyQlUN3nDdNL"
      }
    },
    {
      "cell_type": "markdown",
      "source": [
        "\n",
        "i. Using a simulation study  \n",
        "ii. Using properties of the distribution of $Y$."
      ],
      "metadata": {
        "id": "raCOeVz0bX_j"
      }
    },
    {
      "cell_type": "code",
      "source": [
        "# Using a simulation study\n",
        "simulation <- rpois(10000, 16*30)\n",
        "mean(simulation)"
      ],
      "metadata": {
        "colab": {
          "base_uri": "https://localhost:8080/",
          "height": 34
        },
        "id": "QtraH85Wp-iS",
        "outputId": "9e41dede-6e8c-4f76-d984-c548d35becf2"
      },
      "execution_count": 25,
      "outputs": [
        {
          "output_type": "display_data",
          "data": {
            "text/html": [
              "479.9408"
            ],
            "text/markdown": "479.9408",
            "text/latex": "479.9408",
            "text/plain": [
              "[1] 479.9408"
            ]
          },
          "metadata": {}
        }
      ]
    },
    {
      "cell_type": "code",
      "source": [
        "# Using properties of the distribution of Y\n",
        "# E(Y) = lambda * t\n",
        "E_Y = 16 * 30\n",
        "E_Y"
      ],
      "metadata": {
        "colab": {
          "base_uri": "https://localhost:8080/",
          "height": 34
        },
        "id": "I6HhtG3LqBme",
        "outputId": "059281fc-4964-465e-8532-63e7a5319750"
      },
      "execution_count": 26,
      "outputs": [
        {
          "output_type": "display_data",
          "data": {
            "text/html": [
              "480"
            ],
            "text/markdown": "480",
            "text/latex": "480",
            "text/plain": [
              "[1] 480"
            ]
          },
          "metadata": {}
        }
      ]
    },
    {
      "cell_type": "markdown",
      "source": [
        "# **D - Answer**\n",
        "- ***479.95 cars are expected to drive by in the next half hour (simulation study).***\n",
        "- ***480.00 cars are expected to drive by in the next half hour (Using properties of the distribution of Y).***"
      ],
      "metadata": {
        "id": "W9NZT-3urUN0"
      }
    },
    {
      "cell_type": "markdown",
      "source": [
        "# Q4 (20 points)\n",
        "\n",
        "One of the earliest applications of the Poisson model was in 1898, when Ladislaus von Bortkiewicz published his analysis of deaths by horse kicks in the Prussian cavalry.  He gathered data on the number of deaths by horse kick for 14 cavalry corps over the course of 20 years."
      ],
      "metadata": {
        "id": "z20_PqP8m1mV"
      }
    },
    {
      "cell_type": "code",
      "source": [
        "kickdf <- read.csv('https://www.dropbox.com/s/o4zs941hxyh8fch/horse_kick_deaths.csv?dl=1')\n",
        "head(kickdf)"
      ],
      "metadata": {
        "colab": {
          "base_uri": "https://localhost:8080/",
          "height": 286
        },
        "id": "wTUVi3pspVMi",
        "outputId": "33429f3c-a03b-4c8f-fd97-4c735d0e1bcd"
      },
      "execution_count": 27,
      "outputs": [
        {
          "output_type": "display_data",
          "data": {
            "text/html": [
              "<table class=\"dataframe\">\n",
              "<caption>A data.frame: 6 × 3</caption>\n",
              "<thead>\n",
              "\t<tr><th></th><th scope=col>ndeaths</th><th scope=col>year</th><th scope=col>corp</th></tr>\n",
              "\t<tr><th></th><th scope=col>&lt;int&gt;</th><th scope=col>&lt;int&gt;</th><th scope=col>&lt;chr&gt;</th></tr>\n",
              "</thead>\n",
              "<tbody>\n",
              "\t<tr><th scope=row>1</th><td>0</td><td>1875</td><td>G</td></tr>\n",
              "\t<tr><th scope=row>2</th><td>2</td><td>1876</td><td>G</td></tr>\n",
              "\t<tr><th scope=row>3</th><td>2</td><td>1877</td><td>G</td></tr>\n",
              "\t<tr><th scope=row>4</th><td>1</td><td>1878</td><td>G</td></tr>\n",
              "\t<tr><th scope=row>5</th><td>0</td><td>1879</td><td>G</td></tr>\n",
              "\t<tr><th scope=row>6</th><td>0</td><td>1880</td><td>G</td></tr>\n",
              "</tbody>\n",
              "</table>\n"
            ],
            "text/markdown": "\nA data.frame: 6 × 3\n\n| <!--/--> | ndeaths &lt;int&gt; | year &lt;int&gt; | corp &lt;chr&gt; |\n|---|---|---|---|\n| 1 | 0 | 1875 | G |\n| 2 | 2 | 1876 | G |\n| 3 | 2 | 1877 | G |\n| 4 | 1 | 1878 | G |\n| 5 | 0 | 1879 | G |\n| 6 | 0 | 1880 | G |\n\n",
            "text/latex": "A data.frame: 6 × 3\n\\begin{tabular}{r|lll}\n  & ndeaths & year & corp\\\\\n  & <int> & <int> & <chr>\\\\\n\\hline\n\t1 & 0 & 1875 & G\\\\\n\t2 & 2 & 1876 & G\\\\\n\t3 & 2 & 1877 & G\\\\\n\t4 & 1 & 1878 & G\\\\\n\t5 & 0 & 1879 & G\\\\\n\t6 & 0 & 1880 & G\\\\\n\\end{tabular}\n",
            "text/plain": [
              "  ndeaths year corp\n",
              "1 0       1875 G   \n",
              "2 2       1876 G   \n",
              "3 2       1877 G   \n",
              "4 1       1878 G   \n",
              "5 0       1879 G   \n",
              "6 0       1880 G   "
            ]
          },
          "metadata": {}
        }
      ]
    },
    {
      "cell_type": "markdown",
      "source": [
        "Each row in the data is one corp-year.  There are $14 \\times 20 = 280$ rows:"
      ],
      "metadata": {
        "id": "2SNhQ13VpYm6"
      }
    },
    {
      "cell_type": "code",
      "source": [
        "dim(kickdf)"
      ],
      "metadata": {
        "colab": {
          "base_uri": "https://localhost:8080/",
          "height": 34
        },
        "id": "rJsDZxswLoF0",
        "outputId": "e2981d88-0d4e-49e5-9a97-b911b1366750"
      },
      "execution_count": 28,
      "outputs": [
        {
          "output_type": "display_data",
          "data": {
            "text/html": [
              "<style>\n",
              ".list-inline {list-style: none; margin:0; padding: 0}\n",
              ".list-inline>li {display: inline-block}\n",
              ".list-inline>li:not(:last-child)::after {content: \"\\00b7\"; padding: 0 .5ex}\n",
              "</style>\n",
              "<ol class=list-inline><li>280</li><li>3</li></ol>\n"
            ],
            "text/markdown": "1. 280\n2. 3\n\n\n",
            "text/latex": "\\begin{enumerate*}\n\\item 280\n\\item 3\n\\end{enumerate*}\n",
            "text/plain": [
              "[1] 280   3"
            ]
          },
          "metadata": {}
        }
      ]
    },
    {
      "cell_type": "markdown",
      "source": [
        "## A)\n",
        "\n",
        "Let $Y$ represent the number of deaths by horse kicks in a single corps-year.  Explain why a Poisson distribution is a reasonable probability model for $Y$."
      ],
      "metadata": {
        "id": "OV8bJvBurxYs"
      }
    },
    {
      "cell_type": "markdown",
      "source": [
        "# **A - Answer**\n",
        "***Poisson model should be used for this problem. Because . . .***\n",
        "  - ***We are interested in the number of occourances ($\\lambda$) in a specific time interval (t).***\n",
        "\n",
        "<br>\n",
        "\n",
        "***Y ~POI($\\lambda$, t)***\n",
        "  <br>\n",
        "  Where . . .\n",
        "\n",
        "  - ***$\\lambda$ = ?***\n",
        "  - ***t = 1 corp-year***"
      ],
      "metadata": {
        "id": "l2kqUVKnNX8G"
      }
    },
    {
      "cell_type": "markdown",
      "source": [
        "## B)\n",
        "\n",
        "For each $k$ observed in the data, find $\\hat P(Y=k)$,  the observed proportion of corps-years in which $k$ deaths occurred.  Create a bar graph of these results.  \n",
        "\n"
      ],
      "metadata": {
        "id": "ZtNS_gHnukcm"
      }
    },
    {
      "cell_type": "code",
      "source": [
        "library(ggplot2)\n",
        "\n",
        "#This code expands the default plot size:\n",
        "options(repr.plot.width=10, repr.plot.height=8)"
      ],
      "metadata": {
        "id": "Y5zVqnuehExN"
      },
      "execution_count": 68,
      "outputs": []
    },
    {
      "cell_type": "code",
      "source": [
        "# Create a data frame with k values and observed probabilities\n",
        "data <- data.frame(k = factor(0:4),\n",
        "                   observed = c(0.5143, 0.3250, 0.1143, 0.0393, 0.0071)\n",
        "                   )\n",
        "\n",
        "ggplot(data, aes(x = k, y = observed)) +\n",
        "  geom_bar(stat = \"identity\", width = 0.5, alpha = 0.7) +\n",
        "  labs(title = \"Observed Probability Distribution\",\n",
        "       x = \"Category (k)\",\n",
        "       y = \"Observed Probability\")"
      ],
      "metadata": {
        "colab": {
          "base_uri": "https://localhost:8080/",
          "height": 497
        },
        "id": "GCHYN3OseyUq",
        "outputId": "da101ca9-9640-48a8-dc00-acd8491b9fde"
      },
      "execution_count": 69,
      "outputs": [
        {
          "output_type": "display_data",
          "data": {
            "text/plain": [
              "plot without title"
            ],
            "image/png": "[encoded data removed]"
          },
          "metadata": {
            "image/png": {
              "width": 600,
              "height": 480
            }
          }
        }
      ]
    },
    {
      "cell_type": "markdown",
      "source": [
        "## C)\n",
        "\n",
        "Consider three possible probability models:\n",
        "\n",
        "* Model 1: $Y\\sim POI(\\lambda = 0.5)$\n",
        "  - ***$\\mu$ = 0.5 * 1 corp-year = 0.5***\n",
        "  - ***Y ~POI(10)***\n",
        "* Model 2: $Y\\sim POI(\\lambda = 0.7)$\n",
        "  - ***$\\mu$ = 0.7 * 1 corp-year = 0.7***\n",
        "  - ***Y ~POI(14)***\n",
        "* Model 3: $Y\\sim POI(\\lambda = 1)$\n",
        "  - ***$\\mu$ = 1.0 * 1 corp-year = 1***\n",
        "  - ***Y ~POI(20)***\n",
        "\n",
        "We want to determine which of these models fits best.  To do this, complete the following table:\n",
        "\n",
        "\n",
        "| $k$ | $\\hat P(Y=k)$ |  $P_1(Y=k)$ | $P_2(Y=k)$ | $P_3(Y=k)$ |\n",
        "| --- | --- | --- | --- | --- |\n",
        "| 0 | 0.5143  | 0.6065  | 0.4966  | 0.3679 |\n",
        "| 1 | 0.3250  | 0.3033  | 0.3476  | 0.3679 |\n",
        "| 2 | 0.1143  | 0.0758  | 0.1217  | 0.1839 |\n",
        "| 3 | 0.0393  | 0.0126  | 0.0284  | 0.0613 |\n",
        "| 4 | 0.0071  | 0.0016  | 0.0050  | 0.0153 |\n",
        "\n",
        "Where $\\hat P(Y=k)$ is the observed proportion of times in which $k$ deaths occur in the data, and $P_i(Y=k)$ represents the Poisson-modeled probabilities of each $k$ using Model $i$ for $i= 1, 2, 3$."
      ],
      "metadata": {
        "id": "JTnukQvPu-Su"
      }
    },
    {
      "cell_type": "code",
      "source": [
        "# Create a frequency table of observed deaths\n",
        "observed_counts <- table(kickdf$ndeaths)\n",
        "\n",
        "# Calculate the total number of observations\n",
        "total_observations <- sum(observed_counts)\n",
        "\n",
        "# Convert counts to probabilities (relative frequencies)\n",
        "observed_probabilities <- observed_counts / total_observations\n",
        "\n",
        "# Print the probabilities for k = 0, 1, 2, 3, 4, 5 (or any range you're interested in)\n",
        "round(observed_probabilities[0:5],4)"
      ],
      "metadata": {
        "colab": {
          "base_uri": "https://localhost:8080/",
          "height": 69
        },
        "id": "6vwjtKP9hi7c",
        "outputId": "23f2018d-a0bc-415f-e3ac-dbf5768ff2c3"
      },
      "execution_count": 34,
      "outputs": [
        {
          "output_type": "display_data",
          "data": {
            "text/plain": [
              "\n",
              "     0      1      2      3      4 \n",
              "0.5143 0.3250 0.1143 0.0393 0.0071 "
            ]
          },
          "metadata": {}
        }
      ]
    },
    {
      "cell_type": "code",
      "source": [
        "# Model 1: Y ~POI(0.5)\n",
        "round(dpois(0:4, 0.5), 4)"
      ],
      "metadata": {
        "colab": {
          "base_uri": "https://localhost:8080/",
          "height": 34
        },
        "id": "xGfAui5SW2ig",
        "outputId": "34788c2c-4836-4972-d0b6-d94eb46a6874"
      },
      "execution_count": 52,
      "outputs": [
        {
          "output_type": "display_data",
          "data": {
            "text/html": [
              "<style>\n",
              ".list-inline {list-style: none; margin:0; padding: 0}\n",
              ".list-inline>li {display: inline-block}\n",
              ".list-inline>li:not(:last-child)::after {content: \"\\00b7\"; padding: 0 .5ex}\n",
              "</style>\n",
              "<ol class=list-inline><li>0.6065</li><li>0.3033</li><li>0.0758</li><li>0.0126</li><li>0.0016</li></ol>\n"
            ],
            "text/markdown": "1. 0.6065\n2. 0.3033\n3. 0.0758\n4. 0.0126\n5. 0.0016\n\n\n",
            "text/latex": "\\begin{enumerate*}\n\\item 0.6065\n\\item 0.3033\n\\item 0.0758\n\\item 0.0126\n\\item 0.0016\n\\end{enumerate*}\n",
            "text/plain": [
              "[1] 0.6065 0.3033 0.0758 0.0126 0.0016"
            ]
          },
          "metadata": {}
        }
      ]
    },
    {
      "cell_type": "code",
      "source": [
        "# Model 2: Y ~POI(0.7)\n",
        "round(dpois(0:4, 0.7),4)"
      ],
      "metadata": {
        "colab": {
          "base_uri": "https://localhost:8080/",
          "height": 34
        },
        "id": "aDwPoHatbBcw",
        "outputId": "8381df4c-1d5e-4413-9d51-c0639e30c75c"
      },
      "execution_count": 51,
      "outputs": [
        {
          "output_type": "display_data",
          "data": {
            "text/html": [
              "<style>\n",
              ".list-inline {list-style: none; margin:0; padding: 0}\n",
              ".list-inline>li {display: inline-block}\n",
              ".list-inline>li:not(:last-child)::after {content: \"\\00b7\"; padding: 0 .5ex}\n",
              "</style>\n",
              "<ol class=list-inline><li>0.4966</li><li>0.3476</li><li>0.1217</li><li>0.0284</li><li>0.005</li></ol>\n"
            ],
            "text/markdown": "1. 0.4966\n2. 0.3476\n3. 0.1217\n4. 0.0284\n5. 0.005\n\n\n",
            "text/latex": "\\begin{enumerate*}\n\\item 0.4966\n\\item 0.3476\n\\item 0.1217\n\\item 0.0284\n\\item 0.005\n\\end{enumerate*}\n",
            "text/plain": [
              "[1] 0.4966 0.3476 0.1217 0.0284 0.0050"
            ]
          },
          "metadata": {}
        }
      ]
    },
    {
      "cell_type": "code",
      "source": [
        "# Model 3: Y ~POI(1)\n",
        "round(dpois(0:4, 1),4)"
      ],
      "metadata": {
        "colab": {
          "base_uri": "https://localhost:8080/",
          "height": 34
        },
        "id": "AwaITPQSh593",
        "outputId": "c4faaeb4-037e-4f43-fa8b-cb48522b726c"
      },
      "execution_count": 50,
      "outputs": [
        {
          "output_type": "display_data",
          "data": {
            "text/html": [
              "<style>\n",
              ".list-inline {list-style: none; margin:0; padding: 0}\n",
              ".list-inline>li {display: inline-block}\n",
              ".list-inline>li:not(:last-child)::after {content: \"\\00b7\"; padding: 0 .5ex}\n",
              "</style>\n",
              "<ol class=list-inline><li>0.3679</li><li>0.3679</li><li>0.1839</li><li>0.0613</li><li>0.0153</li></ol>\n"
            ],
            "text/markdown": "1. 0.3679\n2. 0.3679\n3. 0.1839\n4. 0.0613\n5. 0.0153\n\n\n",
            "text/latex": "\\begin{enumerate*}\n\\item 0.3679\n\\item 0.3679\n\\item 0.1839\n\\item 0.0613\n\\item 0.0153\n\\end{enumerate*}\n",
            "text/plain": [
              "[1] 0.3679 0.3679 0.1839 0.0613 0.0153"
            ]
          },
          "metadata": {}
        }
      ]
    },
    {
      "cell_type": "markdown",
      "source": [
        "## D)\n",
        "\n",
        "Find the residual sum of squares (RSS) for each of the three models,  defined to be:\n",
        "\n",
        "$$RSS_i = \\sum_{k=0}^4 \\left(\\hat P(Y=k) - P_i(Y=k)\\right)^2$$\n",
        "\n",
        "Using this metric, which model appears to fit these data best?"
      ],
      "metadata": {
        "id": "uvJQFF9fH58o"
      }
    },
    {
      "cell_type": "markdown",
      "source": [
        "| $k$ | $\\hat P(Y=k)$ |  $P_1(Y=k)$ | $P_2(Y=k)$ | $P_3(Y=k)$ |\n",
        "| --- | --- | --- | --- | --- |\n",
        "| 0 | 0.5143  | 0.6065  | 0.4966  | 0.3679 |\n",
        "| 1 | 0.3250  | 0.3033  | 0.3476  | 0.3679 |\n",
        "| 2 | 0.1143  | 0.0758  | 0.1217  | 0.1839 |\n",
        "| 3 | 0.0393  | 0.0126  | 0.0284  | 0.0613 |\n",
        "| 4 | 0.0071  | 0.0016  | 0.0050  | 0.0153 |"
      ],
      "metadata": {
        "id": "51M0Yvq5ZEPd"
      }
    },
    {
      "cell_type": "markdown",
      "source": [
        "# **D - Answer:**\n",
        "***It appears that the Model 2 has the smallest RSS and the best fit.***"
      ],
      "metadata": {
        "id": "Sb-90QDxZFlA"
      }
    },
    {
      "cell_type": "code",
      "source": [
        "RSS_1 = (0.5143 - 0.6065)^2 + (0.3250 - 0.3033)^2 + (0.1143 - 0.0758)^2 + (0.0393 - 0.0126)^2 + (0.0071 - 0.0016)^2\n",
        "RSS_1"
      ],
      "metadata": {
        "colab": {
          "base_uri": "https://localhost:8080/",
          "height": 34
        },
        "id": "4llYHaKnZxB6",
        "outputId": "ef9e7969-dfb2-4ff2-dad9-6bdd41e27c33"
      },
      "execution_count": 54,
      "outputs": [
        {
          "output_type": "display_data",
          "data": {
            "text/html": [
              "0.01119712"
            ],
            "text/markdown": "0.01119712",
            "text/latex": "0.01119712",
            "text/plain": [
              "[1] 0.01119712"
            ]
          },
          "metadata": {}
        }
      ]
    },
    {
      "cell_type": "code",
      "source": [
        "RSS_2 = (0.5143 - 0.4966)^2 + (0.3250 - 0.3476)^2 + (0.1143 - 0.1217)^2 + (0.0393 - 0.0284)^2 + (0.0071 - 0.0050)^2\n",
        "RSS_2"
      ],
      "metadata": {
        "colab": {
          "base_uri": "https://localhost:8080/",
          "height": 34
        },
        "id": "awzQcygVaE8N",
        "outputId": "54f55026-d88f-4a97-9680-eb9552390827"
      },
      "execution_count": 55,
      "outputs": [
        {
          "output_type": "display_data",
          "data": {
            "text/html": [
              "0.00100203"
            ],
            "text/markdown": "0.00100203",
            "text/latex": "0.00100203",
            "text/plain": [
              "[1] 0.00100203"
            ]
          },
          "metadata": {}
        }
      ]
    },
    {
      "cell_type": "code",
      "source": [
        "RSS_3 = (0.5143 - 0.3679)^2 + (0.3250 - 0.3679)^2 + (0.1143 - 0.1839)^2 + (0.0393 - 0.0613)^2 + (0.0071 - 0.0153)^2\n",
        "RSS_3"
      ],
      "metadata": {
        "colab": {
          "base_uri": "https://localhost:8080/",
          "height": 34
        },
        "id": "7X8lpcOuagik",
        "outputId": "5a878b6d-05b9-4dda-9362-b8ad5b37d11e"
      },
      "execution_count": 56,
      "outputs": [
        {
          "output_type": "display_data",
          "data": {
            "text/html": [
              "0.02866877"
            ],
            "text/markdown": "0.02866877",
            "text/latex": "0.02866877",
            "text/plain": [
              "[1] 0.02866877"
            ]
          },
          "metadata": {}
        }
      ]
    },
    {
      "cell_type": "markdown",
      "source": [
        "## E)\n",
        "\n",
        "Plot the analytic probability distribution of your \"best\" model.  Compare it to the bar graph from B.  How do they compare?"
      ],
      "metadata": {
        "id": "LvGqqo_PIlRe"
      }
    },
    {
      "cell_type": "code",
      "source": [
        "# Create a data frame with k values and predicted probabilities\n",
        "data <- data.frame(k = factor(0:4),\n",
        "                   predicted = c(0.4966, 0.3476, 0.1217, 0.0284, 0.0050)\n",
        "                   )\n",
        "\n",
        "ggplot(data, aes(x = k, y = predicted)) +\n",
        "  geom_bar(stat = \"identity\", width = 0.5, alpha = 0.7) +\n",
        "  labs(title = \"Predicted Probability Distribution\",\n",
        "       x = \"Category (k)\",\n",
        "       y = \"Predicted Probability\")"
      ],
      "metadata": {
        "colab": {
          "base_uri": "https://localhost:8080/",
          "height": 497
        },
        "id": "6LNoeToHdPGU",
        "outputId": "96163ac6-95ef-40ee-983f-4c8b7432e66c"
      },
      "execution_count": 70,
      "outputs": [
        {
          "output_type": "display_data",
          "data": {
            "text/plain": [
              "plot without title"
            ],
            "image/png": "[encoded data removed]"
          },
          "metadata": {
            "image/png": {
              "width": 600,
              "height": 480
            }
          }
        }
      ]
    },
    {
      "cell_type": "code",
      "source": [
        "# Create a data frame with k values, predicted, and actual probabilities\n",
        "data <- data.frame(\n",
        "  k = factor(rep(0:4, 2)),  # Repeat categories for both groups\n",
        "  probability = c(0.4966, 0.3476, 0.1217, 0.0284, 0.0050,   # Predicted\n",
        "                  0.5143, 0.3250, 0.1143, 0.0393, 0.0071),  # Actual\n",
        "  Type = rep(c(\"Predicted\", \"Actual\"), each = 5)  # Label for grouping\n",
        ")\n",
        "\n",
        "# Create the side-by-side bar plot\n",
        "ggplot(data, aes(x = k, y = probability, fill = Type)) +\n",
        "  geom_bar(stat = \"identity\", position = position_dodge(width = 0.6), width = 0.5) +\n",
        "  labs(title = \"Comparison of Predicted and Actual Probability Distributions\",\n",
        "       x = \"Category (k)\",\n",
        "       y = \"Probability\") +\n",
        "  scale_fill_manual(values = c(\"blue\", \"orange\")) +  # Set colors\n",
        "  theme_minimal()\n"
      ],
      "metadata": {
        "colab": {
          "base_uri": "https://localhost:8080/",
          "height": 497
        },
        "id": "weVbBOH4f10l",
        "outputId": "5faadf3a-d88b-44fe-c06b-5482c1db5a03"
      },
      "execution_count": 71,
      "outputs": [
        {
          "output_type": "display_data",
          "data": {
            "text/plain": [
              "plot without title"
            ],
            "image/png": "[encoded data removed]"
          },
          "metadata": {
            "image/png": {
              "width": 600,
              "height": 480
            }
          }
        }
      ]
    },
    {
      "cell_type": "markdown",
      "source": [
        "# **E - Answer:**\n",
        "***Based on the bar graph above, my model (Model 2) seems to predict the probability very well compared to the actual probability.***"
      ],
      "metadata": {
        "id": "VUm7lpylgvrJ"
      }
    },
    {
      "cell_type": "markdown",
      "source": [
        "# Q5 (20 points)\n",
        "\n",
        "Cardiovascular disease (CVD) is the leading cause of death and serious illness in the United States. In 1948, the Framingham Heart Study - under the direction of the National Heart Institute (now known as the National Heart, Lung, and Blood Institute or NHLBI) - embarked on an ambitious project in health research. The objective of the Framingham Heart Study was to identify the common factors or characteristics that contribute to CVD by following its development over a long period of time in a large group of participants who had not yet developed overt symptoms of CVD or suffered a heart attack or stroke. The researchers recruited 5,209 men and women between the ages of 30 and 62 from the town of Framingham, Massachusetts, and began the first round of extensive physical examinations and lifestyle interviews that they would later analyze for common patterns related to CVD development. Since 1948, the subjects have continued to return to the study every two years for a detailed medical history, physical examination, and laboratory tests.\n",
        "\n",
        "The data we'll look at here is a subset of the data collected as part of the Framingham study and includes data on 4,434 participants, each of which was followed for up to 24 years. For this problem we are concerned with two outcomes: hospitalized myocardial infarction and stroke as it relates to smoking.  A myocardial infarction (MI) is essentially a heart attack.\n",
        "\n",
        "\n",
        "The code below reads in the data and filters to consider only subjects between 50 and 59 years old who have never had a previous MI hospitalization or stroke; i.e. only those with `PREVSTRK` and `PREVMI` = `'Free of disease'`.  \n",
        "\n"
      ],
      "metadata": {
        "id": "WddBJHAoMCNW"
      }
    },
    {
      "cell_type": "code",
      "source": [
        "library(dplyr)\n",
        "framingham <- read.csv('https://www.dropbox.com/s/eafw1686bwa2hf7/Framingham_Subset.csv?dl=1') %>%\n",
        "  filter(AGE >= 50 & AGE <=59, PREVSTRK=='Free of disease', PREVMI == 'Free of disease') %>%\n",
        "  select(CURSMOKE,HOSPMI, TIMEMI, STROKE, TIMESTRK)\n"
      ],
      "metadata": {
        "id": "spKC8YyWOer_",
        "colab": {
          "base_uri": "https://localhost:8080/"
        },
        "outputId": "2a94850f-4c38-4dca-be9e-927ee3524897"
      },
      "execution_count": 39,
      "outputs": [
        {
          "output_type": "stream",
          "name": "stderr",
          "text": [
            "\n",
            "Attaching package: ‘dplyr’\n",
            "\n",
            "\n",
            "The following objects are masked from ‘package:stats’:\n",
            "\n",
            "    filter, lag\n",
            "\n",
            "\n",
            "The following objects are masked from ‘package:base’:\n",
            "\n",
            "    intersect, setdiff, setequal, union\n",
            "\n",
            "\n"
          ]
        }
      ]
    },
    {
      "cell_type": "code",
      "source": [
        "head(framingham)"
      ],
      "metadata": {
        "colab": {
          "base_uri": "https://localhost:8080/",
          "height": 286
        },
        "id": "QRNi_LpoeB14",
        "outputId": "32ab287d-ec1c-4890-967c-5de37a09ac75"
      },
      "execution_count": 40,
      "outputs": [
        {
          "output_type": "display_data",
          "data": {
            "text/html": [
              "<table class=\"dataframe\">\n",
              "<caption>A data.frame: 6 × 5</caption>\n",
              "<thead>\n",
              "\t<tr><th></th><th scope=col>CURSMOKE</th><th scope=col>HOSPMI</th><th scope=col>TIMEMI</th><th scope=col>STROKE</th><th scope=col>TIMESTRK</th></tr>\n",
              "\t<tr><th></th><th scope=col>&lt;int&gt;</th><th scope=col>&lt;int&gt;</th><th scope=col>&lt;int&gt;</th><th scope=col>&lt;int&gt;</th><th scope=col>&lt;int&gt;</th></tr>\n",
              "</thead>\n",
              "<tbody>\n",
              "\t<tr><th scope=row>1</th><td>0</td><td>0</td><td>8766</td><td>0</td><td>8766</td></tr>\n",
              "\t<tr><th scope=row>2</th><td>0</td><td>0</td><td>8766</td><td>0</td><td>8766</td></tr>\n",
              "\t<tr><th scope=row>3</th><td>0</td><td>1</td><td>6384</td><td>0</td><td>6410</td></tr>\n",
              "\t<tr><th scope=row>4</th><td>1</td><td>0</td><td>8766</td><td>0</td><td>8766</td></tr>\n",
              "\t<tr><th scope=row>5</th><td>0</td><td>0</td><td>1047</td><td>1</td><td> 724</td></tr>\n",
              "\t<tr><th scope=row>6</th><td>1</td><td>0</td><td>5839</td><td>0</td><td>5839</td></tr>\n",
              "</tbody>\n",
              "</table>\n"
            ],
            "text/markdown": "\nA data.frame: 6 × 5\n\n| <!--/--> | CURSMOKE &lt;int&gt; | HOSPMI &lt;int&gt; | TIMEMI &lt;int&gt; | STROKE &lt;int&gt; | TIMESTRK &lt;int&gt; |\n|---|---|---|---|---|---|\n| 1 | 0 | 0 | 8766 | 0 | 8766 |\n| 2 | 0 | 0 | 8766 | 0 | 8766 |\n| 3 | 0 | 1 | 6384 | 0 | 6410 |\n| 4 | 1 | 0 | 8766 | 0 | 8766 |\n| 5 | 0 | 0 | 1047 | 1 |  724 |\n| 6 | 1 | 0 | 5839 | 0 | 5839 |\n\n",
            "text/latex": "A data.frame: 6 × 5\n\\begin{tabular}{r|lllll}\n  & CURSMOKE & HOSPMI & TIMEMI & STROKE & TIMESTRK\\\\\n  & <int> & <int> & <int> & <int> & <int>\\\\\n\\hline\n\t1 & 0 & 0 & 8766 & 0 & 8766\\\\\n\t2 & 0 & 0 & 8766 & 0 & 8766\\\\\n\t3 & 0 & 1 & 6384 & 0 & 6410\\\\\n\t4 & 1 & 0 & 8766 & 0 & 8766\\\\\n\t5 & 0 & 0 & 1047 & 1 &  724\\\\\n\t6 & 1 & 0 & 5839 & 0 & 5839\\\\\n\\end{tabular}\n",
            "text/plain": [
              "  CURSMOKE HOSPMI TIMEMI STROKE TIMESTRK\n",
              "1 0        0      8766   0      8766    \n",
              "2 0        0      8766   0      8766    \n",
              "3 0        1      6384   0      6410    \n",
              "4 1        0      8766   0      8766    \n",
              "5 0        0      1047   1       724    \n",
              "6 1        0      5839   0      5839    "
            ]
          },
          "metadata": {}
        }
      ]
    },
    {
      "cell_type": "markdown",
      "source": [
        "The variables:\n",
        "\n",
        "* `CURSMOKE`: whether or not the participant was a smoker at baseline (1 = Y 0 = N)\n",
        "* `HOSPMI`: whether or not the participant was hospitalized for a myocardial infarction during the follow-up period, or whether the participant was censored.  Censoring is defined to be no hospitalization for MI observed before the study period ended, the subject died or was lost to follow-up. 1 = MI observed, 0 = Censored.\n",
        "* `STROKE`: same as `HOSPMI` but for stroke.\n",
        "* `TIMEMI`: Number of days from baseline exam to first hospitalized MI during the follow-up or number of days from MI to censor date, whichever came first.\n",
        "* `TIMESTRK`: same as `TIMEMI` but for stroke."
      ],
      "metadata": {
        "id": "Fg7I6QEQh_ak"
      }
    },
    {
      "cell_type": "markdown",
      "source": [
        "## A)\n",
        "\n",
        "Find the estimated rate of hospitalized MIs, and the estimated rate of stroke, per 1000 person-years of follow-up time for smokers and nonsmokers.  Enter these numbers in Table 1:\n",
        "\n",
        "\n",
        "**Table 1: Rate of adverse event per 1000 person-years**\n",
        "\n",
        "Smoking status | Hosp MI | Stroke |\n",
        "--- | --- | --- |\n",
        "Smoker | 6.2708 | 7.1007 |  \n",
        "Nonsmoker | 4.1162 | 5.2561 |"
      ],
      "metadata": {
        "id": "TdbB-FsbMdfk"
      }
    },
    {
      "cell_type": "code",
      "source": [
        "(framingham\n",
        "  %>% group_by(CURSMOKE)\n",
        "  %>% summarize(total_mi = sum(HOSPMI),\n",
        "                total_stroke = sum(STROKE),\n",
        "                total_person_days = sum(TIMEMI)\n",
        "                )\n",
        "  %>% mutate(total_person_years = total_person_days/365,\n",
        "             mi_rate = (total_mi / total_person_years) * 1000,\n",
        "             stroke_rate = (total_stroke / total_person_years) * 1000\n",
        "             )\n",
        ")"
      ],
      "metadata": {
        "colab": {
          "base_uri": "https://localhost:8080/",
          "height": 161
        },
        "id": "ULgZfSVHvr_I",
        "outputId": "73096f8f-9920-4932-d263-ac57ba75a1b3"
      },
      "execution_count": 41,
      "outputs": [
        {
          "output_type": "display_data",
          "data": {
            "text/html": [
              "<table class=\"dataframe\">\n",
              "<caption>A tibble: 2 × 7</caption>\n",
              "<thead>\n",
              "\t<tr><th scope=col>CURSMOKE</th><th scope=col>total_mi</th><th scope=col>total_stroke</th><th scope=col>total_person_days</th><th scope=col>total_person_years</th><th scope=col>mi_rate</th><th scope=col>stroke_rate</th></tr>\n",
              "\t<tr><th scope=col>&lt;int&gt;</th><th scope=col>&lt;int&gt;</th><th scope=col>&lt;int&gt;</th><th scope=col>&lt;int&gt;</th><th scope=col>&lt;dbl&gt;</th><th scope=col>&lt;dbl&gt;</th><th scope=col>&lt;dbl&gt;</th></tr>\n",
              "</thead>\n",
              "<tbody>\n",
              "\t<tr><td>0</td><td>65</td><td>83</td><td>5763804</td><td>15791.24</td><td>4.116205</td><td>5.256077</td></tr>\n",
              "\t<tr><td>1</td><td>68</td><td>77</td><td>3958052</td><td>10843.98</td><td>6.270761</td><td>7.100715</td></tr>\n",
              "</tbody>\n",
              "</table>\n"
            ],
            "text/markdown": "\nA tibble: 2 × 7\n\n| CURSMOKE &lt;int&gt; | total_mi &lt;int&gt; | total_stroke &lt;int&gt; | total_person_days &lt;int&gt; | total_person_years &lt;dbl&gt; | mi_rate &lt;dbl&gt; | stroke_rate &lt;dbl&gt; |\n|---|---|---|---|---|---|---|\n| 0 | 65 | 83 | 5763804 | 15791.24 | 4.116205 | 5.256077 |\n| 1 | 68 | 77 | 3958052 | 10843.98 | 6.270761 | 7.100715 |\n\n",
            "text/latex": "A tibble: 2 × 7\n\\begin{tabular}{lllllll}\n CURSMOKE & total\\_mi & total\\_stroke & total\\_person\\_days & total\\_person\\_years & mi\\_rate & stroke\\_rate\\\\\n <int> & <int> & <int> & <int> & <dbl> & <dbl> & <dbl>\\\\\n\\hline\n\t 0 & 65 & 83 & 5763804 & 15791.24 & 4.116205 & 5.256077\\\\\n\t 1 & 68 & 77 & 3958052 & 10843.98 & 6.270761 & 7.100715\\\\\n\\end{tabular}\n",
            "text/plain": [
              "  CURSMOKE total_mi total_stroke total_person_days total_person_years mi_rate \n",
              "1 0        65       83           5763804           15791.24           4.116205\n",
              "2 1        68       77           3958052           10843.98           6.270761\n",
              "  stroke_rate\n",
              "1 5.256077   \n",
              "2 7.100715   "
            ]
          },
          "metadata": {}
        }
      ]
    },
    {
      "cell_type": "markdown",
      "source": [
        "## B)\n",
        "\n",
        "A group of ten 50-59 year olds are followed for a period of time. The average amount of follow-up time was 3 years. Find the probability that at least one adverse event occurs during the follow-up period, if all the individuals have the same smoking status. Enter these in Table 2.\n",
        "\n",
        "**Table 2: *P(at least one adverse event)***\n",
        "\n",
        "Smoking status | Hosp MI | Stroke |\n",
        "--- | --- | --- |\n",
        "Smoker | 17.22% | 19.18% |  \n",
        "Nonsmoker | 11.57% | 14.70% |"
      ],
      "metadata": {
        "id": "Xy4lBHKuMw0H"
      }
    },
    {
      "cell_type": "markdown",
      "source": [
        "#Smoker MI\n",
        "***Y ~POI($\\lambda$ * t) = POI(0.0063 * 30) = POI(0.189)***\n",
        "<br>\n",
        "Where . . .\n",
        "  - ***$\\lambda$_smoker_MI (per 1000 person-years) = 6.2708***\n",
        "  - ***$\\lambda$_smoker_MI (per person-years) = 6.2708 / 1000 = 0.0063***\n",
        "  - ***t = Number of Individuals * Average Follow-Up Time = 10 * 3 years = 30***\n",
        "\n",
        "***The probability of at least one MI event occurring over the follow-up period is 17.22%***"
      ],
      "metadata": {
        "id": "OILmLeES7CCO"
      }
    },
    {
      "cell_type": "code",
      "source": [
        "# smoker MI\n",
        "# 17.22 %\n",
        "1 - ppois(0, 0.189)"
      ],
      "metadata": {
        "colab": {
          "base_uri": "https://localhost:8080/",
          "height": 34
        },
        "id": "dBMI6gOW5by0",
        "outputId": "e793a66a-f305-4c19-a208-a6321ae33ca2"
      },
      "execution_count": 42,
      "outputs": [
        {
          "output_type": "display_data",
          "data": {
            "text/html": [
              "0.172213493305266"
            ],
            "text/markdown": "0.172213493305266",
            "text/latex": "0.172213493305266",
            "text/plain": [
              "[1] 0.1722135"
            ]
          },
          "metadata": {}
        }
      ]
    },
    {
      "cell_type": "markdown",
      "source": [
        "#Nonsmoker MI\n",
        "***Y ~POI($\\lambda$ * t) = POI(0.0041 * 30) = POI(0.123)***\n",
        "<br>\n",
        "Where . . .\n",
        "  - ***$\\lambda$_NONsmoker_MI (per 1000 person-years) = 4.1162***\n",
        "  - ***$\\lambda$_NONsmoker_MI (per person-years) = 4.1162 / 1000 = 0.0041***\n",
        "  - ***t = Number of Individuals * Average Follow-Up Time = 10 * 3 years = 30***\n",
        "\n",
        "***The probability of at least one MI event occurring over the follow-up period is 11.57%***"
      ],
      "metadata": {
        "id": "hSqx7QtG4KaM"
      }
    },
    {
      "cell_type": "code",
      "source": [
        "# Nonsmoker MI\n",
        "# 11.57 %\n",
        "1 - ppois(0, 0.123)"
      ],
      "metadata": {
        "colab": {
          "base_uri": "https://localhost:8080/",
          "height": 34
        },
        "id": "9lrk36QA7xnp",
        "outputId": "658fa72a-8e74-4e1d-fb38-ef4132752b6f"
      },
      "execution_count": 43,
      "outputs": [
        {
          "output_type": "display_data",
          "data": {
            "text/html": [
              "0.115736337439179"
            ],
            "text/markdown": "0.115736337439179",
            "text/latex": "0.115736337439179",
            "text/plain": [
              "[1] 0.1157363"
            ]
          },
          "metadata": {}
        }
      ]
    },
    {
      "cell_type": "markdown",
      "source": [
        "#Smoker Stroke\n",
        "***Y ~POI($\\lambda$ * t) = POI(0.0071 * 30) = POI(0.213)***\n",
        "<br>\n",
        "Where . . .\n",
        "  - ***$\\lambda$_smoker_Stroke (per 1000 person-years) = 7.1007***\n",
        "  - ***$\\lambda$_smoker_Stroke (per person-years) = 7.1007 / 1000 = 0.0071***\n",
        "  - ***t = Number of Individuals * Average Follow-Up Time = 10 * 3 years = 30***\n",
        "\n",
        "***The probability of at least one MI event occurring over the follow-up period is 19.18%***"
      ],
      "metadata": {
        "id": "HYNbiNis_Yfi"
      }
    },
    {
      "cell_type": "code",
      "source": [
        "# Smoker Stroke\n",
        "# 11.57 %\n",
        "1 - ppois(0, 0.213)"
      ],
      "metadata": {
        "colab": {
          "base_uri": "https://localhost:8080/",
          "height": 34
        },
        "id": "STocxIZf_YL4",
        "outputId": "e61f7c6d-0064-4545-f3c1-5c424fe306b4"
      },
      "execution_count": 44,
      "outputs": [
        {
          "output_type": "display_data",
          "data": {
            "text/html": [
              "0.191843862783512"
            ],
            "text/markdown": "0.191843862783512",
            "text/latex": "0.191843862783512",
            "text/plain": [
              "[1] 0.1918439"
            ]
          },
          "metadata": {}
        }
      ]
    },
    {
      "cell_type": "markdown",
      "source": [
        "#Nonsmoker Stroke\n",
        "***Y ~POI($\\lambda$ * t) = POI(0.0053 * 30) = POI(0.159)***\n",
        "<br>\n",
        "Where . . .\n",
        "  - ***$\\lambda$_NONsmoker_Stroke (per 1000 person-years) = 5.2561***\n",
        "  - ***$\\lambda$_NONsmoker_Stroke (per person-years) = 5.2561 / 1000 = 0.0053***\n",
        "  - ***t = Number of Individuals * Average Follow-Up Time = 10 * 3 years = 30***\n",
        "\n",
        "***The probability of at least one MI event occurring over the follow-up period is 14.70%***"
      ],
      "metadata": {
        "id": "Wj3iIf8YAF6o"
      }
    },
    {
      "cell_type": "code",
      "source": [
        "# Smoker Stroke\n",
        "# 14.70 %\n",
        "1 - ppois(0, 0.159)"
      ],
      "metadata": {
        "colab": {
          "base_uri": "https://localhost:8080/",
          "height": 34
        },
        "id": "nbgKtwISFIlB",
        "outputId": "234afa61-2c71-426d-a828-cec2dde611ca"
      },
      "execution_count": 45,
      "outputs": [
        {
          "output_type": "display_data",
          "data": {
            "text/html": [
              "0.147003641030868"
            ],
            "text/markdown": "0.147003641030868",
            "text/latex": "0.147003641030868",
            "text/plain": [
              "[1] 0.1470036"
            ]
          },
          "metadata": {}
        }
      ]
    },
    {
      "cell_type": "markdown",
      "source": [
        "## C)\n",
        "\n",
        "Which $Y$ variable (occurrence of hospitalized MI, or stroke) appears to be most strongly associated with $X$ (smoking)? Justify your answer using the results of Tables 1 and 2.\n",
        "\n"
      ],
      "metadata": {
        "id": "XfNoIQOyND6W"
      }
    },
    {
      "cell_type": "markdown",
      "source": [
        "**Table 1: Rate of adverse event per 1000 person-years**\n",
        "\n",
        "Smoking status | Hosp MI | Stroke |\n",
        "--- | --- | --- |\n",
        "Smoker | 6.2708 | 7.1007 |  \n",
        "Nonsmoker | 4.1162 | 5.2561 |\n",
        "\n",
        "\n",
        "**Table 2: *P(at least one adverse event)***\n",
        "\n",
        "Smoking status | Hosp MI | Stroke |\n",
        "--- | --- | --- |\n",
        "Smoker | 17.22% | 19.18% |  \n",
        "Nonsmoker | 11.57% | 14.70% |"
      ],
      "metadata": {
        "id": "stgqHkd6Gaug"
      }
    },
    {
      "cell_type": "markdown",
      "source": [
        "# **C - Answer:**\n",
        "***Based on table 1 and 2, hospitalized MI (Y) seems to have a stronger association with smoking status (x).***\n",
        "\n",
        "## From Table 1\n",
        "***Smoking status has a bigger impact on MI than Stroke (52.34% increase).***\n",
        "<br>\n",
        "(6.2708 - 4.1162) / 4.1162 * 100 = 52.34% increase\n",
        "<br>\n",
        "(7.1007 - 5.2561) / 5.2561 * 100 = 35.08% increase\n",
        "\n",
        "## From Table 2\n",
        "***Smoking status has a bigger impact on MI than Stroke (5.65% increase).***\n",
        "<br>\n",
        "MI: 17.22 - 11.57 = 5.65% increase\n",
        "<br>\n",
        "Stroke: 19.18 - 14.70 = 4.48% increase"
      ],
      "metadata": {
        "id": "75JqbyO4HRsP"
      }
    },
    {
      "cell_type": "markdown",
      "source": [
        "# Q6 (15 points)\n",
        "\n",
        "Reconsider the Framingham data restricted to 50-59 year olds with no previous hospitalized MIs or strokes. We can test whether smoking is significantly related to an adverse outcome using the binomial distribution. Here’s how: Let $p=t_1/(t_1+t_0)$, where $t_0$ is the total amount of follow-up time for nonsmokers and $t_1$ is the total amount of follow-up time for smokers. Let $N$ represent the total number of observed adverse outcomes (for both smokers and non-smokers). Then, if smoking has no relationship with the incidence rate, $N$ should be distributed across the two groups only accordingly to the follow-up time in the two groups. Let $Y \\equiv$ number of observed adverse events among smokers.  We've now redefined $Y$ to be the number of 1's out of $N$ binary trials (adverse events), where 1 indicates that the adverse event happened to a smoker and 0 that it happened to a nonsmoker. Under the null hypothesis that smoking is not related to the incidence rate, $Y∼BIN(N,p)$.  Use this information to test whether smoking is significantly associated with hospitalized MI."
      ],
      "metadata": {
        "id": "IVOPK-9oNVt_"
      }
    },
    {
      "cell_type": "markdown",
      "source": [
        "## A)\n",
        "What percent of hospitalized MI person-time was spent following smokers?"
      ],
      "metadata": {
        "id": "KwaxwiMwN79g"
      }
    },
    {
      "cell_type": "markdown",
      "source": [
        "# **A - Answer:**\n",
        "***40.71% of hospitalized MI person-time was spent following smokers.***\n",
        "<br>\n",
        "\n",
        "***$p=t_1/(t_1+t_0)$ = 10843.98/(10843.98 + 15791.24) = 10843.98/26635.22 = 0.4071***\n",
        "<br>\n",
        "Where . . .\n",
        "  - ***$t_0$ = the total amount of follow-up time for nonsmokers = 15791.24***\n",
        "  - ***$t_1$ = the total amount of follow-up time for smokers = 10843.98***"
      ],
      "metadata": {
        "id": "dIzSxi2oLlYs"
      }
    },
    {
      "cell_type": "code",
      "source": [
        "(framingham\n",
        "  %>% group_by(CURSMOKE)\n",
        "  %>% summarise(total_person_days = sum(TIMEMI))\n",
        "  %>% mutate(total_person_years = total_person_days/365)\n",
        ")"
      ],
      "metadata": {
        "colab": {
          "base_uri": "https://localhost:8080/",
          "height": 161
        },
        "id": "U1W0uNi7Mj2u",
        "outputId": "c75f8f67-e78e-49a7-9b63-b719078dcdb1"
      },
      "execution_count": 46,
      "outputs": [
        {
          "output_type": "display_data",
          "data": {
            "text/html": [
              "<table class=\"dataframe\">\n",
              "<caption>A tibble: 2 × 3</caption>\n",
              "<thead>\n",
              "\t<tr><th scope=col>CURSMOKE</th><th scope=col>total_person_days</th><th scope=col>total_person_years</th></tr>\n",
              "\t<tr><th scope=col>&lt;int&gt;</th><th scope=col>&lt;int&gt;</th><th scope=col>&lt;dbl&gt;</th></tr>\n",
              "</thead>\n",
              "<tbody>\n",
              "\t<tr><td>0</td><td>5763804</td><td>15791.24</td></tr>\n",
              "\t<tr><td>1</td><td>3958052</td><td>10843.98</td></tr>\n",
              "</tbody>\n",
              "</table>\n"
            ],
            "text/markdown": "\nA tibble: 2 × 3\n\n| CURSMOKE &lt;int&gt; | total_person_days &lt;int&gt; | total_person_years &lt;dbl&gt; |\n|---|---|---|\n| 0 | 5763804 | 15791.24 |\n| 1 | 3958052 | 10843.98 |\n\n",
            "text/latex": "A tibble: 2 × 3\n\\begin{tabular}{lll}\n CURSMOKE & total\\_person\\_days & total\\_person\\_years\\\\\n <int> & <int> & <dbl>\\\\\n\\hline\n\t 0 & 5763804 & 15791.24\\\\\n\t 1 & 3958052 & 10843.98\\\\\n\\end{tabular}\n",
            "text/plain": [
              "  CURSMOKE total_person_days total_person_years\n",
              "1 0        5763804           15791.24          \n",
              "2 1        3958052           10843.98          "
            ]
          },
          "metadata": {}
        }
      ]
    },
    {
      "cell_type": "markdown",
      "source": [
        "## B)\n",
        "\n",
        "How many total hospitalized MIs were there, and how many of these would you expect to be smokers, given the person-time percents, if smoking has no relationship with hospitalized MI incidence rate?"
      ],
      "metadata": {
        "id": "-yvLZq7kN_iQ"
      }
    },
    {
      "cell_type": "markdown",
      "source": [
        "# **B - Answer:**\n",
        "***There were 133 total hospitalized MIs.***\n",
        "***I would expect 54 of them to be smokers.***\n",
        "<br>\n",
        "***$N$_smoker = p * total hospitalized MIs = 0.4071 * 133 = 54.14***"
      ],
      "metadata": {
        "id": "2iWLP75gQb_2"
      }
    },
    {
      "cell_type": "code",
      "source": [
        "(framingham\n",
        "  %>% group_by(HOSPMI)\n",
        "  %>% summarise(total_MI = sum(HOSPMI))\n",
        ")"
      ],
      "metadata": {
        "colab": {
          "base_uri": "https://localhost:8080/",
          "height": 161
        },
        "id": "LENzdC7RP-5S",
        "outputId": "bf3c353d-bfe2-40f3-a072-d9e3621c29fd"
      },
      "execution_count": 47,
      "outputs": [
        {
          "output_type": "display_data",
          "data": {
            "text/html": [
              "<table class=\"dataframe\">\n",
              "<caption>A tibble: 2 × 2</caption>\n",
              "<thead>\n",
              "\t<tr><th scope=col>HOSPMI</th><th scope=col>total_MI</th></tr>\n",
              "\t<tr><th scope=col>&lt;int&gt;</th><th scope=col>&lt;int&gt;</th></tr>\n",
              "</thead>\n",
              "<tbody>\n",
              "\t<tr><td>0</td><td>  0</td></tr>\n",
              "\t<tr><td>1</td><td>133</td></tr>\n",
              "</tbody>\n",
              "</table>\n"
            ],
            "text/markdown": "\nA tibble: 2 × 2\n\n| HOSPMI &lt;int&gt; | total_MI &lt;int&gt; |\n|---|---|\n| 0 |   0 |\n| 1 | 133 |\n\n",
            "text/latex": "A tibble: 2 × 2\n\\begin{tabular}{ll}\n HOSPMI & total\\_MI\\\\\n <int> & <int>\\\\\n\\hline\n\t 0 &   0\\\\\n\t 1 & 133\\\\\n\\end{tabular}\n",
            "text/plain": [
              "  HOSPMI total_MI\n",
              "1 0        0     \n",
              "2 1      133     "
            ]
          },
          "metadata": {}
        }
      ]
    },
    {
      "cell_type": "markdown",
      "source": [
        "## C)\n",
        "Use a one-sided p-value from a binomial distribution to determine whether the incidence rate of hospitalized MI is higher for smokers than for nonsmokers. Report your p-value and state your conclusion."
      ],
      "metadata": {
        "id": "R8d_iiYoOCv4"
      }
    },
    {
      "cell_type": "markdown",
      "source": [
        "***$H_0$ = Smoking is not associated with a higher incidence of hospitalized MI.***\n",
        "\n",
        "***$H_1$ = Smoking is associated with a higher incidence of hospitalized MI.***\n",
        "\n",
        "***Y ~BIN(N, p)***\n",
        "<br>\n",
        "Where . . .\n",
        "  - Y = observed number of hospitalized MIs in smokers = ***68***\n",
        "  - N = total number of hospitalized MIs (smokers + nonsmokers) = ***133***\n",
        "  - p =  proportion of person-time for smokers (***0.4071***)\n"
      ],
      "metadata": {
        "id": "RTc4Yhs2SbCE"
      }
    },
    {
      "cell_type": "code",
      "source": [
        "# observed number of hospitalized MIs among smokers = 68\n",
        "\n",
        "(framingham\n",
        "  %>% group_by(CURSMOKE, HOSPMI)\n",
        "  %>% summarise(total_mi = sum(HOSPMI))\n",
        ")"
      ],
      "metadata": {
        "colab": {
          "base_uri": "https://localhost:8080/",
          "height": 258
        },
        "id": "zE0YBJjdOoGY",
        "outputId": "fd7fff89-f34a-44e8-b56c-2d01d475a4ca"
      },
      "execution_count": 48,
      "outputs": [
        {
          "output_type": "stream",
          "name": "stderr",
          "text": [
            "\u001b[1m\u001b[22m`summarise()` has grouped output by 'CURSMOKE'. You can override using the\n",
            "`.groups` argument.\n"
          ]
        },
        {
          "output_type": "display_data",
          "data": {
            "text/html": [
              "<table class=\"dataframe\">\n",
              "<caption>A grouped_df: 4 × 3</caption>\n",
              "<thead>\n",
              "\t<tr><th scope=col>CURSMOKE</th><th scope=col>HOSPMI</th><th scope=col>total_mi</th></tr>\n",
              "\t<tr><th scope=col>&lt;int&gt;</th><th scope=col>&lt;int&gt;</th><th scope=col>&lt;int&gt;</th></tr>\n",
              "</thead>\n",
              "<tbody>\n",
              "\t<tr><td>0</td><td>0</td><td> 0</td></tr>\n",
              "\t<tr><td>0</td><td>1</td><td>65</td></tr>\n",
              "\t<tr><td>1</td><td>0</td><td> 0</td></tr>\n",
              "\t<tr><td>1</td><td>1</td><td>68</td></tr>\n",
              "</tbody>\n",
              "</table>\n"
            ],
            "text/markdown": "\nA grouped_df: 4 × 3\n\n| CURSMOKE &lt;int&gt; | HOSPMI &lt;int&gt; | total_mi &lt;int&gt; |\n|---|---|---|\n| 0 | 0 |  0 |\n| 0 | 1 | 65 |\n| 1 | 0 |  0 |\n| 1 | 1 | 68 |\n\n",
            "text/latex": "A grouped\\_df: 4 × 3\n\\begin{tabular}{lll}\n CURSMOKE & HOSPMI & total\\_mi\\\\\n <int> & <int> & <int>\\\\\n\\hline\n\t 0 & 0 &  0\\\\\n\t 0 & 1 & 65\\\\\n\t 1 & 0 &  0\\\\\n\t 1 & 1 & 68\\\\\n\\end{tabular}\n",
            "text/plain": [
              "  CURSMOKE HOSPMI total_mi\n",
              "1 0        0       0      \n",
              "2 0        1      65      \n",
              "3 1        0       0      \n",
              "4 1        1      68      "
            ]
          },
          "metadata": {}
        }
      ]
    },
    {
      "cell_type": "code",
      "source": [
        "p_value <- 1 - pbinom(68, 133, 0.4071)\n",
        "p_value"
      ],
      "metadata": {
        "colab": {
          "base_uri": "https://localhost:8080/",
          "height": 34
        },
        "id": "RAsqpzlyR1GM",
        "outputId": "264c3235-d983-4180-9204-633509039966"
      },
      "execution_count": 49,
      "outputs": [
        {
          "output_type": "display_data",
          "data": {
            "text/html": [
              "0.00598246890438792"
            ],
            "text/markdown": "0.00598246890438792",
            "text/latex": "0.00598246890438792",
            "text/plain": [
              "[1] 0.005982469"
            ]
          },
          "metadata": {}
        }
      ]
    },
    {
      "cell_type": "markdown",
      "source": [
        "# **C - Answer:**\n",
        "***We reject the null hypothesis and conclude that smoking is associated with a higher incidence of hospitalized MI (p = 0.0059).***"
      ],
      "metadata": {
        "id": "txhERWziVE8-"
      }
    }
  ]
}