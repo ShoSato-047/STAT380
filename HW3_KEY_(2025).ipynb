{
  "nbformat": 4,
  "nbformat_minor": 0,
  "metadata": {
    "colab": {
      "provenance": [],
      "include_colab_link": true
    },
    "kernelspec": {
      "name": "ir",
      "display_name": "R"
    },
    "language_info": {
      "name": "R"
    }
  },
  "cells": [
    {
      "cell_type": "markdown",
      "metadata": {
        "id": "view-in-github",
        "colab_type": "text"
      },
      "source": [
        "<a href=\"https://colab.research.google.com/github/ShoSato-047/STAT380/blob/main/HW3_KEY_(2025).ipynb\" target=\"_parent\"><img src=\"https://colab.research.google.com/assets/colab-badge.svg\" alt=\"Open In Colab\"/></a>"
      ]
    },
    {
      "cell_type": "markdown",
      "source": [
        "# INSTRUCTIONS\n",
        "\n",
        "Save a copy of this notebook in your Google drive.  Complete the HW and submit a **viewable** link (make sure to change share permissions from \"**Restricted**\" to \"**Anyone with link can view**\".\n",
        "\n",
        "***Bold and italicize the font of your responses.***"
      ],
      "metadata": {
        "id": "2d_GkM37erQa"
      }
    },
    {
      "cell_type": "markdown",
      "source": [
        "# Question 1 (30 points)\n",
        "\n",
        "In this question we investigate number of deaths caused by the HIV virus per year in the tri-state area of Iowa, Minnesota, and Wisconsin from 1999-2020.  Data accessed via the [CDC Wonder](https://wonder.cdc.gov/controller/saved/D76/D325F404) query system."
      ],
      "metadata": {
        "id": "AYfqmTyMgWF0"
      }
    },
    {
      "cell_type": "code",
      "source": [
        "hiv_deaths <- read.csv('https://www.dropbox.com/s/xt2hn9yro6h3hg2/hiv_deaths.csv?dl=1')\n",
        "head(hiv_deaths)"
      ],
      "metadata": {
        "colab": {
          "base_uri": "https://localhost:8080/",
          "height": 286
        },
        "id": "9Iebyeunhp5r",
        "outputId": "0bb3e67c-bc2f-4e03-c43f-2df5e684470b"
      },
      "execution_count": null,
      "outputs": [
        {
          "output_type": "display_data",
          "data": {
            "text/html": [
              "<table class=\"dataframe\">\n",
              "<caption>A data.frame: 6 × 4</caption>\n",
              "<thead>\n",
              "\t<tr><th></th><th scope=col>State</th><th scope=col>Year</th><th scope=col>Deaths</th><th scope=col>Population</th></tr>\n",
              "\t<tr><th></th><th scope=col>&lt;chr&gt;</th><th scope=col>&lt;int&gt;</th><th scope=col>&lt;int&gt;</th><th scope=col>&lt;int&gt;</th></tr>\n",
              "</thead>\n",
              "<tbody>\n",
              "\t<tr><th scope=row>1</th><td>Iowa</td><td>1999</td><td>21</td><td>2917634</td></tr>\n",
              "\t<tr><th scope=row>2</th><td>Iowa</td><td>2000</td><td>23</td><td>2926324</td></tr>\n",
              "\t<tr><th scope=row>3</th><td>Iowa</td><td>2001</td><td>18</td><td>2931997</td></tr>\n",
              "\t<tr><th scope=row>4</th><td>Iowa</td><td>2002</td><td>29</td><td>2934234</td></tr>\n",
              "\t<tr><th scope=row>5</th><td>Iowa</td><td>2003</td><td>20</td><td>2941999</td></tr>\n",
              "\t<tr><th scope=row>6</th><td>Iowa</td><td>2004</td><td>27</td><td>2953635</td></tr>\n",
              "</tbody>\n",
              "</table>\n"
            ],
            "text/markdown": "\nA data.frame: 6 × 4\n\n| <!--/--> | State &lt;chr&gt; | Year &lt;int&gt; | Deaths &lt;int&gt; | Population &lt;int&gt; |\n|---|---|---|---|---|\n| 1 | Iowa | 1999 | 21 | 2917634 |\n| 2 | Iowa | 2000 | 23 | 2926324 |\n| 3 | Iowa | 2001 | 18 | 2931997 |\n| 4 | Iowa | 2002 | 29 | 2934234 |\n| 5 | Iowa | 2003 | 20 | 2941999 |\n| 6 | Iowa | 2004 | 27 | 2953635 |\n\n",
            "text/latex": "A data.frame: 6 × 4\n\\begin{tabular}{r|llll}\n  & State & Year & Deaths & Population\\\\\n  & <chr> & <int> & <int> & <int>\\\\\n\\hline\n\t1 & Iowa & 1999 & 21 & 2917634\\\\\n\t2 & Iowa & 2000 & 23 & 2926324\\\\\n\t3 & Iowa & 2001 & 18 & 2931997\\\\\n\t4 & Iowa & 2002 & 29 & 2934234\\\\\n\t5 & Iowa & 2003 & 20 & 2941999\\\\\n\t6 & Iowa & 2004 & 27 & 2953635\\\\\n\\end{tabular}\n",
            "text/plain": [
              "  State Year Deaths Population\n",
              "1 Iowa  1999 21     2917634   \n",
              "2 Iowa  2000 23     2926324   \n",
              "3 Iowa  2001 18     2931997   \n",
              "4 Iowa  2002 29     2934234   \n",
              "5 Iowa  2003 20     2941999   \n",
              "6 Iowa  2004 27     2953635   "
            ]
          },
          "metadata": {}
        }
      ]
    },
    {
      "cell_type": "markdown",
      "source": [
        "Here the response variable $Y_i$ measures the number of occurrences (deaths) per unit time (1 year), so a Poisson distribution seems appropriate for modeling this response.  Specifically:\n",
        "\n",
        "$$P(Y_i = k_i; \\lambda) = \\frac{e^{-\\lambda\\cdot 1}(\\lambda\\cdot 1)^{k_i}}{k_i!} =  \\frac{e^{-\\lambda}\\lambda^{k_i}}{k_i!}$$"
      ],
      "metadata": {
        "id": "4cvhMnoGhsnF"
      }
    },
    {
      "cell_type": "markdown",
      "source": [
        "Recall for any model with parameter vector $\\theta$, the log-likelihood of the observed data $Y$ given values of $\\theta$ is:\n",
        "\n",
        "$$logLik(\\theta) = \\log\\left(\\prod_{i=1}^n P(Y_i = k_i;\\theta)\\right) =  \\sum_{i=1}^n \\log(P(Y_i = k_i))$$"
      ],
      "metadata": {
        "id": "TbpsXE9si8aM"
      }
    },
    {
      "cell_type": "markdown",
      "source": [
        "Consider **Model 1**, a Poisson model with a single parameter $\\lambda$ that is in common for all data values.  For this model, the log-likelihood is:\n",
        "\n",
        "$$logLik(\\lambda) = \\sum_{i=1}^n \\log\\left(\\frac{e^{-\\lambda}\\lambda^{k_i}}{k_i!}\\right),$$\n",
        "\n",
        "so each data row with observation $k_i$ HIV deaths contributes $\\log\\left(\\frac{e^{-\\lambda}\\lambda^{k_i}}{k_i!}\\right)$ to Model 1's log-likelihood."
      ],
      "metadata": {
        "id": "8VTUaqtYjDGK"
      }
    },
    {
      "cell_type": "markdown",
      "source": [
        "We want to also consider **Model 2**, a model with three parameters $(\\lambda_I, \\lambda_M, \\lambda_W)$ for Iowa, Minnesota, and Wisconsin, respectively, that allows the rate parameters to vary by state.  The Model 2 log-likelihood is:\n",
        "\n",
        "$$logLik(\\lambda_I, \\lambda_M, \\lambda_W) = \\sum_{all\\ k_i\\in IA}\\log\\left(\\frac{e^{-\\lambda_I}\\lambda_I^{k_i}}{k_i!}\\right) +\\sum_{all\\ k_i\\in MN}\\log\\left(\\frac{e^{-\\lambda_M}\\lambda_M^{k_i}}{k_i!}\\right) +\\sum_{all\\ k_i\\in WI}\\log\\left(\\frac{e^{-\\lambda_W}\\lambda_W^{k_i}}{k_i!}\\right) $$"
      ],
      "metadata": {
        "id": "d_YY0qaAmQWY"
      }
    },
    {
      "cell_type": "markdown",
      "source": [
        "## A) Warmup: Finding log-likelihood contributions\n",
        "\n",
        "Consider the following three states:"
      ],
      "metadata": {
        "id": "2Zv2_bkFnzsm"
      }
    },
    {
      "cell_type": "code",
      "source": [
        "library(dplyr)\n",
        "hiv_deaths %>%\n",
        "  slice(1, 25, 50)"
      ],
      "metadata": {
        "colab": {
          "base_uri": "https://localhost:8080/",
          "height": 192
        },
        "id": "Q8Bqwa_coWuq",
        "outputId": "19adfd6e-0968-4609-e7a1-61323a7e3fcb"
      },
      "execution_count": null,
      "outputs": [
        {
          "output_type": "display_data",
          "data": {
            "text/html": [
              "<table class=\"dataframe\">\n",
              "<caption>A data.frame: 3 × 4</caption>\n",
              "<thead>\n",
              "\t<tr><th scope=col>State</th><th scope=col>Year</th><th scope=col>Deaths</th><th scope=col>Population</th></tr>\n",
              "\t<tr><th scope=col>&lt;chr&gt;</th><th scope=col>&lt;int&gt;</th><th scope=col>&lt;int&gt;</th><th scope=col>&lt;int&gt;</th></tr>\n",
              "</thead>\n",
              "<tbody>\n",
              "\t<tr><td>Iowa     </td><td>1999</td><td>21</td><td>2917634</td></tr>\n",
              "\t<tr><td>Minnesota</td><td>2001</td><td>53</td><td>4982796</td></tr>\n",
              "\t<tr><td>Wisconsin</td><td>2004</td><td>48</td><td>5514026</td></tr>\n",
              "</tbody>\n",
              "</table>\n"
            ],
            "text/markdown": "\nA data.frame: 3 × 4\n\n| State &lt;chr&gt; | Year &lt;int&gt; | Deaths &lt;int&gt; | Population &lt;int&gt; |\n|---|---|---|---|\n| Iowa      | 1999 | 21 | 2917634 |\n| Minnesota | 2001 | 53 | 4982796 |\n| Wisconsin | 2004 | 48 | 5514026 |\n\n",
            "text/latex": "A data.frame: 3 × 4\n\\begin{tabular}{llll}\n State & Year & Deaths & Population\\\\\n <chr> & <int> & <int> & <int>\\\\\n\\hline\n\t Iowa      & 1999 & 21 & 2917634\\\\\n\t Minnesota & 2001 & 53 & 4982796\\\\\n\t Wisconsin & 2004 & 48 & 5514026\\\\\n\\end{tabular}\n",
            "text/plain": [
              "  State     Year Deaths Population\n",
              "1 Iowa      1999 21     2917634   \n",
              "2 Minnesota 2001 53     4982796   \n",
              "3 Wisconsin 2004 48     5514026   "
            ]
          },
          "metadata": {}
        }
      ]
    },
    {
      "cell_type": "markdown",
      "source": [
        "### i) Model 1\n",
        "\n",
        "What is the total contribution of these three data values to the Model 1 log-likelihood, as a function of $\\lambda$?"
      ],
      "metadata": {
        "id": "_00fTU8Sogkh"
      }
    },
    {
      "cell_type": "markdown",
      "source": [
        "$$\\log\\left(\\frac{e^{-\\lambda}\\lambda^{21}}{21!}\\right) + \\log\\left(\\frac{e^{-\\lambda}\\lambda^{53}}{53!}\\right) + \\log\\left(\\frac{e^{-\\lambda}\\lambda^{48}}{48!}\\right)$$"
      ],
      "metadata": {
        "id": "2eY7gbgeP2Nh"
      }
    },
    {
      "cell_type": "markdown",
      "source": [
        "### ii) Model 2\n",
        "\n",
        "What is the total contribution of these three data values to the Model 2 log-likelihood, as a function of $(\\lambda_I, \\lambda_M, \\lambda_W)$?"
      ],
      "metadata": {
        "id": "RMVaUeRQqQOe"
      }
    },
    {
      "cell_type": "markdown",
      "source": [
        "$$\\log\\left(\\frac{e^{-\\lambda_I}\\lambda_I^{21}}{21!}\\right) + \\log\\left(\\frac{e^{-\\lambda_M}\\lambda_M^{53}}{53!}\\right) + \\log\\left(\\frac{e^{-\\lambda_W}\\lambda_W^{48}}{48!}\\right)$$"
      ],
      "metadata": {
        "id": "UhPn9HyLQLeH"
      }
    },
    {
      "cell_type": "markdown",
      "source": [
        "## B) Writing the log-likelihood functions\n"
      ],
      "metadata": {
        "id": "wraagyM8ktgg"
      }
    },
    {
      "cell_type": "markdown",
      "source": [
        "### i) Model 1\n",
        "\n",
        "\n",
        "Write a function `loglik.model1(lambda)` that takes as an argument a single parameter $\\lambda$ and returns the log-likelihood of all the observed data values.  Check that it works by verifying `loglik.model1(30)` returns `-491.7487`."
      ],
      "metadata": {
        "id": "jw89rxturCaq"
      }
    },
    {
      "cell_type": "code",
      "source": [
        "loglik.model1 <- function(lambda) {\n",
        "  out <- sum(log(dpois(hiv_deaths$Deaths, lambda)))\n",
        "  return(out)\n",
        "}"
      ],
      "metadata": {
        "id": "_umKog4Jk7GO"
      },
      "execution_count": null,
      "outputs": []
    },
    {
      "cell_type": "code",
      "source": [
        "loglik.model1(30)"
      ],
      "metadata": {
        "colab": {
          "base_uri": "https://localhost:8080/",
          "height": 34
        },
        "id": "kT1seCwPlDkt",
        "outputId": "78325f7c-67f8-4f0c-a235-d354a42c54f2"
      },
      "execution_count": null,
      "outputs": [
        {
          "output_type": "display_data",
          "data": {
            "text/html": [
              "-491.748700297101"
            ],
            "text/markdown": "-491.748700297101",
            "text/latex": "-491.748700297101",
            "text/plain": [
              "[1] -491.7487"
            ]
          },
          "metadata": {}
        }
      ]
    },
    {
      "cell_type": "markdown",
      "source": [
        "### ii) Model 2\n",
        "\n",
        "Write a function `loglik.model2(lambdavec)` that takes as an argument a vector of 3 parameters $(\\lambda_I, \\lambda_M, \\lambda_W)$ and returns the log-likelihood of all the observed data values for those parameters.  Check that it works by verifying `loglik.model2(c(20, 50, 40))` returns `-315.1246367`.\n",
        "\n",
        "Hint: the code below calculates the contribution of each row to the Model 2 log-likelihood when $(\\lambda_I, \\lambda_M, \\lambda_W)=(30, 30, 30)$, then finds the total contribution."
      ],
      "metadata": {
        "id": "FZHGbV5FrJ_9"
      }
    },
    {
      "cell_type": "code",
      "source": [
        "lambdaI <- 20\n",
        "lambdaM  <- 50\n",
        "lambdaW <- 40\n",
        "example <- hiv_deaths %>%\n",
        "  mutate(model2.loglik.contribution = case_when(State=='Iowa'~log(dpois(Deaths, lambdaI)),\n",
        "                                                State=='Minnesota'~log(dpois(Deaths, lambdaM)),\n",
        "                                                State=='Wisconsin'~log(dpois(Deaths, lambdaW))\n",
        "                                                )\n",
        "        )"
      ],
      "metadata": {
        "id": "gRs2XXV_shSd"
      },
      "execution_count": null,
      "outputs": []
    },
    {
      "cell_type": "code",
      "source": [
        "head(example)"
      ],
      "metadata": {
        "colab": {
          "base_uri": "https://localhost:8080/",
          "height": 286
        },
        "id": "EsVKXv5kxYUh",
        "outputId": "9881344b-9a81-44a5-abe2-3f2e10bf1254"
      },
      "execution_count": null,
      "outputs": [
        {
          "output_type": "display_data",
          "data": {
            "text/html": [
              "<table class=\"dataframe\">\n",
              "<caption>A data.frame: 6 × 5</caption>\n",
              "<thead>\n",
              "\t<tr><th></th><th scope=col>State</th><th scope=col>Year</th><th scope=col>Deaths</th><th scope=col>Population</th><th scope=col>model2.loglik.contribution</th></tr>\n",
              "\t<tr><th></th><th scope=col>&lt;chr&gt;</th><th scope=col>&lt;int&gt;</th><th scope=col>&lt;int&gt;</th><th scope=col>&lt;int&gt;</th><th scope=col>&lt;dbl&gt;</th></tr>\n",
              "</thead>\n",
              "<tbody>\n",
              "\t<tr><th scope=row>1</th><td>Iowa</td><td>1999</td><td>21</td><td>2917634</td><td>-2.469761</td></tr>\n",
              "\t<tr><th scope=row>2</th><td>Iowa</td><td>2000</td><td>23</td><td>2926324</td><td>-2.704833</td></tr>\n",
              "\t<tr><th scope=row>3</th><td>Iowa</td><td>2001</td><td>18</td><td>2931997</td><td>-2.472264</td></tr>\n",
              "\t<tr><th scope=row>4</th><td>Iowa</td><td>2002</td><td>29</td><td>2934234</td><td>-4.380803</td></tr>\n",
              "\t<tr><th scope=row>5</th><td>Iowa</td><td>2003</td><td>20</td><td>2941999</td><td>-2.420971</td></tr>\n",
              "\t<tr><th scope=row>6</th><td>Iowa</td><td>2004</td><td>27</td><td>2953635</td><td>-3.672767</td></tr>\n",
              "</tbody>\n",
              "</table>\n"
            ],
            "text/markdown": "\nA data.frame: 6 × 5\n\n| <!--/--> | State &lt;chr&gt; | Year &lt;int&gt; | Deaths &lt;int&gt; | Population &lt;int&gt; | model2.loglik.contribution &lt;dbl&gt; |\n|---|---|---|---|---|---|\n| 1 | Iowa | 1999 | 21 | 2917634 | -2.469761 |\n| 2 | Iowa | 2000 | 23 | 2926324 | -2.704833 |\n| 3 | Iowa | 2001 | 18 | 2931997 | -2.472264 |\n| 4 | Iowa | 2002 | 29 | 2934234 | -4.380803 |\n| 5 | Iowa | 2003 | 20 | 2941999 | -2.420971 |\n| 6 | Iowa | 2004 | 27 | 2953635 | -3.672767 |\n\n",
            "text/latex": "A data.frame: 6 × 5\n\\begin{tabular}{r|lllll}\n  & State & Year & Deaths & Population & model2.loglik.contribution\\\\\n  & <chr> & <int> & <int> & <int> & <dbl>\\\\\n\\hline\n\t1 & Iowa & 1999 & 21 & 2917634 & -2.469761\\\\\n\t2 & Iowa & 2000 & 23 & 2926324 & -2.704833\\\\\n\t3 & Iowa & 2001 & 18 & 2931997 & -2.472264\\\\\n\t4 & Iowa & 2002 & 29 & 2934234 & -4.380803\\\\\n\t5 & Iowa & 2003 & 20 & 2941999 & -2.420971\\\\\n\t6 & Iowa & 2004 & 27 & 2953635 & -3.672767\\\\\n\\end{tabular}\n",
            "text/plain": [
              "  State Year Deaths Population model2.loglik.contribution\n",
              "1 Iowa  1999 21     2917634    -2.469761                 \n",
              "2 Iowa  2000 23     2926324    -2.704833                 \n",
              "3 Iowa  2001 18     2931997    -2.472264                 \n",
              "4 Iowa  2002 29     2934234    -4.380803                 \n",
              "5 Iowa  2003 20     2941999    -2.420971                 \n",
              "6 Iowa  2004 27     2953635    -3.672767                 "
            ]
          },
          "metadata": {}
        }
      ]
    },
    {
      "cell_type": "code",
      "source": [
        "loglik.model2 <- function(lambdavec) {\n",
        "  lambdaI <- lambdavec[1]\n",
        "  lambdaM <- lambdavec[2]\n",
        "  lambdaW <- lambdavec[3]\n",
        "  example <- hiv_deaths %>%\n",
        "  mutate(model2.loglik.contribution = case_when(State=='Iowa'~log(dpois(Deaths, lambdaI)),\n",
        "                                                State=='Minnesota'~log(dpois(Deaths, lambdaM)),\n",
        "                                                State=='Wisconsin'~log(dpois(Deaths, lambdaW))\n",
        "                                                )\n",
        "        )\n",
        "\n",
        "  out <- sum(example$model2.loglik.contribution)\n",
        "  return(out)\n",
        "}"
      ],
      "metadata": {
        "id": "5_PQc-XprsF4"
      },
      "execution_count": null,
      "outputs": []
    },
    {
      "cell_type": "code",
      "source": [
        "loglik.model2(c(20, 50, 40))"
      ],
      "metadata": {
        "id": "3qW5e2i5nnAM",
        "outputId": "12b1216d-5ac5-48ed-bc17-2a690d3c0df6",
        "colab": {
          "base_uri": "https://localhost:8080/",
          "height": 34
        }
      },
      "execution_count": null,
      "outputs": [
        {
          "output_type": "display_data",
          "data": {
            "text/html": [
              "-315.124636796004"
            ],
            "text/markdown": "-315.124636796004",
            "text/latex": "-315.124636796004",
            "text/plain": [
              "[1] -315.1246"
            ]
          },
          "metadata": {}
        }
      ]
    },
    {
      "cell_type": "markdown",
      "source": [
        "## C) Maximizing the log-likelihoods\n",
        "\n",
        "Find the maximum likelihood estimators (MLEs) for the two models:"
      ],
      "metadata": {
        "id": "DakTn-xBz5z6"
      }
    },
    {
      "cell_type": "markdown",
      "source": [
        "### i) Model 1\n",
        "\n",
        "Use `optimize()` and `loglik.model1()` to find the MLE of $\\lambda$ for the single-parameter Model 1.  Verify that the MLE is just the average number of deaths across all states in the data set."
      ],
      "metadata": {
        "id": "Vv61vBDI0GWh"
      }
    },
    {
      "cell_type": "code",
      "source": [
        "optimize(loglik.model1, interval = c(0,50), maximum=TRUE)"
      ],
      "metadata": {
        "colab": {
          "base_uri": "https://localhost:8080/",
          "height": 114
        },
        "id": "WefZe1C-K_-b",
        "outputId": "889b3375-8794-41bf-d8ef-9c340f744d1d"
      },
      "execution_count": null,
      "outputs": [
        {
          "output_type": "display_data",
          "data": {
            "text/html": [
              "<dl>\n",
              "\t<dt>$maximum</dt>\n",
              "\t\t<dd>36.7727233525634</dd>\n",
              "\t<dt>$objective</dt>\n",
              "\t\t<dd>-444.710808190839</dd>\n",
              "</dl>\n"
            ],
            "text/markdown": "$maximum\n:   36.7727233525634\n$objective\n:   -444.710808190839\n\n\n",
            "text/latex": "\\begin{description}\n\\item[\\$maximum] 36.7727233525634\n\\item[\\$objective] -444.710808190839\n\\end{description}\n",
            "text/plain": [
              "$maximum\n",
              "[1] 36.77272\n",
              "\n",
              "$objective\n",
              "[1] -444.7108\n"
            ]
          },
          "metadata": {}
        }
      ]
    },
    {
      "cell_type": "code",
      "source": [
        "mean(hiv_deaths$Deaths)"
      ],
      "metadata": {
        "colab": {
          "base_uri": "https://localhost:8080/",
          "height": 34
        },
        "id": "88KD8op0LJjs",
        "outputId": "7ddfca8d-d79e-49b8-8a8e-b5f34c972ec1"
      },
      "execution_count": null,
      "outputs": [
        {
          "output_type": "display_data",
          "data": {
            "text/html": [
              "36.7727272727273"
            ],
            "text/markdown": "36.7727272727273",
            "text/latex": "36.7727272727273",
            "text/plain": [
              "[1] 36.77273"
            ]
          },
          "metadata": {}
        }
      ]
    },
    {
      "cell_type": "markdown",
      "source": [
        "### ii) Model 2\n",
        "\n",
        "Use `optim()` and `loglik.model2()` to find the MLE of $(\\lambda_I, \\lambda_M, \\lambda_W)$ for the three-parameter Model 2.  Verify that the MLEs are the average number of deaths by state in the data set."
      ],
      "metadata": {
        "id": "nf6mun0F0Z3s"
      }
    },
    {
      "cell_type": "code",
      "source": [
        "optim(loglik.model2, par = c(30,30,30), control = list(fnscale = -1))"
      ],
      "metadata": {
        "colab": {
          "base_uri": "https://localhost:8080/",
          "height": 219
        },
        "id": "bseNhjFyLMDI",
        "outputId": "318c1afb-578d-4fe4-e34e-bb04e05cb954"
      },
      "execution_count": null,
      "outputs": [
        {
          "output_type": "display_data",
          "data": {
            "text/html": [
              "<dl>\n",
              "\t<dt>$par</dt>\n",
              "\t\t<dd><style>\n",
              ".list-inline {list-style: none; margin:0; padding: 0}\n",
              ".list-inline>li {display: inline-block}\n",
              ".list-inline>li:not(:last-child)::after {content: \"\\00b7\"; padding: 0 .5ex}\n",
              "</style>\n",
              "<ol class=list-inline><li>19.4995106990696</li><li>43.9498452579646</li><li>46.8610136819688</li></ol>\n",
              "</dd>\n",
              "\t<dt>$value</dt>\n",
              "\t\t<dd>-294.328520825565</dd>\n",
              "\t<dt>$counts</dt>\n",
              "\t\t<dd><style>\n",
              ".dl-inline {width: auto; margin:0; padding: 0}\n",
              ".dl-inline>dt, .dl-inline>dd {float: none; width: auto; display: inline-block}\n",
              ".dl-inline>dt::after {content: \":\\0020\"; padding-right: .5ex}\n",
              ".dl-inline>dt:not(:first-of-type) {padding-left: .5ex}\n",
              "</style><dl class=dl-inline><dt>function</dt><dd>136</dd><dt>gradient</dt><dd>&lt;NA&gt;</dd></dl>\n",
              "</dd>\n",
              "\t<dt>$convergence</dt>\n",
              "\t\t<dd>0</dd>\n",
              "\t<dt>$message</dt>\n",
              "\t\t<dd>NULL</dd>\n",
              "</dl>\n"
            ],
            "text/markdown": "$par\n:   1. 19.4995106990696\n2. 43.9498452579646\n3. 46.8610136819688\n\n\n\n$value\n:   -294.328520825565\n$counts\n:   function\n:   136gradient\n:   &lt;NA&gt;\n\n\n$convergence\n:   0\n$message\n:   NULL\n\n\n",
            "text/latex": "\\begin{description}\n\\item[\\$par] \\begin{enumerate*}\n\\item 19.4995106990696\n\\item 43.9498452579646\n\\item 46.8610136819688\n\\end{enumerate*}\n\n\\item[\\$value] -294.328520825565\n\\item[\\$counts] \\begin{description*}\n\\item[function] 136\n\\item[gradient] <NA>\n\\end{description*}\n\n\\item[\\$convergence] 0\n\\item[\\$message] NULL\n\\end{description}\n",
            "text/plain": [
              "$par\n",
              "[1] 19.49951 43.94985 46.86101\n",
              "\n",
              "$value\n",
              "[1] -294.3285\n",
              "\n",
              "$counts\n",
              "function gradient \n",
              "     136       NA \n",
              "\n",
              "$convergence\n",
              "[1] 0\n",
              "\n",
              "$message\n",
              "NULL\n"
            ]
          },
          "metadata": {}
        }
      ]
    },
    {
      "cell_type": "code",
      "source": [
        "hiv_deaths %>%\n",
        "  group_by(State) %>%\n",
        "    summarize(mean(Deaths))"
      ],
      "metadata": {
        "colab": {
          "base_uri": "https://localhost:8080/",
          "height": 192
        },
        "id": "d3PdsYwmLTwJ",
        "outputId": "15548d5c-fecc-4d3d-c370-0bbbe5cc7c70"
      },
      "execution_count": null,
      "outputs": [
        {
          "output_type": "display_data",
          "data": {
            "text/html": [
              "<table class=\"dataframe\">\n",
              "<caption>A tibble: 3 × 2</caption>\n",
              "<thead>\n",
              "\t<tr><th scope=col>State</th><th scope=col>mean(Deaths)</th></tr>\n",
              "\t<tr><th scope=col>&lt;chr&gt;</th><th scope=col>&lt;dbl&gt;</th></tr>\n",
              "</thead>\n",
              "<tbody>\n",
              "\t<tr><td>Iowa     </td><td>19.50000</td></tr>\n",
              "\t<tr><td>Minnesota</td><td>43.95455</td></tr>\n",
              "\t<tr><td>Wisconsin</td><td>46.86364</td></tr>\n",
              "</tbody>\n",
              "</table>\n"
            ],
            "text/markdown": "\nA tibble: 3 × 2\n\n| State &lt;chr&gt; | mean(Deaths) &lt;dbl&gt; |\n|---|---|\n| Iowa      | 19.50000 |\n| Minnesota | 43.95455 |\n| Wisconsin | 46.86364 |\n\n",
            "text/latex": "A tibble: 3 × 2\n\\begin{tabular}{ll}\n State & mean(Deaths)\\\\\n <chr> & <dbl>\\\\\n\\hline\n\t Iowa      & 19.50000\\\\\n\t Minnesota & 43.95455\\\\\n\t Wisconsin & 46.86364\\\\\n\\end{tabular}\n",
            "text/plain": [
              "  State     mean(Deaths)\n",
              "1 Iowa      19.50000    \n",
              "2 Minnesota 43.95455    \n",
              "3 Wisconsin 46.86364    "
            ]
          },
          "metadata": {}
        }
      ]
    },
    {
      "cell_type": "markdown",
      "source": [
        "## D) Comparing the models\n"
      ],
      "metadata": {
        "id": "_0xRGuGM0tLA"
      }
    },
    {
      "cell_type": "markdown",
      "source": [
        "### i) AIC, BIC\n",
        "Fill in the table below with the model metrics:\n",
        "\n",
        "Model | Number of parameters | Maximized log-likelihood | AIC | BIC |\n",
        "--- | --- | --- | --- | --- |\n",
        "1   |   1  |  -444.71    |  891.4   |  893.6   |\n",
        "2   |   3  |   -294.33  |   594.7  |   601.2  |\n"
      ],
      "metadata": {
        "id": "4woMh4Wv1MdM"
      }
    },
    {
      "cell_type": "code",
      "source": [
        "#The two maximized log-likelihoods:\n",
        "ll.model1 <- -444.710808190839\n",
        "ll.model2 <- -294.328520825565"
      ],
      "metadata": {
        "id": "WgLoRa3XLbv4"
      },
      "execution_count": null,
      "outputs": []
    },
    {
      "cell_type": "code",
      "source": [
        "#AICs:\n",
        "-2*ll1+2\n",
        "-2*ll2+2*3"
      ],
      "metadata": {
        "colab": {
          "base_uri": "https://localhost:8080/",
          "height": 52
        },
        "id": "bF33frbHLjAL",
        "outputId": "2746557a-4364-413b-a82b-f3d862528659"
      },
      "execution_count": null,
      "outputs": [
        {
          "output_type": "display_data",
          "data": {
            "text/html": [
              "891.421616381678"
            ],
            "text/markdown": "891.421616381678",
            "text/latex": "891.421616381678",
            "text/plain": [
              "[1] 891.4216"
            ]
          },
          "metadata": {}
        },
        {
          "output_type": "display_data",
          "data": {
            "text/html": [
              "594.65704165113"
            ],
            "text/markdown": "594.65704165113",
            "text/latex": "594.65704165113",
            "text/plain": [
              "[1] 594.657"
            ]
          },
          "metadata": {}
        }
      ]
    },
    {
      "cell_type": "code",
      "source": [
        "#BICs:\n",
        "-2*ll1+log(nrow(hiv_deaths))\n",
        "-2*ll2+log(nrow(hiv_deaths))*3"
      ],
      "metadata": {
        "colab": {
          "base_uri": "https://localhost:8080/",
          "height": 52
        },
        "id": "Ilpe2N5RLnvk",
        "outputId": "6e9f1480-e422-4d6f-b125-a0f085be0c8f"
      },
      "execution_count": null,
      "outputs": [
        {
          "output_type": "display_data",
          "data": {
            "text/html": [
              "893.611271123704"
            ],
            "text/markdown": "893.611271123704",
            "text/latex": "893.611271123704",
            "text/plain": [
              "[1] 893.6113"
            ]
          },
          "metadata": {}
        },
        {
          "output_type": "display_data",
          "data": {
            "text/html": [
              "601.226005877209"
            ],
            "text/markdown": "601.226005877209",
            "text/latex": "601.226005877209",
            "text/plain": [
              "[1] 601.226"
            ]
          },
          "metadata": {}
        }
      ]
    },
    {
      "cell_type": "markdown",
      "source": [
        "### ii) Likelihood ratio test\n",
        "\n",
        "Find the likelihood ratio test statistic and its associated p-value."
      ],
      "metadata": {
        "id": "Mv_uieoA1bsi"
      }
    },
    {
      "cell_type": "code",
      "source": [
        "(Lambda <- 2*(ll2-ll1))"
      ],
      "metadata": {
        "colab": {
          "base_uri": "https://localhost:8080/",
          "height": 34
        },
        "id": "jYtCaZgoLvkq",
        "outputId": "b1b9305a-f84d-4ca6-d2e1-1cc041f292a1"
      },
      "execution_count": null,
      "outputs": [
        {
          "output_type": "display_data",
          "data": {
            "text/html": [
              "300.764574730548"
            ],
            "text/markdown": "300.764574730548",
            "text/latex": "300.764574730548",
            "text/plain": [
              "[1] 300.7646"
            ]
          },
          "metadata": {}
        }
      ]
    },
    {
      "cell_type": "code",
      "source": [
        "pchisq(Lambda, df = 2, lower.tail=FALSE)"
      ],
      "metadata": {
        "colab": {
          "base_uri": "https://localhost:8080/",
          "height": 34
        },
        "id": "LxS4zqX1L0XK",
        "outputId": "cb061f97-6fe6-4213-bdc2-8a80bd5013e6"
      },
      "execution_count": null,
      "outputs": [
        {
          "output_type": "display_data",
          "data": {
            "text/html": [
              "4.89556049172265e-66"
            ],
            "text/markdown": "4.89556049172265e-66",
            "text/latex": "4.89556049172265e-66",
            "text/plain": [
              "[1] 4.89556e-66"
            ]
          },
          "metadata": {}
        }
      ]
    },
    {
      "cell_type": "markdown",
      "source": [
        "## E) Summary and conclusion\n",
        "\n",
        "Take a step back and summarize your findings.  How do HIV deaths vary across state?  Is there evidence that this difference is meaningful?  Use all your results up to this point to justify your claims."
      ],
      "metadata": {
        "id": "RVH6nkH-1p4V"
      }
    },
    {
      "cell_type": "markdown",
      "source": [
        "***HIV rates do vary by state, with the number of deaths highest on average in Wisconsin and lowest in Iowa (these are of course highly dependent on the state's overall population, which we will learn to adjust for later in the semester).  There is strong evidence that the rate of deaths differ by state: the AIC and BIC are both much smaller for Model 2, indicating 3 rate parameters are necessary.  The p-value from the likelihood ratio test is also highly significant, indicating Model 2 is a notable improvement upon Model 1.***"
      ],
      "metadata": {
        "id": "IvJjbWDMRGO1"
      }
    },
    {
      "cell_type": "markdown",
      "source": [
        "# Question 2 (30 points)\n",
        "\n",
        "A topic of some interest in the genetics literature over the past 30 years has been the study of sex-ratio data. In particular, one suggested hypothesis is that there are enough families with an unbalanced sex ratio among their children that the sexes of successive childbirths are not independent random variables but are rather related to each other. This hypothesis suggests that if a couple’s first child is (fe)male, they are more likely to have (fe)male children in successive births. (Personal anecdote: among my wife and her siblings, one has five children (all boys); one has four children (all girls); one has three children (all girls); and my wife and I have two children (both boys). Nobody has yet had two children of different sexes. Coincidence or signal?) The data in the Sex Ratio file report on 175,313 children from 51,868 families with at least two children.  For families with more than 5 children, the sexes of just the first 5 are given.  Thus the maximium family size reported is 5.\n"
      ],
      "metadata": {
        "id": "_IrR7R9rNOKy"
      }
    },
    {
      "cell_type": "code",
      "source": [
        "sexratios <- read.csv('https://www.dropbox.com/s/c04146dc7gbz5kr/sex_ratios_uncounted.csv?dl=1')"
      ],
      "metadata": {
        "id": "m_Y3HkXwD4wz"
      },
      "execution_count": null,
      "outputs": []
    },
    {
      "cell_type": "markdown",
      "source": [
        "A couple exemplary families to give you a feel for the data set:"
      ],
      "metadata": {
        "id": "5dFOrA_2IMDc"
      }
    },
    {
      "cell_type": "code",
      "source": [
        "sexratios %>% filter(familyid==43515)"
      ],
      "metadata": {
        "colab": {
          "base_uri": "https://localhost:8080/",
          "height": 255
        },
        "id": "sN5zMBBaIGTC",
        "outputId": "fdee6ef0-2bfa-49f7-fd77-c8f026d4f132"
      },
      "execution_count": null,
      "outputs": [
        {
          "output_type": "display_data",
          "data": {
            "text/html": [
              "<table class=\"dataframe\">\n",
              "<caption>A data.frame: 5 × 6</caption>\n",
              "<thead>\n",
              "\t<tr><th scope=col>familyid</th><th scope=col>childid</th><th scope=col>nm_chld</th><th scope=col>sexchldn</th><th scope=col>sxchld</th><th scope=col>sxprev</th></tr>\n",
              "\t<tr><th scope=col>&lt;int&gt;</th><th scope=col>&lt;int&gt;</th><th scope=col>&lt;int&gt;</th><th scope=col>&lt;chr&gt;</th><th scope=col>&lt;chr&gt;</th><th scope=col>&lt;chr&gt;</th></tr>\n",
              "</thead>\n",
              "<tbody>\n",
              "\t<tr><td>43515</td><td>1</td><td>5</td><td>MFFFM</td><td>M</td><td>First</td></tr>\n",
              "\t<tr><td>43515</td><td>2</td><td>5</td><td>MFFFM</td><td>F</td><td>M    </td></tr>\n",
              "\t<tr><td>43515</td><td>3</td><td>5</td><td>MFFFM</td><td>F</td><td>F    </td></tr>\n",
              "\t<tr><td>43515</td><td>4</td><td>5</td><td>MFFFM</td><td>F</td><td>F    </td></tr>\n",
              "\t<tr><td>43515</td><td>5</td><td>5</td><td>MFFFM</td><td>M</td><td>F    </td></tr>\n",
              "</tbody>\n",
              "</table>\n"
            ],
            "text/markdown": "\nA data.frame: 5 × 6\n\n| familyid &lt;int&gt; | childid &lt;int&gt; | nm_chld &lt;int&gt; | sexchldn &lt;chr&gt; | sxchld &lt;chr&gt; | sxprev &lt;chr&gt; |\n|---|---|---|---|---|---|\n| 43515 | 1 | 5 | MFFFM | M | First |\n| 43515 | 2 | 5 | MFFFM | F | M     |\n| 43515 | 3 | 5 | MFFFM | F | F     |\n| 43515 | 4 | 5 | MFFFM | F | F     |\n| 43515 | 5 | 5 | MFFFM | M | F     |\n\n",
            "text/latex": "A data.frame: 5 × 6\n\\begin{tabular}{llllll}\n familyid & childid & nm\\_chld & sexchldn & sxchld & sxprev\\\\\n <int> & <int> & <int> & <chr> & <chr> & <chr>\\\\\n\\hline\n\t 43515 & 1 & 5 & MFFFM & M & First\\\\\n\t 43515 & 2 & 5 & MFFFM & F & M    \\\\\n\t 43515 & 3 & 5 & MFFFM & F & F    \\\\\n\t 43515 & 4 & 5 & MFFFM & F & F    \\\\\n\t 43515 & 5 & 5 & MFFFM & M & F    \\\\\n\\end{tabular}\n",
            "text/plain": [
              "  familyid childid nm_chld sexchldn sxchld sxprev\n",
              "1 43515    1       5       MFFFM    M      First \n",
              "2 43515    2       5       MFFFM    F      M     \n",
              "3 43515    3       5       MFFFM    F      F     \n",
              "4 43515    4       5       MFFFM    F      F     \n",
              "5 43515    5       5       MFFFM    M      F     "
            ]
          },
          "metadata": {}
        }
      ]
    },
    {
      "cell_type": "code",
      "source": [
        "sexratios %>% filter(familyid==24303)"
      ],
      "metadata": {
        "colab": {
          "base_uri": "https://localhost:8080/",
          "height": 192
        },
        "id": "QsSvThMuIOdQ",
        "outputId": "f1c48e9a-9f5b-4c6e-e119-bc36a9b528d1"
      },
      "execution_count": null,
      "outputs": [
        {
          "output_type": "display_data",
          "data": {
            "text/html": [
              "<table class=\"dataframe\">\n",
              "<caption>A data.frame: 3 × 6</caption>\n",
              "<thead>\n",
              "\t<tr><th scope=col>familyid</th><th scope=col>childid</th><th scope=col>nm_chld</th><th scope=col>sexchldn</th><th scope=col>sxchld</th><th scope=col>sxprev</th></tr>\n",
              "\t<tr><th scope=col>&lt;int&gt;</th><th scope=col>&lt;int&gt;</th><th scope=col>&lt;int&gt;</th><th scope=col>&lt;chr&gt;</th><th scope=col>&lt;chr&gt;</th><th scope=col>&lt;chr&gt;</th></tr>\n",
              "</thead>\n",
              "<tbody>\n",
              "\t<tr><td>24303</td><td>1</td><td>3</td><td>FMM</td><td>F</td><td>First</td></tr>\n",
              "\t<tr><td>24303</td><td>2</td><td>3</td><td>FMM</td><td>M</td><td>F    </td></tr>\n",
              "\t<tr><td>24303</td><td>3</td><td>3</td><td>FMM</td><td>M</td><td>M    </td></tr>\n",
              "</tbody>\n",
              "</table>\n"
            ],
            "text/markdown": "\nA data.frame: 3 × 6\n\n| familyid &lt;int&gt; | childid &lt;int&gt; | nm_chld &lt;int&gt; | sexchldn &lt;chr&gt; | sxchld &lt;chr&gt; | sxprev &lt;chr&gt; |\n|---|---|---|---|---|---|\n| 24303 | 1 | 3 | FMM | F | First |\n| 24303 | 2 | 3 | FMM | M | F     |\n| 24303 | 3 | 3 | FMM | M | M     |\n\n",
            "text/latex": "A data.frame: 3 × 6\n\\begin{tabular}{llllll}\n familyid & childid & nm\\_chld & sexchldn & sxchld & sxprev\\\\\n <int> & <int> & <int> & <chr> & <chr> & <chr>\\\\\n\\hline\n\t 24303 & 1 & 3 & FMM & F & First\\\\\n\t 24303 & 2 & 3 & FMM & M & F    \\\\\n\t 24303 & 3 & 3 & FMM & M & M    \\\\\n\\end{tabular}\n",
            "text/plain": [
              "  familyid childid nm_chld sexchldn sxchld sxprev\n",
              "1 24303    1       3       FMM      F      First \n",
              "2 24303    2       3       FMM      M      F     \n",
              "3 24303    3       3       FMM      M      M     "
            ]
          },
          "metadata": {}
        }
      ]
    },
    {
      "cell_type": "markdown",
      "source": [
        "Columns:\n",
        "\n",
        "*\t`familyid`, `childid`: IDs for family and child within family\n",
        "*\t`nm_chld`: number of children in family\n",
        "* `sexchldn`: sequence of child sex\n",
        "* `sxchld`: the sex of each child; this is the primary response variable, $Y_i$.\n",
        "* `sxprev`: one of `First`, `M`, `F` indicating whether that child was a first-born, or followed a Male or Female child, respectively.  This is the primary $X_i$ variable."
      ],
      "metadata": {
        "id": "IDPjWTnXODGr"
      }
    },
    {
      "cell_type": "markdown",
      "source": [
        "We want to consider two different models for $Y$, the binary variable indicating whether each child is male/female.  For this problem we will code $Y = 1$ for male children and $Y=0$ for female children.\n",
        "\n",
        "Recall for any model with parameter vector $\\theta$, the log-likelihood of the observed data $Y$ given values of $\\theta$ is:\n",
        "\n",
        "$$logLik(\\theta) = \\log\\left(\\prod_{i=1}^n P(Y_i = k_i)\\right) =  \\sum_{i=1}^n \\log(P(Y_i = k_i))$$\n"
      ],
      "metadata": {
        "id": "35pcFimpNrYZ"
      }
    },
    {
      "cell_type": "markdown",
      "source": [
        "We'll consider 2 different models:"
      ],
      "metadata": {
        "id": "brxAdWjVSjTl"
      }
    },
    {
      "cell_type": "markdown",
      "source": [
        "\n",
        "***Model 1:*** the sexes of previous children are not related to the sex of the current child.  This is a one-parameter model with a single $p$ representing $P(Y_i = 1)$: the probability of a male child regardless of any previous children born.  $1-p$ represents $P(Y_i = 0)$, the probability of a female child regardless of any previous children born.\n",
        "\n",
        "Under Model 1, the contribution of each child to the log-likelihood is:\n",
        "\n",
        "$$\\log\\left(p^{k_i}(1-p)^{1-k_i}\\right) = k_i \\log(p) + (1-k_i) \\log(p)$$\n",
        "\n",
        "That is:\n",
        "\n",
        "* Each male child contributes $\\log(p)$ to the log-likelihood\n",
        "* Each female child contributes $\\log(1-p)$ to the log-likelihood"
      ],
      "metadata": {
        "id": "30v1QqNAR4Yn"
      }
    },
    {
      "cell_type": "markdown",
      "source": [
        "\n",
        "\n",
        "***Model 2:*** the probability of having a (fe)male child depends on the sex of the previous child.  We'll use three parameters for this model: $p_1$, $p_M$, and $p_F$, where:\n",
        "* $p_1 = P(Y_i = 1 | \\mbox{first-born})$ represents probability of a male on the first birth; $P(Y_i = 0 | \\mbox{first-born})=1-p_1$ represents probability of female on the first birth.\n",
        "  - Each first-born male child contributes $\\log(p_1)$ to Model 2's log-likelihood\n",
        "  - Each first-born female child contributes $\\log(1-p_1)$ to Model 2's log-likelihood  \n",
        "* $p_M=P(Y_i = 1 | \\mbox{previous child was male})$ represents probability of a male given the previous child was male; $1-p_M = P(Y_i = 0 | \\mbox{previous child was female})$ represents probability of female given the previous child was male.\n",
        "  - Each male born after a male contributes $\\log(p_M)$ to Model 2's log-likelihood\n",
        "  - Each female born after a male contributes $\\log(1-p_M)$ to Model 2's log-likelihood  \n",
        "* $p_F=P(Y_i = 1 | \\mbox{previous child was female})$ represents probability of a male given the previous child was female; $1-p_F = P(Y_i = 0 | \\mbox{previous child was female})$ represents probability of female given the previous child was female.\n",
        "  - Each male born after a female contributes $\\log(p_F)$ to Model 2's log-likelihood\n",
        "  - Each female born after a female contributes $\\log(1-p_F)$ to Model 2's log-likelihood  "
      ],
      "metadata": {
        "id": "ON43VDr1R3S9"
      }
    },
    {
      "cell_type": "markdown",
      "source": [
        "## A) Warmup: finding log-likelihood contributions\n",
        "\n",
        "Consider the family below:"
      ],
      "metadata": {
        "id": "HjRt369r8Kuv"
      }
    },
    {
      "cell_type": "code",
      "source": [
        "family43515 <- sexratios %>% filter(familyid==43515)\n",
        "family43515"
      ],
      "metadata": {
        "colab": {
          "base_uri": "https://localhost:8080/",
          "height": 255
        },
        "id": "j3ju-7I88bx4",
        "outputId": "46b56b61-a28f-4aec-8639-2cc0b74b02df"
      },
      "execution_count": null,
      "outputs": [
        {
          "output_type": "display_data",
          "data": {
            "text/html": [
              "<table class=\"dataframe\">\n",
              "<caption>A data.frame: 5 × 6</caption>\n",
              "<thead>\n",
              "\t<tr><th scope=col>familyid</th><th scope=col>childid</th><th scope=col>nm_chld</th><th scope=col>sexchldn</th><th scope=col>sxchld</th><th scope=col>sxprev</th></tr>\n",
              "\t<tr><th scope=col>&lt;int&gt;</th><th scope=col>&lt;int&gt;</th><th scope=col>&lt;int&gt;</th><th scope=col>&lt;chr&gt;</th><th scope=col>&lt;chr&gt;</th><th scope=col>&lt;chr&gt;</th></tr>\n",
              "</thead>\n",
              "<tbody>\n",
              "\t<tr><td>43515</td><td>1</td><td>5</td><td>MFFFM</td><td>M</td><td>First</td></tr>\n",
              "\t<tr><td>43515</td><td>2</td><td>5</td><td>MFFFM</td><td>F</td><td>M    </td></tr>\n",
              "\t<tr><td>43515</td><td>3</td><td>5</td><td>MFFFM</td><td>F</td><td>F    </td></tr>\n",
              "\t<tr><td>43515</td><td>4</td><td>5</td><td>MFFFM</td><td>F</td><td>F    </td></tr>\n",
              "\t<tr><td>43515</td><td>5</td><td>5</td><td>MFFFM</td><td>M</td><td>F    </td></tr>\n",
              "</tbody>\n",
              "</table>\n"
            ],
            "text/markdown": "\nA data.frame: 5 × 6\n\n| familyid &lt;int&gt; | childid &lt;int&gt; | nm_chld &lt;int&gt; | sexchldn &lt;chr&gt; | sxchld &lt;chr&gt; | sxprev &lt;chr&gt; |\n|---|---|---|---|---|---|\n| 43515 | 1 | 5 | MFFFM | M | First |\n| 43515 | 2 | 5 | MFFFM | F | M     |\n| 43515 | 3 | 5 | MFFFM | F | F     |\n| 43515 | 4 | 5 | MFFFM | F | F     |\n| 43515 | 5 | 5 | MFFFM | M | F     |\n\n",
            "text/latex": "A data.frame: 5 × 6\n\\begin{tabular}{llllll}\n familyid & childid & nm\\_chld & sexchldn & sxchld & sxprev\\\\\n <int> & <int> & <int> & <chr> & <chr> & <chr>\\\\\n\\hline\n\t 43515 & 1 & 5 & MFFFM & M & First\\\\\n\t 43515 & 2 & 5 & MFFFM & F & M    \\\\\n\t 43515 & 3 & 5 & MFFFM & F & F    \\\\\n\t 43515 & 4 & 5 & MFFFM & F & F    \\\\\n\t 43515 & 5 & 5 & MFFFM & M & F    \\\\\n\\end{tabular}\n",
            "text/plain": [
              "  familyid childid nm_chld sexchldn sxchld sxprev\n",
              "1 43515    1       5       MFFFM    M      First \n",
              "2 43515    2       5       MFFFM    F      M     \n",
              "3 43515    3       5       MFFFM    F      F     \n",
              "4 43515    4       5       MFFFM    F      F     \n",
              "5 43515    5       5       MFFFM    M      F     "
            ]
          },
          "metadata": {}
        }
      ]
    },
    {
      "cell_type": "markdown",
      "source": [
        "### i) Model 1\n",
        "\n",
        "What is the total contribution of this family to the Model 1 log-likelihood, as a function of $p$?"
      ],
      "metadata": {
        "id": "mvMb7yYQ8zfB"
      }
    },
    {
      "cell_type": "markdown",
      "source": [
        "$$\\log(p) + \\log(1-p) + \\log(1-p) + \\log(1-p) + \\log(p)$$"
      ],
      "metadata": {
        "id": "cefsVDMTRvnC"
      }
    },
    {
      "cell_type": "markdown",
      "source": [
        "### ii) Model 2\n",
        "\n",
        "What is the total contribution of this family to the Model 2 log-likelihood, as a function of $(p_1, p_M, p_F)$?"
      ],
      "metadata": {
        "id": "9_0BbI9L8zfB"
      }
    },
    {
      "cell_type": "markdown",
      "source": [
        "$$\\log(p_1) + \\log(1-p_M) + \\log(1-p_F) + \\log(1-p_F) + \\log(p_F)$$"
      ],
      "metadata": {
        "id": "q8omVfqrR1uC"
      }
    },
    {
      "cell_type": "markdown",
      "source": [
        "## B) Writing the log-likelihood functions\n"
      ],
      "metadata": {
        "id": "iAPB5VMw9D5k"
      }
    },
    {
      "cell_type": "markdown",
      "source": [
        "### i) Model 1\n",
        "\n",
        "\n",
        "Write a function `loglik.model1(p)` that takes as an argument a single parameter $p$ and returns the log-likelihood of all the observed data values.  \n",
        "\n",
        "Check your code by ensuring it matches:\n",
        "\n",
        "\n",
        "`loglik.model1(0.4)`\n",
        "\n",
        "`-125549.537551589`"
      ],
      "metadata": {
        "id": "-RMUYyWa9D5k"
      }
    },
    {
      "cell_type": "code",
      "source": [
        "loglik.model1 <- function(p) {\n",
        "  mod1_contributions <- sexratios  %>%\n",
        "     mutate(loglik1.contribution = ifelse(sxchld=='M',log(p),log(1-p)))\n",
        "  out <- sum(mod1_contributions$loglik1.contribution)\n",
        "  return(out)\n",
        "}"
      ],
      "metadata": {
        "id": "RsMJys2uXb2h"
      },
      "execution_count": null,
      "outputs": []
    },
    {
      "cell_type": "code",
      "source": [
        "loglik.model1(0.4)"
      ],
      "metadata": {
        "colab": {
          "base_uri": "https://localhost:8080/",
          "height": 34
        },
        "id": "ZZWRcdV-X63b",
        "outputId": "14508d63-3930-4e8d-e1a4-4ac43dacba63"
      },
      "execution_count": null,
      "outputs": [
        {
          "output_type": "display_data",
          "data": {
            "text/html": [
              "-125549.537551589"
            ],
            "text/markdown": "-125549.537551589",
            "text/latex": "-125549.537551589",
            "text/plain": [
              "[1] -125549.5"
            ]
          },
          "metadata": {}
        }
      ]
    },
    {
      "cell_type": "markdown",
      "source": [
        "### ii) Model 2\n"
      ],
      "metadata": {
        "id": "-dpJtqhI98Kb"
      }
    },
    {
      "cell_type": "markdown",
      "source": [
        "Write a function `loglik.model2(pvec)` that takes as an argument a vector of 3 parameters $(p_1, p_M, p_F)$ and returns the log-likelihood of all the observed data values for those parameters.  Check that it works by verifying `loglik.model2(c(.5, .6, .4))` returns `-123702.635775539`.\n",
        "\n",
        "Hint: the code below calculates the contribution of each child from Family 43515 to the log-likelihood when $(p_1, p_M, p_F) = (0.5, 0.6, 0.4)$"
      ],
      "metadata": {
        "id": "EOP8mqPyBM4V"
      }
    },
    {
      "cell_type": "code",
      "source": [
        "p1 <- 0.5\n",
        "pM <- 0.6\n",
        "pF <- 0.4\n",
        "family43515 %>%\n",
        "  mutate(loglik2.contribution = case_when(sxchld=='M' & sxprev=='First'~log(p1),\n",
        "                                          sxchld=='F' & sxprev=='First'~log(1-p1),\n",
        "                                          sxchld=='M' & sxprev=='M'~log(pM),\n",
        "                                          sxchld=='F' & sxprev=='M'~log(1-pM),\n",
        "                                          sxchld=='M' & sxprev=='F'~log(pF),\n",
        "                                          sxchld=='F' & sxprev=='F'~log(1-pF)))"
      ],
      "metadata": {
        "colab": {
          "base_uri": "https://localhost:8080/",
          "height": 255
        },
        "id": "1gOJgP5WBkVn",
        "outputId": "56cd8dd5-17b2-49ee-dd97-a96c81fec2f5"
      },
      "execution_count": null,
      "outputs": [
        {
          "output_type": "display_data",
          "data": {
            "text/html": [
              "<table class=\"dataframe\">\n",
              "<caption>A data.frame: 5 × 7</caption>\n",
              "<thead>\n",
              "\t<tr><th scope=col>familyid</th><th scope=col>childid</th><th scope=col>nm_chld</th><th scope=col>sexchldn</th><th scope=col>sxchld</th><th scope=col>sxprev</th><th scope=col>loglik2.contribution</th></tr>\n",
              "\t<tr><th scope=col>&lt;int&gt;</th><th scope=col>&lt;int&gt;</th><th scope=col>&lt;int&gt;</th><th scope=col>&lt;chr&gt;</th><th scope=col>&lt;chr&gt;</th><th scope=col>&lt;chr&gt;</th><th scope=col>&lt;dbl&gt;</th></tr>\n",
              "</thead>\n",
              "<tbody>\n",
              "\t<tr><td>43515</td><td>1</td><td>5</td><td>MFFFM</td><td>M</td><td>First</td><td>-0.6931472</td></tr>\n",
              "\t<tr><td>43515</td><td>2</td><td>5</td><td>MFFFM</td><td>F</td><td>M    </td><td>-0.9162907</td></tr>\n",
              "\t<tr><td>43515</td><td>3</td><td>5</td><td>MFFFM</td><td>F</td><td>F    </td><td>-0.5108256</td></tr>\n",
              "\t<tr><td>43515</td><td>4</td><td>5</td><td>MFFFM</td><td>F</td><td>F    </td><td>-0.5108256</td></tr>\n",
              "\t<tr><td>43515</td><td>5</td><td>5</td><td>MFFFM</td><td>M</td><td>F    </td><td>-0.9162907</td></tr>\n",
              "</tbody>\n",
              "</table>\n"
            ],
            "text/markdown": "\nA data.frame: 5 × 7\n\n| familyid &lt;int&gt; | childid &lt;int&gt; | nm_chld &lt;int&gt; | sexchldn &lt;chr&gt; | sxchld &lt;chr&gt; | sxprev &lt;chr&gt; | loglik2.contribution &lt;dbl&gt; |\n|---|---|---|---|---|---|---|\n| 43515 | 1 | 5 | MFFFM | M | First | -0.6931472 |\n| 43515 | 2 | 5 | MFFFM | F | M     | -0.9162907 |\n| 43515 | 3 | 5 | MFFFM | F | F     | -0.5108256 |\n| 43515 | 4 | 5 | MFFFM | F | F     | -0.5108256 |\n| 43515 | 5 | 5 | MFFFM | M | F     | -0.9162907 |\n\n",
            "text/latex": "A data.frame: 5 × 7\n\\begin{tabular}{lllllll}\n familyid & childid & nm\\_chld & sexchldn & sxchld & sxprev & loglik2.contribution\\\\\n <int> & <int> & <int> & <chr> & <chr> & <chr> & <dbl>\\\\\n\\hline\n\t 43515 & 1 & 5 & MFFFM & M & First & -0.6931472\\\\\n\t 43515 & 2 & 5 & MFFFM & F & M     & -0.9162907\\\\\n\t 43515 & 3 & 5 & MFFFM & F & F     & -0.5108256\\\\\n\t 43515 & 4 & 5 & MFFFM & F & F     & -0.5108256\\\\\n\t 43515 & 5 & 5 & MFFFM & M & F     & -0.9162907\\\\\n\\end{tabular}\n",
            "text/plain": [
              "  familyid childid nm_chld sexchldn sxchld sxprev loglik2.contribution\n",
              "1 43515    1       5       MFFFM    M      First  -0.6931472          \n",
              "2 43515    2       5       MFFFM    F      M      -0.9162907          \n",
              "3 43515    3       5       MFFFM    F      F      -0.5108256          \n",
              "4 43515    4       5       MFFFM    F      F      -0.5108256          \n",
              "5 43515    5       5       MFFFM    M      F      -0.9162907          "
            ]
          },
          "metadata": {}
        }
      ]
    },
    {
      "cell_type": "code",
      "source": [
        "loglik.model2 <- function(pvec) {\n",
        "  p1 <- pvec[1]\n",
        " pM <- pvec[2]\n",
        " pF <- pvec[3]\n",
        "  m2 <- sexratios %>%\n",
        "  mutate(loglik2.contribution = case_when(sxchld=='M' & sxprev=='First'~log(p1),\n",
        "                                          sxchld=='F' & sxprev=='First'~log(1-p1),\n",
        "                                          sxchld=='M' & sxprev=='M'~log(pM),\n",
        "                                          sxchld=='F' & sxprev=='M'~log(1-pM),\n",
        "                                          sxchld=='M' & sxprev=='F'~log(pF),\n",
        "                                          sxchld=='F' & sxprev=='F'~log(1-pF)))\n",
        " out <- sum(m2$loglik2.contribution)\n",
        " return(out)\n",
        "}"
      ],
      "metadata": {
        "id": "88L2YTDtCbeg"
      },
      "execution_count": null,
      "outputs": []
    },
    {
      "cell_type": "code",
      "source": [
        "loglik.model2(c(.5,.6,.4))"
      ],
      "metadata": {
        "colab": {
          "base_uri": "https://localhost:8080/",
          "height": 34
        },
        "id": "WQjmPIXiCsI5",
        "outputId": "0067f3b6-3b7e-4a38-ac14-d60eb1278732"
      },
      "execution_count": null,
      "outputs": [
        {
          "output_type": "display_data",
          "data": {
            "text/html": [
              "-123702.635775539"
            ],
            "text/markdown": "-123702.635775539",
            "text/latex": "-123702.635775539",
            "text/plain": [
              "[1] -123702.6"
            ]
          },
          "metadata": {}
        }
      ]
    },
    {
      "cell_type": "markdown",
      "source": [
        "## C) Maximizing the log-likelihoods\n",
        "\n"
      ],
      "metadata": {
        "id": "mxDWK4jWaYWs"
      }
    },
    {
      "cell_type": "markdown",
      "source": [
        "### i) Model 1\n",
        "\n",
        "Use your `loglik.model1(p)` function and `optimize()` to find the MLE of the Model 1 parameter, $\\hat p_{MLE}$.  Verify that the MLE equals the overall proportion of male children across the entire data set."
      ],
      "metadata": {
        "id": "xlHAWgyMA9y6"
      }
    },
    {
      "cell_type": "code",
      "source": [
        "optimize(loglik.model1, interval = c(0,1), maximum = TRUE)"
      ],
      "metadata": {
        "colab": {
          "base_uri": "https://localhost:8080/",
          "height": 114
        },
        "outputId": "bb439d95-f99c-41e0-d014-8632ff1b4bd9",
        "id": "FSaVJfIbaYWs"
      },
      "execution_count": null,
      "outputs": [
        {
          "output_type": "display_data",
          "data": {
            "text/html": [
              "<dl>\n",
              "\t<dt>$maximum</dt>\n",
              "\t\t<dd>0.506365177623642</dd>\n",
              "\t<dt>$objective</dt>\n",
              "\t\t<dd>-121503.439256369</dd>\n",
              "</dl>\n"
            ],
            "text/markdown": "$maximum\n:   0.506365177623642\n$objective\n:   -121503.439256369\n\n\n",
            "text/latex": "\\begin{description}\n\\item[\\$maximum] 0.506365177623642\n\\item[\\$objective] -121503.439256369\n\\end{description}\n",
            "text/plain": [
              "$maximum\n",
              "[1] 0.5063652\n",
              "\n",
              "$objective\n",
              "[1] -121503.4\n"
            ]
          },
          "metadata": {}
        }
      ]
    },
    {
      "cell_type": "code",
      "source": [
        "xtabs(~sxchld, data = sexratios)/nrow(sexratios)"
      ],
      "metadata": {
        "colab": {
          "base_uri": "https://localhost:8080/",
          "height": 69
        },
        "outputId": "f9ebdaa6-8663-40b0-bd3a-392a0cc641d0",
        "id": "qwQKsJv6aYWs"
      },
      "execution_count": null,
      "outputs": [
        {
          "output_type": "display_data",
          "data": {
            "text/plain": [
              "sxchld\n",
              "      F       M \n",
              "0.49362 0.50638 "
            ]
          },
          "metadata": {}
        }
      ]
    },
    {
      "cell_type": "markdown",
      "source": [
        "### ii) Model 2\n",
        "\n",
        "Use `optim()` and `loglik.model2()` to find the MLE of $(p_1,p_M,p_F)$ for the three-parameter Model 2.  Verify that these MLEs are, respectively, the proportion of males among all first-borns; the proportion of males following male children; and the proportion of males following female children."
      ],
      "metadata": {
        "id": "Xhev9c6VaYWr"
      }
    },
    {
      "cell_type": "code",
      "source": [
        "optim(loglik.model2, par = c(0.5, 0.5, 0.5), control = list(fnscale = -1))"
      ],
      "metadata": {
        "colab": {
          "base_uri": "https://localhost:8080/",
          "height": 219
        },
        "id": "TFesI_hPD4aX",
        "outputId": "4270e9fc-03a1-430e-a3c6-cb7e2a84bed7"
      },
      "execution_count": null,
      "outputs": [
        {
          "output_type": "display_data",
          "data": {
            "text/html": [
              "<dl>\n",
              "\t<dt>$par</dt>\n",
              "\t\t<dd><style>\n",
              ".list-inline {list-style: none; margin:0; padding: 0}\n",
              ".list-inline>li {display: inline-block}\n",
              ".list-inline>li:not(:last-child)::after {content: \"\\00b7\"; padding: 0 .5ex}\n",
              "</style>\n",
              "<ol class=list-inline><li>0.504056775275678</li><li>0.513889190070172</li><li>0.500690500943829</li></ol>\n",
              "</dd>\n",
              "\t<dt>$value</dt>\n",
              "\t\t<dd>-121491.853314561</dd>\n",
              "\t<dt>$counts</dt>\n",
              "\t\t<dd><style>\n",
              ".dl-inline {width: auto; margin:0; padding: 0}\n",
              ".dl-inline>dt, .dl-inline>dd {float: none; width: auto; display: inline-block}\n",
              ".dl-inline>dt::after {content: \":\\0020\"; padding-right: .5ex}\n",
              ".dl-inline>dt:not(:first-of-type) {padding-left: .5ex}\n",
              "</style><dl class=dl-inline><dt>function</dt><dd>62</dd><dt>gradient</dt><dd>&lt;NA&gt;</dd></dl>\n",
              "</dd>\n",
              "\t<dt>$convergence</dt>\n",
              "\t\t<dd>0</dd>\n",
              "\t<dt>$message</dt>\n",
              "\t\t<dd>NULL</dd>\n",
              "</dl>\n"
            ],
            "text/markdown": "$par\n:   1. 0.504056775275678\n2. 0.513889190070172\n3. 0.500690500943829\n\n\n\n$value\n:   -121491.853314561\n$counts\n:   function\n:   62gradient\n:   &lt;NA&gt;\n\n\n$convergence\n:   0\n$message\n:   NULL\n\n\n",
            "text/latex": "\\begin{description}\n\\item[\\$par] \\begin{enumerate*}\n\\item 0.504056775275678\n\\item 0.513889190070172\n\\item 0.500690500943829\n\\end{enumerate*}\n\n\\item[\\$value] -121491.853314561\n\\item[\\$counts] \\begin{description*}\n\\item[function] 62\n\\item[gradient] <NA>\n\\end{description*}\n\n\\item[\\$convergence] 0\n\\item[\\$message] NULL\n\\end{description}\n",
            "text/plain": [
              "$par\n",
              "[1] 0.5040568 0.5138892 0.5006905\n",
              "\n",
              "$value\n",
              "[1] -121491.9\n",
              "\n",
              "$counts\n",
              "function gradient \n",
              "      62       NA \n",
              "\n",
              "$convergence\n",
              "[1] 0\n",
              "\n",
              "$message\n",
              "NULL\n"
            ]
          },
          "metadata": {}
        }
      ]
    },
    {
      "cell_type": "code",
      "source": [
        "sexratios %>%\n",
        "    group_by(sxprev,sxchld) %>%\n",
        "      summarize(cnt = n()) %>%\n",
        "        mutate(pct = cnt/sum(cnt)) %>%\n",
        "          filter(sxchld=='M')"
      ],
      "metadata": {
        "colab": {
          "base_uri": "https://localhost:8080/",
          "height": 227
        },
        "id": "w3GJ_ydGEBSh",
        "outputId": "7421c917-d229-402c-d360-fe8f622cae7d"
      },
      "execution_count": null,
      "outputs": [
        {
          "output_type": "stream",
          "name": "stderr",
          "text": [
            "\u001b[1m\u001b[22m`summarise()` has grouped output by 'sxprev'. You can override using the\n",
            "`.groups` argument.\n"
          ]
        },
        {
          "output_type": "display_data",
          "data": {
            "text/html": [
              "<table class=\"dataframe\">\n",
              "<caption>A grouped_df: 3 × 4</caption>\n",
              "<thead>\n",
              "\t<tr><th scope=col>sxprev</th><th scope=col>sxchld</th><th scope=col>cnt</th><th scope=col>pct</th></tr>\n",
              "\t<tr><th scope=col>&lt;chr&gt;</th><th scope=col>&lt;chr&gt;</th><th scope=col>&lt;int&gt;</th><th scope=col>&lt;dbl&gt;</th></tr>\n",
              "</thead>\n",
              "<tbody>\n",
              "\t<tr><td>F    </td><td>M</td><td>30653</td><td>0.5006370</td></tr>\n",
              "\t<tr><td>First</td><td>M</td><td>26149</td><td>0.5041451</td></tr>\n",
              "\t<tr><td>M    </td><td>M</td><td>31973</td><td>0.5138949</td></tr>\n",
              "</tbody>\n",
              "</table>\n"
            ],
            "text/markdown": "\nA grouped_df: 3 × 4\n\n| sxprev &lt;chr&gt; | sxchld &lt;chr&gt; | cnt &lt;int&gt; | pct &lt;dbl&gt; |\n|---|---|---|---|\n| F     | M | 30653 | 0.5006370 |\n| First | M | 26149 | 0.5041451 |\n| M     | M | 31973 | 0.5138949 |\n\n",
            "text/latex": "A grouped\\_df: 3 × 4\n\\begin{tabular}{llll}\n sxprev & sxchld & cnt & pct\\\\\n <chr> & <chr> & <int> & <dbl>\\\\\n\\hline\n\t F     & M & 30653 & 0.5006370\\\\\n\t First & M & 26149 & 0.5041451\\\\\n\t M     & M & 31973 & 0.5138949\\\\\n\\end{tabular}\n",
            "text/plain": [
              "  sxprev sxchld cnt   pct      \n",
              "1 F      M      30653 0.5006370\n",
              "2 First  M      26149 0.5041451\n",
              "3 M      M      31973 0.5138949"
            ]
          },
          "metadata": {}
        }
      ]
    },
    {
      "cell_type": "markdown",
      "source": [
        "## D) Comparing the models\n",
        "\n",
        "Is Model 2 a meaningfully different model than Model 1?  We will adress this using our likelihood-based model comparison methods."
      ],
      "metadata": {
        "id": "Q755n_2IFhGj"
      }
    },
    {
      "cell_type": "markdown",
      "source": [
        "### i) AIC, BIC\n",
        "Fill in the table below with the model metrics:\n",
        "\n"
      ],
      "metadata": {
        "id": "tpPuJL_3FvWY"
      }
    },
    {
      "cell_type": "markdown",
      "source": [
        "Model | Number of parameters | Maximized log-likelihood | AIC | BIC |\n",
        "--- | --- | --- | --- | --- |\n",
        "1   |   1  |  -121503.439   |   243008.8  | 243018.95    |\n",
        "2   |  3   |   -121491.853  | 242989.7    | 243019.92   |"
      ],
      "metadata": {
        "id": "1cJmGY-pGh-s"
      }
    },
    {
      "cell_type": "code",
      "source": [
        "#AICs:\n",
        "-2*-121503.439+2*1\n",
        "-2*-121491.853+2*3\n"
      ],
      "metadata": {
        "colab": {
          "base_uri": "https://localhost:8080/",
          "height": 52
        },
        "id": "YHeWqZ-KGzYn",
        "outputId": "33a9d200-58f1-4128-e215-9d18f9215c9a"
      },
      "execution_count": null,
      "outputs": [
        {
          "output_type": "display_data",
          "data": {
            "text/html": [
              "243008.878"
            ],
            "text/markdown": "243008.878",
            "text/latex": "243008.878",
            "text/plain": [
              "[1] 243008.9"
            ]
          },
          "metadata": {}
        },
        {
          "output_type": "display_data",
          "data": {
            "text/html": [
              "242989.706"
            ],
            "text/markdown": "242989.706",
            "text/latex": "242989.706",
            "text/plain": [
              "[1] 242989.7"
            ]
          },
          "metadata": {}
        }
      ]
    },
    {
      "cell_type": "code",
      "source": [
        "#BICs:\n",
        "-2*-121503.439+log(nrow(sexratios))*1\n",
        "-2*-121491.853+log(nrow(sexratios))*3"
      ],
      "metadata": {
        "colab": {
          "base_uri": "https://localhost:8080/",
          "height": 52
        },
        "id": "ZoN0uGx8HBXs",
        "outputId": "0c46f315-363e-4036-c2fb-d24670a1845a"
      },
      "execution_count": null,
      "outputs": [
        {
          "output_type": "display_data",
          "data": {
            "text/html": [
              "243018.952328227"
            ],
            "text/markdown": "243018.952328227",
            "text/latex": "243018.952328227",
            "text/plain": [
              "[1] 243019"
            ]
          },
          "metadata": {}
        },
        {
          "output_type": "display_data",
          "data": {
            "text/html": [
              "243019.92898468"
            ],
            "text/markdown": "243019.92898468",
            "text/latex": "243019.92898468",
            "text/plain": [
              "[1] 243019.9"
            ]
          },
          "metadata": {}
        }
      ]
    },
    {
      "cell_type": "markdown",
      "source": [
        "### ii) Likelihood ratio test\n",
        "\n",
        "Find the likelihood ratio test statistic and its associated p-value."
      ],
      "metadata": {
        "id": "yIOUaGvzFvWY"
      }
    },
    {
      "cell_type": "code",
      "source": [
        "Lambda <- 2*(-121491.853--121503.439)"
      ],
      "metadata": {
        "id": "LjOkbXl8HXja"
      },
      "execution_count": null,
      "outputs": []
    },
    {
      "cell_type": "code",
      "source": [
        "Lambda"
      ],
      "metadata": {
        "colab": {
          "base_uri": "https://localhost:8080/",
          "height": 34
        },
        "id": "1g6TiDPwHiHv",
        "outputId": "26440ca6-52ac-42d4-bfd7-47330648e023"
      },
      "execution_count": null,
      "outputs": [
        {
          "output_type": "display_data",
          "data": {
            "text/html": [
              "23.1719999999914"
            ],
            "text/markdown": "23.1719999999914",
            "text/latex": "23.1719999999914",
            "text/plain": [
              "[1] 23.172"
            ]
          },
          "metadata": {}
        }
      ]
    },
    {
      "cell_type": "code",
      "source": [
        "pchisq(Lambda, df = 2, lower.tail=FALSE)"
      ],
      "metadata": {
        "colab": {
          "base_uri": "https://localhost:8080/",
          "height": 34
        },
        "id": "-jTLnPtaHkNQ",
        "outputId": "06054e80-0d17-4983-93da-9a1e82c770c2"
      },
      "execution_count": null,
      "outputs": [
        {
          "output_type": "display_data",
          "data": {
            "text/html": [
              "9.29531544786376e-06"
            ],
            "text/markdown": "9.29531544786376e-06",
            "text/latex": "9.29531544786376e-06",
            "text/plain": [
              "[1] 9.295315e-06"
            ]
          },
          "metadata": {}
        }
      ]
    },
    {
      "cell_type": "markdown",
      "source": [
        "## E) Summary and conclusion\n",
        "\n",
        "How does the estimated probability of having a male child change, relative to the overall proportion of male children, depending on whether it's the first child or whether the child follows a male or a female? Is there evidence that this difference is meaningful?  Explain."
      ],
      "metadata": {
        "id": "u99viU5uEdTC"
      }
    },
    {
      "cell_type": "markdown",
      "source": [
        "***There are some interesting differences in the probability of having a male child depending on previous children.  While 50.4% of first children are male, this percent decreases if the previous child was female down to 50.1%, and increases to 51.3% if the previous child was male.  The 3-parameter model has a lower AIC than the 1-parameter model (BIC very slightly prefers the simpler modeL), and the p-value is highly significant indicating that the 3-parameter model which depends on the sex of previous children is a meaningful improvement over the 1-parameter model.***"
      ],
      "metadata": {
        "id": "GtuadEePTuh8"
      }
    },
    {
      "cell_type": "markdown",
      "source": [
        "# Question 3 (20 points)\n",
        "\n",
        "The data for this problem is taken from undergraduates from a small liberal arts school over several years. The response variable is `Acceptance`, 1 = accepted and 0 = denied.  `GPA`, the grade point average of each student at their undergraduate institution, is one of our explanatory $X$ variables of interest.  The code below creates two more: `GPA_cat` ($GPA \\geq 3.7 = A$, $3.3 \\leq GPA < 3.7= A-$, $GPA \\leq 3.3= B$ or lower), and `GPA3` which is just GPA minus 3:"
      ],
      "metadata": {
        "id": "RpAurotyHMWe"
      }
    },
    {
      "cell_type": "code",
      "source": [
        "library(dplyr)\n",
        "medgpa <- read.csv('https://www.dropbox.com/s/nbmjfeh4m598pdz/MedGPA.csv?dl=1') %>%\n",
        "  mutate(GPA_cat = case_when(GPA >= 3.7 ~ 'A',\n",
        "                            GPA <3.7 & GPA >=3.3~ 'A-',\n",
        "                            TRUE~'B or lower'),\n",
        "        GPA3 = GPA-3\n",
        "  )"
      ],
      "metadata": {
        "id": "Wslz0PbyHQE8"
      },
      "execution_count": null,
      "outputs": []
    },
    {
      "cell_type": "markdown",
      "source": [
        "## A)\n",
        "\n",
        "Create a plot summarizing the relationship between acceptance and GPA category.  Summarize your findings."
      ],
      "metadata": {
        "id": "36AIuQBimHtd"
      }
    },
    {
      "cell_type": "code",
      "source": [
        "library(ggplot2)\n",
        "ggplot(data = medgpa) +\n",
        "  geom_bar(aes(x = GPA_cat, fill = Accept), position='fill')"
      ],
      "metadata": {
        "colab": {
          "base_uri": "https://localhost:8080/",
          "height": 437
        },
        "id": "cUfoRqczke8N",
        "outputId": "15b8a7d3-fd12-454c-85f9-f796b7830b43"
      },
      "execution_count": null,
      "outputs": [
        {
          "output_type": "display_data",
          "data": {
            "text/plain": [
              "plot without title"
            ],
            "image/png": "[encoded data removed]"
          },
          "metadata": {
            "image/png": {
              "width": 420,
              "height": 420
            }
          }
        }
      ]
    },
    {
      "cell_type": "markdown",
      "source": [
        "***The rate of acceptance is clearly related to GPA category: highest for A's, lowest for B or lower.***"
      ],
      "metadata": {
        "id": "WP9dBBmNVqVR"
      }
    },
    {
      "cell_type": "markdown",
      "source": [
        "## B)\n",
        "\n",
        "Fit the following model:\n",
        "\n",
        "$$logit(P(Y_i = 1|GPA3_i)) = \\beta_0 + \\beta_1 GPA3_i$$"
      ],
      "metadata": {
        "id": "MYX7Z4Fol71W"
      }
    },
    {
      "cell_type": "markdown",
      "source": [
        "Interpret both model coefficients (or functions thereof), and fully summarize the nature of the modeled relationship between GPA and acceptance from this model."
      ],
      "metadata": {
        "id": "bASPcZ9Dm6nw"
      }
    },
    {
      "cell_type": "code",
      "source": [
        "mod1 <- glm(Acceptance~GPA3, data = medgpa, family=binomial)"
      ],
      "metadata": {
        "id": "8_mpCwbpnojp"
      },
      "execution_count": null,
      "outputs": []
    },
    {
      "cell_type": "code",
      "source": [
        "summary(mod1)"
      ],
      "metadata": {
        "colab": {
          "base_uri": "https://localhost:8080/",
          "height": 399
        },
        "id": "h-Cz4lFvnvvJ",
        "outputId": "38d259aa-5f8f-4e0e-d467-afcd8915f91b"
      },
      "execution_count": null,
      "outputs": [
        {
          "output_type": "display_data",
          "data": {
            "text/plain": [
              "\n",
              "Call:\n",
              "glm(formula = Acceptance ~ GPA3, family = binomial, data = medgpa)\n",
              "\n",
              "Deviance Residuals: \n",
              "    Min       1Q   Median       3Q      Max  \n",
              "-1.7805  -0.8522   0.4407   0.7819   2.0967  \n",
              "\n",
              "Coefficients:\n",
              "            Estimate Std. Error z value Pr(>|z|)    \n",
              "(Intercept)  -2.8440     0.9399  -3.026 0.002478 ** \n",
              "GPA3          5.4542     1.5792   3.454 0.000553 ***\n",
              "---\n",
              "Signif. codes:  0 ‘***’ 0.001 ‘**’ 0.01 ‘*’ 0.05 ‘.’ 0.1 ‘ ’ 1\n",
              "\n",
              "(Dispersion parameter for binomial family taken to be 1)\n",
              "\n",
              "    Null deviance: 75.791  on 54  degrees of freedom\n",
              "Residual deviance: 56.839  on 53  degrees of freedom\n",
              "AIC: 60.839\n",
              "\n",
              "Number of Fisher Scoring iterations: 4\n"
            ]
          },
          "metadata": {}
        }
      ]
    },
    {
      "cell_type": "code",
      "source": [
        "exp(confint(mod1))"
      ],
      "metadata": {
        "colab": {
          "base_uri": "https://localhost:8080/",
          "height": 164
        },
        "id": "uwoHG532WNlL",
        "outputId": "2fe335b4-e015-4547-99c9-56b828a54e12"
      },
      "execution_count": null,
      "outputs": [
        {
          "output_type": "stream",
          "name": "stderr",
          "text": [
            "Waiting for profiling to be done...\n",
            "\n"
          ]
        },
        {
          "output_type": "display_data",
          "data": {
            "text/html": [
              "<table class=\"dataframe\">\n",
              "<caption>A matrix: 2 × 2 of type dbl</caption>\n",
              "<thead>\n",
              "\t<tr><th></th><th scope=col>2.5 %</th><th scope=col>97.5 %</th></tr>\n",
              "</thead>\n",
              "<tbody>\n",
              "\t<tr><th scope=row>(Intercept)</th><td> 0.007313255</td><td>   0.3036997</td></tr>\n",
              "\t<tr><th scope=row>GPA3</th><td>14.825011298</td><td>7829.2459518</td></tr>\n",
              "</tbody>\n",
              "</table>\n"
            ],
            "text/markdown": "\nA matrix: 2 × 2 of type dbl\n\n| <!--/--> | 2.5 % | 97.5 % |\n|---|---|---|\n| (Intercept) |  0.007313255 |    0.3036997 |\n| GPA3 | 14.825011298 | 7829.2459518 |\n\n",
            "text/latex": "A matrix: 2 × 2 of type dbl\n\\begin{tabular}{r|ll}\n  & 2.5 \\% & 97.5 \\%\\\\\n\\hline\n\t(Intercept) &  0.007313255 &    0.3036997\\\\\n\tGPA3 & 14.825011298 & 7829.2459518\\\\\n\\end{tabular}\n",
            "text/plain": [
              "            2.5 %        97.5 %      \n",
              "(Intercept)  0.007313255    0.3036997\n",
              "GPA3        14.825011298 7829.2459518"
            ]
          },
          "metadata": {}
        }
      ]
    },
    {
      "cell_type": "code",
      "source": [
        "exp(-2.844)"
      ],
      "metadata": {
        "colab": {
          "base_uri": "https://localhost:8080/",
          "height": 34
        },
        "id": "6cF2i8W5V3YR",
        "outputId": "3057a397-8b2d-413c-953d-0f14b685b9e6"
      },
      "execution_count": null,
      "outputs": [
        {
          "output_type": "display_data",
          "data": {
            "text/html": [
              "0.0581924300833861"
            ],
            "text/markdown": "0.0581924300833861",
            "text/latex": "0.0581924300833861",
            "text/plain": [
              "[1] 0.05819243"
            ]
          },
          "metadata": {}
        }
      ]
    },
    {
      "cell_type": "code",
      "source": [
        "exp(5.45)"
      ],
      "metadata": {
        "colab": {
          "base_uri": "https://localhost:8080/",
          "height": 34
        },
        "id": "71KlY1_wn20K",
        "outputId": "48a98a9e-85e3-4e5c-9908-90fa8d56a090"
      },
      "execution_count": null,
      "outputs": [
        {
          "output_type": "display_data",
          "data": {
            "text/html": [
              "232.758165907662"
            ],
            "text/markdown": "232.758165907662",
            "text/latex": "232.758165907662",
            "text/plain": [
              "[1] 232.7582"
            ]
          },
          "metadata": {}
        }
      ]
    },
    {
      "cell_type": "markdown",
      "source": [
        "***The odds of acceptance are only 0.058 for students with a GPA of 3.0.  Students with a GPA 1 point higher, so 3.0 to 4.0, have an odds of acceptance that are 233 times higher than students with a GPA of 3.0.  GPA is strongly related to odds of acceptance (p-value < .001, 95% CI for OR: 14.8, 7829.2).***"
      ],
      "metadata": {
        "id": "RDqJQn2zV95J"
      }
    },
    {
      "cell_type": "markdown",
      "source": [
        "## C)\n",
        "\n",
        "Using this model, fully characterize the estimated change in odds of acceptance for two students who differ by 0.3 in their GPA.  (Hint: `emmeans`)"
      ],
      "metadata": {
        "id": "_vxRXzJopB51"
      }
    },
    {
      "cell_type": "code",
      "source": [
        "install.packages('emmeans')\n",
        "library(emmeans)"
      ],
      "metadata": {
        "colab": {
          "base_uri": "https://localhost:8080/"
        },
        "id": "EXuCSlNjpihr",
        "outputId": "77f036ae-9fc8-4baf-c2bf-27de21fb8963"
      },
      "execution_count": null,
      "outputs": [
        {
          "output_type": "stream",
          "name": "stderr",
          "text": [
            "Installing package into ‘/usr/local/lib/R/site-library’\n",
            "(as ‘lib’ is unspecified)\n",
            "\n"
          ]
        }
      ]
    },
    {
      "cell_type": "code",
      "source": [
        "em1 <- emmeans(mod1, ~GPA3, at = list(GPA3 = c(3.3, 3.0)))"
      ],
      "metadata": {
        "id": "aZP89QwrpcRV"
      },
      "execution_count": null,
      "outputs": []
    },
    {
      "cell_type": "code",
      "source": [
        "em1"
      ],
      "metadata": {
        "colab": {
          "base_uri": "https://localhost:8080/",
          "height": 121
        },
        "id": "lsl2BAicpqnF",
        "outputId": "086c6eb7-f5c1-4421-cc8c-be9b1b18cb0a"
      },
      "execution_count": null,
      "outputs": [
        {
          "output_type": "display_data",
          "data": {
            "text/plain": [
              " GPA3 emmean   SE  df asymp.LCL asymp.UCL\n",
              "  3.3   15.2 4.34 Inf      6.65      23.7\n",
              "  3.0   13.5 3.87 Inf      5.93      21.1\n",
              "\n",
              "Results are given on the logit (not the response) scale. \n",
              "Confidence level used: 0.95 "
            ]
          },
          "metadata": {}
        }
      ]
    },
    {
      "cell_type": "code",
      "source": [
        "contrast(em1, 'pairwise', type = 'response')"
      ],
      "metadata": {
        "colab": {
          "base_uri": "https://localhost:8080/",
          "height": 86
        },
        "id": "dI77vir9psO9",
        "outputId": "5804420e-3964-437f-9f10-8c7a97008881"
      },
      "execution_count": null,
      "outputs": [
        {
          "output_type": "display_data",
          "data": {
            "text/plain": [
              " contrast        odds.ratio   SE  df null z.ratio p.value\n",
              " GPA33.3 / GPA33       5.14 2.43 Inf    1   3.454  0.0006\n",
              "\n",
              "Tests are performed on the log odds ratio scale "
            ]
          },
          "metadata": {}
        }
      ]
    },
    {
      "cell_type": "code",
      "source": [
        "confint(contrast(em1, 'pairwise', type = 'response'))"
      ],
      "metadata": {
        "colab": {
          "base_uri": "https://localhost:8080/",
          "height": 129
        },
        "id": "HfBoviH2WonS",
        "outputId": "54b026b4-139c-42c4-f1c2-69eb20e3e0e9"
      },
      "execution_count": null,
      "outputs": [
        {
          "output_type": "display_data",
          "data": {
            "text/html": [
              "<table class=\"dataframe\">\n",
              "<caption>A summary_emm: 1 × 6</caption>\n",
              "<thead>\n",
              "\t<tr><th></th><th scope=col>contrast</th><th scope=col>odds.ratio</th><th scope=col>SE</th><th scope=col>df</th><th scope=col>asymp.LCL</th><th scope=col>asymp.UCL</th></tr>\n",
              "\t<tr><th></th><th scope=col>&lt;fct&gt;</th><th scope=col>&lt;dbl&gt;</th><th scope=col>&lt;dbl&gt;</th><th scope=col>&lt;dbl&gt;</th><th scope=col>&lt;dbl&gt;</th><th scope=col>&lt;dbl&gt;</th></tr>\n",
              "</thead>\n",
              "<tbody>\n",
              "\t<tr><th scope=row>1</th><td>GPA33.3 / GPA33</td><td>5.135873</td><td>2.433123</td><td>Inf</td><td>2.02935</td><td>12.99785</td></tr>\n",
              "</tbody>\n",
              "</table>\n"
            ],
            "text/markdown": "\nA summary_emm: 1 × 6\n\n| <!--/--> | contrast &lt;fct&gt; | odds.ratio &lt;dbl&gt; | SE &lt;dbl&gt; | df &lt;dbl&gt; | asymp.LCL &lt;dbl&gt; | asymp.UCL &lt;dbl&gt; |\n|---|---|---|---|---|---|---|\n| 1 | GPA33.3 / GPA33 | 5.135873 | 2.433123 | Inf | 2.02935 | 12.99785 |\n\n",
            "text/latex": "A summary\\_emm: 1 × 6\n\\begin{tabular}{r|llllll}\n  & contrast & odds.ratio & SE & df & asymp.LCL & asymp.UCL\\\\\n  & <fct> & <dbl> & <dbl> & <dbl> & <dbl> & <dbl>\\\\\n\\hline\n\t1 & GPA33.3 / GPA33 & 5.135873 & 2.433123 & Inf & 2.02935 & 12.99785\\\\\n\\end{tabular}\n",
            "text/plain": [
              "  contrast        odds.ratio SE       df  asymp.LCL asymp.UCL\n",
              "1 GPA33.3 / GPA33 5.135873   2.433123 Inf 2.02935   12.99785 "
            ]
          },
          "metadata": {}
        }
      ]
    },
    {
      "cell_type": "markdown",
      "source": [
        "***The odds of acceptance are 5.14 times higher for a 0.3-point increase in GPA, a statistically significant odds ratio (p-value = 0.0006, 95% CI for OR: (2.0, 13.0).***"
      ],
      "metadata": {
        "id": "XOG4nuqQWaoI"
      }
    },
    {
      "cell_type": "markdown",
      "source": [
        "## D)\n",
        "\n",
        "\n",
        "Fit a logistic regression model using `GPA_cat` instead of `GPA3`. Use this model to fully compare the odds of acceptance, comparing:\n",
        "\n",
        "* A to A- students;\n",
        "* A- to B students\n"
      ],
      "metadata": {
        "id": "m_PU5WVwnGZZ"
      }
    },
    {
      "cell_type": "code",
      "source": [
        "mod2 <- glm(Acceptance  ~ GPA_cat, data = medgpa, family=binomial)"
      ],
      "metadata": {
        "id": "1LV9RR4Spx5O"
      },
      "execution_count": null,
      "outputs": []
    },
    {
      "cell_type": "code",
      "source": [
        "summary(mod2)"
      ],
      "metadata": {
        "colab": {
          "base_uri": "https://localhost:8080/",
          "height": 416
        },
        "id": "bwRYAiV_p3CO",
        "outputId": "1a2499de-ccfa-442e-eac4-77306521007d"
      },
      "execution_count": null,
      "outputs": [
        {
          "output_type": "display_data",
          "data": {
            "text/plain": [
              "\n",
              "Call:\n",
              "glm(formula = Acceptance ~ GPA_cat, family = binomial, data = medgpa)\n",
              "\n",
              "Deviance Residuals: \n",
              "    Min       1Q   Median       3Q      Max  \n",
              "-2.1219  -1.0230   0.4717   0.4717   1.7344  \n",
              "\n",
              "Coefficients:\n",
              "                  Estimate Std. Error z value Pr(>|z|)   \n",
              "(Intercept)         2.1401     0.7475   2.863  0.00420 **\n",
              "GPA_catA-          -2.5148     0.8439  -2.980  0.00288 **\n",
              "GPA_catB or lower  -3.3928     1.0962  -3.095  0.00197 **\n",
              "---\n",
              "Signif. codes:  0 ‘***’ 0.001 ‘**’ 0.01 ‘*’ 0.05 ‘.’ 0.1 ‘ ’ 1\n",
              "\n",
              "(Dispersion parameter for binomial family taken to be 1)\n",
              "\n",
              "    Null deviance: 75.791  on 54  degrees of freedom\n",
              "Residual deviance: 58.820  on 52  degrees of freedom\n",
              "AIC: 64.82\n",
              "\n",
              "Number of Fisher Scoring iterations: 4\n"
            ]
          },
          "metadata": {}
        }
      ]
    },
    {
      "cell_type": "code",
      "source": [
        "(em2 <- emmeans(mod2, ~GPA_cat))"
      ],
      "metadata": {
        "colab": {
          "base_uri": "https://localhost:8080/",
          "height": 139
        },
        "id": "E_MwmIMup-oV",
        "outputId": "f6beb2a5-8f0f-41e2-ca11-3bd84b4539cc"
      },
      "execution_count": null,
      "outputs": [
        {
          "output_type": "display_data",
          "data": {
            "text/plain": [
              " GPA_cat    emmean    SE  df asymp.LCL asymp.UCL\n",
              " A           2.140 0.748 Inf     0.675     3.605\n",
              " A-         -0.375 0.392 Inf    -1.142     0.393\n",
              " B or lower -1.253 0.802 Inf    -2.824     0.319\n",
              "\n",
              "Results are given on the logit (not the response) scale. \n",
              "Confidence level used: 0.95 "
            ]
          },
          "metadata": {}
        }
      ]
    },
    {
      "cell_type": "code",
      "source": [
        "#Method #1 for doing the contrasts; customized contrast coefficients:\n",
        "contrast(em2, method = list('A vs A-' = c(1,-1,0),\n",
        "                            'A- vs B' = c(0,-1,1)),type='response')"
      ],
      "metadata": {
        "colab": {
          "base_uri": "https://localhost:8080/",
          "height": 104
        },
        "id": "xD5cV4hVpYpa",
        "outputId": "1241a4f0-0667-401b-f283-8df9f6ecdb92"
      },
      "execution_count": null,
      "outputs": [
        {
          "output_type": "display_data",
          "data": {
            "text/plain": [
              " contrast odds.ratio     SE  df null z.ratio p.value\n",
              " A vs A-      12.364 10.434 Inf    1   2.980  0.0029\n",
              " A- vs B       0.416  0.371 Inf    1  -0.984  0.3251\n",
              "\n",
              "Tests are performed on the log odds ratio scale "
            ]
          },
          "metadata": {}
        }
      ]
    },
    {
      "cell_type": "code",
      "source": [
        "#Method 2, shortcut using method='consec':\n",
        "contrast(em2, method='consec',type='response', reverse=TRUE)"
      ],
      "metadata": {
        "colab": {
          "base_uri": "https://localhost:8080/",
          "height": 121
        },
        "id": "j5N83YwjqC-T",
        "outputId": "6790b047-ab67-40f2-b284-e87877f7d0ae"
      },
      "execution_count": null,
      "outputs": [
        {
          "output_type": "display_data",
          "data": {
            "text/plain": [
              " contrast          odds.ratio    SE  df null z.ratio p.value\n",
              " A / (A-)               12.36 10.43 Inf    1   2.980  0.0057\n",
              " (A-) / B or lower       2.41  2.15 Inf    1   0.984  0.5396\n",
              "\n",
              "P value adjustment: mvt method for 2 tests \n",
              "Tests are performed on the log odds ratio scale "
            ]
          },
          "metadata": {}
        }
      ]
    },
    {
      "cell_type": "code",
      "source": [
        "confint(contrast(em2, method='consec',type='response', reverse=TRUE))"
      ],
      "metadata": {
        "colab": {
          "base_uri": "https://localhost:8080/",
          "height": 161
        },
        "id": "tW-XyUXnbjgX",
        "outputId": "87dd0a26-8929-471f-c288-33ef0194cd8d"
      },
      "execution_count": null,
      "outputs": [
        {
          "output_type": "display_data",
          "data": {
            "text/html": [
              "<table class=\"dataframe\">\n",
              "<caption>A summary_emm: 2 × 6</caption>\n",
              "<thead>\n",
              "\t<tr><th></th><th scope=col>contrast</th><th scope=col>odds.ratio</th><th scope=col>SE</th><th scope=col>df</th><th scope=col>asymp.LCL</th><th scope=col>asymp.UCL</th></tr>\n",
              "\t<tr><th></th><th scope=col>&lt;fct&gt;</th><th scope=col>&lt;dbl&gt;</th><th scope=col>&lt;dbl&gt;</th><th scope=col>&lt;dbl&gt;</th><th scope=col>&lt;dbl&gt;</th><th scope=col>&lt;dbl&gt;</th></tr>\n",
              "</thead>\n",
              "<tbody>\n",
              "\t<tr><th scope=row>1</th><td>A / (A-)         </td><td>12.36364</td><td>10.433768</td><td>Inf</td><td>1.8784184</td><td>81.37671</td></tr>\n",
              "\t<tr><th scope=row>2</th><td>(A-) / B or lower</td><td> 2.40625</td><td> 2.147186</td><td>Inf</td><td>0.3281134</td><td>17.64646</td></tr>\n",
              "</tbody>\n",
              "</table>\n"
            ],
            "text/markdown": "\nA summary_emm: 2 × 6\n\n| <!--/--> | contrast &lt;fct&gt; | odds.ratio &lt;dbl&gt; | SE &lt;dbl&gt; | df &lt;dbl&gt; | asymp.LCL &lt;dbl&gt; | asymp.UCL &lt;dbl&gt; |\n|---|---|---|---|---|---|---|\n| 1 | A / (A-)          | 12.36364 | 10.433768 | Inf | 1.8784184 | 81.37671 |\n| 2 | (A-) / B or lower |  2.40625 |  2.147186 | Inf | 0.3281134 | 17.64646 |\n\n",
            "text/latex": "A summary\\_emm: 2 × 6\n\\begin{tabular}{r|llllll}\n  & contrast & odds.ratio & SE & df & asymp.LCL & asymp.UCL\\\\\n  & <fct> & <dbl> & <dbl> & <dbl> & <dbl> & <dbl>\\\\\n\\hline\n\t1 & A / (A-)          & 12.36364 & 10.433768 & Inf & 1.8784184 & 81.37671\\\\\n\t2 & (A-) / B or lower &  2.40625 &  2.147186 & Inf & 0.3281134 & 17.64646\\\\\n\\end{tabular}\n",
            "text/plain": [
              "  contrast          odds.ratio SE        df  asymp.LCL asymp.UCL\n",
              "1 A / (A-)          12.36364   10.433768 Inf 1.8784184 81.37671 \n",
              "2 (A-) / B or lower  2.40625    2.147186 Inf 0.3281134 17.64646 "
            ]
          },
          "metadata": {}
        }
      ]
    },
    {
      "cell_type": "markdown",
      "source": [
        "***The odds of acceptance with A grades are 12 times higher than with A- grades, a statistically significant odds ratio (p-value = 0.0057, 95% CI for OR: (1.9, 81.4).  While the odds of acceptance for students with A- grades are 2.4 times higher than the odds of acceptance for students with grades of B or lower, this ratio is not statistically significant (p-value = 0.54, 95% CI for OR: 0.33, 17.64 overlaps 1.)***"
      ],
      "metadata": {
        "id": "zeSo3RteW0rI"
      }
    }
  ]
}