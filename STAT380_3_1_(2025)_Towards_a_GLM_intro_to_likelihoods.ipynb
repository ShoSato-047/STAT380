{
  "nbformat": 4,
  "nbformat_minor": 0,
  "metadata": {
    "colab": {
      "provenance": [],
      "include_colab_link": true
    },
    "kernelspec": {
      "name": "ir",
      "display_name": "R"
    },
    "language_info": {
      "name": "R"
    }
  },
  "cells": [
    {
      "cell_type": "markdown",
      "metadata": {
        "id": "view-in-github",
        "colab_type": "text"
      },
      "source": [
        "<a href=\"https://colab.research.google.com/github/ShoSato-047/STAT380/blob/main/STAT380_3_1_(2025)_Towards_a_GLM_intro_to_likelihoods.ipynb\" target=\"_parent\"><img src=\"https://colab.research.google.com/assets/colab-badge.svg\" alt=\"Open In Colab\"/></a>"
      ]
    },
    {
      "cell_type": "markdown",
      "source": [
        "# Motivation\n",
        "\n",
        "For simple ordinary linear regression of the form $Y = \\beta_0 + \\beta_1 X$, the coefficients $\\beta_0$ and $\\beta_1$ are chosen to minimize the sum-of-squared residuals, among all possible lines:"
      ],
      "metadata": {
        "id": "LzQeo-NCZZuf"
      }
    },
    {
      "cell_type": "markdown",
      "source": [
        "![image.png](data:image/png;base64,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)"
      ],
      "metadata": {
        "id": "6O4EhHoIZ03M"
      }
    },
    {
      "cell_type": "markdown",
      "source": [
        "Thus, $\\hat\\beta_0$ and $\\hat\\beta_1$ are often called *least-squares estimates*.  For more general linear models with potentially non-continuous outcomes, we the parameters are estimated via *maximum likelihood*.  In the next couple notebooks we will define likelihoods, how they are used to estimate parameters, and how likelihoods are used to compare models."
      ],
      "metadata": {
        "id": "gGZ6Rdj-Z8Ua"
      }
    },
    {
      "cell_type": "markdown",
      "source": [
        "# Case study: Twins data\n"
      ],
      "metadata": {
        "id": "Ee5H-4Kpo4n9"
      }
    },
    {
      "cell_type": "markdown",
      "source": [
        "Consider data from the Minnesota Twins 2022 season, which I scraped from [boxscores on the Fangraphs website](https://www.fangraphs.com/boxscore.aspx?date=2022-04-15&team=Twins&dh=0&season=2022)"
      ],
      "metadata": {
        "id": "0htriQqipVh9"
      }
    },
    {
      "cell_type": "code",
      "source": [
        "twins <- read.csv('https://www.dropbox.com/s/6cl8crdkyk1ptbt/twins22.csv?dl=1')\n",
        "head(twins)"
      ],
      "metadata": {
        "colab": {
          "base_uri": "https://localhost:8080/",
          "height": 286
        },
        "id": "jwwxgmf5pTfU",
        "outputId": "cfee2336-cb36-4bfa-d038-be058fe8b780"
      },
      "execution_count": 1,
      "outputs": [
        {
          "output_type": "display_data",
          "data": {
            "text/html": [
              "<table class=\"dataframe\">\n",
              "<caption>A data.frame: 6 × 8</caption>\n",
              "<thead>\n",
              "\t<tr><th></th><th scope=col>date</th><th scope=col>month</th><th scope=col>opponent</th><th scope=col>win</th><th scope=col>home.away</th><th scope=col>score</th><th scope=col>twins.HR</th><th scope=col>opponent.HR</th></tr>\n",
              "\t<tr><th></th><th scope=col>&lt;chr&gt;</th><th scope=col>&lt;chr&gt;</th><th scope=col>&lt;chr&gt;</th><th scope=col>&lt;int&gt;</th><th scope=col>&lt;chr&gt;</th><th scope=col>&lt;chr&gt;</th><th scope=col>&lt;int&gt;</th><th scope=col>&lt;int&gt;</th></tr>\n",
              "</thead>\n",
              "<tbody>\n",
              "\t<tr><th scope=row>1</th><td>2022-04-08</td><td>Apr</td><td>Mariners</td><td>0</td><td>home</td><td>1-2 </td><td>1</td><td>1</td></tr>\n",
              "\t<tr><th scope=row>2</th><td>2022-04-09</td><td>Apr</td><td>Mariners</td><td>0</td><td>home</td><td>3-4 </td><td>2</td><td>1</td></tr>\n",
              "\t<tr><th scope=row>3</th><td>2022-04-10</td><td>Apr</td><td>Mariners</td><td>1</td><td>home</td><td>10-4</td><td>6</td><td>1</td></tr>\n",
              "\t<tr><th scope=row>4</th><td>2022-04-11</td><td>Apr</td><td>Mariners</td><td>1</td><td>home</td><td>4-0 </td><td>0</td><td>0</td></tr>\n",
              "\t<tr><th scope=row>5</th><td>2022-04-12</td><td>Apr</td><td>Dodgers </td><td>0</td><td>home</td><td>2-7 </td><td>0</td><td>0</td></tr>\n",
              "\t<tr><th scope=row>6</th><td>2022-04-13</td><td>Apr</td><td>Dodgers </td><td>0</td><td>home</td><td>0-7 </td><td>0</td><td>4</td></tr>\n",
              "</tbody>\n",
              "</table>\n"
            ],
            "text/markdown": "\nA data.frame: 6 × 8\n\n| <!--/--> | date &lt;chr&gt; | month &lt;chr&gt; | opponent &lt;chr&gt; | win &lt;int&gt; | home.away &lt;chr&gt; | score &lt;chr&gt; | twins.HR &lt;int&gt; | opponent.HR &lt;int&gt; |\n|---|---|---|---|---|---|---|---|---|\n| 1 | 2022-04-08 | Apr | Mariners | 0 | home | 1-2  | 1 | 1 |\n| 2 | 2022-04-09 | Apr | Mariners | 0 | home | 3-4  | 2 | 1 |\n| 3 | 2022-04-10 | Apr | Mariners | 1 | home | 10-4 | 6 | 1 |\n| 4 | 2022-04-11 | Apr | Mariners | 1 | home | 4-0  | 0 | 0 |\n| 5 | 2022-04-12 | Apr | Dodgers  | 0 | home | 2-7  | 0 | 0 |\n| 6 | 2022-04-13 | Apr | Dodgers  | 0 | home | 0-7  | 0 | 4 |\n\n",
            "text/latex": "A data.frame: 6 × 8\n\\begin{tabular}{r|llllllll}\n  & date & month & opponent & win & home.away & score & twins.HR & opponent.HR\\\\\n  & <chr> & <chr> & <chr> & <int> & <chr> & <chr> & <int> & <int>\\\\\n\\hline\n\t1 & 2022-04-08 & Apr & Mariners & 0 & home & 1-2  & 1 & 1\\\\\n\t2 & 2022-04-09 & Apr & Mariners & 0 & home & 3-4  & 2 & 1\\\\\n\t3 & 2022-04-10 & Apr & Mariners & 1 & home & 10-4 & 6 & 1\\\\\n\t4 & 2022-04-11 & Apr & Mariners & 1 & home & 4-0  & 0 & 0\\\\\n\t5 & 2022-04-12 & Apr & Dodgers  & 0 & home & 2-7  & 0 & 0\\\\\n\t6 & 2022-04-13 & Apr & Dodgers  & 0 & home & 0-7  & 0 & 4\\\\\n\\end{tabular}\n",
            "text/plain": [
              "  date       month opponent win home.away score twins.HR opponent.HR\n",
              "1 2022-04-08 Apr   Mariners 0   home      1-2   1        1          \n",
              "2 2022-04-09 Apr   Mariners 0   home      3-4   2        1          \n",
              "3 2022-04-10 Apr   Mariners 1   home      10-4  6        1          \n",
              "4 2022-04-11 Apr   Mariners 1   home      4-0   0        0          \n",
              "5 2022-04-12 Apr   Dodgers  0   home      2-7   0        0          \n",
              "6 2022-04-13 Apr   Dodgers  0   home      0-7   0        4          "
            ]
          },
          "metadata": {}
        }
      ]
    },
    {
      "cell_type": "markdown",
      "source": [
        "## Modeling number of home runs\n",
        "\n",
        "We'll begin by modeling $Y$, the number of home runs hit by the Twins per game.\n",
        "\n",
        "\n"
      ],
      "metadata": {
        "id": "t1yaX1xGqmLx"
      }
    },
    {
      "cell_type": "markdown",
      "source": [
        "\n",
        "<img src=\"https://img.mlbstatic.com/mlb-images/image/private/ar_16:9,g_auto,q_auto:good,w_1024,c_fill,f_jpg/mlb/bwfi3u2xpq6rhjmrhwm6\" width=40%>\n",
        "\n",
        "[image source](https://img.mlbstatic.com/mlb-images/image/private/ar_16:9,g_auto,q_auto:good,w_1024,c_fill,f_jpg/mlb/bwfi3u2xpq6rhjmrhwm6)\n"
      ],
      "metadata": {
        "id": "hwmEteeWs6Pg"
      }
    },
    {
      "cell_type": "markdown",
      "source": [
        "Before getting into details let's explore the distribution of $Y$, by finding the number of games where $k$ home runs are hit and graphing the corresponding results:"
      ],
      "metadata": {
        "id": "hULdaPEHrsq-"
      }
    },
    {
      "cell_type": "code",
      "source": [
        "library(dplyr)\n",
        "(twins\n",
        "  %>% group_by(twins.HR)\n",
        "  %>% summarize(ngames = n())\n",
        "  %>% mutate(pct.games = round(ngames/162,3))\n",
        ")"
      ],
      "metadata": {
        "colab": {
          "base_uri": "https://localhost:8080/",
          "height": 560
        },
        "id": "bxo4MGP8tcph",
        "outputId": "55cf2764-c5ab-4242-a6b6-686e39ae7ec7"
      },
      "execution_count": 2,
      "outputs": [
        {
          "output_type": "stream",
          "name": "stderr",
          "text": [
            "\n",
            "Attaching package: ‘dplyr’\n",
            "\n",
            "\n",
            "The following objects are masked from ‘package:stats’:\n",
            "\n",
            "    filter, lag\n",
            "\n",
            "\n",
            "The following objects are masked from ‘package:base’:\n",
            "\n",
            "    intersect, setdiff, setequal, union\n",
            "\n",
            "\n"
          ]
        },
        {
          "output_type": "display_data",
          "data": {
            "text/html": [
              "<table class=\"dataframe\">\n",
              "<caption>A tibble: 7 × 3</caption>\n",
              "<thead>\n",
              "\t<tr><th scope=col>twins.HR</th><th scope=col>ngames</th><th scope=col>pct.games</th></tr>\n",
              "\t<tr><th scope=col>&lt;int&gt;</th><th scope=col>&lt;int&gt;</th><th scope=col>&lt;dbl&gt;</th></tr>\n",
              "</thead>\n",
              "<tbody>\n",
              "\t<tr><td>0</td><td>58</td><td>0.358</td></tr>\n",
              "\t<tr><td>1</td><td>60</td><td>0.370</td></tr>\n",
              "\t<tr><td>2</td><td>25</td><td>0.154</td></tr>\n",
              "\t<tr><td>3</td><td>13</td><td>0.080</td></tr>\n",
              "\t<tr><td>4</td><td> 2</td><td>0.012</td></tr>\n",
              "\t<tr><td>5</td><td> 3</td><td>0.019</td></tr>\n",
              "\t<tr><td>6</td><td> 1</td><td>0.006</td></tr>\n",
              "</tbody>\n",
              "</table>\n"
            ],
            "text/markdown": "\nA tibble: 7 × 3\n\n| twins.HR &lt;int&gt; | ngames &lt;int&gt; | pct.games &lt;dbl&gt; |\n|---|---|---|\n| 0 | 58 | 0.358 |\n| 1 | 60 | 0.370 |\n| 2 | 25 | 0.154 |\n| 3 | 13 | 0.080 |\n| 4 |  2 | 0.012 |\n| 5 |  3 | 0.019 |\n| 6 |  1 | 0.006 |\n\n",
            "text/latex": "A tibble: 7 × 3\n\\begin{tabular}{lll}\n twins.HR & ngames & pct.games\\\\\n <int> & <int> & <dbl>\\\\\n\\hline\n\t 0 & 58 & 0.358\\\\\n\t 1 & 60 & 0.370\\\\\n\t 2 & 25 & 0.154\\\\\n\t 3 & 13 & 0.080\\\\\n\t 4 &  2 & 0.012\\\\\n\t 5 &  3 & 0.019\\\\\n\t 6 &  1 & 0.006\\\\\n\\end{tabular}\n",
            "text/plain": [
              "  twins.HR ngames pct.games\n",
              "1 0        58     0.358    \n",
              "2 1        60     0.370    \n",
              "3 2        25     0.154    \n",
              "4 3        13     0.080    \n",
              "5 4         2     0.012    \n",
              "6 5         3     0.019    \n",
              "7 6         1     0.006    "
            ]
          },
          "metadata": {}
        }
      ]
    },
    {
      "cell_type": "code",
      "source": [
        "library(ggplot2)\n",
        "ggplot(data = twins) +\n",
        "  geom_bar(aes(x = twins.HR, y = after_stat(count)/162),width = .5) +\n",
        "    xlab('Number of home runs') + ylab('Observed proportion of games') +\n",
        "      theme(axis.text = element_text(size = 14,color='black')) +\n",
        "      theme(axis.title = element_text(size = 20,color='black')) +\n",
        "      scale_x_continuous(breaks = 0:6) +\n",
        "        ylim(c(0,0.65))"
      ],
      "metadata": {
        "colab": {
          "base_uri": "https://localhost:8080/",
          "height": 437
        },
        "id": "udDofm7lsh6H",
        "outputId": "ad331ce0-e172-4c3a-88ac-c3ccdde89d68"
      },
      "execution_count": 3,
      "outputs": [
        {
          "output_type": "display_data",
          "data": {
            "text/plain": [
              "plot without title"
            ],
            "image/png": "[encoded data removed]"
          },
          "metadata": {
            "image/png": {
              "width": 420,
              "height": 420
            }
          }
        }
      ]
    },
    {
      "cell_type": "markdown",
      "source": [
        "Since $Y$ measures the number of occurrences per unit time (one game), a Poisson model seems reasonable for $Y$.  Since a single time unit is one game, and $Y$ is measured over $t=1$ game, we can say $Y\\sim POI(\\lambda\\cdot 1)$ where $\\lambda$ represents the underlying rate of home runs per game.  Or more simply, $Y\\sim POI(\\lambda)$."
      ],
      "metadata": {
        "id": "k6CxGpOYs8go"
      }
    },
    {
      "cell_type": "markdown",
      "source": [
        "**Our goal: estimate $\\lambda$.**"
      ],
      "metadata": {
        "id": "ahK6J7uwuT95"
      }
    },
    {
      "cell_type": "markdown",
      "source": [
        "# The peck-and-check approach"
      ],
      "metadata": {
        "id": "YfyeeT9os0aG"
      }
    },
    {
      "cell_type": "markdown",
      "source": [
        "The big idea here is to find a $\\lambda$ that results in a Poisson model that fits the above observed proportions well."
      ],
      "metadata": {
        "id": "ym8AJAl-uZpI"
      }
    },
    {
      "cell_type": "markdown",
      "source": [
        "Let's blindly guess at two values of $\\lambda$:  \n",
        "\n",
        "* Model 1: $\\lambda = 0.5$ (interpreted: the Twins hit, on average, 0.5 HR/game or 1 HR every 2 games)\n",
        "* Model 2: $\\lambda = 2$ (interpreted: the Twins hit, on average, 2 HR/game)"
      ],
      "metadata": {
        "id": "c8qP3BkKvhQK"
      }
    },
    {
      "cell_type": "markdown",
      "source": [
        "Evaluating these models involves finding finding $P(Y=k)$, for each $\\lambda$, i.e. evaluating:\n",
        "\n",
        "$$P(Y=k) = \\frac{e^{-\\lambda}\\lambda^k}{k!},  k\\in \\{0,1,2,3,4,5,6\\}$$\n",
        "\n",
        "We would then compare these probabilities to the observed proportions in our data."
      ],
      "metadata": {
        "id": "Io0hpxYEydf0"
      }
    },
    {
      "cell_type": "markdown",
      "source": [
        "## Fitting Model 1\n",
        "\n",
        "Fitting Model 1 with $\\lambda = 0.5$ simply means finding $P(Y=k)$ for $\\lambda = 0.5$, i.e. evaluating:\n",
        "\n",
        "$$P(Y=k) = \\frac{e^{-0.5}0.5^k}{k!},  k\\in \\{0,1,2,3,4,5,6\\}$$"
      ],
      "metadata": {
        "id": "SJSWDKHCvtuq"
      }
    },
    {
      "cell_type": "code",
      "source": [
        "(model1.probs <- round(dpois(0:6, 0.5),4))"
      ],
      "metadata": {
        "colab": {
          "base_uri": "https://localhost:8080/",
          "height": 34
        },
        "id": "8qd2rVVFusiY",
        "outputId": "b76c22ac-c99c-4f45-9320-a22522d074e1"
      },
      "execution_count": 4,
      "outputs": [
        {
          "output_type": "display_data",
          "data": {
            "text/html": [
              "<style>\n",
              ".list-inline {list-style: none; margin:0; padding: 0}\n",
              ".list-inline>li {display: inline-block}\n",
              ".list-inline>li:not(:last-child)::after {content: \"\\00b7\"; padding: 0 .5ex}\n",
              "</style>\n",
              "<ol class=list-inline><li>0.6065</li><li>0.3033</li><li>0.0758</li><li>0.0126</li><li>0.0016</li><li>2e-04</li><li>0</li></ol>\n"
            ],
            "text/markdown": "1. 0.6065\n2. 0.3033\n3. 0.0758\n4. 0.0126\n5. 0.0016\n6. 2e-04\n7. 0\n\n\n",
            "text/latex": "\\begin{enumerate*}\n\\item 0.6065\n\\item 0.3033\n\\item 0.0758\n\\item 0.0126\n\\item 0.0016\n\\item 2e-04\n\\item 0\n\\end{enumerate*}\n",
            "text/plain": [
              "[1] 0.6065 0.3033 0.0758 0.0126 0.0016 0.0002 0.0000"
            ]
          },
          "metadata": {}
        }
      ]
    },
    {
      "cell_type": "markdown",
      "source": [
        "Graphing these:"
      ],
      "metadata": {
        "id": "i2SjHDMPw7Rz"
      }
    },
    {
      "cell_type": "code",
      "source": [
        "ggplot() +\n",
        "  geom_bar(aes(x = 0:6, y = model1.probs),stat='identity',width = .5) +\n",
        "    xlab('Number of home runs') + ylab(expression(paste('Model 1 probabilities (',lambda,'=0.5)'))) +\n",
        "      theme(axis.text = element_text(size = 14,color='black')) +\n",
        "      theme(axis.title = element_text(size = 20,color='black')) +\n",
        "      scale_x_continuous(breaks = 0:6)+\n",
        "        ylim(c(0,0.65))"
      ],
      "metadata": {
        "colab": {
          "base_uri": "https://localhost:8080/",
          "height": 437
        },
        "id": "DYbLiNUtw8er",
        "outputId": "f76a8086-9814-4f4a-9c7e-9f20510bb04e"
      },
      "execution_count": 6,
      "outputs": [
        {
          "output_type": "display_data",
          "data": {
            "text/plain": [
              "plot without title"
            ],
            "image/png": "[encoded data removed]"
          },
          "metadata": {
            "image/png": {
              "width": 420,
              "height": 420
            }
          }
        }
      ]
    },
    {
      "cell_type": "markdown",
      "source": [
        "Not bad, but this model appears to far over-weight $Y=0$ observations and not give enough weight to $Y=1$ or above.  Maybe our Model 2 $\\lambda$ will be better."
      ],
      "metadata": {
        "id": "5pxS9Qn0xEsp"
      }
    },
    {
      "cell_type": "markdown",
      "source": [
        "## Fitting Model 2\n"
      ],
      "metadata": {
        "id": "2ZVz43SSzT0T"
      }
    },
    {
      "cell_type": "markdown",
      "source": [
        "The process is exactly the same, except we will plug in $\\lambda = 2$ into the Poisson formula instead.  The Model 2 probabilities are:\n",
        "\n",
        "$$P(Y=k) = \\frac{e^{-2}2^k}{k!},  k\\in \\{0,1,2,3,4,5,6\\}$$"
      ],
      "metadata": {
        "id": "I2NmlcRD1O-d"
      }
    },
    {
      "cell_type": "code",
      "source": [
        "(model2.probs <- round(dpois(0:6, 2),4))"
      ],
      "metadata": {
        "colab": {
          "base_uri": "https://localhost:8080/",
          "height": 34
        },
        "id": "KgYSDIia1x2X",
        "outputId": "80e058db-5798-4cc1-adee-46992b6131e5"
      },
      "execution_count": 7,
      "outputs": [
        {
          "output_type": "display_data",
          "data": {
            "text/html": [
              "<style>\n",
              ".list-inline {list-style: none; margin:0; padding: 0}\n",
              ".list-inline>li {display: inline-block}\n",
              ".list-inline>li:not(:last-child)::after {content: \"\\00b7\"; padding: 0 .5ex}\n",
              "</style>\n",
              "<ol class=list-inline><li>0.1353</li><li>0.2707</li><li>0.2707</li><li>0.1804</li><li>0.0902</li><li>0.0361</li><li>0.012</li></ol>\n"
            ],
            "text/markdown": "1. 0.1353\n2. 0.2707\n3. 0.2707\n4. 0.1804\n5. 0.0902\n6. 0.0361\n7. 0.012\n\n\n",
            "text/latex": "\\begin{enumerate*}\n\\item 0.1353\n\\item 0.2707\n\\item 0.2707\n\\item 0.1804\n\\item 0.0902\n\\item 0.0361\n\\item 0.012\n\\end{enumerate*}\n",
            "text/plain": [
              "[1] 0.1353 0.2707 0.2707 0.1804 0.0902 0.0361 0.0120"
            ]
          },
          "metadata": {}
        }
      ]
    },
    {
      "cell_type": "code",
      "source": [
        "ggplot() +\n",
        "  geom_bar(aes(x = 0:6, y = model2.probs),stat='identity',width = .5) +\n",
        "    xlab('Number of home runs') + ylab(expression(paste('Model 2 probabilities (',lambda,'=2)'))) +\n",
        "      theme(axis.text = element_text(size = 14,color='black')) +\n",
        "      theme(axis.title = element_text(size = 20,color='black')) +\n",
        "      scale_x_continuous(breaks = 0:6)+\n",
        "        ylim(c(0,0.65))"
      ],
      "metadata": {
        "colab": {
          "base_uri": "https://localhost:8080/",
          "height": 437
        },
        "id": "CUgvKtzI14c_",
        "outputId": "304e09b8-3f6b-464a-ba9a-25f54161f649"
      },
      "execution_count": 8,
      "outputs": [
        {
          "output_type": "display_data",
          "data": {
            "text/plain": [
              "plot without title"
            ],
            "image/png": "[encoded data removed]"
          },
          "metadata": {
            "image/png": {
              "width": 420,
              "height": 420
            }
          }
        }
      ]
    },
    {
      "cell_type": "markdown",
      "source": [
        "$\\lambda = 2$ appears to have drastically over-compensated; it now significantly over-estimates the proportion of 0-HR games and gives too much weight to 2-HR games and above.  "
      ],
      "metadata": {
        "id": "sG4uBWpS1OtM"
      }
    },
    {
      "cell_type": "markdown",
      "source": [
        "Putting all the graphs next to each other; the observed data on the left and the two fitted models on the right:"
      ],
      "metadata": {
        "id": "qlvwff7C2dHX"
      }
    },
    {
      "cell_type": "markdown",
      "source": [
        "![image.png](data:image/png;base64,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)"
      ],
      "metadata": {
        "id": "z0XSHI5y3KA_"
      }
    },
    {
      "cell_type": "markdown",
      "source": [
        "This raises a couple questions:\n",
        "\n",
        "* Neither Model 1 nor 2 are ideal.  But can we determine which model, 1 or 2, fits better?\n",
        "* It appears we need a $\\lambda$ somewhere between 0.5 and 2.  But where?  There are infinitely many possibilities, and this peck-and-check method is pretty inefficient.  Can we find an \"optimal\" value of $\\lambda$?"
      ],
      "metadata": {
        "id": "qeatD1DB2fpf"
      }
    },
    {
      "cell_type": "markdown",
      "source": [
        "# The model likelihood\n"
      ],
      "metadata": {
        "id": "eddIRL072MkH"
      }
    },
    {
      "cell_type": "markdown",
      "source": [
        "Given $n$ discrete observations $Y_1$, $Y_2$,...,$Y_n$, with a probability model that depends on a parameter $\\theta$ (possibly a vector), the ***likelihood of $\\theta$*** is defined to be:\n",
        "\n",
        "$$Lik(\\theta) = P(Y_1 = k_1)P(Y_2 = k_2)⋯P(Y_n = k_n) = \\prod_{i=1}^n P(Y_i = k_i)$$\n",
        "\n",
        "Here, $k_1$ is just the observed value of $Y_1$; $k_2$ is the first observation of $Y_2$, etc.  \n",
        "\n",
        "It's called a ***likelihood*** because it represents, overall, how ***likely*** the entire $n$ observed data points are given the value of the parameter $\\theta$.\n"
      ],
      "metadata": {
        "id": "mkwTPnu82I-t"
      }
    },
    {
      "cell_type": "markdown",
      "source": [
        "Reconsider our data:"
      ],
      "metadata": {
        "id": "AHTKdggv4adC"
      }
    },
    {
      "cell_type": "code",
      "source": [
        "head(twins,3)"
      ],
      "metadata": {
        "colab": {
          "base_uri": "https://localhost:8080/",
          "height": 192
        },
        "id": "WS5hretq35pW",
        "outputId": "6beac2e7-3607-4cf1-bcd0-56cea6e96c6b"
      },
      "execution_count": null,
      "outputs": [
        {
          "output_type": "display_data",
          "data": {
            "text/html": [
              "<table class=\"dataframe\">\n",
              "<caption>A data.frame: 3 × 8</caption>\n",
              "<thead>\n",
              "\t<tr><th></th><th scope=col>date</th><th scope=col>month</th><th scope=col>opponent</th><th scope=col>win</th><th scope=col>home.away</th><th scope=col>score</th><th scope=col>twins.HR</th><th scope=col>opponent.HR</th></tr>\n",
              "\t<tr><th></th><th scope=col>&lt;chr&gt;</th><th scope=col>&lt;chr&gt;</th><th scope=col>&lt;chr&gt;</th><th scope=col>&lt;int&gt;</th><th scope=col>&lt;chr&gt;</th><th scope=col>&lt;chr&gt;</th><th scope=col>&lt;int&gt;</th><th scope=col>&lt;int&gt;</th></tr>\n",
              "</thead>\n",
              "<tbody>\n",
              "\t<tr><th scope=row>1</th><td>2022-04-08</td><td>Apr</td><td>Mariners</td><td>0</td><td>home</td><td>1-2 </td><td>1</td><td>1</td></tr>\n",
              "\t<tr><th scope=row>2</th><td>2022-04-09</td><td>Apr</td><td>Mariners</td><td>0</td><td>home</td><td>3-4 </td><td>2</td><td>1</td></tr>\n",
              "\t<tr><th scope=row>3</th><td>2022-04-10</td><td>Apr</td><td>Mariners</td><td>1</td><td>home</td><td>10-4</td><td>6</td><td>1</td></tr>\n",
              "</tbody>\n",
              "</table>\n"
            ],
            "text/markdown": "\nA data.frame: 3 × 8\n\n| <!--/--> | date &lt;chr&gt; | month &lt;chr&gt; | opponent &lt;chr&gt; | win &lt;int&gt; | home.away &lt;chr&gt; | score &lt;chr&gt; | twins.HR &lt;int&gt; | opponent.HR &lt;int&gt; |\n|---|---|---|---|---|---|---|---|---|\n| 1 | 2022-04-08 | Apr | Mariners | 0 | home | 1-2  | 1 | 1 |\n| 2 | 2022-04-09 | Apr | Mariners | 0 | home | 3-4  | 2 | 1 |\n| 3 | 2022-04-10 | Apr | Mariners | 1 | home | 10-4 | 6 | 1 |\n\n",
            "text/latex": "A data.frame: 3 × 8\n\\begin{tabular}{r|llllllll}\n  & date & month & opponent & win & home.away & score & twins.HR & opponent.HR\\\\\n  & <chr> & <chr> & <chr> & <int> & <chr> & <chr> & <int> & <int>\\\\\n\\hline\n\t1 & 2022-04-08 & Apr & Mariners & 0 & home & 1-2  & 1 & 1\\\\\n\t2 & 2022-04-09 & Apr & Mariners & 0 & home & 3-4  & 2 & 1\\\\\n\t3 & 2022-04-10 & Apr & Mariners & 1 & home & 10-4 & 6 & 1\\\\\n\\end{tabular}\n",
            "text/plain": [
              "  date       month opponent win home.away score twins.HR opponent.HR\n",
              "1 2022-04-08 Apr   Mariners 0   home      1-2   1        1          \n",
              "2 2022-04-09 Apr   Mariners 0   home      3-4   2        1          \n",
              "3 2022-04-10 Apr   Mariners 1   home      10-4  6        1          "
            ]
          },
          "metadata": {}
        }
      ]
    },
    {
      "cell_type": "code",
      "source": [
        "tail(twins,3)"
      ],
      "metadata": {
        "colab": {
          "base_uri": "https://localhost:8080/",
          "height": 192
        },
        "id": "TG20Eojc5lgy",
        "outputId": "b65d3bcc-1755-4e48-8982-92e913ea3aa7"
      },
      "execution_count": null,
      "outputs": [
        {
          "output_type": "display_data",
          "data": {
            "text/html": [
              "<table class=\"dataframe\">\n",
              "<caption>A data.frame: 3 × 8</caption>\n",
              "<thead>\n",
              "\t<tr><th></th><th scope=col>date</th><th scope=col>month</th><th scope=col>opponent</th><th scope=col>win</th><th scope=col>home.away</th><th scope=col>score</th><th scope=col>twins.HR</th><th scope=col>opponent.HR</th></tr>\n",
              "\t<tr><th></th><th scope=col>&lt;chr&gt;</th><th scope=col>&lt;chr&gt;</th><th scope=col>&lt;chr&gt;</th><th scope=col>&lt;int&gt;</th><th scope=col>&lt;chr&gt;</th><th scope=col>&lt;chr&gt;</th><th scope=col>&lt;int&gt;</th><th scope=col>&lt;int&gt;</th></tr>\n",
              "</thead>\n",
              "<tbody>\n",
              "\t<tr><th scope=row>160</th><td>2022-10-03</td><td>Oct</td><td>White Sox</td><td>0</td><td>away</td><td>2-3 </td><td>1</td><td>1</td></tr>\n",
              "\t<tr><th scope=row>161</th><td>2022-10-04</td><td>Oct</td><td>White Sox</td><td>0</td><td>away</td><td>3-8 </td><td>1</td><td>1</td></tr>\n",
              "\t<tr><th scope=row>162</th><td>2022-10-05</td><td>Oct</td><td>White Sox</td><td>1</td><td>away</td><td>10-1</td><td>2</td><td>0</td></tr>\n",
              "</tbody>\n",
              "</table>\n"
            ],
            "text/markdown": "\nA data.frame: 3 × 8\n\n| <!--/--> | date &lt;chr&gt; | month &lt;chr&gt; | opponent &lt;chr&gt; | win &lt;int&gt; | home.away &lt;chr&gt; | score &lt;chr&gt; | twins.HR &lt;int&gt; | opponent.HR &lt;int&gt; |\n|---|---|---|---|---|---|---|---|---|\n| 160 | 2022-10-03 | Oct | White Sox | 0 | away | 2-3  | 1 | 1 |\n| 161 | 2022-10-04 | Oct | White Sox | 0 | away | 3-8  | 1 | 1 |\n| 162 | 2022-10-05 | Oct | White Sox | 1 | away | 10-1 | 2 | 0 |\n\n",
            "text/latex": "A data.frame: 3 × 8\n\\begin{tabular}{r|llllllll}\n  & date & month & opponent & win & home.away & score & twins.HR & opponent.HR\\\\\n  & <chr> & <chr> & <chr> & <int> & <chr> & <chr> & <int> & <int>\\\\\n\\hline\n\t160 & 2022-10-03 & Oct & White Sox & 0 & away & 2-3  & 1 & 1\\\\\n\t161 & 2022-10-04 & Oct & White Sox & 0 & away & 3-8  & 1 & 1\\\\\n\t162 & 2022-10-05 & Oct & White Sox & 1 & away & 10-1 & 2 & 0\\\\\n\\end{tabular}\n",
            "text/plain": [
              "    date       month opponent  win home.away score twins.HR opponent.HR\n",
              "160 2022-10-03 Oct   White Sox 0   away      2-3   1        1          \n",
              "161 2022-10-04 Oct   White Sox 0   away      3-8   1        1          \n",
              "162 2022-10-05 Oct   White Sox 1   away      10-1  2        0          "
            ]
          },
          "metadata": {}
        }
      ]
    },
    {
      "cell_type": "markdown",
      "source": [
        "We have $n=162$ and $k_1 = 1$, $k_2=2$, $k_3 = 6$, etc."
      ],
      "metadata": {
        "id": "0-20xUN24cuf"
      }
    },
    {
      "cell_type": "markdown",
      "source": [
        "For our example, $P(Y_i=k_i)$ is defined by the Poisson model, and the parameter $\\theta$ is just $\\lambda$.  "
      ],
      "metadata": {
        "id": "Sc72q4Bw4hcm"
      }
    },
    {
      "cell_type": "markdown",
      "source": [
        "Thus:\n",
        "\n",
        "$$Lik(\\lambda) = P(Y_1 = 1)\\times P(Y_2 = 2)\\times P(Y_3 = 6)\\times ...  \\times P(Y_{162}=2)$$\n",
        "$$ = \\frac{e^{-\\lambda}\\lambda^1}{1!}\\times\\frac{e^{-\\lambda}\\lambda^2}{2!} \\times\\frac{e^{-\\lambda}\\lambda^6}{6!} \\times ... \\times \\frac{e^{-\\lambda}\\lambda^2}{2!}$$"
      ],
      "metadata": {
        "id": "8jaBdcUl5c_0"
      }
    },
    {
      "cell_type": "code",
      "source": [
        "# plug in lambda = 0.5 and 2 into the above equation"
      ],
      "metadata": {
        "id": "Nt5qh0fSuFaa"
      },
      "execution_count": 11,
      "outputs": []
    },
    {
      "cell_type": "markdown",
      "source": [
        "## Evaluating the likelihood: peck-and-check $\\lambda$s"
      ],
      "metadata": {
        "id": "md_ul0P15r_w"
      }
    },
    {
      "cell_type": "markdown",
      "source": [
        "Let's find the likelihood for our first peck-and-check value of $\\lambda = 0.5$ from Model 1, above."
      ],
      "metadata": {
        "id": "iWmU22Ob76yj"
      }
    },
    {
      "cell_type": "code",
      "source": [
        "# dopis = probability of lambda = 0.5\n",
        "# prob = likelihood\n",
        "(Likelihood.model1 <- prod(dpois(twins$twins.HR, 0.5)))"
      ],
      "metadata": {
        "colab": {
          "base_uri": "https://localhost:8080/",
          "height": 34
        },
        "id": "xZUZpLeA76ag",
        "outputId": "d781f9d3-01fe-4460-f5a2-13466639bd9a"
      },
      "execution_count": 9,
      "outputs": [
        {
          "output_type": "display_data",
          "data": {
            "text/html": [
              "5.51814201203036e-119"
            ],
            "text/markdown": "5.51814201203036e-119",
            "text/latex": "5.51814201203036e-119",
            "text/plain": [
              "[1] 5.518142e-119"
            ]
          },
          "metadata": {}
        }
      ]
    },
    {
      "cell_type": "markdown",
      "source": [
        "Whew, that's tiny! 0.0000000(118 times)5518. How does it compare to the Model 2 $\\lambda = 2$?"
      ],
      "metadata": {
        "id": "zKzP2o9V8Pri"
      }
    },
    {
      "cell_type": "code",
      "source": [
        "(Likelihood.model2 <- prod(dpois(twins$twins.HR, 2)))"
      ],
      "metadata": {
        "colab": {
          "base_uri": "https://localhost:8080/",
          "height": 34
        },
        "id": "V_J88XQ_8VGs",
        "outputId": "12b1d53b-de9b-450c-b9bc-3daca2bcc1a1"
      },
      "execution_count": 12,
      "outputs": [
        {
          "output_type": "display_data",
          "data": {
            "text/html": [
              "2.37089448780911e-117"
            ],
            "text/markdown": "2.37089448780911e-117",
            "text/latex": "2.37089448780911e-117",
            "text/plain": [
              "[1] 2.370894e-117"
            ]
          },
          "metadata": {}
        }
      ]
    },
    {
      "cell_type": "markdown",
      "source": [
        "**This likelihood is higher (two fewer 0s), thus $\\lambda = 2$ fits these data better (makes the observed data values more likely) than $\\lambda = 0.5$.**"
      ],
      "metadata": {
        "id": "R5_z_EMD8WMJ"
      }
    },
    {
      "cell_type": "markdown",
      "source": [
        "# Log-likelihood"
      ],
      "metadata": {
        "id": "kJ1yLi65889R"
      }
    },
    {
      "cell_type": "markdown",
      "source": [
        "Notice the two likelihood values evaluated for $\\lambda = 0.5$ and $\\lambda = 2$ are extremely small.  This is common in practice.  To make model comparisons easier and likelihood maximization more stable, we typically work with ***log-likelihoods***.  The ***log-likelihood of a parameter $\\theta$*** is defined to be:\n",
        "\n",
        "$$logLik(\\theta) = \\log(Lik(\\theta)) = \\log\\left(P(Y_1 = k_1)P(Y_2 = k_2)⋯P(Y_n = k_n)\\right)$$\n",
        "$$=\\log(P(Y_1 = k_1)) + \\log(P(Y_2 = k_2)) + ... + \\log(P(Y_n = k_n))$$\n",
        "$$=\\sum_{i=1}^n \\log(P(Y_i = k_i))$$\n",
        "\n",
        "Note that, due to properties of logarithms, the log of the product is the sum of the logs.  \n",
        "\n",
        "In practice, the natural log (log-base-e) is used.\n"
      ],
      "metadata": {
        "id": "QMlQutoq9D5U"
      }
    },
    {
      "cell_type": "markdown",
      "source": [
        "An important quality of the log function is that it's one-to-one.  This implies if, if Model A has a higher likelihood than Model B, then the log-likelihood of Model A will also be higher than the log-likelihood of Model B.  Thus it suffices to compare log-likelihoods instead of likelihoods, and these comparisons are typically more numerically stable (don't involve comparing such tiny numbers)."
      ],
      "metadata": {
        "id": "HMrejqMlAZS9"
      }
    },
    {
      "cell_type": "markdown",
      "source": [
        "For our example, the log-likelihood is:\n",
        "\n",
        "$$logLik(\\lambda) = \\log\\left(\\frac{e^{-\\lambda}\\lambda^1}{1!}\\right)  + \\log\\left(\\frac{e^{-\\lambda}\\lambda^2}{2!}\\right) + \\log\\left(\\frac{e^{-\\lambda}\\lambda^6}{6!}\\right) + ... + \\log\\left(\\frac{e^{-\\lambda}\\lambda^0}{0!}\\right)+\\log\\left(\\frac{e^{-\\lambda}\\lambda^2}{2!}\\right)$$"
      ],
      "metadata": {
        "id": "eBoQ0PQN4AOu"
      }
    },
    {
      "cell_type": "markdown",
      "source": [
        "### Log-likelihood: peck-and-check $\\lambda$s"
      ],
      "metadata": {
        "id": "ifk1PpxN-WtO"
      }
    },
    {
      "cell_type": "markdown",
      "source": [
        "Let's find and compare the log-likelihoods for our two $\\lambda$ values we considered earlier."
      ],
      "metadata": {
        "id": "19uYb8CA-clm"
      }
    },
    {
      "cell_type": "markdown",
      "source": [
        "First, for Model 1 ($\\lambda = 0.5$):"
      ],
      "metadata": {
        "id": "jdRMwg33_4-e"
      }
    },
    {
      "cell_type": "code",
      "source": [
        "#Finding the log of the product, model 1 (lambda = 0.5):\n",
        "(logLik.model1 <- log(Likelihood.model1))"
      ],
      "metadata": {
        "colab": {
          "base_uri": "https://localhost:8080/",
          "height": 34
        },
        "id": "DIfPtEgq9Dja",
        "outputId": "b31026ed-a62e-43be-e58c-3e89d0f2b699"
      },
      "execution_count": 14,
      "outputs": [
        {
          "output_type": "display_data",
          "data": {
            "text/html": [
              "-272.299584854686"
            ],
            "text/markdown": "-272.299584854686",
            "text/latex": "-272.299584854686",
            "text/plain": [
              "[1] -272.2996"
            ]
          },
          "metadata": {}
        }
      ]
    },
    {
      "cell_type": "code",
      "source": [
        "#Same thing, but using the sum of the logged probabilities:\n",
        "# get probability in log first, then sum\n",
        "sum(log(dpois(twins$twins.HR, lambda = 0.5)))"
      ],
      "metadata": {
        "colab": {
          "base_uri": "https://localhost:8080/",
          "height": 34
        },
        "id": "54fUR5Sp-yfL",
        "outputId": "a97ad9de-060f-4619-96a4-358bfa795aa1"
      },
      "execution_count": 15,
      "outputs": [
        {
          "output_type": "display_data",
          "data": {
            "text/html": [
              "-272.299584854686"
            ],
            "text/markdown": "-272.299584854686",
            "text/latex": "-272.299584854686",
            "text/plain": [
              "[1] -272.2996"
            ]
          },
          "metadata": {}
        }
      ]
    },
    {
      "cell_type": "markdown",
      "source": [
        "And now for Model 2"
      ],
      "metadata": {
        "id": "ZARmOCFb_0jd"
      }
    },
    {
      "cell_type": "code",
      "source": [
        "#Log-likelihood, model 2 (lambda = 2):\n",
        "(logLik.model2 <- log(Likelihood.model2))"
      ],
      "metadata": {
        "colab": {
          "base_uri": "https://localhost:8080/",
          "height": 34
        },
        "id": "JqschgMK_MOT",
        "outputId": "4555a7e3-ac8a-4c2b-b0c7-bd717552ecaa"
      },
      "execution_count": 16,
      "outputs": [
        {
          "output_type": "display_data",
          "data": {
            "text/html": [
              "-268.539188575345"
            ],
            "text/markdown": "-268.539188575345",
            "text/latex": "-268.539188575345",
            "text/plain": [
              "[1] -268.5392"
            ]
          },
          "metadata": {}
        }
      ]
    },
    {
      "cell_type": "markdown",
      "source": [
        "Once again, we see that Model 2 ($\\lambda = 2$) fits the home run data better (has a higher log-likelihood).  That is:\n",
        "\n",
        "$$logLik(2) > logLik(0.5).$$\n",
        "\n",
        "This comparison is also much easier to make (as long as we keep the negative signs straight), not requiring us to compare tiny, tiny values.  "
      ],
      "metadata": {
        "id": "JgOkpYn4_zzM"
      }
    },
    {
      "cell_type": "markdown",
      "source": [
        "## Maximizing the log-likelihood\n"
      ],
      "metadata": {
        "id": "oN2dWuY0BK6e"
      }
    },
    {
      "cell_type": "markdown",
      "source": [
        "We've used the log-likelihood to determine which of our two peck-and-check $\\lambda$s are \"best\".  But is there a better one?  To answer this, let's plot the log-likelihood for a sequence of possible $\\lambda$s. To accomplish this we need to write a function that returns $logLik(\\lambda)$ for any inputed value of $\\lambda$."
      ],
      "metadata": {
        "id": "z-Tx8ESZBM-U"
      }
    },
    {
      "cell_type": "code",
      "source": [
        "#Writing the log-likelihood function:\n",
        "loglik.hr <- function(lambda) {\n",
        "  out <- sum(log(dpois(twins$twins.HR, lambda)))\n",
        "  return(out)\n",
        "}"
      ],
      "metadata": {
        "id": "puIQjCe0BiV0"
      },
      "execution_count": 17,
      "outputs": []
    },
    {
      "cell_type": "code",
      "source": [
        "#Checking it works for two lambdas we already know:\n",
        "loglik.hr(0.5)"
      ],
      "metadata": {
        "colab": {
          "base_uri": "https://localhost:8080/",
          "height": 34
        },
        "id": "eXW6jqNyDRN2",
        "outputId": "fb45a89f-68a7-4474-d364-2b4a36b2d52a"
      },
      "execution_count": 18,
      "outputs": [
        {
          "output_type": "display_data",
          "data": {
            "text/html": [
              "-272.299584854686"
            ],
            "text/markdown": "-272.299584854686",
            "text/latex": "-272.299584854686",
            "text/plain": [
              "[1] -272.2996"
            ]
          },
          "metadata": {}
        }
      ]
    },
    {
      "cell_type": "code",
      "source": [
        "loglik.hr(2)"
      ],
      "metadata": {
        "colab": {
          "base_uri": "https://localhost:8080/",
          "height": 34
        },
        "id": "F8B1kinVDel2",
        "outputId": "f7ea546e-aeed-4bc4-9b9a-3689badfdf91"
      },
      "execution_count": 19,
      "outputs": [
        {
          "output_type": "display_data",
          "data": {
            "text/html": [
              "-268.539188575345"
            ],
            "text/markdown": "-268.539188575345",
            "text/latex": "-268.539188575345",
            "text/plain": [
              "[1] -268.5392"
            ]
          },
          "metadata": {}
        }
      ]
    },
    {
      "cell_type": "code",
      "source": [
        "#Generating a sequence of lambdas:\n",
        "lambda.sequence <- seq(0.01, 2.5, l=100)"
      ],
      "metadata": {
        "id": "uY9HbGBhDfyd"
      },
      "execution_count": 20,
      "outputs": []
    },
    {
      "cell_type": "code",
      "source": [
        "#Evaluating the log-likelihood for each lambda in the sequence:\n",
        "# sapply = something similar to lambda function in python\n",
        "loglik.sequence <- sapply(lambda.sequence,loglik.hr)"
      ],
      "metadata": {
        "id": "du13A9eaDn1O"
      },
      "execution_count": 21,
      "outputs": []
    },
    {
      "cell_type": "code",
      "source": [
        "#Plotting:\n",
        "ggplot() +\n",
        "  geom_line(aes(x = lambda.sequence, y = loglik.sequence))+\n",
        "    xlab(expression(lambda)) + ylab(expression(logLik(lambda))) +\n",
        "     theme(axis.text = element_text(size = 14,color='black')) +\n",
        "      theme(axis.title = element_text(size = 20,color='black'))"
      ],
      "metadata": {
        "colab": {
          "base_uri": "https://localhost:8080/",
          "height": 437
        },
        "id": "tRUR_kIRDsZe",
        "outputId": "79bdc016-9a58-45e7-ef34-b1e8d7942189"
      },
      "execution_count": 22,
      "outputs": [
        {
          "output_type": "display_data",
          "data": {
            "text/plain": [
              "plot without title"
            ],
            "image/png": "[encoded data removed]"
          },
          "metadata": {
            "image/png": {
              "width": 420,
              "height": 420
            }
          }
        }
      ]
    },
    {
      "cell_type": "markdown",
      "source": [
        "It looks like the log-likelihood is maximized around $\\lambda \\approx 1$.  We can find the exact spot the maximum occurs with the `optimize()` function:"
      ],
      "metadata": {
        "id": "nl73A7mKEVt5"
      }
    },
    {
      "cell_type": "code",
      "source": [
        "# R calculates the max for you\n",
        "optimize(loglik.hr, interval = c(0, 2.5), maximum = TRUE)"
      ],
      "metadata": {
        "colab": {
          "base_uri": "https://localhost:8080/",
          "height": 114
        },
        "id": "GL-eoM2HEEQ-",
        "outputId": "6ce47bd1-37a0-4498-8461-f4d21ef11454"
      },
      "execution_count": 24,
      "outputs": [
        {
          "output_type": "display_data",
          "data": {
            "text/html": [
              "<dl>\n",
              "\t<dt>$maximum</dt>\n",
              "\t\t<dd>1.09875379937899</dd>\n",
              "\t<dt>$objective</dt>\n",
              "\t\t<dd>-229.154062444364</dd>\n",
              "</dl>\n"
            ],
            "text/markdown": "$maximum\n:   1.09875379937899\n$objective\n:   -229.154062444364\n\n\n",
            "text/latex": "\\begin{description}\n\\item[\\$maximum] 1.09875379937899\n\\item[\\$objective] -229.154062444364\n\\end{description}\n",
            "text/plain": [
              "$maximum\n",
              "[1] 1.098754\n",
              "\n",
              "$objective\n",
              "[1] -229.1541\n"
            ]
          },
          "metadata": {}
        }
      ]
    },
    {
      "cell_type": "markdown",
      "source": [
        "So $1.099$ is the value of $\\lambda$ that *maximizes* the *log-likelihood*, and thus the likelihood as well.  The value of the parameter that maximizes the likelihood of seeing the observed data is called the ***maximum likelihood estimate***, or MLE.  We use notation like $\\hat\\lambda_{MLE}$ to denote these estimates."
      ],
      "metadata": {
        "id": "9o23PZUyFdU3"
      }
    },
    {
      "cell_type": "markdown",
      "source": [
        "### Model evaluated at MLE"
      ],
      "metadata": {
        "id": "AXT7fpMsGoyo"
      }
    },
    {
      "cell_type": "markdown",
      "source": [
        "Let's find the modeled probabilities using our MLE of $\\hat\\lambda_{MLE} = 1.099$:"
      ],
      "metadata": {
        "id": "A0HsHBe5GeZw"
      }
    },
    {
      "cell_type": "code",
      "source": [
        "(mle.probs <- round(dpois(0:6, 1.099),4))"
      ],
      "metadata": {
        "colab": {
          "base_uri": "https://localhost:8080/",
          "height": 34
        },
        "id": "uqW6vsutGmVA",
        "outputId": "0bffeee8-a90e-4e99-a5b2-5425e362faae"
      },
      "execution_count": 25,
      "outputs": [
        {
          "output_type": "display_data",
          "data": {
            "text/html": [
              "<style>\n",
              ".list-inline {list-style: none; margin:0; padding: 0}\n",
              ".list-inline>li {display: inline-block}\n",
              ".list-inline>li:not(:last-child)::after {content: \"\\00b7\"; padding: 0 .5ex}\n",
              "</style>\n",
              "<ol class=list-inline><li>0.3332</li><li>0.3662</li><li>0.2012</li><li>0.0737</li><li>0.0203</li><li>0.0045</li><li>8e-04</li></ol>\n"
            ],
            "text/markdown": "1. 0.3332\n2. 0.3662\n3. 0.2012\n4. 0.0737\n5. 0.0203\n6. 0.0045\n7. 8e-04\n\n\n",
            "text/latex": "\\begin{enumerate*}\n\\item 0.3332\n\\item 0.3662\n\\item 0.2012\n\\item 0.0737\n\\item 0.0203\n\\item 0.0045\n\\item 8e-04\n\\end{enumerate*}\n",
            "text/plain": [
              "[1] 0.3332 0.3662 0.2012 0.0737 0.0203 0.0045 0.0008"
            ]
          },
          "metadata": {}
        }
      ]
    },
    {
      "cell_type": "code",
      "source": [
        "ggplot() +\n",
        "  geom_bar(aes(x = 0:6, y = mle.probs),stat='identity',width = .5) +\n",
        "    xlab('Number of home runs') + ylab(expression(paste('Probabilities using the MLE (',lambda,'=1.099)'))) +\n",
        "      theme(axis.text = element_text(size = 14,color='black')) +\n",
        "      theme(axis.title = element_text(size = 20,color='black')) +\n",
        "      scale_x_continuous(breaks = 0:6)+\n",
        "        ylim(c(0,0.65))"
      ],
      "metadata": {
        "colab": {
          "base_uri": "https://localhost:8080/",
          "height": 437
        },
        "id": "BDdAu52bGwsI",
        "outputId": "47fba747-936c-49d5-9ede-6ea7c24c0258"
      },
      "execution_count": 26,
      "outputs": [
        {
          "output_type": "display_data",
          "data": {
            "text/plain": [
              "plot without title"
            ],
            "image/png": "[encoded data removed]"
          },
          "metadata": {
            "image/png": {
              "width": 420,
              "height": 420
            }
          }
        }
      ]
    },
    {
      "cell_type": "markdown",
      "source": [
        "Putting all the models we've considered so far next to each other:"
      ],
      "metadata": {
        "id": "ahO6z5c4G59Q"
      }
    },
    {
      "cell_type": "markdown",
      "source": [
        "![image.png](data:image/png;base64,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)"
      ],
      "metadata": {
        "id": "YqDSsTBVHtIA"
      }
    },
    {
      "cell_type": "markdown",
      "source": [
        "Clearly, the Poisson probabilities using the MLE of $\\hat\\lambda_{MLE} = 1.099$ best fits the observed probabilities.  "
      ],
      "metadata": {
        "id": "U9yDkXVAHttj"
      }
    },
    {
      "cell_type": "markdown",
      "source": [
        "### The MLE isn't mysterious"
      ],
      "metadata": {
        "id": "xiQ15ZXiILqZ"
      }
    },
    {
      "cell_type": "markdown",
      "source": [
        "It turns out that the MLE, $\\hat\\lambda_{MLE} = 1.099$, has a pretty data-based interpretation.   Recall that $\\lambda$ measures the underlying average number of occurrences (home runs) per unit time (game).  We probably should have been able to guess at a pretty good estimate of what this rate is:"
      ],
      "metadata": {
        "id": "5y36Sn7kIjC7"
      }
    },
    {
      "cell_type": "code",
      "source": [
        "# MLE = maximized likelihood estimate"
      ],
      "metadata": {
        "id": "WcxhColmx9QJ"
      },
      "execution_count": 27,
      "outputs": []
    },
    {
      "cell_type": "code",
      "source": [
        "round(mean(twins$twins.HR),4)"
      ],
      "metadata": {
        "colab": {
          "base_uri": "https://localhost:8080/",
          "height": 34
        },
        "id": "SA--Cv4JIis4",
        "outputId": "eb8c5d08-1141-42cc-db83-c81931513558"
      },
      "execution_count": 28,
      "outputs": [
        {
          "output_type": "display_data",
          "data": {
            "text/html": [
              "1.0988"
            ],
            "text/markdown": "1.0988",
            "text/latex": "1.0988",
            "text/plain": [
              "[1] 1.0988"
            ]
          },
          "metadata": {}
        }
      ]
    },
    {
      "cell_type": "markdown",
      "source": [
        "To refresh your memory:"
      ],
      "metadata": {
        "id": "trwYboj7JBSM"
      }
    },
    {
      "cell_type": "code",
      "source": [
        "round(optimize(loglik.hr, interval = c(0.5, 2), maximum = TRUE)$maximum,4)"
      ],
      "metadata": {
        "colab": {
          "base_uri": "https://localhost:8080/",
          "height": 34
        },
        "id": "DEBuFl1ZI-mC",
        "outputId": "333da606-8c7a-4092-fcb8-e08b57887eeb"
      },
      "execution_count": null,
      "outputs": [
        {
          "output_type": "display_data",
          "data": {
            "text/html": [
              "1.0988"
            ],
            "text/markdown": "1.0988",
            "text/latex": "1.0988",
            "text/plain": [
              "[1] 1.0988"
            ]
          },
          "metadata": {}
        }
      ]
    },
    {
      "cell_type": "markdown",
      "source": [
        "I.e., the MLE of $\\lambda = 1.099$ is nothing other than the observed sample mean number of home runs hit per game!  "
      ],
      "metadata": {
        "id": "bGnGsOsJJDGp"
      }
    },
    {
      "cell_type": "markdown",
      "source": [
        "# New example: Win/Loss\n",
        "\n",
        "We also could consider modeling whether each game was a win or a loss.  Now, with $Y$ representing whether each game is a win or a loss (i.e., the number of 1's out of $n=1$ trials), we have:\n",
        "\n",
        "$$Y\\sim BIN(1,p)$$\n",
        "\n",
        "Thus:\n",
        "\n",
        "$$P(Y_i=k_i) = p^{k_i}(1-p)^{1-k_i}; k_i \\in \\{0,1\\}.$$\n",
        "\n",
        "This is the same as saying:\n",
        "\n",
        "$$P(Y_i=1) = p^1 (1-p)^0 = p$$\n",
        "$$P(Y_i=0) = p^0 (1-p)^1 = (1-p)$$"
      ],
      "metadata": {
        "id": "LcwHnkMAJQN5"
      }
    },
    {
      "cell_type": "markdown",
      "source": [
        "The log-likelihood function is now a function of $p$, given that $p$ is our parameter:\n",
        "\n",
        "$$logLik(p) = \\sum_{i=1}^n\\log(P(Y_i = k_i))$$"
      ],
      "metadata": {
        "id": "PdBDRYlF-bAG"
      }
    },
    {
      "cell_type": "markdown",
      "source": [
        "Looking at the first several rows:"
      ],
      "metadata": {
        "id": "pi1YsoLR-kwH"
      }
    },
    {
      "cell_type": "code",
      "source": [
        "head(twins, 3)"
      ],
      "metadata": {
        "colab": {
          "base_uri": "https://localhost:8080/",
          "height": 192
        },
        "id": "tdQG8MS2-yYH",
        "outputId": "87043406-47cf-459c-8dd0-88a2ecd4235e"
      },
      "execution_count": 29,
      "outputs": [
        {
          "output_type": "display_data",
          "data": {
            "text/html": [
              "<table class=\"dataframe\">\n",
              "<caption>A data.frame: 3 × 8</caption>\n",
              "<thead>\n",
              "\t<tr><th></th><th scope=col>date</th><th scope=col>month</th><th scope=col>opponent</th><th scope=col>win</th><th scope=col>home.away</th><th scope=col>score</th><th scope=col>twins.HR</th><th scope=col>opponent.HR</th></tr>\n",
              "\t<tr><th></th><th scope=col>&lt;chr&gt;</th><th scope=col>&lt;chr&gt;</th><th scope=col>&lt;chr&gt;</th><th scope=col>&lt;int&gt;</th><th scope=col>&lt;chr&gt;</th><th scope=col>&lt;chr&gt;</th><th scope=col>&lt;int&gt;</th><th scope=col>&lt;int&gt;</th></tr>\n",
              "</thead>\n",
              "<tbody>\n",
              "\t<tr><th scope=row>1</th><td>2022-04-08</td><td>Apr</td><td>Mariners</td><td>0</td><td>home</td><td>1-2 </td><td>1</td><td>1</td></tr>\n",
              "\t<tr><th scope=row>2</th><td>2022-04-09</td><td>Apr</td><td>Mariners</td><td>0</td><td>home</td><td>3-4 </td><td>2</td><td>1</td></tr>\n",
              "\t<tr><th scope=row>3</th><td>2022-04-10</td><td>Apr</td><td>Mariners</td><td>1</td><td>home</td><td>10-4</td><td>6</td><td>1</td></tr>\n",
              "</tbody>\n",
              "</table>\n"
            ],
            "text/markdown": "\nA data.frame: 3 × 8\n\n| <!--/--> | date &lt;chr&gt; | month &lt;chr&gt; | opponent &lt;chr&gt; | win &lt;int&gt; | home.away &lt;chr&gt; | score &lt;chr&gt; | twins.HR &lt;int&gt; | opponent.HR &lt;int&gt; |\n|---|---|---|---|---|---|---|---|---|\n| 1 | 2022-04-08 | Apr | Mariners | 0 | home | 1-2  | 1 | 1 |\n| 2 | 2022-04-09 | Apr | Mariners | 0 | home | 3-4  | 2 | 1 |\n| 3 | 2022-04-10 | Apr | Mariners | 1 | home | 10-4 | 6 | 1 |\n\n",
            "text/latex": "A data.frame: 3 × 8\n\\begin{tabular}{r|llllllll}\n  & date & month & opponent & win & home.away & score & twins.HR & opponent.HR\\\\\n  & <chr> & <chr> & <chr> & <int> & <chr> & <chr> & <int> & <int>\\\\\n\\hline\n\t1 & 2022-04-08 & Apr & Mariners & 0 & home & 1-2  & 1 & 1\\\\\n\t2 & 2022-04-09 & Apr & Mariners & 0 & home & 3-4  & 2 & 1\\\\\n\t3 & 2022-04-10 & Apr & Mariners & 1 & home & 10-4 & 6 & 1\\\\\n\\end{tabular}\n",
            "text/plain": [
              "  date       month opponent win home.away score twins.HR opponent.HR\n",
              "1 2022-04-08 Apr   Mariners 0   home      1-2   1        1          \n",
              "2 2022-04-09 Apr   Mariners 0   home      3-4   2        1          \n",
              "3 2022-04-10 Apr   Mariners 1   home      10-4  6        1          "
            ]
          },
          "metadata": {}
        }
      ]
    },
    {
      "cell_type": "code",
      "source": [
        "tail(twins,3)"
      ],
      "metadata": {
        "colab": {
          "base_uri": "https://localhost:8080/",
          "height": 192
        },
        "id": "2P8CgtSv-3-_",
        "outputId": "08121160-e6e5-4218-e255-58597badc7cf"
      },
      "execution_count": 30,
      "outputs": [
        {
          "output_type": "display_data",
          "data": {
            "text/html": [
              "<table class=\"dataframe\">\n",
              "<caption>A data.frame: 3 × 8</caption>\n",
              "<thead>\n",
              "\t<tr><th></th><th scope=col>date</th><th scope=col>month</th><th scope=col>opponent</th><th scope=col>win</th><th scope=col>home.away</th><th scope=col>score</th><th scope=col>twins.HR</th><th scope=col>opponent.HR</th></tr>\n",
              "\t<tr><th></th><th scope=col>&lt;chr&gt;</th><th scope=col>&lt;chr&gt;</th><th scope=col>&lt;chr&gt;</th><th scope=col>&lt;int&gt;</th><th scope=col>&lt;chr&gt;</th><th scope=col>&lt;chr&gt;</th><th scope=col>&lt;int&gt;</th><th scope=col>&lt;int&gt;</th></tr>\n",
              "</thead>\n",
              "<tbody>\n",
              "\t<tr><th scope=row>160</th><td>2022-10-03</td><td>Oct</td><td>White Sox</td><td>0</td><td>away</td><td>2-3 </td><td>1</td><td>1</td></tr>\n",
              "\t<tr><th scope=row>161</th><td>2022-10-04</td><td>Oct</td><td>White Sox</td><td>0</td><td>away</td><td>3-8 </td><td>1</td><td>1</td></tr>\n",
              "\t<tr><th scope=row>162</th><td>2022-10-05</td><td>Oct</td><td>White Sox</td><td>1</td><td>away</td><td>10-1</td><td>2</td><td>0</td></tr>\n",
              "</tbody>\n",
              "</table>\n"
            ],
            "text/markdown": "\nA data.frame: 3 × 8\n\n| <!--/--> | date &lt;chr&gt; | month &lt;chr&gt; | opponent &lt;chr&gt; | win &lt;int&gt; | home.away &lt;chr&gt; | score &lt;chr&gt; | twins.HR &lt;int&gt; | opponent.HR &lt;int&gt; |\n|---|---|---|---|---|---|---|---|---|\n| 160 | 2022-10-03 | Oct | White Sox | 0 | away | 2-3  | 1 | 1 |\n| 161 | 2022-10-04 | Oct | White Sox | 0 | away | 3-8  | 1 | 1 |\n| 162 | 2022-10-05 | Oct | White Sox | 1 | away | 10-1 | 2 | 0 |\n\n",
            "text/latex": "A data.frame: 3 × 8\n\\begin{tabular}{r|llllllll}\n  & date & month & opponent & win & home.away & score & twins.HR & opponent.HR\\\\\n  & <chr> & <chr> & <chr> & <int> & <chr> & <chr> & <int> & <int>\\\\\n\\hline\n\t160 & 2022-10-03 & Oct & White Sox & 0 & away & 2-3  & 1 & 1\\\\\n\t161 & 2022-10-04 & Oct & White Sox & 0 & away & 3-8  & 1 & 1\\\\\n\t162 & 2022-10-05 & Oct & White Sox & 1 & away & 10-1 & 2 & 0\\\\\n\\end{tabular}\n",
            "text/plain": [
              "    date       month opponent  win home.away score twins.HR opponent.HR\n",
              "160 2022-10-03 Oct   White Sox 0   away      2-3   1        1          \n",
              "161 2022-10-04 Oct   White Sox 0   away      3-8   1        1          \n",
              "162 2022-10-05 Oct   White Sox 1   away      10-1  2        0          "
            ]
          },
          "metadata": {}
        }
      ]
    },
    {
      "cell_type": "markdown",
      "source": [
        "Thus we would have:\n",
        "\n",
        "$$logLik(p) = \\log(1-p) + \\log(1-p) + \\log(p) + ... + \\log(1-p) + \\log(1-p) + \\log(p) $$\n",
        "$$ = (\\mbox{# of losses})\\log(1-p) + (\\mbox{# of wins})\\log(p)$$"
      ],
      "metadata": {
        "id": "eloXug0p-y4n"
      }
    },
    {
      "cell_type": "markdown",
      "source": [
        "Let's write the log-likelihood function and find $\\hat p_{MLE}$, the value of $p$ that maximizes the likelihood of observing the wins and losses that we did--in other words, the maximum likelihood estimator, or MLE, of $p$.  "
      ],
      "metadata": {
        "id": "XB4ttyQw_n3W"
      }
    },
    {
      "cell_type": "code",
      "source": [
        "#Grabbing the binary win/loss results:\n",
        "table(twins$win)\n",
        "\n",
        "# 84 wins/ 78 loses"
      ],
      "metadata": {
        "id": "XKqFkxgP_9C_",
        "colab": {
          "base_uri": "https://localhost:8080/",
          "height": 69
        },
        "outputId": "ccb691fa-9d03-46bf-8a9a-c1424597e5d3"
      },
      "execution_count": 33,
      "outputs": [
        {
          "output_type": "display_data",
          "data": {
            "text/plain": [
              "\n",
              " 0  1 \n",
              "84 78 "
            ]
          },
          "metadata": {}
        }
      ]
    },
    {
      "cell_type": "code",
      "source": [
        "#Alternative approach, mimicking poisson examples\n",
        "loglik.wins.alternative <- function(p) {\n",
        "  out <- sum(log(dbinom(twins$win, 1, p)))\n",
        "  return(out)\n",
        "}"
      ],
      "metadata": {
        "id": "_krR40o1y9JV"
      },
      "execution_count": 34,
      "outputs": []
    },
    {
      "cell_type": "code",
      "source": [
        "#Function that returns the log-likelihood of the data for a given p:\n",
        "loglik.wins <- function(p) {\n",
        " out <- 84*log(1-p) + 78*log(p)\n",
        " return(out)\n",
        "}"
      ],
      "metadata": {
        "id": "lvGy7aDEB3sb"
      },
      "execution_count": 37,
      "outputs": []
    },
    {
      "cell_type": "code",
      "source": [
        "loglik.wins.alternative(0.5)\n",
        "loglik.wins(0.5)"
      ],
      "metadata": {
        "colab": {
          "base_uri": "https://localhost:8080/",
          "height": 52
        },
        "id": "tT-xXrWLzdzZ",
        "outputId": "b1d7521e-28fa-4623-e876-e36247a71e76"
      },
      "execution_count": 38,
      "outputs": [
        {
          "output_type": "display_data",
          "data": {
            "text/html": [
              "-112.289843250711"
            ],
            "text/markdown": "-112.289843250711",
            "text/latex": "-112.289843250711",
            "text/plain": [
              "[1] -112.2898"
            ]
          },
          "metadata": {}
        },
        {
          "output_type": "display_data",
          "data": {
            "text/html": [
              "-112.289843250711"
            ],
            "text/markdown": "-112.289843250711",
            "text/latex": "-112.289843250711",
            "text/plain": [
              "[1] -112.2898"
            ]
          },
          "metadata": {}
        }
      ]
    },
    {
      "cell_type": "code",
      "source": [
        "#Generating sequence of p's:\n",
        "p.seq <- seq(.01, .99, l=100)"
      ],
      "metadata": {
        "id": "P7zad2acBZGS"
      },
      "execution_count": 40,
      "outputs": []
    },
    {
      "cell_type": "code",
      "source": [
        "#Evaluating the log-likelihood at each p in the sequence:\n",
        "loglik.pseq <- sapply(p.seq, loglik.wins)"
      ],
      "metadata": {
        "id": "KuIyQvK1CPbV"
      },
      "execution_count": 41,
      "outputs": []
    },
    {
      "cell_type": "code",
      "source": [
        "ggplot() +\n",
        "  geom_line(aes(x = p.seq, y = loglik.pseq))+\n",
        "    xlab('p') + ylab('Log-likelihood at p') +\n",
        "      theme(axis.text = element_text(size = 14,color='black')) +\n",
        "      theme(axis.title = element_text(size = 20,color='black'))"
      ],
      "metadata": {
        "colab": {
          "base_uri": "https://localhost:8080/",
          "height": 437
        },
        "id": "XaViTMWpBmCK",
        "outputId": "562caa06-d4f8-4124-b604-0bffafb7266e"
      },
      "execution_count": 42,
      "outputs": [
        {
          "output_type": "display_data",
          "data": {
            "text/plain": [
              "plot without title"
            ],
            "image/png": "[encoded data removed]"
          },
          "metadata": {
            "image/png": {
              "width": 420,
              "height": 420
            }
          }
        }
      ]
    },
    {
      "cell_type": "markdown",
      "source": [
        "We can find where this function has its maximum using `optimize()`:"
      ],
      "metadata": {
        "id": "y-br5-vcCXrS"
      }
    },
    {
      "cell_type": "code",
      "source": [
        "optimize(loglik.wins, interval = c(0,1), maximum=TRUE)"
      ],
      "metadata": {
        "colab": {
          "base_uri": "https://localhost:8080/",
          "height": 114
        },
        "id": "3jerUewzCnXp",
        "outputId": "7d04aa95-f640-4f5d-f960-80337a440a97"
      },
      "execution_count": 44,
      "outputs": [
        {
          "output_type": "display_data",
          "data": {
            "text/html": [
              "<dl>\n",
              "\t<dt>$maximum</dt>\n",
              "\t\t<dd>0.481481454734223</dd>\n",
              "\t<dt>$objective</dt>\n",
              "\t\t<dd>-112.17870672302</dd>\n",
              "</dl>\n"
            ],
            "text/markdown": "$maximum\n:   0.481481454734223\n$objective\n:   -112.17870672302\n\n\n",
            "text/latex": "\\begin{description}\n\\item[\\$maximum] 0.481481454734223\n\\item[\\$objective] -112.17870672302\n\\end{description}\n",
            "text/plain": [
              "$maximum\n",
              "[1] 0.4814815\n",
              "\n",
              "$objective\n",
              "[1] -112.1787\n"
            ]
          },
          "metadata": {}
        }
      ]
    },
    {
      "cell_type": "markdown",
      "source": [
        "Thus, the MLE is $\\hat p_{MLE} = 0.481$.  Once again, this estimate has a perfectly data-based explanation:"
      ],
      "metadata": {
        "id": "CeNZiei1Cv4J"
      }
    },
    {
      "cell_type": "code",
      "source": [
        "table(twins$win)"
      ],
      "metadata": {
        "colab": {
          "base_uri": "https://localhost:8080/",
          "height": 69
        },
        "id": "6cnpTzEHDDuC",
        "outputId": "f036fa39-304a-45fe-ea60-3318c9064aa9"
      },
      "execution_count": 45,
      "outputs": [
        {
          "output_type": "display_data",
          "data": {
            "text/plain": [
              "\n",
              " 0  1 \n",
              "84 78 "
            ]
          },
          "metadata": {}
        }
      ]
    },
    {
      "cell_type": "markdown",
      "source": [
        "The Twins went 78-84 in 2022, a winning percentage of...you guessed it...78/162, or 0.481:"
      ],
      "metadata": {
        "id": "AoFTRX8oDKFe"
      }
    },
    {
      "cell_type": "code",
      "source": [
        "table(twins$win)/162"
      ],
      "metadata": {
        "colab": {
          "base_uri": "https://localhost:8080/",
          "height": 69
        },
        "id": "sCtq3qDvDGfC",
        "outputId": "ad0c8a73-9fa2-4c5b-df6b-003f33501f32"
      },
      "execution_count": 46,
      "outputs": [
        {
          "output_type": "display_data",
          "data": {
            "text/plain": [
              "\n",
              "        0         1 \n",
              "0.5185185 0.4814815 "
            ]
          },
          "metadata": {}
        }
      ]
    },
    {
      "cell_type": "markdown",
      "source": [
        "Thus the MLE, the value of $p$ that makes the observed data most likely, is the observed proportion of times the Twins won in 2022!"
      ],
      "metadata": {
        "id": "Ek_ge_S_Da7t"
      }
    },
    {
      "cell_type": "markdown",
      "source": [
        "# Up next\n",
        "\n",
        "So far we have defined likelihoods for an outcome $Y$ and described how to use maximum likelihood to estimate model parameters.  In the next notebook we extend these ideas to describe how we can use likelihoods to compare models with different $X$ terms."
      ],
      "metadata": {
        "id": "Vjxse143j7gs"
      }
    }
  ]
}