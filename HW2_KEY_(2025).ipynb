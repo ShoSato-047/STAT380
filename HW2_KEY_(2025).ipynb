{
  "nbformat": 4,
  "nbformat_minor": 0,
  "metadata": {
    "colab": {
      "provenance": [],
      "toc_visible": true,
      "include_colab_link": true
    },
    "kernelspec": {
      "name": "ir",
      "display_name": "R"
    },
    "language_info": {
      "name": "R"
    }
  },
  "cells": [
    {
      "cell_type": "markdown",
      "metadata": {
        "id": "view-in-github",
        "colab_type": "text"
      },
      "source": [
        "<a href=\"https://colab.research.google.com/github/ShoSato-047/STAT380/blob/main/HW2_KEY_(2025).ipynb\" target=\"_parent\"><img src=\"https://colab.research.google.com/assets/colab-badge.svg\" alt=\"Open In Colab\"/></a>"
      ]
    },
    {
      "cell_type": "markdown",
      "source": [
        "# Instructions\n",
        "\n",
        "* ***Bold and italicize the font of all your text responses.***\n",
        "* Make sure to submit a *viewable* link (change link share permissions to \"Anyone with link can view\""
      ],
      "metadata": {
        "id": "P1FU6P73L3ub"
      }
    },
    {
      "cell_type": "markdown",
      "source": [
        "# Q1 (5 points)\n",
        "\n",
        "A particular concentration of a chemical found in polluted water has been found to be lethal to 20% of the fish that are exposed to the concentration for 24 hours.  Twenty fish are placed in a tank containing this concentration of chemical.  Define $Y$ to be the number of fish that survive."
      ],
      "metadata": {
        "id": "YTGygTBE76Hf"
      }
    },
    {
      "cell_type": "markdown",
      "source": [
        "## A)\n",
        "\n",
        "What probability model should we use to define probabilities for $Y$?  State the distribution of $Y$ using $Y\\sim$ notation, and justify your rationale for this choice."
      ],
      "metadata": {
        "id": "chlRDVdP8aWB"
      }
    },
    {
      "cell_type": "markdown",
      "source": [
        "***$Y$ represents number of binary \"successes\" (survivals) out of $n=20$ trials.***\n",
        "\n",
        "$$Y\\sim BIN(20, 0.8)$$"
      ],
      "metadata": {
        "id": "RerxC3prV4zn"
      }
    },
    {
      "cell_type": "markdown",
      "source": [
        "## B)\n",
        "\n",
        "What is the probability that exactly 15 fish survive?  Answer this in three ways:"
      ],
      "metadata": {
        "id": "Mpi9imdW-znS"
      }
    },
    {
      "cell_type": "markdown",
      "source": [
        "i. Via a simulation study  \n",
        "ii. Via exact calculation (without using any `d---()` functions in R)  \n",
        "iii. Using the appropriate `d---()` function in R"
      ],
      "metadata": {
        "id": "Kaig2DZT_HeL"
      }
    },
    {
      "cell_type": "code",
      "source": [
        "#Simulation:\n",
        "manysamps <- rbinom(10000, 20, .8)\n",
        "mean(manysamps==15)"
      ],
      "metadata": {
        "colab": {
          "base_uri": "https://localhost:8080/",
          "height": 34
        },
        "id": "iJUPrmmfV8Xe",
        "outputId": "d11aa224-814b-49e1-b6c8-81cac88b4557"
      },
      "execution_count": null,
      "outputs": [
        {
          "output_type": "display_data",
          "data": {
            "text/html": [
              "0.1702"
            ],
            "text/markdown": "0.1702",
            "text/latex": "0.1702",
            "text/plain": [
              "[1] 0.1702"
            ]
          },
          "metadata": {}
        }
      ]
    },
    {
      "cell_type": "code",
      "source": [
        "#Exact:\n",
        "choose(20, 15)*.8^15*.2^5"
      ],
      "metadata": {
        "colab": {
          "base_uri": "https://localhost:8080/",
          "height": 34
        },
        "id": "6bhEYO26V_HR",
        "outputId": "e8cf2d49-7ef1-4ffc-9a37-a46a5edcb1a0"
      },
      "execution_count": null,
      "outputs": [
        {
          "output_type": "display_data",
          "data": {
            "text/html": [
              "0.174559521556881"
            ],
            "text/markdown": "0.174559521556881",
            "text/latex": "0.174559521556881",
            "text/plain": [
              "[1] 0.1745595"
            ]
          },
          "metadata": {}
        }
      ]
    },
    {
      "cell_type": "code",
      "source": [
        "#dbinom:\n",
        "dbinom(15,20,.8)"
      ],
      "metadata": {
        "colab": {
          "base_uri": "https://localhost:8080/",
          "height": 34
        },
        "id": "_PW7ezNvWFxP",
        "outputId": "b21852e5-8461-40bb-8091-c41d06fcf833"
      },
      "execution_count": null,
      "outputs": [
        {
          "output_type": "display_data",
          "data": {
            "text/html": [
              "0.17455952155688"
            ],
            "text/markdown": "0.17455952155688",
            "text/latex": "0.17455952155688",
            "text/plain": [
              "[1] 0.1745595"
            ]
          },
          "metadata": {}
        }
      ]
    },
    {
      "cell_type": "markdown",
      "source": [
        "## C)\n",
        "\n",
        "What is the probability that at least 15 fish survive?  Answer this in three ways:\n",
        "\n",
        "i. Via a simulation study  \n",
        "ii. Using the appropriate `d---()` function in R  \n",
        "iii. Using the appropriate `p---()` function in R"
      ],
      "metadata": {
        "id": "FLPIJzzB_uJn"
      }
    },
    {
      "cell_type": "code",
      "source": [
        "#Simulation:\n",
        "mean(manysamps<=15)"
      ],
      "metadata": {
        "colab": {
          "base_uri": "https://localhost:8080/",
          "height": 34
        },
        "id": "EiuxGZkdWDgO",
        "outputId": "0bcbd2ec-f503-4a51-c8cc-112307c68d54"
      },
      "execution_count": null,
      "outputs": [
        {
          "output_type": "display_data",
          "data": {
            "text/html": [
              "0.3657"
            ],
            "text/markdown": "0.3657",
            "text/latex": "0.3657",
            "text/plain": [
              "[1] 0.3657"
            ]
          },
          "metadata": {}
        }
      ]
    },
    {
      "cell_type": "code",
      "source": [
        "#dbinom:\n",
        "sum(dbinom(0:15,20,.8))"
      ],
      "metadata": {
        "colab": {
          "base_uri": "https://localhost:8080/",
          "height": 34
        },
        "id": "fA8UEwPEWOjh",
        "outputId": "5bc6a0e0-24fb-4d7d-82ed-c9b784aca0c9"
      },
      "execution_count": null,
      "outputs": [
        {
          "output_type": "display_data",
          "data": {
            "text/html": [
              "0.370351736097331"
            ],
            "text/markdown": "0.370351736097331",
            "text/latex": "0.370351736097331",
            "text/plain": [
              "[1] 0.3703517"
            ]
          },
          "metadata": {}
        }
      ]
    },
    {
      "cell_type": "code",
      "source": [
        "#pbinom:\n",
        "pbinom(15,20,.8)"
      ],
      "metadata": {
        "colab": {
          "base_uri": "https://localhost:8080/",
          "height": 34
        },
        "id": "jBbndDxrWKBY",
        "outputId": "97c8337e-f624-423c-83cb-6ac07711e243"
      },
      "execution_count": null,
      "outputs": [
        {
          "output_type": "display_data",
          "data": {
            "text/html": [
              "0.370351736097332"
            ],
            "text/markdown": "0.370351736097332",
            "text/latex": "0.370351736097332",
            "text/plain": [
              "[1] 0.3703517"
            ]
          },
          "metadata": {}
        }
      ]
    },
    {
      "cell_type": "markdown",
      "source": [
        "## D)\n",
        "\n",
        "How many fish would be expected to survive?  Answer this in two ways.\n",
        "\n",
        "i. Using a simulation study  \n",
        "ii. Using properties of the distribution of $Y$."
      ],
      "metadata": {
        "id": "RM3bBMH5DQp-"
      }
    },
    {
      "cell_type": "code",
      "source": [
        "#Simulation:\n",
        "mean(manysamps)\n"
      ],
      "metadata": {
        "colab": {
          "base_uri": "https://localhost:8080/",
          "height": 34
        },
        "id": "6z4EPnpTWGVe",
        "outputId": "041dcb44-b6d9-42cf-8f77-16f18c8d2eeb"
      },
      "execution_count": null,
      "outputs": [
        {
          "output_type": "display_data",
          "data": {
            "text/html": [
              "16.0162"
            ],
            "text/markdown": "16.0162",
            "text/latex": "16.0162",
            "text/plain": [
              "[1] 16.0162"
            ]
          },
          "metadata": {}
        }
      ]
    },
    {
      "cell_type": "code",
      "source": [
        "#Exact, n*p:\n",
        "20*.8"
      ],
      "metadata": {
        "colab": {
          "base_uri": "https://localhost:8080/",
          "height": 34
        },
        "id": "N7GvOWDVWU4A",
        "outputId": "8e0330ac-cedb-4923-b8f7-12b85ca43af6"
      },
      "execution_count": null,
      "outputs": [
        {
          "output_type": "display_data",
          "data": {
            "text/html": [
              "16"
            ],
            "text/markdown": "16",
            "text/latex": "16",
            "text/plain": [
              "[1] 16"
            ]
          },
          "metadata": {}
        }
      ]
    },
    {
      "cell_type": "markdown",
      "source": [
        "# Q2 (5 points)\n",
        "\n",
        "People whose blood type is O-negative are universal donors, meaning anyone can receive a blood transfusion of O-negative blood.  In the U.S., about 7.2% of people have O-negative blood.  A blood donor clinic has a goal of finding 10 O-negative individuals, and continues to screen volunteers until it has achieved its goal.  Define $Y$ to be the number of non-O-negative individuals who are screened before the clinic has met its goal."
      ],
      "metadata": {
        "id": "4vOrZyX8AACc"
      }
    },
    {
      "cell_type": "markdown",
      "source": [
        "## A)\n",
        "\n",
        "What probability model should we use to define probabilities for $Y$?  State the distribution of $Y$ using $Y\\sim$ notation, and justify your rationale for this choice."
      ],
      "metadata": {
        "id": "BdL11uccAACd"
      }
    },
    {
      "cell_type": "markdown",
      "source": [
        "***Here $Y$ represents number of \"failures\" (not Type-O individuals) before observing prespecified $r=10$ number of successes (Type-O individuals)***:\n",
        "\n",
        "$$Y\\sim NB(10, .072)$$"
      ],
      "metadata": {
        "id": "FbrYKTp7WJHN"
      }
    },
    {
      "cell_type": "markdown",
      "source": [
        "## B)\n",
        "\n",
        "What is the probability that it has to screen 100 people before achieving its goal?  Answer this in three ways:"
      ],
      "metadata": {
        "id": "WZ4DX1c0AACd"
      }
    },
    {
      "cell_type": "markdown",
      "source": [
        "i. Via a simulation study  \n",
        "ii. Via exact calculation (without using any `d---()` functions in R)  \n",
        "iii. Using the appropriate `d---()` function in R"
      ],
      "metadata": {
        "id": "Fm0E--uMa_nK"
      }
    },
    {
      "cell_type": "code",
      "source": [
        "#Simulation:\n",
        "manysamps <- rnbinom(10000, 10, .072)\n",
        "mean(manysamps==100)"
      ],
      "metadata": {
        "colab": {
          "base_uri": "https://localhost:8080/",
          "height": 34
        },
        "id": "EUWH7RxPWM_X",
        "outputId": "e3646ea3-92f1-4401-9b1d-de4f5cd7cb3a"
      },
      "execution_count": null,
      "outputs": [
        {
          "output_type": "display_data",
          "data": {
            "text/html": [
              "0.0068"
            ],
            "text/markdown": "0.0068",
            "text/latex": "0.0068",
            "text/plain": [
              "[1] 0.0068"
            ]
          },
          "metadata": {}
        }
      ]
    },
    {
      "cell_type": "code",
      "source": [
        "#Exact calculation:\n",
        "choose(10+100-1, 10-1)*.072^10*(1-.072)^100"
      ],
      "metadata": {
        "colab": {
          "base_uri": "https://localhost:8080/",
          "height": 34
        },
        "id": "6fblQSomWrH5",
        "outputId": "fce511d6-c392-4f4b-83fc-961f84ea0a47"
      },
      "execution_count": null,
      "outputs": [
        {
          "output_type": "display_data",
          "data": {
            "text/html": [
              "0.00907571518425068"
            ],
            "text/markdown": "0.00907571518425068",
            "text/latex": "0.00907571518425068",
            "text/plain": [
              "[1] 0.009075715"
            ]
          },
          "metadata": {}
        }
      ]
    },
    {
      "cell_type": "code",
      "source": [
        "#dnbinom:\n",
        "dnbinom(100, 10,.072)"
      ],
      "metadata": {
        "colab": {
          "base_uri": "https://localhost:8080/",
          "height": 34
        },
        "id": "LXx4impzWmaA",
        "outputId": "efb74852-d989-4264-f82d-b3145b59f463"
      },
      "execution_count": null,
      "outputs": [
        {
          "output_type": "display_data",
          "data": {
            "text/html": [
              "0.00907571518425064"
            ],
            "text/markdown": "0.00907571518425064",
            "text/latex": "0.00907571518425064",
            "text/plain": [
              "[1] 0.009075715"
            ]
          },
          "metadata": {}
        }
      ]
    },
    {
      "cell_type": "markdown",
      "source": [
        "## C)\n",
        "\n",
        "What is the probability that the clinic has to screen 100 or fewer individuals to meet its goal?  Answer this in three ways:"
      ],
      "metadata": {
        "id": "Pt923mhBAACf"
      }
    },
    {
      "cell_type": "markdown",
      "source": [
        "\n",
        "i. Via a simulation study  \n",
        "ii. Using the appropriate `d---()` function in R  \n",
        "iii. Using the appropriate `p---()` function in R"
      ],
      "metadata": {
        "id": "krIvrWFTbBz5"
      }
    },
    {
      "cell_type": "code",
      "source": [
        "#Simulation:\n",
        "mean(manysamps<=100)"
      ],
      "metadata": {
        "colab": {
          "base_uri": "https://localhost:8080/",
          "height": 34
        },
        "id": "XLANIjcBWTNy",
        "outputId": "cbde1e15-b690-4b49-d169-78fa6d3ee196"
      },
      "execution_count": null,
      "outputs": [
        {
          "output_type": "display_data",
          "data": {
            "text/html": [
              "0.2696"
            ],
            "text/markdown": "0.2696",
            "text/latex": "0.2696",
            "text/plain": [
              "[1] 0.2696"
            ]
          },
          "metadata": {}
        }
      ]
    },
    {
      "cell_type": "code",
      "source": [
        "#dnbinom:\n",
        "sum(dnbinom(0:100, 10, .072))"
      ],
      "metadata": {
        "colab": {
          "base_uri": "https://localhost:8080/",
          "height": 34
        },
        "id": "ILCudZG3W9fu",
        "outputId": "057f02af-375d-42a9-d4c1-352a293e8263"
      },
      "execution_count": null,
      "outputs": [
        {
          "output_type": "display_data",
          "data": {
            "text/html": [
              "0.268397185255739"
            ],
            "text/markdown": "0.268397185255739",
            "text/latex": "0.268397185255739",
            "text/plain": [
              "[1] 0.2683972"
            ]
          },
          "metadata": {}
        }
      ]
    },
    {
      "cell_type": "code",
      "source": [
        "#pnbinom:\n",
        "pnbinom(100,10,.072)"
      ],
      "metadata": {
        "colab": {
          "base_uri": "https://localhost:8080/",
          "height": 34
        },
        "id": "4gZ7U_WdXBHg",
        "outputId": "e94885c9-0e57-49a7-a0d3-a0b8e3e74ea5"
      },
      "execution_count": null,
      "outputs": [
        {
          "output_type": "display_data",
          "data": {
            "text/html": [
              "0.268397185255739"
            ],
            "text/markdown": "0.268397185255739",
            "text/latex": "0.268397185255739",
            "text/plain": [
              "[1] 0.2683972"
            ]
          },
          "metadata": {}
        }
      ]
    },
    {
      "cell_type": "markdown",
      "source": [
        "## D)\n",
        "\n",
        "How many people should the clinic expect to have to screen before meeting its goal?  Answer this in two ways."
      ],
      "metadata": {
        "id": "Wo0dH8N1C58V"
      }
    },
    {
      "cell_type": "markdown",
      "source": [
        "\n",
        "i. Using a simulation study  \n",
        "ii. Using properties of the distribution of $Y$."
      ],
      "metadata": {
        "id": "Rw3GVX51bVE2"
      }
    },
    {
      "cell_type": "code",
      "source": [
        "#Simulation:\n",
        "mean(manysamps)"
      ],
      "metadata": {
        "colab": {
          "base_uri": "https://localhost:8080/",
          "height": 34
        },
        "id": "iVdVsiK5WYkf",
        "outputId": "497a2edf-68c9-40d7-cf9c-722df24307c6"
      },
      "execution_count": null,
      "outputs": [
        {
          "output_type": "display_data",
          "data": {
            "text/html": [
              "128.6651"
            ],
            "text/markdown": "128.6651",
            "text/latex": "128.6651",
            "text/plain": [
              "[1] 128.6651"
            ]
          },
          "metadata": {}
        }
      ]
    },
    {
      "cell_type": "code",
      "source": [
        "#Exact, r(1-p)/p\n",
        "10*(1-.072)/.072"
      ],
      "metadata": {
        "colab": {
          "base_uri": "https://localhost:8080/",
          "height": 34
        },
        "id": "yoxuMrRtXGUz",
        "outputId": "6efd9e69-9b4c-4a69-d1b2-989580116bf9"
      },
      "execution_count": null,
      "outputs": [
        {
          "output_type": "display_data",
          "data": {
            "text/html": [
              "128.888888888889"
            ],
            "text/markdown": "128.888888888889",
            "text/latex": "128.888888888889",
            "text/plain": [
              "[1] 128.8889"
            ]
          },
          "metadata": {}
        }
      ]
    },
    {
      "cell_type": "markdown",
      "source": [
        "# Q3 (5 points)\n",
        "\n",
        "Cars pass a buy intersection at a rate of approximately 16 cars per minute.  Define $Y$ to be the number of cars that will cross in the next half-hour."
      ],
      "metadata": {
        "id": "xLc0rBplDdNH"
      }
    },
    {
      "cell_type": "markdown",
      "source": [
        "## A)\n",
        "\n",
        "What probability model should we use to define probabilities for $Y$?  State the distribution of $Y$ using $Y\\sim$ notation, and justify your rationale for this choice."
      ],
      "metadata": {
        "id": "4IKC_4rVDdNH"
      }
    },
    {
      "cell_type": "markdown",
      "source": [
        "***$Y$ represents number of events per 30 units of time (30 minutes), so is a Poisson random variable with rate = 16 events/minute x 30 minutes***:\n",
        "\n",
        "$$Y\\sim POI(16\\cdot 30)=POI(480)$$"
      ],
      "metadata": {
        "id": "17uutyF7Wfyn"
      }
    },
    {
      "cell_type": "markdown",
      "source": [
        "## B)\n",
        "\n",
        "What is the probability that 500 cars pass by in the next half hour?  Answer this in three ways:"
      ],
      "metadata": {
        "id": "2Lm3PwKhDdNI"
      }
    },
    {
      "cell_type": "markdown",
      "source": [
        "i. Via a simulation study  \n",
        "ii. Via exact calculation (without using any `d---()` functions in R)  \n",
        "  - NOTE: exact calculation in `R` is impossible given the very large numbers involved; you will get `Inf` and `NaN`s returned.  So for this problem only you should *provide the mathematical formula you need to evaluate* to find this probability, instead of actually finding it.  \n",
        "  \n",
        "iii. Using the appropriate `d---()` function in R"
      ],
      "metadata": {
        "id": "UDyiDjpWBPmN"
      }
    },
    {
      "cell_type": "code",
      "source": [
        "#Simulation:\n",
        "many <- rpois(10000, 16*30)\n",
        "mean(many==500)\n"
      ],
      "metadata": {
        "colab": {
          "base_uri": "https://localhost:8080/",
          "height": 34
        },
        "id": "CzzyWkqCWnS3",
        "outputId": "c938ed4a-b865-44e4-dcfc-8a6d15d8ecb4"
      },
      "execution_count": null,
      "outputs": [
        {
          "output_type": "display_data",
          "data": {
            "text/html": [
              "0.0119"
            ],
            "text/markdown": "0.0119",
            "text/latex": "0.0119",
            "text/plain": [
              "[1] 0.0119"
            ]
          },
          "metadata": {}
        }
      ]
    },
    {
      "cell_type": "markdown",
      "source": [
        "$$P(Y=500) = \\frac{e^{-480} (480)^{500}}{500!}$$\n"
      ],
      "metadata": {
        "id": "7AaT5k6k5DHG"
      }
    },
    {
      "cell_type": "code",
      "source": [
        "#dpois:\n",
        "dpois(500,16*30)"
      ],
      "metadata": {
        "colab": {
          "base_uri": "https://localhost:8080/",
          "height": 34
        },
        "id": "wPcy1FWRXZLQ",
        "outputId": "d23faf36-b252-45aa-a880-03f12f3201fa"
      },
      "execution_count": null,
      "outputs": [
        {
          "output_type": "display_data",
          "data": {
            "text/html": [
              "0.0118265708831306"
            ],
            "text/markdown": "0.0118265708831306",
            "text/latex": "0.0118265708831306",
            "text/plain": [
              "[1] 0.01182657"
            ]
          },
          "metadata": {}
        }
      ]
    },
    {
      "cell_type": "markdown",
      "source": [
        "## C)\n",
        "\n",
        "What is the probability that at least 500 cars will pass by in the next half hour?  Answer this in three ways:"
      ],
      "metadata": {
        "id": "ydv4iilRDdNJ"
      }
    },
    {
      "cell_type": "markdown",
      "source": [
        "\n",
        "i. Via a simulation study  \n",
        "ii. Using the appropriate `d---()` function in R  \n",
        "iii. Using the appropriate `p---()` function in R"
      ],
      "metadata": {
        "id": "gDz3mYcIbNja"
      }
    },
    {
      "cell_type": "code",
      "source": [
        "#Simulation:\n",
        "mean(many<=500)"
      ],
      "metadata": {
        "colab": {
          "base_uri": "https://localhost:8080/",
          "height": 34
        },
        "id": "l2rvP8DjWs6n",
        "outputId": "c4eff274-d256-4b17-b8f8-f5681f4eddb7"
      },
      "execution_count": null,
      "outputs": [
        {
          "output_type": "display_data",
          "data": {
            "text/html": [
              "0.8336"
            ],
            "text/markdown": "0.8336",
            "text/latex": "0.8336",
            "text/plain": [
              "[1] 0.8336"
            ]
          },
          "metadata": {}
        }
      ]
    },
    {
      "cell_type": "code",
      "source": [
        "#dpois:\n",
        "sum(dpois(0:500,480))"
      ],
      "metadata": {
        "colab": {
          "base_uri": "https://localhost:8080/",
          "height": 34
        },
        "id": "ROQYyABkXnUp",
        "outputId": "fd5d9f0a-caed-452c-e098-c1ba37375af8"
      },
      "execution_count": null,
      "outputs": [
        {
          "output_type": "display_data",
          "data": {
            "text/html": [
              "0.825544597692806"
            ],
            "text/markdown": "0.825544597692806",
            "text/latex": "0.825544597692806",
            "text/plain": [
              "[1] 0.8255446"
            ]
          },
          "metadata": {}
        }
      ]
    },
    {
      "cell_type": "code",
      "source": [
        "#ppois:\n",
        "ppois(500,16*30)"
      ],
      "metadata": {
        "colab": {
          "base_uri": "https://localhost:8080/",
          "height": 34
        },
        "id": "tcd_tcIfXl2o",
        "outputId": "e280bdc3-9e83-4c31-cdaa-94120b48dc69"
      },
      "execution_count": null,
      "outputs": [
        {
          "output_type": "display_data",
          "data": {
            "text/html": [
              "0.825544597692806"
            ],
            "text/markdown": "0.825544597692806",
            "text/latex": "0.825544597692806",
            "text/plain": [
              "[1] 0.8255446"
            ]
          },
          "metadata": {}
        }
      ]
    },
    {
      "cell_type": "markdown",
      "source": [
        "## D)\n",
        "\n",
        "How many cars would be expected to drive by in the next half hour?  Answer this in two ways."
      ],
      "metadata": {
        "id": "ZyQlUN3nDdNL"
      }
    },
    {
      "cell_type": "markdown",
      "source": [
        "\n",
        "i. Using a simulation study  \n",
        "ii. Using properties of the distribution of $Y$."
      ],
      "metadata": {
        "id": "raCOeVz0bX_j"
      }
    },
    {
      "cell_type": "code",
      "source": [
        "#Simulation:\n",
        "mean(many)"
      ],
      "metadata": {
        "colab": {
          "base_uri": "https://localhost:8080/",
          "height": 34
        },
        "id": "6yH3e6LxWx5F",
        "outputId": "d26c96c0-be18-427f-ea23-b2f75122572d"
      },
      "execution_count": null,
      "outputs": [
        {
          "output_type": "display_data",
          "data": {
            "text/html": [
              "479.8635"
            ],
            "text/markdown": "479.8635",
            "text/latex": "479.8635",
            "text/plain": [
              "[1] 479.8635"
            ]
          },
          "metadata": {}
        }
      ]
    },
    {
      "cell_type": "code",
      "source": [
        "#Exact, lambda * t:\n",
        "16*30"
      ],
      "metadata": {
        "colab": {
          "base_uri": "https://localhost:8080/",
          "height": 34
        },
        "id": "pd4QZaVbXsLp",
        "outputId": "6a5a7cd8-7264-4a6a-8b6c-09e2624fc4be"
      },
      "execution_count": null,
      "outputs": [
        {
          "output_type": "display_data",
          "data": {
            "text/html": [
              "480"
            ],
            "text/markdown": "480",
            "text/latex": "480",
            "text/plain": [
              "[1] 480"
            ]
          },
          "metadata": {}
        }
      ]
    },
    {
      "cell_type": "markdown",
      "source": [
        "# Q4 (20 points)\n",
        "\n",
        "One of the earliest applications of the Poisson model was in 1898, when Ladislaus von Bortkiewicz published his analysis of deaths by horse kicks in the Prussian cavalry.  He gathered data on the number of deaths by horse kick for 14 cavalry corps over the course of 20 years."
      ],
      "metadata": {
        "id": "z20_PqP8m1mV"
      }
    },
    {
      "cell_type": "code",
      "source": [
        "kickdf <- read.csv('https://www.dropbox.com/s/o4zs941hxyh8fch/horse_kick_deaths.csv?dl=1')\n",
        "head(kickdf)"
      ],
      "metadata": {
        "colab": {
          "base_uri": "https://localhost:8080/",
          "height": 286
        },
        "id": "wTUVi3pspVMi",
        "outputId": "d7cbea12-e4eb-4fa2-d7e6-8e361a4d704a"
      },
      "execution_count": null,
      "outputs": [
        {
          "output_type": "display_data",
          "data": {
            "text/html": [
              "<table class=\"dataframe\">\n",
              "<caption>A data.frame: 6 × 3</caption>\n",
              "<thead>\n",
              "\t<tr><th></th><th scope=col>ndeaths</th><th scope=col>year</th><th scope=col>corp</th></tr>\n",
              "\t<tr><th></th><th scope=col>&lt;int&gt;</th><th scope=col>&lt;int&gt;</th><th scope=col>&lt;chr&gt;</th></tr>\n",
              "</thead>\n",
              "<tbody>\n",
              "\t<tr><th scope=row>1</th><td>0</td><td>1875</td><td>G</td></tr>\n",
              "\t<tr><th scope=row>2</th><td>2</td><td>1876</td><td>G</td></tr>\n",
              "\t<tr><th scope=row>3</th><td>2</td><td>1877</td><td>G</td></tr>\n",
              "\t<tr><th scope=row>4</th><td>1</td><td>1878</td><td>G</td></tr>\n",
              "\t<tr><th scope=row>5</th><td>0</td><td>1879</td><td>G</td></tr>\n",
              "\t<tr><th scope=row>6</th><td>0</td><td>1880</td><td>G</td></tr>\n",
              "</tbody>\n",
              "</table>\n"
            ],
            "text/markdown": "\nA data.frame: 6 × 3\n\n| <!--/--> | ndeaths &lt;int&gt; | year &lt;int&gt; | corp &lt;chr&gt; |\n|---|---|---|---|\n| 1 | 0 | 1875 | G |\n| 2 | 2 | 1876 | G |\n| 3 | 2 | 1877 | G |\n| 4 | 1 | 1878 | G |\n| 5 | 0 | 1879 | G |\n| 6 | 0 | 1880 | G |\n\n",
            "text/latex": "A data.frame: 6 × 3\n\\begin{tabular}{r|lll}\n  & ndeaths & year & corp\\\\\n  & <int> & <int> & <chr>\\\\\n\\hline\n\t1 & 0 & 1875 & G\\\\\n\t2 & 2 & 1876 & G\\\\\n\t3 & 2 & 1877 & G\\\\\n\t4 & 1 & 1878 & G\\\\\n\t5 & 0 & 1879 & G\\\\\n\t6 & 0 & 1880 & G\\\\\n\\end{tabular}\n",
            "text/plain": [
              "  ndeaths year corp\n",
              "1 0       1875 G   \n",
              "2 2       1876 G   \n",
              "3 2       1877 G   \n",
              "4 1       1878 G   \n",
              "5 0       1879 G   \n",
              "6 0       1880 G   "
            ]
          },
          "metadata": {}
        }
      ]
    },
    {
      "cell_type": "markdown",
      "source": [
        "Each row in the data is one corps-year.  There are $14 \\times 20 = 280$ rows:"
      ],
      "metadata": {
        "id": "2SNhQ13VpYm6"
      }
    },
    {
      "cell_type": "code",
      "source": [
        "dim(kickdf)"
      ],
      "metadata": {
        "colab": {
          "base_uri": "https://localhost:8080/",
          "height": 34
        },
        "id": "rJsDZxswLoF0",
        "outputId": "fb9035cf-43e0-4e05-a5a9-204596868409"
      },
      "execution_count": null,
      "outputs": [
        {
          "output_type": "display_data",
          "data": {
            "text/html": [
              "<style>\n",
              ".list-inline {list-style: none; margin:0; padding: 0}\n",
              ".list-inline>li {display: inline-block}\n",
              ".list-inline>li:not(:last-child)::after {content: \"\\00b7\"; padding: 0 .5ex}\n",
              "</style>\n",
              "<ol class=list-inline><li>280</li><li>3</li></ol>\n"
            ],
            "text/markdown": "1. 280\n2. 3\n\n\n",
            "text/latex": "\\begin{enumerate*}\n\\item 280\n\\item 3\n\\end{enumerate*}\n",
            "text/plain": [
              "[1] 280   3"
            ]
          },
          "metadata": {}
        }
      ]
    },
    {
      "cell_type": "markdown",
      "source": [
        "## A)\n",
        "\n",
        "Let $Y$ represent the number of deaths by horse kicks in a single corps-year.  Explain why a Poisson distribution is a reasonable probability model for $Y$."
      ],
      "metadata": {
        "id": "OV8bJvBurxYs"
      }
    },
    {
      "cell_type": "markdown",
      "source": [
        "**$Y$ measures the number of events per unit time, so a Poisson distribution seems appropriate here.**"
      ],
      "metadata": {
        "id": "pQfWHEaNYpuM"
      }
    },
    {
      "cell_type": "markdown",
      "source": [
        "## B)\n",
        "\n",
        "For each $k$ observed in the data, find $\\hat P(Y=k)$,  the observed proportion of corps-years in which $k$ deaths occurred.  Create a bar graph of these results.  \n",
        "\n"
      ],
      "metadata": {
        "id": "ZtNS_gHnukcm"
      }
    },
    {
      "cell_type": "code",
      "source": [
        "library(dplyr)\n",
        "kickdf %>%\n",
        "  group_by(ndeaths) %>%\n",
        "    summarize(cnt = n()) %>%\n",
        "      mutate(pct = cnt/sum(cnt))"
      ],
      "metadata": {
        "colab": {
          "base_uri": "https://localhost:8080/",
          "height": 498
        },
        "id": "8oXGJKfIpg0L",
        "outputId": "5f3a80d1-f3ac-4c53-eae2-d5d8ceac8641"
      },
      "execution_count": null,
      "outputs": [
        {
          "output_type": "stream",
          "name": "stderr",
          "text": [
            "\n",
            "Attaching package: ‘dplyr’\n",
            "\n",
            "\n",
            "The following objects are masked from ‘package:stats’:\n",
            "\n",
            "    filter, lag\n",
            "\n",
            "\n",
            "The following objects are masked from ‘package:base’:\n",
            "\n",
            "    intersect, setdiff, setequal, union\n",
            "\n",
            "\n"
          ]
        },
        {
          "output_type": "display_data",
          "data": {
            "text/html": [
              "<table class=\"dataframe\">\n",
              "<caption>A tibble: 5 × 3</caption>\n",
              "<thead>\n",
              "\t<tr><th scope=col>ndeaths</th><th scope=col>cnt</th><th scope=col>pct</th></tr>\n",
              "\t<tr><th scope=col>&lt;int&gt;</th><th scope=col>&lt;int&gt;</th><th scope=col>&lt;dbl&gt;</th></tr>\n",
              "</thead>\n",
              "<tbody>\n",
              "\t<tr><td>0</td><td>144</td><td>0.514285714</td></tr>\n",
              "\t<tr><td>1</td><td> 91</td><td>0.325000000</td></tr>\n",
              "\t<tr><td>2</td><td> 32</td><td>0.114285714</td></tr>\n",
              "\t<tr><td>3</td><td> 11</td><td>0.039285714</td></tr>\n",
              "\t<tr><td>4</td><td>  2</td><td>0.007142857</td></tr>\n",
              "</tbody>\n",
              "</table>\n"
            ],
            "text/markdown": "\nA tibble: 5 × 3\n\n| ndeaths &lt;int&gt; | cnt &lt;int&gt; | pct &lt;dbl&gt; |\n|---|---|---|\n| 0 | 144 | 0.514285714 |\n| 1 |  91 | 0.325000000 |\n| 2 |  32 | 0.114285714 |\n| 3 |  11 | 0.039285714 |\n| 4 |   2 | 0.007142857 |\n\n",
            "text/latex": "A tibble: 5 × 3\n\\begin{tabular}{lll}\n ndeaths & cnt & pct\\\\\n <int> & <int> & <dbl>\\\\\n\\hline\n\t 0 & 144 & 0.514285714\\\\\n\t 1 &  91 & 0.325000000\\\\\n\t 2 &  32 & 0.114285714\\\\\n\t 3 &  11 & 0.039285714\\\\\n\t 4 &   2 & 0.007142857\\\\\n\\end{tabular}\n",
            "text/plain": [
              "  ndeaths cnt pct        \n",
              "1 0       144 0.514285714\n",
              "2 1        91 0.325000000\n",
              "3 2        32 0.114285714\n",
              "4 3        11 0.039285714\n",
              "5 4         2 0.007142857"
            ]
          },
          "metadata": {}
        }
      ]
    },
    {
      "cell_type": "code",
      "source": [
        "library(ggplot2)\n",
        "library(ggplot2)\n",
        "ggplot(data = kickdf) +\n",
        "  geom_bar(aes(x = ndeaths, y = after_stat(count)/nrow(kickdf)), width = .3) +\n",
        "    xlab('Number of deaths') + ylab('Proportion')"
      ],
      "metadata": {
        "colab": {
          "base_uri": "https://localhost:8080/",
          "height": 437
        },
        "id": "U10ldrLotisW",
        "outputId": "8e200fcd-e8b2-440c-bc6e-734887f6202f"
      },
      "execution_count": null,
      "outputs": [
        {
          "output_type": "display_data",
          "data": {
            "text/plain": [
              "plot without title"
            ],
            "image/png": "[encoded data removed]"
          },
          "metadata": {
            "image/png": {
              "width": 420,
              "height": 420
            }
          }
        }
      ]
    },
    {
      "cell_type": "markdown",
      "source": [
        "## C)\n",
        "\n",
        "Consider three possible probability models:\n",
        "\n",
        "* Model 1: $Y\\sim POI(\\lambda = 0.5)$\n",
        "* Model 2: $Y\\sim POI(\\lambda = 0.7)$\n",
        "* Model 3: $Y\\sim POI(\\lambda = 1)$\n",
        "\n",
        "We want to determine which of these models fits best.  To do this, complete the following table:\n",
        "\n",
        "\n",
        "| $k$ | $\\hat P(Y=k)$ |  $P_1(Y=k)$ | $P_2(Y=k)$ | $P_3(Y=k)$ |\n",
        "| --- | --- | --- | --- | --- |\n",
        "| 0 |   |   |   |  |\n",
        "| 1 |   |   |   |  |\n",
        "| 2 |   |   |   |  |\n",
        "| 3 |   |   |   |  |\n",
        "| 4 |   |   |   |  |\n",
        "\n",
        "Where $\\hat P(Y=k)$ is the observed proportion of times in which $k$ deaths occur in the data, and $P_i(Y=k)$ represents the Poisson-modeled probabilities of each $k$ using Model $i$ for $i= 1, 2, 3$."
      ],
      "metadata": {
        "id": "JTnukQvPu-Su"
      }
    },
    {
      "cell_type": "code",
      "source": [
        "(tableC <- data.frame(k = 0:4,\n",
        "            obs.probs = c(.5143, .3250, .1143,.0393,.0071),\n",
        "            model1.probs = round(dpois(0:4, .5),4),\n",
        "            model2.probs = round(dpois(0:4, .7),4),\n",
        "            model3.probs = round(dpois(0:4, 1),4)))"
      ],
      "metadata": {
        "colab": {
          "base_uri": "https://localhost:8080/",
          "height": 255
        },
        "id": "pqJOlOFiZBJc",
        "outputId": "d022cc85-0514-41ce-e72d-36519cb6916f"
      },
      "execution_count": null,
      "outputs": [
        {
          "output_type": "display_data",
          "data": {
            "text/html": [
              "<table class=\"dataframe\">\n",
              "<caption>A data.frame: 5 × 5</caption>\n",
              "<thead>\n",
              "\t<tr><th scope=col>k</th><th scope=col>obs.probs</th><th scope=col>model1.probs</th><th scope=col>model2.probs</th><th scope=col>model3.probs</th></tr>\n",
              "\t<tr><th scope=col>&lt;int&gt;</th><th scope=col>&lt;dbl&gt;</th><th scope=col>&lt;dbl&gt;</th><th scope=col>&lt;dbl&gt;</th><th scope=col>&lt;dbl&gt;</th></tr>\n",
              "</thead>\n",
              "<tbody>\n",
              "\t<tr><td>0</td><td>0.5143</td><td>0.6065</td><td>0.4966</td><td>0.3679</td></tr>\n",
              "\t<tr><td>1</td><td>0.3250</td><td>0.3033</td><td>0.3476</td><td>0.3679</td></tr>\n",
              "\t<tr><td>2</td><td>0.1143</td><td>0.0758</td><td>0.1217</td><td>0.1839</td></tr>\n",
              "\t<tr><td>3</td><td>0.0393</td><td>0.0126</td><td>0.0284</td><td>0.0613</td></tr>\n",
              "\t<tr><td>4</td><td>0.0071</td><td>0.0016</td><td>0.0050</td><td>0.0153</td></tr>\n",
              "</tbody>\n",
              "</table>\n"
            ],
            "text/markdown": "\nA data.frame: 5 × 5\n\n| k &lt;int&gt; | obs.probs &lt;dbl&gt; | model1.probs &lt;dbl&gt; | model2.probs &lt;dbl&gt; | model3.probs &lt;dbl&gt; |\n|---|---|---|---|---|\n| 0 | 0.5143 | 0.6065 | 0.4966 | 0.3679 |\n| 1 | 0.3250 | 0.3033 | 0.3476 | 0.3679 |\n| 2 | 0.1143 | 0.0758 | 0.1217 | 0.1839 |\n| 3 | 0.0393 | 0.0126 | 0.0284 | 0.0613 |\n| 4 | 0.0071 | 0.0016 | 0.0050 | 0.0153 |\n\n",
            "text/latex": "A data.frame: 5 × 5\n\\begin{tabular}{lllll}\n k & obs.probs & model1.probs & model2.probs & model3.probs\\\\\n <int> & <dbl> & <dbl> & <dbl> & <dbl>\\\\\n\\hline\n\t 0 & 0.5143 & 0.6065 & 0.4966 & 0.3679\\\\\n\t 1 & 0.3250 & 0.3033 & 0.3476 & 0.3679\\\\\n\t 2 & 0.1143 & 0.0758 & 0.1217 & 0.1839\\\\\n\t 3 & 0.0393 & 0.0126 & 0.0284 & 0.0613\\\\\n\t 4 & 0.0071 & 0.0016 & 0.0050 & 0.0153\\\\\n\\end{tabular}\n",
            "text/plain": [
              "  k obs.probs model1.probs model2.probs model3.probs\n",
              "1 0 0.5143    0.6065       0.4966       0.3679      \n",
              "2 1 0.3250    0.3033       0.3476       0.3679      \n",
              "3 2 0.1143    0.0758       0.1217       0.1839      \n",
              "4 3 0.0393    0.0126       0.0284       0.0613      \n",
              "5 4 0.0071    0.0016       0.0050       0.0153      "
            ]
          },
          "metadata": {}
        }
      ]
    },
    {
      "cell_type": "markdown",
      "source": [
        "## D)\n",
        "\n",
        "Find the residual sum of squares (RSS) for each of the three models,  defined to be:\n",
        "\n",
        "$$RSS_i = \\sum_{k=0}^4 \\left(\\hat P(Y=k) - P_i(Y=k)\\right)^2$$\n",
        "\n",
        "Using this metric, which model appears to fit these data best?"
      ],
      "metadata": {
        "id": "uvJQFF9fH58o"
      }
    },
    {
      "cell_type": "code",
      "source": [
        "tableC %>%\n",
        "  mutate(R1 = (obs.probs - model1.probs)^2,\n",
        "          R2 = (obs.probs - model2.probs)^2,\n",
        "          R3 = (obs.probs - model3.probs)^2) %>%\n",
        "  summarize(RSS1 = sum(R1), RSS2 = sum(R2), RSS3 = sum(R3))"
      ],
      "metadata": {
        "colab": {
          "base_uri": "https://localhost:8080/",
          "height": 129
        },
        "id": "-JgSQKI0Zpt5",
        "outputId": "38d7acd5-1072-4d9f-ec69-a8ec66dee8e4"
      },
      "execution_count": null,
      "outputs": [
        {
          "output_type": "display_data",
          "data": {
            "text/html": [
              "<table class=\"dataframe\">\n",
              "<caption>A data.frame: 1 × 3</caption>\n",
              "<thead>\n",
              "\t<tr><th scope=col>RSS1</th><th scope=col>RSS2</th><th scope=col>RSS3</th></tr>\n",
              "\t<tr><th scope=col>&lt;dbl&gt;</th><th scope=col>&lt;dbl&gt;</th><th scope=col>&lt;dbl&gt;</th></tr>\n",
              "</thead>\n",
              "<tbody>\n",
              "\t<tr><td>0.01119712</td><td>0.00100203</td><td>0.02866877</td></tr>\n",
              "</tbody>\n",
              "</table>\n"
            ],
            "text/markdown": "\nA data.frame: 1 × 3\n\n| RSS1 &lt;dbl&gt; | RSS2 &lt;dbl&gt; | RSS3 &lt;dbl&gt; |\n|---|---|---|\n| 0.01119712 | 0.00100203 | 0.02866877 |\n\n",
            "text/latex": "A data.frame: 1 × 3\n\\begin{tabular}{lll}\n RSS1 & RSS2 & RSS3\\\\\n <dbl> & <dbl> & <dbl>\\\\\n\\hline\n\t 0.01119712 & 0.00100203 & 0.02866877\\\\\n\\end{tabular}\n",
            "text/plain": [
              "  RSS1       RSS2       RSS3      \n",
              "1 0.01119712 0.00100203 0.02866877"
            ]
          },
          "metadata": {}
        }
      ]
    },
    {
      "cell_type": "markdown",
      "source": [
        "***Smallest RSS belongs to Model 2, $\\lambda = 0.7$***"
      ],
      "metadata": {
        "id": "YSq7_xueZ_f3"
      }
    },
    {
      "cell_type": "markdown",
      "source": [
        "## E)\n",
        "\n",
        "Plot the analytic probability distribution of your \"best\" model.  Compare it to the bar graph from B.  How do they compare?"
      ],
      "metadata": {
        "id": "LvGqqo_PIlRe"
      }
    },
    {
      "cell_type": "code",
      "source": [
        "library(ggplot2)\n",
        "ggplot() +\n",
        "  geom_bar(aes(x = 0:4, y = dpois(0:4, .7)), stat='identity', width = .3) +\n",
        "    ggtitle('Model 2 proportions') +\n",
        "    xlab('Number of deaths') + ylab('Proportion')"
      ],
      "metadata": {
        "colab": {
          "base_uri": "https://localhost:8080/",
          "height": 437
        },
        "id": "P_7qZUDzpkXy",
        "outputId": "74c9afbe-285a-4cf3-950e-ed9f78670241"
      },
      "execution_count": null,
      "outputs": [
        {
          "output_type": "display_data",
          "data": {
            "text/plain": [
              "plot without title"
            ],
            "image/png": "[encoded data removed]"
          },
          "metadata": {
            "image/png": {
              "width": 420,
              "height": 420
            }
          }
        }
      ]
    },
    {
      "cell_type": "markdown",
      "source": [
        "**This graph looks very similar to the observed proportions.**"
      ],
      "metadata": {
        "id": "SP3w6RWYaMb_"
      }
    },
    {
      "cell_type": "markdown",
      "source": [
        "# Q5 (20 points)\n",
        "\n",
        "Cardiovascular disease (CVD) is the leading cause of death and serious illness in the United States. In 1948, the Framingham Heart Study - under the direction of the National Heart Institute (now known as the National Heart, Lung, and Blood Institute or NHLBI) - embarked on an ambitious project in health research. The objective of the Framingham Heart Study was to identify the common factors or characteristics that contribute to CVD by following its development over a long period of time in a large group of participants who had not yet developed overt symptoms of CVD or suffered a heart attack or stroke. The researchers recruited 5,209 men and women between the ages of 30 and 62 from the town of Framingham, Massachusetts, and began the first round of extensive physical examinations and lifestyle interviews that they would later analyze for common patterns related to CVD development. Since 1948, the subjects have continued to return to the study every two years for a detailed medical history, physical examination, and laboratory tests.\n",
        "\n",
        "The data we'll look at here is a subset of the data collected as part of the Framingham study and includes data on 4,434 participants, each of which was followed for up to 24 years. For this problem we are concerned with two outcomes: hospitalized myocardial infarction and stroke as it relates to smoking.  A myocardial infarction (MI) is essentially a heart attack.\n",
        "\n",
        "\n",
        "The code below reads in the data and filters to consider only subjects between 50 and 59 years old who have never had a previous MI hospitalization or stroke; i.e. only those with `PREVSTRK` and `PREVMI` = `'Free of disease'`.  \n",
        "\n"
      ],
      "metadata": {
        "id": "WddBJHAoMCNW"
      }
    },
    {
      "cell_type": "code",
      "source": [
        "library(dplyr)\n",
        "framingham <- read.csv('https://www.dropbox.com/s/eafw1686bwa2hf7/Framingham_Subset.csv?dl=1') %>%\n",
        "  filter(AGE >= 50 & AGE <=59, PREVSTRK=='Free of disease', PREVMI == 'Free of disease') %>%\n",
        "  select(CURSMOKE,HOSPMI, TIMEMI, STROKE, TIMESTRK)\n"
      ],
      "metadata": {
        "id": "spKC8YyWOer_"
      },
      "execution_count": null,
      "outputs": []
    },
    {
      "cell_type": "code",
      "source": [
        "head(framingham)"
      ],
      "metadata": {
        "colab": {
          "base_uri": "https://localhost:8080/",
          "height": 286
        },
        "id": "QRNi_LpoeB14",
        "outputId": "1b59011c-f8e6-4f69-fecf-822ec1ea1c28"
      },
      "execution_count": null,
      "outputs": [
        {
          "output_type": "display_data",
          "data": {
            "text/html": [
              "<table class=\"dataframe\">\n",
              "<caption>A data.frame: 6 × 5</caption>\n",
              "<thead>\n",
              "\t<tr><th></th><th scope=col>CURSMOKE</th><th scope=col>HOSPMI</th><th scope=col>TIMEMI</th><th scope=col>STROKE</th><th scope=col>TIMESTRK</th></tr>\n",
              "\t<tr><th></th><th scope=col>&lt;int&gt;</th><th scope=col>&lt;int&gt;</th><th scope=col>&lt;int&gt;</th><th scope=col>&lt;int&gt;</th><th scope=col>&lt;int&gt;</th></tr>\n",
              "</thead>\n",
              "<tbody>\n",
              "\t<tr><th scope=row>1</th><td>0</td><td>0</td><td>8766</td><td>0</td><td>8766</td></tr>\n",
              "\t<tr><th scope=row>2</th><td>0</td><td>0</td><td>8766</td><td>0</td><td>8766</td></tr>\n",
              "\t<tr><th scope=row>3</th><td>0</td><td>1</td><td>6384</td><td>0</td><td>6410</td></tr>\n",
              "\t<tr><th scope=row>4</th><td>1</td><td>0</td><td>8766</td><td>0</td><td>8766</td></tr>\n",
              "\t<tr><th scope=row>5</th><td>0</td><td>0</td><td>1047</td><td>1</td><td> 724</td></tr>\n",
              "\t<tr><th scope=row>6</th><td>1</td><td>0</td><td>5839</td><td>0</td><td>5839</td></tr>\n",
              "</tbody>\n",
              "</table>\n"
            ],
            "text/markdown": "\nA data.frame: 6 × 5\n\n| <!--/--> | CURSMOKE &lt;int&gt; | HOSPMI &lt;int&gt; | TIMEMI &lt;int&gt; | STROKE &lt;int&gt; | TIMESTRK &lt;int&gt; |\n|---|---|---|---|---|---|\n| 1 | 0 | 0 | 8766 | 0 | 8766 |\n| 2 | 0 | 0 | 8766 | 0 | 8766 |\n| 3 | 0 | 1 | 6384 | 0 | 6410 |\n| 4 | 1 | 0 | 8766 | 0 | 8766 |\n| 5 | 0 | 0 | 1047 | 1 |  724 |\n| 6 | 1 | 0 | 5839 | 0 | 5839 |\n\n",
            "text/latex": "A data.frame: 6 × 5\n\\begin{tabular}{r|lllll}\n  & CURSMOKE & HOSPMI & TIMEMI & STROKE & TIMESTRK\\\\\n  & <int> & <int> & <int> & <int> & <int>\\\\\n\\hline\n\t1 & 0 & 0 & 8766 & 0 & 8766\\\\\n\t2 & 0 & 0 & 8766 & 0 & 8766\\\\\n\t3 & 0 & 1 & 6384 & 0 & 6410\\\\\n\t4 & 1 & 0 & 8766 & 0 & 8766\\\\\n\t5 & 0 & 0 & 1047 & 1 &  724\\\\\n\t6 & 1 & 0 & 5839 & 0 & 5839\\\\\n\\end{tabular}\n",
            "text/plain": [
              "  CURSMOKE HOSPMI TIMEMI STROKE TIMESTRK\n",
              "1 0        0      8766   0      8766    \n",
              "2 0        0      8766   0      8766    \n",
              "3 0        1      6384   0      6410    \n",
              "4 1        0      8766   0      8766    \n",
              "5 0        0      1047   1       724    \n",
              "6 1        0      5839   0      5839    "
            ]
          },
          "metadata": {}
        }
      ]
    },
    {
      "cell_type": "markdown",
      "source": [
        "The variables:\n",
        "\n",
        "* `CURSMOKE`: whether or not the participant was a smoker at baseline (1 = Y 0 = N)\n",
        "* `HOSPMI`: whether or not the participant was hospitalized for a myocardial infarction during the follow-up period, or whether the participant was censored.  Censoring is defined to be no hospitalization for MI observed before the study period ended, the subject died or was lost to follow-up. 1 = MI observed, 0 = Censored.\n",
        "* `STROKE`: same as `HOSPMI` but for stroke.\n",
        "* `TIMEMI`: Number of days from baseline exam to first hospitalized MI during the follow-up or number of days from MI to censor date, whichever came first.\n",
        "* `TIMESTRK`: same as `TIMEMI` but for stroke."
      ],
      "metadata": {
        "id": "Fg7I6QEQh_ak"
      }
    },
    {
      "cell_type": "markdown",
      "source": [
        "## A)\n",
        "\n",
        "Find the estimated rate of hospitalized MIs, and the estimated rate of stroke, per 1000 person-years of follow-up time for smokers and nonsmokers.  Enter these numbers in Table 1:\n",
        "\n",
        "\n",
        "**Table 1: Rate of adverse event per 1000 person-years**\n",
        "\n",
        "Smoking status | Hosp MI | Stroke |\n",
        "--- | --- | --- |\n",
        "Smoker | 4.1  | 5.3  |  \n",
        "Nonsmoker | 6.3 | 7.0 |"
      ],
      "metadata": {
        "id": "TdbB-FsbMdfk"
      }
    },
    {
      "cell_type": "code",
      "source": [
        "library(dplyr)\n",
        "framingham %>%\n",
        "  group_by(CURSMOKE) %>%\n",
        "  summarize(num_MI = sum(HOSPMI), MI_time = sum(TIMEMI), num_strokes = sum(STROKE), stroke_time = sum(TIMESTRK))"
      ],
      "metadata": {
        "colab": {
          "base_uri": "https://localhost:8080/",
          "height": 161
        },
        "id": "-bFQM1tln25G",
        "outputId": "5b939dfa-0e2f-41ab-a681-5734dd37ce25"
      },
      "execution_count": null,
      "outputs": [
        {
          "output_type": "display_data",
          "data": {
            "text/html": [
              "<table class=\"dataframe\">\n",
              "<caption>A tibble: 2 × 5</caption>\n",
              "<thead>\n",
              "\t<tr><th scope=col>CURSMOKE</th><th scope=col>num_MI</th><th scope=col>MI_time</th><th scope=col>num_strokes</th><th scope=col>stroke_time</th></tr>\n",
              "\t<tr><th scope=col>&lt;int&gt;</th><th scope=col>&lt;int&gt;</th><th scope=col>&lt;int&gt;</th><th scope=col>&lt;int&gt;</th><th scope=col>&lt;int&gt;</th></tr>\n",
              "</thead>\n",
              "<tbody>\n",
              "\t<tr><td>0</td><td>65</td><td>5763804</td><td>83</td><td>5716894</td></tr>\n",
              "\t<tr><td>1</td><td>68</td><td>3958052</td><td>77</td><td>4004519</td></tr>\n",
              "</tbody>\n",
              "</table>\n"
            ],
            "text/markdown": "\nA tibble: 2 × 5\n\n| CURSMOKE &lt;int&gt; | num_MI &lt;int&gt; | MI_time &lt;int&gt; | num_strokes &lt;int&gt; | stroke_time &lt;int&gt; |\n|---|---|---|---|---|\n| 0 | 65 | 5763804 | 83 | 5716894 |\n| 1 | 68 | 3958052 | 77 | 4004519 |\n\n",
            "text/latex": "A tibble: 2 × 5\n\\begin{tabular}{lllll}\n CURSMOKE & num\\_MI & MI\\_time & num\\_strokes & stroke\\_time\\\\\n <int> & <int> & <int> & <int> & <int>\\\\\n\\hline\n\t 0 & 65 & 5763804 & 83 & 5716894\\\\\n\t 1 & 68 & 3958052 & 77 & 4004519\\\\\n\\end{tabular}\n",
            "text/plain": [
              "  CURSMOKE num_MI MI_time num_strokes stroke_time\n",
              "1 0        65     5763804 83          5716894    \n",
              "2 1        68     3958052 77          4004519    "
            ]
          },
          "metadata": {}
        }
      ]
    },
    {
      "cell_type": "code",
      "source": [
        "#Rates for MI:\n",
        "1000*365.25*65/5763804\n",
        "1000*365.25*68/3958052"
      ],
      "metadata": {
        "colab": {
          "base_uri": "https://localhost:8080/",
          "height": 52
        },
        "id": "8D0chCfEn0ve",
        "outputId": "65cb0bfd-a710-47bc-e25a-52f96276b1df"
      },
      "execution_count": null,
      "outputs": [
        {
          "output_type": "display_data",
          "data": {
            "text/html": [
              "4.11902451922376"
            ],
            "text/markdown": "4.11902451922376",
            "text/latex": "4.11902451922376",
            "text/plain": [
              "[1] 4.119025"
            ]
          },
          "metadata": {}
        },
        {
          "output_type": "display_data",
          "data": {
            "text/html": [
              "6.27505651770113"
            ],
            "text/markdown": "6.27505651770113",
            "text/latex": "6.27505651770113",
            "text/plain": [
              "[1] 6.275057"
            ]
          },
          "metadata": {}
        }
      ]
    },
    {
      "cell_type": "markdown",
      "source": [
        "**For nonsmokers, the incidence rate of MI was 4.12 per 1000 person-years.  For smokers, the IR was 6.26 per 1000 person-years.**"
      ],
      "metadata": {
        "id": "5KCJz1ttqoP8"
      }
    },
    {
      "cell_type": "code",
      "source": [
        "# Rates for strokes:\n",
        "1000*365.25*83/5716894\n",
        "1000*365.25*77/4004519"
      ],
      "metadata": {
        "colab": {
          "base_uri": "https://localhost:8080/",
          "height": 52
        },
        "id": "0onbHvj6oLAh",
        "outputId": "be37e159-e537-4998-8bc3-3a84474a7611"
      },
      "execution_count": null,
      "outputs": [
        {
          "output_type": "display_data",
          "data": {
            "text/html": [
              "5.3028357706125"
            ],
            "text/markdown": "5.3028357706125",
            "text/latex": "5.3028357706125",
            "text/plain": [
              "[1] 5.302836"
            ]
          },
          "metadata": {}
        },
        {
          "output_type": "display_data",
          "data": {
            "text/html": [
              "7.02312812100529"
            ],
            "text/markdown": "7.02312812100529",
            "text/latex": "7.02312812100529",
            "text/plain": [
              "[1] 7.023128"
            ]
          },
          "metadata": {}
        }
      ]
    },
    {
      "cell_type": "markdown",
      "source": [
        "**For nonsmokers, the incidence rate of stroke was 5.30 per 1000 person-years.  For smokers, the IR was 7.02 per 1000 person-years.**"
      ],
      "metadata": {
        "id": "yU563Igyq31O"
      }
    },
    {
      "cell_type": "markdown",
      "source": [
        "## B)\n",
        "\n",
        "A group of ten 50-59 year olds are followed for a period of time. The average amount of follow-up time was 3 years. Find the probability that at least one adverse event occurs during the follow-up period, if all the individuals have the same smoking status. Enter these in Table 2.\n",
        "\n",
        "**Table 2: *P(at least one adverse event)***\n",
        "\n",
        "Smoking status | Hosp MI | Stroke |\n",
        "--- | --- | --- |\n",
        "Smoker | 17.2%   | 18.9%  |  \n",
        "Nonsmoker |11.6%  |14.7%  |"
      ],
      "metadata": {
        "id": "Xy4lBHKuMw0H"
      }
    },
    {
      "cell_type": "markdown",
      "source": [
        "**The expected number of hospitalized MIs for $10\\times 3 = 30$ person-years of smoker follow-up time is $\\mu$=30$\\times$6.3/1000. The expected number of hospitalized MIs for 30 person-years of nonsmoker follow-up time is $\\mu$=30$\\times$4.1/1000. The expected number of strokes for 30 person-years of smoker follow-up time is $\\mu$=30$\\times$7.0/1000. The expected number of strokes for 30 person-years of nonsmoker follow-up time is $\\mu$=30$\\times$5.3/1000.\n",
        "Finding the Poisson 3-year survival probabilities entails finding $P(Y\\geq 1)=1-P(Y=0)$, where $Y$ is the number of adverse events over 30 years of follow-up.**\n"
      ],
      "metadata": {
        "id": "bjokMYzvrEkH"
      }
    },
    {
      "cell_type": "code",
      "source": [
        "#Hosp MI, smoker:\n",
        "1-dpois(0,30*6.3/1000)\n",
        "#Hosp MI, nonsmoker:\n",
        "1-dpois(0,30*4.1/1000)\n",
        "#Stroke, smoker:\n",
        "1-dpois(0,30*7/1000)\n",
        "#Stroke, nonsmoker:\n",
        "1-dpois(0,30*5.3/1000)\n"
      ],
      "metadata": {
        "colab": {
          "base_uri": "https://localhost:8080/",
          "height": 86
        },
        "id": "hBxeAWW1rUYR",
        "outputId": "e8823ba1-674c-4011-9a8d-ae9f1a607bc7"
      },
      "execution_count": null,
      "outputs": [
        {
          "output_type": "display_data",
          "data": {
            "text/html": [
              "0.172213493305266"
            ],
            "text/markdown": "0.172213493305266",
            "text/latex": "0.172213493305266",
            "text/plain": [
              "[1] 0.1722135"
            ]
          },
          "metadata": {}
        },
        {
          "output_type": "display_data",
          "data": {
            "text/html": [
              "0.115736337439179"
            ],
            "text/markdown": "0.115736337439179",
            "text/latex": "0.115736337439179",
            "text/plain": [
              "[1] 0.1157363"
            ]
          },
          "metadata": {}
        },
        {
          "output_type": "display_data",
          "data": {
            "text/html": [
              "0.189415754029813"
            ],
            "text/markdown": "0.189415754029813",
            "text/latex": "0.189415754029813",
            "text/plain": [
              "[1] 0.1894158"
            ]
          },
          "metadata": {}
        },
        {
          "output_type": "display_data",
          "data": {
            "text/html": [
              "0.147003641030868"
            ],
            "text/markdown": "0.147003641030868",
            "text/latex": "0.147003641030868",
            "text/plain": [
              "[1] 0.1470036"
            ]
          },
          "metadata": {}
        }
      ]
    },
    {
      "cell_type": "markdown",
      "source": [
        "## C)\n",
        "\n",
        "Which $Y$ variable (occurrence of hospitalized MI, or stroke) appears to be most strongly associated with $X$ (smoking)? Justify your answer using the results of Tables 3.1 and 3.2.\n",
        "\n"
      ],
      "metadata": {
        "id": "XfNoIQOyND6W"
      }
    },
    {
      "cell_type": "markdown",
      "source": [
        "**Hospitalized MI appears slightly more related to smoking status, given the summaries above. The difference in hospitalized MI incidence rates comparing smokers to nonsmokers was (6.3-4.1) = 2.2 events per 1000 person-years, and the probability of at least one hospitalized MI over 30 person-years of follow-up was 5.6% higher for smokers than for nonsmokers. The difference in strokes incidence rates comparing smokers to nonsmokers was only (7.0-5.3) = 1.7 events per 1000 person-years, and the probability of at least one stroke over 30 person-years of follow-up was 4.2% higher for smokers than for nonsmokers.**"
      ],
      "metadata": {
        "id": "eoY-D4bWr7GM"
      }
    },
    {
      "cell_type": "markdown",
      "source": [
        "# Q6 (15 points)\n",
        "\n",
        "Reconsider the Framingham data restricted to 50-59 year olds with no previous hospitalized MIs or strokes. We can test whether smoking is significantly related to an adverse outcome using the binomial distribution. Here’s how: Let $p=t_1/(t_1+t_0)$, where $t_0$ is the total amount of follow-up time for nonsmokers and $t_1$ is the total amount of follow-up time for smokers. Let $N$ represent the total number of observed adverse outcomes (for both smokers and non-smokers). Then, if smoking has no relationship with the incidence rate, $N$ should be distributed across the two groups only accordingly to the follow-up time in the two groups. Let $Y \\equiv$ number of observed adverse events among smokers.  We've now redefined $Y$ to be the number of 1's out of $N$ binary trials (adverse events), where 1 indicates that the adverse event happened to a smoker and 0 that it happened to a nonsmoker. Under the null hypothesis that smoking is not related to the incidence rate, $Y∼BIN(N,p)$.  Use this information to test whether smoking is significantly associated with hospitalized MI."
      ],
      "metadata": {
        "id": "IVOPK-9oNVt_"
      }
    },
    {
      "cell_type": "markdown",
      "source": [
        "## A)\n",
        "What percent of hospitalized MI person-time was spent following smokers?"
      ],
      "metadata": {
        "id": "KwaxwiMwN79g"
      }
    },
    {
      "cell_type": "markdown",
      "source": [
        "**Looking at the output from previous question, for hospitalized MI there were (5763804+3958052) = 9,721,856 days of follow-up time. 3958052 of these were follow-up times for smokers, so 41% of the follow-up time was for smokers.**"
      ],
      "metadata": {
        "id": "QYWSBTB2sPU4"
      }
    },
    {
      "cell_type": "code",
      "source": [
        "3958052/(5763804+3958052)"
      ],
      "metadata": {
        "colab": {
          "base_uri": "https://localhost:8080/",
          "height": 34
        },
        "id": "FjVBBAQAqVQ6",
        "outputId": "3c963f64-0b91-4f93-bae6-ea5de3421533"
      },
      "execution_count": null,
      "outputs": [
        {
          "output_type": "display_data",
          "data": {
            "text/html": [
              "0.407129255977459"
            ],
            "text/markdown": "0.407129255977459",
            "text/latex": "0.407129255977459",
            "text/plain": [
              "[1] 0.4071293"
            ]
          },
          "metadata": {}
        }
      ]
    },
    {
      "cell_type": "markdown",
      "source": [
        "## B)\n",
        "\n",
        "How many total hospitalized MIs were there, and how many of these would you expect to be smokers, given the person-time percents, if smoking has no relationship with hospitalized MI incidence rate?"
      ],
      "metadata": {
        "id": "-yvLZq7kN_iQ"
      }
    },
    {
      "cell_type": "code",
      "source": [
        ".41*133"
      ],
      "metadata": {
        "colab": {
          "base_uri": "https://localhost:8080/",
          "height": 34
        },
        "id": "gW4APGEmqcwz",
        "outputId": "20a03552-6a62-43ec-df4d-d91d236b49ac"
      },
      "execution_count": null,
      "outputs": [
        {
          "output_type": "display_data",
          "data": {
            "text/html": [
              "54.53"
            ],
            "text/markdown": "54.53",
            "text/latex": "54.53",
            "text/plain": [
              "[1] 54.53"
            ]
          },
          "metadata": {}
        }
      ]
    },
    {
      "cell_type": "markdown",
      "source": [
        "**There were (65+68) = 133 total hospitalized MIs; we would expect 41% of these to be among smokers: 41% of 133 = 54.5.**"
      ],
      "metadata": {
        "id": "yhfX3FK3sUSl"
      }
    },
    {
      "cell_type": "markdown",
      "source": [
        "## C)\n",
        "Use a one-sided p-value from a binomial distribution to determine whether the incidence rate of hospitalized MI is higher for smokers than for nonsmokers. Report your p-value and state your conclusion."
      ],
      "metadata": {
        "id": "R8d_iiYoOCv4"
      }
    },
    {
      "cell_type": "markdown",
      "source": [
        "***We are interested in $P(Y \\geq 68)$ where $Y\\sim BIN(133, 0.41)$, under a null hypothesis of no increased rate of MI from smoking.***"
      ],
      "metadata": {
        "id": "VEY8DXYPysYr"
      }
    },
    {
      "cell_type": "code",
      "source": [
        "1-pbinom(67, 133, .41)"
      ],
      "metadata": {
        "colab": {
          "base_uri": "https://localhost:8080/",
          "height": 34
        },
        "id": "dD6M-BHCqlEq",
        "outputId": "c588a018-b0dc-4fd3-97f9-6317080743e3"
      },
      "execution_count": null,
      "outputs": [
        {
          "output_type": "display_data",
          "data": {
            "text/html": [
              "0.0115832687464328"
            ],
            "text/markdown": "0.0115832687464328",
            "text/latex": "0.0115832687464328",
            "text/plain": [
              "[1] 0.01158327"
            ]
          },
          "metadata": {}
        }
      ]
    },
    {
      "cell_type": "markdown",
      "source": [
        "\n",
        " **Since the p-value is 0.01< 0.05, there is statistically significant evidence that smoking is related to the incidence rate of hospitalized MI.**"
      ],
      "metadata": {
        "id": "LfF9075Gso4u"
      }
    }
  ]
}