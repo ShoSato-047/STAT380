{
  "nbformat": 4,
  "nbformat_minor": 0,
  "metadata": {
    "colab": {
      "provenance": [],
      "include_colab_link": true
    },
    "kernelspec": {
      "name": "ir",
      "display_name": "R"
    },
    "language_info": {
      "name": "R"
    }
  },
  "cells": [
    {
      "cell_type": "markdown",
      "metadata": {
        "id": "view-in-github",
        "colab_type": "text"
      },
      "source": [
        "<a href=\"https://colab.research.google.com/github/ShoSato-047/STAT380/blob/main/ShoSato_Activity_4_(2025)_Likelihoods.ipynb\" target=\"_parent\"><img src=\"https://colab.research.google.com/assets/colab-badge.svg\" alt=\"Open In Colab\"/></a>"
      ]
    },
    {
      "cell_type": "code",
      "source": [
        "# Refer to notebooks 3.1 and 3.2"
      ],
      "metadata": {
        "id": "6vJQZfXMCzZa"
      },
      "execution_count": null,
      "outputs": []
    },
    {
      "cell_type": "markdown",
      "source": [
        "# Introduction\n",
        "\n",
        "Recall the log-likelihood for a parameter $\\theta$ involving a sample $Y_1,...,Y_n$ of *discrete* random response variables with observed values $k_1,...,k_n$:\n",
        "\n",
        "$$logLik(\\theta) = \\log\\left(\\prod_{i=1}^n P(Y_i = k_i; \\theta)\\right) =  \\sum_{i=1}^n \\log(P(Y_i = k_i;\\theta))$$\n",
        "\n"
      ],
      "metadata": {
        "id": "L8OXPwHgiLpj"
      }
    },
    {
      "cell_type": "markdown",
      "source": [
        "Gilovich, Vallone, and Tversky (1985) wrote a controversial but compelling article claiming that there is no such thing as “the hot hand” in basketball. That is, there is no data-based evidence that shooters have stretches where they are more likely to make consecutive shots, and basketball shots are essentially independent events. One of the many ways they tested for evidence of a “hot hand” was to record sequences of shots for players under game conditions and determine if players are more likely to make shots after made baskets than after misses. For instance, assume we recorded data from one player’s first 5 three-point attempts over a 5-game period. B represents a basket, M represents a miss."
      ],
      "metadata": {
        "id": "afdkvcQux61n"
      }
    },
    {
      "cell_type": "markdown",
      "source": [
        "Game | First 5 shots |\n",
        "--- | --- |\n",
        "1 | BMMBB\n",
        "2 | MBMBM\n",
        "3 | MMBBB\n",
        "4 | BMMMB\n",
        "5 | MMMMM\n",
        "\n"
      ],
      "metadata": {
        "id": "rC7kcLn8yCPz"
      }
    },
    {
      "cell_type": "markdown",
      "source": [
        "We could represent these data in a way that better emphasizes the fact that the observational unit is the ***shot***, not the ***game***, as follows:"
      ],
      "metadata": {
        "id": "6Tjb-ye5h9GV"
      }
    },
    {
      "cell_type": "code",
      "source": [
        "hothand <- read.csv('https://www.dropbox.com/s/wyvu3jtojfepoa8/hothand.csv?dl=1')\n",
        "hothand"
      ],
      "metadata": {
        "colab": {
          "base_uri": "https://localhost:8080/",
          "height": 882
        },
        "id": "fpNKlI5zteIe",
        "outputId": "314e3bf5-0706-4685-8a05-acf32f8ec548"
      },
      "execution_count": null,
      "outputs": [
        {
          "output_type": "display_data",
          "data": {
            "text/html": [
              "<table class=\"dataframe\">\n",
              "<caption>A data.frame: 25 × 4</caption>\n",
              "<thead>\n",
              "\t<tr><th scope=col>Shot</th><th scope=col>Game</th><th scope=col>Y</th><th scope=col>X</th></tr>\n",
              "\t<tr><th scope=col>&lt;int&gt;</th><th scope=col>&lt;int&gt;</th><th scope=col>&lt;int&gt;</th><th scope=col>&lt;int&gt;</th></tr>\n",
              "</thead>\n",
              "<tbody>\n",
              "\t<tr><td> 1</td><td>1</td><td>1</td><td>0</td></tr>\n",
              "\t<tr><td> 2</td><td>1</td><td>0</td><td>1</td></tr>\n",
              "\t<tr><td> 3</td><td>1</td><td>0</td><td>0</td></tr>\n",
              "\t<tr><td> 4</td><td>1</td><td>1</td><td>0</td></tr>\n",
              "\t<tr><td> 5</td><td>1</td><td>1</td><td>1</td></tr>\n",
              "\t<tr><td> 6</td><td>2</td><td>0</td><td>0</td></tr>\n",
              "\t<tr><td> 7</td><td>2</td><td>1</td><td>0</td></tr>\n",
              "\t<tr><td> 8</td><td>2</td><td>0</td><td>1</td></tr>\n",
              "\t<tr><td> 9</td><td>2</td><td>1</td><td>0</td></tr>\n",
              "\t<tr><td>10</td><td>2</td><td>0</td><td>1</td></tr>\n",
              "\t<tr><td>11</td><td>3</td><td>0</td><td>0</td></tr>\n",
              "\t<tr><td>12</td><td>3</td><td>0</td><td>0</td></tr>\n",
              "\t<tr><td>13</td><td>3</td><td>1</td><td>0</td></tr>\n",
              "\t<tr><td>14</td><td>3</td><td>1</td><td>1</td></tr>\n",
              "\t<tr><td>15</td><td>3</td><td>1</td><td>1</td></tr>\n",
              "\t<tr><td>16</td><td>4</td><td>1</td><td>0</td></tr>\n",
              "\t<tr><td>17</td><td>4</td><td>0</td><td>1</td></tr>\n",
              "\t<tr><td>18</td><td>4</td><td>0</td><td>0</td></tr>\n",
              "\t<tr><td>19</td><td>4</td><td>0</td><td>0</td></tr>\n",
              "\t<tr><td>20</td><td>4</td><td>1</td><td>0</td></tr>\n",
              "\t<tr><td>21</td><td>5</td><td>0</td><td>0</td></tr>\n",
              "\t<tr><td>22</td><td>5</td><td>0</td><td>0</td></tr>\n",
              "\t<tr><td>23</td><td>5</td><td>0</td><td>0</td></tr>\n",
              "\t<tr><td>24</td><td>5</td><td>0</td><td>0</td></tr>\n",
              "\t<tr><td>25</td><td>5</td><td>0</td><td>0</td></tr>\n",
              "</tbody>\n",
              "</table>\n"
            ],
            "text/markdown": "\nA data.frame: 25 × 4\n\n| Shot &lt;int&gt; | Game &lt;int&gt; | Y &lt;int&gt; | X &lt;int&gt; |\n|---|---|---|---|\n|  1 | 1 | 1 | 0 |\n|  2 | 1 | 0 | 1 |\n|  3 | 1 | 0 | 0 |\n|  4 | 1 | 1 | 0 |\n|  5 | 1 | 1 | 1 |\n|  6 | 2 | 0 | 0 |\n|  7 | 2 | 1 | 0 |\n|  8 | 2 | 0 | 1 |\n|  9 | 2 | 1 | 0 |\n| 10 | 2 | 0 | 1 |\n| 11 | 3 | 0 | 0 |\n| 12 | 3 | 0 | 0 |\n| 13 | 3 | 1 | 0 |\n| 14 | 3 | 1 | 1 |\n| 15 | 3 | 1 | 1 |\n| 16 | 4 | 1 | 0 |\n| 17 | 4 | 0 | 1 |\n| 18 | 4 | 0 | 0 |\n| 19 | 4 | 0 | 0 |\n| 20 | 4 | 1 | 0 |\n| 21 | 5 | 0 | 0 |\n| 22 | 5 | 0 | 0 |\n| 23 | 5 | 0 | 0 |\n| 24 | 5 | 0 | 0 |\n| 25 | 5 | 0 | 0 |\n\n",
            "text/latex": "A data.frame: 25 × 4\n\\begin{tabular}{llll}\n Shot & Game & Y & X\\\\\n <int> & <int> & <int> & <int>\\\\\n\\hline\n\t  1 & 1 & 1 & 0\\\\\n\t  2 & 1 & 0 & 1\\\\\n\t  3 & 1 & 0 & 0\\\\\n\t  4 & 1 & 1 & 0\\\\\n\t  5 & 1 & 1 & 1\\\\\n\t  6 & 2 & 0 & 0\\\\\n\t  7 & 2 & 1 & 0\\\\\n\t  8 & 2 & 0 & 1\\\\\n\t  9 & 2 & 1 & 0\\\\\n\t 10 & 2 & 0 & 1\\\\\n\t 11 & 3 & 0 & 0\\\\\n\t 12 & 3 & 0 & 0\\\\\n\t 13 & 3 & 1 & 0\\\\\n\t 14 & 3 & 1 & 1\\\\\n\t 15 & 3 & 1 & 1\\\\\n\t 16 & 4 & 1 & 0\\\\\n\t 17 & 4 & 0 & 1\\\\\n\t 18 & 4 & 0 & 0\\\\\n\t 19 & 4 & 0 & 0\\\\\n\t 20 & 4 & 1 & 0\\\\\n\t 21 & 5 & 0 & 0\\\\\n\t 22 & 5 & 0 & 0\\\\\n\t 23 & 5 & 0 & 0\\\\\n\t 24 & 5 & 0 & 0\\\\\n\t 25 & 5 & 0 & 0\\\\\n\\end{tabular}\n",
            "text/plain": [
              "   Shot Game Y X\n",
              "1   1   1    1 0\n",
              "2   2   1    0 1\n",
              "3   3   1    0 0\n",
              "4   4   1    1 0\n",
              "5   5   1    1 1\n",
              "6   6   2    0 0\n",
              "7   7   2    1 0\n",
              "8   8   2    0 1\n",
              "9   9   2    1 0\n",
              "10 10   2    0 1\n",
              "11 11   3    0 0\n",
              "12 12   3    0 0\n",
              "13 13   3    1 0\n",
              "14 14   3    1 1\n",
              "15 15   3    1 1\n",
              "16 16   4    1 0\n",
              "17 17   4    0 1\n",
              "18 18   4    0 0\n",
              "19 19   4    0 0\n",
              "20 20   4    1 0\n",
              "21 21   5    0 0\n",
              "22 22   5    0 0\n",
              "23 23   5    0 0\n",
              "24 24   5    0 0\n",
              "25 25   5    0 0"
            ]
          },
          "metadata": {}
        }
      ]
    },
    {
      "cell_type": "markdown",
      "source": [
        "Here, $Y_i$ is the binary variable measured on each shot, $Y_i=1$ for B and $Y_i=0$ for M.  $X_i$ is a binary variable where $X_i=1$ if the previous shot was a B, and $X_i=0$ otherwise (previous shot was a miss or it was the first shot).\n",
        "\n"
      ],
      "metadata": {
        "id": "puPnmifuyXaT"
      }
    },
    {
      "cell_type": "markdown",
      "source": [
        "# Question 1: Model 1\n",
        "\n",
        "Consider the simplest one-parameter model, **Model 1**, which models these data assuming no hot-hand (probability of a basket is the same on each shot).  In this model, $X_i$ is ***not*** related to $Y_i$:\n",
        "\n",
        "\n",
        "**Model 1: no hot-hand; probability of a basket is the same on each shot (a one-parameter model):**\n",
        "\n",
        "$$P(Y_i = k_i; p) = p^{k_i}(1-p)^{1-k_i}, k_i \\in \\{0,1\\}, i = 1, 2, ..., 25$$\n",
        "\n"
      ],
      "metadata": {
        "id": "8vM2LF4-i8Wj"
      }
    },
    {
      "cell_type": "markdown",
      "source": [
        "## A)\n",
        "\n",
        "Consider the first five shots:"
      ],
      "metadata": {
        "id": "_xIoqFjDjMdS"
      }
    },
    {
      "cell_type": "code",
      "source": [
        "head(hothand, 5)"
      ],
      "metadata": {
        "colab": {
          "base_uri": "https://localhost:8080/",
          "height": 255
        },
        "id": "4zj-kk9ltu-e",
        "outputId": "42c63c75-2aa1-426f-b76c-ec9699196c03"
      },
      "execution_count": null,
      "outputs": [
        {
          "output_type": "display_data",
          "data": {
            "text/html": [
              "<table class=\"dataframe\">\n",
              "<caption>A data.frame: 5 × 4</caption>\n",
              "<thead>\n",
              "\t<tr><th></th><th scope=col>Shot</th><th scope=col>Game</th><th scope=col>Y</th><th scope=col>X</th></tr>\n",
              "\t<tr><th></th><th scope=col>&lt;int&gt;</th><th scope=col>&lt;int&gt;</th><th scope=col>&lt;int&gt;</th><th scope=col>&lt;int&gt;</th></tr>\n",
              "</thead>\n",
              "<tbody>\n",
              "\t<tr><th scope=row>1</th><td>1</td><td>1</td><td>1</td><td>0</td></tr>\n",
              "\t<tr><th scope=row>2</th><td>2</td><td>1</td><td>0</td><td>1</td></tr>\n",
              "\t<tr><th scope=row>3</th><td>3</td><td>1</td><td>0</td><td>0</td></tr>\n",
              "\t<tr><th scope=row>4</th><td>4</td><td>1</td><td>1</td><td>0</td></tr>\n",
              "\t<tr><th scope=row>5</th><td>5</td><td>1</td><td>1</td><td>1</td></tr>\n",
              "</tbody>\n",
              "</table>\n"
            ],
            "text/markdown": "\nA data.frame: 5 × 4\n\n| <!--/--> | Shot &lt;int&gt; | Game &lt;int&gt; | Y &lt;int&gt; | X &lt;int&gt; |\n|---|---|---|---|---|\n| 1 | 1 | 1 | 1 | 0 |\n| 2 | 2 | 1 | 0 | 1 |\n| 3 | 3 | 1 | 0 | 0 |\n| 4 | 4 | 1 | 1 | 0 |\n| 5 | 5 | 1 | 1 | 1 |\n\n",
            "text/latex": "A data.frame: 5 × 4\n\\begin{tabular}{r|llll}\n  & Shot & Game & Y & X\\\\\n  & <int> & <int> & <int> & <int>\\\\\n\\hline\n\t1 & 1 & 1 & 1 & 0\\\\\n\t2 & 2 & 1 & 0 & 1\\\\\n\t3 & 3 & 1 & 0 & 0\\\\\n\t4 & 4 & 1 & 1 & 0\\\\\n\t5 & 5 & 1 & 1 & 1\\\\\n\\end{tabular}\n",
            "text/plain": [
              "  Shot Game Y X\n",
              "1 1    1    1 0\n",
              "2 2    1    0 1\n",
              "3 3    1    0 0\n",
              "4 4    1    1 0\n",
              "5 5    1    1 1"
            ]
          },
          "metadata": {}
        }
      ]
    },
    {
      "cell_type": "code",
      "source": [
        "# Just plug in Y (1 or 0) into the equation from the above"
      ],
      "metadata": {
        "id": "Ieuv67yoEl63"
      },
      "execution_count": null,
      "outputs": []
    },
    {
      "cell_type": "markdown",
      "source": [
        " What does each of these shots contribute to the Model 1 log-likelihood?\n",
        "\n",
        "* Shot 1: $log(p^1 (1-p)^{1-1}) = log(p)$\n",
        "* Shot 2: $log(p^0 (1-p)^{1-0}) = log(1 - p)$\n",
        "* Shot 3: $log(p^0 (1-p)^{1-0}) = log(1 - p)$\n",
        "* Shot 4: $log(p^1 (1-p)^{1-1}) = log(p)$\n",
        "* Shot 5: $log(p^1 (1-p)^{1-1}) = log(p)$"
      ],
      "metadata": {
        "id": "tbAC82y7twN7"
      }
    },
    {
      "cell_type": "markdown",
      "source": [
        "## B)\n",
        "\n",
        "How many total contributions of $\\log(p)$ are there to the log-likelihood?   \n",
        "  - **There are 10: one for each make.**\n",
        "\n",
        "How many total contributions of $\\log(1-p)$ are there to the log-likelihood?\n",
        "  - **There are 15: one for each miss.**"
      ],
      "metadata": {
        "id": "CtLl9eQAt4Ri"
      }
    },
    {
      "cell_type": "code",
      "source": [
        "library(dplyr)\n",
        "(hothand\n",
        "  %>% summarize(nrows = n(), .by = Y)\n",
        ")"
      ],
      "metadata": {
        "colab": {
          "base_uri": "https://localhost:8080/",
          "height": 178
        },
        "id": "eXk-HBfyEtlk",
        "outputId": "31b5119e-603b-4fbd-972c-f23e1d693f79"
      },
      "execution_count": null,
      "outputs": [
        {
          "output_type": "display_data",
          "data": {
            "text/html": [
              "<table class=\"dataframe\">\n",
              "<caption>A data.frame: 2 × 2</caption>\n",
              "<thead>\n",
              "\t<tr><th scope=col>Y</th><th scope=col>nrows</th></tr>\n",
              "\t<tr><th scope=col>&lt;int&gt;</th><th scope=col>&lt;int&gt;</th></tr>\n",
              "</thead>\n",
              "<tbody>\n",
              "\t<tr><td>1</td><td>10</td></tr>\n",
              "\t<tr><td>0</td><td>15</td></tr>\n",
              "</tbody>\n",
              "</table>\n"
            ],
            "text/markdown": "\nA data.frame: 2 × 2\n\n| Y &lt;int&gt; | nrows &lt;int&gt; |\n|---|---|\n| 1 | 10 |\n| 0 | 15 |\n\n",
            "text/latex": "A data.frame: 2 × 2\n\\begin{tabular}{ll}\n Y & nrows\\\\\n <int> & <int>\\\\\n\\hline\n\t 1 & 10\\\\\n\t 0 & 15\\\\\n\\end{tabular}\n",
            "text/plain": [
              "  Y nrows\n",
              "1 1 10   \n",
              "2 0 15   "
            ]
          },
          "metadata": {}
        }
      ]
    },
    {
      "cell_type": "markdown",
      "source": [
        "## C)\n",
        "\n",
        "Complete the function below that calculates the log-likelihood for a given value of $p$.\n"
      ],
      "metadata": {
        "id": "EbEAX8Bq0qjG"
      }
    },
    {
      "cell_type": "code",
      "source": [
        "logLik.model1 <- function(p) {\n",
        "  log.lik <- 10*log(p) + 15*log(1-p) #Add all the contributions to the log-likelihood together\n",
        "  return(log.lik)\n",
        "}"
      ],
      "metadata": {
        "id": "uGMadeuP2Wc2"
      },
      "execution_count": null,
      "outputs": []
    },
    {
      "cell_type": "markdown",
      "source": [
        "## D)\n",
        "\n",
        "Consider 3 different values of $p$: $p = 0.1$; $p = 0.25$; $p = 0.5$.  Use your function to evaluate $logLik(p)$ for each of these.  Which of these $p$ make the observed data most likely?"
      ],
      "metadata": {
        "id": "V2KCAmAz2W_m"
      }
    },
    {
      "cell_type": "code",
      "source": [
        "logLik.model1(0.1)\n",
        "logLik.model1(0.25)\n",
        "logLik.model1(0.4) # This is the best"
      ],
      "metadata": {
        "colab": {
          "base_uri": "https://localhost:8080/",
          "height": 69
        },
        "id": "BovkxZ-rF3Yc",
        "outputId": "5d88f228-b63c-41b6-9e92-18bd087bbd88"
      },
      "execution_count": null,
      "outputs": [
        {
          "output_type": "display_data",
          "data": {
            "text/html": [
              "-24.6062586648078"
            ],
            "text/markdown": "-24.6062586648078",
            "text/latex": "-24.6062586648078",
            "text/plain": [
              "[1] -24.60626"
            ]
          },
          "metadata": {}
        },
        {
          "output_type": "display_data",
          "data": {
            "text/html": [
              "-18.1781746979756"
            ],
            "text/markdown": "-18.1781746979756",
            "text/latex": "-18.1781746979756",
            "text/plain": [
              "[1] -18.17817"
            ]
          },
          "metadata": {}
        },
        {
          "output_type": "display_data",
          "data": {
            "text/html": [
              "-16.8252916752314"
            ],
            "text/markdown": "-16.8252916752314",
            "text/latex": "-16.8252916752314",
            "text/plain": [
              "[1] -16.82529"
            ]
          },
          "metadata": {}
        }
      ]
    },
    {
      "cell_type": "markdown",
      "source": [
        "## E)\n",
        "\n",
        "Use the code below to find the maximum likelihood estimator, $\\hat p_{MLE}$.  What is the MLE, and how does it represent the observed data?"
      ],
      "metadata": {
        "id": "4roBm6_M2MI3"
      }
    },
    {
      "cell_type": "code",
      "source": [
        "optimize(logLik.model1, interval = c(0,1), maximum = TRUE)"
      ],
      "metadata": {
        "id": "9ApEXD1b3Mp4",
        "colab": {
          "base_uri": "https://localhost:8080/",
          "height": 114
        },
        "outputId": "df7d2cf1-d52d-4a6c-ead5-652786acd4f6"
      },
      "execution_count": null,
      "outputs": [
        {
          "output_type": "display_data",
          "data": {
            "text/html": [
              "<dl>\n",
              "\t<dt>$maximum</dt>\n",
              "\t\t<dd>0.400001496488761</dd>\n",
              "\t<dt>$objective</dt>\n",
              "\t\t<dd>-16.8252916753481</dd>\n",
              "</dl>\n"
            ],
            "text/markdown": "$maximum\n:   0.400001496488761\n$objective\n:   -16.8252916753481\n\n\n",
            "text/latex": "\\begin{description}\n\\item[\\$maximum] 0.400001496488761\n\\item[\\$objective] -16.8252916753481\n\\end{description}\n",
            "text/plain": [
              "$maximum\n",
              "[1] 0.4000015\n",
              "\n",
              "$objective\n",
              "[1] -16.82529\n"
            ]
          },
          "metadata": {}
        }
      ]
    },
    {
      "cell_type": "code",
      "source": [
        "round(optimize(logLik.model1, interval = c(0,1), maximum = TRUE)$maximum,4)"
      ],
      "metadata": {
        "colab": {
          "base_uri": "https://localhost:8080/",
          "height": 34
        },
        "id": "iQvebbHSHAcr",
        "outputId": "1eee4dc9-b7cf-46dc-9d66-aa903380e99a"
      },
      "execution_count": null,
      "outputs": [
        {
          "output_type": "display_data",
          "data": {
            "text/html": [
              "0.4"
            ],
            "text/markdown": "0.4",
            "text/latex": "0.4",
            "text/plain": [
              "[1] 0.4"
            ]
          },
          "metadata": {}
        }
      ]
    },
    {
      "cell_type": "code",
      "source": [
        "# Notice that 10/25:\n",
        "10/25"
      ],
      "metadata": {
        "colab": {
          "base_uri": "https://localhost:8080/",
          "height": 34
        },
        "id": "fz0e-fHeGNB3",
        "outputId": "d827b22c-19b4-4429-da9c-6df8c3cf5c44"
      },
      "execution_count": null,
      "outputs": [
        {
          "output_type": "display_data",
          "data": {
            "text/html": [
              "0.4"
            ],
            "text/markdown": "0.4",
            "text/latex": "0.4",
            "text/plain": [
              "[1] 0.4"
            ]
          },
          "metadata": {}
        }
      ]
    },
    {
      "cell_type": "markdown",
      "source": [
        "# Question 2: Model 2\n",
        "\n",
        "Now consider **Model 2**.  For Model 2 we want to assume there *is* a hot-hand; that is, the probability of a basket *following a basket* is different from the probability of a basket *any other time*.  This means that we need 2 parameters to fit Model 2: $p_0$, which represents $P(Y_i=1|X_i=0)$ (probability of making a shot following a made shot); and $p_1$, which represents $P(Y_i = 1|X_i = 1)$ (probability of making a shot in all other situations, including the first shot and after a missed shot):\n",
        "\n",
        "\n",
        "$$P(Y_i = k_i | X_i) = p_0^{k_i(1-X_i)}(1-p_0)^{(1-k_i)(1-X_i)}p_1^{k_iX_i}(1-p_1)^{(1-k_i)X_i}, i = 1, 2, ..., 25$$\n",
        "\n",
        "This is the same as saying:\n",
        "\n",
        "* For all data values where $X_i = 1$ (previous shot was a basket):\n",
        "\n",
        "$$P(Y_i = k_i|X_i = 1) = p_1^{k_i}(1-p_1)^{1-k_i}$$\n",
        "\n",
        "* For all data values where $X_i = 0$ (previous shot was a miss or it's the first shot of the game):\n",
        "\n",
        "$$P(Y_i = k_i |X_i = 0) = p_0^{k_i}(1-p_0)^{1-k_i}$$"
      ],
      "metadata": {
        "id": "yhrmQfPj0g5I"
      }
    },
    {
      "cell_type": "markdown",
      "source": [
        "## A)\n",
        "\n",
        "Consider the first five shots.\n"
      ],
      "metadata": {
        "id": "QqjFHeJ2lWak"
      }
    },
    {
      "cell_type": "code",
      "source": [
        "head(hothand, 5)"
      ],
      "metadata": {
        "colab": {
          "base_uri": "https://localhost:8080/",
          "height": 255
        },
        "id": "L1P1rc5NuKqj",
        "outputId": "bb7ebdc9-aeb3-4e67-a541-a5dbf586fe00"
      },
      "execution_count": null,
      "outputs": [
        {
          "output_type": "display_data",
          "data": {
            "text/html": [
              "<table class=\"dataframe\">\n",
              "<caption>A data.frame: 5 × 4</caption>\n",
              "<thead>\n",
              "\t<tr><th></th><th scope=col>Shot</th><th scope=col>Game</th><th scope=col>Y</th><th scope=col>X</th></tr>\n",
              "\t<tr><th></th><th scope=col>&lt;int&gt;</th><th scope=col>&lt;int&gt;</th><th scope=col>&lt;int&gt;</th><th scope=col>&lt;int&gt;</th></tr>\n",
              "</thead>\n",
              "<tbody>\n",
              "\t<tr><th scope=row>1</th><td>1</td><td>1</td><td>1</td><td>0</td></tr>\n",
              "\t<tr><th scope=row>2</th><td>2</td><td>1</td><td>0</td><td>1</td></tr>\n",
              "\t<tr><th scope=row>3</th><td>3</td><td>1</td><td>0</td><td>0</td></tr>\n",
              "\t<tr><th scope=row>4</th><td>4</td><td>1</td><td>1</td><td>0</td></tr>\n",
              "\t<tr><th scope=row>5</th><td>5</td><td>1</td><td>1</td><td>1</td></tr>\n",
              "</tbody>\n",
              "</table>\n"
            ],
            "text/markdown": "\nA data.frame: 5 × 4\n\n| <!--/--> | Shot &lt;int&gt; | Game &lt;int&gt; | Y &lt;int&gt; | X &lt;int&gt; |\n|---|---|---|---|---|\n| 1 | 1 | 1 | 1 | 0 |\n| 2 | 2 | 1 | 0 | 1 |\n| 3 | 3 | 1 | 0 | 0 |\n| 4 | 4 | 1 | 1 | 0 |\n| 5 | 5 | 1 | 1 | 1 |\n\n",
            "text/latex": "A data.frame: 5 × 4\n\\begin{tabular}{r|llll}\n  & Shot & Game & Y & X\\\\\n  & <int> & <int> & <int> & <int>\\\\\n\\hline\n\t1 & 1 & 1 & 1 & 0\\\\\n\t2 & 2 & 1 & 0 & 1\\\\\n\t3 & 3 & 1 & 0 & 0\\\\\n\t4 & 4 & 1 & 1 & 0\\\\\n\t5 & 5 & 1 & 1 & 1\\\\\n\\end{tabular}\n",
            "text/plain": [
              "  Shot Game Y X\n",
              "1 1    1    1 0\n",
              "2 2    1    0 1\n",
              "3 3    1    0 0\n",
              "4 4    1    1 0\n",
              "5 5    1    1 1"
            ]
          },
          "metadata": {}
        }
      ]
    },
    {
      "cell_type": "markdown",
      "source": [
        "\n",
        "What does each of these shots contribute to the Model 2 log-likelihood?\n",
        "\n",
        "* Shot 1: $log(p_0)$\n",
        "* Shot 2: $log(1-p_1)$\n",
        "* Shot 3: $log(1-p_0)$\n",
        "* Shot 4: $log(p_0)$\n",
        "* Shot 5: $log(p_1)$"
      ],
      "metadata": {
        "id": "u7jZc0B_uJ63"
      }
    },
    {
      "cell_type": "markdown",
      "source": [
        "## B)\n",
        "\n",
        "The code below calculates the contribution of each $(X_i, Y_i)$ pair to the Model 2 log-likelihood, when $p_0 = p_1 = 0.5$, then sums the contributions:\n"
      ],
      "metadata": {
        "id": "vRwClsyHuPyU"
      }
    },
    {
      "cell_type": "code",
      "source": [
        "library(dplyr)\n",
        "p0 <- 0.5\n",
        "p1 <- 0.5\n",
        "model2_df <- hothand  %>%\n",
        "   mutate(model2.loglik.contribution = case_when(X==0 & Y==1~log(p0),\n",
        "                                                X==0 & Y==0 ~ log(1-p0),\n",
        "                                                X==1 & Y==1 ~ log(p1),\n",
        "                                                X==1 & Y==0 ~ log(1-p1)))\n",
        "head(model2_df)"
      ],
      "metadata": {
        "colab": {
          "base_uri": "https://localhost:8080/",
          "height": 286
        },
        "id": "xd9QvJFjuf8S",
        "outputId": "52f44c48-6d41-4d30-dbee-8778f636a9c8"
      },
      "execution_count": null,
      "outputs": [
        {
          "output_type": "display_data",
          "data": {
            "text/html": [
              "<table class=\"dataframe\">\n",
              "<caption>A data.frame: 6 × 5</caption>\n",
              "<thead>\n",
              "\t<tr><th></th><th scope=col>Shot</th><th scope=col>Game</th><th scope=col>Y</th><th scope=col>X</th><th scope=col>model2.loglik.contribution</th></tr>\n",
              "\t<tr><th></th><th scope=col>&lt;int&gt;</th><th scope=col>&lt;int&gt;</th><th scope=col>&lt;int&gt;</th><th scope=col>&lt;int&gt;</th><th scope=col>&lt;dbl&gt;</th></tr>\n",
              "</thead>\n",
              "<tbody>\n",
              "\t<tr><th scope=row>1</th><td>1</td><td>1</td><td>1</td><td>0</td><td>-0.6931472</td></tr>\n",
              "\t<tr><th scope=row>2</th><td>2</td><td>1</td><td>0</td><td>1</td><td>-0.6931472</td></tr>\n",
              "\t<tr><th scope=row>3</th><td>3</td><td>1</td><td>0</td><td>0</td><td>-0.6931472</td></tr>\n",
              "\t<tr><th scope=row>4</th><td>4</td><td>1</td><td>1</td><td>0</td><td>-0.6931472</td></tr>\n",
              "\t<tr><th scope=row>5</th><td>5</td><td>1</td><td>1</td><td>1</td><td>-0.6931472</td></tr>\n",
              "\t<tr><th scope=row>6</th><td>6</td><td>2</td><td>0</td><td>0</td><td>-0.6931472</td></tr>\n",
              "</tbody>\n",
              "</table>\n"
            ],
            "text/markdown": "\nA data.frame: 6 × 5\n\n| <!--/--> | Shot &lt;int&gt; | Game &lt;int&gt; | Y &lt;int&gt; | X &lt;int&gt; | model2.loglik.contribution &lt;dbl&gt; |\n|---|---|---|---|---|---|\n| 1 | 1 | 1 | 1 | 0 | -0.6931472 |\n| 2 | 2 | 1 | 0 | 1 | -0.6931472 |\n| 3 | 3 | 1 | 0 | 0 | -0.6931472 |\n| 4 | 4 | 1 | 1 | 0 | -0.6931472 |\n| 5 | 5 | 1 | 1 | 1 | -0.6931472 |\n| 6 | 6 | 2 | 0 | 0 | -0.6931472 |\n\n",
            "text/latex": "A data.frame: 6 × 5\n\\begin{tabular}{r|lllll}\n  & Shot & Game & Y & X & model2.loglik.contribution\\\\\n  & <int> & <int> & <int> & <int> & <dbl>\\\\\n\\hline\n\t1 & 1 & 1 & 1 & 0 & -0.6931472\\\\\n\t2 & 2 & 1 & 0 & 1 & -0.6931472\\\\\n\t3 & 3 & 1 & 0 & 0 & -0.6931472\\\\\n\t4 & 4 & 1 & 1 & 0 & -0.6931472\\\\\n\t5 & 5 & 1 & 1 & 1 & -0.6931472\\\\\n\t6 & 6 & 2 & 0 & 0 & -0.6931472\\\\\n\\end{tabular}\n",
            "text/plain": [
              "  Shot Game Y X model2.loglik.contribution\n",
              "1 1    1    1 0 -0.6931472                \n",
              "2 2    1    0 1 -0.6931472                \n",
              "3 3    1    0 0 -0.6931472                \n",
              "4 4    1    1 0 -0.6931472                \n",
              "5 5    1    1 1 -0.6931472                \n",
              "6 6    2    0 0 -0.6931472                "
            ]
          },
          "metadata": {}
        }
      ]
    },
    {
      "cell_type": "code",
      "source": [
        "#The value of the Model 2 log-likelihood when p0 = p1 = 0.5:\n",
        "(loglik.model2.5050 <- sum(model2_df$model2.loglik.contribution))"
      ],
      "metadata": {
        "colab": {
          "base_uri": "https://localhost:8080/",
          "height": 34
        },
        "id": "T9aWX8Szvt6v",
        "outputId": "9ba83dba-049e-4789-8898-d5b6040701e0"
      },
      "execution_count": null,
      "outputs": [
        {
          "output_type": "display_data",
          "data": {
            "text/html": [
              "-17.3286795139986"
            ],
            "text/markdown": "-17.3286795139986",
            "text/latex": "-17.3286795139986",
            "text/plain": [
              "[1] -17.32868"
            ]
          },
          "metadata": {}
        }
      ]
    },
    {
      "cell_type": "markdown",
      "source": [
        "Using this code to help you, complete the function below that takes a *vector* of p's containing $(p_0, p_1)$ and returns the log-likelihood."
      ],
      "metadata": {
        "id": "pDTpQO2S5ujx"
      }
    },
    {
      "cell_type": "code",
      "source": [
        "loglik.model2 <- function(pvec) {\n",
        "  p0 <- pvec[1]\n",
        "  p1 <- pvec[2]\n",
        "  #Calculate the contributions to the log-likelihood from each data row:\n",
        "  model2_df <- hothand  %>%\n",
        "   mutate(model2.loglik.contribution = case_when(X==0 & Y==1~log(p0),\n",
        "                                                X==0 & Y==0 ~ log(1-p0),\n",
        "                                                X==1 & Y==1 ~ log(p1),\n",
        "                                                X==1 & Y==0 ~ log(1-p1)))\n",
        "\n",
        "  #sum up the n = 25 contributions:\n",
        "  loglik <- sum(model2_df$model2.loglik.contribution)\n",
        "  #Return the result:\n",
        "  return(loglik)\n",
        "}"
      ],
      "metadata": {
        "id": "XZ3EyPz_67kb"
      },
      "execution_count": null,
      "outputs": []
    },
    {
      "cell_type": "code",
      "source": [
        "loglik.model2(c(0.1, 0.2))"
      ],
      "metadata": {
        "colab": {
          "base_uri": "https://localhost:8080/",
          "height": 34
        },
        "id": "JwO-dmep-ZMQ",
        "outputId": "0585d6c9-5afe-4a4b-b40c-1d77a5e487e0"
      },
      "execution_count": null,
      "outputs": [
        {
          "output_type": "display_data",
          "data": {
            "text/html": [
              "-22.9979492657535"
            ],
            "text/markdown": "-22.9979492657535",
            "text/latex": "-22.9979492657535",
            "text/plain": [
              "[1] -22.99795"
            ]
          },
          "metadata": {}
        }
      ]
    },
    {
      "cell_type": "markdown",
      "source": [
        "## C)\n",
        "\n",
        "Now use `optim()` to find the Model 2 MLEs of $p_0$ and $p_1$.  What are the MLEs, and how do they represent the observed data?  "
      ],
      "metadata": {
        "id": "O9jI3wQT7aOJ"
      }
    },
    {
      "cell_type": "code",
      "source": [
        "#We'll use initial values equal to the Model 1 MLE:\n",
        "optim(loglik.model2, par = c(0.4, 0.4), control = list(fnscale = -1))"
      ],
      "metadata": {
        "id": "TP9vLgQJ9KlL",
        "colab": {
          "base_uri": "https://localhost:8080/",
          "height": 219
        },
        "outputId": "640dd8aa-bc54-4baa-f906-052b696ca892"
      },
      "execution_count": null,
      "outputs": [
        {
          "output_type": "display_data",
          "data": {
            "text/html": [
              "<dl>\n",
              "\t<dt>$par</dt>\n",
              "\t\t<dd><style>\n",
              ".list-inline {list-style: none; margin:0; padding: 0}\n",
              ".list-inline>li {display: inline-block}\n",
              ".list-inline>li:not(:last-child)::after {content: \"\\00b7\"; padding: 0 .5ex}\n",
              "</style>\n",
              "<ol class=list-inline><li>0.388911765515804</li><li>0.428532877415419</li></ol>\n",
              "</dd>\n",
              "\t<dt>$value</dt>\n",
              "\t\t<dd>-16.8088293719241</dd>\n",
              "\t<dt>$counts</dt>\n",
              "\t\t<dd><style>\n",
              ".dl-inline {width: auto; margin:0; padding: 0}\n",
              ".dl-inline>dt, .dl-inline>dd {float: none; width: auto; display: inline-block}\n",
              ".dl-inline>dt::after {content: \":\\0020\"; padding-right: .5ex}\n",
              ".dl-inline>dt:not(:first-of-type) {padding-left: .5ex}\n",
              "</style><dl class=dl-inline><dt>function</dt><dd>39</dd><dt>gradient</dt><dd>&lt;NA&gt;</dd></dl>\n",
              "</dd>\n",
              "\t<dt>$convergence</dt>\n",
              "\t\t<dd>0</dd>\n",
              "\t<dt>$message</dt>\n",
              "\t\t<dd>NULL</dd>\n",
              "</dl>\n"
            ],
            "text/markdown": "$par\n:   1. 0.388911765515804\n2. 0.428532877415419\n\n\n\n$value\n:   -16.8088293719241\n$counts\n:   function\n:   39gradient\n:   &lt;NA&gt;\n\n\n$convergence\n:   0\n$message\n:   NULL\n\n\n",
            "text/latex": "\\begin{description}\n\\item[\\$par] \\begin{enumerate*}\n\\item 0.388911765515804\n\\item 0.428532877415419\n\\end{enumerate*}\n\n\\item[\\$value] -16.8088293719241\n\\item[\\$counts] \\begin{description*}\n\\item[function] 39\n\\item[gradient] <NA>\n\\end{description*}\n\n\\item[\\$convergence] 0\n\\item[\\$message] NULL\n\\end{description}\n",
            "text/plain": [
              "$par\n",
              "[1] 0.3889118 0.4285329\n",
              "\n",
              "$value\n",
              "[1] -16.80883\n",
              "\n",
              "$counts\n",
              "function gradient \n",
              "      39       NA \n",
              "\n",
              "$convergence\n",
              "[1] 0\n",
              "\n",
              "$message\n",
              "NULL\n"
            ]
          },
          "metadata": {}
        }
      ]
    },
    {
      "cell_type": "markdown",
      "source": [
        "$P_0$ = 0.389 (x = 0)\n",
        "\n",
        "$P_1$ = 0.429 (x = 1)"
      ],
      "metadata": {
        "id": "5vr25ZcN_Gkt"
      }
    },
    {
      "cell_type": "code",
      "source": [
        "(hothand\n",
        "  %>% summarize(nrows = n(), .by = c(X, Y))\n",
        "  %>% mutate(pct = nrows/sum(nrows), .by = X)\n",
        "  %>% filter(Y == 1)\n",
        ")"
      ],
      "metadata": {
        "colab": {
          "base_uri": "https://localhost:8080/",
          "height": 161
        },
        "id": "naxxbiIB_cR8",
        "outputId": "20ead474-5d67-45d4-f2bf-4dbdd34cd2e1"
      },
      "execution_count": null,
      "outputs": [
        {
          "output_type": "display_data",
          "data": {
            "text/html": [
              "<table class=\"dataframe\">\n",
              "<caption>A data.frame: 2 × 4</caption>\n",
              "<thead>\n",
              "\t<tr><th scope=col>X</th><th scope=col>Y</th><th scope=col>nrows</th><th scope=col>pct</th></tr>\n",
              "\t<tr><th scope=col>&lt;int&gt;</th><th scope=col>&lt;int&gt;</th><th scope=col>&lt;int&gt;</th><th scope=col>&lt;dbl&gt;</th></tr>\n",
              "</thead>\n",
              "<tbody>\n",
              "\t<tr><td>0</td><td>1</td><td>7</td><td>0.3888889</td></tr>\n",
              "\t<tr><td>1</td><td>1</td><td>3</td><td>0.4285714</td></tr>\n",
              "</tbody>\n",
              "</table>\n"
            ],
            "text/markdown": "\nA data.frame: 2 × 4\n\n| X &lt;int&gt; | Y &lt;int&gt; | nrows &lt;int&gt; | pct &lt;dbl&gt; |\n|---|---|---|---|\n| 0 | 1 | 7 | 0.3888889 |\n| 1 | 1 | 3 | 0.4285714 |\n\n",
            "text/latex": "A data.frame: 2 × 4\n\\begin{tabular}{llll}\n X & Y & nrows & pct\\\\\n <int> & <int> & <int> & <dbl>\\\\\n\\hline\n\t 0 & 1 & 7 & 0.3888889\\\\\n\t 1 & 1 & 3 & 0.4285714\\\\\n\\end{tabular}\n",
            "text/plain": [
              "  X Y nrows pct      \n",
              "1 0 1 7     0.3888889\n",
              "2 1 1 3     0.4285714"
            ]
          },
          "metadata": {}
        }
      ]
    },
    {
      "cell_type": "markdown",
      "source": [
        "## D)\n",
        "\n",
        "What do the Model 2 parameter estimates suggest about how $X_i$ changes the probability of making a basket?  Are they *that* different from the Model 1 parameter estimate?\n",
        "\n",
        "***There is a difference(0.3889 vs. 0.4286). But not sure if the difference is statistically significant or not.***"
      ],
      "metadata": {
        "id": "xW_BFzR694fd"
      }
    },
    {
      "cell_type": "markdown",
      "source": [
        "# Question 3: comparing the models"
      ],
      "metadata": {
        "id": "wtvFqCsu-A5O"
      }
    },
    {
      "cell_type": "markdown",
      "source": [
        "## A)\n",
        "\n",
        "Fill in the table below with the relevant quantities allowing us to compare the two models.  Recall:\n",
        "\n",
        "$$AIC = 2(\\mbox{# of parameters})- 2(\\mbox{Maximized log-likelihood})$$\n",
        "$$BIC = \\log(n)(\\mbox{# of parameters})- 2(\\mbox{Maximized log-likelihood})$$"
      ],
      "metadata": {
        "id": "cHglfPC2-DKU"
      }
    },
    {
      "cell_type": "markdown",
      "source": [
        "Model | Log-likelihood |  AIC | BIC |\n",
        " --- | --- | --- | --- |\n",
        " 1  | -16.8250 | 35.65  | 36.87 |\n",
        " 2  | -16.8088 | 37.62 | 40.06 |\n"
      ],
      "metadata": {
        "id": "p9YXebJ1-uy1"
      }
    },
    {
      "cell_type": "markdown",
      "source": [
        "Based on these results, which model is preferable?\n",
        "\n",
        "***Model 2 is preferable by log-likelihood. But, the model 1 is preferable by AIC and BIC.***"
      ],
      "metadata": {
        "id": "bIP1_aiF_gzd"
      }
    },
    {
      "cell_type": "code",
      "source": [
        "# Model 1 AIC:\n",
        "-2*-16.825 + 2*1\n",
        "\n",
        "# Model 1 BIC:\n",
        "-2*-16.825 + log(25)*1"
      ],
      "metadata": {
        "colab": {
          "base_uri": "https://localhost:8080/",
          "height": 52
        },
        "id": "QLRMzrjmBALb",
        "outputId": "5a96e138-51f7-4331-f458-e0eea0b24bad"
      },
      "execution_count": null,
      "outputs": [
        {
          "output_type": "display_data",
          "data": {
            "text/html": [
              "35.65"
            ],
            "text/markdown": "35.65",
            "text/latex": "35.65",
            "text/plain": [
              "[1] 35.65"
            ]
          },
          "metadata": {}
        },
        {
          "output_type": "display_data",
          "data": {
            "text/html": [
              "36.8688758248682"
            ],
            "text/markdown": "36.8688758248682",
            "text/latex": "36.8688758248682",
            "text/plain": [
              "[1] 36.86888"
            ]
          },
          "metadata": {}
        }
      ]
    },
    {
      "cell_type": "code",
      "source": [
        "# Model 2 AIC:\n",
        "-2*-16.825 + 2*2\n",
        "\n",
        "# Model 2 BIC:\n",
        "-2*-16.825 + log(25)*2"
      ],
      "metadata": {
        "colab": {
          "base_uri": "https://localhost:8080/",
          "height": 52
        },
        "id": "4uVkZ0boBPtI",
        "outputId": "ef32161e-feee-4040-a2bf-0be2ce47b235"
      },
      "execution_count": null,
      "outputs": [
        {
          "output_type": "display_data",
          "data": {
            "text/html": [
              "37.65"
            ],
            "text/markdown": "37.65",
            "text/latex": "37.65",
            "text/plain": [
              "[1] 37.65"
            ]
          },
          "metadata": {}
        },
        {
          "output_type": "display_data",
          "data": {
            "text/html": [
              "40.0877516497364"
            ],
            "text/markdown": "40.0877516497364",
            "text/latex": "40.0877516497364",
            "text/plain": [
              "[1] 40.08775"
            ]
          },
          "metadata": {}
        }
      ]
    },
    {
      "cell_type": "markdown",
      "source": [
        "## B)\n",
        "\n",
        "We can also use the likelihood ratio test to compare these models.  Recall when testing nested models:\n",
        "\n",
        "\n",
        "$$H_0: \\mbox{Simple model is sufficient}$$\n",
        "$$H_a: \\mbox{Larger model is an improvement}$$\n"
      ],
      "metadata": {
        "id": "cL9h5Biv_jY1"
      }
    },
    {
      "cell_type": "markdown",
      "source": [
        "We test these by forming the following test statistic:\n",
        "\n",
        "$$\\Lambda = 2\\left(\\mbox{maximized log-likelihood(large model)}-\\mbox{maximized log-likelihood(simpler model)}\\right)$$"
      ],
      "metadata": {
        "id": "sZ55f5nxAXeP"
      }
    },
    {
      "cell_type": "markdown",
      "source": [
        "A big improvement from fitting the large model will result in a large value of $\\Lambda$.  Determining whether the improvement is \"significant\" can be determined by comparing $\\Lambda$ to a $\\chi^2$ distribution with  $df=\\mbox{# parameters in large model}-\\mbox{# parameters in simpler model}$."
      ],
      "metadata": {
        "id": "2QELMjmF_sy9"
      }
    },
    {
      "cell_type": "markdown",
      "source": [
        "Find $\\Lambda$ for this problem, and its associated p-value.  What does this result indicate?"
      ],
      "metadata": {
        "id": "dKJbJoMz_zx-"
      }
    },
    {
      "cell_type": "code",
      "source": [
        "# Difference:\n",
        "-16.808 --16.825"
      ],
      "metadata": {
        "colab": {
          "base_uri": "https://localhost:8080/",
          "height": 34
        },
        "id": "GLzy342ACjJM",
        "outputId": "4e9273f8-c433-475d-87e6-ebf1314e0a5b"
      },
      "execution_count": null,
      "outputs": [
        {
          "output_type": "display_data",
          "data": {
            "text/html": [
              "0.0169999999999995"
            ],
            "text/markdown": "0.0169999999999995",
            "text/latex": "0.0169999999999995",
            "text/plain": [
              "[1] 0.017"
            ]
          },
          "metadata": {}
        }
      ]
    },
    {
      "cell_type": "code",
      "source": [
        "# Test statistics:\n",
        "2*(-16.808 --16.825)"
      ],
      "metadata": {
        "colab": {
          "base_uri": "https://localhost:8080/",
          "height": 34
        },
        "id": "72LiROAWCraN",
        "outputId": "ff213203-6abf-4749-b4f4-b6cf470a00fb"
      },
      "execution_count": null,
      "outputs": [
        {
          "output_type": "display_data",
          "data": {
            "text/html": [
              "0.0339999999999989"
            ],
            "text/markdown": "0.0339999999999989",
            "text/latex": "0.0339999999999989",
            "text/plain": [
              "[1] 0.034"
            ]
          },
          "metadata": {}
        }
      ]
    },
    {
      "cell_type": "code",
      "source": [
        "# We don't need a larger model (p = 0.85)\n",
        "1 - pchisq(0.0339999, df = 2-1)"
      ],
      "metadata": {
        "colab": {
          "base_uri": "https://localhost:8080/",
          "height": 34
        },
        "id": "3nSajOVFC2FB",
        "outputId": "04eec205-536c-48ad-dc11-849b0628fbce"
      },
      "execution_count": null,
      "outputs": [
        {
          "output_type": "display_data",
          "data": {
            "text/html": [
              "0.853707029396948"
            ],
            "text/markdown": "0.853707029396948",
            "text/latex": "0.853707029396948",
            "text/plain": [
              "[1] 0.853707"
            ]
          },
          "metadata": {}
        }
      ]
    },
    {
      "cell_type": "markdown",
      "source": [
        "## C)"
      ],
      "metadata": {
        "id": "mfvcuFm9Ac-m"
      }
    },
    {
      "cell_type": "markdown",
      "source": [
        "What do these your results so far suggest about the ability of $X_i$ to model probability of making a basket, i.e., whether there is evidence to support a \"hot hand\"?"
      ],
      "metadata": {
        "id": "Hpx5afZm_Ude"
      }
    },
    {
      "cell_type": "markdown",
      "source": [
        "***There is no evidence to support the null hypothesis (large model). In the other words, there is no evidence to support a \"hot hand\" (p = 0.8537).***"
      ],
      "metadata": {
        "id": "hETHwU6nDM_e"
      }
    }
  ]
}