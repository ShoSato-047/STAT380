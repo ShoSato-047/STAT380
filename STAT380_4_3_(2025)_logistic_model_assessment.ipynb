{
  "nbformat": 4,
  "nbformat_minor": 0,
  "metadata": {
    "colab": {
      "provenance": [],
      "include_colab_link": true
    },
    "kernelspec": {
      "name": "ir",
      "display_name": "R"
    },
    "language_info": {
      "name": "R"
    }
  },
  "cells": [
    {
      "cell_type": "markdown",
      "metadata": {
        "id": "view-in-github",
        "colab_type": "text"
      },
      "source": [
        "<a href=\"https://colab.research.google.com/github/ShoSato-047/STAT380/blob/main/STAT380_4_3_(2025)_logistic_model_assessment.ipynb\" target=\"_parent\"><img src=\"https://colab.research.google.com/assets/colab-badge.svg\" alt=\"Open In Colab\"/></a>"
      ]
    },
    {
      "cell_type": "markdown",
      "source": [
        "# Introduction\n",
        "\n",
        "In this notebook we discuss how to assess the logistic model for quality of fit.  We want to check:\n",
        "\n",
        "* The log-odds of $Y=1$ are linearly related with $X$\n",
        "* The binomial model fits well"
      ],
      "metadata": {
        "id": "0wpAJYEKFCiM"
      }
    },
    {
      "cell_type": "markdown",
      "source": [
        "# Linearity of log-odds\n"
      ],
      "metadata": {
        "id": "eDq0ZUJ9OCTU"
      }
    },
    {
      "cell_type": "markdown",
      "source": [
        "Reconsider the lobster data:"
      ],
      "metadata": {
        "id": "rs3BVhuWdz30"
      }
    },
    {
      "cell_type": "code",
      "source": [
        "library(dplyr)\n",
        "lobsters <- read.csv('https://www.dropbox.com/s/kw3px03a6t3s1x3/lobsters.csv?dl=1')\n",
        "head(lobsters)"
      ],
      "metadata": {
        "id": "a9DnqIZjFDk2",
        "colab": {
          "base_uri": "https://localhost:8080/",
          "height": 529
        },
        "outputId": "1dc47e28-b34c-489b-ddc0-164540d3bf11"
      },
      "execution_count": 1,
      "outputs": [
        {
          "output_type": "stream",
          "name": "stderr",
          "text": [
            "\n",
            "Attaching package: ‘dplyr’\n",
            "\n",
            "\n",
            "The following objects are masked from ‘package:stats’:\n",
            "\n",
            "    filter, lag\n",
            "\n",
            "\n",
            "The following objects are masked from ‘package:base’:\n",
            "\n",
            "    intersect, setdiff, setequal, union\n",
            "\n",
            "\n"
          ]
        },
        {
          "output_type": "display_data",
          "data": {
            "text/html": [
              "<table class=\"dataframe\">\n",
              "<caption>A data.frame: 6 × 3</caption>\n",
              "<thead>\n",
              "\t<tr><th></th><th scope=col>length.mm</th><th scope=col>size</th><th scope=col>survival</th></tr>\n",
              "\t<tr><th></th><th scope=col>&lt;int&gt;</th><th scope=col>&lt;chr&gt;</th><th scope=col>&lt;int&gt;</th></tr>\n",
              "</thead>\n",
              "<tbody>\n",
              "\t<tr><th scope=row>1</th><td>27</td><td>small</td><td>0</td></tr>\n",
              "\t<tr><th scope=row>2</th><td>27</td><td>small</td><td>0</td></tr>\n",
              "\t<tr><th scope=row>3</th><td>27</td><td>small</td><td>0</td></tr>\n",
              "\t<tr><th scope=row>4</th><td>27</td><td>small</td><td>0</td></tr>\n",
              "\t<tr><th scope=row>5</th><td>27</td><td>small</td><td>0</td></tr>\n",
              "\t<tr><th scope=row>6</th><td>30</td><td>small</td><td>0</td></tr>\n",
              "</tbody>\n",
              "</table>\n"
            ],
            "text/markdown": "\nA data.frame: 6 × 3\n\n| <!--/--> | length.mm &lt;int&gt; | size &lt;chr&gt; | survival &lt;int&gt; |\n|---|---|---|---|\n| 1 | 27 | small | 0 |\n| 2 | 27 | small | 0 |\n| 3 | 27 | small | 0 |\n| 4 | 27 | small | 0 |\n| 5 | 27 | small | 0 |\n| 6 | 30 | small | 0 |\n\n",
            "text/latex": "A data.frame: 6 × 3\n\\begin{tabular}{r|lll}\n  & length.mm & size & survival\\\\\n  & <int> & <chr> & <int>\\\\\n\\hline\n\t1 & 27 & small & 0\\\\\n\t2 & 27 & small & 0\\\\\n\t3 & 27 & small & 0\\\\\n\t4 & 27 & small & 0\\\\\n\t5 & 27 & small & 0\\\\\n\t6 & 30 & small & 0\\\\\n\\end{tabular}\n",
            "text/plain": [
              "  length.mm size  survival\n",
              "1 27        small 0       \n",
              "2 27        small 0       \n",
              "3 27        small 0       \n",
              "4 27        small 0       \n",
              "5 27        small 0       \n",
              "6 30        small 0       "
            ]
          },
          "metadata": {}
        }
      ]
    },
    {
      "cell_type": "markdown",
      "source": [
        "Consider modeling the relationship between $X_i$ = length (in mm) and survival:\n",
        "\n",
        "$$\\log\\left(\\frac{p_i}{1-p_i}\\right) = \\beta_0 + \\beta_1 X_i$$\n"
      ],
      "metadata": {
        "id": "LrEx7eMKIYCG"
      }
    },
    {
      "cell_type": "code",
      "source": [
        "logistic.length.fit  <- glm(survival~length.mm, data = lobsters, family=binomial)\n",
        "summary(logistic.length.fit)"
      ],
      "metadata": {
        "colab": {
          "base_uri": "https://localhost:8080/",
          "height": 329
        },
        "id": "7dcgVDXLl_py",
        "outputId": "283eeb59-9833-4b02-d231-4f4665809054"
      },
      "execution_count": 2,
      "outputs": [
        {
          "output_type": "display_data",
          "data": {
            "text/plain": [
              "\n",
              "Call:\n",
              "glm(formula = survival ~ length.mm, family = binomial, data = lobsters)\n",
              "\n",
              "Coefficients:\n",
              "            Estimate Std. Error z value Pr(>|z|)    \n",
              "(Intercept) -7.89597    1.38501  -5.701 1.19e-08 ***\n",
              "length.mm    0.19586    0.03415   5.735 9.77e-09 ***\n",
              "---\n",
              "Signif. codes:  0 ‘***’ 0.001 ‘**’ 0.01 ‘*’ 0.05 ‘.’ 0.1 ‘ ’ 1\n",
              "\n",
              "(Dispersion parameter for binomial family taken to be 1)\n",
              "\n",
              "    Null deviance: 220.41  on 158  degrees of freedom\n",
              "Residual deviance: 172.87  on 157  degrees of freedom\n",
              "AIC: 176.87\n",
              "\n",
              "Number of Fisher Scoring iterations: 4\n"
            ]
          },
          "metadata": {}
        }
      ]
    },
    {
      "cell_type": "markdown",
      "source": [
        "By fitting this model, we are assuming the log-odds of survival are linearly related to length.  Since the lengths are grouped into 3-mm brackets, we can find the estimated log-odds of survival in each age bracket and plot vs $X_i$ to determine whether this assumption appears justified."
      ],
      "metadata": {
        "id": "iUa16xffeXQT"
      }
    },
    {
      "cell_type": "markdown",
      "source": [
        "Finding the logits:"
      ],
      "metadata": {
        "id": "lPsCyRNUiy8x"
      }
    },
    {
      "cell_type": "code",
      "source": [
        "logits <- lobsters %>%\n",
        "  group_by(length.mm) %>%\n",
        "    summarize(p = sum(survival==1)/n()) %>%\n",
        "    mutate(logit = log(p/(1-p)))"
      ],
      "metadata": {
        "id": "Dhsa5_hQi1P4"
      },
      "execution_count": 3,
      "outputs": []
    },
    {
      "cell_type": "code",
      "source": [
        "logits"
      ],
      "metadata": {
        "colab": {
          "base_uri": "https://localhost:8080/",
          "height": 443
        },
        "id": "E39xtoAri-ww",
        "outputId": "d750e6c2-7318-4060-8fa5-07c8f654a778"
      },
      "execution_count": 4,
      "outputs": [
        {
          "output_type": "display_data",
          "data": {
            "text/html": [
              "<table class=\"dataframe\">\n",
              "<caption>A tibble: 11 × 3</caption>\n",
              "<thead>\n",
              "\t<tr><th scope=col>length.mm</th><th scope=col>p</th><th scope=col>logit</th></tr>\n",
              "\t<tr><th scope=col>&lt;int&gt;</th><th scope=col>&lt;dbl&gt;</th><th scope=col>&lt;dbl&gt;</th></tr>\n",
              "</thead>\n",
              "<tbody>\n",
              "\t<tr><td>27</td><td>0.0000000</td><td>      -Inf</td></tr>\n",
              "\t<tr><td>30</td><td>0.1000000</td><td>-2.1972246</td></tr>\n",
              "\t<tr><td>33</td><td>0.1363636</td><td>-1.8458267</td></tr>\n",
              "\t<tr><td>36</td><td>0.3333333</td><td>-0.6931472</td></tr>\n",
              "\t<tr><td>39</td><td>0.5454545</td><td> 0.1823216</td></tr>\n",
              "\t<tr><td>42</td><td>0.5862069</td><td> 0.3483067</td></tr>\n",
              "\t<tr><td>45</td><td>0.7222222</td><td> 0.9555114</td></tr>\n",
              "\t<tr><td>48</td><td>0.7058824</td><td> 0.8754687</td></tr>\n",
              "\t<tr><td>51</td><td>0.8750000</td><td> 1.9459101</td></tr>\n",
              "\t<tr><td>54</td><td>1.0000000</td><td>       Inf</td></tr>\n",
              "\t<tr><td>57</td><td>1.0000000</td><td>       Inf</td></tr>\n",
              "</tbody>\n",
              "</table>\n"
            ],
            "text/markdown": "\nA tibble: 11 × 3\n\n| length.mm &lt;int&gt; | p &lt;dbl&gt; | logit &lt;dbl&gt; |\n|---|---|---|\n| 27 | 0.0000000 |       -Inf |\n| 30 | 0.1000000 | -2.1972246 |\n| 33 | 0.1363636 | -1.8458267 |\n| 36 | 0.3333333 | -0.6931472 |\n| 39 | 0.5454545 |  0.1823216 |\n| 42 | 0.5862069 |  0.3483067 |\n| 45 | 0.7222222 |  0.9555114 |\n| 48 | 0.7058824 |  0.8754687 |\n| 51 | 0.8750000 |  1.9459101 |\n| 54 | 1.0000000 |        Inf |\n| 57 | 1.0000000 |        Inf |\n\n",
            "text/latex": "A tibble: 11 × 3\n\\begin{tabular}{lll}\n length.mm & p & logit\\\\\n <int> & <dbl> & <dbl>\\\\\n\\hline\n\t 27 & 0.0000000 &       -Inf\\\\\n\t 30 & 0.1000000 & -2.1972246\\\\\n\t 33 & 0.1363636 & -1.8458267\\\\\n\t 36 & 0.3333333 & -0.6931472\\\\\n\t 39 & 0.5454545 &  0.1823216\\\\\n\t 42 & 0.5862069 &  0.3483067\\\\\n\t 45 & 0.7222222 &  0.9555114\\\\\n\t 48 & 0.7058824 &  0.8754687\\\\\n\t 51 & 0.8750000 &  1.9459101\\\\\n\t 54 & 1.0000000 &        Inf\\\\\n\t 57 & 1.0000000 &        Inf\\\\\n\\end{tabular}\n",
            "text/plain": [
              "   length.mm p         logit     \n",
              "1  27        0.0000000       -Inf\n",
              "2  30        0.1000000 -2.1972246\n",
              "3  33        0.1363636 -1.8458267\n",
              "4  36        0.3333333 -0.6931472\n",
              "5  39        0.5454545  0.1823216\n",
              "6  42        0.5862069  0.3483067\n",
              "7  45        0.7222222  0.9555114\n",
              "8  48        0.7058824  0.8754687\n",
              "9  51        0.8750000  1.9459101\n",
              "10 54        1.0000000        Inf\n",
              "11 57        1.0000000        Inf"
            ]
          },
          "metadata": {}
        }
      ]
    },
    {
      "cell_type": "markdown",
      "source": [
        "Note that $logit(p)$ is infinite (or minus infinite) for $p=0$ or $p=1$; these will have to be omitted in our plotting."
      ],
      "metadata": {
        "id": "8PGx9CptjANY"
      }
    },
    {
      "cell_type": "code",
      "source": [
        "library(ggplot2)\n",
        "ggplot(data = logits %>% filter(p >0 & p < 1)) + # filter out the infiite logit\n",
        "  geom_point(aes(x = length.mm, y = logit)) +\n",
        "  ylab('Logit(p)') + xlab('Length (mm)')"
      ],
      "metadata": {
        "colab": {
          "base_uri": "https://localhost:8080/",
          "height": 437
        },
        "id": "0lVZOAeHjOJA",
        "outputId": "1577fe0e-a7b5-433c-f5da-a0b81db826ec"
      },
      "execution_count": 7,
      "outputs": [
        {
          "output_type": "display_data",
          "data": {
            "text/plain": [
              "plot without title"
            ],
            "image/png": "[encoded data removed]"
          },
          "metadata": {
            "image/png": {
              "width": 420,
              "height": 420
            }
          }
        }
      ]
    },
    {
      "cell_type": "markdown",
      "source": [
        "A linear relationship between $X$ (length) and $logit(p)$ appears to be satisfactory.  "
      ],
      "metadata": {
        "id": "QDpQvR-jjyop"
      }
    },
    {
      "cell_type": "markdown",
      "source": [
        "# Quality of model fit\n",
        "\n",
        "In ordinary regression, you computed an $R^2$ metric that measured how well the model variables explained the response $Y$.  For GLMs, some analogous metrics are the ***deviances***.  Deviances are differences in log-likelihoods between three different models:\n",
        "\n",
        "* A null model (no $X$ terms) -- intercept only\n",
        "* The fitted model\n",
        "* A fully saturated model\n"
      ],
      "metadata": {
        "id": "Pm8DqJvhl6g0"
      }
    },
    {
      "cell_type": "markdown",
      "source": [
        "## Null model\n",
        "\n",
        "A null model is an \"intercept-only\" model that does not fit a relationship of $Y$ with $X$.  We can fit this model and obtain the log-likelihood as follows:"
      ],
      "metadata": {
        "id": "kzVM7Nm5WBBj"
      }
    },
    {
      "cell_type": "code",
      "source": [
        "null.model <- glm(survival ~ 1, data = lobsters, family=binomial)\n",
        "(ll_null <- logLik(null.model))"
      ],
      "metadata": {
        "colab": {
          "base_uri": "https://localhost:8080/",
          "height": 34
        },
        "id": "2AR-wZ7VWJuq",
        "outputId": "48ad05a7-ae32-4a15-f43b-5858e40146a7"
      },
      "execution_count": 8,
      "outputs": [
        {
          "output_type": "display_data",
          "data": {
            "text/plain": [
              "'log Lik.' -110.2073 (df=1)"
            ]
          },
          "metadata": {}
        }
      ]
    },
    {
      "cell_type": "code",
      "source": [
        "summary(null.model)"
      ],
      "metadata": {
        "colab": {
          "base_uri": "https://localhost:8080/",
          "height": 277
        },
        "id": "7uUJ4gsu_vym",
        "outputId": "3f40306a-115d-4a04-8316-93405a2e1b8b"
      },
      "execution_count": 9,
      "outputs": [
        {
          "output_type": "display_data",
          "data": {
            "text/plain": [
              "\n",
              "Call:\n",
              "glm(formula = survival ~ 1, family = binomial, data = lobsters)\n",
              "\n",
              "Coefficients:\n",
              "            Estimate Std. Error z value Pr(>|z|)\n",
              "(Intercept) -0.01258    0.15861  -0.079    0.937\n",
              "\n",
              "(Dispersion parameter for binomial family taken to be 1)\n",
              "\n",
              "    Null deviance: 220.41  on 158  degrees of freedom\n",
              "Residual deviance: 220.41  on 158  degrees of freedom\n",
              "AIC: 222.41\n",
              "\n",
              "Number of Fisher Scoring iterations: 3\n"
            ]
          },
          "metadata": {}
        }
      ]
    },
    {
      "cell_type": "markdown",
      "source": [
        "## Fully saturated model (as many n values)\n",
        "\n",
        "In this model, every observation has its own parameter.  This allows for \"perfect fitting\", and is a GLM analog to a regression model where every observation is perfectly predicted.\n",
        "\n",
        "In other words, we fit the model:\n",
        "\n",
        "$$logit(p) = \\beta_0 + \\beta_1 U_{2} + \\beta_2U_{3} + ... + \\beta_n U_{n}$$\n",
        "\n",
        "$$U_2 = 1 \\mbox{ for the 2nd observation}; 0 \\mbox{ otherwise}$$\n",
        "$$U_3 = 1 \\mbox{ for the 3rd observation}; 0 \\mbox{ otherwise}$$\n",
        "$$\\vdots$$\n",
        "$$U_n = 1 \\mbox{ for the nth observation}; 0 \\mbox{ otherwise}$$"
      ],
      "metadata": {
        "id": "t-AU9pXQWUtX"
      }
    },
    {
      "cell_type": "code",
      "source": [
        "nrow(lobsters)"
      ],
      "metadata": {
        "colab": {
          "base_uri": "https://localhost:8080/",
          "height": 34
        },
        "id": "X5Wjw1xSWktD",
        "outputId": "4b05d6bd-eeb1-46e1-b12b-b1ec22936733"
      },
      "execution_count": 10,
      "outputs": [
        {
          "output_type": "display_data",
          "data": {
            "text/html": [
              "159"
            ],
            "text/markdown": "159",
            "text/latex": "159",
            "text/plain": [
              "[1] 159"
            ]
          },
          "metadata": {}
        }
      ]
    },
    {
      "cell_type": "code",
      "source": [
        "saturated.model <- glm(survival ~ factor(1:159), data = lobsters, family=binomial)"
      ],
      "metadata": {
        "colab": {
          "base_uri": "https://localhost:8080/"
        },
        "id": "4BlkPNgMWhOa",
        "outputId": "d67d752b-f036-478b-cc0a-05a0d3766407"
      },
      "execution_count": 11,
      "outputs": [
        {
          "output_type": "stream",
          "name": "stderr",
          "text": [
            "Warning message:\n",
            "“glm.fit: algorithm did not converge”\n"
          ]
        }
      ]
    },
    {
      "cell_type": "code",
      "source": [
        "head(model.matrix(saturated.model))"
      ],
      "metadata": {
        "colab": {
          "base_uri": "https://localhost:8080/",
          "height": 275
        },
        "id": "oq8BFHrjzXyw",
        "outputId": "277b01e8-dfce-4d43-b493-d6bdc0e9f02f"
      },
      "execution_count": 12,
      "outputs": [
        {
          "output_type": "display_data",
          "data": {
            "text/html": [
              "<table class=\"dataframe\">\n",
              "<caption>A matrix: 6 × 159 of type dbl</caption>\n",
              "<thead>\n",
              "\t<tr><th></th><th scope=col>(Intercept)</th><th scope=col>factor(1:159)2</th><th scope=col>factor(1:159)3</th><th scope=col>factor(1:159)4</th><th scope=col>factor(1:159)5</th><th scope=col>factor(1:159)6</th><th scope=col>factor(1:159)7</th><th scope=col>factor(1:159)8</th><th scope=col>factor(1:159)9</th><th scope=col>factor(1:159)10</th><th scope=col>⋯</th><th scope=col>factor(1:159)150</th><th scope=col>factor(1:159)151</th><th scope=col>factor(1:159)152</th><th scope=col>factor(1:159)153</th><th scope=col>factor(1:159)154</th><th scope=col>factor(1:159)155</th><th scope=col>factor(1:159)156</th><th scope=col>factor(1:159)157</th><th scope=col>factor(1:159)158</th><th scope=col>factor(1:159)159</th></tr>\n",
              "</thead>\n",
              "<tbody>\n",
              "\t<tr><th scope=row>1</th><td>1</td><td>0</td><td>0</td><td>0</td><td>0</td><td>0</td><td>0</td><td>0</td><td>0</td><td>0</td><td>⋯</td><td>0</td><td>0</td><td>0</td><td>0</td><td>0</td><td>0</td><td>0</td><td>0</td><td>0</td><td>0</td></tr>\n",
              "\t<tr><th scope=row>2</th><td>1</td><td>1</td><td>0</td><td>0</td><td>0</td><td>0</td><td>0</td><td>0</td><td>0</td><td>0</td><td>⋯</td><td>0</td><td>0</td><td>0</td><td>0</td><td>0</td><td>0</td><td>0</td><td>0</td><td>0</td><td>0</td></tr>\n",
              "\t<tr><th scope=row>3</th><td>1</td><td>0</td><td>1</td><td>0</td><td>0</td><td>0</td><td>0</td><td>0</td><td>0</td><td>0</td><td>⋯</td><td>0</td><td>0</td><td>0</td><td>0</td><td>0</td><td>0</td><td>0</td><td>0</td><td>0</td><td>0</td></tr>\n",
              "\t<tr><th scope=row>4</th><td>1</td><td>0</td><td>0</td><td>1</td><td>0</td><td>0</td><td>0</td><td>0</td><td>0</td><td>0</td><td>⋯</td><td>0</td><td>0</td><td>0</td><td>0</td><td>0</td><td>0</td><td>0</td><td>0</td><td>0</td><td>0</td></tr>\n",
              "\t<tr><th scope=row>5</th><td>1</td><td>0</td><td>0</td><td>0</td><td>1</td><td>0</td><td>0</td><td>0</td><td>0</td><td>0</td><td>⋯</td><td>0</td><td>0</td><td>0</td><td>0</td><td>0</td><td>0</td><td>0</td><td>0</td><td>0</td><td>0</td></tr>\n",
              "\t<tr><th scope=row>6</th><td>1</td><td>0</td><td>0</td><td>0</td><td>0</td><td>1</td><td>0</td><td>0</td><td>0</td><td>0</td><td>⋯</td><td>0</td><td>0</td><td>0</td><td>0</td><td>0</td><td>0</td><td>0</td><td>0</td><td>0</td><td>0</td></tr>\n",
              "</tbody>\n",
              "</table>\n"
            ],
            "text/markdown": "\nA matrix: 6 × 159 of type dbl\n\n| <!--/--> | (Intercept) | factor(1:159)2 | factor(1:159)3 | factor(1:159)4 | factor(1:159)5 | factor(1:159)6 | factor(1:159)7 | factor(1:159)8 | factor(1:159)9 | factor(1:159)10 | ⋯ | factor(1:159)150 | factor(1:159)151 | factor(1:159)152 | factor(1:159)153 | factor(1:159)154 | factor(1:159)155 | factor(1:159)156 | factor(1:159)157 | factor(1:159)158 | factor(1:159)159 |\n|---|---|---|---|---|---|---|---|---|---|---|---|---|---|---|---|---|---|---|---|---|---|\n| 1 | 1 | 0 | 0 | 0 | 0 | 0 | 0 | 0 | 0 | 0 | ⋯ | 0 | 0 | 0 | 0 | 0 | 0 | 0 | 0 | 0 | 0 |\n| 2 | 1 | 1 | 0 | 0 | 0 | 0 | 0 | 0 | 0 | 0 | ⋯ | 0 | 0 | 0 | 0 | 0 | 0 | 0 | 0 | 0 | 0 |\n| 3 | 1 | 0 | 1 | 0 | 0 | 0 | 0 | 0 | 0 | 0 | ⋯ | 0 | 0 | 0 | 0 | 0 | 0 | 0 | 0 | 0 | 0 |\n| 4 | 1 | 0 | 0 | 1 | 0 | 0 | 0 | 0 | 0 | 0 | ⋯ | 0 | 0 | 0 | 0 | 0 | 0 | 0 | 0 | 0 | 0 |\n| 5 | 1 | 0 | 0 | 0 | 1 | 0 | 0 | 0 | 0 | 0 | ⋯ | 0 | 0 | 0 | 0 | 0 | 0 | 0 | 0 | 0 | 0 |\n| 6 | 1 | 0 | 0 | 0 | 0 | 1 | 0 | 0 | 0 | 0 | ⋯ | 0 | 0 | 0 | 0 | 0 | 0 | 0 | 0 | 0 | 0 |\n\n",
            "text/latex": "A matrix: 6 × 159 of type dbl\n\\begin{tabular}{r|lllllllllllllllllllll}\n  & (Intercept) & factor(1:159)2 & factor(1:159)3 & factor(1:159)4 & factor(1:159)5 & factor(1:159)6 & factor(1:159)7 & factor(1:159)8 & factor(1:159)9 & factor(1:159)10 & ⋯ & factor(1:159)150 & factor(1:159)151 & factor(1:159)152 & factor(1:159)153 & factor(1:159)154 & factor(1:159)155 & factor(1:159)156 & factor(1:159)157 & factor(1:159)158 & factor(1:159)159\\\\\n\\hline\n\t1 & 1 & 0 & 0 & 0 & 0 & 0 & 0 & 0 & 0 & 0 & ⋯ & 0 & 0 & 0 & 0 & 0 & 0 & 0 & 0 & 0 & 0\\\\\n\t2 & 1 & 1 & 0 & 0 & 0 & 0 & 0 & 0 & 0 & 0 & ⋯ & 0 & 0 & 0 & 0 & 0 & 0 & 0 & 0 & 0 & 0\\\\\n\t3 & 1 & 0 & 1 & 0 & 0 & 0 & 0 & 0 & 0 & 0 & ⋯ & 0 & 0 & 0 & 0 & 0 & 0 & 0 & 0 & 0 & 0\\\\\n\t4 & 1 & 0 & 0 & 1 & 0 & 0 & 0 & 0 & 0 & 0 & ⋯ & 0 & 0 & 0 & 0 & 0 & 0 & 0 & 0 & 0 & 0\\\\\n\t5 & 1 & 0 & 0 & 0 & 1 & 0 & 0 & 0 & 0 & 0 & ⋯ & 0 & 0 & 0 & 0 & 0 & 0 & 0 & 0 & 0 & 0\\\\\n\t6 & 1 & 0 & 0 & 0 & 0 & 1 & 0 & 0 & 0 & 0 & ⋯ & 0 & 0 & 0 & 0 & 0 & 0 & 0 & 0 & 0 & 0\\\\\n\\end{tabular}\n",
            "text/plain": [
              "  (Intercept) factor(1:159)2 factor(1:159)3 factor(1:159)4 factor(1:159)5\n",
              "1 1           0              0              0              0             \n",
              "2 1           1              0              0              0             \n",
              "3 1           0              1              0              0             \n",
              "4 1           0              0              1              0             \n",
              "5 1           0              0              0              1             \n",
              "6 1           0              0              0              0             \n",
              "  factor(1:159)6 factor(1:159)7 factor(1:159)8 factor(1:159)9 factor(1:159)10 ⋯\n",
              "1 0              0              0              0              0               ⋯\n",
              "2 0              0              0              0              0               ⋯\n",
              "3 0              0              0              0              0               ⋯\n",
              "4 0              0              0              0              0               ⋯\n",
              "5 0              0              0              0              0               ⋯\n",
              "6 1              0              0              0              0               ⋯\n",
              "  factor(1:159)150 factor(1:159)151 factor(1:159)152 factor(1:159)153\n",
              "1 0                0                0                0               \n",
              "2 0                0                0                0               \n",
              "3 0                0                0                0               \n",
              "4 0                0                0                0               \n",
              "5 0                0                0                0               \n",
              "6 0                0                0                0               \n",
              "  factor(1:159)154 factor(1:159)155 factor(1:159)156 factor(1:159)157\n",
              "1 0                0                0                0               \n",
              "2 0                0                0                0               \n",
              "3 0                0                0                0               \n",
              "4 0                0                0                0               \n",
              "5 0                0                0                0               \n",
              "6 0                0                0                0               \n",
              "  factor(1:159)158 factor(1:159)159\n",
              "1 0                0               \n",
              "2 0                0               \n",
              "3 0                0               \n",
              "4 0                0               \n",
              "5 0                0               \n",
              "6 0                0               "
            ]
          },
          "metadata": {}
        }
      ]
    },
    {
      "cell_type": "code",
      "source": [
        "summary(saturated.model)"
      ],
      "metadata": {
        "colab": {
          "base_uri": "https://localhost:8080/",
          "height": 1000
        },
        "id": "XOyzsXjdANJH",
        "outputId": "4d627f62-e0d8-483a-9f48-b13b5b4fccc9"
      },
      "execution_count": 13,
      "outputs": [
        {
          "output_type": "display_data",
          "data": {
            "text/plain": [
              "\n",
              "Call:\n",
              "glm(formula = survival ~ factor(1:159), family = binomial, data = lobsters)\n",
              "\n",
              "Coefficients:\n",
              "                   Estimate Std. Error z value Pr(>|z|)\n",
              "(Intercept)      -2.657e+01  3.561e+05       0        1\n",
              "factor(1:159)2   -1.051e-13  5.036e+05       0        1\n",
              "factor(1:159)3   -6.881e-14  5.036e+05       0        1\n",
              "factor(1:159)4   -3.840e-14  5.036e+05       0        1\n",
              "factor(1:159)5   -1.080e-13  5.036e+05       0        1\n",
              "factor(1:159)6   -6.169e-14  5.036e+05       0        1\n",
              "factor(1:159)7   -2.590e-14  5.036e+05       0        1\n",
              "factor(1:159)8   -1.983e-15  5.036e+05       0        1\n",
              "factor(1:159)9   -4.873e-14  5.036e+05       0        1\n",
              "factor(1:159)10  -4.496e-14  5.036e+05       0        1\n",
              "factor(1:159)11  -7.480e-14  5.036e+05       0        1\n",
              "factor(1:159)12   2.190e-14  5.036e+05       0        1\n",
              "factor(1:159)13  -4.672e-14  5.036e+05       0        1\n",
              "factor(1:159)14   6.886e-15  5.036e+05       0        1\n",
              "factor(1:159)15   5.313e+01  5.036e+05       0        1\n",
              "factor(1:159)16  -1.152e-14  5.036e+05       0        1\n",
              "factor(1:159)17  -6.873e-14  5.036e+05       0        1\n",
              "factor(1:159)18  -8.516e-14  5.036e+05       0        1\n",
              "factor(1:159)19  -1.613e-14  5.036e+05       0        1\n",
              "factor(1:159)20  -6.435e-14  5.036e+05       0        1\n",
              "factor(1:159)21  -6.410e-14  5.036e+05       0        1\n",
              "factor(1:159)22  -2.621e-14  5.036e+05       0        1\n",
              "factor(1:159)23  -8.177e-14  5.036e+05       0        1\n",
              "factor(1:159)24  -5.348e-14  5.036e+05       0        1\n",
              "factor(1:159)25  -1.535e-15  5.036e+05       0        1\n",
              "factor(1:159)26  -1.658e-14  5.036e+05       0        1\n",
              "factor(1:159)27  -5.659e-14  5.036e+05       0        1\n",
              "factor(1:159)28  -3.546e-14  5.036e+05       0        1\n",
              "factor(1:159)29   7.682e-14  5.036e+05       0        1\n",
              "factor(1:159)30   6.041e-16  5.036e+05       0        1\n",
              "factor(1:159)31  -1.637e-14  5.036e+05       0        1\n",
              "factor(1:159)32  -5.718e-14  5.036e+05       0        1\n",
              "factor(1:159)33  -3.930e-14  5.036e+05       0        1\n",
              "factor(1:159)34  -8.722e-14  5.036e+05       0        1\n",
              "factor(1:159)35   5.313e+01  5.036e+05       0        1\n",
              "factor(1:159)36   5.313e+01  5.036e+05       0        1\n",
              "factor(1:159)37   5.313e+01  5.036e+05       0        1\n",
              "factor(1:159)38  -3.585e-14  5.036e+05       0        1\n",
              "factor(1:159)39  -3.773e-14  5.036e+05       0        1\n",
              "factor(1:159)40  -6.214e-14  5.036e+05       0        1\n",
              "factor(1:159)41  -6.686e-14  5.036e+05       0        1\n",
              "factor(1:159)42  -6.529e-14  5.036e+05       0        1\n",
              "factor(1:159)43  -1.293e-13  5.036e+05       0        1\n",
              "factor(1:159)44  -2.879e-14  5.036e+05       0        1\n",
              "factor(1:159)45  -1.630e-14  5.036e+05       0        1\n",
              "factor(1:159)46  -1.382e-14  5.036e+05       0        1\n",
              "factor(1:159)47  -8.875e-14  5.036e+05       0        1\n",
              "factor(1:159)48  -4.375e-14  5.036e+05       0        1\n",
              "factor(1:159)49   7.579e-15  5.036e+05       0        1\n",
              "factor(1:159)50   5.465e-14  5.036e+05       0        1\n",
              "factor(1:159)51  -7.947e-14  5.036e+05       0        1\n",
              "factor(1:159)52   5.313e+01  5.036e+05       0        1\n",
              "factor(1:159)53   5.313e+01  5.036e+05       0        1\n",
              "factor(1:159)54   5.313e+01  5.036e+05       0        1\n",
              "factor(1:159)55   5.313e+01  5.036e+05       0        1\n",
              "factor(1:159)56   5.313e+01  5.036e+05       0        1\n",
              "factor(1:159)57   5.313e+01  5.036e+05       0        1\n",
              "factor(1:159)58   5.313e+01  5.036e+05       0        1\n",
              "factor(1:159)59  -8.870e-14  5.036e+05       0        1\n",
              "factor(1:159)60   1.135e-13  5.036e+05       0        1\n",
              "factor(1:159)61  -1.090e-13  5.036e+05       0        1\n",
              "factor(1:159)62  -1.140e-13  5.036e+05       0        1\n",
              "factor(1:159)63  -1.037e-13  5.036e+05       0        1\n",
              "factor(1:159)64  -2.517e-14  5.036e+05       0        1\n",
              "factor(1:159)65  -9.566e-14  5.036e+05       0        1\n",
              "factor(1:159)66   3.406e-14  5.036e+05       0        1\n",
              "factor(1:159)67  -1.972e-14  5.036e+05       0        1\n",
              "factor(1:159)68  -8.568e-14  5.036e+05       0        1\n",
              "factor(1:159)69   5.313e+01  5.036e+05       0        1\n",
              "factor(1:159)70   5.313e+01  5.036e+05       0        1\n",
              "factor(1:159)71   5.313e+01  5.036e+05       0        1\n",
              "factor(1:159)72   5.313e+01  5.036e+05       0        1\n",
              "factor(1:159)73   5.313e+01  5.036e+05       0        1\n",
              "factor(1:159)74   5.313e+01  5.036e+05       0        1\n",
              "factor(1:159)75   5.313e+01  5.036e+05       0        1\n",
              "factor(1:159)76   5.313e+01  5.036e+05       0        1\n",
              "factor(1:159)77   5.313e+01  5.036e+05       0        1\n",
              "factor(1:159)78   5.313e+01  5.036e+05       0        1\n",
              "factor(1:159)79   5.313e+01  5.036e+05       0        1\n",
              "factor(1:159)80   5.313e+01  5.036e+05       0        1\n",
              "factor(1:159)81  -5.797e-14  5.036e+05       0        1\n",
              "factor(1:159)82  -1.400e-13  5.036e+05       0        1\n",
              "factor(1:159)83  -1.479e-13  5.036e+05       0        1\n",
              "factor(1:159)84  -4.947e-14  5.036e+05       0        1\n",
              "factor(1:159)85   5.819e-14  5.036e+05       0        1\n",
              "factor(1:159)86  -1.085e-13  5.036e+05       0        1\n",
              "factor(1:159)87  -7.275e-15  5.036e+05       0        1\n",
              "factor(1:159)88  -1.336e-13  5.036e+05       0        1\n",
              "factor(1:159)89  -7.294e-14  5.036e+05       0        1\n",
              "factor(1:159)90  -2.445e-13  5.036e+05       0        1\n",
              "factor(1:159)91  -6.212e-14  5.036e+05       0        1\n",
              "factor(1:159)92  -6.229e-14  5.036e+05       0        1\n",
              "factor(1:159)93   5.313e+01  5.036e+05       0        1\n",
              "factor(1:159)94   5.313e+01  5.036e+05       0        1\n",
              "factor(1:159)95   5.313e+01  5.036e+05       0        1\n",
              "factor(1:159)96   5.313e+01  5.036e+05       0        1\n",
              "factor(1:159)97   5.313e+01  5.036e+05       0        1\n",
              "factor(1:159)98   5.313e+01  5.036e+05       0        1\n",
              "factor(1:159)99   5.313e+01  5.036e+05       0        1\n",
              "factor(1:159)100  5.313e+01  5.036e+05       0        1\n",
              "factor(1:159)101  5.313e+01  5.036e+05       0        1\n",
              "factor(1:159)102  5.313e+01  5.036e+05       0        1\n",
              "factor(1:159)103  5.313e+01  5.036e+05       0        1\n",
              "factor(1:159)104  5.313e+01  5.036e+05       0        1\n",
              "factor(1:159)105  5.313e+01  5.036e+05       0        1\n",
              "factor(1:159)106  5.313e+01  5.036e+05       0        1\n",
              "factor(1:159)107  5.313e+01  5.036e+05       0        1\n",
              "factor(1:159)108  5.313e+01  5.036e+05       0        1\n",
              "factor(1:159)109  5.313e+01  5.036e+05       0        1\n",
              "factor(1:159)110 -6.819e-14  5.036e+05       0        1\n",
              "factor(1:159)111  1.590e-13  5.036e+05       0        1\n",
              "factor(1:159)112 -9.230e-14  5.036e+05       0        1\n",
              "factor(1:159)113 -1.576e-13  5.036e+05       0        1\n",
              "factor(1:159)114  1.647e-14  5.036e+05       0        1\n",
              "factor(1:159)115  5.313e+01  5.036e+05       0        1\n",
              "factor(1:159)116  5.313e+01  5.036e+05       0        1\n",
              "factor(1:159)117  5.313e+01  5.036e+05       0        1\n",
              "factor(1:159)118  5.313e+01  5.036e+05       0        1\n",
              "factor(1:159)119  5.313e+01  5.036e+05       0        1\n",
              "factor(1:159)120  5.313e+01  5.036e+05       0        1\n",
              "factor(1:159)121  5.313e+01  5.036e+05       0        1\n",
              "factor(1:159)122  5.313e+01  5.036e+05       0        1\n",
              "factor(1:159)123  5.313e+01  5.036e+05       0        1\n",
              "factor(1:159)124  5.313e+01  5.036e+05       0        1\n",
              "factor(1:159)125  5.313e+01  5.036e+05       0        1\n",
              "factor(1:159)126  5.313e+01  5.036e+05       0        1\n",
              "factor(1:159)127  5.313e+01  5.036e+05       0        1\n",
              "factor(1:159)128 -2.115e-14  5.036e+05       0        1\n",
              "factor(1:159)129 -3.273e-14  5.036e+05       0        1\n",
              "factor(1:159)130 -3.969e-14  5.036e+05       0        1\n",
              "factor(1:159)131 -5.712e-15  5.036e+05       0        1\n",
              "factor(1:159)132  5.679e-14  5.036e+05       0        1\n",
              "factor(1:159)133  5.313e+01  5.036e+05       0        1\n",
              "factor(1:159)134  5.313e+01  5.036e+05       0        1\n",
              "factor(1:159)135  5.313e+01  5.036e+05       0        1\n",
              "factor(1:159)136  5.313e+01  5.036e+05       0        1\n",
              "factor(1:159)137  5.313e+01  5.036e+05       0        1\n",
              "factor(1:159)138  5.313e+01  5.036e+05       0        1\n",
              "factor(1:159)139  5.313e+01  5.036e+05       0        1\n",
              "factor(1:159)140  5.313e+01  5.036e+05       0        1\n",
              "factor(1:159)141  5.313e+01  5.036e+05       0        1\n",
              "factor(1:159)142  5.313e+01  5.036e+05       0        1\n",
              "factor(1:159)143  5.313e+01  5.036e+05       0        1\n",
              "factor(1:159)144  5.313e+01  5.036e+05       0        1\n",
              "factor(1:159)145 -1.558e-13  5.036e+05       0        1\n",
              "factor(1:159)146  5.313e+01  5.036e+05       0        1\n",
              "factor(1:159)147  5.313e+01  5.036e+05       0        1\n",
              "factor(1:159)148  5.313e+01  5.036e+05       0        1\n",
              "factor(1:159)149  5.313e+01  5.036e+05       0        1\n",
              "factor(1:159)150  5.313e+01  5.036e+05       0        1\n",
              "factor(1:159)151  5.313e+01  5.036e+05       0        1\n",
              "factor(1:159)152  5.313e+01  5.036e+05       0        1\n",
              "factor(1:159)153  5.313e+01  5.036e+05       0        1\n",
              "factor(1:159)154  5.313e+01  5.036e+05       0        1\n",
              "factor(1:159)155  5.313e+01  5.036e+05       0        1\n",
              "factor(1:159)156  5.313e+01  5.036e+05       0        1\n",
              "factor(1:159)157  5.313e+01  5.036e+05       0        1\n",
              "factor(1:159)158  5.313e+01  5.036e+05       0        1\n",
              "factor(1:159)159  5.313e+01  5.036e+05       0        1\n",
              "\n",
              "(Dispersion parameter for binomial family taken to be 1)\n",
              "\n",
              "    Null deviance: 2.2041e+02  on 158  degrees of freedom\n",
              "Residual deviance: 9.2245e-10  on   0  degrees of freedom\n",
              "AIC: 318\n",
              "\n",
              "Number of Fisher Scoring iterations: 25\n"
            ]
          },
          "metadata": {}
        }
      ]
    },
    {
      "cell_type": "code",
      "source": [
        "(ll_saturated <- logLik(saturated.model))"
      ],
      "metadata": {
        "colab": {
          "base_uri": "https://localhost:8080/",
          "height": 34
        },
        "id": "Z-P3Pz_kW8Cj",
        "outputId": "f1b0e8d7-51ad-4856-f112-013bddc8d4c9"
      },
      "execution_count": 14,
      "outputs": [
        {
          "output_type": "display_data",
          "data": {
            "text/plain": [
              "'log Lik.' -4.611991e-10 (df=159)"
            ]
          },
          "metadata": {}
        }
      ]
    },
    {
      "cell_type": "markdown",
      "source": [
        "## Our model\n",
        "\n",
        "Our fit using length to model survival is \"in between\" the overly-simplistic null model, and the drastically over-fit saturated model:"
      ],
      "metadata": {
        "id": "coSJ1V5IXIGy"
      }
    },
    {
      "cell_type": "code",
      "source": [
        "(ll_proposed <- logLik(logistic.length.fit))"
      ],
      "metadata": {
        "colab": {
          "base_uri": "https://localhost:8080/",
          "height": 34
        },
        "id": "fDUThBqiXRkC",
        "outputId": "a6a19914-c881-4695-e151-ee01d0787526"
      },
      "execution_count": 15,
      "outputs": [
        {
          "output_type": "display_data",
          "data": {
            "text/plain": [
              "'log Lik.' -86.4357 (df=2)"
            ]
          },
          "metadata": {}
        }
      ]
    },
    {
      "cell_type": "markdown",
      "source": [
        "## **Deviances**\n"
      ],
      "metadata": {
        "id": "WswGncXnXe27"
      }
    },
    {
      "cell_type": "markdown",
      "source": [
        "So, we have 3 log-likelihoods:\n",
        "\n",
        "* $logLik_{saturated}$ basically measures \"how good can it get?\"\n",
        "* $logLik_{null}$ basically measures \"how bad can it get?\"\n",
        "* $logLik_{proposed\\ model}$ is in between.\n",
        "\n",
        "\n",
        "***Deviances*** measure gaps between these log-likelihoods.  Specificially:"
      ],
      "metadata": {
        "id": "SMfTNHohmyfE"
      }
    },
    {
      "cell_type": "markdown",
      "source": [
        "\n",
        "\n",
        "$$ Null\\ Deviance = 2\\cdot\\left(logLik_{saturated}-logLik_{null}\\right)$$\n",
        "\n",
        "\n",
        "$$ Residual\\ Deviance = 2\\cdot \\left(logLik_{saturated} - logLik_{proposed\\ model}\\right)$$\n"
      ],
      "metadata": {
        "id": "iLL4Q2wUZFYb"
      }
    },
    {
      "cell_type": "markdown",
      "source": [
        "The diagram [from this blog post](https://rpubs.com/fhernanb/deviance_glm#:~:text=Deviance%20is%20a%20measure%20of,used%20for%20statistical%20hypothesis%20testing.) is helpful for understanding what's going on (*ll* stands for \"log likelihood\"):\n",
        "\n"
      ],
      "metadata": {
        "id": "vqQ0pUfvztQg"
      }
    },
    {
      "cell_type": "markdown",
      "source": [
        "\n",
        "![](data:image/png;base64,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)"
      ],
      "metadata": {
        "id": "jTDbC7OoJBeG"
      }
    },
    {
      "cell_type": "markdown",
      "source": [
        "So:\n",
        "\n",
        "* Null deviance measures the difference between \"how good it can get\" and \"how bad it can get\"\n",
        "* Residual deviance measures how much the proposed model cuts down on that gap.\n",
        "* Fun facts: with ordinary linear regression (a normal likelihood);\n",
        "  - Null deviance is equivalent to total sum of squares $\\sum_{i=1}^n (Y_i - \\bar Y)^2$\n",
        "  - Residual deviance is equivalent to sum-of-squared residuals $\\sum_{i=1}^n (Y_i - \\hat Y_i)^2$\n",
        "  - So $R^2= 1-\\frac{residual\\ deviance}{null\\ deviance}$"
      ],
      "metadata": {
        "id": "DcynECSwItBY"
      }
    },
    {
      "cell_type": "markdown",
      "source": [
        "Recall our three model log-likelihoods:"
      ],
      "metadata": {
        "id": "aNChS9TLml0S"
      }
    },
    {
      "cell_type": "code",
      "source": [
        "ll_null\n",
        "ll_saturated\n",
        "ll_proposed"
      ],
      "metadata": {
        "colab": {
          "base_uri": "https://localhost:8080/",
          "height": 69
        },
        "id": "5k_ldVtsJple",
        "outputId": "ab09b711-832f-41a0-fbdb-a8897c8a1913"
      },
      "execution_count": 16,
      "outputs": [
        {
          "output_type": "display_data",
          "data": {
            "text/plain": [
              "'log Lik.' -110.2073 (df=1)"
            ]
          },
          "metadata": {}
        },
        {
          "output_type": "display_data",
          "data": {
            "text/plain": [
              "'log Lik.' -4.611991e-10 (df=159)"
            ]
          },
          "metadata": {}
        },
        {
          "output_type": "display_data",
          "data": {
            "text/plain": [
              "'log Lik.' -86.4357 (df=2)"
            ]
          },
          "metadata": {}
        }
      ]
    },
    {
      "cell_type": "markdown",
      "source": [
        "Note the deviances in the summary output:"
      ],
      "metadata": {
        "id": "ZS4Z1RVAJroN"
      }
    },
    {
      "cell_type": "code",
      "source": [
        "summary(logistic.length.fit)"
      ],
      "metadata": {
        "colab": {
          "base_uri": "https://localhost:8080/",
          "height": 329
        },
        "id": "dPEIKv4hJz11",
        "outputId": "3b41f2af-62c5-4528-a9d9-106349d7be03"
      },
      "execution_count": 17,
      "outputs": [
        {
          "output_type": "display_data",
          "data": {
            "text/plain": [
              "\n",
              "Call:\n",
              "glm(formula = survival ~ length.mm, family = binomial, data = lobsters)\n",
              "\n",
              "Coefficients:\n",
              "            Estimate Std. Error z value Pr(>|z|)    \n",
              "(Intercept) -7.89597    1.38501  -5.701 1.19e-08 ***\n",
              "length.mm    0.19586    0.03415   5.735 9.77e-09 ***\n",
              "---\n",
              "Signif. codes:  0 ‘***’ 0.001 ‘**’ 0.01 ‘*’ 0.05 ‘.’ 0.1 ‘ ’ 1\n",
              "\n",
              "(Dispersion parameter for binomial family taken to be 1)\n",
              "\n",
              "    Null deviance: 220.41  on 158  degrees of freedom\n",
              "Residual deviance: 172.87  on 157  degrees of freedom\n",
              "AIC: 176.87\n",
              "\n",
              "Number of Fisher Scoring iterations: 4\n"
            ]
          },
          "metadata": {}
        }
      ]
    },
    {
      "cell_type": "markdown",
      "source": [
        "We have:\n",
        "\n",
        "* Null deviance = 220.41\n",
        "* Residual deviance = 172.87\n",
        "\n",
        "Verify computation of these deviances."
      ],
      "metadata": {
        "id": "_z2S1TCoJ1RF"
      }
    },
    {
      "cell_type": "code",
      "source": [
        "# Null deviances\n",
        "(ll_saturated - ll_null) *2"
      ],
      "metadata": {
        "colab": {
          "base_uri": "https://localhost:8080/",
          "height": 34
        },
        "id": "sDtisYPOBSil",
        "outputId": "3ea639da-c86f-4e6c-f1b0-1149ed97bacc"
      },
      "execution_count": 23,
      "outputs": [
        {
          "output_type": "display_data",
          "data": {
            "text/plain": [
              "'log Lik.' 220.4145 (df=159)"
            ]
          },
          "metadata": {}
        }
      ]
    },
    {
      "cell_type": "code",
      "source": [
        "# Residual deviance\n",
        "(ll_saturated - ll_proposed) *2"
      ],
      "metadata": {
        "colab": {
          "base_uri": "https://localhost:8080/",
          "height": 34
        },
        "id": "1GPie1SOB2Oh",
        "outputId": "9729c816-79d0-4c6f-f4a0-9571989885c9"
      },
      "execution_count": 24,
      "outputs": [
        {
          "output_type": "display_data",
          "data": {
            "text/plain": [
              "'log Lik.' 172.8714 (df=159)"
            ]
          },
          "metadata": {}
        }
      ]
    },
    {
      "cell_type": "markdown",
      "source": [
        "## Deviances and goodness-of-fit tests\n",
        "\n",
        "**If the model is fitting well, the residual deviance will be approximately equal to the residual degrees of freedom $n-p$.**  Residual deviances that are much larger than the df indicate lack of model fit.  Lack of fit can be due to:\n",
        "\n",
        "* Missing important covariates, i.e. the covariates you included don't improve the model much beyond a null intercept-only model\n",
        "  - Possible fix: Investigate including additional covariates, or modeling interactions if you haven't yet.\n",
        "* A non-linear relationship between the log-odds and the covariates\n",
        "  - Possible fix: include polynomial $X$ terms or other nonlinear $X$ relationships\n",
        "* Extra-binomial variance -- $Var(Y|X)$ larger than $p_X(1-p_X)$.\n",
        "  - Possible \"fix\": robust sandwich standard errors\n",
        "\n",
        "For out fit, our residual deviance of 172.87 is in the same ballpark as the df = 157, demonstrating pretty good fit."
      ],
      "metadata": {
        "id": "kW14JCNcOE3Q"
      }
    },
    {
      "cell_type": "markdown",
      "source": [
        "We can also perform a ***goodness-of-fit*** test to help assess lack-of-fit.  In this scenario, we test:\n",
        "\n",
        "\n",
        "$$H_0: \\mbox{the model fits well.}$$\n",
        "$$H_a: \\mbox{the model does not fit well.}$$\n"
      ],
      "metadata": {
        "id": "OpLsTOJBPJq0"
      }
    },
    {
      "cell_type": "markdown",
      "source": [
        "\n",
        "We test these hypotheses by comparing the residual deviance to a $\\chi^2_{n-p}$ distrbution.  Small p-values indicate evidence for lack-of-fit, i.e., too-large residual deviances.\n"
      ],
      "metadata": {
        "id": "2qyyP5Uv0SKN"
      }
    },
    {
      "cell_type": "markdown",
      "source": [
        "\n",
        "Carrying out the goodness-of-fit test for our lobster length model:"
      ],
      "metadata": {
        "id": "SOsl6RK4PcaZ"
      }
    },
    {
      "cell_type": "code",
      "source": [
        "1-pchisq(172.87, df = 157)"
      ],
      "metadata": {
        "colab": {
          "base_uri": "https://localhost:8080/",
          "height": 34
        },
        "id": "gTEH-zOaKEVg",
        "outputId": "43ccc0fd-1a21-4824-cddc-ee72463b836a"
      },
      "execution_count": 25,
      "outputs": [
        {
          "output_type": "display_data",
          "data": {
            "text/html": [
              "0.182889195284722"
            ],
            "text/markdown": "0.182889195284722",
            "text/latex": "0.182889195284722",
            "text/plain": [
              "[1] 0.1828892"
            ]
          },
          "metadata": {}
        }
      ]
    },
    {
      "cell_type": "markdown",
      "source": [
        "Since the p-value > 0.05, there is no statistical evidence supporting a lack of fit.\n"
      ],
      "metadata": {
        "id": "jGm5wKGVNvfI"
      }
    },
    {
      "cell_type": "markdown",
      "source": [
        "# Using deviances to compare models\n",
        "\n",
        "While deviances are of some use when investigating a single model, they are *very* useful for comparing large to smaller, nested models.  This is known as a ***drop-in-deviance test for comparing nested models.***  It compares two models of the form:\n",
        "\n",
        "$$\\mbox{Simple model:  } logit(p) = \\beta_0 + \\beta_1 X_1 + ... + \\beta_p X_p$$\n",
        "\n",
        "$$\\mbox{Larger model:  } logit(p) = \\mbox{all simple model terms} + \\beta_{p+1}X_{p+1} + ... + \\beta_{p+k}X_{p+k}$$\n",
        "\n",
        "\n",
        "  Formally the drop-in-deviance test is a test of:\n",
        "\n",
        "\n",
        "$$H_0: \\mbox{the simple model is sufficient;  }\\beta_{p+1}=...=\\beta_{p+k} = 0$$\n",
        "$$H_0: \\mbox{the larger model is necessary;  at least one of }\\beta_{p+1},...,\\beta_{p+k} \\ne 0$$\n",
        "\n"
      ],
      "metadata": {
        "id": "3QFXs6wrcuSD"
      }
    },
    {
      "cell_type": "markdown",
      "source": [
        "To carry out the test (\"*deviance*\" refers to residual deviance):\n",
        "\n",
        "* Find $deviance_{simple}$\n",
        "*  Find $deviance_{larger}$\n",
        "* Find drop-in-deviances $deviance_{larger}-deviance_{simple}$\n",
        "* Compare to a $\\chi^2$ with df equal to difference in number of parameters"
      ],
      "metadata": {
        "id": "h-yY6H40gNpE"
      }
    },
    {
      "cell_type": "markdown",
      "source": [
        "But note!\n",
        "\n",
        " $$deviance_{larger}-deviance_{simple} = 2\\cdot(logLik(saturated)-logLik(larger)) - 2\\cdot(logLik(saturated)-logLik(simple))$$\n",
        " $$ = -2\\cdot(logLik(larger)-logLik(simple))$$\n",
        "\n",
        " So the ***drop-in-deviance test*** is exactly equivalent to the **likelihood ratio test** for comparing two models!"
      ],
      "metadata": {
        "id": "aJ4_44O0g14E"
      }
    },
    {
      "cell_type": "markdown",
      "source": [
        "## R syntax\n",
        "\n",
        "Given a `model.large` and a `model.simple`, cary out the drop-in-deviance aka likelihood ratio test as follows:\n",
        "\n",
        "`anova(model.simple, model.large, test = 'Chisq')`"
      ],
      "metadata": {
        "id": "ZemC1yJShgFp"
      }
    },
    {
      "cell_type": "markdown",
      "source": [
        "## Example: quadratic vs linear lobster fits"
      ],
      "metadata": {
        "id": "wRqFyCRzhVrw"
      }
    },
    {
      "cell_type": "markdown",
      "source": [
        "Recall our plot of the empirical logits vs the length brackets:"
      ],
      "metadata": {
        "id": "hXTQWZkWdaIa"
      }
    },
    {
      "cell_type": "code",
      "source": [
        "library(ggplot2)\n",
        "ggplot(data = logits) +\n",
        "  geom_point(aes(x = length.mm, y = logit)) +\n",
        "  ylab('Logit(p)') + xlab('Length (mm)')"
      ],
      "metadata": {
        "colab": {
          "base_uri": "https://localhost:8080/",
          "height": 437
        },
        "id": "9T60AQ2RdfKl",
        "outputId": "c1f429cc-0af9-4f91-ae49-ba7cf423a797"
      },
      "execution_count": 26,
      "outputs": [
        {
          "output_type": "display_data",
          "data": {
            "text/plain": [
              "plot without title"
            ],
            "image/png": "[encoded data removed]"
          },
          "metadata": {
            "image/png": {
              "width": 420,
              "height": 420
            }
          }
        }
      ]
    },
    {
      "cell_type": "markdown",
      "source": [
        "This looks like a pretty linear relationship, but suppose we went ahead and fit a 2nd-degree polynomial model of the form:\n",
        "\n",
        "$$logit(p) = \\beta_0 + \\beta_1 X + \\beta_2 X^2$$"
      ],
      "metadata": {
        "id": "7-jo1-X1dlsa"
      }
    },
    {
      "cell_type": "code",
      "source": [
        "quadratic.length.fit <- glm(survival ~ poly(length.mm, 2), data = lobsters, family=binomial)"
      ],
      "metadata": {
        "id": "U06M1PYdboKs"
      },
      "execution_count": 27,
      "outputs": []
    },
    {
      "cell_type": "code",
      "source": [
        "summary(quadratic.length.fit)"
      ],
      "metadata": {
        "colab": {
          "base_uri": "https://localhost:8080/",
          "height": 364
        },
        "id": "p7oEVQmBdNWE",
        "outputId": "e5501ffd-6d10-449c-dbfa-9635bab0d1b4"
      },
      "execution_count": 28,
      "outputs": [
        {
          "output_type": "display_data",
          "data": {
            "text/plain": [
              "\n",
              "Call:\n",
              "glm(formula = survival ~ poly(length.mm, 2), family = binomial, \n",
              "    data = lobsters)\n",
              "\n",
              "Coefficients:\n",
              "                    Estimate Std. Error z value Pr(>|z|)    \n",
              "(Intercept)         -0.06439    0.20131  -0.320    0.749    \n",
              "poly(length.mm, 2)1 16.79619    2.91753   5.757 8.56e-09 ***\n",
              "poly(length.mm, 2)2 -2.52971    3.13549  -0.807    0.420    \n",
              "---\n",
              "Signif. codes:  0 ‘***’ 0.001 ‘**’ 0.01 ‘*’ 0.05 ‘.’ 0.1 ‘ ’ 1\n",
              "\n",
              "(Dispersion parameter for binomial family taken to be 1)\n",
              "\n",
              "    Null deviance: 220.41  on 158  degrees of freedom\n",
              "Residual deviance: 172.23  on 156  degrees of freedom\n",
              "AIC: 178.23\n",
              "\n",
              "Number of Fisher Scoring iterations: 4\n"
            ]
          },
          "metadata": {}
        }
      ]
    },
    {
      "cell_type": "markdown",
      "source": [
        "Adding the fitted values from both models to the plot:"
      ],
      "metadata": {
        "id": "fJoUXYZFdwdd"
      }
    },
    {
      "cell_type": "code",
      "source": [
        "head(logits)"
      ],
      "metadata": {
        "colab": {
          "base_uri": "https://localhost:8080/",
          "height": 286
        },
        "id": "yuYnwTqEeIr_",
        "outputId": "43437a70-1418-4937-a78a-c0a2f301fa61"
      },
      "execution_count": 29,
      "outputs": [
        {
          "output_type": "display_data",
          "data": {
            "text/html": [
              "<table class=\"dataframe\">\n",
              "<caption>A tibble: 6 × 3</caption>\n",
              "<thead>\n",
              "\t<tr><th scope=col>length.mm</th><th scope=col>p</th><th scope=col>logit</th></tr>\n",
              "\t<tr><th scope=col>&lt;int&gt;</th><th scope=col>&lt;dbl&gt;</th><th scope=col>&lt;dbl&gt;</th></tr>\n",
              "</thead>\n",
              "<tbody>\n",
              "\t<tr><td>27</td><td>0.0000000</td><td>      -Inf</td></tr>\n",
              "\t<tr><td>30</td><td>0.1000000</td><td>-2.1972246</td></tr>\n",
              "\t<tr><td>33</td><td>0.1363636</td><td>-1.8458267</td></tr>\n",
              "\t<tr><td>36</td><td>0.3333333</td><td>-0.6931472</td></tr>\n",
              "\t<tr><td>39</td><td>0.5454545</td><td> 0.1823216</td></tr>\n",
              "\t<tr><td>42</td><td>0.5862069</td><td> 0.3483067</td></tr>\n",
              "</tbody>\n",
              "</table>\n"
            ],
            "text/markdown": "\nA tibble: 6 × 3\n\n| length.mm &lt;int&gt; | p &lt;dbl&gt; | logit &lt;dbl&gt; |\n|---|---|---|\n| 27 | 0.0000000 |       -Inf |\n| 30 | 0.1000000 | -2.1972246 |\n| 33 | 0.1363636 | -1.8458267 |\n| 36 | 0.3333333 | -0.6931472 |\n| 39 | 0.5454545 |  0.1823216 |\n| 42 | 0.5862069 |  0.3483067 |\n\n",
            "text/latex": "A tibble: 6 × 3\n\\begin{tabular}{lll}\n length.mm & p & logit\\\\\n <int> & <dbl> & <dbl>\\\\\n\\hline\n\t 27 & 0.0000000 &       -Inf\\\\\n\t 30 & 0.1000000 & -2.1972246\\\\\n\t 33 & 0.1363636 & -1.8458267\\\\\n\t 36 & 0.3333333 & -0.6931472\\\\\n\t 39 & 0.5454545 &  0.1823216\\\\\n\t 42 & 0.5862069 &  0.3483067\\\\\n\\end{tabular}\n",
            "text/plain": [
              "  length.mm p         logit     \n",
              "1 27        0.0000000       -Inf\n",
              "2 30        0.1000000 -2.1972246\n",
              "3 33        0.1363636 -1.8458267\n",
              "4 36        0.3333333 -0.6931472\n",
              "5 39        0.5454545  0.1823216\n",
              "6 42        0.5862069  0.3483067"
            ]
          },
          "metadata": {}
        }
      ]
    },
    {
      "cell_type": "code",
      "source": [
        "logits$fitted.logit.linear <- predict(logistic.length.fit, newdata = logits)\n",
        "logits$fitted.logit.quadratic <- predict(quadratic.length.fit, newdata = logits)"
      ],
      "metadata": {
        "id": "TJXjgNH4dPt8"
      },
      "execution_count": 30,
      "outputs": []
    },
    {
      "cell_type": "code",
      "source": [
        "library(ggplot2)\n",
        "ggplot(data = logits) +\n",
        "  geom_point(aes(x = length.mm, y = logit)) +\n",
        "  geom_line(aes(x = length.mm, y = fitted.logit.linear), col = 'cornflowerblue', linewidth = 1) +\n",
        "      geom_line(aes(x = length.mm, y = fitted.logit.quadratic), col='goldenrod', linewidth = 1)+\n",
        "  ylab('Logit(p)') + xlab('Length (mm)')"
      ],
      "metadata": {
        "colab": {
          "base_uri": "https://localhost:8080/",
          "height": 437
        },
        "id": "quJa92CjeAmV",
        "outputId": "3feb6519-7336-4741-ff36-75b076280de9"
      },
      "execution_count": 31,
      "outputs": [
        {
          "output_type": "display_data",
          "data": {
            "text/plain": [
              "plot without title"
            ],
            "image/png": "[encoded data removed]"
          },
          "metadata": {
            "image/png": {
              "width": 420,
              "height": 420
            }
          }
        }
      ]
    },
    {
      "cell_type": "markdown",
      "source": [
        "There does not appear to be much difference between the two fits.\n",
        "\n",
        "Also note the residual deviances from the two fits:"
      ],
      "metadata": {
        "id": "7dsrzYQceAHV"
      }
    },
    {
      "cell_type": "code",
      "source": [
        "# Residual deviance from logistic linear:\n",
        "logistic.length.fit$deviance"
      ],
      "metadata": {
        "colab": {
          "base_uri": "https://localhost:8080/",
          "height": 34
        },
        "id": "ep6i-I-wfDkF",
        "outputId": "65a055e9-0f5c-4e91-f9c2-9943133b2880"
      },
      "execution_count": 32,
      "outputs": [
        {
          "output_type": "display_data",
          "data": {
            "text/html": [
              "172.871398264483"
            ],
            "text/markdown": "172.871398264483",
            "text/latex": "172.871398264483",
            "text/plain": [
              "[1] 172.8714"
            ]
          },
          "metadata": {}
        }
      ]
    },
    {
      "cell_type": "code",
      "source": [
        "# Residual deviance from logistic quadratic:\n",
        "quadratic.length.fit$deviance"
      ],
      "metadata": {
        "colab": {
          "base_uri": "https://localhost:8080/",
          "height": 34
        },
        "id": "DvcGNQZ9fFcf",
        "outputId": "1a3b839f-6aba-431e-b155-2b0ca4441675"
      },
      "execution_count": 33,
      "outputs": [
        {
          "output_type": "display_data",
          "data": {
            "text/html": [
              "172.230618001484"
            ],
            "text/markdown": "172.230618001484",
            "text/latex": "172.230618001484",
            "text/plain": [
              "[1] 172.2306"
            ]
          },
          "metadata": {}
        }
      ]
    },
    {
      "cell_type": "markdown",
      "source": [
        "The quadratic term improved the residual deviance, but only very slightly.  Testing whether this improvement is significant"
      ],
      "metadata": {
        "id": "3ftL8tDvfIO9"
      }
    },
    {
      "cell_type": "code",
      "source": [
        "anova(logistic.length.fit, quadratic.length.fit, test = 'Chisq')"
      ],
      "metadata": {
        "colab": {
          "base_uri": "https://localhost:8080/",
          "height": 161
        },
        "id": "fTOS7VPjhefY",
        "outputId": "d5cf81f2-dc34-4b24-9fa1-bcfe8796e050"
      },
      "execution_count": 34,
      "outputs": [
        {
          "output_type": "display_data",
          "data": {
            "text/html": [
              "<table class=\"dataframe\">\n",
              "<caption>A anova: 2 × 5</caption>\n",
              "<thead>\n",
              "\t<tr><th></th><th scope=col>Resid. Df</th><th scope=col>Resid. Dev</th><th scope=col>Df</th><th scope=col>Deviance</th><th scope=col>Pr(&gt;Chi)</th></tr>\n",
              "\t<tr><th></th><th scope=col>&lt;dbl&gt;</th><th scope=col>&lt;dbl&gt;</th><th scope=col>&lt;dbl&gt;</th><th scope=col>&lt;dbl&gt;</th><th scope=col>&lt;dbl&gt;</th></tr>\n",
              "</thead>\n",
              "<tbody>\n",
              "\t<tr><th scope=row>1</th><td>157</td><td>172.8714</td><td>NA</td><td>       NA</td><td>       NA</td></tr>\n",
              "\t<tr><th scope=row>2</th><td>156</td><td>172.2306</td><td> 1</td><td>0.6407803</td><td>0.4234284</td></tr>\n",
              "</tbody>\n",
              "</table>\n"
            ],
            "text/markdown": "\nA anova: 2 × 5\n\n| <!--/--> | Resid. Df &lt;dbl&gt; | Resid. Dev &lt;dbl&gt; | Df &lt;dbl&gt; | Deviance &lt;dbl&gt; | Pr(&gt;Chi) &lt;dbl&gt; |\n|---|---|---|---|---|---|\n| 1 | 157 | 172.8714 | NA |        NA |        NA |\n| 2 | 156 | 172.2306 |  1 | 0.6407803 | 0.4234284 |\n\n",
            "text/latex": "A anova: 2 × 5\n\\begin{tabular}{r|lllll}\n  & Resid. Df & Resid. Dev & Df & Deviance & Pr(>Chi)\\\\\n  & <dbl> & <dbl> & <dbl> & <dbl> & <dbl>\\\\\n\\hline\n\t1 & 157 & 172.8714 & NA &        NA &        NA\\\\\n\t2 & 156 & 172.2306 &  1 & 0.6407803 & 0.4234284\\\\\n\\end{tabular}\n",
            "text/plain": [
              "  Resid. Df Resid. Dev Df Deviance  Pr(>Chi) \n",
              "1 157       172.8714   NA        NA        NA\n",
              "2 156       172.2306    1 0.6407803 0.4234284"
            ]
          },
          "metadata": {}
        }
      ]
    },
    {
      "cell_type": "markdown",
      "source": [
        "* Why is the DF = 1? - **This is the difference in number of parameters.**\n",
        "* Verify the p-value.\n",
        "* What does this output indicate about the necessity of a quadratic term? - **No evidence to support more complicated, quadratic model(p = 0.42 > 0.05).**"
      ],
      "metadata": {
        "id": "6MnHX_JPh4Cg"
      }
    },
    {
      "cell_type": "code",
      "source": [
        "# verify the p-value\n",
        "1-pchisq(0.6407803, df=1)"
      ],
      "metadata": {
        "id": "a92VFp97kNma",
        "colab": {
          "base_uri": "https://localhost:8080/",
          "height": 34
        },
        "outputId": "a54f7be7-d752-4398-a7db-3b66a6f944f9"
      },
      "execution_count": 35,
      "outputs": [
        {
          "output_type": "display_data",
          "data": {
            "text/html": [
              "0.42342838043146"
            ],
            "text/markdown": "0.42342838043146",
            "text/latex": "0.42342838043146",
            "text/plain": [
              "[1] 0.4234284"
            ]
          },
          "metadata": {}
        }
      ]
    }
  ]
}