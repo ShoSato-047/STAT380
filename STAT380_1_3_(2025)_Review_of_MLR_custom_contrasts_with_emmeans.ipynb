{
  "nbformat": 4,
  "nbformat_minor": 0,
  "metadata": {
    "colab": {
      "provenance": [],
      "include_colab_link": true
    },
    "kernelspec": {
      "name": "ir",
      "display_name": "R"
    },
    "language_info": {
      "name": "R"
    }
  },
  "cells": [
    {
      "cell_type": "markdown",
      "metadata": {
        "id": "view-in-github",
        "colab_type": "text"
      },
      "source": [
        "<a href=\"https://colab.research.google.com/github/ShoSato-047/R_review/blob/main/STAT380_1_3_(2025)_Review_of_MLR_custom_contrasts_with_emmeans.ipynb\" target=\"_parent\"><img src=\"https://colab.research.google.com/assets/colab-badge.svg\" alt=\"Open In Colab\"/></a>"
      ]
    },
    {
      "cell_type": "markdown",
      "source": [
        "# What is a contrast?\n",
        "\n",
        "Often we are interested in using a fitted MLR model to estimate differences in the response for different combinations of the $X$ terms. These linear combinations are called *contrasts*.  In this notebook we explore how to conduct contrasts from a fitted MLR model.\n"
      ],
      "metadata": {
        "id": "RoWAgyy6vGLY"
      }
    },
    {
      "cell_type": "markdown",
      "source": [
        "# Case study: neurological impacts of lead exposure\n",
        "*\tWe will continue to investigate the lead exposure data from the previous notebook:"
      ],
      "metadata": {
        "id": "WUAx4xJnvext"
      }
    },
    {
      "cell_type": "code",
      "source": [
        "library(dplyr)\n",
        "lead <- read.csv('https://www.dropbox.com/s/r84evk7q5nciv94/LEAD.csv?dl=1')  %>%\n",
        "  select(maxfwt, ageyrs, clumsi, Group,sex) %>%\n",
        "  filter(!is.na(maxfwt))"
      ],
      "metadata": {
        "id": "cI2Z2JgIvwlT",
        "colab": {
          "base_uri": "https://localhost:8080/"
        },
        "outputId": "44d1021a-75ba-4df7-a339-9df23dfc1709"
      },
      "execution_count": 1,
      "outputs": [
        {
          "output_type": "stream",
          "name": "stderr",
          "text": [
            "\n",
            "Attaching package: ‘dplyr’\n",
            "\n",
            "\n",
            "The following objects are masked from ‘package:stats’:\n",
            "\n",
            "    filter, lag\n",
            "\n",
            "\n",
            "The following objects are masked from ‘package:base’:\n",
            "\n",
            "    intersect, setdiff, setequal, union\n",
            "\n",
            "\n"
          ]
        }
      ]
    },
    {
      "cell_type": "code",
      "source": [
        "summary(lead)"
      ],
      "metadata": {
        "colab": {
          "base_uri": "https://localhost:8080/",
          "height": 260
        },
        "id": "QIuY0EWwlJik",
        "outputId": "18a731a9-d446-4b98-ae0b-ff9bc7b9e0b7"
      },
      "execution_count": 2,
      "outputs": [
        {
          "output_type": "display_data",
          "data": {
            "text/plain": [
              "     maxfwt          ageyrs         clumsi             Group          \n",
              " Min.   :13.00   Min.   : 5.08   Length:99          Length:99         \n",
              " 1st Qu.:46.00   1st Qu.: 7.21   Class :character   Class :character  \n",
              " Median :52.00   Median : 9.67   Mode  :character   Mode  :character  \n",
              " Mean   :51.96   Mean   :10.07                                        \n",
              " 3rd Qu.:59.00   3rd Qu.:12.75                                        \n",
              " Max.   :84.00   Max.   :15.92                                        \n",
              "     sex           \n",
              " Length:99         \n",
              " Class :character  \n",
              " Mode  :character  \n",
              "                   \n",
              "                   \n",
              "                   "
            ]
          },
          "metadata": {}
        }
      ]
    },
    {
      "cell_type": "markdown",
      "source": [
        "Recall the following relationship:"
      ],
      "metadata": {
        "id": "l9UsyvsC2RLB"
      }
    },
    {
      "cell_type": "code",
      "source": [
        "library(ggplot2)\n",
        "ggplot(data = lead,aes(x = Group, y = maxfwt)) +\n",
        "  geom_boxplot() +\n",
        "  stat_summary(fun='mean', col='red',geom='point') +\n",
        "    ylab('FWT score (taps/10 seconds)') +\n",
        "    facet_wrap(~clumsi)"
      ],
      "metadata": {
        "colab": {
          "base_uri": "https://localhost:8080/",
          "height": 437
        },
        "id": "OdRQ69N33Iix",
        "outputId": "0bd644d6-b843-4284-8ff5-8d6e52aa84d8"
      },
      "execution_count": 3,
      "outputs": [
        {
          "output_type": "display_data",
          "data": {
            "text/plain": [
              "plot without title"
            ],
            "image/png": "[encoded data removed]"
          },
          "metadata": {
            "image/png": {
              "width": 420,
              "height": 420
            }
          }
        }
      ]
    },
    {
      "cell_type": "markdown",
      "source": [
        "## The MLR model with interaction\n",
        "\n",
        "Recall we had fit the following model:\n",
        "$$E(Y|X_1,X_2) = \\beta_0 + \\beta_1 X_1 + \\beta_2 X_2 + \\beta_3 X_1\\cdot X_2$$\n",
        "\n",
        "* $X_1 = \\begin{cases}1; & \\mbox{lead exposure} \\geq 40 \\\\\n",
        "0; & \\mbox{lead exposure} < 40 \\end{cases}$\n",
        "\n",
        "\n",
        "* $X_2 = \\begin{cases}1; & \\mbox{clumsy}  \\\\\n",
        "0; & \\mbox{not clumsy} \\end{cases}$"
      ],
      "metadata": {
        "id": "gRNuttky-LFj"
      }
    },
    {
      "cell_type": "markdown",
      "source": [
        "Fitting the model in R:"
      ],
      "metadata": {
        "id": "VKOUjHdv_6oM"
      }
    },
    {
      "cell_type": "code",
      "source": [
        "group_clumsi_fit <- lm(maxfwt~Group + clumsi+Group*clumsi, data = lead)\n",
        "summary(group_clumsi_fit)"
      ],
      "metadata": {
        "colab": {
          "base_uri": "https://localhost:8080/",
          "height": 364
        },
        "id": "6nIKoN5w_e_5",
        "outputId": "dfda0ddc-13f8-4305-e0b2-1873f5e2099e"
      },
      "execution_count": 4,
      "outputs": [
        {
          "output_type": "display_data",
          "data": {
            "text/plain": [
              "\n",
              "Call:\n",
              "lm(formula = maxfwt ~ Group + clumsi + Group * clumsi, data = lead)\n",
              "\n",
              "Residuals:\n",
              "    Min      1Q  Median      3Q     Max \n",
              "-41.881  -6.341   1.119   7.119  36.133 \n",
              "\n",
              "Coefficients:\n",
              "                   Estimate Std. Error t value Pr(>|t|)    \n",
              "(Intercept)          54.881      1.626  33.743  < 2e-16 ***\n",
              "Group40+             -8.015      2.801  -2.861  0.00519 ** \n",
              "clumsiYes            -5.681      5.819  -0.976  0.33137    \n",
              "Group40+:clumsiYes    9.615      8.383   1.147  0.25430    \n",
              "---\n",
              "Signif. codes:  0 ‘***’ 0.001 ‘**’ 0.01 ‘*’ 0.05 ‘.’ 0.1 ‘ ’ 1\n",
              "\n",
              "Residual standard error: 12.49 on 95 degrees of freedom\n",
              "Multiple R-squared:  0.08212,\tAdjusted R-squared:  0.05314 \n",
              "F-statistic: 2.833 on 3 and 95 DF,  p-value: 0.04238\n"
            ]
          },
          "metadata": {}
        }
      ]
    },
    {
      "cell_type": "markdown",
      "source": [
        "## Motivating `emmeans`\n",
        "\n",
        "Suppose we want to test whether there is evidence for a significant difference in mean FWT score between the exposure groups, ***among clumsy children.***\n",
        "\n",
        "This involves testing:\n",
        "\n",
        "$$H_0: \\beta_1 + \\beta_3 = 0$$\n",
        "$$H_0: \\beta_1 + \\beta_3 \\ne 0$$\n",
        "\n",
        "* The `summary(model)` output shows us limited information about differences between groups.\n",
        "* If we want to test more nuanced contrasts, such as the impact of lead exposure among clumsy children, we need to set up the means themselves."
      ],
      "metadata": {
        "id": "cQkVLg3VDSNv"
      }
    },
    {
      "cell_type": "markdown",
      "source": [
        "# Returning means and robust SE with `emmeans`\n",
        "\n",
        "* The `emmeans` package is an extremely useful package for obtaining **E**stimated **M**arginal **Means**, and facilitating contrasts between them\n",
        "* We can also use robust, heteroskedastic sandwich SE estimates = huge bonus!! (Do have to have the `sandwich` package loaded first.)"
      ],
      "metadata": {
        "id": "ZHzSb7e9ErpR"
      }
    },
    {
      "cell_type": "code",
      "source": [
        "install.packages('sandwich')\n",
        "library(sandwich)"
      ],
      "metadata": {
        "colab": {
          "base_uri": "https://localhost:8080/"
        },
        "id": "xwsIHSelzMvo",
        "outputId": "abda1194-b02c-4977-d41e-2a9f294e2711"
      },
      "execution_count": 5,
      "outputs": [
        {
          "output_type": "stream",
          "name": "stderr",
          "text": [
            "Installing package into ‘/usr/local/lib/R/site-library’\n",
            "(as ‘lib’ is unspecified)\n",
            "\n",
            "also installing the dependency ‘zoo’\n",
            "\n",
            "\n"
          ]
        }
      ]
    },
    {
      "cell_type": "code",
      "source": [
        "install.packages('emmeans')\n",
        "library(emmeans)"
      ],
      "metadata": {
        "colab": {
          "base_uri": "https://localhost:8080/"
        },
        "id": "vYRolu4NFOhA",
        "outputId": "ad02cecd-56ce-421c-abb3-4690ef9ffe1d"
      },
      "execution_count": 6,
      "outputs": [
        {
          "output_type": "stream",
          "name": "stderr",
          "text": [
            "Installing package into ‘/usr/local/lib/R/site-library’\n",
            "(as ‘lib’ is unspecified)\n",
            "\n",
            "also installing the dependencies ‘estimability’, ‘numDeriv’, ‘mvtnorm’\n",
            "\n",
            "\n",
            "Welcome to emmeans.\n",
            "Caution: You lose important information if you filter this package's results.\n",
            "See '? untidy'\n",
            "\n"
          ]
        }
      ]
    },
    {
      "cell_type": "markdown",
      "source": [
        "Some important arguments:\n",
        "\n",
        "* A model fit object\n",
        "* `specs`; the variables for which you want means calculated.  A right-sided formula.  Required. If an interaction is specified in the model it does *not* need to be re-specified; imagine this more like specifying the grouping variables in `dplyr`.\n",
        "* `vcov.`; either a covariance matrix or a function call to create a covariance matrix.  \n",
        "\n",
        "\n",
        "Before we dive into `emmeans` though let's actually find grouped average and standard deviation of `maxfwt` scores using `dplyr`."
      ],
      "metadata": {
        "id": "8X8Ngg5VFa4p"
      }
    },
    {
      "cell_type": "code",
      "source": [
        "lead %>%\n",
        "  group_by(Group, clumsi) %>%\n",
        "  summarize(avg.maxfwt = mean(maxfwt, na.rm=TRUE), sd.maxfwt = sd(maxfwt, na.rm=TRUE), sampsize =  n())"
      ],
      "metadata": {
        "colab": {
          "base_uri": "https://localhost:8080/",
          "height": 258
        },
        "id": "UKn3lh4lGK6M",
        "outputId": "31946dcd-fca4-4e29-972f-3a8fdc264118"
      },
      "execution_count": 7,
      "outputs": [
        {
          "output_type": "stream",
          "name": "stderr",
          "text": [
            "\u001b[1m\u001b[22m`summarise()` has grouped output by 'Group'. You can override using the\n",
            "`.groups` argument.\n"
          ]
        },
        {
          "output_type": "display_data",
          "data": {
            "text/html": [
              "<table class=\"dataframe\">\n",
              "<caption>A grouped_df: 4 × 5</caption>\n",
              "<thead>\n",
              "\t<tr><th scope=col>Group</th><th scope=col>clumsi</th><th scope=col>avg.maxfwt</th><th scope=col>sd.maxfwt</th><th scope=col>sampsize</th></tr>\n",
              "\t<tr><th scope=col>&lt;chr&gt;</th><th scope=col>&lt;chr&gt;</th><th scope=col>&lt;dbl&gt;</th><th scope=col>&lt;dbl&gt;</th><th scope=col>&lt;int&gt;</th></tr>\n",
              "</thead>\n",
              "<tbody>\n",
              "\t<tr><td>40+</td><td>No </td><td>46.86667</td><td>13.860719</td><td>30</td></tr>\n",
              "\t<tr><td>40+</td><td>Yes</td><td>50.80000</td><td> 7.854935</td><td> 5</td></tr>\n",
              "\t<tr><td>&lt;40</td><td>No </td><td>54.88136</td><td>11.862844</td><td>59</td></tr>\n",
              "\t<tr><td>&lt;40</td><td>Yes</td><td>49.20000</td><td>14.549914</td><td> 5</td></tr>\n",
              "</tbody>\n",
              "</table>\n"
            ],
            "text/markdown": "\nA grouped_df: 4 × 5\n\n| Group &lt;chr&gt; | clumsi &lt;chr&gt; | avg.maxfwt &lt;dbl&gt; | sd.maxfwt &lt;dbl&gt; | sampsize &lt;int&gt; |\n|---|---|---|---|---|\n| 40+ | No  | 46.86667 | 13.860719 | 30 |\n| 40+ | Yes | 50.80000 |  7.854935 |  5 |\n| &lt;40 | No  | 54.88136 | 11.862844 | 59 |\n| &lt;40 | Yes | 49.20000 | 14.549914 |  5 |\n\n",
            "text/latex": "A grouped\\_df: 4 × 5\n\\begin{tabular}{lllll}\n Group & clumsi & avg.maxfwt & sd.maxfwt & sampsize\\\\\n <chr> & <chr> & <dbl> & <dbl> & <int>\\\\\n\\hline\n\t 40+ & No  & 46.86667 & 13.860719 & 30\\\\\n\t 40+ & Yes & 50.80000 &  7.854935 &  5\\\\\n\t <40 & No  & 54.88136 & 11.862844 & 59\\\\\n\t <40 & Yes & 49.20000 & 14.549914 &  5\\\\\n\\end{tabular}\n",
            "text/plain": [
              "  Group clumsi avg.maxfwt sd.maxfwt sampsize\n",
              "1 40+   No     46.86667   13.860719 30      \n",
              "2 40+   Yes    50.80000    7.854935  5      \n",
              "3 <40   No     54.88136   11.862844 59      \n",
              "4 <40   Yes    49.20000   14.549914  5      "
            ]
          },
          "metadata": {}
        }
      ]
    },
    {
      "cell_type": "markdown",
      "source": [
        "**QUESTION:** what does this output suggest regarding whether the \"constant variance\" assumption is satisfied?"
      ],
      "metadata": {
        "id": "H6ToD3G7otE1"
      }
    },
    {
      "cell_type": "code",
      "source": [
        "# Does not appear to satisfied, note that 7.85 is about half as big as 14.55"
      ],
      "metadata": {
        "id": "OJIPZC-Z3Njd"
      },
      "execution_count": 8,
      "outputs": []
    },
    {
      "cell_type": "markdown",
      "source": [
        "Averaging across clumsiness levels:"
      ],
      "metadata": {
        "id": "pPkkbNNmI4Pr"
      }
    },
    {
      "cell_type": "code",
      "source": [
        "lead %>%\n",
        "  group_by(Group) %>%\n",
        "  summarize(avg.maxfwt = mean(maxfwt, na.rm=TRUE), sampsize =  n())"
      ],
      "metadata": {
        "colab": {
          "base_uri": "https://localhost:8080/",
          "height": 161
        },
        "id": "wYBXbJYfI77V",
        "outputId": "1e46f7d3-5ef7-40d8-d2a3-4785d2981a22"
      },
      "execution_count": 9,
      "outputs": [
        {
          "output_type": "display_data",
          "data": {
            "text/html": [
              "<table class=\"dataframe\">\n",
              "<caption>A tibble: 2 × 3</caption>\n",
              "<thead>\n",
              "\t<tr><th scope=col>Group</th><th scope=col>avg.maxfwt</th><th scope=col>sampsize</th></tr>\n",
              "\t<tr><th scope=col>&lt;chr&gt;</th><th scope=col>&lt;dbl&gt;</th><th scope=col>&lt;int&gt;</th></tr>\n",
              "</thead>\n",
              "<tbody>\n",
              "\t<tr><td>40+</td><td>47.42857</td><td>35</td></tr>\n",
              "\t<tr><td>&lt;40</td><td>54.43750</td><td>64</td></tr>\n",
              "</tbody>\n",
              "</table>\n"
            ],
            "text/markdown": "\nA tibble: 2 × 3\n\n| Group &lt;chr&gt; | avg.maxfwt &lt;dbl&gt; | sampsize &lt;int&gt; |\n|---|---|---|\n| 40+ | 47.42857 | 35 |\n| &lt;40 | 54.43750 | 64 |\n\n",
            "text/latex": "A tibble: 2 × 3\n\\begin{tabular}{lll}\n Group & avg.maxfwt & sampsize\\\\\n <chr> & <dbl> & <int>\\\\\n\\hline\n\t 40+ & 47.42857 & 35\\\\\n\t <40 & 54.43750 & 64\\\\\n\\end{tabular}\n",
            "text/plain": [
              "  Group avg.maxfwt sampsize\n",
              "1 40+   47.42857   35      \n",
              "2 <40   54.43750   64      "
            ]
          },
          "metadata": {}
        }
      ]
    },
    {
      "cell_type": "markdown",
      "source": [
        "Now let's create the emmeans from the model, using `vcovHC` so as to use robust standard error estimates.\n"
      ],
      "metadata": {
        "id": "gtAclkINz_7W"
      }
    },
    {
      "cell_type": "code",
      "source": [
        "group_clumsi_emmobj <- emmeans(group_clumsi_fit, specs = ~ Group + clumsi, vcov. = vcovHC) # vovHC = allows different standard erros (non-constant)\n",
        "group_clumsi_emmobj"
      ],
      "metadata": {
        "colab": {
          "base_uri": "https://localhost:8080/",
          "height": 138
        },
        "id": "R8Mn3NP4FRxH",
        "outputId": "f4f932d4-f32e-498b-be35-85764523c985"
      },
      "execution_count": 10,
      "outputs": [
        {
          "output_type": "display_data",
          "data": {
            "text/plain": [
              " Group clumsi emmean   SE df lower.CL upper.CL\n",
              " <40   No       54.9 1.56 95     51.8     58.0\n",
              " 40+   No       46.9 2.57 95     41.8     52.0\n",
              " <40   Yes      49.2 7.27 95     34.8     63.6\n",
              " 40+   Yes      50.8 3.93 95     43.0     58.6\n",
              "\n",
              "Confidence level used: 0.95 "
            ]
          },
          "metadata": {}
        }
      ]
    },
    {
      "cell_type": "code",
      "source": [
        "(54.9 + 49.2)/2"
      ],
      "metadata": {
        "colab": {
          "base_uri": "https://localhost:8080/",
          "height": 34
        },
        "id": "QJmQquRs4W8D",
        "outputId": "bfb9ed71-2bfc-4e5b-a1bc-6241625914fe"
      },
      "execution_count": 11,
      "outputs": [
        {
          "output_type": "display_data",
          "data": {
            "text/html": [
              "52.05"
            ],
            "text/markdown": "52.05",
            "text/latex": "52.05",
            "text/plain": [
              "[1] 52.05"
            ]
          },
          "metadata": {}
        }
      ]
    },
    {
      "cell_type": "code",
      "source": [
        "(46.9 + 50.8)/2"
      ],
      "metadata": {
        "colab": {
          "base_uri": "https://localhost:8080/",
          "height": 34
        },
        "id": "FOdDibGi4a0E",
        "outputId": "645c7262-6570-4877-f194-9a3ea5bb2ec9"
      },
      "execution_count": 12,
      "outputs": [
        {
          "output_type": "display_data",
          "data": {
            "text/html": [
              "48.85"
            ],
            "text/markdown": "48.85",
            "text/latex": "48.85",
            "text/plain": [
              "[1] 48.85"
            ]
          },
          "metadata": {}
        }
      ]
    },
    {
      "cell_type": "code",
      "source": [
        "# When you average the average, you have to weight the smpale size!!!\n",
        "# emmeans does NOT weight the sample size\n",
        "?emmeans"
      ],
      "metadata": {
        "id": "n4QA_8p742gf"
      },
      "execution_count": 13,
      "outputs": []
    },
    {
      "cell_type": "markdown",
      "source": [
        "Note how this differs if we change the specs:"
      ],
      "metadata": {
        "id": "CzEvTnrxHMRK"
      }
    },
    {
      "cell_type": "code",
      "source": [
        "emmeans(group_clumsi_fit, specs = ~ Group, vcov. = vcovHC)"
      ],
      "metadata": {
        "colab": {
          "base_uri": "https://localhost:8080/",
          "height": 156
        },
        "id": "HrPTPLu1HQNZ",
        "outputId": "eee51a69-cf15-48b5-c5ae-9600f4be7ffe"
      },
      "execution_count": 14,
      "outputs": [
        {
          "output_type": "stream",
          "name": "stderr",
          "text": [
            "NOTE: Results may be misleading due to involvement in interactions\n",
            "\n"
          ]
        },
        {
          "output_type": "display_data",
          "data": {
            "text/plain": [
              " Group emmean   SE df lower.CL upper.CL\n",
              " <40     52.0 3.72 95     44.7     59.4\n",
              " 40+     48.8 2.35 95     44.2     53.5\n",
              "\n",
              "Results are averaged over the levels of: clumsi \n",
              "Confidence level used: 0.95 "
            ]
          },
          "metadata": {}
        }
      ]
    },
    {
      "cell_type": "markdown",
      "source": [
        "Recall the summaries we obtained earlier:"
      ],
      "metadata": {
        "id": "z6IVBGxtfe3w"
      }
    },
    {
      "cell_type": "code",
      "source": [
        "#Averaging across group only:\n",
        "lead %>%\n",
        "  group_by(Group) %>%\n",
        "  summarize(avg.maxfwt = mean(maxfwt, na.rm=TRUE), sampsize =  n())"
      ],
      "metadata": {
        "colab": {
          "base_uri": "https://localhost:8080/",
          "height": 161
        },
        "id": "p4kApMq2fh-E",
        "outputId": "725c4833-2255-4eeb-a86c-e4afade7c443"
      },
      "execution_count": 15,
      "outputs": [
        {
          "output_type": "display_data",
          "data": {
            "text/html": [
              "<table class=\"dataframe\">\n",
              "<caption>A tibble: 2 × 3</caption>\n",
              "<thead>\n",
              "\t<tr><th scope=col>Group</th><th scope=col>avg.maxfwt</th><th scope=col>sampsize</th></tr>\n",
              "\t<tr><th scope=col>&lt;chr&gt;</th><th scope=col>&lt;dbl&gt;</th><th scope=col>&lt;int&gt;</th></tr>\n",
              "</thead>\n",
              "<tbody>\n",
              "\t<tr><td>40+</td><td>47.42857</td><td>35</td></tr>\n",
              "\t<tr><td>&lt;40</td><td>54.43750</td><td>64</td></tr>\n",
              "</tbody>\n",
              "</table>\n"
            ],
            "text/markdown": "\nA tibble: 2 × 3\n\n| Group &lt;chr&gt; | avg.maxfwt &lt;dbl&gt; | sampsize &lt;int&gt; |\n|---|---|---|\n| 40+ | 47.42857 | 35 |\n| &lt;40 | 54.43750 | 64 |\n\n",
            "text/latex": "A tibble: 2 × 3\n\\begin{tabular}{lll}\n Group & avg.maxfwt & sampsize\\\\\n <chr> & <dbl> & <int>\\\\\n\\hline\n\t 40+ & 47.42857 & 35\\\\\n\t <40 & 54.43750 & 64\\\\\n\\end{tabular}\n",
            "text/plain": [
              "  Group avg.maxfwt sampsize\n",
              "1 40+   47.42857   35      \n",
              "2 <40   54.43750   64      "
            ]
          },
          "metadata": {}
        }
      ]
    },
    {
      "cell_type": "code",
      "source": [
        "#Averaging across both group and clumsiness status:\n",
        "lead %>%\n",
        "  group_by(Group, clumsi) %>%\n",
        "  summarize(avg.maxfwt = mean(maxfwt, na.rm=TRUE), sampsize =  n())"
      ],
      "metadata": {
        "colab": {
          "base_uri": "https://localhost:8080/",
          "height": 258
        },
        "id": "IbqFbTF9foZe",
        "outputId": "8a11aafa-82d3-4e26-946d-f26dfaea61af"
      },
      "execution_count": 16,
      "outputs": [
        {
          "output_type": "stream",
          "name": "stderr",
          "text": [
            "\u001b[1m\u001b[22m`summarise()` has grouped output by 'Group'. You can override using the\n",
            "`.groups` argument.\n"
          ]
        },
        {
          "output_type": "display_data",
          "data": {
            "text/html": [
              "<table class=\"dataframe\">\n",
              "<caption>A grouped_df: 4 × 4</caption>\n",
              "<thead>\n",
              "\t<tr><th scope=col>Group</th><th scope=col>clumsi</th><th scope=col>avg.maxfwt</th><th scope=col>sampsize</th></tr>\n",
              "\t<tr><th scope=col>&lt;chr&gt;</th><th scope=col>&lt;chr&gt;</th><th scope=col>&lt;dbl&gt;</th><th scope=col>&lt;int&gt;</th></tr>\n",
              "</thead>\n",
              "<tbody>\n",
              "\t<tr><td>40+</td><td>No </td><td>46.86667</td><td>30</td></tr>\n",
              "\t<tr><td>40+</td><td>Yes</td><td>50.80000</td><td> 5</td></tr>\n",
              "\t<tr><td>&lt;40</td><td>No </td><td>54.88136</td><td>59</td></tr>\n",
              "\t<tr><td>&lt;40</td><td>Yes</td><td>49.20000</td><td> 5</td></tr>\n",
              "</tbody>\n",
              "</table>\n"
            ],
            "text/markdown": "\nA grouped_df: 4 × 4\n\n| Group &lt;chr&gt; | clumsi &lt;chr&gt; | avg.maxfwt &lt;dbl&gt; | sampsize &lt;int&gt; |\n|---|---|---|---|\n| 40+ | No  | 46.86667 | 30 |\n| 40+ | Yes | 50.80000 |  5 |\n| &lt;40 | No  | 54.88136 | 59 |\n| &lt;40 | Yes | 49.20000 |  5 |\n\n",
            "text/latex": "A grouped\\_df: 4 × 4\n\\begin{tabular}{llll}\n Group & clumsi & avg.maxfwt & sampsize\\\\\n <chr> & <chr> & <dbl> & <int>\\\\\n\\hline\n\t 40+ & No  & 46.86667 & 30\\\\\n\t 40+ & Yes & 50.80000 &  5\\\\\n\t <40 & No  & 54.88136 & 59\\\\\n\t <40 & Yes & 49.20000 &  5\\\\\n\\end{tabular}\n",
            "text/plain": [
              "  Group clumsi avg.maxfwt sampsize\n",
              "1 40+   No     46.86667   30      \n",
              "2 40+   Yes    50.80000    5      \n",
              "3 <40   No     54.88136   59      \n",
              "4 <40   Yes    49.20000    5      "
            ]
          },
          "metadata": {}
        }
      ]
    },
    {
      "cell_type": "markdown",
      "source": [
        "**Question**:\n",
        "\n",
        "* How do the estimated marginal means from `emmeans()` compare to these summaries?\n",
        "* Why are they different, and how *are* these being calculated?"
      ],
      "metadata": {
        "id": "m5tkaHMGJEXA"
      }
    },
    {
      "cell_type": "markdown",
      "source": [
        "By defaults, `weights = 'equal'`. ***Only appropriate if sample sizes are the same!!***  To appropriately account for the differences in sample sizes we should set `weights = 'cells'` when averaging across another grouping variable.\n"
      ],
      "metadata": {
        "id": "US4aCL-gJLFL"
      }
    },
    {
      "cell_type": "code",
      "source": [
        "(emobj <- emmeans(group_clumsi_fit, specs = ~ Group, vcov. = vcovHC, weights = 'cells'))"
      ],
      "metadata": {
        "colab": {
          "base_uri": "https://localhost:8080/",
          "height": 156
        },
        "id": "67DnBVIeJZAS",
        "outputId": "9bcbc154-5957-4e78-ef66-f63cc8c68ff7"
      },
      "execution_count": 17,
      "outputs": [
        {
          "output_type": "stream",
          "name": "stderr",
          "text": [
            "NOTE: Results may be misleading due to involvement in interactions\n",
            "\n"
          ]
        },
        {
          "output_type": "display_data",
          "data": {
            "text/plain": [
              " Group emmean   SE df lower.CL upper.CL\n",
              " <40     54.4 1.54 95     51.4     57.5\n",
              " 40+     47.4 2.28 95     42.9     51.9\n",
              "\n",
              "Results are averaged over the levels of: clumsi \n",
              "Confidence level used: 0.95 "
            ]
          },
          "metadata": {}
        }
      ]
    },
    {
      "cell_type": "code",
      "source": [
        "summary(emobj)"
      ],
      "metadata": {
        "colab": {
          "base_uri": "https://localhost:8080/",
          "height": 161
        },
        "id": "4RW7WeIbmE0f",
        "outputId": "7acbe832-04b6-46dc-e436-d34deed082ad"
      },
      "execution_count": 18,
      "outputs": [
        {
          "output_type": "display_data",
          "data": {
            "text/html": [
              "<table class=\"dataframe\">\n",
              "<caption>A summary_emm: 2 × 6</caption>\n",
              "<thead>\n",
              "\t<tr><th></th><th scope=col>Group</th><th scope=col>emmean</th><th scope=col>SE</th><th scope=col>df</th><th scope=col>lower.CL</th><th scope=col>upper.CL</th></tr>\n",
              "\t<tr><th></th><th scope=col>&lt;fct&gt;</th><th scope=col>&lt;dbl&gt;</th><th scope=col>&lt;dbl&gt;</th><th scope=col>&lt;dbl&gt;</th><th scope=col>&lt;dbl&gt;</th><th scope=col>&lt;dbl&gt;</th></tr>\n",
              "</thead>\n",
              "<tbody>\n",
              "\t<tr><th scope=row>1</th><td>&lt;40</td><td>54.43750</td><td>1.544362</td><td>95</td><td>51.37155</td><td>57.50345</td></tr>\n",
              "\t<tr><th scope=row>2</th><td>40+</td><td>47.42857</td><td>2.276402</td><td>95</td><td>42.90934</td><td>51.94780</td></tr>\n",
              "</tbody>\n",
              "</table>\n"
            ],
            "text/markdown": "\nA summary_emm: 2 × 6\n\n| <!--/--> | Group &lt;fct&gt; | emmean &lt;dbl&gt; | SE &lt;dbl&gt; | df &lt;dbl&gt; | lower.CL &lt;dbl&gt; | upper.CL &lt;dbl&gt; |\n|---|---|---|---|---|---|---|\n| 1 | &lt;40 | 54.43750 | 1.544362 | 95 | 51.37155 | 57.50345 |\n| 2 | 40+ | 47.42857 | 2.276402 | 95 | 42.90934 | 51.94780 |\n\n",
            "text/latex": "A summary\\_emm: 2 × 6\n\\begin{tabular}{r|llllll}\n  & Group & emmean & SE & df & lower.CL & upper.CL\\\\\n  & <fct> & <dbl> & <dbl> & <dbl> & <dbl> & <dbl>\\\\\n\\hline\n\t1 & <40 & 54.43750 & 1.544362 & 95 & 51.37155 & 57.50345\\\\\n\t2 & 40+ & 47.42857 & 2.276402 & 95 & 42.90934 & 51.94780\\\\\n\\end{tabular}\n",
            "text/plain": [
              "  Group emmean   SE       df lower.CL upper.CL\n",
              "1 <40   54.43750 1.544362 95 51.37155 57.50345\n",
              "2 40+   47.42857 2.276402 95 42.90934 51.94780"
            ]
          },
          "metadata": {}
        }
      ]
    },
    {
      "cell_type": "markdown",
      "source": [
        "***I cannot think of a reason you would ever want to use `weights='equal'`; always use `weights='cells'` if another factor variable is involved and you want to average over that factor to accurate group-specific averages.***"
      ],
      "metadata": {
        "id": "jgwWPoy854F-"
      }
    },
    {
      "cell_type": "markdown",
      "source": [
        "We can use the `at=` command to specify for which values of `clumsi` we want `Group` means calculated.  This is especially useful for looking at means when you have models involving a quantitative variable (more later):"
      ],
      "metadata": {
        "id": "zdS_ag0CHps4"
      }
    },
    {
      "cell_type": "code",
      "source": [
        "emmeans(group_clumsi_fit, specs = ~ Group, vcov. = vcovHC, at = list(clumsi = c('No')))"
      ],
      "metadata": {
        "colab": {
          "base_uri": "https://localhost:8080/",
          "height": 138
        },
        "id": "j9QO0ITuHuBE",
        "outputId": "283557ff-d835-434b-dc02-a5545f40a82a"
      },
      "execution_count": 19,
      "outputs": [
        {
          "output_type": "stream",
          "name": "stderr",
          "text": [
            "NOTE: Results may be misleading due to involvement in interactions\n",
            "\n"
          ]
        },
        {
          "output_type": "display_data",
          "data": {
            "text/plain": [
              " Group emmean   SE df lower.CL upper.CL\n",
              " <40     54.9 1.56 95     51.8       58\n",
              " 40+     46.9 2.57 95     41.8       52\n",
              "\n",
              "Confidence level used: 0.95 "
            ]
          },
          "metadata": {}
        }
      ]
    },
    {
      "cell_type": "code",
      "source": [
        "emmeans(group_clumsi_fit, specs = ~ Group, vcov. = vcovHC, at = list(clumsi = c('Yes')))"
      ],
      "metadata": {
        "colab": {
          "base_uri": "https://localhost:8080/",
          "height": 138
        },
        "id": "-aLrFvn6H84L",
        "outputId": "049c67e1-399b-4bcc-bdf5-6448f949a43b"
      },
      "execution_count": 20,
      "outputs": [
        {
          "output_type": "stream",
          "name": "stderr",
          "text": [
            "NOTE: Results may be misleading due to involvement in interactions\n",
            "\n"
          ]
        },
        {
          "output_type": "display_data",
          "data": {
            "text/plain": [
              " Group emmean   SE df lower.CL upper.CL\n",
              " <40     49.2 7.27 95     34.8     63.6\n",
              " 40+     50.8 3.93 95     43.0     58.6\n",
              "\n",
              "Confidence level used: 0.95 "
            ]
          },
          "metadata": {}
        }
      ]
    },
    {
      "cell_type": "code",
      "source": [
        "emmeans(group_clumsi_fit, specs = ~ Group | vcov. = vcovHC)"
      ],
      "metadata": {
        "colab": {
          "base_uri": "https://localhost:8080/",
          "height": 106
        },
        "id": "BjwJrT8o5qD2",
        "outputId": "e70ab9f2-c8e3-4eed-bf14-42918866ae21"
      },
      "execution_count": 21,
      "outputs": [
        {
          "output_type": "error",
          "ename": "ERROR",
          "evalue": "Error in parse(text = input): <text>:1:51: unexpected '='\n1: emmeans(group_clumsi_fit, specs = ~ Group | vcov. =\n                                                      ^\n",
          "traceback": [
            "Error in parse(text = input): <text>:1:51: unexpected '='\n1: emmeans(group_clumsi_fit, specs = ~ Group | vcov. =\n                                                      ^\nTraceback:\n"
          ]
        }
      ]
    },
    {
      "cell_type": "markdown",
      "source": [
        "# Testing linear combinations\n",
        "\n",
        "Consider the following:\n",
        "\n",
        "1. Does average FWT score differ by exposure group, among children who are not clumsy?\n",
        "2. Does average FWT score differ by exposure group, among children who are clumsy?\n",
        "\n",
        "In terms of the `emmeans()` output:"
      ],
      "metadata": {
        "id": "WEa2eE7z0YcR"
      }
    },
    {
      "cell_type": "code",
      "source": [
        "group_clumsi_emmobj"
      ],
      "metadata": {
        "id": "Hj7Rf5tYw1IN"
      },
      "execution_count": null,
      "outputs": []
    },
    {
      "cell_type": "markdown",
      "source": [
        "* We are testing:\n",
        "\n",
        "1. $H_0: \\mu_1 - \\mu_2 = 0$\n",
        "2. $H_0: \\mu_3 - \\mu_4 = 0$\n",
        "\n",
        "* Each of these are *linear combinations* of the four means.  \n",
        "\n",
        "* Linear combinations are of the form:\n",
        "\n",
        "$$c_1 \\mu_1 + c_2 \\mu_2 + ... + c_k \\mu_k$$\n",
        "\n",
        "* Often, many of the $c_i = 0$ (if those means do not play a part in the question of interest)"
      ],
      "metadata": {
        "id": "bWP1bZsOw0Lv"
      }
    },
    {
      "cell_type": "markdown",
      "source": [
        "## Write out the $c_i$\n",
        "\n",
        "* Does average max FWT score differ by exposure group, among children who are not clumsy?\n",
        "  - (1, -1, 0, 0)\n",
        "* Does average max FWT score differ by exposure group, among children who are clumsy?\n",
        "  - (0, 0, 1, -1)"
      ],
      "metadata": {
        "id": "SIGWQrZFD3Px"
      }
    },
    {
      "cell_type": "markdown",
      "source": [
        "## The `contrast()` function in `emmeans`\n",
        "\n",
        "After creating an object with `emmeans()` we can specify contrasts using the `contrast()` function:"
      ],
      "metadata": {
        "id": "cuL1ToQ-EidE"
      }
    },
    {
      "cell_type": "code",
      "source": [
        "group_clumsi_emmobj"
      ],
      "metadata": {
        "id": "q2zGxJOawQTI"
      },
      "execution_count": null,
      "outputs": []
    },
    {
      "cell_type": "markdown",
      "source": [
        "Let's just show off some of the built-in contrasts; note that many of them come with default adjustments for multiple comparisons (can change with the `adjust=`) option:"
      ],
      "metadata": {
        "id": "CexC7F3XxkPh"
      }
    },
    {
      "cell_type": "code",
      "source": [
        "#Default method = 'eff', constrasting each mean to the \"mean of the means\":\n",
        "contrast(group_clumsi_emmobj)"
      ],
      "metadata": {
        "id": "2DM6565N4yog"
      },
      "execution_count": null,
      "outputs": []
    },
    {
      "cell_type": "code",
      "source": [
        "#All pairwise comparisons; Tukey adjustment used automatically\n",
        "contrast(group_clumsi_emmobj, method = 'pairwise')"
      ],
      "metadata": {
        "id": "ek-Q8nNPvrEJ"
      },
      "execution_count": null,
      "outputs": []
    },
    {
      "cell_type": "markdown",
      "source": [
        "We can specify our own contrasts with a list of vectors:"
      ],
      "metadata": {
        "id": "bdfGJL5a5S0h"
      }
    },
    {
      "cell_type": "code",
      "source": [
        "#Customized contrast:\n",
        "contrast(group_clumsi_emmobj, method=list('Lead exposure diff: not clumsy' = c(1,-1,0,0),\n",
        "                                          'Lead exposure diff: clumsy' = c(0,0,1,-1)))"
      ],
      "metadata": {
        "id": "aMoX0NcHwJLa"
      },
      "execution_count": null,
      "outputs": []
    },
    {
      "cell_type": "code",
      "source": [
        "#With a Bonferonni correction:\n",
        "contrast(group_clumsi_emmobj, method=list('Lead exposure diff: not clumsy' = c(1,-1,0,0),\n",
        "                                          'Lead exposure diff: clumsy' = c(0,0,1,-1)),\n",
        "                                          adjust = 'Bonferroni')"
      ],
      "metadata": {
        "id": "r-NDr-QF6KhY"
      },
      "execution_count": null,
      "outputs": []
    },
    {
      "cell_type": "markdown",
      "source": [
        "**The Bonferroni correction is a statistical adjustment used to counteract the problem of multiple comparisons. It is applied when conducting multiple hypothesis tests simultaneously to reduce the likelihood of obtaining false-positive results (Type I errors).**\n",
        "\n",
        "When multiple statistical tests are performed, the probability of making at least one Type I error increases with the number of tests. If you conduct 10 independent tests, the probability of making at least one false-positive result becomes\n",
        "\n",
        "1−(1−0.05)^10 ≈ 0.40 ≈ 0.40, or 40%.\n",
        "\n",
        "The Bonferroni correction adjusts for this by making the criteria for significance stricter. Specifically, it divides the overall significance level (α) by the number of tests (n) being performed.For example, if you are performing 10 tests with an overall 𝛼 = 0.05, the Bonferroni-corrected significance level for each individual test is:\n",
        "\n",
        "𝛼_adjusted = 0.05 / 10 = 0.005"
      ],
      "metadata": {
        "id": "SCfUzBdZ0xl_"
      }
    },
    {
      "cell_type": "markdown",
      "source": [
        "Alternatively, we can perform `pairwise` comparisons for each level of `clumsi`:"
      ],
      "metadata": {
        "id": "RIjWYUkE6VtT"
      }
    },
    {
      "cell_type": "code",
      "source": [
        "(clumsi_contrasts <- contrast(group_clumsi_emmobj, method='pairwise', by = 'clumsi'))"
      ],
      "metadata": {
        "id": "W8Oh-tL6wJjT"
      },
      "execution_count": null,
      "outputs": []
    },
    {
      "cell_type": "markdown",
      "source": [
        "We can extract the contrast coefficients being used and compare them to the ones we input manually:"
      ],
      "metadata": {
        "id": "hkqM8DOG8poA"
      }
    },
    {
      "cell_type": "code",
      "source": [
        "coef(clumsi_contrasts)"
      ],
      "metadata": {
        "id": "JvGRh0r-8n8v"
      },
      "execution_count": null,
      "outputs": []
    },
    {
      "cell_type": "markdown",
      "source": [
        "Another approach is to redefine the formula in the `emmeans()` step, so that `clumsi` is already considered a higher-order grouping variable:"
      ],
      "metadata": {
        "id": "E8tuHsY87rFl"
      }
    },
    {
      "cell_type": "code",
      "source": [
        "group_clumsi_emobj2 <- emmeans(group_clumsi_fit, ~Group|clumsi, vcov.=vcovHC)\n",
        "group_clumsi_emobj2"
      ],
      "metadata": {
        "id": "Xz3kAaEj7y_Z"
      },
      "execution_count": null,
      "outputs": []
    },
    {
      "cell_type": "markdown",
      "source": [
        "Then we use pairwise contrasts, which will be performed at the level of the higher-order grouping variable:"
      ],
      "metadata": {
        "id": "iKEqZG2Y6KNf"
      }
    },
    {
      "cell_type": "code",
      "source": [
        "contrast(group_clumsi_emobj2, method='pairwise')"
      ],
      "metadata": {
        "id": "tMZiA7Yc73km"
      },
      "execution_count": null,
      "outputs": []
    },
    {
      "cell_type": "markdown",
      "source": [
        "Confidence intervals for contrasts can be obtained using the `confint()` function:"
      ],
      "metadata": {
        "id": "a-krCWzw63UV"
      }
    },
    {
      "cell_type": "code",
      "source": [
        "get_contrasts <- contrast(group_clumsi_emobj2, method='pairwise')\n",
        "confint(get_contrasts)"
      ],
      "metadata": {
        "id": "q1cf4G3z67BE"
      },
      "execution_count": null,
      "outputs": []
    },
    {
      "cell_type": "code",
      "source": [
        "## Doing a big ol' pipe for everything\n",
        "\n",
        "(group_clumsi_fit\n",
        "  %>% emmeans(specs = ~Group|clumsi, vcov.=vcovHC)\n",
        "  #%>% contrast(method='pairwise', adjust='Bonferroni', by = 'clumsi')\n",
        "  %>% contrast(method=list('Lead exposure diff: not clumsy' = c(1,-1,0,0),\n",
        "                                          'Lead exposure diff: clumsy' = c(0,0,1,-1)),\n",
        "                                          adjust = 'Bonferroni')\n",
        " # %>% confint()\n",
        ")"
      ],
      "metadata": {
        "id": "Tv1s4jbM8Yqr"
      },
      "execution_count": null,
      "outputs": []
    },
    {
      "cell_type": "code",
      "source": [
        "# big pipe\n",
        "# 2 ways to get the same result\n",
        "\n",
        "(\n",
        "  group_clumsi_fit\n",
        "    %>% emmeans(specs = ~Group|clumsi, vcov.=vcovHC)\n",
        "    %>% contrast(method = 'pairwise')\n",
        "    #%>% contrast(method = list(c(0,0,1,-1)))\n",
        "    %>% confint\n",
        ")"
      ],
      "metadata": {
        "colab": {
          "base_uri": "https://localhost:8080/",
          "height": 161
        },
        "id": "5R-XlecsfRSi",
        "outputId": "e9c53d6f-4853-4e56-fa0e-038a86e090a4"
      },
      "execution_count": 28,
      "outputs": [
        {
          "output_type": "display_data",
          "data": {
            "text/html": [
              "<table class=\"dataframe\">\n",
              "<caption>A summary_emm: 2 × 7</caption>\n",
              "<thead>\n",
              "\t<tr><th></th><th scope=col>contrast</th><th scope=col>clumsi</th><th scope=col>estimate</th><th scope=col>SE</th><th scope=col>df</th><th scope=col>lower.CL</th><th scope=col>upper.CL</th></tr>\n",
              "\t<tr><th></th><th scope=col>&lt;fct&gt;</th><th scope=col>&lt;fct&gt;</th><th scope=col>&lt;dbl&gt;</th><th scope=col>&lt;dbl&gt;</th><th scope=col>&lt;dbl&gt;</th><th scope=col>&lt;dbl&gt;</th><th scope=col>&lt;dbl&gt;</th></tr>\n",
              "</thead>\n",
              "<tbody>\n",
              "\t<tr><th scope=row>1</th><td>&lt;40 - (40+)</td><td>No </td><td> 8.014689</td><td>3.008511</td><td>95</td><td><span style=white-space:pre-wrap>  2.042039</span></td><td>13.98734</td></tr>\n",
              "\t<tr><th scope=row>2</th><td>&lt;40 - (40+)</td><td>Yes</td><td>-1.600000</td><td>8.267406</td><td>95</td><td>-18.012876</td><td>14.81288</td></tr>\n",
              "</tbody>\n",
              "</table>\n"
            ],
            "text/markdown": "\nA summary_emm: 2 × 7\n\n| <!--/--> | contrast &lt;fct&gt; | clumsi &lt;fct&gt; | estimate &lt;dbl&gt; | SE &lt;dbl&gt; | df &lt;dbl&gt; | lower.CL &lt;dbl&gt; | upper.CL &lt;dbl&gt; |\n|---|---|---|---|---|---|---|---|\n| 1 | &lt;40 - (40+) | No  |  8.014689 | 3.008511 | 95 |   2.042039 | 13.98734 |\n| 2 | &lt;40 - (40+) | Yes | -1.600000 | 8.267406 | 95 | -18.012876 | 14.81288 |\n\n",
            "text/latex": "A summary\\_emm: 2 × 7\n\\begin{tabular}{r|lllllll}\n  & contrast & clumsi & estimate & SE & df & lower.CL & upper.CL\\\\\n  & <fct> & <fct> & <dbl> & <dbl> & <dbl> & <dbl> & <dbl>\\\\\n\\hline\n\t1 & <40 - (40+) & No  &  8.014689 & 3.008511 & 95 &   2.042039 & 13.98734\\\\\n\t2 & <40 - (40+) & Yes & -1.600000 & 8.267406 & 95 & -18.012876 & 14.81288\\\\\n\\end{tabular}\n",
            "text/plain": [
              "  contrast    clumsi estimate  SE       df lower.CL   upper.CL\n",
              "1 <40 - (40+) No      8.014689 3.008511 95   2.042039 13.98734\n",
              "2 <40 - (40+) Yes    -1.600000 8.267406 95 -18.012876 14.81288"
            ]
          },
          "metadata": {}
        }
      ]
    },
    {
      "cell_type": "code",
      "source": [
        "# characterize the contrast . . . read below"
      ],
      "metadata": {
        "id": "FMhNi702gm-5"
      },
      "execution_count": null,
      "outputs": []
    },
    {
      "cell_type": "markdown",
      "source": [
        "## Conclusion summary (take note for HW assignments)\n",
        "\n",
        "* Among non-clumsy children,  the average FWT was 8 taps/10s higher in the low exposure group than in the high exposure group.  This is a statistically significant difference in the average FWT score comparing children with high and low lead exposures (p-value = 0.009; 95% CI: 2, 14)\n",
        "\n",
        "* Among clumsy children, the average FWT score was 1.6 taps/10s lower in the low exposure group than in the high exposure group.  There is no evidence of a statistically significant difference in the average FWT score comparing children with high and low lead exposures (p-value = 0.847; 95% CI: -18, 15).\n",
        "\n",
        "\n"
      ],
      "metadata": {
        "id": "AGHTKOe193Rn"
      }
    },
    {
      "cell_type": "markdown",
      "source": [
        "# Interactions with a quantitative covariate\n",
        "\n",
        "* AKA \"Analysis of Covariance\" (ANCOVA)\n",
        "* Consider the following model:\n",
        "\n",
        "$$E(Y|X_1, X_2) = \\beta_0 + \\beta_1X_1 + \\beta_2X_2 + \\beta_3 X_1X_2$$  \n",
        "\n",
        "where:\n",
        "\n",
        "\n",
        "* $X_1 = \\begin{cases}1; & \\mbox{lead exposure} \\geq 40 \\\\\n",
        "0; & \\mbox{lead exposure} < 40 \\end{cases}$\n",
        "* $X_2$ = Age (in years)\n"
      ],
      "metadata": {
        "id": "IHKHT1yP-Cze"
      }
    },
    {
      "cell_type": "code",
      "source": [
        "library(ggplot2)\n",
        "ggplot(data = lead, aes(x = ageyrs, y = maxfwt, color=Group)) +\n",
        "  geom_point(aes(color=Group)) +\n",
        "  stat_smooth(method='lm', se = FALSE) +\n",
        "    xlab('Age (years)') + ylab('FWT score')"
      ],
      "metadata": {
        "colab": {
          "base_uri": "https://localhost:8080/",
          "height": 454
        },
        "id": "JE0HYrAB-zAD",
        "outputId": "68ad2ffc-37c5-4a98-fc12-3ad2639fcd7f"
      },
      "execution_count": 29,
      "outputs": [
        {
          "output_type": "stream",
          "name": "stderr",
          "text": [
            "\u001b[1m\u001b[22m`geom_smooth()` using formula = 'y ~ x'\n"
          ]
        },
        {
          "output_type": "display_data",
          "data": {
            "text/plain": [
              "plot without title"
            ],
            "image/png": "[encoded data removed]"
          },
          "metadata": {
            "image/png": {
              "width": 420,
              "height": 420
            }
          }
        }
      ]
    },
    {
      "cell_type": "markdown",
      "source": [
        "Fitting this model:"
      ],
      "metadata": {
        "id": "4kSE-3iG_MRJ"
      }
    },
    {
      "cell_type": "code",
      "source": [
        "grp.age.fit <- lm(maxfwt~Group + ageyrs + Group*ageyrs, data = lead)\n",
        "summary(grp.age.fit)"
      ],
      "metadata": {
        "colab": {
          "base_uri": "https://localhost:8080/",
          "height": 364
        },
        "id": "JZwqOinQ-0wg",
        "outputId": "223668c9-b8f8-4d22-9c0f-b6ff0afd6cb8"
      },
      "execution_count": 30,
      "outputs": [
        {
          "output_type": "display_data",
          "data": {
            "text/plain": [
              "\n",
              "Call:\n",
              "lm(formula = maxfwt ~ Group + ageyrs + Group * ageyrs, data = lead)\n",
              "\n",
              "Residuals:\n",
              "    Min      1Q  Median      3Q     Max \n",
              "-33.241  -4.360   0.967   5.584  36.129 \n",
              "\n",
              "Coefficients:\n",
              "                Estimate Std. Error t value Pr(>|t|)    \n",
              "(Intercept)      26.4109     4.2667   6.190 1.52e-08 ***\n",
              "Group40+         -3.4423     7.1380  -0.482    0.631    \n",
              "ageyrs            2.7053     0.3951   6.848 7.38e-10 ***\n",
              "Group40+:ageyrs  -0.1434     0.6972  -0.206    0.837    \n",
              "---\n",
              "Signif. codes:  0 ‘***’ 0.001 ‘**’ 0.01 ‘*’ 0.05 ‘.’ 0.1 ‘ ’ 1\n",
              "\n",
              "Residual standard error: 9.643 on 95 degrees of freedom\n",
              "Multiple R-squared:  0.4532,\tAdjusted R-squared:  0.4359 \n",
              "F-statistic: 26.24 on 3 and 95 DF,  p-value: 1.887e-12\n"
            ]
          },
          "metadata": {}
        }
      ]
    },
    {
      "cell_type": "markdown",
      "source": [
        "Assessing model assumptions:"
      ],
      "metadata": {
        "id": "rC3FkI1NpqlL"
      }
    },
    {
      "cell_type": "code",
      "source": [
        "plot(grp.age.fit, which = 1)"
      ],
      "metadata": {
        "colab": {
          "base_uri": "https://localhost:8080/",
          "height": 437
        },
        "id": "F3s0v7PgpvZT",
        "outputId": "a629576b-945d-4daf-82c3-32c860be75db"
      },
      "execution_count": 31,
      "outputs": [
        {
          "output_type": "display_data",
          "data": {
            "text/plain": [
              "Plot with title “”"
            ],
            "image/png": "[encoded data removed]"
          },
          "metadata": {
            "image/png": {
              "width": 420,
              "height": 420
            }
          }
        }
      ]
    },
    {
      "cell_type": "code",
      "source": [
        "plot(grp.age.fit, which = 3)"
      ],
      "metadata": {
        "colab": {
          "base_uri": "https://localhost:8080/",
          "height": 437
        },
        "id": "_Zz8BLbkpr8L",
        "outputId": "86218671-1dd8-4abd-8851-8fc9aecbb436"
      },
      "execution_count": 32,
      "outputs": [
        {
          "output_type": "display_data",
          "data": {
            "text/plain": [
              "Plot with title “”"
            ],
            "image/png": "[encoded data removed]"
          },
          "metadata": {
            "image/png": {
              "width": 420,
              "height": 420
            }
          }
        }
      ]
    },
    {
      "cell_type": "markdown",
      "source": [
        "* What do these plots suggest regarding assumption satisfaction?"
      ],
      "metadata": {
        "id": "zNK-29z_pzda"
      }
    },
    {
      "cell_type": "code",
      "source": [
        "# Fit quality looks okay: first plot, the smooth is relatively flat.\n",
        "# Constant variance: issues. Meagphone in 1st plot, on-flat trend in the scale-location plot."
      ],
      "metadata": {
        "id": "gKLi-At6hqvk"
      },
      "execution_count": null,
      "outputs": []
    },
    {
      "cell_type": "markdown",
      "source": [
        "## Testing for interaction\n",
        "\n",
        "From this output, there is no evidence to suggest that the difference of max FWT score across lead exposure groups is different at various ages (robust p-value = 0.8268).\n",
        "\n",
        "Another way of looking at it: there is no evidence that the association of max FWT with age differs in the two exposure groups.\n"
      ],
      "metadata": {
        "id": "ZtxSrTO9_Skt"
      }
    },
    {
      "cell_type": "markdown",
      "source": [
        "## Testing linear combinations (quantitative covariate)\n",
        "\n",
        "Consider testing the following with this model:\n",
        "\n",
        "*  What is the difference in average  FWT between lead exposure groups, for 8-year-old children?\n",
        "*  What is the difference in average  FWT between lead exposure groups, for 10-year-old children?\n",
        "* What is the difference in average FWT between 8- and 10-year old children, for the low exposure group?\n",
        "* What is the difference in average FWT between 8- and 10-year old children, for the high exposure group?\n",
        "\n",
        "Note that since `ageyrs` is quantitative we must specify specific values of this variable or it will model lead group means at the average age (10.1 years) by default:"
      ],
      "metadata": {
        "id": "Khx6bGfR_YTN"
      }
    },
    {
      "cell_type": "code",
      "source": [
        "# at: specifies when you see the contrast at\n",
        "# You want to see the contrast at age 8 and 10\n",
        "(grpmeans.byage <- emmeans(grp.age.fit, specs = ~Group|ageyrs, vcov. = vcovHC, at = list(ageyrs = c(8,10))))"
      ],
      "metadata": {
        "colab": {
          "base_uri": "https://localhost:8080/",
          "height": 208
        },
        "id": "vhWR4cjQAaEE",
        "outputId": "c8b68fdf-5ab4-4cc9-f08e-9bd12c03aa79"
      },
      "execution_count": 33,
      "outputs": [
        {
          "output_type": "display_data",
          "data": {
            "text/plain": [
              "ageyrs =  8:\n",
              " Group emmean   SE df lower.CL upper.CL\n",
              " <40     48.1 1.56 95     45.0     51.1\n",
              " 40+     43.5 2.19 95     39.1     47.8\n",
              "\n",
              "ageyrs = 10:\n",
              " Group emmean   SE df lower.CL upper.CL\n",
              " <40     53.5 1.15 95     51.2     55.7\n",
              " 40+     48.6 1.87 95     44.9     52.3\n",
              "\n",
              "Confidence level used: 0.95 "
            ]
          },
          "metadata": {}
        }
      ]
    },
    {
      "cell_type": "code",
      "source": [
        "(agemeans.bygrp <- emmeans(grp.age.fit, specs = ~ageyrs|Group, vcov. = vcovHC, at = list(ageyrs = c(8,10))))"
      ],
      "metadata": {
        "colab": {
          "base_uri": "https://localhost:8080/",
          "height": 208
        },
        "id": "VfUS0Q8wAd16",
        "outputId": "b4fe20c9-fa3c-4cf1-8b51-e8add15c9e97"
      },
      "execution_count": 34,
      "outputs": [
        {
          "output_type": "display_data",
          "data": {
            "text/plain": [
              "Group = <40:\n",
              " ageyrs emmean   SE df lower.CL upper.CL\n",
              "      8   48.1 1.56 95     45.0     51.1\n",
              "     10   53.5 1.15 95     51.2     55.7\n",
              "\n",
              "Group = 40+:\n",
              " ageyrs emmean   SE df lower.CL upper.CL\n",
              "      8   43.5 2.19 95     39.1     47.8\n",
              "     10   48.6 1.87 95     44.9     52.3\n",
              "\n",
              "Confidence level used: 0.95 "
            ]
          },
          "metadata": {}
        }
      ]
    },
    {
      "cell_type": "code",
      "source": [
        "contrast(grpmeans.byage, method='pairwise')"
      ],
      "metadata": {
        "colab": {
          "base_uri": "https://localhost:8080/",
          "height": 138
        },
        "id": "hzOHme2LBk7b",
        "outputId": "4882a7c1-878d-456c-e92a-1a10ac14dee9"
      },
      "execution_count": 35,
      "outputs": [
        {
          "output_type": "display_data",
          "data": {
            "text/plain": [
              "ageyrs =  8:\n",
              " contrast    estimate   SE df t.ratio p.value\n",
              " <40 - (40+)     4.59 2.69 95   1.705  0.0915\n",
              "\n",
              "ageyrs = 10:\n",
              " contrast    estimate   SE df t.ratio p.value\n",
              " <40 - (40+)     4.88 2.20 95   2.219  0.0289\n"
            ]
          },
          "metadata": {}
        }
      ]
    },
    {
      "cell_type": "code",
      "source": [
        "contrast(agemeans.bygrp,method='pairwise')"
      ],
      "metadata": {
        "colab": {
          "base_uri": "https://localhost:8080/",
          "height": 138
        },
        "id": "08z04CQtCMEe",
        "outputId": "2268d6d1-93a5-41d8-a6ef-cef7f5715c3b"
      },
      "execution_count": 36,
      "outputs": [
        {
          "output_type": "display_data",
          "data": {
            "text/plain": [
              "Group = <40:\n",
              " contrast           estimate    SE df t.ratio p.value\n",
              " ageyrs8 - ageyrs10    -5.41 0.789 95  -6.853  <.0001\n",
              "\n",
              "Group = 40+:\n",
              " contrast           estimate    SE df t.ratio p.value\n",
              " ageyrs8 - ageyrs10    -5.12 1.040 95  -4.918  <.0001\n"
            ]
          },
          "metadata": {}
        }
      ]
    },
    {
      "cell_type": "markdown",
      "source": [
        "Note:\n",
        "\n",
        "* The lead exposure difference is very similar for 8- and 10-year olds, consistent with a lack of interaction (and our visual from the scatterplot).  However:\n",
        "  - The exposure difference is significant for the 10-year-olds (p-value = 0.0193) but not the 8-year-olds (p-value = 0.0591).\n",
        "* Similarly, the age difference is quite similar for the high- and low-exposure groups, and is highly significant for both (both p-values < .0001)."
      ],
      "metadata": {
        "id": "bxRNFZ6DCQAh"
      }
    },
    {
      "cell_type": "markdown",
      "source": [
        "## When there is no significant interaction...\n",
        "\n",
        "Here, the Group*Age interaction is not statistically significant, and visually it does not appear that the Lead Exposure Group difference is influenced much by Age.  We could consider fitting a simplified model that just adjusts for age, aka the \"parallel line\" model:"
      ],
      "metadata": {
        "id": "OauHmuZpkBK6"
      }
    },
    {
      "cell_type": "code",
      "source": [
        "# no interaction (parallel model) is better\n",
        "AIC(grp.age.fit, grp.age.parallel.fit)"
      ],
      "metadata": {
        "colab": {
          "base_uri": "https://localhost:8080/",
          "height": 161
        },
        "id": "oZWDi_UgkAvo",
        "outputId": "52d09965-c0fc-4e5d-e0b2-c916549e9cc3"
      },
      "execution_count": 38,
      "outputs": [
        {
          "output_type": "display_data",
          "data": {
            "text/html": [
              "<table class=\"dataframe\">\n",
              "<caption>A data.frame: 2 × 2</caption>\n",
              "<thead>\n",
              "\t<tr><th></th><th scope=col>df</th><th scope=col>AIC</th></tr>\n",
              "\t<tr><th></th><th scope=col>&lt;dbl&gt;</th><th scope=col>&lt;dbl&gt;</th></tr>\n",
              "</thead>\n",
              "<tbody>\n",
              "\t<tr><th scope=row>grp.age.fit</th><td>5</td><td>735.5768</td></tr>\n",
              "\t<tr><th scope=row>grp.age.parallel.fit</th><td>4</td><td>733.6209</td></tr>\n",
              "</tbody>\n",
              "</table>\n"
            ],
            "text/markdown": "\nA data.frame: 2 × 2\n\n| <!--/--> | df &lt;dbl&gt; | AIC &lt;dbl&gt; |\n|---|---|---|\n| grp.age.fit | 5 | 735.5768 |\n| grp.age.parallel.fit | 4 | 733.6209 |\n\n",
            "text/latex": "A data.frame: 2 × 2\n\\begin{tabular}{r|ll}\n  & df & AIC\\\\\n  & <dbl> & <dbl>\\\\\n\\hline\n\tgrp.age.fit & 5 & 735.5768\\\\\n\tgrp.age.parallel.fit & 4 & 733.6209\\\\\n\\end{tabular}\n",
            "text/plain": [
              "                     df AIC     \n",
              "grp.age.fit          5  735.5768\n",
              "grp.age.parallel.fit 4  733.6209"
            ]
          },
          "metadata": {}
        }
      ]
    },
    {
      "cell_type": "code",
      "source": [
        "grp.age.parallel.fit <- lm(maxfwt~Group + ageyrs, data = lead)\n",
        "summary(grp.age.parallel.fit)"
      ],
      "metadata": {
        "id": "NswSZmITkUGv",
        "colab": {
          "base_uri": "https://localhost:8080/",
          "height": 347
        },
        "outputId": "235c8827-58f3-4abb-e8fc-8073ec00d6d0"
      },
      "execution_count": 37,
      "outputs": [
        {
          "output_type": "display_data",
          "data": {
            "text/plain": [
              "\n",
              "Call:\n",
              "lm(formula = maxfwt ~ Group + ageyrs, data = lead)\n",
              "\n",
              "Residuals:\n",
              "    Min      1Q  Median      3Q     Max \n",
              "-33.380  -4.301   0.977   5.495  36.150 \n",
              "\n",
              "Coefficients:\n",
              "            Estimate Std. Error t value Pr(>|t|)    \n",
              "(Intercept)  26.8878     3.5635   7.545 2.57e-11 ***\n",
              "Group40+     -4.8489     2.0342  -2.384   0.0191 *  \n",
              "ageyrs        2.6592     0.3239   8.210 1.02e-12 ***\n",
              "---\n",
              "Signif. codes:  0 ‘***’ 0.001 ‘**’ 0.01 ‘*’ 0.05 ‘.’ 0.1 ‘ ’ 1\n",
              "\n",
              "Residual standard error: 9.595 on 96 degrees of freedom\n",
              "Multiple R-squared:  0.4529,\tAdjusted R-squared:  0.4415 \n",
              "F-statistic: 39.74 on 2 and 96 DF,  p-value: 2.669e-13\n"
            ]
          },
          "metadata": {}
        }
      ]
    },
    {
      "cell_type": "markdown",
      "source": [
        "Unfortunately there's no easy way to force parallel lines with `geom_smooth()` in `ggplot`; we have to add fitted values to the data set and draw them:"
      ],
      "metadata": {
        "id": "U-DP71oQ1UUN"
      }
    },
    {
      "cell_type": "code",
      "source": [
        "lead$parallel.fitted.values <- fitted(grp.age.parallel.fit)"
      ],
      "metadata": {
        "id": "SEoDv38r1cWz"
      },
      "execution_count": 39,
      "outputs": []
    },
    {
      "cell_type": "code",
      "source": [
        "\n",
        "ggplot(data = lead, aes(x = ageyrs, y = maxfwt, color=Group)) +\n",
        "  geom_point(aes(y = maxfwt)) +\n",
        "  geom_line(aes(y = parallel.fitted.values)) +\n",
        "    xlab('Age (years)') + ylab('FWT score')\n"
      ],
      "metadata": {
        "colab": {
          "base_uri": "https://localhost:8080/",
          "height": 437
        },
        "id": "DvQ8OSFA1TJM",
        "outputId": "a8460cf1-43f8-4a62-ae4f-637ba80778d4"
      },
      "execution_count": 40,
      "outputs": [
        {
          "output_type": "display_data",
          "data": {
            "text/plain": [
              "plot without title"
            ],
            "image/png": "[encoded data removed]"
          },
          "metadata": {
            "image/png": {
              "width": 420,
              "height": 420
            }
          }
        }
      ]
    },
    {
      "cell_type": "markdown",
      "source": [
        "Using `emmean()` to return the fitted values of each line:"
      ],
      "metadata": {
        "id": "SRCFriRH2KeL"
      }
    },
    {
      "cell_type": "code",
      "source": [
        "# The difference between finger tapping score at average age: 53.7 and 48.8\n",
        "(grp.age.adjusted.means <- emmeans(grp.age.parallel.fit, ~Group, vcov. = vcovHC))"
      ],
      "metadata": {
        "colab": {
          "base_uri": "https://localhost:8080/",
          "height": 104
        },
        "id": "YsxCzy6ikZAv",
        "outputId": "6515e3d3-2246-4c81-d8cf-d1bbc7f2dd93"
      },
      "execution_count": 41,
      "outputs": [
        {
          "output_type": "display_data",
          "data": {
            "text/plain": [
              " Group emmean   SE df lower.CL upper.CL\n",
              " <40     53.7 1.13 96     51.4     55.9\n",
              " 40+     48.8 1.87 96     45.1     52.5\n",
              "\n",
              "Confidence level used: 0.95 "
            ]
          },
          "metadata": {}
        }
      ]
    },
    {
      "cell_type": "markdown",
      "source": [
        "By default, these are calculated at the average age.  Can you verify these marginal means from the fitted model output?"
      ],
      "metadata": {
        "id": "lvoJ8iWe2Qmk"
      }
    },
    {
      "cell_type": "code",
      "source": [
        "mean(lead$ageyrs)"
      ],
      "metadata": {
        "colab": {
          "base_uri": "https://localhost:8080/",
          "height": 34
        },
        "id": "xOISd0TM2baD",
        "outputId": "d32c024d-949c-4a3f-9303-4b3e6717771f"
      },
      "execution_count": 42,
      "outputs": [
        {
          "output_type": "display_data",
          "data": {
            "text/html": [
              "10.0728282828283"
            ],
            "text/markdown": "10.0728282828283",
            "text/latex": "10.0728282828283",
            "text/plain": [
              "[1] 10.07283"
            ]
          },
          "metadata": {}
        }
      ]
    },
    {
      "cell_type": "code",
      "source": [
        "26.8878 + 2.6592*10.0728282"
      ],
      "metadata": {
        "colab": {
          "base_uri": "https://localhost:8080/",
          "height": 34
        },
        "id": "wPacZzFGkwDk",
        "outputId": "8dfd24bf-872b-42df-d2bb-3ceeef33f0d4"
      },
      "execution_count": 43,
      "outputs": [
        {
          "output_type": "display_data",
          "data": {
            "text/html": [
              "53.67346474944"
            ],
            "text/markdown": "53.67346474944",
            "text/latex": "53.67346474944",
            "text/plain": [
              "[1] 53.67346"
            ]
          },
          "metadata": {}
        }
      ]
    },
    {
      "cell_type": "code",
      "source": [
        "26.8878 + 2.6592*10.0728282 - 4.8489"
      ],
      "metadata": {
        "colab": {
          "base_uri": "https://localhost:8080/",
          "height": 34
        },
        "id": "7Nq5osg4k5PS",
        "outputId": "f2bcae76-21b9-4046-d1e0-66d792e59412"
      },
      "execution_count": 44,
      "outputs": [
        {
          "output_type": "display_data",
          "data": {
            "text/html": [
              "48.82456474944"
            ],
            "text/markdown": "48.82456474944",
            "text/latex": "48.82456474944",
            "text/plain": [
              "[1] 48.82456"
            ]
          },
          "metadata": {}
        }
      ]
    },
    {
      "cell_type": "markdown",
      "source": [
        "We can then use `contrast()` to compare these means.  Because the lines are parallel, it doesn't matter whether we contrast the <40 to 40+ at the mean age, or any other age; the contrasts will be the same since the vertical distance between the two lines is constant."
      ],
      "metadata": {
        "id": "MzRueE1y2nQ8"
      }
    },
    {
      "cell_type": "code",
      "source": [
        "contrast(grp.age.adjusted.means, 'pairwise')"
      ],
      "metadata": {
        "colab": {
          "base_uri": "https://localhost:8080/",
          "height": 52
        },
        "id": "eiYwdDRnkiVM",
        "outputId": "de3378cb-f9cd-487a-b18d-7d2592ab107a"
      },
      "execution_count": 45,
      "outputs": [
        {
          "output_type": "display_data",
          "data": {
            "text/plain": [
              " contrast    estimate   SE df t.ratio p.value\n",
              " <40 - (40+)     4.85 2.19 96   2.212  0.0294\n"
            ]
          },
          "metadata": {}
        }
      ]
    },
    {
      "cell_type": "markdown",
      "source": [
        "**Questions**\n",
        "\n",
        "* How does this contrast compare to the 8- and 10- year specific contrasts from earlier?\n",
        "* How would we interpret this contrast?"
      ],
      "metadata": {
        "id": "W8POc553kqzf"
      }
    },
    {
      "cell_type": "code",
      "source": [
        "# Answer:\n",
        "# It is very similar\n",
        "# When comparing kids of the same age, those with high lead exposure have\n",
        "# on average 4.85 taps less FWT score than those with low lead exposure."
      ],
      "metadata": {
        "id": "mV__VG7-lKjC"
      },
      "execution_count": 46,
      "outputs": []
    },
    {
      "cell_type": "code",
      "source": [
        "# lets do this contrast for 8 year olds, with the parallel line model:\n",
        "# We suppose to have the same contrast: 4.85 because of the model we are using.\n",
        "(emmeans(grp.age.parallel.fit, specs = ~Group|ageyrs, at = list(ageyrs = c(8, 10)))\n",
        "  %>% contrast(method='pairwise')\n",
        ")"
      ],
      "metadata": {
        "colab": {
          "base_uri": "https://localhost:8080/",
          "height": 138
        },
        "id": "BaZAkhQNlerB",
        "outputId": "fc6d4784-36b5-4c3d-e07a-03ce4927fee1"
      },
      "execution_count": 47,
      "outputs": [
        {
          "output_type": "display_data",
          "data": {
            "text/plain": [
              "ageyrs =  8:\n",
              " contrast    estimate   SE df t.ratio p.value\n",
              " <40 - (40+)     4.85 2.03 96   2.384  0.0191\n",
              "\n",
              "ageyrs = 10:\n",
              " contrast    estimate   SE df t.ratio p.value\n",
              " <40 - (40+)     4.85 2.03 96   2.384  0.0191\n"
            ]
          },
          "metadata": {}
        }
      ]
    },
    {
      "cell_type": "markdown",
      "source": [
        "# Interaction + Adjustment\n",
        "\n",
        "* No evidence for interaction of group with age\n",
        "\n",
        "* There *is* evidence for interaction of group with clumsiness\n",
        "\n",
        "* May want to include a model that allows for Group\\*Clumsiness interaction, *adjusting for* age and sex"
      ],
      "metadata": {
        "id": "X2LM4c49eHE4"
      }
    },
    {
      "cell_type": "markdown",
      "source": [
        "## The model\n",
        "\n",
        "\n",
        "$$E(Y|X_1, X_2,X_3,X_4) = \\beta_0 + \\beta_1X_1 + \\beta_2X_2 + \\beta_3 X_1X_2 + \\beta_4X_3 + \\beta_5X_4$$  \n",
        "\n",
        "where:\n",
        "\n",
        "\n",
        "* $X_1 = \\begin{cases}1; & \\mbox{lead exposure} \\geq 40 \\\\\n",
        "0; & \\mbox{lead exposure} < 40 \\end{cases}$\n",
        "* $X_2 = \\begin{cases}1; & \\mbox{clumsy}\\\\\n",
        "0; & \\mbox{not clumsy} \\end{cases}$\n",
        "* $X_3 = Age$\n",
        "* $X_4 = \\begin{cases}1; & \\mbox{male}\\\\\n",
        "0; & \\mbox{female} \\end{cases}$\n",
        "\n"
      ],
      "metadata": {
        "id": "smIXgpgpeRoL"
      }
    },
    {
      "cell_type": "markdown",
      "source": [
        "Fitting this model:"
      ],
      "metadata": {
        "id": "SBn-KQ_Ygl-F"
      }
    },
    {
      "cell_type": "code",
      "source": [
        "bigmodel <- lm(maxfwt~Group*clumsi + ageyrs + sex, data = lead)\n",
        "summary(bigmodel)"
      ],
      "metadata": {
        "colab": {
          "base_uri": "https://localhost:8080/",
          "height": 399
        },
        "id": "98YauEE2epno",
        "outputId": "750ba9db-69fa-4a54-cd14-9fb38dbf01a9"
      },
      "execution_count": 48,
      "outputs": [
        {
          "output_type": "display_data",
          "data": {
            "text/plain": [
              "\n",
              "Call:\n",
              "lm(formula = maxfwt ~ Group * clumsi + ageyrs + sex, data = lead)\n",
              "\n",
              "Residuals:\n",
              "    Min      1Q  Median      3Q     Max \n",
              "-34.309  -4.345   0.928   5.975  35.682 \n",
              "\n",
              "Coefficients:\n",
              "                   Estimate Std. Error t value Pr(>|t|)    \n",
              "(Intercept)          25.998      4.039   6.436 5.28e-09 ***\n",
              "Group40+             -5.423      2.177  -2.490   0.0145 *  \n",
              "clumsiYes            -6.506      4.491  -1.449   0.1508    \n",
              "ageyrs                2.716      0.332   8.180 1.43e-12 ***\n",
              "sexM                  1.405      2.014   0.697   0.4874    \n",
              "Group40+:clumsiYes    6.791      6.465   1.050   0.2963    \n",
              "---\n",
              "Signif. codes:  0 ‘***’ 0.001 ‘**’ 0.01 ‘*’ 0.05 ‘.’ 0.1 ‘ ’ 1\n",
              "\n",
              "Residual standard error: 9.606 on 93 degrees of freedom\n",
              "Multiple R-squared:  0.4688,\tAdjusted R-squared:  0.4402 \n",
              "F-statistic: 16.41 on 5 and 93 DF,  p-value: 1.39e-11\n"
            ]
          },
          "metadata": {}
        }
      ]
    },
    {
      "cell_type": "markdown",
      "source": [
        "Using this model, answer the following:\n",
        "\n",
        "A. What is the difference in mean max FWT between exposure groups, among non-clumsy children of the same age and sex?  Also determine whether this difference is statistically significant.  \n",
        "\n",
        "B. What is the difference in mean max FWT between exposure groups, between clumsy children of the same age and sex?  Also determine whether this difference is statistically significant.  \n",
        "\n",
        "Things to consider:\n",
        "\n",
        "* Variance assumption?\n",
        "* Weights to use when averaging across adjustment factors?\n"
      ],
      "metadata": {
        "id": "wxqOZmK1hpYw"
      }
    }
  ]
}