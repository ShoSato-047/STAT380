{
  "nbformat": 4,
  "nbformat_minor": 0,
  "metadata": {
    "colab": {
      "provenance": [],
      "include_colab_link": true
    },
    "kernelspec": {
      "name": "ir",
      "display_name": "R"
    },
    "language_info": {
      "name": "R"
    }
  },
  "cells": [
    {
      "cell_type": "markdown",
      "metadata": {
        "id": "view-in-github",
        "colab_type": "text"
      },
      "source": [
        "<a href=\"https://colab.research.google.com/github/ShoSato-047/R_review/blob/main/STAT380_1_3_(2025)_Review_of_MLR_custom_contrasts_with_emmeans.ipynb\" target=\"_parent\"><img src=\"https://colab.research.google.com/assets/colab-badge.svg\" alt=\"Open In Colab\"/></a>"
      ]
    },
    {
      "cell_type": "markdown",
      "source": [
        "# What is a contrast?\n",
        "\n",
        "Often we are interested in using a fitted MLR model to estimate differences in the response for different combinations of the $X$ terms. These linear combinations are called *contrasts*.  In this notebook we explore how to conduct contrasts from a fitted MLR model.\n"
      ],
      "metadata": {
        "id": "RoWAgyy6vGLY"
      }
    },
    {
      "cell_type": "markdown",
      "source": [
        "# Case study: neurological impacts of lead exposure\n",
        "*\tWe will continue to investigate the lead exposure data from the previous notebook:"
      ],
      "metadata": {
        "id": "WUAx4xJnvext"
      }
    },
    {
      "cell_type": "code",
      "source": [
        "library(dplyr)\n",
        "lead <- read.csv('https://www.dropbox.com/s/r84evk7q5nciv94/LEAD.csv?dl=1')  %>%\n",
        "  select(maxfwt, ageyrs, clumsi, Group,sex) %>%\n",
        "  filter(!is.na(maxfwt))"
      ],
      "metadata": {
        "id": "cI2Z2JgIvwlT"
      },
      "execution_count": 22,
      "outputs": []
    },
    {
      "cell_type": "code",
      "source": [
        "summary(lead)"
      ],
      "metadata": {
        "colab": {
          "base_uri": "https://localhost:8080/",
          "height": 260
        },
        "id": "QIuY0EWwlJik",
        "outputId": "f745fc1a-40c5-45eb-8f31-712a35ffc2f1"
      },
      "execution_count": 23,
      "outputs": [
        {
          "output_type": "display_data",
          "data": {
            "text/plain": [
              "     maxfwt          ageyrs         clumsi             Group          \n",
              " Min.   :13.00   Min.   : 5.08   Length:99          Length:99         \n",
              " 1st Qu.:46.00   1st Qu.: 7.21   Class :character   Class :character  \n",
              " Median :52.00   Median : 9.67   Mode  :character   Mode  :character  \n",
              " Mean   :51.96   Mean   :10.07                                        \n",
              " 3rd Qu.:59.00   3rd Qu.:12.75                                        \n",
              " Max.   :84.00   Max.   :15.92                                        \n",
              "     sex           \n",
              " Length:99         \n",
              " Class :character  \n",
              " Mode  :character  \n",
              "                   \n",
              "                   \n",
              "                   "
            ]
          },
          "metadata": {}
        }
      ]
    },
    {
      "cell_type": "markdown",
      "source": [
        "Recall the following relationship:"
      ],
      "metadata": {
        "id": "l9UsyvsC2RLB"
      }
    },
    {
      "cell_type": "code",
      "source": [
        "library(ggplot2)\n",
        "ggplot(data = lead,aes(x = Group, y = maxfwt)) +\n",
        "  geom_boxplot() +\n",
        "  stat_summary(fun='mean', col='red',geom='point') +\n",
        "    ylab('FWT score (taps/10 seconds)') +\n",
        "    facet_wrap(~clumsi)"
      ],
      "metadata": {
        "colab": {
          "base_uri": "https://localhost:8080/",
          "height": 437
        },
        "id": "OdRQ69N33Iix",
        "outputId": "0224332f-d812-44b1-84d1-c2629ee8c73b"
      },
      "execution_count": 24,
      "outputs": [
        {
          "output_type": "display_data",
          "data": {
            "text/plain": [
              "plot without title"
            ],
            "image/png": "[encoded data removed]"
          },
          "metadata": {
            "image/png": {
              "width": 420,
              "height": 420
            }
          }
        }
      ]
    },
    {
      "cell_type": "markdown",
      "source": [
        "## The MLR model with interaction\n",
        "\n",
        "Recall we had fit the following model:\n",
        "$$E(Y|X_1,X_2) = \\beta_0 + \\beta_1 X_1 + \\beta_2 X_2 + \\beta_3 X_1\\cdot X_2$$\n",
        "\n",
        "* $X_1 = \\begin{cases}1; & \\mbox{lead exposure} \\geq 40 \\\\\n",
        "0; & \\mbox{lead exposure} < 40 \\end{cases}$\n",
        "\n",
        "\n",
        "* $X_2 = \\begin{cases}1; & \\mbox{clumsy}  \\\\\n",
        "0; & \\mbox{not clumsy} \\end{cases}$"
      ],
      "metadata": {
        "id": "gRNuttky-LFj"
      }
    },
    {
      "cell_type": "markdown",
      "source": [
        "Fitting the model in R:"
      ],
      "metadata": {
        "id": "VKOUjHdv_6oM"
      }
    },
    {
      "cell_type": "code",
      "source": [
        "group_clumsi_fit <- lm(maxfwt~Group + clumsi+Group*clumsi, data = lead)\n",
        "summary(group_clumsi_fit)"
      ],
      "metadata": {
        "colab": {
          "base_uri": "https://localhost:8080/",
          "height": 364
        },
        "id": "6nIKoN5w_e_5",
        "outputId": "bf289e15-063e-43d2-e0fd-f17ead0da78d"
      },
      "execution_count": 25,
      "outputs": [
        {
          "output_type": "display_data",
          "data": {
            "text/plain": [
              "\n",
              "Call:\n",
              "lm(formula = maxfwt ~ Group + clumsi + Group * clumsi, data = lead)\n",
              "\n",
              "Residuals:\n",
              "    Min      1Q  Median      3Q     Max \n",
              "-41.881  -6.341   1.119   7.119  36.133 \n",
              "\n",
              "Coefficients:\n",
              "                   Estimate Std. Error t value Pr(>|t|)    \n",
              "(Intercept)          54.881      1.626  33.743  < 2e-16 ***\n",
              "Group40+             -8.015      2.801  -2.861  0.00519 ** \n",
              "clumsiYes            -5.681      5.819  -0.976  0.33137    \n",
              "Group40+:clumsiYes    9.615      8.383   1.147  0.25430    \n",
              "---\n",
              "Signif. codes:  0 ‘***’ 0.001 ‘**’ 0.01 ‘*’ 0.05 ‘.’ 0.1 ‘ ’ 1\n",
              "\n",
              "Residual standard error: 12.49 on 95 degrees of freedom\n",
              "Multiple R-squared:  0.08212,\tAdjusted R-squared:  0.05314 \n",
              "F-statistic: 2.833 on 3 and 95 DF,  p-value: 0.04238\n"
            ]
          },
          "metadata": {}
        }
      ]
    },
    {
      "cell_type": "markdown",
      "source": [
        "## Motivating `emmeans`\n",
        "\n",
        "Suppose we want to test whether there is evidence for a significant difference in mean FWT score between the exposure groups, ***among clumsy children.***\n",
        "\n",
        "This involves testing:\n",
        "\n",
        "$$H_0: \\beta_1 + \\beta_3 = 0$$\n",
        "$$H_0: \\beta_1 + \\beta_3 \\ne 0$$\n",
        "\n",
        "* The `summary(model)` output shows us limited information about differences between groups.\n",
        "* If we want to test more nuanced contrasts, such as the impact of lead exposure among clumsy children, we need to set up the means themselves."
      ],
      "metadata": {
        "id": "cQkVLg3VDSNv"
      }
    },
    {
      "cell_type": "markdown",
      "source": [
        "# Returning means and robust SE with `emmeans`\n",
        "\n",
        "* The `emmeans` package is an extremely useful package for obtaining **E**stimated **M**arginal **Means**, and facilitating contrasts between them\n",
        "* We can also use robust, heteroskedastic sandwich SE estimates = huge bonus!! (Do have to have the `sandwich` package loaded first.)"
      ],
      "metadata": {
        "id": "ZHzSb7e9ErpR"
      }
    },
    {
      "cell_type": "code",
      "source": [
        "install.packages('sandwich')\n",
        "library(sandwich)"
      ],
      "metadata": {
        "colab": {
          "base_uri": "https://localhost:8080/"
        },
        "id": "xwsIHSelzMvo",
        "outputId": "d0325f58-b3b1-4232-bc80-96c7a2c77f8a"
      },
      "execution_count": 26,
      "outputs": [
        {
          "output_type": "stream",
          "name": "stderr",
          "text": [
            "Installing package into ‘/usr/local/lib/R/site-library’\n",
            "(as ‘lib’ is unspecified)\n",
            "\n"
          ]
        }
      ]
    },
    {
      "cell_type": "code",
      "source": [
        "install.packages('emmeans')\n",
        "library(emmeans)"
      ],
      "metadata": {
        "colab": {
          "base_uri": "https://localhost:8080/"
        },
        "id": "vYRolu4NFOhA",
        "outputId": "5d4fae31-52c5-42ce-9fa9-f290c8a793da"
      },
      "execution_count": 27,
      "outputs": [
        {
          "output_type": "stream",
          "name": "stderr",
          "text": [
            "Installing package into ‘/usr/local/lib/R/site-library’\n",
            "(as ‘lib’ is unspecified)\n",
            "\n"
          ]
        }
      ]
    },
    {
      "cell_type": "markdown",
      "source": [
        "Some important arguments:\n",
        "\n",
        "* A model fit object\n",
        "* `specs`; the variables for which you want means calculated.  A right-sided formula.  Required. If an interaction is specified in the model it does *not* need to be re-specified; imagine this more like specifying the grouping variables in `dplyr`.\n",
        "* `vcov.`; either a covariance matrix or a function call to create a covariance matrix.  \n",
        "\n",
        "\n",
        "Before we dive into `emmeans` though let's actually find grouped average and standard deviation of `maxfwt` scores using `dplyr`."
      ],
      "metadata": {
        "id": "8X8Ngg5VFa4p"
      }
    },
    {
      "cell_type": "code",
      "source": [
        "lead %>%\n",
        "  group_by(Group, clumsi) %>%\n",
        "  summarize(avg.maxfwt = mean(maxfwt, na.rm=TRUE), sd.maxfwt = sd(maxfwt, na.rm=TRUE), sampsize =  n())"
      ],
      "metadata": {
        "colab": {
          "base_uri": "https://localhost:8080/",
          "height": 258
        },
        "id": "UKn3lh4lGK6M",
        "outputId": "88f1da02-d555-4e71-ee08-98c76418568c"
      },
      "execution_count": 28,
      "outputs": [
        {
          "output_type": "stream",
          "name": "stderr",
          "text": [
            "\u001b[1m\u001b[22m`summarise()` has grouped output by 'Group'. You can override using the\n",
            "`.groups` argument.\n"
          ]
        },
        {
          "output_type": "display_data",
          "data": {
            "text/html": [
              "<table class=\"dataframe\">\n",
              "<caption>A grouped_df: 4 × 5</caption>\n",
              "<thead>\n",
              "\t<tr><th scope=col>Group</th><th scope=col>clumsi</th><th scope=col>avg.maxfwt</th><th scope=col>sd.maxfwt</th><th scope=col>sampsize</th></tr>\n",
              "\t<tr><th scope=col>&lt;chr&gt;</th><th scope=col>&lt;chr&gt;</th><th scope=col>&lt;dbl&gt;</th><th scope=col>&lt;dbl&gt;</th><th scope=col>&lt;int&gt;</th></tr>\n",
              "</thead>\n",
              "<tbody>\n",
              "\t<tr><td>40+</td><td>No </td><td>46.86667</td><td>13.860719</td><td>30</td></tr>\n",
              "\t<tr><td>40+</td><td>Yes</td><td>50.80000</td><td> 7.854935</td><td> 5</td></tr>\n",
              "\t<tr><td>&lt;40</td><td>No </td><td>54.88136</td><td>11.862844</td><td>59</td></tr>\n",
              "\t<tr><td>&lt;40</td><td>Yes</td><td>49.20000</td><td>14.549914</td><td> 5</td></tr>\n",
              "</tbody>\n",
              "</table>\n"
            ],
            "text/markdown": "\nA grouped_df: 4 × 5\n\n| Group &lt;chr&gt; | clumsi &lt;chr&gt; | avg.maxfwt &lt;dbl&gt; | sd.maxfwt &lt;dbl&gt; | sampsize &lt;int&gt; |\n|---|---|---|---|---|\n| 40+ | No  | 46.86667 | 13.860719 | 30 |\n| 40+ | Yes | 50.80000 |  7.854935 |  5 |\n| &lt;40 | No  | 54.88136 | 11.862844 | 59 |\n| &lt;40 | Yes | 49.20000 | 14.549914 |  5 |\n\n",
            "text/latex": "A grouped\\_df: 4 × 5\n\\begin{tabular}{lllll}\n Group & clumsi & avg.maxfwt & sd.maxfwt & sampsize\\\\\n <chr> & <chr> & <dbl> & <dbl> & <int>\\\\\n\\hline\n\t 40+ & No  & 46.86667 & 13.860719 & 30\\\\\n\t 40+ & Yes & 50.80000 &  7.854935 &  5\\\\\n\t <40 & No  & 54.88136 & 11.862844 & 59\\\\\n\t <40 & Yes & 49.20000 & 14.549914 &  5\\\\\n\\end{tabular}\n",
            "text/plain": [
              "  Group clumsi avg.maxfwt sd.maxfwt sampsize\n",
              "1 40+   No     46.86667   13.860719 30      \n",
              "2 40+   Yes    50.80000    7.854935  5      \n",
              "3 <40   No     54.88136   11.862844 59      \n",
              "4 <40   Yes    49.20000   14.549914  5      "
            ]
          },
          "metadata": {}
        }
      ]
    },
    {
      "cell_type": "markdown",
      "source": [
        "**QUESTION:** what does this output suggest regarding whether the \"constant variance\" assumption is satisfied?"
      ],
      "metadata": {
        "id": "H6ToD3G7otE1"
      }
    },
    {
      "cell_type": "code",
      "source": [
        "# Does not appear to satisfied, note that 7.85 is about half as big as 14.55"
      ],
      "metadata": {
        "id": "OJIPZC-Z3Njd"
      },
      "execution_count": 29,
      "outputs": []
    },
    {
      "cell_type": "markdown",
      "source": [
        "Averaging across clumsiness levels:"
      ],
      "metadata": {
        "id": "pPkkbNNmI4Pr"
      }
    },
    {
      "cell_type": "code",
      "source": [
        "lead %>%\n",
        "  group_by(Group) %>%\n",
        "  summarize(avg.maxfwt = mean(maxfwt, na.rm=TRUE), sampsize =  n())"
      ],
      "metadata": {
        "colab": {
          "base_uri": "https://localhost:8080/",
          "height": 161
        },
        "id": "wYBXbJYfI77V",
        "outputId": "5368abc1-5716-45d2-de5f-000c2a0b608c"
      },
      "execution_count": 30,
      "outputs": [
        {
          "output_type": "display_data",
          "data": {
            "text/html": [
              "<table class=\"dataframe\">\n",
              "<caption>A tibble: 2 × 3</caption>\n",
              "<thead>\n",
              "\t<tr><th scope=col>Group</th><th scope=col>avg.maxfwt</th><th scope=col>sampsize</th></tr>\n",
              "\t<tr><th scope=col>&lt;chr&gt;</th><th scope=col>&lt;dbl&gt;</th><th scope=col>&lt;int&gt;</th></tr>\n",
              "</thead>\n",
              "<tbody>\n",
              "\t<tr><td>40+</td><td>47.42857</td><td>35</td></tr>\n",
              "\t<tr><td>&lt;40</td><td>54.43750</td><td>64</td></tr>\n",
              "</tbody>\n",
              "</table>\n"
            ],
            "text/markdown": "\nA tibble: 2 × 3\n\n| Group &lt;chr&gt; | avg.maxfwt &lt;dbl&gt; | sampsize &lt;int&gt; |\n|---|---|---|\n| 40+ | 47.42857 | 35 |\n| &lt;40 | 54.43750 | 64 |\n\n",
            "text/latex": "A tibble: 2 × 3\n\\begin{tabular}{lll}\n Group & avg.maxfwt & sampsize\\\\\n <chr> & <dbl> & <int>\\\\\n\\hline\n\t 40+ & 47.42857 & 35\\\\\n\t <40 & 54.43750 & 64\\\\\n\\end{tabular}\n",
            "text/plain": [
              "  Group avg.maxfwt sampsize\n",
              "1 40+   47.42857   35      \n",
              "2 <40   54.43750   64      "
            ]
          },
          "metadata": {}
        }
      ]
    },
    {
      "cell_type": "markdown",
      "source": [
        "Now let's create the emmeans from the model, using `vcovHC` so as to use robust standard error estimates.\n"
      ],
      "metadata": {
        "id": "gtAclkINz_7W"
      }
    },
    {
      "cell_type": "code",
      "source": [
        "group_clumsi_emmobj <- emmeans(group_clumsi_fit, specs = ~ Group + clumsi, vcov. = vcovHC) # vovHC = allows different standard erros (non-constant)\n",
        "group_clumsi_emmobj"
      ],
      "metadata": {
        "colab": {
          "base_uri": "https://localhost:8080/",
          "height": 138
        },
        "id": "R8Mn3NP4FRxH",
        "outputId": "30638bee-6aef-493e-e4e0-71253b19833d"
      },
      "execution_count": 31,
      "outputs": [
        {
          "output_type": "display_data",
          "data": {
            "text/plain": [
              " Group clumsi emmean   SE df lower.CL upper.CL\n",
              " <40   No       54.9 1.56 95     51.8     58.0\n",
              " 40+   No       46.9 2.57 95     41.8     52.0\n",
              " <40   Yes      49.2 7.27 95     34.8     63.6\n",
              " 40+   Yes      50.8 3.93 95     43.0     58.6\n",
              "\n",
              "Confidence level used: 0.95 "
            ]
          },
          "metadata": {}
        }
      ]
    },
    {
      "cell_type": "code",
      "source": [
        "(54.9 + 49.2)/2"
      ],
      "metadata": {
        "colab": {
          "base_uri": "https://localhost:8080/",
          "height": 34
        },
        "id": "QJmQquRs4W8D",
        "outputId": "e1866a35-88a6-41d4-beef-801c4400073f"
      },
      "execution_count": 32,
      "outputs": [
        {
          "output_type": "display_data",
          "data": {
            "text/html": [
              "52.05"
            ],
            "text/markdown": "52.05",
            "text/latex": "52.05",
            "text/plain": [
              "[1] 52.05"
            ]
          },
          "metadata": {}
        }
      ]
    },
    {
      "cell_type": "code",
      "source": [
        "(46.9 + 50.8)/2"
      ],
      "metadata": {
        "colab": {
          "base_uri": "https://localhost:8080/",
          "height": 34
        },
        "id": "FOdDibGi4a0E",
        "outputId": "7cb3a183-b5bb-43c7-ac39-ecf519bb8279"
      },
      "execution_count": 33,
      "outputs": [
        {
          "output_type": "display_data",
          "data": {
            "text/html": [
              "48.85"
            ],
            "text/markdown": "48.85",
            "text/latex": "48.85",
            "text/plain": [
              "[1] 48.85"
            ]
          },
          "metadata": {}
        }
      ]
    },
    {
      "cell_type": "code",
      "source": [
        "# When you average the average, you have to weight the smpale size!!!\n",
        "# emmeans does NOT weight the sample size\n",
        "?emmeans"
      ],
      "metadata": {
        "id": "n4QA_8p742gf",
        "colab": {
          "base_uri": "https://localhost:8080/"
        },
        "outputId": "15511aa3-9fd4-4aae-ddca-26d8a8242c00"
      },
      "execution_count": 34,
      "outputs": [
        {
          "output_type": "stream",
          "name": "stderr",
          "text": [
            "Warning message in fetch(key):\n",
            "“internal error 1 in R_decompress1 with libdeflate”\n",
            "ERROR while rich displaying an object: Error in fetch(key): lazy-load database '/usr/local/lib/R/site-library/emmeans/help/emmeans.rdb' is corrupt\n",
            "\n",
            "Traceback:\n",
            "1. sapply(x, f, simplify = simplify)\n",
            "2. lapply(X = X, FUN = FUN, ...)\n",
            "3. FUN(X[[i]], ...)\n",
            "4. tryCatch(withCallingHandlers({\n",
            " .     if (!mime %in% names(repr::mime2repr)) \n",
            " .         stop(\"No repr_* for mimetype \", mime, \" in repr::mime2repr\")\n",
            " .     rpr <- repr::mime2repr[[mime]](obj)\n",
            " .     if (is.null(rpr)) \n",
            " .         return(NULL)\n",
            " .     prepare_content(is.raw(rpr), rpr)\n",
            " . }, error = error_handler), error = outer_handler)\n",
            "5. tryCatchList(expr, classes, parentenv, handlers)\n",
            "6. tryCatchOne(expr, names, parentenv, handlers[[1L]])\n",
            "7. doTryCatch(return(expr), name, parentenv, handler)\n",
            "8. withCallingHandlers({\n",
            " .     if (!mime %in% names(repr::mime2repr)) \n",
            " .         stop(\"No repr_* for mimetype \", mime, \" in repr::mime2repr\")\n",
            " .     rpr <- repr::mime2repr[[mime]](obj)\n",
            " .     if (is.null(rpr)) \n",
            " .         return(NULL)\n",
            " .     prepare_content(is.raw(rpr), rpr)\n",
            " . }, error = error_handler)\n",
            "9. repr::mime2repr[[mime]](obj)\n",
            "10. repr_text.help_files_with_topic(obj)\n",
            "11. repr_help_files_with_topic_generic(obj, Rd2txt)\n",
            "12. get_help_file(file)\n",
            "13. fetch_rd_db(rd_db, basename(file))\n",
            "14. lazyLoadDBexec(filebase, fun)\n",
            "15. fun(environment())\n",
            "16. fetch(key)\n"
          ]
        }
      ]
    },
    {
      "cell_type": "markdown",
      "source": [
        "Note how this differs if we change the specs:"
      ],
      "metadata": {
        "id": "CzEvTnrxHMRK"
      }
    },
    {
      "cell_type": "code",
      "source": [
        "emmeans(group_clumsi_fit, specs = ~ Group, vcov. = vcovHC)"
      ],
      "metadata": {
        "colab": {
          "base_uri": "https://localhost:8080/",
          "height": 156
        },
        "id": "HrPTPLu1HQNZ",
        "outputId": "9183f2c8-cd7f-451d-d623-175cfa008c6d"
      },
      "execution_count": 35,
      "outputs": [
        {
          "output_type": "stream",
          "name": "stderr",
          "text": [
            "NOTE: Results may be misleading due to involvement in interactions\n",
            "\n"
          ]
        },
        {
          "output_type": "display_data",
          "data": {
            "text/plain": [
              " Group emmean   SE df lower.CL upper.CL\n",
              " <40     52.0 3.72 95     44.7     59.4\n",
              " 40+     48.8 2.35 95     44.2     53.5\n",
              "\n",
              "Results are averaged over the levels of: clumsi \n",
              "Confidence level used: 0.95 "
            ]
          },
          "metadata": {}
        }
      ]
    },
    {
      "cell_type": "markdown",
      "source": [
        "Recall the summaries we obtained earlier:"
      ],
      "metadata": {
        "id": "z6IVBGxtfe3w"
      }
    },
    {
      "cell_type": "code",
      "source": [
        "#Averaging across group only:\n",
        "lead %>%\n",
        "  group_by(Group) %>%\n",
        "  summarize(avg.maxfwt = mean(maxfwt, na.rm=TRUE), sampsize =  n())"
      ],
      "metadata": {
        "colab": {
          "base_uri": "https://localhost:8080/",
          "height": 161
        },
        "id": "p4kApMq2fh-E",
        "outputId": "58e17f8d-0b82-45e9-c4ef-e3839181c649"
      },
      "execution_count": 36,
      "outputs": [
        {
          "output_type": "display_data",
          "data": {
            "text/html": [
              "<table class=\"dataframe\">\n",
              "<caption>A tibble: 2 × 3</caption>\n",
              "<thead>\n",
              "\t<tr><th scope=col>Group</th><th scope=col>avg.maxfwt</th><th scope=col>sampsize</th></tr>\n",
              "\t<tr><th scope=col>&lt;chr&gt;</th><th scope=col>&lt;dbl&gt;</th><th scope=col>&lt;int&gt;</th></tr>\n",
              "</thead>\n",
              "<tbody>\n",
              "\t<tr><td>40+</td><td>47.42857</td><td>35</td></tr>\n",
              "\t<tr><td>&lt;40</td><td>54.43750</td><td>64</td></tr>\n",
              "</tbody>\n",
              "</table>\n"
            ],
            "text/markdown": "\nA tibble: 2 × 3\n\n| Group &lt;chr&gt; | avg.maxfwt &lt;dbl&gt; | sampsize &lt;int&gt; |\n|---|---|---|\n| 40+ | 47.42857 | 35 |\n| &lt;40 | 54.43750 | 64 |\n\n",
            "text/latex": "A tibble: 2 × 3\n\\begin{tabular}{lll}\n Group & avg.maxfwt & sampsize\\\\\n <chr> & <dbl> & <int>\\\\\n\\hline\n\t 40+ & 47.42857 & 35\\\\\n\t <40 & 54.43750 & 64\\\\\n\\end{tabular}\n",
            "text/plain": [
              "  Group avg.maxfwt sampsize\n",
              "1 40+   47.42857   35      \n",
              "2 <40   54.43750   64      "
            ]
          },
          "metadata": {}
        }
      ]
    },
    {
      "cell_type": "code",
      "source": [
        "#Averaging across both group and clumsiness status:\n",
        "lead %>%\n",
        "  group_by(Group, clumsi) %>%\n",
        "  summarize(avg.maxfwt = mean(maxfwt, na.rm=TRUE), sampsize =  n())"
      ],
      "metadata": {
        "colab": {
          "base_uri": "https://localhost:8080/",
          "height": 258
        },
        "id": "IbqFbTF9foZe",
        "outputId": "2d1fac1d-8061-4454-9171-cde5c1566d39"
      },
      "execution_count": 37,
      "outputs": [
        {
          "output_type": "stream",
          "name": "stderr",
          "text": [
            "\u001b[1m\u001b[22m`summarise()` has grouped output by 'Group'. You can override using the\n",
            "`.groups` argument.\n"
          ]
        },
        {
          "output_type": "display_data",
          "data": {
            "text/html": [
              "<table class=\"dataframe\">\n",
              "<caption>A grouped_df: 4 × 4</caption>\n",
              "<thead>\n",
              "\t<tr><th scope=col>Group</th><th scope=col>clumsi</th><th scope=col>avg.maxfwt</th><th scope=col>sampsize</th></tr>\n",
              "\t<tr><th scope=col>&lt;chr&gt;</th><th scope=col>&lt;chr&gt;</th><th scope=col>&lt;dbl&gt;</th><th scope=col>&lt;int&gt;</th></tr>\n",
              "</thead>\n",
              "<tbody>\n",
              "\t<tr><td>40+</td><td>No </td><td>46.86667</td><td>30</td></tr>\n",
              "\t<tr><td>40+</td><td>Yes</td><td>50.80000</td><td> 5</td></tr>\n",
              "\t<tr><td>&lt;40</td><td>No </td><td>54.88136</td><td>59</td></tr>\n",
              "\t<tr><td>&lt;40</td><td>Yes</td><td>49.20000</td><td> 5</td></tr>\n",
              "</tbody>\n",
              "</table>\n"
            ],
            "text/markdown": "\nA grouped_df: 4 × 4\n\n| Group &lt;chr&gt; | clumsi &lt;chr&gt; | avg.maxfwt &lt;dbl&gt; | sampsize &lt;int&gt; |\n|---|---|---|---|\n| 40+ | No  | 46.86667 | 30 |\n| 40+ | Yes | 50.80000 |  5 |\n| &lt;40 | No  | 54.88136 | 59 |\n| &lt;40 | Yes | 49.20000 |  5 |\n\n",
            "text/latex": "A grouped\\_df: 4 × 4\n\\begin{tabular}{llll}\n Group & clumsi & avg.maxfwt & sampsize\\\\\n <chr> & <chr> & <dbl> & <int>\\\\\n\\hline\n\t 40+ & No  & 46.86667 & 30\\\\\n\t 40+ & Yes & 50.80000 &  5\\\\\n\t <40 & No  & 54.88136 & 59\\\\\n\t <40 & Yes & 49.20000 &  5\\\\\n\\end{tabular}\n",
            "text/plain": [
              "  Group clumsi avg.maxfwt sampsize\n",
              "1 40+   No     46.86667   30      \n",
              "2 40+   Yes    50.80000    5      \n",
              "3 <40   No     54.88136   59      \n",
              "4 <40   Yes    49.20000    5      "
            ]
          },
          "metadata": {}
        }
      ]
    },
    {
      "cell_type": "markdown",
      "source": [
        "**Question**:\n",
        "\n",
        "* How do the estimated marginal means from `emmeans()` compare to these summaries?\n",
        "* Why are they different, and how *are* these being calculated?"
      ],
      "metadata": {
        "id": "m5tkaHMGJEXA"
      }
    },
    {
      "cell_type": "markdown",
      "source": [
        "By defaults, `weights = 'equal'`. ***Only appropriate if sample sizes are the same!!***  To appropriately account for the differences in sample sizes we should set `weights = 'cells'` when averaging across another grouping variable.\n"
      ],
      "metadata": {
        "id": "US4aCL-gJLFL"
      }
    },
    {
      "cell_type": "code",
      "source": [
        "(emobj <- emmeans(group_clumsi_fit, specs = ~ Group, vcov. = vcovHC, weights = 'cells'))"
      ],
      "metadata": {
        "colab": {
          "base_uri": "https://localhost:8080/",
          "height": 156
        },
        "id": "67DnBVIeJZAS",
        "outputId": "0d423294-72e2-42ea-f976-767f7ce2ddf0"
      },
      "execution_count": 38,
      "outputs": [
        {
          "output_type": "stream",
          "name": "stderr",
          "text": [
            "NOTE: Results may be misleading due to involvement in interactions\n",
            "\n"
          ]
        },
        {
          "output_type": "display_data",
          "data": {
            "text/plain": [
              " Group emmean   SE df lower.CL upper.CL\n",
              " <40     54.4 1.54 95     51.4     57.5\n",
              " 40+     47.4 2.28 95     42.9     51.9\n",
              "\n",
              "Results are averaged over the levels of: clumsi \n",
              "Confidence level used: 0.95 "
            ]
          },
          "metadata": {}
        }
      ]
    },
    {
      "cell_type": "code",
      "source": [
        "summary(emobj)"
      ],
      "metadata": {
        "colab": {
          "base_uri": "https://localhost:8080/",
          "height": 161
        },
        "id": "4RW7WeIbmE0f",
        "outputId": "491addd7-c5d8-45df-9a74-7255521f8b35"
      },
      "execution_count": 39,
      "outputs": [
        {
          "output_type": "display_data",
          "data": {
            "text/html": [
              "<table class=\"dataframe\">\n",
              "<caption>A summary_emm: 2 × 6</caption>\n",
              "<thead>\n",
              "\t<tr><th></th><th scope=col>Group</th><th scope=col>emmean</th><th scope=col>SE</th><th scope=col>df</th><th scope=col>lower.CL</th><th scope=col>upper.CL</th></tr>\n",
              "\t<tr><th></th><th scope=col>&lt;fct&gt;</th><th scope=col>&lt;dbl&gt;</th><th scope=col>&lt;dbl&gt;</th><th scope=col>&lt;dbl&gt;</th><th scope=col>&lt;dbl&gt;</th><th scope=col>&lt;dbl&gt;</th></tr>\n",
              "</thead>\n",
              "<tbody>\n",
              "\t<tr><th scope=row>1</th><td>&lt;40</td><td>54.43750</td><td>1.544362</td><td>95</td><td>51.37155</td><td>57.50345</td></tr>\n",
              "\t<tr><th scope=row>2</th><td>40+</td><td>47.42857</td><td>2.276402</td><td>95</td><td>42.90934</td><td>51.94780</td></tr>\n",
              "</tbody>\n",
              "</table>\n"
            ],
            "text/markdown": "\nA summary_emm: 2 × 6\n\n| <!--/--> | Group &lt;fct&gt; | emmean &lt;dbl&gt; | SE &lt;dbl&gt; | df &lt;dbl&gt; | lower.CL &lt;dbl&gt; | upper.CL &lt;dbl&gt; |\n|---|---|---|---|---|---|---|\n| 1 | &lt;40 | 54.43750 | 1.544362 | 95 | 51.37155 | 57.50345 |\n| 2 | 40+ | 47.42857 | 2.276402 | 95 | 42.90934 | 51.94780 |\n\n",
            "text/latex": "A summary\\_emm: 2 × 6\n\\begin{tabular}{r|llllll}\n  & Group & emmean & SE & df & lower.CL & upper.CL\\\\\n  & <fct> & <dbl> & <dbl> & <dbl> & <dbl> & <dbl>\\\\\n\\hline\n\t1 & <40 & 54.43750 & 1.544362 & 95 & 51.37155 & 57.50345\\\\\n\t2 & 40+ & 47.42857 & 2.276402 & 95 & 42.90934 & 51.94780\\\\\n\\end{tabular}\n",
            "text/plain": [
              "  Group emmean   SE       df lower.CL upper.CL\n",
              "1 <40   54.43750 1.544362 95 51.37155 57.50345\n",
              "2 40+   47.42857 2.276402 95 42.90934 51.94780"
            ]
          },
          "metadata": {}
        }
      ]
    },
    {
      "cell_type": "markdown",
      "source": [
        "***I cannot think of a reason you would ever want to use `weights='equal'`; always use `weights='cells'` if another factor variable is involved and you want to average over that factor to accurate group-specific averages.***"
      ],
      "metadata": {
        "id": "jgwWPoy854F-"
      }
    },
    {
      "cell_type": "markdown",
      "source": [
        "We can use the `at=` command to specify for which values of `clumsi` we want `Group` means calculated.  This is especially useful for looking at means when you have models involving a quantitative variable (more later):"
      ],
      "metadata": {
        "id": "zdS_ag0CHps4"
      }
    },
    {
      "cell_type": "code",
      "source": [
        "emmeans(group_clumsi_fit, specs = ~ Group, vcov. = vcovHC, at = list(clumsi = c('No')))"
      ],
      "metadata": {
        "colab": {
          "base_uri": "https://localhost:8080/",
          "height": 138
        },
        "id": "j9QO0ITuHuBE",
        "outputId": "7a62fb67-8b86-45a9-aea1-0284f018acae"
      },
      "execution_count": 40,
      "outputs": [
        {
          "output_type": "stream",
          "name": "stderr",
          "text": [
            "NOTE: Results may be misleading due to involvement in interactions\n",
            "\n"
          ]
        },
        {
          "output_type": "display_data",
          "data": {
            "text/plain": [
              " Group emmean   SE df lower.CL upper.CL\n",
              " <40     54.9 1.56 95     51.8       58\n",
              " 40+     46.9 2.57 95     41.8       52\n",
              "\n",
              "Confidence level used: 0.95 "
            ]
          },
          "metadata": {}
        }
      ]
    },
    {
      "cell_type": "code",
      "source": [
        "emmeans(group_clumsi_fit, specs = ~ Group, vcov. = vcovHC, at = list(clumsi = c('Yes')))"
      ],
      "metadata": {
        "colab": {
          "base_uri": "https://localhost:8080/",
          "height": 138
        },
        "id": "-aLrFvn6H84L",
        "outputId": "20946fea-126e-4bdd-d294-e20a31b7a791"
      },
      "execution_count": 41,
      "outputs": [
        {
          "output_type": "stream",
          "name": "stderr",
          "text": [
            "NOTE: Results may be misleading due to involvement in interactions\n",
            "\n"
          ]
        },
        {
          "output_type": "display_data",
          "data": {
            "text/plain": [
              " Group emmean   SE df lower.CL upper.CL\n",
              " <40     49.2 7.27 95     34.8     63.6\n",
              " 40+     50.8 3.93 95     43.0     58.6\n",
              "\n",
              "Confidence level used: 0.95 "
            ]
          },
          "metadata": {}
        }
      ]
    },
    {
      "cell_type": "code",
      "source": [
        "emmeans(group_clumsi_fit, specs = ~ Group + clumsi, vcov. = vcovHC)"
      ],
      "metadata": {
        "colab": {
          "base_uri": "https://localhost:8080/",
          "height": 138
        },
        "id": "BjwJrT8o5qD2",
        "outputId": "d87d9b2f-7352-4507-d058-ddd41263fe54"
      },
      "execution_count": 43,
      "outputs": [
        {
          "output_type": "display_data",
          "data": {
            "text/plain": [
              " Group clumsi emmean   SE df lower.CL upper.CL\n",
              " <40   No       54.9 1.56 95     51.8     58.0\n",
              " 40+   No       46.9 2.57 95     41.8     52.0\n",
              " <40   Yes      49.2 7.27 95     34.8     63.6\n",
              " 40+   Yes      50.8 3.93 95     43.0     58.6\n",
              "\n",
              "Confidence level used: 0.95 "
            ]
          },
          "metadata": {}
        }
      ]
    },
    {
      "cell_type": "markdown",
      "source": [
        "# Testing linear combinations\n",
        "\n",
        "Consider the following:\n",
        "\n",
        "1. Does average FWT score differ by exposure group, among children who are not clumsy?\n",
        "2. Does average FWT score differ by exposure group, among children who are clumsy?\n",
        "\n",
        "In terms of the `emmeans()` output:"
      ],
      "metadata": {
        "id": "WEa2eE7z0YcR"
      }
    },
    {
      "cell_type": "code",
      "source": [
        "group_clumsi_emmobj"
      ],
      "metadata": {
        "id": "Hj7Rf5tYw1IN",
        "colab": {
          "base_uri": "https://localhost:8080/",
          "height": 138
        },
        "outputId": "3c3aeb0e-b059-4276-9782-80596decbf0d"
      },
      "execution_count": 44,
      "outputs": [
        {
          "output_type": "display_data",
          "data": {
            "text/plain": [
              " Group clumsi emmean   SE df lower.CL upper.CL\n",
              " <40   No       54.9 1.56 95     51.8     58.0\n",
              " 40+   No       46.9 2.57 95     41.8     52.0\n",
              " <40   Yes      49.2 7.27 95     34.8     63.6\n",
              " 40+   Yes      50.8 3.93 95     43.0     58.6\n",
              "\n",
              "Confidence level used: 0.95 "
            ]
          },
          "metadata": {}
        }
      ]
    },
    {
      "cell_type": "markdown",
      "source": [
        "* We are testing:\n",
        "\n",
        "1. $H_0: \\mu_1 - \\mu_2 = 0$\n",
        "2. $H_0: \\mu_3 - \\mu_4 = 0$\n",
        "\n",
        "* Each of these are *linear combinations* of the four means.  \n",
        "\n",
        "* Linear combinations are of the form:\n",
        "\n",
        "$$c_1 \\mu_1 + c_2 \\mu_2 + ... + c_k \\mu_k$$\n",
        "\n",
        "* Often, many of the $c_i = 0$ (if those means do not play a part in the question of interest)"
      ],
      "metadata": {
        "id": "bWP1bZsOw0Lv"
      }
    },
    {
      "cell_type": "markdown",
      "source": [
        "## Write out the $c_i$\n",
        "\n",
        "* Does average max FWT score differ by exposure group, among children who are not clumsy?\n",
        "  - (1, -1, 0, 0)\n",
        "* Does average max FWT score differ by exposure group, among children who are clumsy?\n",
        "  - (0, 0, 1, -1)"
      ],
      "metadata": {
        "id": "SIGWQrZFD3Px"
      }
    },
    {
      "cell_type": "markdown",
      "source": [
        "## The `contrast()` function in `emmeans`\n",
        "\n",
        "After creating an object with `emmeans()` we can specify contrasts using the `contrast()` function:"
      ],
      "metadata": {
        "id": "cuL1ToQ-EidE"
      }
    },
    {
      "cell_type": "code",
      "source": [
        "group_clumsi_emmobj"
      ],
      "metadata": {
        "id": "q2zGxJOawQTI",
        "colab": {
          "base_uri": "https://localhost:8080/",
          "height": 138
        },
        "outputId": "afb0d77d-bbf9-4aae-b24b-af8ab9826bd9"
      },
      "execution_count": 45,
      "outputs": [
        {
          "output_type": "display_data",
          "data": {
            "text/plain": [
              " Group clumsi emmean   SE df lower.CL upper.CL\n",
              " <40   No       54.9 1.56 95     51.8     58.0\n",
              " 40+   No       46.9 2.57 95     41.8     52.0\n",
              " <40   Yes      49.2 7.27 95     34.8     63.6\n",
              " 40+   Yes      50.8 3.93 95     43.0     58.6\n",
              "\n",
              "Confidence level used: 0.95 "
            ]
          },
          "metadata": {}
        }
      ]
    },
    {
      "cell_type": "markdown",
      "source": [
        "Let's just show off some of the built-in contrasts; note that many of them come with default adjustments for multiple comparisons (can change with the `adjust=`) option:"
      ],
      "metadata": {
        "id": "CexC7F3XxkPh"
      }
    },
    {
      "cell_type": "code",
      "source": [
        "#Default method = 'eff', constrasting each mean to the \"mean of the means\":\n",
        "contrast(group_clumsi_emmobj)"
      ],
      "metadata": {
        "id": "2DM6565N4yog",
        "colab": {
          "base_uri": "https://localhost:8080/",
          "height": 138
        },
        "outputId": "66ac6615-f4a9-4f47-c263-2217c342a9f9"
      },
      "execution_count": 46,
      "outputs": [
        {
          "output_type": "display_data",
          "data": {
            "text/plain": [
              " contrast         estimate   SE df t.ratio p.value\n",
              " <40 No effect       4.444 2.46 95   1.807  0.2959\n",
              " (40+ No) effect    -3.570 2.85 95  -1.251  0.4283\n",
              " <40 Yes effect     -1.237 5.59 95  -0.221  0.9186\n",
              " (40+ Yes) effect    0.363 3.54 95   0.102  0.9186\n",
              "\n",
              "P value adjustment: fdr method for 4 tests "
            ]
          },
          "metadata": {}
        }
      ]
    },
    {
      "cell_type": "code",
      "source": [
        "#All pairwise comparisons; Tukey adjustment used automatically\n",
        "contrast(group_clumsi_emmobj, method = 'pairwise')"
      ],
      "metadata": {
        "id": "ek-Q8nNPvrEJ",
        "colab": {
          "base_uri": "https://localhost:8080/",
          "height": 173
        },
        "outputId": "148d7f2a-22bf-4933-e3a8-4ce94d22195b"
      },
      "execution_count": 47,
      "outputs": [
        {
          "output_type": "display_data",
          "data": {
            "text/plain": [
              " contrast             estimate   SE df t.ratio p.value\n",
              " <40 No - (40+ No)        8.01 3.01 95   2.664  0.0442\n",
              " <40 No - <40 Yes         5.68 7.44 95   0.764  0.8706\n",
              " <40 No - (40+ Yes)       4.08 4.23 95   0.966  0.7690\n",
              " (40+ No) - <40 Yes      -2.33 7.72 95  -0.302  0.9903\n",
              " (40+ No) - (40+ Yes)    -3.93 4.70 95  -0.838  0.8364\n",
              " <40 Yes - (40+ Yes)     -1.60 8.27 95  -0.194  0.9974\n",
              "\n",
              "P value adjustment: tukey method for comparing a family of 4 estimates "
            ]
          },
          "metadata": {}
        }
      ]
    },
    {
      "cell_type": "markdown",
      "source": [
        "We can specify our own contrasts with a list of vectors:"
      ],
      "metadata": {
        "id": "bdfGJL5a5S0h"
      }
    },
    {
      "cell_type": "code",
      "source": [
        "group_clumsi_emmobj"
      ],
      "metadata": {
        "colab": {
          "base_uri": "https://localhost:8080/",
          "height": 138
        },
        "id": "62wwVeO6bz-v",
        "outputId": "69f7e7cb-6da2-468c-e823-ff1286c8d5be"
      },
      "execution_count": 56,
      "outputs": [
        {
          "output_type": "display_data",
          "data": {
            "text/plain": [
              " Group clumsi emmean   SE df lower.CL upper.CL\n",
              " <40   No       54.9 1.56 95     51.8     58.0\n",
              " 40+   No       46.9 2.57 95     41.8     52.0\n",
              " <40   Yes      49.2 7.27 95     34.8     63.6\n",
              " 40+   Yes      50.8 3.93 95     43.0     58.6\n",
              "\n",
              "Confidence level used: 0.95 "
            ]
          },
          "metadata": {}
        }
      ]
    },
    {
      "cell_type": "code",
      "source": [
        "#Customized contrast:\n",
        "contrast(group_clumsi_emmobj, method=list('Lead exposure diff: not clumsy' = c(1,1,-1,0),\n",
        "                                          'Lead exposure diff: clumsy' = c(0,0,-1,1)))"
      ],
      "metadata": {
        "id": "aMoX0NcHwJLa",
        "colab": {
          "base_uri": "https://localhost:8080/",
          "height": 69
        },
        "outputId": "f733d2d5-f92b-4f47-91a1-dbb5da47a437"
      },
      "execution_count": 60,
      "outputs": [
        {
          "output_type": "display_data",
          "data": {
            "text/plain": [
              " contrast                       estimate   SE df t.ratio p.value\n",
              " Lead exposure diff: not clumsy     52.5 7.87 95   6.675  <.0001\n",
              " Lead exposure diff: clumsy          1.6 8.27 95   0.194  0.8470\n"
            ]
          },
          "metadata": {}
        }
      ]
    },
    {
      "cell_type": "code",
      "source": [
        "#With a Bonferonni correction:\n",
        "contrast(group_clumsi_emmobj, method=list('Lead exposure diff: not clumsy' = c(1,-1,0,0),\n",
        "                                          'Lead exposure diff: clumsy' = c(0,0,1,-1)),\n",
        "                                          adjust = 'Bonferroni')"
      ],
      "metadata": {
        "id": "r-NDr-QF6KhY",
        "colab": {
          "base_uri": "https://localhost:8080/",
          "height": 104
        },
        "outputId": "d8f29d43-ba30-42d8-b615-8988dbf8f095"
      },
      "execution_count": 49,
      "outputs": [
        {
          "output_type": "display_data",
          "data": {
            "text/plain": [
              " contrast                       estimate   SE df t.ratio p.value\n",
              " Lead exposure diff: not clumsy     8.01 3.01 95   2.664  0.0181\n",
              " Lead exposure diff: clumsy        -1.60 8.27 95  -0.194  1.0000\n",
              "\n",
              "P value adjustment: bonferroni method for 2 tests "
            ]
          },
          "metadata": {}
        }
      ]
    },
    {
      "cell_type": "markdown",
      "source": [
        "**The Bonferroni correction is a statistical adjustment used to counteract the problem of multiple comparisons. It is applied when conducting multiple hypothesis tests simultaneously to reduce the likelihood of obtaining false-positive results (Type I errors).**\n",
        "\n",
        "When multiple statistical tests are performed, the probability of making at least one Type I error increases with the number of tests. If you conduct 10 independent tests, the probability of making at least one false-positive result becomes\n",
        "\n",
        "1−(1−0.05)^10 ≈ 0.40 ≈ 0.40, or 40%.\n",
        "\n",
        "The Bonferroni correction adjusts for this by making the criteria for significance stricter. Specifically, it divides the overall significance level (α) by the number of tests (n) being performed.For example, if you are performing 10 tests with an overall 𝛼 = 0.05, the Bonferroni-corrected significance level for each individual test is:\n",
        "\n",
        "𝛼_adjusted = 0.05 / 10 = 0.005"
      ],
      "metadata": {
        "id": "SCfUzBdZ0xl_"
      }
    },
    {
      "cell_type": "markdown",
      "source": [
        "Alternatively, we can perform `pairwise` comparisons for each level of `clumsi`:"
      ],
      "metadata": {
        "id": "RIjWYUkE6VtT"
      }
    },
    {
      "cell_type": "code",
      "source": [
        "(clumsi_contrasts <- contrast(group_clumsi_emmobj, method='pairwise', by = 'clumsi'))"
      ],
      "metadata": {
        "id": "W8Oh-tL6wJjT",
        "colab": {
          "base_uri": "https://localhost:8080/",
          "height": 138
        },
        "outputId": "05d5937a-c005-4595-d160-aa0615fa568b"
      },
      "execution_count": 50,
      "outputs": [
        {
          "output_type": "display_data",
          "data": {
            "text/plain": [
              "clumsi = No:\n",
              " contrast    estimate   SE df t.ratio p.value\n",
              " <40 - (40+)     8.01 3.01 95   2.664  0.0091\n",
              "\n",
              "clumsi = Yes:\n",
              " contrast    estimate   SE df t.ratio p.value\n",
              " <40 - (40+)    -1.60 8.27 95  -0.194  0.8470\n"
            ]
          },
          "metadata": {}
        }
      ]
    },
    {
      "cell_type": "markdown",
      "source": [
        "We can extract the contrast coefficients being used and compare them to the ones we input manually:"
      ],
      "metadata": {
        "id": "hkqM8DOG8poA"
      }
    },
    {
      "cell_type": "code",
      "source": [
        "coef(clumsi_contrasts)"
      ],
      "metadata": {
        "id": "JvGRh0r-8n8v",
        "colab": {
          "base_uri": "https://localhost:8080/",
          "height": 223
        },
        "outputId": "71de2cf3-2057-49b2-d25d-3d81792ee722"
      },
      "execution_count": 51,
      "outputs": [
        {
          "output_type": "display_data",
          "data": {
            "text/html": [
              "<table class=\"dataframe\">\n",
              "<caption>A data.frame: 4 × 4</caption>\n",
              "<thead>\n",
              "\t<tr><th scope=col>Group</th><th scope=col>clumsi</th><th scope=col>c.1</th><th scope=col>c.2</th></tr>\n",
              "\t<tr><th scope=col>&lt;fct&gt;</th><th scope=col>&lt;fct&gt;</th><th scope=col>&lt;dbl&gt;</th><th scope=col>&lt;dbl&gt;</th></tr>\n",
              "</thead>\n",
              "<tbody>\n",
              "\t<tr><td>&lt;40</td><td>No </td><td> 1</td><td> 0</td></tr>\n",
              "\t<tr><td>40+</td><td>No </td><td>-1</td><td> 0</td></tr>\n",
              "\t<tr><td>&lt;40</td><td>Yes</td><td> 0</td><td> 1</td></tr>\n",
              "\t<tr><td>40+</td><td>Yes</td><td> 0</td><td>-1</td></tr>\n",
              "</tbody>\n",
              "</table>\n"
            ],
            "text/markdown": "\nA data.frame: 4 × 4\n\n| Group &lt;fct&gt; | clumsi &lt;fct&gt; | c.1 &lt;dbl&gt; | c.2 &lt;dbl&gt; |\n|---|---|---|---|\n| &lt;40 | No  |  1 |  0 |\n| 40+ | No  | -1 |  0 |\n| &lt;40 | Yes |  0 |  1 |\n| 40+ | Yes |  0 | -1 |\n\n",
            "text/latex": "A data.frame: 4 × 4\n\\begin{tabular}{llll}\n Group & clumsi & c.1 & c.2\\\\\n <fct> & <fct> & <dbl> & <dbl>\\\\\n\\hline\n\t <40 & No  &  1 &  0\\\\\n\t 40+ & No  & -1 &  0\\\\\n\t <40 & Yes &  0 &  1\\\\\n\t 40+ & Yes &  0 & -1\\\\\n\\end{tabular}\n",
            "text/plain": [
              "  Group clumsi c.1 c.2\n",
              "1 <40   No      1   0 \n",
              "2 40+   No     -1   0 \n",
              "3 <40   Yes     0   1 \n",
              "4 40+   Yes     0  -1 "
            ]
          },
          "metadata": {}
        }
      ]
    },
    {
      "cell_type": "markdown",
      "source": [
        "Another approach is to redefine the formula in the `emmeans()` step, so that `clumsi` is already considered a higher-order grouping variable:"
      ],
      "metadata": {
        "id": "E8tuHsY87rFl"
      }
    },
    {
      "cell_type": "code",
      "source": [
        "group_clumsi_emobj2 <- emmeans(group_clumsi_fit, ~Group|clumsi, vcov.=vcovHC)\n",
        "group_clumsi_emobj2"
      ],
      "metadata": {
        "id": "Xz3kAaEj7y_Z",
        "colab": {
          "base_uri": "https://localhost:8080/",
          "height": 208
        },
        "outputId": "35c659c4-501e-44e7-feff-68ec17e9b1ef"
      },
      "execution_count": 52,
      "outputs": [
        {
          "output_type": "display_data",
          "data": {
            "text/plain": [
              "clumsi = No:\n",
              " Group emmean   SE df lower.CL upper.CL\n",
              " <40     54.9 1.56 95     51.8     58.0\n",
              " 40+     46.9 2.57 95     41.8     52.0\n",
              "\n",
              "clumsi = Yes:\n",
              " Group emmean   SE df lower.CL upper.CL\n",
              " <40     49.2 7.27 95     34.8     63.6\n",
              " 40+     50.8 3.93 95     43.0     58.6\n",
              "\n",
              "Confidence level used: 0.95 "
            ]
          },
          "metadata": {}
        }
      ]
    },
    {
      "cell_type": "markdown",
      "source": [
        "Then we use pairwise contrasts, which will be performed at the level of the higher-order grouping variable:"
      ],
      "metadata": {
        "id": "iKEqZG2Y6KNf"
      }
    },
    {
      "cell_type": "code",
      "source": [
        "contrast(group_clumsi_emobj2, method='pairwise')"
      ],
      "metadata": {
        "id": "tMZiA7Yc73km",
        "colab": {
          "base_uri": "https://localhost:8080/",
          "height": 138
        },
        "outputId": "6bfab1c4-b50a-443e-b80d-c8ea6d278748"
      },
      "execution_count": 53,
      "outputs": [
        {
          "output_type": "display_data",
          "data": {
            "text/plain": [
              "clumsi = No:\n",
              " contrast    estimate   SE df t.ratio p.value\n",
              " <40 - (40+)     8.01 3.01 95   2.664  0.0091\n",
              "\n",
              "clumsi = Yes:\n",
              " contrast    estimate   SE df t.ratio p.value\n",
              " <40 - (40+)    -1.60 8.27 95  -0.194  0.8470\n"
            ]
          },
          "metadata": {}
        }
      ]
    },
    {
      "cell_type": "markdown",
      "source": [
        "Confidence intervals for contrasts can be obtained using the `confint()` function:"
      ],
      "metadata": {
        "id": "a-krCWzw63UV"
      }
    },
    {
      "cell_type": "code",
      "source": [
        "get_contrasts <- contrast(group_clumsi_emobj2, method='pairwise')\n",
        "confint(get_contrasts)"
      ],
      "metadata": {
        "id": "q1cf4G3z67BE",
        "colab": {
          "base_uri": "https://localhost:8080/",
          "height": 161
        },
        "outputId": "6b89745e-4e7a-4770-e204-84137cd46197"
      },
      "execution_count": 54,
      "outputs": [
        {
          "output_type": "display_data",
          "data": {
            "text/html": [
              "<table class=\"dataframe\">\n",
              "<caption>A summary_emm: 2 × 7</caption>\n",
              "<thead>\n",
              "\t<tr><th></th><th scope=col>contrast</th><th scope=col>clumsi</th><th scope=col>estimate</th><th scope=col>SE</th><th scope=col>df</th><th scope=col>lower.CL</th><th scope=col>upper.CL</th></tr>\n",
              "\t<tr><th></th><th scope=col>&lt;fct&gt;</th><th scope=col>&lt;fct&gt;</th><th scope=col>&lt;dbl&gt;</th><th scope=col>&lt;dbl&gt;</th><th scope=col>&lt;dbl&gt;</th><th scope=col>&lt;dbl&gt;</th><th scope=col>&lt;dbl&gt;</th></tr>\n",
              "</thead>\n",
              "<tbody>\n",
              "\t<tr><th scope=row>1</th><td>&lt;40 - (40+)</td><td>No </td><td> 8.014689</td><td>3.008511</td><td>95</td><td><span style=white-space:pre-wrap>  2.042039</span></td><td>13.98734</td></tr>\n",
              "\t<tr><th scope=row>2</th><td>&lt;40 - (40+)</td><td>Yes</td><td>-1.600000</td><td>8.267406</td><td>95</td><td>-18.012876</td><td>14.81288</td></tr>\n",
              "</tbody>\n",
              "</table>\n"
            ],
            "text/markdown": "\nA summary_emm: 2 × 7\n\n| <!--/--> | contrast &lt;fct&gt; | clumsi &lt;fct&gt; | estimate &lt;dbl&gt; | SE &lt;dbl&gt; | df &lt;dbl&gt; | lower.CL &lt;dbl&gt; | upper.CL &lt;dbl&gt; |\n|---|---|---|---|---|---|---|---|\n| 1 | &lt;40 - (40+) | No  |  8.014689 | 3.008511 | 95 |   2.042039 | 13.98734 |\n| 2 | &lt;40 - (40+) | Yes | -1.600000 | 8.267406 | 95 | -18.012876 | 14.81288 |\n\n",
            "text/latex": "A summary\\_emm: 2 × 7\n\\begin{tabular}{r|lllllll}\n  & contrast & clumsi & estimate & SE & df & lower.CL & upper.CL\\\\\n  & <fct> & <fct> & <dbl> & <dbl> & <dbl> & <dbl> & <dbl>\\\\\n\\hline\n\t1 & <40 - (40+) & No  &  8.014689 & 3.008511 & 95 &   2.042039 & 13.98734\\\\\n\t2 & <40 - (40+) & Yes & -1.600000 & 8.267406 & 95 & -18.012876 & 14.81288\\\\\n\\end{tabular}\n",
            "text/plain": [
              "  contrast    clumsi estimate  SE       df lower.CL   upper.CL\n",
              "1 <40 - (40+) No      8.014689 3.008511 95   2.042039 13.98734\n",
              "2 <40 - (40+) Yes    -1.600000 8.267406 95 -18.012876 14.81288"
            ]
          },
          "metadata": {}
        }
      ]
    },
    {
      "cell_type": "code",
      "source": [
        "## Doing a big ol' pipe for everything\n",
        "\n",
        "(group_clumsi_fit\n",
        "  %>% emmeans(specs = ~Group|clumsi, vcov.=vcovHC)\n",
        "  #%>% contrast(method='pairwise', adjust='Bonferroni', by = 'clumsi')\n",
        "  %>% contrast(method=list('Lead exposure diff: not clumsy' = c(1,-1,0,0),\n",
        "                                          'Lead exposure diff: clumsy' = c(0,0,1,-1)),\n",
        "                                          adjust = 'Bonferroni')\n",
        " # %>% confint()\n",
        ")"
      ],
      "metadata": {
        "id": "Tv1s4jbM8Yqr",
        "colab": {
          "base_uri": "https://localhost:8080/",
          "height": 401
        },
        "outputId": "e851051f-692c-4f2d-8cf4-c60032e0cdfd"
      },
      "execution_count": 55,
      "outputs": [
        {
          "output_type": "error",
          "ename": "ERROR",
          "evalue": "Error in contrast.emmGrid(., method = list(`Lead exposure diff: not clumsy` = c(1, : Nonconforming number of contrast coefficients\n",
          "traceback": [
            "Error in contrast.emmGrid(., method = list(`Lead exposure diff: not clumsy` = c(1, : Nonconforming number of contrast coefficients\nTraceback:\n",
            "1. contrast(., method = list(`Lead exposure diff: not clumsy` = c(1, \n .     -1, 0, 0), `Lead exposure diff: clumsy` = c(0, 0, 1, -1)), \n .     adjust = \"Bonferroni\")",
            "2. contrast.emmGrid(., method = list(`Lead exposure diff: not clumsy` = c(1, \n .     -1, 0, 0), `Lead exposure diff: clumsy` = c(0, 0, 1, -1)), \n .     adjust = \"Bonferroni\")",
            "3. stop(\"Nonconforming number of contrast coefficients\")",
            "4. .handleSimpleError(function (cnd) \n . {\n .     watcher$capture_plot_and_output()\n .     cnd <- sanitize_call(cnd)\n .     watcher$push(cnd)\n .     switch(on_error, continue = invokeRestart(\"eval_continue\"), \n .         stop = invokeRestart(\"eval_stop\"), error = NULL)\n . }, \"Nonconforming number of contrast coefficients\", base::quote(contrast.emmGrid(., \n .     method = list(`Lead exposure diff: not clumsy` = c(1, -1, \n .         0, 0), `Lead exposure diff: clumsy` = c(0, 0, 1, -1)), \n .     adjust = \"Bonferroni\")))"
          ]
        }
      ]
    },
    {
      "cell_type": "code",
      "source": [
        "# big pipe\n",
        "# 2 ways to get the same result\n",
        "\n",
        "(\n",
        "  group_clumsi_fit\n",
        "    %>% emmeans(specs = ~Group|clumsi, vcov.=vcovHC)\n",
        "    %>% contrast(method = 'pairwise')\n",
        "    #%>% contrast(method = list(c(0,0,1,-1)))\n",
        "    %>% confint\n",
        ")"
      ],
      "metadata": {
        "id": "5R-XlecsfRSi"
      },
      "execution_count": null,
      "outputs": []
    },
    {
      "cell_type": "code",
      "source": [
        "# characterize the contrast . . . read below"
      ],
      "metadata": {
        "id": "FMhNi702gm-5"
      },
      "execution_count": null,
      "outputs": []
    },
    {
      "cell_type": "markdown",
      "source": [
        "## Conclusion summary (take note for HW assignments)\n",
        "\n",
        "* Among non-clumsy children,  the average FWT was 8 taps/10s higher in the low exposure group than in the high exposure group.  This is a statistically significant difference in the average FWT score comparing children with high and low lead exposures (p-value = 0.009; 95% CI: 2, 14)\n",
        "\n",
        "* Among clumsy children, the average FWT score was 1.6 taps/10s lower in the low exposure group than in the high exposure group.  There is no evidence of a statistically significant difference in the average FWT score comparing children with high and low lead exposures (p-value = 0.847; 95% CI: -18, 15).\n",
        "\n",
        "\n"
      ],
      "metadata": {
        "id": "AGHTKOe193Rn"
      }
    },
    {
      "cell_type": "markdown",
      "source": [
        "# Interactions with a quantitative covariate\n",
        "\n",
        "* AKA \"Analysis of Covariance\" (ANCOVA)\n",
        "* Consider the following model:\n",
        "\n",
        "$$E(Y|X_1, X_2) = \\beta_0 + \\beta_1X_1 + \\beta_2X_2 + \\beta_3 X_1X_2$$  \n",
        "\n",
        "where:\n",
        "\n",
        "\n",
        "* $X_1 = \\begin{cases}1; & \\mbox{lead exposure} \\geq 40 \\\\\n",
        "0; & \\mbox{lead exposure} < 40 \\end{cases}$\n",
        "* $X_2$ = Age (in years)\n"
      ],
      "metadata": {
        "id": "IHKHT1yP-Cze"
      }
    },
    {
      "cell_type": "code",
      "source": [
        "library(ggplot2)\n",
        "ggplot(data = lead, aes(x = ageyrs, y = maxfwt, color=Group)) +\n",
        "  geom_point(aes(color=Group)) +\n",
        "  stat_smooth(method='lm', se = FALSE) +\n",
        "    xlab('Age (years)') + ylab('FWT score')"
      ],
      "metadata": {
        "id": "JE0HYrAB-zAD"
      },
      "execution_count": null,
      "outputs": []
    },
    {
      "cell_type": "markdown",
      "source": [
        "Fitting this model:"
      ],
      "metadata": {
        "id": "4kSE-3iG_MRJ"
      }
    },
    {
      "cell_type": "code",
      "source": [
        "grp.age.fit <- lm(maxfwt~Group + ageyrs + Group*ageyrs, data = lead)\n",
        "summary(grp.age.fit)"
      ],
      "metadata": {
        "id": "JZwqOinQ-0wg"
      },
      "execution_count": null,
      "outputs": []
    },
    {
      "cell_type": "markdown",
      "source": [
        "Assessing model assumptions:"
      ],
      "metadata": {
        "id": "rC3FkI1NpqlL"
      }
    },
    {
      "cell_type": "code",
      "source": [
        "plot(grp.age.fit, which = 1)"
      ],
      "metadata": {
        "id": "F3s0v7PgpvZT"
      },
      "execution_count": null,
      "outputs": []
    },
    {
      "cell_type": "code",
      "source": [
        "plot(grp.age.fit, which = 3)"
      ],
      "metadata": {
        "id": "_Zz8BLbkpr8L"
      },
      "execution_count": null,
      "outputs": []
    },
    {
      "cell_type": "markdown",
      "source": [
        "* What do these plots suggest regarding assumption satisfaction?"
      ],
      "metadata": {
        "id": "zNK-29z_pzda"
      }
    },
    {
      "cell_type": "code",
      "source": [
        "# Fit quality looks okay: first plot, the smooth is relatively flat.\n",
        "# Constant variance: issues. Meagphone in 1st plot, on-flat trend in the scale-location plot."
      ],
      "metadata": {
        "id": "gKLi-At6hqvk"
      },
      "execution_count": null,
      "outputs": []
    },
    {
      "cell_type": "markdown",
      "source": [
        "## Testing for interaction\n",
        "\n",
        "From this output, there is no evidence to suggest that the difference of max FWT score across lead exposure groups is different at various ages (robust p-value = 0.8268).\n",
        "\n",
        "Another way of looking at it: there is no evidence that the association of max FWT with age differs in the two exposure groups.\n"
      ],
      "metadata": {
        "id": "ZtxSrTO9_Skt"
      }
    },
    {
      "cell_type": "markdown",
      "source": [
        "## Testing linear combinations (quantitative covariate)\n",
        "\n",
        "Consider testing the following with this model:\n",
        "\n",
        "*  What is the difference in average  FWT between lead exposure groups, for 8-year-old children?\n",
        "*  What is the difference in average  FWT between lead exposure groups, for 10-year-old children?\n",
        "* What is the difference in average FWT between 8- and 10-year old children, for the low exposure group?\n",
        "* What is the difference in average FWT between 8- and 10-year old children, for the high exposure group?\n",
        "\n",
        "Note that since `ageyrs` is quantitative we must specify specific values of this variable or it will model lead group means at the average age (10.1 years) by default:"
      ],
      "metadata": {
        "id": "Khx6bGfR_YTN"
      }
    },
    {
      "cell_type": "code",
      "source": [
        "# at: specifies when you see the contrast at\n",
        "# You want to see the contrast at age 8 and 10\n",
        "(grpmeans.byage <- emmeans(grp.age.fit, specs = ~Group|ageyrs, vcov. = vcovHC, at = list(ageyrs = c(8,10))))"
      ],
      "metadata": {
        "id": "vhWR4cjQAaEE"
      },
      "execution_count": null,
      "outputs": []
    },
    {
      "cell_type": "code",
      "source": [
        "(agemeans.bygrp <- emmeans(grp.age.fit, specs = ~ageyrs|Group, vcov. = vcovHC, at = list(ageyrs = c(8,10))))"
      ],
      "metadata": {
        "id": "VfUS0Q8wAd16"
      },
      "execution_count": null,
      "outputs": []
    },
    {
      "cell_type": "code",
      "source": [
        "contrast(grpmeans.byage, method='pairwise')"
      ],
      "metadata": {
        "id": "hzOHme2LBk7b"
      },
      "execution_count": null,
      "outputs": []
    },
    {
      "cell_type": "code",
      "source": [
        "contrast(agemeans.bygrp,method='pairwise')"
      ],
      "metadata": {
        "id": "08z04CQtCMEe"
      },
      "execution_count": null,
      "outputs": []
    },
    {
      "cell_type": "markdown",
      "source": [
        "Note:\n",
        "\n",
        "* The lead exposure difference is very similar for 8- and 10-year olds, consistent with a lack of interaction (and our visual from the scatterplot).  However:\n",
        "  - The exposure difference is significant for the 10-year-olds (p-value = 0.0193) but not the 8-year-olds (p-value = 0.0591).\n",
        "* Similarly, the age difference is quite similar for the high- and low-exposure groups, and is highly significant for both (both p-values < .0001)."
      ],
      "metadata": {
        "id": "bxRNFZ6DCQAh"
      }
    },
    {
      "cell_type": "markdown",
      "source": [
        "## When there is no significant interaction...\n",
        "\n",
        "Here, the Group*Age interaction is not statistically significant, and visually it does not appear that the Lead Exposure Group difference is influenced much by Age.  We could consider fitting a simplified model that just adjusts for age, aka the \"parallel line\" model:"
      ],
      "metadata": {
        "id": "OauHmuZpkBK6"
      }
    },
    {
      "cell_type": "code",
      "source": [
        "# no interaction (parallel model) is better\n",
        "AIC(grp.age.fit, grp.age.parallel.fit)"
      ],
      "metadata": {
        "id": "oZWDi_UgkAvo"
      },
      "execution_count": null,
      "outputs": []
    },
    {
      "cell_type": "code",
      "source": [
        "grp.age.parallel.fit <- lm(maxfwt~Group + ageyrs, data = lead)\n",
        "summary(grp.age.parallel.fit)"
      ],
      "metadata": {
        "id": "NswSZmITkUGv"
      },
      "execution_count": null,
      "outputs": []
    },
    {
      "cell_type": "markdown",
      "source": [
        "Unfortunately there's no easy way to force parallel lines with `geom_smooth()` in `ggplot`; we have to add fitted values to the data set and draw them:"
      ],
      "metadata": {
        "id": "U-DP71oQ1UUN"
      }
    },
    {
      "cell_type": "code",
      "source": [
        "lead$parallel.fitted.values <- fitted(grp.age.parallel.fit)"
      ],
      "metadata": {
        "id": "SEoDv38r1cWz"
      },
      "execution_count": null,
      "outputs": []
    },
    {
      "cell_type": "code",
      "source": [
        "\n",
        "ggplot(data = lead, aes(x = ageyrs, y = maxfwt, color=Group)) +\n",
        "  geom_point(aes(y = maxfwt)) +\n",
        "  geom_line(aes(y = parallel.fitted.values)) +\n",
        "    xlab('Age (years)') + ylab('FWT score')\n"
      ],
      "metadata": {
        "id": "DvQ8OSFA1TJM"
      },
      "execution_count": null,
      "outputs": []
    },
    {
      "cell_type": "markdown",
      "source": [
        "Using `emmean()` to return the fitted values of each line:"
      ],
      "metadata": {
        "id": "SRCFriRH2KeL"
      }
    },
    {
      "cell_type": "code",
      "source": [
        "# The difference between finger tapping score at average age: 53.7 and 48.8\n",
        "(grp.age.adjusted.means <- emmeans(grp.age.parallel.fit, ~Group, vcov. = vcovHC))"
      ],
      "metadata": {
        "id": "YsxCzy6ikZAv"
      },
      "execution_count": null,
      "outputs": []
    },
    {
      "cell_type": "markdown",
      "source": [
        "By default, these are calculated at the average age.  Can you verify these marginal means from the fitted model output?"
      ],
      "metadata": {
        "id": "lvoJ8iWe2Qmk"
      }
    },
    {
      "cell_type": "code",
      "source": [
        "mean(lead$ageyrs)"
      ],
      "metadata": {
        "id": "xOISd0TM2baD"
      },
      "execution_count": null,
      "outputs": []
    },
    {
      "cell_type": "code",
      "source": [
        "26.8878 + 2.6592*10.0728282"
      ],
      "metadata": {
        "id": "wPacZzFGkwDk"
      },
      "execution_count": null,
      "outputs": []
    },
    {
      "cell_type": "code",
      "source": [
        "26.8878 + 2.6592*10.0728282 - 4.8489"
      ],
      "metadata": {
        "id": "7Nq5osg4k5PS"
      },
      "execution_count": null,
      "outputs": []
    },
    {
      "cell_type": "markdown",
      "source": [
        "We can then use `contrast()` to compare these means.  Because the lines are parallel, it doesn't matter whether we contrast the <40 to 40+ at the mean age, or any other age; the contrasts will be the same since the vertical distance between the two lines is constant."
      ],
      "metadata": {
        "id": "MzRueE1y2nQ8"
      }
    },
    {
      "cell_type": "code",
      "source": [
        "contrast(grp.age.adjusted.means, 'pairwise')"
      ],
      "metadata": {
        "id": "eiYwdDRnkiVM"
      },
      "execution_count": null,
      "outputs": []
    },
    {
      "cell_type": "markdown",
      "source": [
        "**Questions**\n",
        "\n",
        "* How does this contrast compare to the 8- and 10- year specific contrasts from earlier?\n",
        "* How would we interpret this contrast?"
      ],
      "metadata": {
        "id": "W8POc553kqzf"
      }
    },
    {
      "cell_type": "code",
      "source": [
        "# Answer:\n",
        "# It is very similar\n",
        "# When comparing kids of the same age, those with high lead exposure have\n",
        "# on average 4.85 taps less FWT score than those with low lead exposure."
      ],
      "metadata": {
        "id": "mV__VG7-lKjC"
      },
      "execution_count": null,
      "outputs": []
    },
    {
      "cell_type": "code",
      "source": [
        "# lets do this contrast for 8 year olds, with the parallel line model:\n",
        "# We suppose to have the same contrast: 4.85 because of the model we are using.\n",
        "(emmeans(grp.age.parallel.fit, specs = ~Group|ageyrs, at = list(ageyrs = c(8, 10)))\n",
        "  %>% contrast(method='pairwise')\n",
        ")"
      ],
      "metadata": {
        "id": "BaZAkhQNlerB"
      },
      "execution_count": null,
      "outputs": []
    },
    {
      "cell_type": "markdown",
      "source": [
        "# Interaction + Adjustment\n",
        "\n",
        "* No evidence for interaction of group with age\n",
        "\n",
        "* There *is* evidence for interaction of group with clumsiness\n",
        "\n",
        "* May want to include a model that allows for Group\\*Clumsiness interaction, *adjusting for* age and sex"
      ],
      "metadata": {
        "id": "X2LM4c49eHE4"
      }
    },
    {
      "cell_type": "markdown",
      "source": [
        "## The model\n",
        "\n",
        "\n",
        "$$E(Y|X_1, X_2,X_3,X_4) = \\beta_0 + \\beta_1X_1 + \\beta_2X_2 + \\beta_3 X_1X_2 + \\beta_4X_3 + \\beta_5X_4$$  \n",
        "\n",
        "where:\n",
        "\n",
        "\n",
        "* $X_1 = \\begin{cases}1; & \\mbox{lead exposure} \\geq 40 \\\\\n",
        "0; & \\mbox{lead exposure} < 40 \\end{cases}$\n",
        "* $X_2 = \\begin{cases}1; & \\mbox{clumsy}\\\\\n",
        "0; & \\mbox{not clumsy} \\end{cases}$\n",
        "* $X_3 = Age$\n",
        "* $X_4 = \\begin{cases}1; & \\mbox{male}\\\\\n",
        "0; & \\mbox{female} \\end{cases}$\n",
        "\n"
      ],
      "metadata": {
        "id": "smIXgpgpeRoL"
      }
    },
    {
      "cell_type": "markdown",
      "source": [
        "Fitting this model:"
      ],
      "metadata": {
        "id": "SBn-KQ_Ygl-F"
      }
    },
    {
      "cell_type": "code",
      "source": [
        "bigmodel <- lm(maxfwt~Group*clumsi + ageyrs + sex, data = lead)\n",
        "summary(bigmodel)"
      ],
      "metadata": {
        "id": "98YauEE2epno"
      },
      "execution_count": null,
      "outputs": []
    },
    {
      "cell_type": "markdown",
      "source": [
        "Using this model, answer the following:\n",
        "\n",
        "A. What is the difference in mean max FWT between exposure groups, among non-clumsy children of the same age and sex?  Also determine whether this difference is statistically significant.  \n",
        "\n",
        "B. What is the difference in mean max FWT between exposure groups, between clumsy children of the same age and sex?  Also determine whether this difference is statistically significant.  \n",
        "\n",
        "Things to consider:\n",
        "\n",
        "* Variance assumption?\n",
        "* Weights to use when averaging across adjustment factors?\n"
      ],
      "metadata": {
        "id": "wxqOZmK1hpYw"
      }
    }
  ]
}