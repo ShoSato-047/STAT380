{
  "nbformat": 4,
  "nbformat_minor": 0,
  "metadata": {
    "colab": {
      "provenance": [],
      "include_colab_link": true
    },
    "kernelspec": {
      "name": "ir",
      "display_name": "R"
    },
    "language_info": {
      "name": "R"
    }
  },
  "cells": [
    {
      "cell_type": "markdown",
      "metadata": {
        "id": "view-in-github",
        "colab_type": "text"
      },
      "source": [
        "<a href=\"https://colab.research.google.com/github/ShoSato-047/STAT380/blob/main/STAT380_4_4_(2025)_multiple_logistic_regression.ipynb\" target=\"_parent\"><img src=\"https://colab.research.google.com/assets/colab-badge.svg\" alt=\"Open In Colab\"/></a>"
      ]
    },
    {
      "cell_type": "markdown",
      "source": [
        "# Introduction\n",
        "\n",
        "In many cases, we want to model the relationship between a binary response $Y$ and *multiple* covariates $X_1$, $X_2$,..., $X_p$.  The motivation is very similar to why we want to use multiple covariates in ordinary linear regression:\n",
        "\n",
        "* The log-odds of $Y=1$ might be nonlinearly related to $X_1$, such that higher-order (e.g. polynomial, $X_1^2$, $X_1^3$, etc.) terms may be required.\n",
        "* The relationship of $Y$ with $X_1$ might be confounded by $X_2$, so that we want to interpret odds ratios of $Y$ with $X_1$ ***conditioned on*** $X_2$.\n",
        "* The relationship of $Y$ with $X_1$ might differ by $X_2$, so that we want to model an interaction between $X_1$ and $X_2$."
      ],
      "metadata": {
        "id": "0wpAJYEKFCiM"
      }
    },
    {
      "cell_type": "markdown",
      "source": [
        "# Comparing models\n",
        "\n",
        "For *nested* models of the form:\n",
        "\n",
        "\n",
        "$$\\mbox{Simple model:  } logit(p) = \\beta_0 + \\beta_1 X_1 + ... + \\beta_p X_p$$\n",
        "\n",
        "$$\\mbox{Larger model:  } logit(p) = \\mbox{all simple model terms} + \\beta_{p+1}X_{p+1} + ... + \\beta_{p+k}X_{p+k}$$\n",
        "\n",
        "\n",
        "we can use the drop-in-deviance (aka likelihood ratio test) to test:\n",
        "\n",
        "$$H_0: \\mbox{the simple model is sufficient;  }\\beta_{p+1}=...=\\beta_{p+k} = 0$$\n",
        "$$H_0: \\mbox{the larger model is necessary;  at least one of }\\beta_{p+1},...,\\beta_{p+k} \\ne 0$$\n",
        "\n",
        "We can also use AIC and BIC to try to determine an optimal model; remember smaller is better.\n",
        "\n",
        "\n",
        "If trying to compare models that are *not* nested, we cannot use the likelihood ratio test, but we can still compare AIC/BIC to try to settle on an appropriate model."
      ],
      "metadata": {
        "id": "Lh76suu8oYmI"
      }
    },
    {
      "cell_type": "markdown",
      "source": [
        "# Case study: teen weight loss\n",
        "\n",
        "The data for this problem come from the U.S. Youth Risk Behavior Surveillance System (YRBSS).  The [YRBSS](https://www.cdc.gov/healthyyouth/data/yrbs/index.htm) is an annual national school-based survey conducted by the Centers for Disease Control and Prevention (CDC) and state, territorial, and local education and health agencies and tribal governments.  (Data sourced from [Roback and Legler](https://bookdown.org/roback/bookdown-BeyondMLR/ch-logreg.html#case-study-trying-to-lose-weight).)\n",
        "\n",
        "The prevalence of obesity among U.S. youth suggests that wanting to lose weight is sensible and desirable for some young people such as those with a high body mass index (BMI). On the flip side, there are young people who do not need to lose weight but make ill-advised attempts to do so nonetheless.\n",
        "\n",
        "Question 66 on the YRBSS asks: *Which of the following are you trying to do about your weight?*  The possible responses were:\n",
        "\n",
        "A. Lose weight  \n",
        "B. Gain weight   \n",
        "C. Stay the same weight   \n",
        "D. I am not trying to do anything about my weight   \n",
        "\n",
        "For this problem our response variable $Y$ is 1 if the teen answered \"lose weight\" and 0 otherwise.\n"
      ],
      "metadata": {
        "id": "-5tqn6Y9idZk"
      }
    },
    {
      "cell_type": "code",
      "source": [
        "library(tidyverse)\n",
        "yrbss <- read.csv('https://www.dropbox.com/s/x09q8ec1gasnkq1/risk2009.txt?dl=1') %>%\n",
        "   mutate(bmidecile = round(bmipct/10))\n",
        "head(yrbss)"
      ],
      "metadata": {
        "colab": {
          "base_uri": "https://localhost:8080/",
          "height": 459
        },
        "id": "DhHDvvFoh3AS",
        "outputId": "2559dc59-ac8d-4325-a29b-c55e1b35a575"
      },
      "execution_count": 2,
      "outputs": [
        {
          "output_type": "stream",
          "name": "stderr",
          "text": [
            "── \u001b[1mAttaching core tidyverse packages\u001b[22m ──────────────────────── tidyverse 2.0.0 ──\n",
            "\u001b[32m✔\u001b[39m \u001b[34mdplyr    \u001b[39m 1.1.4     \u001b[32m✔\u001b[39m \u001b[34mreadr    \u001b[39m 2.1.5\n",
            "\u001b[32m✔\u001b[39m \u001b[34mforcats  \u001b[39m 1.0.0     \u001b[32m✔\u001b[39m \u001b[34mstringr  \u001b[39m 1.5.1\n",
            "\u001b[32m✔\u001b[39m \u001b[34mggplot2  \u001b[39m 3.5.1     \u001b[32m✔\u001b[39m \u001b[34mtibble   \u001b[39m 3.2.1\n",
            "\u001b[32m✔\u001b[39m \u001b[34mlubridate\u001b[39m 1.9.4     \u001b[32m✔\u001b[39m \u001b[34mtidyr    \u001b[39m 1.3.1\n",
            "\u001b[32m✔\u001b[39m \u001b[34mpurrr    \u001b[39m 1.0.4     \n",
            "── \u001b[1mConflicts\u001b[22m ────────────────────────────────────────── tidyverse_conflicts() ──\n",
            "\u001b[31m✖\u001b[39m \u001b[34mdplyr\u001b[39m::\u001b[32mfilter()\u001b[39m masks \u001b[34mstats\u001b[39m::filter()\n",
            "\u001b[31m✖\u001b[39m \u001b[34mdplyr\u001b[39m::\u001b[32mlag()\u001b[39m    masks \u001b[34mstats\u001b[39m::lag()\n",
            "\u001b[36mℹ\u001b[39m Use the conflicted package (\u001b[3m\u001b[34m<http://conflicted.r-lib.org/>\u001b[39m\u001b[23m) to force all conflicts to become errors\n"
          ]
        },
        {
          "output_type": "display_data",
          "data": {
            "text/html": [
              "<table class=\"dataframe\">\n",
              "<caption>A data.frame: 6 × 9</caption>\n",
              "<thead>\n",
              "\t<tr><th></th><th scope=col>lose.wt</th><th scope=col>lose.wt.01</th><th scope=col>sex</th><th scope=col>sport</th><th scope=col>sport_fac</th><th scope=col>sport_num</th><th scope=col>media</th><th scope=col>bmipct</th><th scope=col>bmidecile</th></tr>\n",
              "\t<tr><th></th><th scope=col>&lt;chr&gt;</th><th scope=col>&lt;int&gt;</th><th scope=col>&lt;chr&gt;</th><th scope=col>&lt;chr&gt;</th><th scope=col>&lt;chr&gt;</th><th scope=col>&lt;int&gt;</th><th scope=col>&lt;dbl&gt;</th><th scope=col>&lt;int&gt;</th><th scope=col>&lt;dbl&gt;</th></tr>\n",
              "</thead>\n",
              "<tbody>\n",
              "\t<tr><th scope=row>1</th><td>Lose weight   </td><td>1</td><td>Male  </td><td>No sports</td><td>0 teams</td><td>0</td><td>3</td><td>98</td><td>10</td></tr>\n",
              "\t<tr><th scope=row>2</th><td>No weight loss</td><td>0</td><td>Female</td><td>No sports</td><td>0 teams</td><td>0</td><td>1</td><td>41</td><td> 4</td></tr>\n",
              "\t<tr><th scope=row>3</th><td>No weight loss</td><td>0</td><td>Male  </td><td>Sports   </td><td>1 team </td><td>1</td><td>3</td><td> 6</td><td> 1</td></tr>\n",
              "\t<tr><th scope=row>4</th><td>No weight loss</td><td>0</td><td>Male  </td><td>No sports</td><td>0 teams</td><td>0</td><td>3</td><td>41</td><td> 4</td></tr>\n",
              "\t<tr><th scope=row>5</th><td>Lose weight   </td><td>1</td><td>Male  </td><td>No sports</td><td>0 teams</td><td>0</td><td>3</td><td>99</td><td>10</td></tr>\n",
              "\t<tr><th scope=row>6</th><td>No weight loss</td><td>0</td><td>Male  </td><td>No sports</td><td>0 teams</td><td>0</td><td>2</td><td>97</td><td>10</td></tr>\n",
              "</tbody>\n",
              "</table>\n"
            ],
            "text/markdown": "\nA data.frame: 6 × 9\n\n| <!--/--> | lose.wt &lt;chr&gt; | lose.wt.01 &lt;int&gt; | sex &lt;chr&gt; | sport &lt;chr&gt; | sport_fac &lt;chr&gt; | sport_num &lt;int&gt; | media &lt;dbl&gt; | bmipct &lt;int&gt; | bmidecile &lt;dbl&gt; |\n|---|---|---|---|---|---|---|---|---|---|\n| 1 | Lose weight    | 1 | Male   | No sports | 0 teams | 0 | 3 | 98 | 10 |\n| 2 | No weight loss | 0 | Female | No sports | 0 teams | 0 | 1 | 41 |  4 |\n| 3 | No weight loss | 0 | Male   | Sports    | 1 team  | 1 | 3 |  6 |  1 |\n| 4 | No weight loss | 0 | Male   | No sports | 0 teams | 0 | 3 | 41 |  4 |\n| 5 | Lose weight    | 1 | Male   | No sports | 0 teams | 0 | 3 | 99 | 10 |\n| 6 | No weight loss | 0 | Male   | No sports | 0 teams | 0 | 2 | 97 | 10 |\n\n",
            "text/latex": "A data.frame: 6 × 9\n\\begin{tabular}{r|lllllllll}\n  & lose.wt & lose.wt.01 & sex & sport & sport\\_fac & sport\\_num & media & bmipct & bmidecile\\\\\n  & <chr> & <int> & <chr> & <chr> & <chr> & <int> & <dbl> & <int> & <dbl>\\\\\n\\hline\n\t1 & Lose weight    & 1 & Male   & No sports & 0 teams & 0 & 3 & 98 & 10\\\\\n\t2 & No weight loss & 0 & Female & No sports & 0 teams & 0 & 1 & 41 &  4\\\\\n\t3 & No weight loss & 0 & Male   & Sports    & 1 team  & 1 & 3 &  6 &  1\\\\\n\t4 & No weight loss & 0 & Male   & No sports & 0 teams & 0 & 3 & 41 &  4\\\\\n\t5 & Lose weight    & 1 & Male   & No sports & 0 teams & 0 & 3 & 99 & 10\\\\\n\t6 & No weight loss & 0 & Male   & No sports & 0 teams & 0 & 2 & 97 & 10\\\\\n\\end{tabular}\n",
            "text/plain": [
              "  lose.wt        lose.wt.01 sex    sport     sport_fac sport_num media bmipct\n",
              "1 Lose weight    1          Male   No sports 0 teams   0         3     98    \n",
              "2 No weight loss 0          Female No sports 0 teams   0         1     41    \n",
              "3 No weight loss 0          Male   Sports    1 team    1         3      6    \n",
              "4 No weight loss 0          Male   No sports 0 teams   0         3     41    \n",
              "5 Lose weight    1          Male   No sports 0 teams   0         3     99    \n",
              "6 No weight loss 0          Male   No sports 0 teams   0         2     97    \n",
              "  bmidecile\n",
              "1 10       \n",
              "2  4       \n",
              "3  1       \n",
              "4  4       \n",
              "5 10       \n",
              "6 10       "
            ]
          },
          "metadata": {}
        }
      ]
    },
    {
      "cell_type": "code",
      "source": [
        "#Code for widening plots:\n",
        "library(repr)\n",
        "options(repr.plot.width=10, repr.plot.height=5)"
      ],
      "metadata": {
        "id": "kgjngRdRxGde"
      },
      "execution_count": 3,
      "outputs": []
    },
    {
      "cell_type": "code",
      "source": [
        "dim(yrbss)"
      ],
      "metadata": {
        "colab": {
          "base_uri": "https://localhost:8080/",
          "height": 34
        },
        "id": "GDYMYl3oiBuh",
        "outputId": "d6779932-c634-49c7-c9cc-31a7bdd837d4"
      },
      "execution_count": 4,
      "outputs": [
        {
          "output_type": "display_data",
          "data": {
            "text/html": [
              "<style>\n",
              ".list-inline {list-style: none; margin:0; padding: 0}\n",
              ".list-inline>li {display: inline-block}\n",
              ".list-inline>li:not(:last-child)::after {content: \"\\00b7\"; padding: 0 .5ex}\n",
              "</style>\n",
              "<ol class=list-inline><li>445</li><li>9</li></ol>\n"
            ],
            "text/markdown": "1. 445\n2. 9\n\n\n",
            "text/latex": "\\begin{enumerate*}\n\\item 445\n\\item 9\n\\end{enumerate*}\n",
            "text/plain": [
              "[1] 445   9"
            ]
          },
          "metadata": {}
        }
      ]
    },
    {
      "cell_type": "markdown",
      "source": [
        "\n",
        "We have several covariates which may relate to the odds of trying to lose weight, including:\n",
        "\n",
        "* `bmipct`: the percentile for a given BMI for members of the same sex. This facilitates comparisons when modeling with males and females.  `bmidecile` groups each percentile into one of the deciles (10-percentile groupings).\n",
        "*  `sex`\n",
        "*  `sport_num`, the number of sports teams each teen participates in (0, 1, 2, or 3+).  Corresponding variable `sport` is a binary variable indicating whether or not the teen plays on any sports teams\n",
        "* `media`: a variable indicating how many hours per day teens watch TV.  This is based on Question 81 from the YRBSS: \"On an average school day, how many hours do you watch TV?\" Possible values: 0 (I do not watch TV on an average school day), 0.5 (Less than 1 hour per day), 1 (1 hr per day), 2 (2 hrs per day), 3 (3 hrs per day), 4 (4 hrs per day), and 5 (5 or more hrs per day).\n"
      ],
      "metadata": {
        "id": "VdfqfOoAknw3"
      }
    },
    {
      "cell_type": "markdown",
      "source": [
        "# Research question 1:  Is BMI associated with an interest in losing weight?  If so, how?\n",
        "\n"
      ],
      "metadata": {
        "id": "dRGTvCjRnGDv"
      }
    },
    {
      "cell_type": "markdown",
      "source": [
        "## Exploratory analysis\n",
        "\n",
        "The variable `bmipct` is our primary $X$ variable for this question.  We could try to visualize the relationship between the BMI percentiles and the response variable `lose.wt.01` in two ways:\n",
        "\n",
        "* A **stacked bar graph** indicating the proportion trying to lose weight in each BMI percentile - this visualizes how $\\hat p$ varies with $X$;\n",
        "* Calculating the empirical (i.e., observed) $logit(\\hat p)$ (log-odds) of trying to lose weight, and creating a **scatterplot** of these logits versus the percentiles."
      ],
      "metadata": {
        "id": "9Iy4Oc8NnK9h"
      }
    },
    {
      "cell_type": "markdown",
      "source": [
        "Let's try a stacked bar graph first:"
      ],
      "metadata": {
        "id": "Hh2kMTSuQEIY"
      }
    },
    {
      "cell_type": "code",
      "source": [
        "ggplot(data = yrbss) +\n",
        "  geom_bar(aes(x = bmipct, fill = factor(lose.wt.01)), position = 'fill') +\n",
        "    ylab('Proportion') + xlab('BMI percentile') +\n",
        "      scale_fill_discrete(name = 'Trying to lose weight', labels = c('no','yes'))"
      ],
      "metadata": {
        "colab": {
          "base_uri": "https://localhost:8080/",
          "height": 317
        },
        "id": "zw07OCvPQGgU",
        "outputId": "08e7358f-c070-4504-e98b-340c0c5a3020"
      },
      "execution_count": 5,
      "outputs": [
        {
          "output_type": "display_data",
          "data": {
            "text/plain": [
              "plot without title"
            ],
            "image/png": "[encoded data removed]"
          },
          "metadata": {
            "image/png": {
              "width": 600,
              "height": 300
            }
          }
        }
      ]
    },
    {
      "cell_type": "markdown",
      "source": [
        "The relationship is quite noisy!  This is because we have so few observations in each unique BMI percentile.  We can see this if we try to compute the empirical logits for each BMI percentile:"
      ],
      "metadata": {
        "id": "8SuuGl0GQVne"
      }
    },
    {
      "cell_type": "code",
      "source": [
        "yrbss %>%\n",
        "  group_by(bmipct) %>%\n",
        "    summarize(ntrying = sum(lose.wt.01 ==1), total = n()) %>%\n",
        "      mutate(p = ntrying/total) %>%\n",
        "        mutate(logit.p = log(p/(1-p))) %>%\n",
        "          head(10)"
      ],
      "metadata": {
        "colab": {
          "base_uri": "https://localhost:8080/",
          "height": 411
        },
        "id": "8U_BtgmHlcl-",
        "outputId": "47a34e81-71e1-41ce-9c69-803afef8d78a"
      },
      "execution_count": 6,
      "outputs": [
        {
          "output_type": "display_data",
          "data": {
            "text/html": [
              "<table class=\"dataframe\">\n",
              "<caption>A tibble: 10 × 5</caption>\n",
              "<thead>\n",
              "\t<tr><th scope=col>bmipct</th><th scope=col>ntrying</th><th scope=col>total</th><th scope=col>p</th><th scope=col>logit.p</th></tr>\n",
              "\t<tr><th scope=col>&lt;int&gt;</th><th scope=col>&lt;int&gt;</th><th scope=col>&lt;int&gt;</th><th scope=col>&lt;dbl&gt;</th><th scope=col>&lt;dbl&gt;</th></tr>\n",
              "</thead>\n",
              "<tbody>\n",
              "\t<tr><td> 0</td><td>1</td><td>4</td><td>0.2500000</td><td>-1.0986123</td></tr>\n",
              "\t<tr><td> 1</td><td>0</td><td>1</td><td>0.0000000</td><td>      -Inf</td></tr>\n",
              "\t<tr><td> 2</td><td>0</td><td>1</td><td>0.0000000</td><td>      -Inf</td></tr>\n",
              "\t<tr><td> 3</td><td>0</td><td>1</td><td>0.0000000</td><td>      -Inf</td></tr>\n",
              "\t<tr><td> 5</td><td>0</td><td>2</td><td>0.0000000</td><td>      -Inf</td></tr>\n",
              "\t<tr><td> 6</td><td>0</td><td>2</td><td>0.0000000</td><td>      -Inf</td></tr>\n",
              "\t<tr><td> 7</td><td>0</td><td>2</td><td>0.0000000</td><td>      -Inf</td></tr>\n",
              "\t<tr><td> 8</td><td>1</td><td>3</td><td>0.3333333</td><td>-0.6931472</td></tr>\n",
              "\t<tr><td>10</td><td>0</td><td>4</td><td>0.0000000</td><td>      -Inf</td></tr>\n",
              "\t<tr><td>12</td><td>0</td><td>2</td><td>0.0000000</td><td>      -Inf</td></tr>\n",
              "</tbody>\n",
              "</table>\n"
            ],
            "text/markdown": "\nA tibble: 10 × 5\n\n| bmipct &lt;int&gt; | ntrying &lt;int&gt; | total &lt;int&gt; | p &lt;dbl&gt; | logit.p &lt;dbl&gt; |\n|---|---|---|---|---|\n|  0 | 1 | 4 | 0.2500000 | -1.0986123 |\n|  1 | 0 | 1 | 0.0000000 |       -Inf |\n|  2 | 0 | 1 | 0.0000000 |       -Inf |\n|  3 | 0 | 1 | 0.0000000 |       -Inf |\n|  5 | 0 | 2 | 0.0000000 |       -Inf |\n|  6 | 0 | 2 | 0.0000000 |       -Inf |\n|  7 | 0 | 2 | 0.0000000 |       -Inf |\n|  8 | 1 | 3 | 0.3333333 | -0.6931472 |\n| 10 | 0 | 4 | 0.0000000 |       -Inf |\n| 12 | 0 | 2 | 0.0000000 |       -Inf |\n\n",
            "text/latex": "A tibble: 10 × 5\n\\begin{tabular}{lllll}\n bmipct & ntrying & total & p & logit.p\\\\\n <int> & <int> & <int> & <dbl> & <dbl>\\\\\n\\hline\n\t  0 & 1 & 4 & 0.2500000 & -1.0986123\\\\\n\t  1 & 0 & 1 & 0.0000000 &       -Inf\\\\\n\t  2 & 0 & 1 & 0.0000000 &       -Inf\\\\\n\t  3 & 0 & 1 & 0.0000000 &       -Inf\\\\\n\t  5 & 0 & 2 & 0.0000000 &       -Inf\\\\\n\t  6 & 0 & 2 & 0.0000000 &       -Inf\\\\\n\t  7 & 0 & 2 & 0.0000000 &       -Inf\\\\\n\t  8 & 1 & 3 & 0.3333333 & -0.6931472\\\\\n\t 10 & 0 & 4 & 0.0000000 &       -Inf\\\\\n\t 12 & 0 & 2 & 0.0000000 &       -Inf\\\\\n\\end{tabular}\n",
            "text/plain": [
              "   bmipct ntrying total p         logit.p   \n",
              "1   0     1       4     0.2500000 -1.0986123\n",
              "2   1     0       1     0.0000000       -Inf\n",
              "3   2     0       1     0.0000000       -Inf\n",
              "4   3     0       1     0.0000000       -Inf\n",
              "5   5     0       2     0.0000000       -Inf\n",
              "6   6     0       2     0.0000000       -Inf\n",
              "7   7     0       2     0.0000000       -Inf\n",
              "8   8     1       3     0.3333333 -0.6931472\n",
              "9  10     0       4     0.0000000       -Inf\n",
              "10 12     0       2     0.0000000       -Inf"
            ]
          },
          "metadata": {}
        }
      ]
    },
    {
      "cell_type": "markdown",
      "source": [
        "Note that due to to the small counts in each unique BMI percentile, this results in lots of 0 and 1 proportions resulting in infinite (or negative infinite) logits.  A scatterplot will have a lot of missing data!\n",
        "\n"
      ],
      "metadata": {
        "id": "BCvc3nMjny2H"
      }
    },
    {
      "cell_type": "markdown",
      "source": [
        "\n",
        "An alternative exploratory approach would be to visualize the relationship using the deciles, instead of percentiles, to increase the amount of data in each bin.\n",
        "\n",
        "Doing this with the stacked bar graph:"
      ],
      "metadata": {
        "id": "T5O17UwWQs3G"
      }
    },
    {
      "cell_type": "code",
      "source": [
        "ggplot(data = yrbss) +\n",
        "  geom_bar(aes(x = bmidecile, fill = factor(lose.wt.01)), position = 'fill') +\n",
        "    ylab('Proportion') + xlab('BMI percentile') +\n",
        "      scale_fill_discrete(name = 'Trying to lose weight', labels = c('no','yes'))"
      ],
      "metadata": {
        "colab": {
          "base_uri": "https://localhost:8080/",
          "height": 317
        },
        "id": "I89ayIOPRAwW",
        "outputId": "a90d80f9-6f10-4edc-e0ea-aff1323aa730"
      },
      "execution_count": 7,
      "outputs": [
        {
          "output_type": "display_data",
          "data": {
            "text/plain": [
              "plot without title"
            ],
            "image/png": "[encoded data removed]"
          },
          "metadata": {
            "image/png": {
              "width": 600,
              "height": 300
            }
          }
        }
      ]
    },
    {
      "cell_type": "markdown",
      "source": [
        "This shows a much less noisy relationship!  Let's find the empirical logits and plot those versus the deciles:"
      ],
      "metadata": {
        "id": "n1nF3rKURIHH"
      }
    },
    {
      "cell_type": "code",
      "source": [
        "(empirical.logits <- yrbss %>%\n",
        "  group_by(bmidecile) %>%\n",
        "    summarize(ntrying = sum(lose.wt.01 ==1), total = n()) %>%\n",
        "      mutate(p = ntrying/total) %>%\n",
        "        mutate(logit.p = log(p/(1-p)))\n",
        ")"
      ],
      "metadata": {
        "colab": {
          "base_uri": "https://localhost:8080/",
          "height": 443
        },
        "id": "XwU5ImKBoBgn",
        "outputId": "8704cd78-b383-4e15-affe-b27e29f1e5c5"
      },
      "execution_count": 8,
      "outputs": [
        {
          "output_type": "display_data",
          "data": {
            "text/html": [
              "<table class=\"dataframe\">\n",
              "<caption>A tibble: 11 × 5</caption>\n",
              "<thead>\n",
              "\t<tr><th scope=col>bmidecile</th><th scope=col>ntrying</th><th scope=col>total</th><th scope=col>p</th><th scope=col>logit.p</th></tr>\n",
              "\t<tr><th scope=col>&lt;dbl&gt;</th><th scope=col>&lt;int&gt;</th><th scope=col>&lt;int&gt;</th><th scope=col>&lt;dbl&gt;</th><th scope=col>&lt;dbl&gt;</th></tr>\n",
              "</thead>\n",
              "<tbody>\n",
              "\t<tr><td> 0</td><td> 1</td><td> 9</td><td>0.1111111</td><td>-2.0794415</td></tr>\n",
              "\t<tr><td> 1</td><td> 1</td><td>16</td><td>0.0625000</td><td>-2.7080502</td></tr>\n",
              "\t<tr><td> 2</td><td> 4</td><td>33</td><td>0.1212121</td><td>-1.9810015</td></tr>\n",
              "\t<tr><td> 3</td><td> 6</td><td>30</td><td>0.2000000</td><td>-1.3862944</td></tr>\n",
              "\t<tr><td> 4</td><td>11</td><td>42</td><td>0.2619048</td><td>-1.0360919</td></tr>\n",
              "\t<tr><td> 5</td><td>10</td><td>30</td><td>0.3333333</td><td>-0.6931472</td></tr>\n",
              "\t<tr><td> 6</td><td>18</td><td>45</td><td>0.4000000</td><td>-0.4054651</td></tr>\n",
              "\t<tr><td> 7</td><td>20</td><td>46</td><td>0.4347826</td><td>-0.2623643</td></tr>\n",
              "\t<tr><td> 8</td><td>30</td><td>53</td><td>0.5660377</td><td> 0.2657032</td></tr>\n",
              "\t<tr><td> 9</td><td>43</td><td>67</td><td>0.6417910</td><td> 0.5831463</td></tr>\n",
              "\t<tr><td>10</td><td>55</td><td>74</td><td>0.7432432</td><td> 1.0628942</td></tr>\n",
              "</tbody>\n",
              "</table>\n"
            ],
            "text/markdown": "\nA tibble: 11 × 5\n\n| bmidecile &lt;dbl&gt; | ntrying &lt;int&gt; | total &lt;int&gt; | p &lt;dbl&gt; | logit.p &lt;dbl&gt; |\n|---|---|---|---|---|\n|  0 |  1 |  9 | 0.1111111 | -2.0794415 |\n|  1 |  1 | 16 | 0.0625000 | -2.7080502 |\n|  2 |  4 | 33 | 0.1212121 | -1.9810015 |\n|  3 |  6 | 30 | 0.2000000 | -1.3862944 |\n|  4 | 11 | 42 | 0.2619048 | -1.0360919 |\n|  5 | 10 | 30 | 0.3333333 | -0.6931472 |\n|  6 | 18 | 45 | 0.4000000 | -0.4054651 |\n|  7 | 20 | 46 | 0.4347826 | -0.2623643 |\n|  8 | 30 | 53 | 0.5660377 |  0.2657032 |\n|  9 | 43 | 67 | 0.6417910 |  0.5831463 |\n| 10 | 55 | 74 | 0.7432432 |  1.0628942 |\n\n",
            "text/latex": "A tibble: 11 × 5\n\\begin{tabular}{lllll}\n bmidecile & ntrying & total & p & logit.p\\\\\n <dbl> & <int> & <int> & <dbl> & <dbl>\\\\\n\\hline\n\t  0 &  1 &  9 & 0.1111111 & -2.0794415\\\\\n\t  1 &  1 & 16 & 0.0625000 & -2.7080502\\\\\n\t  2 &  4 & 33 & 0.1212121 & -1.9810015\\\\\n\t  3 &  6 & 30 & 0.2000000 & -1.3862944\\\\\n\t  4 & 11 & 42 & 0.2619048 & -1.0360919\\\\\n\t  5 & 10 & 30 & 0.3333333 & -0.6931472\\\\\n\t  6 & 18 & 45 & 0.4000000 & -0.4054651\\\\\n\t  7 & 20 & 46 & 0.4347826 & -0.2623643\\\\\n\t  8 & 30 & 53 & 0.5660377 &  0.2657032\\\\\n\t  9 & 43 & 67 & 0.6417910 &  0.5831463\\\\\n\t 10 & 55 & 74 & 0.7432432 &  1.0628942\\\\\n\\end{tabular}\n",
            "text/plain": [
              "   bmidecile ntrying total p         logit.p   \n",
              "1   0         1       9    0.1111111 -2.0794415\n",
              "2   1         1      16    0.0625000 -2.7080502\n",
              "3   2         4      33    0.1212121 -1.9810015\n",
              "4   3         6      30    0.2000000 -1.3862944\n",
              "5   4        11      42    0.2619048 -1.0360919\n",
              "6   5        10      30    0.3333333 -0.6931472\n",
              "7   6        18      45    0.4000000 -0.4054651\n",
              "8   7        20      46    0.4347826 -0.2623643\n",
              "9   8        30      53    0.5660377  0.2657032\n",
              "10  9        43      67    0.6417910  0.5831463\n",
              "11 10        55      74    0.7432432  1.0628942"
            ]
          },
          "metadata": {}
        }
      ]
    },
    {
      "cell_type": "markdown",
      "source": [
        "This yields much more stable logits, which we can then plot vs the BMI deciles:"
      ],
      "metadata": {
        "id": "lGxH-VLeoOpf"
      }
    },
    {
      "cell_type": "code",
      "source": [
        "ggplot(data = empirical.logits) +\n",
        "  geom_point(aes(x = bmidecile, y = logit.p)) +\n",
        "    xlab('BMI decile') + ylab('Empirical logits')"
      ],
      "metadata": {
        "colab": {
          "base_uri": "https://localhost:8080/",
          "height": 317
        },
        "id": "6LEItJZNlmGU",
        "outputId": "d8f79d43-899e-4ba3-d013-06244eaa991d"
      },
      "execution_count": 9,
      "outputs": [
        {
          "output_type": "display_data",
          "data": {
            "text/plain": [
              "plot without title"
            ],
            "image/png": "[encoded data removed]"
          },
          "metadata": {
            "image/png": {
              "width": 600,
              "height": 300
            }
          }
        }
      ]
    },
    {
      "cell_type": "markdown",
      "source": [
        "## Model fitting"
      ],
      "metadata": {
        "id": "fjksfm-54KQe"
      }
    },
    {
      "cell_type": "markdown",
      "source": [
        "Increasing BMI appears to be positively associated with the log-odds of trying to lose weight, and the relationship appears quite linear.  Let's go ahead and fit a *simple* logistic model using the BMI decile as our single $X$ term, specifically:\n",
        "\n",
        "$$logit(p_i) = \\beta_0 + \\beta_1 BMIdecile_i$$"
      ],
      "metadata": {
        "id": "e7tUvtRRmTVU"
      }
    },
    {
      "cell_type": "code",
      "source": [
        "bmid.fit <- glm(lose.wt.01 ~ bmidecile, data = yrbss, family=binomial)\n",
        "summary(bmid.fit)"
      ],
      "metadata": {
        "colab": {
          "base_uri": "https://localhost:8080/",
          "height": 329
        },
        "id": "60F14HYxp7aQ",
        "outputId": "20c5c753-0e26-426e-b096-9e4a176ce387"
      },
      "execution_count": 10,
      "outputs": [
        {
          "output_type": "display_data",
          "data": {
            "text/plain": [
              "\n",
              "Call:\n",
              "glm(formula = lose.wt.01 ~ bmidecile, family = binomial, data = yrbss)\n",
              "\n",
              "Coefficients:\n",
              "            Estimate Std. Error z value Pr(>|z|)    \n",
              "(Intercept)  -2.5522     0.3095  -8.245   <2e-16 ***\n",
              "bmidecile     0.3529     0.0422   8.362   <2e-16 ***\n",
              "---\n",
              "Signif. codes:  0 ‘***’ 0.001 ‘**’ 0.01 ‘*’ 0.05 ‘.’ 0.1 ‘ ’ 1\n",
              "\n",
              "(Dispersion parameter for binomial family taken to be 1)\n",
              "\n",
              "    Null deviance: 611.93  on 444  degrees of freedom\n",
              "Residual deviance: 523.72  on 443  degrees of freedom\n",
              "AIC: 527.72\n",
              "\n",
              "Number of Fisher Scoring iterations: 4\n"
            ]
          },
          "metadata": {}
        }
      ]
    },
    {
      "cell_type": "code",
      "source": [
        "exp(confint(bmid.fit))"
      ],
      "metadata": {
        "colab": {
          "base_uri": "https://localhost:8080/",
          "height": 164
        },
        "id": "ChNKc64S4B4n",
        "outputId": "d9f63fcc-105c-4f1b-a981-73345722de57"
      },
      "execution_count": 11,
      "outputs": [
        {
          "output_type": "stream",
          "name": "stderr",
          "text": [
            "Waiting for profiling to be done...\n",
            "\n"
          ]
        },
        {
          "output_type": "display_data",
          "data": {
            "text/html": [
              "<table class=\"dataframe\">\n",
              "<caption>A matrix: 2 × 2 of type dbl</caption>\n",
              "<thead>\n",
              "\t<tr><th></th><th scope=col>2.5 %</th><th scope=col>97.5 %</th></tr>\n",
              "</thead>\n",
              "<tbody>\n",
              "\t<tr><th scope=row>(Intercept)</th><td>0.04146918</td><td>0.1398747</td></tr>\n",
              "\t<tr><th scope=row>bmidecile</th><td>1.31339183</td><td>1.5501145</td></tr>\n",
              "</tbody>\n",
              "</table>\n"
            ],
            "text/markdown": "\nA matrix: 2 × 2 of type dbl\n\n| <!--/--> | 2.5 % | 97.5 % |\n|---|---|---|\n| (Intercept) | 0.04146918 | 0.1398747 |\n| bmidecile | 1.31339183 | 1.5501145 |\n\n",
            "text/latex": "A matrix: 2 × 2 of type dbl\n\\begin{tabular}{r|ll}\n  & 2.5 \\% & 97.5 \\%\\\\\n\\hline\n\t(Intercept) & 0.04146918 & 0.1398747\\\\\n\tbmidecile & 1.31339183 & 1.5501145\\\\\n\\end{tabular}\n",
            "text/plain": [
              "            2.5 %      97.5 %   \n",
              "(Intercept) 0.04146918 0.1398747\n",
              "bmidecile   1.31339183 1.5501145"
            ]
          },
          "metadata": {}
        }
      ]
    },
    {
      "cell_type": "markdown",
      "source": [
        "* Interpret $\\hat\\beta_0$ (or a function of it).\n",
        "  * **The log-odds of trying to loose weight are -2.55 for people in the first deicile category(bmidecile = 0).**\n",
        "  * **The odds of trying to loose weight  for people in the first decile category are 0.078 (NOTE: In the first decile category, 7.8 people trying to loose weight for every 100 people who are not trying to loose weight).**"
      ],
      "metadata": {
        "id": "5pQeUN2HqIOw"
      }
    },
    {
      "cell_type": "code",
      "source": [
        "exp(-2.55)"
      ],
      "metadata": {
        "colab": {
          "base_uri": "https://localhost:8080/",
          "height": 34
        },
        "id": "AlGDTl_624Ps",
        "outputId": "8934798c-2edb-4993-a894-0a7e124922c9"
      },
      "execution_count": 42,
      "outputs": [
        {
          "output_type": "display_data",
          "data": {
            "text/html": [
              "0.0780816660011532"
            ],
            "text/markdown": "0.0780816660011532",
            "text/latex": "0.0780816660011532",
            "text/plain": [
              "[1] 0.07808167"
            ]
          },
          "metadata": {}
        }
      ]
    },
    {
      "cell_type": "markdown",
      "source": [
        "\n",
        "  \n",
        "* Interpret $\\hat\\beta_1$ (or a function of it).\n",
        "  * **The log odds of trying to loose weight increase by 0.53 for every increase in BMI decile.**\n",
        "  * **The odds of trying to lose weight are 1.42 times higher for each 1-decile increase in BMI.**"
      ],
      "metadata": {
        "id": "3KWgl9KB2jMJ"
      }
    },
    {
      "cell_type": "code",
      "source": [
        "# odds ratio for each 1-decile increase:\n",
        "exp(0.353)"
      ],
      "metadata": {
        "colab": {
          "base_uri": "https://localhost:8080/",
          "height": 34
        },
        "id": "64GkvbQt38Qi",
        "outputId": "cd99a2d2-ab33-4111-cc3b-b1577535ba3f"
      },
      "execution_count": 43,
      "outputs": [
        {
          "output_type": "display_data",
          "data": {
            "text/html": [
              "1.4233311434336"
            ],
            "text/markdown": "1.4233311434336",
            "text/latex": "1.4233311434336",
            "text/plain": [
              "[1] 1.423331"
            ]
          },
          "metadata": {}
        }
      ]
    },
    {
      "cell_type": "markdown",
      "source": [
        "\n",
        "* Is there evidence of a relationship between BMI and intention to lose weight?\n",
        "  * **Yes, the p-value for the slope is < 0.0001. And the CI for the exponentiated slope does not include 1.**"
      ],
      "metadata": {
        "id": "aw5LkHcv2loj"
      }
    },
    {
      "cell_type": "markdown",
      "source": [
        "Adding the fitted values to the empirical logit plot:"
      ],
      "metadata": {
        "id": "4F7YapBu37TN"
      }
    },
    {
      "cell_type": "code",
      "source": [
        "# prediction function\n",
        "empirical.logits$fitted.logits <- predict(bmid.fit, newdata = empirical.logits)"
      ],
      "metadata": {
        "id": "93s7AXCh4VOG"
      },
      "execution_count": 44,
      "outputs": []
    },
    {
      "cell_type": "code",
      "source": [
        "ggplot(data = empirical.logits) +\n",
        "  geom_point(aes(x = bmidecile, y = logit.p)) +\n",
        "      geom_line(aes(x = bmidecile, y = fitted.logits)) +\n",
        "    xlab('BMI decile') + ylab('Empirical logits')"
      ],
      "metadata": {
        "colab": {
          "base_uri": "https://localhost:8080/",
          "height": 317
        },
        "id": "WuWuEPrN4RqM",
        "outputId": "5cf5c778-dd4c-4a1b-fc0c-b5e3ce1a891e"
      },
      "execution_count": 45,
      "outputs": [
        {
          "output_type": "display_data",
          "data": {
            "text/plain": [
              "plot without title"
            ],
            "image/png": "[encoded data removed]"
          },
          "metadata": {
            "image/png": {
              "width": 600,
              "height": 300
            }
          }
        }
      ]
    },
    {
      "cell_type": "markdown",
      "source": [
        "The fitted values very well-fit the empirical, observed relationship between the log-odds of wanting to lose weight and the BMI deciles."
      ],
      "metadata": {
        "id": "d5xMY-gh4euU"
      }
    },
    {
      "cell_type": "markdown",
      "source": [
        "# Research question 2: Does the relationship between BMI and weight-loss interest depend on sex?"
      ],
      "metadata": {
        "id": "r-rZhEac4x9F"
      }
    },
    {
      "cell_type": "markdown",
      "source": [
        "## Exploratory analysis\n"
      ],
      "metadata": {
        "id": "qriSpWyc5C-_"
      }
    },
    {
      "cell_type": "markdown",
      "source": [
        "We can explore this *multivariate* relationship in two ways:\n",
        "\n",
        "* With **faceted stacked bar graphs** of $\\hat p$, the observed *proportions* of those trying to lose weight, by BMI decile *faceted by sex*;\n",
        "* With a **color-coded scatterplot** of  $logit(\\hat p)$, the observed *log-odds* of those trying to lose weight, versus BMI decile *color-coded by sex*."
      ],
      "metadata": {
        "id": "HIuGgdws6Pin"
      }
    },
    {
      "cell_type": "markdown",
      "source": [
        "Creating the faceted stacked bar graph:"
      ],
      "metadata": {
        "id": "B8DxwLR-R1gI"
      }
    },
    {
      "cell_type": "code",
      "source": [
        "ggplot(data = yrbss) +\n",
        "  geom_bar(aes(x = factor(bmidecile), fill = factor(lose.wt.01)), position = 'fill') +\n",
        "    facet_wrap(~sex) +\n",
        "      xlab('BMI decile') + ylab('Observed proportion') +\n",
        "        scale_fill_discrete(name = 'Intend to lose weight')"
      ],
      "metadata": {
        "colab": {
          "base_uri": "https://localhost:8080/",
          "height": 317
        },
        "id": "gAWOQuNU6YBO",
        "outputId": "e6375c71-255f-42b6-d794-cd3c801ec4af"
      },
      "execution_count": 14,
      "outputs": [
        {
          "output_type": "display_data",
          "data": {
            "text/plain": [
              "plot without title"
            ],
            "image/png": "[encoded data removed]"
          },
          "metadata": {
            "image/png": {
              "width": 600,
              "height": 300
            }
          }
        }
      ]
    },
    {
      "cell_type": "markdown",
      "source": [
        "\n",
        "To find the empirical logits we need to find $logit(\\hat p)$ for each sex/BMI decile combination:"
      ],
      "metadata": {
        "id": "mmBEgtCdRcH_"
      }
    },
    {
      "cell_type": "code",
      "source": [
        "(empirical.logits.sex <- yrbss %>%\n",
        "  group_by(sex,bmidecile) %>%\n",
        "    summarize(ntrying = sum(lose.wt.01 ==1), total = n()) %>%\n",
        "      mutate(p = ntrying/total) %>%\n",
        "        mutate(logit.p = log(p/(1-p)))\n",
        ")"
      ],
      "metadata": {
        "colab": {
          "base_uri": "https://localhost:8080/",
          "height": 822
        },
        "id": "b5omrVyw5IIo",
        "outputId": "1fa10ed5-d0e4-4312-a857-30d87d77461b"
      },
      "execution_count": 46,
      "outputs": [
        {
          "output_type": "stream",
          "name": "stderr",
          "text": [
            "\u001b[1m\u001b[22m`summarise()` has grouped output by 'sex'. You can override using the `.groups`\n",
            "argument.\n"
          ]
        },
        {
          "output_type": "display_data",
          "data": {
            "text/html": [
              "<table class=\"dataframe\">\n",
              "<caption>A grouped_df: 22 × 6</caption>\n",
              "<thead>\n",
              "\t<tr><th scope=col>sex</th><th scope=col>bmidecile</th><th scope=col>ntrying</th><th scope=col>total</th><th scope=col>p</th><th scope=col>logit.p</th></tr>\n",
              "\t<tr><th scope=col>&lt;chr&gt;</th><th scope=col>&lt;dbl&gt;</th><th scope=col>&lt;int&gt;</th><th scope=col>&lt;int&gt;</th><th scope=col>&lt;dbl&gt;</th><th scope=col>&lt;dbl&gt;</th></tr>\n",
              "</thead>\n",
              "<tbody>\n",
              "\t<tr><td>Female</td><td> 0</td><td> 0</td><td> 4</td><td>0.0000000</td><td>       -Inf</td></tr>\n",
              "\t<tr><td>Female</td><td> 1</td><td> 1</td><td> 8</td><td>0.1250000</td><td>-1.94591015</td></tr>\n",
              "\t<tr><td>Female</td><td> 2</td><td> 4</td><td>22</td><td>0.1818182</td><td>-1.50407740</td></tr>\n",
              "\t<tr><td>Female</td><td> 3</td><td> 4</td><td>13</td><td>0.3076923</td><td>-0.81093022</td></tr>\n",
              "\t<tr><td>Female</td><td> 4</td><td>11</td><td>25</td><td>0.4400000</td><td>-0.24116206</td></tr>\n",
              "\t<tr><td>Female</td><td> 5</td><td>10</td><td>19</td><td>0.5263158</td><td> 0.10536052</td></tr>\n",
              "\t<tr><td>Female</td><td> 6</td><td>14</td><td>25</td><td>0.5600000</td><td> 0.24116206</td></tr>\n",
              "\t<tr><td>Female</td><td> 7</td><td>12</td><td>18</td><td>0.6666667</td><td> 0.69314718</td></tr>\n",
              "\t<tr><td>Female</td><td> 8</td><td>20</td><td>22</td><td>0.9090909</td><td> 2.30258509</td></tr>\n",
              "\t<tr><td>Female</td><td> 9</td><td>25</td><td>30</td><td>0.8333333</td><td> 1.60943791</td></tr>\n",
              "\t<tr><td>Female</td><td>10</td><td>24</td><td>28</td><td>0.8571429</td><td> 1.79175947</td></tr>\n",
              "\t<tr><td>Male  </td><td> 0</td><td> 1</td><td> 5</td><td>0.2000000</td><td>-1.38629436</td></tr>\n",
              "\t<tr><td>Male  </td><td> 1</td><td> 0</td><td> 8</td><td>0.0000000</td><td>       -Inf</td></tr>\n",
              "\t<tr><td>Male  </td><td> 2</td><td> 0</td><td>11</td><td>0.0000000</td><td>       -Inf</td></tr>\n",
              "\t<tr><td>Male  </td><td> 3</td><td> 2</td><td>17</td><td>0.1176471</td><td>-2.01490302</td></tr>\n",
              "\t<tr><td>Male  </td><td> 4</td><td> 0</td><td>17</td><td>0.0000000</td><td>       -Inf</td></tr>\n",
              "\t<tr><td>Male  </td><td> 5</td><td> 0</td><td>11</td><td>0.0000000</td><td>       -Inf</td></tr>\n",
              "\t<tr><td>Male  </td><td> 6</td><td> 4</td><td>20</td><td>0.2000000</td><td>-1.38629436</td></tr>\n",
              "\t<tr><td>Male  </td><td> 7</td><td> 8</td><td>28</td><td>0.2857143</td><td>-0.91629073</td></tr>\n",
              "\t<tr><td>Male  </td><td> 8</td><td>10</td><td>31</td><td>0.3225806</td><td>-0.74193734</td></tr>\n",
              "\t<tr><td>Male  </td><td> 9</td><td>18</td><td>37</td><td>0.4864865</td><td>-0.05406722</td></tr>\n",
              "\t<tr><td>Male  </td><td>10</td><td>31</td><td>46</td><td>0.6739130</td><td> 0.72593700</td></tr>\n",
              "</tbody>\n",
              "</table>\n"
            ],
            "text/markdown": "\nA grouped_df: 22 × 6\n\n| sex &lt;chr&gt; | bmidecile &lt;dbl&gt; | ntrying &lt;int&gt; | total &lt;int&gt; | p &lt;dbl&gt; | logit.p &lt;dbl&gt; |\n|---|---|---|---|---|---|\n| Female |  0 |  0 |  4 | 0.0000000 |        -Inf |\n| Female |  1 |  1 |  8 | 0.1250000 | -1.94591015 |\n| Female |  2 |  4 | 22 | 0.1818182 | -1.50407740 |\n| Female |  3 |  4 | 13 | 0.3076923 | -0.81093022 |\n| Female |  4 | 11 | 25 | 0.4400000 | -0.24116206 |\n| Female |  5 | 10 | 19 | 0.5263158 |  0.10536052 |\n| Female |  6 | 14 | 25 | 0.5600000 |  0.24116206 |\n| Female |  7 | 12 | 18 | 0.6666667 |  0.69314718 |\n| Female |  8 | 20 | 22 | 0.9090909 |  2.30258509 |\n| Female |  9 | 25 | 30 | 0.8333333 |  1.60943791 |\n| Female | 10 | 24 | 28 | 0.8571429 |  1.79175947 |\n| Male   |  0 |  1 |  5 | 0.2000000 | -1.38629436 |\n| Male   |  1 |  0 |  8 | 0.0000000 |        -Inf |\n| Male   |  2 |  0 | 11 | 0.0000000 |        -Inf |\n| Male   |  3 |  2 | 17 | 0.1176471 | -2.01490302 |\n| Male   |  4 |  0 | 17 | 0.0000000 |        -Inf |\n| Male   |  5 |  0 | 11 | 0.0000000 |        -Inf |\n| Male   |  6 |  4 | 20 | 0.2000000 | -1.38629436 |\n| Male   |  7 |  8 | 28 | 0.2857143 | -0.91629073 |\n| Male   |  8 | 10 | 31 | 0.3225806 | -0.74193734 |\n| Male   |  9 | 18 | 37 | 0.4864865 | -0.05406722 |\n| Male   | 10 | 31 | 46 | 0.6739130 |  0.72593700 |\n\n",
            "text/latex": "A grouped\\_df: 22 × 6\n\\begin{tabular}{llllll}\n sex & bmidecile & ntrying & total & p & logit.p\\\\\n <chr> & <dbl> & <int> & <int> & <dbl> & <dbl>\\\\\n\\hline\n\t Female &  0 &  0 &  4 & 0.0000000 &        -Inf\\\\\n\t Female &  1 &  1 &  8 & 0.1250000 & -1.94591015\\\\\n\t Female &  2 &  4 & 22 & 0.1818182 & -1.50407740\\\\\n\t Female &  3 &  4 & 13 & 0.3076923 & -0.81093022\\\\\n\t Female &  4 & 11 & 25 & 0.4400000 & -0.24116206\\\\\n\t Female &  5 & 10 & 19 & 0.5263158 &  0.10536052\\\\\n\t Female &  6 & 14 & 25 & 0.5600000 &  0.24116206\\\\\n\t Female &  7 & 12 & 18 & 0.6666667 &  0.69314718\\\\\n\t Female &  8 & 20 & 22 & 0.9090909 &  2.30258509\\\\\n\t Female &  9 & 25 & 30 & 0.8333333 &  1.60943791\\\\\n\t Female & 10 & 24 & 28 & 0.8571429 &  1.79175947\\\\\n\t Male   &  0 &  1 &  5 & 0.2000000 & -1.38629436\\\\\n\t Male   &  1 &  0 &  8 & 0.0000000 &        -Inf\\\\\n\t Male   &  2 &  0 & 11 & 0.0000000 &        -Inf\\\\\n\t Male   &  3 &  2 & 17 & 0.1176471 & -2.01490302\\\\\n\t Male   &  4 &  0 & 17 & 0.0000000 &        -Inf\\\\\n\t Male   &  5 &  0 & 11 & 0.0000000 &        -Inf\\\\\n\t Male   &  6 &  4 & 20 & 0.2000000 & -1.38629436\\\\\n\t Male   &  7 &  8 & 28 & 0.2857143 & -0.91629073\\\\\n\t Male   &  8 & 10 & 31 & 0.3225806 & -0.74193734\\\\\n\t Male   &  9 & 18 & 37 & 0.4864865 & -0.05406722\\\\\n\t Male   & 10 & 31 & 46 & 0.6739130 &  0.72593700\\\\\n\\end{tabular}\n",
            "text/plain": [
              "   sex    bmidecile ntrying total p         logit.p    \n",
              "1  Female  0         0       4    0.0000000        -Inf\n",
              "2  Female  1         1       8    0.1250000 -1.94591015\n",
              "3  Female  2         4      22    0.1818182 -1.50407740\n",
              "4  Female  3         4      13    0.3076923 -0.81093022\n",
              "5  Female  4        11      25    0.4400000 -0.24116206\n",
              "6  Female  5        10      19    0.5263158  0.10536052\n",
              "7  Female  6        14      25    0.5600000  0.24116206\n",
              "8  Female  7        12      18    0.6666667  0.69314718\n",
              "9  Female  8        20      22    0.9090909  2.30258509\n",
              "10 Female  9        25      30    0.8333333  1.60943791\n",
              "11 Female 10        24      28    0.8571429  1.79175947\n",
              "12 Male    0         1       5    0.2000000 -1.38629436\n",
              "13 Male    1         0       8    0.0000000        -Inf\n",
              "14 Male    2         0      11    0.0000000        -Inf\n",
              "15 Male    3         2      17    0.1176471 -2.01490302\n",
              "16 Male    4         0      17    0.0000000        -Inf\n",
              "17 Male    5         0      11    0.0000000        -Inf\n",
              "18 Male    6         4      20    0.2000000 -1.38629436\n",
              "19 Male    7         8      28    0.2857143 -0.91629073\n",
              "20 Male    8        10      31    0.3225806 -0.74193734\n",
              "21 Male    9        18      37    0.4864865 -0.05406722\n",
              "22 Male   10        31      46    0.6739130  0.72593700"
            ]
          },
          "metadata": {}
        }
      ]
    },
    {
      "cell_type": "code",
      "source": [
        "# verifiying the last fitted value, for fun:\n",
        "bmi.sex.nointeraction$coefficients"
      ],
      "metadata": {
        "colab": {
          "base_uri": "https://localhost:8080/",
          "height": 34
        },
        "id": "MlPJbelz7yWg",
        "outputId": "4852f0aa-2113-4041-d9c0-04dcfc9948f7"
      },
      "execution_count": 49,
      "outputs": [
        {
          "output_type": "display_data",
          "data": {
            "text/html": [
              "<style>\n",
              ".dl-inline {width: auto; margin:0; padding: 0}\n",
              ".dl-inline>dt, .dl-inline>dd {float: none; width: auto; display: inline-block}\n",
              ".dl-inline>dt::after {content: \":\\0020\"; padding-right: .5ex}\n",
              ".dl-inline>dt:not(:first-of-type) {padding-left: .5ex}\n",
              "</style><dl class=dl-inline><dt>(Intercept)</dt><dd>-2.36766079976241</dd><dt>bmidecile</dt><dd>0.467850733852413</dd><dt>sexMale</dt><dd>-1.87137688548091</dd></dl>\n"
            ],
            "text/markdown": "(Intercept)\n:   -2.36766079976241bmidecile\n:   0.467850733852413sexMale\n:   -1.87137688548091\n\n",
            "text/latex": "\\begin{description*}\n\\item[(Intercept)] -2.36766079976241\n\\item[bmidecile] 0.467850733852413\n\\item[sexMale] -1.87137688548091\n\\end{description*}\n",
            "text/plain": [
              "(Intercept)   bmidecile     sexMale \n",
              " -2.3676608   0.4678507  -1.8713769 "
            ]
          },
          "metadata": {}
        }
      ]
    },
    {
      "cell_type": "code",
      "source": [
        "# b0 + b1*10 + b2*1\n",
        "-2.36766079976241 + 0.467850733852413*10 + -1.87137688548091*1"
      ],
      "metadata": {
        "colab": {
          "base_uri": "https://localhost:8080/",
          "height": 34
        },
        "id": "wlQY_62m8CqX",
        "outputId": "15426594-6284-4df7-b470-8db7729a56ae"
      },
      "execution_count": 50,
      "outputs": [
        {
          "output_type": "display_data",
          "data": {
            "text/html": [
              "0.43946965328081"
            ],
            "text/markdown": "0.43946965328081",
            "text/latex": "0.43946965328081",
            "text/plain": [
              "[1] 0.4394697"
            ]
          },
          "metadata": {}
        }
      ]
    },
    {
      "cell_type": "code",
      "source": [
        "ggplot(data = empirical.logits.sex %>% filter(p > 0 & p < 1)) +\n",
        "  geom_point(aes(x = bmidecile, y = logit.p,col=sex)) +\n",
        "    xlab('BMI decile') + ylab('Empirical logits')"
      ],
      "metadata": {
        "colab": {
          "base_uri": "https://localhost:8080/",
          "height": 317
        },
        "id": "M4tjrWfX4-wd",
        "outputId": "8ecda2fd-7f29-4304-c98f-e5ede80d2f65"
      },
      "execution_count": 16,
      "outputs": [
        {
          "output_type": "display_data",
          "data": {
            "text/plain": [
              "plot without title"
            ],
            "image/png": "[encoded data removed]"
          },
          "metadata": {
            "image/png": {
              "width": 600,
              "height": 300
            }
          }
        }
      ]
    },
    {
      "cell_type": "markdown",
      "source": [
        "Of note:\n",
        "\n",
        "* For both males and females, BMI is linearly related with log-odds of intention to lose weight *for the most part*.  The BMI decile of 0 for males yields a higher logit producing more of a \"hockey stick\" pattern; this could be noise though as there are only 5 males in this BMI decile.\n",
        "* The relationship appears roughly the same for both males and females\n",
        "* Conditioning on a given BMI decile, the log-odds of wanting to lose weight appear higher for females than males"
      ],
      "metadata": {
        "id": "f3UBL-685YOG"
      }
    },
    {
      "cell_type": "markdown",
      "source": [
        "## Model fitting: no interaction\n",
        "\n",
        "Our first *multiple logistic regression* model of the log-odds of intending to lose weight as a function of *both* BMI and sex is as follows:\n",
        "\n",
        "$$logit(p) = \\beta_0 + \\beta_1 X_1 + \\beta_2 X_2$$\n",
        "\n",
        "* $X_1$ = BMI decile, modeled as a *continuous* variable;\n",
        "*  $X_2 = 1$ for males $0$ for females (to be consistent with R's alphabetical dummy variable creation).\n",
        "\n",
        "This is a *no interaction* model, i.e., \"different intercepts/common slopes.\"  Conceptually, this model assumes:\n",
        "\n",
        "1. The positive relationship of wanting to lose weight with BMI is the same for males and females;\n",
        "2. The gap between males and females in their intention to lose weight is the same at all BMI deciles.\n"
      ],
      "metadata": {
        "id": "yXvdKMZP7NXf"
      }
    },
    {
      "cell_type": "markdown",
      "source": [
        "\n",
        "Fitting the model:\n"
      ],
      "metadata": {
        "id": "sU-6fPn6A_on"
      }
    },
    {
      "cell_type": "code",
      "source": [
        "bmi.sex.nointeraction <- glm(lose.wt.01~bmidecile + sex, data = yrbss, family=binomial)\n",
        "summary(bmi.sex.nointeraction)"
      ],
      "metadata": {
        "colab": {
          "base_uri": "https://localhost:8080/",
          "height": 364
        },
        "id": "iGhyx6c67zzT",
        "outputId": "a31afec2-3fab-45de-d34e-f495c352b3f0"
      },
      "execution_count": 17,
      "outputs": [
        {
          "output_type": "display_data",
          "data": {
            "text/plain": [
              "\n",
              "Call:\n",
              "glm(formula = lose.wt.01 ~ bmidecile + sex, family = binomial, \n",
              "    data = yrbss)\n",
              "\n",
              "Coefficients:\n",
              "            Estimate Std. Error z value Pr(>|z|)    \n",
              "(Intercept)  -2.3677     0.3342  -7.085 1.39e-12 ***\n",
              "bmidecile     0.4678     0.0517   9.050  < 2e-16 ***\n",
              "sexMale      -1.8714     0.2599  -7.200 6.02e-13 ***\n",
              "---\n",
              "Signif. codes:  0 ‘***’ 0.001 ‘**’ 0.01 ‘*’ 0.05 ‘.’ 0.1 ‘ ’ 1\n",
              "\n",
              "(Dispersion parameter for binomial family taken to be 1)\n",
              "\n",
              "    Null deviance: 611.93  on 444  degrees of freedom\n",
              "Residual deviance: 461.21  on 442  degrees of freedom\n",
              "AIC: 467.21\n",
              "\n",
              "Number of Fisher Scoring iterations: 5\n"
            ]
          },
          "metadata": {}
        }
      ]
    },
    {
      "cell_type": "markdown",
      "source": [
        "Adding the fitted values to the empirical logit data frame, and plotting:"
      ],
      "metadata": {
        "id": "vu8amTi59Ptk"
      }
    },
    {
      "cell_type": "code",
      "source": [
        "empirical.logits.sex$fitted.values <- predict(bmi.sex.nointeraction, newdata = empirical.logits.sex)"
      ],
      "metadata": {
        "id": "ndY4jbsS9S6c"
      },
      "execution_count": 18,
      "outputs": []
    },
    {
      "cell_type": "code",
      "source": [
        "ggplot(data = empirical.logits.sex %>% filter(p > 0 & p < 1)) +\n",
        "  geom_point(aes(x = bmidecile, y = logit.p,col=sex)) +\n",
        "      geom_line(aes(x = bmidecile, y = fitted.values,col=sex)) +\n",
        "    xlab('BMI decile') + ylab('Empirical logits')"
      ],
      "metadata": {
        "colab": {
          "base_uri": "https://localhost:8080/",
          "height": 317
        },
        "id": "16PH8Wip9cO0",
        "outputId": "dbb0c2e6-655c-4b31-bb25-af7aebc18e44"
      },
      "execution_count": 19,
      "outputs": [
        {
          "output_type": "display_data",
          "data": {
            "text/plain": [
              "plot without title"
            ],
            "image/png": "[encoded data removed]"
          },
          "metadata": {
            "image/png": {
              "width": 600,
              "height": 300
            }
          }
        }
      ]
    },
    {
      "cell_type": "markdown",
      "source": [
        "* Provide a visual interpretation of $\\hat\\beta_0$.\n",
        "  * **The intercept of the red line: fitted logit(p) in BMI decile = 0.**\n",
        "* Provide a visual interpretation of $\\hat\\beta_1$.\n",
        "  * **The slope of both lines.**\n",
        "* Provide a visual interpretation of $\\hat\\beta_2$.\n",
        "  * **The gap between the lines (negative becasue males are beelow females).**"
      ],
      "metadata": {
        "id": "mtCxgiEo8ZtV"
      }
    },
    {
      "cell_type": "code",
      "source": [
        "exp(coef(bmi.sex.nointeraction))"
      ],
      "metadata": {
        "colab": {
          "base_uri": "https://localhost:8080/",
          "height": 34
        },
        "id": "DtTkqPec_TQ-",
        "outputId": "0041ea77-9678-45d0-ee68-752f59183adf"
      },
      "execution_count": 20,
      "outputs": [
        {
          "output_type": "display_data",
          "data": {
            "text/html": [
              "<style>\n",
              ".dl-inline {width: auto; margin:0; padding: 0}\n",
              ".dl-inline>dt, .dl-inline>dd {float: none; width: auto; display: inline-block}\n",
              ".dl-inline>dt::after {content: \":\\0020\"; padding-right: .5ex}\n",
              ".dl-inline>dt:not(:first-of-type) {padding-left: .5ex}\n",
              "</style><dl class=dl-inline><dt>(Intercept)</dt><dd>0.0936996523713352</dd><dt>bmidecile</dt><dd>1.59655907267802</dd><dt>sexMale</dt><dd>0.153911597210754</dd></dl>\n"
            ],
            "text/markdown": "(Intercept)\n:   0.0936996523713352bmidecile\n:   1.59655907267802sexMale\n:   0.153911597210754\n\n",
            "text/latex": "\\begin{description*}\n\\item[(Intercept)] 0.0936996523713352\n\\item[bmidecile] 1.59655907267802\n\\item[sexMale] 0.153911597210754\n\\end{description*}\n",
            "text/plain": [
              "(Intercept)   bmidecile     sexMale \n",
              " 0.09369965  1.59655907  0.15391160 "
            ]
          },
          "metadata": {}
        }
      ]
    },
    {
      "cell_type": "code",
      "source": [
        "exp(confint(bmi.sex.nointeraction))"
      ],
      "metadata": {
        "colab": {
          "base_uri": "https://localhost:8080/",
          "height": 195
        },
        "id": "IUJkNuki9wiy",
        "outputId": "c3f0f43e-0a52-442c-a2d9-a554e6dd42c5"
      },
      "execution_count": 21,
      "outputs": [
        {
          "output_type": "stream",
          "name": "stderr",
          "text": [
            "Waiting for profiling to be done...\n",
            "\n"
          ]
        },
        {
          "output_type": "display_data",
          "data": {
            "text/html": [
              "<table class=\"dataframe\">\n",
              "<caption>A matrix: 3 × 2 of type dbl</caption>\n",
              "<thead>\n",
              "\t<tr><th></th><th scope=col>2.5 %</th><th scope=col>97.5 %</th></tr>\n",
              "</thead>\n",
              "<tbody>\n",
              "\t<tr><th scope=row>(Intercept)</th><td>0.04745060</td><td>0.1763842</td></tr>\n",
              "\t<tr><th scope=row>bmidecile</th><td>1.44859711</td><td>1.7747971</td></tr>\n",
              "\t<tr><th scope=row>sexMale</th><td>0.09093211</td><td>0.2524824</td></tr>\n",
              "</tbody>\n",
              "</table>\n"
            ],
            "text/markdown": "\nA matrix: 3 × 2 of type dbl\n\n| <!--/--> | 2.5 % | 97.5 % |\n|---|---|---|\n| (Intercept) | 0.04745060 | 0.1763842 |\n| bmidecile | 1.44859711 | 1.7747971 |\n| sexMale | 0.09093211 | 0.2524824 |\n\n",
            "text/latex": "A matrix: 3 × 2 of type dbl\n\\begin{tabular}{r|ll}\n  & 2.5 \\% & 97.5 \\%\\\\\n\\hline\n\t(Intercept) & 0.04745060 & 0.1763842\\\\\n\tbmidecile & 1.44859711 & 1.7747971\\\\\n\tsexMale & 0.09093211 & 0.2524824\\\\\n\\end{tabular}\n",
            "text/plain": [
              "            2.5 %      97.5 %   \n",
              "(Intercept) 0.04745060 0.1763842\n",
              "bmidecile   1.44859711 1.7747971\n",
              "sexMale     0.09093211 0.2524824"
            ]
          },
          "metadata": {}
        }
      ]
    },
    {
      "cell_type": "markdown",
      "source": [
        "* Interpret $\\exp(\\hat\\beta_0)$.\n",
        "  - **The odds of female in the 0 BMI decile trying to lose weight are 0.09.**\n",
        "* Interpret $\\exp(\\hat\\beta_1)$, and fully summarize what this model tells us about the relationship between $Y$ and BMI, conditioned on sex.\n",
        "  - **The odds of trying to lose weight are 1.6 times higher for each 1-deciles increase in BMI, COMPARING PEOPLE ON THE SAME SEX. Statistically significant relationship (p-value for this coefficient is < 0.0001, 95% CI for the odds ratio: 1.4, 1.8 does not overlap 1).**\n",
        "* Interpret $\\exp(\\hat\\beta_2)$, and fully summarize what this model tells us about the relationship between $Y$ and sex, conditioned on BMI.\n",
        "  - **The odds of trying to lose weight among males are 15% as heigh as the odds for females, COMPARING PEOPLE IN THE SAME BMI DECILE. This is a statistically significant relationship (p-value < 0.0001, 95% CI: 0.09, 0.25 lines entily below 1).**"
      ],
      "metadata": {
        "id": "TqWBqKNu9w8d"
      }
    },
    {
      "cell_type": "markdown",
      "source": [
        "## Model fitting: interaction\n",
        "\n",
        "Our exploratory analysis did not suggest much evidence of interaction between BMI and sex, but we can fit an interaction model anyways to see if it results in any improvement in fit.  Specifically, we will fit the model:\n",
        "\n",
        "$$logit(p) = \\beta_0 + \\beta_1 X_1 + \\beta_2 X_2 + \\beta_3 X_1\\cdot X_2$$\n",
        "\n",
        " Conceptually, this model *allows for* the possibility that:\n",
        "\n",
        "1. The weight loss desire/BMI relationship differs by sex;\n",
        "2.  The weight loss desire/sex relationship may be wider or narrower depending on that teen's BMI.\n"
      ],
      "metadata": {
        "id": "4iUrmmoTBJDT"
      }
    },
    {
      "cell_type": "markdown",
      "source": [
        "\n",
        "Fitting the model:\n"
      ],
      "metadata": {
        "id": "TUYOWvrhBJDU"
      }
    },
    {
      "cell_type": "code",
      "source": [
        "bmi.sex.interaction <- glm(lose.wt.01~bmidecile * sex, data = yrbss, family=binomial)\n",
        "summary(bmi.sex.interaction)"
      ],
      "metadata": {
        "colab": {
          "base_uri": "https://localhost:8080/",
          "height": 381
        },
        "outputId": "38fc24ee-1055-4aa3-a3c2-29935ab19573",
        "id": "OewKsDj6BJDU"
      },
      "execution_count": 22,
      "outputs": [
        {
          "output_type": "display_data",
          "data": {
            "text/plain": [
              "\n",
              "Call:\n",
              "glm(formula = lose.wt.01 ~ bmidecile * sex, family = binomial, \n",
              "    data = yrbss)\n",
              "\n",
              "Coefficients:\n",
              "                  Estimate Std. Error z value Pr(>|z|)    \n",
              "(Intercept)       -2.21376    0.40098  -5.521 3.37e-08 ***\n",
              "bmidecile          0.44053    0.06504   6.774 1.26e-11 ***\n",
              "sexMale           -2.37660    0.81963  -2.900  0.00374 ** \n",
              "bmidecile:sexMale  0.07079    0.10767   0.657  0.51088    \n",
              "---\n",
              "Signif. codes:  0 ‘***’ 0.001 ‘**’ 0.01 ‘*’ 0.05 ‘.’ 0.1 ‘ ’ 1\n",
              "\n",
              "(Dispersion parameter for binomial family taken to be 1)\n",
              "\n",
              "    Null deviance: 611.93  on 444  degrees of freedom\n",
              "Residual deviance: 460.77  on 441  degrees of freedom\n",
              "AIC: 468.77\n",
              "\n",
              "Number of Fisher Scoring iterations: 5\n"
            ]
          },
          "metadata": {}
        }
      ]
    },
    {
      "cell_type": "markdown",
      "source": [
        "Adding the fitted values to the empirical logit data frame, and plotting:"
      ],
      "metadata": {
        "id": "AbPSTglyBJDU"
      }
    },
    {
      "cell_type": "code",
      "source": [
        "empirical.logits.sex$fitted.values.interaction <- predict(bmi.sex.interaction, newdata = empirical.logits.sex)"
      ],
      "metadata": {
        "id": "gQChrVQWBJDV"
      },
      "execution_count": 23,
      "outputs": []
    },
    {
      "cell_type": "code",
      "source": [
        "ggplot(data = empirical.logits.sex %>% filter(p > 0 & p < 1)) +\n",
        "  geom_point(aes(x = bmidecile, y = logit.p,col=sex)) +\n",
        "      geom_line(aes(x = bmidecile, y = fitted.values.interaction,col=sex)) +\n",
        "    xlab('BMI decile') + ylab('Empirical logits')"
      ],
      "metadata": {
        "colab": {
          "base_uri": "https://localhost:8080/",
          "height": 317
        },
        "outputId": "c99eed0f-2ce1-4120-e555-9eb2b8a023dc",
        "id": "xgYPMo-UBJDV"
      },
      "execution_count": 24,
      "outputs": [
        {
          "output_type": "display_data",
          "data": {
            "text/plain": [
              "plot without title"
            ],
            "image/png": "[encoded data removed]"
          },
          "metadata": {
            "image/png": {
              "width": 600,
              "height": 300
            }
          }
        }
      ]
    },
    {
      "cell_type": "markdown",
      "source": [
        "* Find the equation of the fitted red line for females: $\\widehat{logit}(p_i|female) = $\n",
        "* Find the equation of the fitted blue line for males: $\\widehat{logit}(p_i|male) = $\n",
        "\n",
        "* Provide a visual interpretation of $\\hat\\beta_0$.\n",
        "* Provide a visual interpretation of $\\hat\\beta_1$.\n",
        "* Provide a visual interpretation of $\\hat\\beta_2$.\n",
        "* Provide a visual interpretation of $\\hat\\beta_3$.\n",
        "* Is there evidence that the *strength* of the relationship of $logit(p)$ with BMI differs by sex?  Explain."
      ],
      "metadata": {
        "id": "JvGNO58KBJDV"
      }
    },
    {
      "cell_type": "markdown",
      "source": [
        "## Testing nested models\n",
        "\n",
        "While we can simply look at testing whether $\\beta_3= 0$ to determine evidence for interaction, we can also use the drop-in-deviance, i.e. likelihood ratio test because we have nested models.  Specifically:\n",
        "\n",
        "\n",
        "\n",
        "$$\\mbox{No interaction model: }logit(p) = \\beta_0 + \\beta_1 X_1 + \\beta_2 X_2$$\n",
        "$$\\mbox{Interaction model: }logit(p) = \\beta_0 + \\beta_1 X_1 + \\beta_2 X_2 + \\beta_3 X_1\\cdot X_2$$\n",
        "\n",
        "Let's find the residual deviances:"
      ],
      "metadata": {
        "id": "Bb6VWC-pDwAK"
      }
    },
    {
      "cell_type": "code",
      "source": [
        "deviance(bmi.sex.nointeraction)"
      ],
      "metadata": {
        "colab": {
          "base_uri": "https://localhost:8080/",
          "height": 34
        },
        "id": "3DmV6FmmEhVo",
        "outputId": "75fda640-1515-475b-887f-c9fd85098449"
      },
      "execution_count": 25,
      "outputs": [
        {
          "output_type": "display_data",
          "data": {
            "text/html": [
              "461.212010948062"
            ],
            "text/markdown": "461.212010948062",
            "text/latex": "461.212010948062",
            "text/plain": [
              "[1] 461.212"
            ]
          },
          "metadata": {}
        }
      ]
    },
    {
      "cell_type": "code",
      "source": [
        "deviance(bmi.sex.interaction)"
      ],
      "metadata": {
        "colab": {
          "base_uri": "https://localhost:8080/",
          "height": 34
        },
        "id": "AcG7X01WoCkp",
        "outputId": "7631c252-91dd-4b70-ba0a-91998cd6fdf6"
      },
      "execution_count": 26,
      "outputs": [
        {
          "output_type": "display_data",
          "data": {
            "text/html": [
              "460.772464276276"
            ],
            "text/markdown": "460.772464276276",
            "text/latex": "460.772464276276",
            "text/plain": [
              "[1] 460.7725"
            ]
          },
          "metadata": {}
        }
      ]
    },
    {
      "cell_type": "markdown",
      "source": [
        "The residual deviance of the interaction model is very slightly smaller than the no interaction model, but not by much.  (Recall the deviance is the GLM analogue of sum-of-squared residuals: smaller ⟹ better fit.)\n",
        "\n",
        "Finding the difference:\n"
      ],
      "metadata": {
        "id": "-GTt3DqLoHQ1"
      }
    },
    {
      "cell_type": "code",
      "source": [
        "deviance(bmi.sex.nointeraction)-deviance(bmi.sex.interaction)"
      ],
      "metadata": {
        "colab": {
          "base_uri": "https://localhost:8080/",
          "height": 34
        },
        "id": "OtL9dKkCpeQl",
        "outputId": "7733bc0c-a29e-43e5-ffaf-5be20eea3574"
      },
      "execution_count": 27,
      "outputs": [
        {
          "output_type": "display_data",
          "data": {
            "text/html": [
              "0.439546671785251"
            ],
            "text/markdown": "0.439546671785251",
            "text/latex": "0.439546671785251",
            "text/plain": [
              "[1] 0.4395467"
            ]
          },
          "metadata": {}
        }
      ]
    },
    {
      "cell_type": "markdown",
      "source": [
        "* Verify that the difference in deviances is just twice the difference in the log-likelihoods.  Use the `logLik()` function to find the maximized log-likelihood of each model."
      ],
      "metadata": {
        "id": "lFkXqw3QpiQs"
      }
    },
    {
      "cell_type": "code",
      "source": [],
      "metadata": {
        "id": "lGa546J0po_j"
      },
      "execution_count": 28,
      "outputs": []
    },
    {
      "cell_type": "markdown",
      "source": [
        "\n",
        "Determining whether this drop in deviances is *significant*:"
      ],
      "metadata": {
        "id": "ex9k4E4Zpc7s"
      }
    },
    {
      "cell_type": "code",
      "source": [
        "anova(bmi.sex.nointeraction, bmi.sex.interaction, test = 'Chisq')"
      ],
      "metadata": {
        "colab": {
          "base_uri": "https://localhost:8080/",
          "height": 161
        },
        "id": "ruflZkOZoTDo",
        "outputId": "3d49aab1-2f84-466d-929c-263df059d998"
      },
      "execution_count": 29,
      "outputs": [
        {
          "output_type": "display_data",
          "data": {
            "text/html": [
              "<table class=\"dataframe\">\n",
              "<caption>A anova: 2 × 5</caption>\n",
              "<thead>\n",
              "\t<tr><th></th><th scope=col>Resid. Df</th><th scope=col>Resid. Dev</th><th scope=col>Df</th><th scope=col>Deviance</th><th scope=col>Pr(&gt;Chi)</th></tr>\n",
              "\t<tr><th></th><th scope=col>&lt;dbl&gt;</th><th scope=col>&lt;dbl&gt;</th><th scope=col>&lt;dbl&gt;</th><th scope=col>&lt;dbl&gt;</th><th scope=col>&lt;dbl&gt;</th></tr>\n",
              "</thead>\n",
              "<tbody>\n",
              "\t<tr><th scope=row>1</th><td>442</td><td>461.2120</td><td>NA</td><td>       NA</td><td>       NA</td></tr>\n",
              "\t<tr><th scope=row>2</th><td>441</td><td>460.7725</td><td> 1</td><td>0.4395467</td><td>0.5073413</td></tr>\n",
              "</tbody>\n",
              "</table>\n"
            ],
            "text/markdown": "\nA anova: 2 × 5\n\n| <!--/--> | Resid. Df &lt;dbl&gt; | Resid. Dev &lt;dbl&gt; | Df &lt;dbl&gt; | Deviance &lt;dbl&gt; | Pr(&gt;Chi) &lt;dbl&gt; |\n|---|---|---|---|---|---|\n| 1 | 442 | 461.2120 | NA |        NA |        NA |\n| 2 | 441 | 460.7725 |  1 | 0.4395467 | 0.5073413 |\n\n",
            "text/latex": "A anova: 2 × 5\n\\begin{tabular}{r|lllll}\n  & Resid. Df & Resid. Dev & Df & Deviance & Pr(>Chi)\\\\\n  & <dbl> & <dbl> & <dbl> & <dbl> & <dbl>\\\\\n\\hline\n\t1 & 442 & 461.2120 & NA &        NA &        NA\\\\\n\t2 & 441 & 460.7725 &  1 & 0.4395467 & 0.5073413\\\\\n\\end{tabular}\n",
            "text/plain": [
              "  Resid. Df Resid. Dev Df Deviance  Pr(>Chi) \n",
              "1 442       461.2120   NA        NA        NA\n",
              "2 441       460.7725    1 0.4395467 0.5073413"
            ]
          },
          "metadata": {}
        }
      ]
    },
    {
      "cell_type": "markdown",
      "source": [
        "* What does this output suggest about whether there is a significant interaction between BMI and sex?"
      ],
      "metadata": {
        "id": "EgEsGSQQop4w"
      }
    },
    {
      "cell_type": "markdown",
      "source": [
        "## AIC and BIC\n",
        "\n",
        "We can also compare the AICs and BICs of the two models.  It comes with the `summary()` output; we can also use the `AIC()` command:"
      ],
      "metadata": {
        "id": "oa9R5rQQqAfm"
      }
    },
    {
      "cell_type": "code",
      "source": [
        "AIC(bmi.sex.nointeraction)"
      ],
      "metadata": {
        "colab": {
          "base_uri": "https://localhost:8080/",
          "height": 34
        },
        "id": "ZNGmW2MUqOL1",
        "outputId": "1a9600ea-d546-4927-a5e0-2bd8090a273f"
      },
      "execution_count": 30,
      "outputs": [
        {
          "output_type": "display_data",
          "data": {
            "text/html": [
              "467.212010948062"
            ],
            "text/markdown": "467.212010948062",
            "text/latex": "467.212010948062",
            "text/plain": [
              "[1] 467.212"
            ]
          },
          "metadata": {}
        }
      ]
    },
    {
      "cell_type": "code",
      "source": [
        "AIC(bmi.sex.interaction)"
      ],
      "metadata": {
        "colab": {
          "base_uri": "https://localhost:8080/",
          "height": 34
        },
        "id": "_yMzfJpXp8CR",
        "outputId": "bf359049-eb79-4361-b4c8-f9e79289ed46"
      },
      "execution_count": 31,
      "outputs": [
        {
          "output_type": "display_data",
          "data": {
            "text/html": [
              "468.772464276276"
            ],
            "text/markdown": "468.772464276276",
            "text/latex": "468.772464276276",
            "text/plain": [
              "[1] 468.7725"
            ]
          },
          "metadata": {}
        }
      ]
    },
    {
      "cell_type": "markdown",
      "source": [
        "What about BIC?"
      ],
      "metadata": {
        "id": "XGOKNwgkp-w2"
      }
    },
    {
      "cell_type": "code",
      "source": [
        "BIC(bmi.sex.nointeraction)"
      ],
      "metadata": {
        "colab": {
          "base_uri": "https://localhost:8080/",
          "height": 34
        },
        "id": "8nEn-cbpqVjy",
        "outputId": "46405008-a9c1-4984-bce8-39936228cb0f"
      },
      "execution_count": 32,
      "outputs": [
        {
          "output_type": "display_data",
          "data": {
            "text/html": [
              "479.50623379456"
            ],
            "text/markdown": "479.50623379456",
            "text/latex": "479.50623379456",
            "text/plain": [
              "[1] 479.5062"
            ]
          },
          "metadata": {}
        }
      ]
    },
    {
      "cell_type": "code",
      "source": [
        "BIC(bmi.sex.interaction)"
      ],
      "metadata": {
        "colab": {
          "base_uri": "https://localhost:8080/",
          "height": 34
        },
        "id": "IeWo0LXIqXLb",
        "outputId": "c9d2bd1a-f7f2-4874-93e6-0fecabd354cb"
      },
      "execution_count": 33,
      "outputs": [
        {
          "output_type": "display_data",
          "data": {
            "text/html": [
              "485.164761404941"
            ],
            "text/markdown": "485.164761404941",
            "text/latex": "485.164761404941",
            "text/plain": [
              "[1] 485.1648"
            ]
          },
          "metadata": {}
        }
      ]
    },
    {
      "cell_type": "markdown",
      "source": [
        "* What do these results suggest about which model is preferable?"
      ],
      "metadata": {
        "id": "8cRrA1WrqYYi"
      }
    },
    {
      "cell_type": "markdown",
      "source": [
        "# Research question 3: is the nonlinear logit for males \"real\"?\n",
        "\n",
        "Your turn to model!  Consider the plot below:\n",
        "\n",
        "\n"
      ],
      "metadata": {
        "id": "p1-Y0DADT2d4"
      }
    },
    {
      "cell_type": "markdown",
      "source": [
        "![image.png](data:image/png;base64,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)"
      ],
      "metadata": {
        "id": "Xd2x4lM5Zx4u"
      }
    },
    {
      "cell_type": "markdown",
      "source": [
        "* Given the relationships in this plot, what sorts of terms do we have on BMI decile?\n",
        "* Does this model reflect that an interaction has been fit?\n",
        "* See if you can reproduce the model that produced this plot, and the plot itself.  Then determine if this model represents a significant improvement upon the linear, no-interaction model.  What do your results indicate about whether the nonlinear trend for males is 'real' or not?"
      ],
      "metadata": {
        "id": "4Gza6gmSZxdP"
      }
    },
    {
      "cell_type": "markdown",
      "source": [
        "# Research question 4: Does adding participation in sports and/or media consumption improve the fit?"
      ],
      "metadata": {
        "id": "Ztb-TSWSqur-"
      }
    },
    {
      "cell_type": "markdown",
      "source": [
        "## Exploratory analysis\n",
        "\n",
        "Before proceeding with model fitting, let's visually explore if the binary sports participation variable or media consumption appear associated with desire to lose weight, separately for males and females:"
      ],
      "metadata": {
        "id": "S7Uun7l2vZ9_"
      }
    },
    {
      "cell_type": "code",
      "source": [
        "ggplot(data = yrbss) +\n",
        "  geom_bar(aes(x = sport, fill = factor(lose.wt.01)), position='fill') +\n",
        "    facet_wrap(~sex) +\n",
        "      xlab('Media consumption (hrs /week)') + ylab('Proportion') +\n",
        "        scale_fill_discrete(name = 'Intend to lose weight')"
      ],
      "metadata": {
        "colab": {
          "base_uri": "https://localhost:8080/",
          "height": 317
        },
        "id": "oRQYMEy3xaAy",
        "outputId": "7f60e93a-604d-43d4-ea6c-46604d80ac31"
      },
      "execution_count": 34,
      "outputs": [
        {
          "output_type": "display_data",
          "data": {
            "text/plain": [
              "plot without title"
            ],
            "image/png": "[encoded data removed]"
          },
          "metadata": {
            "image/png": {
              "width": 600,
              "height": 300
            }
          }
        }
      ]
    },
    {
      "cell_type": "markdown",
      "source": [
        "There appears to be virtually no difference between sports participants and non-participants in intent to lose weight, for both males and females."
      ],
      "metadata": {
        "id": "_t7qjKupyOxQ"
      }
    },
    {
      "cell_type": "markdown",
      "source": [
        "What about media consumption?"
      ],
      "metadata": {
        "id": "oe8V7gLoyZ-q"
      }
    },
    {
      "cell_type": "code",
      "source": [
        "ggplot(data = yrbss) +\n",
        "  geom_bar(aes(x = factor(media), fill = factor(lose.wt.01)), position='fill') +\n",
        "    facet_wrap(~sex) +\n",
        "      xlab('Media consumption (hrs /week)') + ylab('Proportion') +\n",
        "        scale_fill_discrete(name = 'Intend to lose weight')"
      ],
      "metadata": {
        "colab": {
          "base_uri": "https://localhost:8080/",
          "height": 317
        },
        "id": "_PTflAoRwm6R",
        "outputId": "797c1ffd-bb8d-458a-8011-4efc62f6dc29"
      },
      "execution_count": 35,
      "outputs": [
        {
          "output_type": "display_data",
          "data": {
            "text/plain": [
              "plot without title"
            ],
            "image/png": "[encoded data removed]"
          },
          "metadata": {
            "image/png": {
              "width": 600,
              "height": 300
            }
          }
        }
      ]
    },
    {
      "cell_type": "markdown",
      "source": [
        "While the proportion of teens intending to lose weight is not constant across the media consumption levels, there is no obvious relationship between media consumption and desire to lose weight, for either males or females."
      ],
      "metadata": {
        "id": "Kf1QbsRpxgzS"
      }
    },
    {
      "cell_type": "markdown",
      "source": [
        "## Model fitting"
      ],
      "metadata": {
        "id": "JNW4MiSEydNw"
      }
    },
    {
      "cell_type": "markdown",
      "source": [
        "Since we had very little evidence of interaction between BMI and sex, we will fit the no-interaction BMI and sex model and add in terms for sports participation and media consumption:\n",
        "\n",
        "\n",
        "$$logit(p) = \\beta_0 + \\beta_1 X_1 + \\beta_2 X_2 + \\beta_3 X_3 + \\beta_4 X_4$$\n",
        "\n",
        "where:\n",
        "\n",
        "\n",
        "$$X_3 = \\begin{cases} 1 & \\mbox{involved in sports}\\\\\n",
        "0 & otherwise\\\\\n",
        "\\end{cases}$$\n",
        "\n",
        "$$X_4 = \\mbox{media consumption, hrs/week}$$\n"
      ],
      "metadata": {
        "id": "oup2p1LBygvb"
      }
    },
    {
      "cell_type": "code",
      "source": [
        "media.sport.fit <- glm(lose.wt.01~bmidecile + sex + sport + media, data = yrbss, family=binomial)\n",
        "summary(media.sport.fit)"
      ],
      "metadata": {
        "colab": {
          "base_uri": "https://localhost:8080/",
          "height": 399
        },
        "id": "_n78vPqjqvpl",
        "outputId": "8b375d3e-c6b7-488d-8ec0-286148f8aca1"
      },
      "execution_count": 36,
      "outputs": [
        {
          "output_type": "display_data",
          "data": {
            "text/plain": [
              "\n",
              "Call:\n",
              "glm(formula = lose.wt.01 ~ bmidecile + sex + sport + media, family = binomial, \n",
              "    data = yrbss)\n",
              "\n",
              "Coefficients:\n",
              "            Estimate Std. Error z value Pr(>|z|)    \n",
              "(Intercept) -2.12847    0.37269  -5.711 1.12e-08 ***\n",
              "bmidecile    0.47593    0.05226   9.107  < 2e-16 ***\n",
              "sexMale     -1.84689    0.26102  -7.076 1.49e-12 ***\n",
              "sportSports -0.14315    0.23646  -0.605    0.545    \n",
              "media       -0.10332    0.07277  -1.420    0.156    \n",
              "---\n",
              "Signif. codes:  0 ‘***’ 0.001 ‘**’ 0.01 ‘*’ 0.05 ‘.’ 0.1 ‘ ’ 1\n",
              "\n",
              "(Dispersion parameter for binomial family taken to be 1)\n",
              "\n",
              "    Null deviance: 611.93  on 444  degrees of freedom\n",
              "Residual deviance: 458.87  on 440  degrees of freedom\n",
              "AIC: 468.87\n",
              "\n",
              "Number of Fisher Scoring iterations: 5\n"
            ]
          },
          "metadata": {}
        }
      ]
    },
    {
      "cell_type": "markdown",
      "source": [
        "## Determining whether adding sports & media is helpful"
      ],
      "metadata": {
        "id": "Z3h22R0n2YB5"
      }
    },
    {
      "cell_type": "markdown",
      "source": [
        "While it does not appear that any of the *individual* coefficients for `sport` or `media` are significant, we need the drop-in-deviance/likelihood ratio test to test whether *all the terms are simultaneously 0*, i.e. to test:\n",
        "\n",
        "$$H_0: \\mbox{BMI and sex sufficient}; \\beta_3=\\beta_4  = 0$$\n",
        "$$H_0: \\mbox{sports and/or media add something to the model; at least one of } \\beta_3,\\beta_4 \\ne 0$$"
      ],
      "metadata": {
        "id": "ONYwnZpqzw0u"
      }
    },
    {
      "cell_type": "code",
      "source": [
        "anova(bmi.sex.nointeraction, media.sport.fit, test = 'Chisq')"
      ],
      "metadata": {
        "colab": {
          "base_uri": "https://localhost:8080/",
          "height": 161
        },
        "id": "xNIeSTbMq1Lb",
        "outputId": "b67c466c-e676-496f-fb8e-59d251e459ae"
      },
      "execution_count": 37,
      "outputs": [
        {
          "output_type": "display_data",
          "data": {
            "text/html": [
              "<table class=\"dataframe\">\n",
              "<caption>A anova: 2 × 5</caption>\n",
              "<thead>\n",
              "\t<tr><th></th><th scope=col>Resid. Df</th><th scope=col>Resid. Dev</th><th scope=col>Df</th><th scope=col>Deviance</th><th scope=col>Pr(&gt;Chi)</th></tr>\n",
              "\t<tr><th></th><th scope=col>&lt;dbl&gt;</th><th scope=col>&lt;dbl&gt;</th><th scope=col>&lt;dbl&gt;</th><th scope=col>&lt;dbl&gt;</th><th scope=col>&lt;dbl&gt;</th></tr>\n",
              "</thead>\n",
              "<tbody>\n",
              "\t<tr><th scope=row>1</th><td>442</td><td>461.2120</td><td>NA</td><td>      NA</td><td>       NA</td></tr>\n",
              "\t<tr><th scope=row>2</th><td>440</td><td>458.8681</td><td> 2</td><td>2.343902</td><td>0.3097621</td></tr>\n",
              "</tbody>\n",
              "</table>\n"
            ],
            "text/markdown": "\nA anova: 2 × 5\n\n| <!--/--> | Resid. Df &lt;dbl&gt; | Resid. Dev &lt;dbl&gt; | Df &lt;dbl&gt; | Deviance &lt;dbl&gt; | Pr(&gt;Chi) &lt;dbl&gt; |\n|---|---|---|---|---|---|\n| 1 | 442 | 461.2120 | NA |       NA |        NA |\n| 2 | 440 | 458.8681 |  2 | 2.343902 | 0.3097621 |\n\n",
            "text/latex": "A anova: 2 × 5\n\\begin{tabular}{r|lllll}\n  & Resid. Df & Resid. Dev & Df & Deviance & Pr(>Chi)\\\\\n  & <dbl> & <dbl> & <dbl> & <dbl> & <dbl>\\\\\n\\hline\n\t1 & 442 & 461.2120 & NA &       NA &        NA\\\\\n\t2 & 440 & 458.8681 &  2 & 2.343902 & 0.3097621\\\\\n\\end{tabular}\n",
            "text/plain": [
              "  Resid. Df Resid. Dev Df Deviance Pr(>Chi) \n",
              "1 442       461.2120   NA       NA        NA\n",
              "2 440       458.8681    2 2.343902 0.3097621"
            ]
          },
          "metadata": {}
        }
      ]
    },
    {
      "cell_type": "markdown",
      "source": [
        "Finding the AICs:"
      ],
      "metadata": {
        "id": "_Vwn-wE23olD"
      }
    },
    {
      "cell_type": "code",
      "source": [
        "AIC(bmi.sex.nointeraction)"
      ],
      "metadata": {
        "colab": {
          "base_uri": "https://localhost:8080/",
          "height": 34
        },
        "id": "NAwclkzg3pnT",
        "outputId": "237e9710-50d8-437d-b267-a53dba4db5b0"
      },
      "execution_count": 38,
      "outputs": [
        {
          "output_type": "display_data",
          "data": {
            "text/html": [
              "467.212010948062"
            ],
            "text/markdown": "467.212010948062",
            "text/latex": "467.212010948062",
            "text/plain": [
              "[1] 467.212"
            ]
          },
          "metadata": {}
        }
      ]
    },
    {
      "cell_type": "code",
      "source": [
        "AIC(media.sport.fit)"
      ],
      "metadata": {
        "colab": {
          "base_uri": "https://localhost:8080/",
          "height": 34
        },
        "id": "T_3ZSRuC3rY4",
        "outputId": "baedcf98-093b-43a4-ca59-8e760f51e569"
      },
      "execution_count": 39,
      "outputs": [
        {
          "output_type": "display_data",
          "data": {
            "text/html": [
              "468.868109259806"
            ],
            "text/markdown": "468.868109259806",
            "text/latex": "468.868109259806",
            "text/plain": [
              "[1] 468.8681"
            ]
          },
          "metadata": {}
        }
      ]
    },
    {
      "cell_type": "markdown",
      "source": [
        "BICs:"
      ],
      "metadata": {
        "id": "E4wNNDwIq7Pb"
      }
    },
    {
      "cell_type": "code",
      "source": [
        "BIC(bmi.sex.nointeraction)"
      ],
      "metadata": {
        "colab": {
          "base_uri": "https://localhost:8080/",
          "height": 34
        },
        "id": "bK33coXb3t5X",
        "outputId": "43e7bee6-1c9c-4820-9a78-9ae39e720529"
      },
      "execution_count": 40,
      "outputs": [
        {
          "output_type": "display_data",
          "data": {
            "text/html": [
              "479.50623379456"
            ],
            "text/markdown": "479.50623379456",
            "text/latex": "479.50623379456",
            "text/plain": [
              "[1] 479.5062"
            ]
          },
          "metadata": {}
        }
      ]
    },
    {
      "cell_type": "code",
      "source": [
        "BIC(media.sport.fit)"
      ],
      "metadata": {
        "colab": {
          "base_uri": "https://localhost:8080/",
          "height": 34
        },
        "id": "Ah0s--zu3vD_",
        "outputId": "3b79de84-182e-4ea2-f243-a7b111bd3e39"
      },
      "execution_count": 41,
      "outputs": [
        {
          "output_type": "display_data",
          "data": {
            "text/html": [
              "489.358480670637"
            ],
            "text/markdown": "489.358480670637",
            "text/latex": "489.358480670637",
            "text/plain": [
              "[1] 489.3585"
            ]
          },
          "metadata": {}
        }
      ]
    },
    {
      "cell_type": "markdown",
      "source": [
        "The p-value from the likelihood ratio test being > 0.05, and the AIC/BIC from the media + sport fit being larger than the corresponding metrics from the model with just BMI and sex, there appears to be little-to-no evidence of a meaningful relationship between intending to lose weight, participation in sports, and media consumption after controlling for BMI and sex."
      ],
      "metadata": {
        "id": "FBsRvrBW3xAH"
      }
    }
  ]
}