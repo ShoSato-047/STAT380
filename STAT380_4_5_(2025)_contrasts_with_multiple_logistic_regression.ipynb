{
  "nbformat": 4,
  "nbformat_minor": 0,
  "metadata": {
    "colab": {
      "provenance": [],
      "include_colab_link": true
    },
    "kernelspec": {
      "name": "ir",
      "display_name": "R"
    },
    "language_info": {
      "name": "R"
    }
  },
  "cells": [
    {
      "cell_type": "markdown",
      "metadata": {
        "id": "view-in-github",
        "colab_type": "text"
      },
      "source": [
        "<a href=\"https://colab.research.google.com/github/ShoSato-047/STAT380/blob/main/STAT380_4_5_(2025)_contrasts_with_multiple_logistic_regression.ipynb\" target=\"_parent\"><img src=\"https://colab.research.google.com/assets/colab-badge.svg\" alt=\"Open In Colab\"/></a>"
      ]
    },
    {
      "cell_type": "markdown",
      "source": [
        "# Introduction\n",
        "\n",
        "When fitting multiple logistic regression models, especially with interaction terms, we often want to look at relationships of $logit(p)$ with an $X_1$ at specific values of $X_2$.  Just as in ordinary linear regression, we can use `emmeans`  to produce these odds ratio summarizing relationships of $logit(p)$ with $X_1$ given $X_2$."
      ],
      "metadata": {
        "id": "0wpAJYEKFCiM"
      }
    },
    {
      "cell_type": "markdown",
      "source": [
        "# Case study: texting while driving\n",
        "\n",
        "The data for this problem again come from the 2019 U.S. Youth Risk Behavior Surveillance System [(YRBSS)](https://www.cdc.gov/healthyyouth/data/yrbs/index.htm).\n",
        "\n",
        "Question 11 on the YRBSS asks: *During the past 30 days, on how many days did you text or e-mail while driving a car or other vehicle?*  For this problem our response variable $Y$ is 0 if the teen answered \"0 days\" and 1 if they answered 1 or more days.\n"
      ],
      "metadata": {
        "id": "-5tqn6Y9idZk"
      }
    },
    {
      "cell_type": "code",
      "source": [
        "library(dplyr)\n",
        "yrbss19 <- read.csv('https://www.dropbox.com/s/xvpibcmck10yuvk/yrbss2019.csv?dl=1') %>%\n",
        "  mutate(Seatbelt = ifelse(Seatbelt=='Yes',1,0)) %>%\n",
        "      mutate(Textdrive = ifelse(Textdrive=='Yes',1,0)) %>%\n",
        "    filter(Sex!=\"\" & Grade!='Ungraded or other grade'& Grade!='') %>%\n",
        "      mutate(Grade = factor(Grade, levels = c('9th grade','10th grade','11th grade','12th grade')))\n",
        "head(yrbss19)"
      ],
      "metadata": {
        "colab": {
          "base_uri": "https://localhost:8080/",
          "height": 529
        },
        "id": "DhHDvvFoh3AS",
        "outputId": "3d33a443-44fe-4a3d-a49b-a20394b4a96c"
      },
      "execution_count": 1,
      "outputs": [
        {
          "output_type": "stream",
          "name": "stderr",
          "text": [
            "\n",
            "Attaching package: ‘dplyr’\n",
            "\n",
            "\n",
            "The following objects are masked from ‘package:stats’:\n",
            "\n",
            "    filter, lag\n",
            "\n",
            "\n",
            "The following objects are masked from ‘package:base’:\n",
            "\n",
            "    intersect, setdiff, setequal, union\n",
            "\n",
            "\n"
          ]
        },
        {
          "output_type": "display_data",
          "data": {
            "text/html": [
              "<table class=\"dataframe\">\n",
              "<caption>A data.frame: 6 × 7</caption>\n",
              "<thead>\n",
              "\t<tr><th></th><th scope=col>Age</th><th scope=col>Sex</th><th scope=col>Grade</th><th scope=col>Ride_with_drinking</th><th scope=col>Seatbelt</th><th scope=col>Textdrive</th><th scope=col>Bullying</th></tr>\n",
              "\t<tr><th></th><th scope=col>&lt;chr&gt;</th><th scope=col>&lt;chr&gt;</th><th scope=col>&lt;fct&gt;</th><th scope=col>&lt;chr&gt;</th><th scope=col>&lt;dbl&gt;</th><th scope=col>&lt;dbl&gt;</th><th scope=col>&lt;chr&gt;</th></tr>\n",
              "</thead>\n",
              "<tbody>\n",
              "\t<tr><th scope=row>1</th><td>16 years old</td><td>Male  </td><td>10th grade</td><td>0 times</td><td>1</td><td>0</td><td>No </td></tr>\n",
              "\t<tr><th scope=row>2</th><td>15 years old</td><td>Male  </td><td>10th grade</td><td>1 time </td><td>1</td><td>0</td><td>Yes</td></tr>\n",
              "\t<tr><th scope=row>3</th><td>15 years old</td><td>Female</td><td>10th grade</td><td>0 times</td><td>1</td><td>0</td><td>No </td></tr>\n",
              "\t<tr><th scope=row>4</th><td>15 years old</td><td>Male  </td><td>10th grade</td><td>0 times</td><td>1</td><td>0</td><td>No </td></tr>\n",
              "\t<tr><th scope=row>5</th><td>16 years old</td><td>Male  </td><td>10th grade</td><td>0 times</td><td>1</td><td>0</td><td>No </td></tr>\n",
              "\t<tr><th scope=row>6</th><td>15 years old</td><td>Female</td><td>10th grade</td><td>0 times</td><td>1</td><td>0</td><td>Yes</td></tr>\n",
              "</tbody>\n",
              "</table>\n"
            ],
            "text/markdown": "\nA data.frame: 6 × 7\n\n| <!--/--> | Age &lt;chr&gt; | Sex &lt;chr&gt; | Grade &lt;fct&gt; | Ride_with_drinking &lt;chr&gt; | Seatbelt &lt;dbl&gt; | Textdrive &lt;dbl&gt; | Bullying &lt;chr&gt; |\n|---|---|---|---|---|---|---|---|\n| 1 | 16 years old | Male   | 10th grade | 0 times | 1 | 0 | No  |\n| 2 | 15 years old | Male   | 10th grade | 1 time  | 1 | 0 | Yes |\n| 3 | 15 years old | Female | 10th grade | 0 times | 1 | 0 | No  |\n| 4 | 15 years old | Male   | 10th grade | 0 times | 1 | 0 | No  |\n| 5 | 16 years old | Male   | 10th grade | 0 times | 1 | 0 | No  |\n| 6 | 15 years old | Female | 10th grade | 0 times | 1 | 0 | Yes |\n\n",
            "text/latex": "A data.frame: 6 × 7\n\\begin{tabular}{r|lllllll}\n  & Age & Sex & Grade & Ride\\_with\\_drinking & Seatbelt & Textdrive & Bullying\\\\\n  & <chr> & <chr> & <fct> & <chr> & <dbl> & <dbl> & <chr>\\\\\n\\hline\n\t1 & 16 years old & Male   & 10th grade & 0 times & 1 & 0 & No \\\\\n\t2 & 15 years old & Male   & 10th grade & 1 time  & 1 & 0 & Yes\\\\\n\t3 & 15 years old & Female & 10th grade & 0 times & 1 & 0 & No \\\\\n\t4 & 15 years old & Male   & 10th grade & 0 times & 1 & 0 & No \\\\\n\t5 & 16 years old & Male   & 10th grade & 0 times & 1 & 0 & No \\\\\n\t6 & 15 years old & Female & 10th grade & 0 times & 1 & 0 & Yes\\\\\n\\end{tabular}\n",
            "text/plain": [
              "  Age          Sex    Grade      Ride_with_drinking Seatbelt Textdrive Bullying\n",
              "1 16 years old Male   10th grade 0 times            1        0         No      \n",
              "2 15 years old Male   10th grade 1 time             1        0         Yes     \n",
              "3 15 years old Female 10th grade 0 times            1        0         No      \n",
              "4 15 years old Male   10th grade 0 times            1        0         No      \n",
              "5 16 years old Male   10th grade 0 times            1        0         No      \n",
              "6 15 years old Female 10th grade 0 times            1        0         Yes     "
            ]
          },
          "metadata": {}
        }
      ]
    },
    {
      "cell_type": "markdown",
      "source": [
        "***Research questions:***  \n",
        "\n",
        "1. Is texting while driving related to sex?\n",
        "\n",
        "2.  Is texting while driving related to grade level?\n",
        "\n",
        "3. Is the relationship of texting with sex different for different grade levels?"
      ],
      "metadata": {
        "id": "yAejfGeetJkA"
      }
    },
    {
      "cell_type": "code",
      "source": [
        "#Code for widening plots:\n",
        "library(repr)\n",
        "options(repr.plot.width=8, repr.plot.height=6)"
      ],
      "metadata": {
        "id": "kgjngRdRxGde"
      },
      "execution_count": 2,
      "outputs": []
    },
    {
      "cell_type": "markdown",
      "source": [
        "# Exploratory analysis\n",
        "\n",
        "As always, before model-fitting it's very helpful to visualize the relationships of interest."
      ],
      "metadata": {
        "id": "9Iy4Oc8NnK9h"
      }
    },
    {
      "cell_type": "markdown",
      "source": [
        "## Relationship with sex\n",
        "\n",
        "First, let's visualize the relationship of texting with sex:"
      ],
      "metadata": {
        "id": "Lrgz9JkYtf0p"
      }
    },
    {
      "cell_type": "code",
      "source": [
        "library(ggplot2)\n",
        "ggplot(data = yrbss19) +\n",
        "  geom_bar(aes(x = Sex, fill = factor(Textdrive)), position='fill')"
      ],
      "metadata": {
        "colab": {
          "base_uri": "https://localhost:8080/",
          "height": 377
        },
        "id": "rf0H9cTvg39k",
        "outputId": "e8799b2a-3a44-4d01-bd09-9962cd41d517"
      },
      "execution_count": 3,
      "outputs": [
        {
          "output_type": "display_data",
          "data": {
            "text/plain": [
              "plot without title"
            ],
            "image/png": "[encoded data removed]"
          },
          "metadata": {
            "image/png": {
              "width": 480,
              "height": 360
            }
          }
        }
      ]
    },
    {
      "cell_type": "code",
      "source": [
        "yrbss19 %>%\n",
        "  group_by(Sex,Textdrive) %>%\n",
        "    summarize(cnt= n()) %>%\n",
        "      mutate(pct = cnt/sum(cnt)) %>%\n",
        "        mutate(odds = pct / (1-pct))"
      ],
      "metadata": {
        "colab": {
          "base_uri": "https://localhost:8080/",
          "height": 258
        },
        "id": "SHj0UDuDtl_w",
        "outputId": "3fc07147-e63a-4bf8-c5d0-418ee4ff56e7"
      },
      "execution_count": 4,
      "outputs": [
        {
          "output_type": "stream",
          "name": "stderr",
          "text": [
            "\u001b[1m\u001b[22m`summarise()` has grouped output by 'Sex'. You can override using the `.groups`\n",
            "argument.\n"
          ]
        },
        {
          "output_type": "display_data",
          "data": {
            "text/html": [
              "<table class=\"dataframe\">\n",
              "<caption>A grouped_df: 4 × 5</caption>\n",
              "<thead>\n",
              "\t<tr><th scope=col>Sex</th><th scope=col>Textdrive</th><th scope=col>cnt</th><th scope=col>pct</th><th scope=col>odds</th></tr>\n",
              "\t<tr><th scope=col>&lt;chr&gt;</th><th scope=col>&lt;dbl&gt;</th><th scope=col>&lt;int&gt;</th><th scope=col>&lt;dbl&gt;</th><th scope=col>&lt;dbl&gt;</th></tr>\n",
              "</thead>\n",
              "<tbody>\n",
              "\t<tr><td>Female</td><td>0</td><td>5547</td><td>0.8095447</td><td>4.2505747</td></tr>\n",
              "\t<tr><td>Female</td><td>1</td><td>1305</td><td>0.1904553</td><td>0.2352623</td></tr>\n",
              "\t<tr><td>Male  </td><td>0</td><td>5174</td><td>0.7845337</td><td>3.6410978</td></tr>\n",
              "\t<tr><td>Male  </td><td>1</td><td>1421</td><td>0.2154663</td><td>0.2746424</td></tr>\n",
              "</tbody>\n",
              "</table>\n"
            ],
            "text/markdown": "\nA grouped_df: 4 × 5\n\n| Sex &lt;chr&gt; | Textdrive &lt;dbl&gt; | cnt &lt;int&gt; | pct &lt;dbl&gt; | odds &lt;dbl&gt; |\n|---|---|---|---|---|\n| Female | 0 | 5547 | 0.8095447 | 4.2505747 |\n| Female | 1 | 1305 | 0.1904553 | 0.2352623 |\n| Male   | 0 | 5174 | 0.7845337 | 3.6410978 |\n| Male   | 1 | 1421 | 0.2154663 | 0.2746424 |\n\n",
            "text/latex": "A grouped\\_df: 4 × 5\n\\begin{tabular}{lllll}\n Sex & Textdrive & cnt & pct & odds\\\\\n <chr> & <dbl> & <int> & <dbl> & <dbl>\\\\\n\\hline\n\t Female & 0 & 5547 & 0.8095447 & 4.2505747\\\\\n\t Female & 1 & 1305 & 0.1904553 & 0.2352623\\\\\n\t Male   & 0 & 5174 & 0.7845337 & 3.6410978\\\\\n\t Male   & 1 & 1421 & 0.2154663 & 0.2746424\\\\\n\\end{tabular}\n",
            "text/plain": [
              "  Sex    Textdrive cnt  pct       odds     \n",
              "1 Female 0         5547 0.8095447 4.2505747\n",
              "2 Female 1         1305 0.1904553 0.2352623\n",
              "3 Male   0         5174 0.7845337 3.6410978\n",
              "4 Male   1         1421 0.2154663 0.2746424"
            ]
          },
          "metadata": {}
        }
      ]
    },
    {
      "cell_type": "markdown",
      "source": [
        "It looks like there's only a slight difference in the rates.  22% of males say they text while driving, compared to 19% of females.\n",
        "\n",
        "This corresponds to an odds of texting that is 0.27 for males, and 0.24 for females."
      ],
      "metadata": {
        "id": "r26HFaohtlcY"
      }
    },
    {
      "cell_type": "markdown",
      "source": [
        "## Relationship with grade"
      ],
      "metadata": {
        "id": "3wzOWBqnuVXp"
      }
    },
    {
      "cell_type": "markdown",
      "source": [
        "What about the relationship of texting while driving with grade level?"
      ],
      "metadata": {
        "id": "2MPHPBm-uX6h"
      }
    },
    {
      "cell_type": "code",
      "source": [
        "library(ggplot2)\n",
        "ggplot(data = yrbss19) +\n",
        "  geom_bar(aes(x = Grade, fill = factor(Textdrive)), position='fill')"
      ],
      "metadata": {
        "colab": {
          "base_uri": "https://localhost:8080/",
          "height": 377
        },
        "id": "5t2UlvSfujEK",
        "outputId": "a6a2b2f7-ff54-47e5-b198-bddd1f16527b"
      },
      "execution_count": 5,
      "outputs": [
        {
          "output_type": "display_data",
          "data": {
            "text/plain": [
              "plot without title"
            ],
            "image/png": "[encoded data removed]"
          },
          "metadata": {
            "image/png": {
              "width": 480,
              "height": 360
            }
          }
        }
      ]
    },
    {
      "cell_type": "code",
      "source": [
        "yrbss19 %>%\n",
        "  group_by(Grade,Textdrive) %>%\n",
        "    summarize(cnt= n()) %>%\n",
        "      mutate(pct = cnt/sum(cnt)) %>%\n",
        "        mutate(odds = pct / (1-pct)) %>%\n",
        "          filter(Textdrive==1)"
      ],
      "metadata": {
        "colab": {
          "base_uri": "https://localhost:8080/",
          "height": 258
        },
        "id": "-0XR95Q8uwWo",
        "outputId": "4d9981a7-4637-48e9-a0cd-11c053feaa85"
      },
      "execution_count": 6,
      "outputs": [
        {
          "output_type": "stream",
          "name": "stderr",
          "text": [
            "\u001b[1m\u001b[22m`summarise()` has grouped output by 'Grade'. You can override using the\n",
            "`.groups` argument.\n"
          ]
        },
        {
          "output_type": "display_data",
          "data": {
            "text/html": [
              "<table class=\"dataframe\">\n",
              "<caption>A grouped_df: 4 × 5</caption>\n",
              "<thead>\n",
              "\t<tr><th scope=col>Grade</th><th scope=col>Textdrive</th><th scope=col>cnt</th><th scope=col>pct</th><th scope=col>odds</th></tr>\n",
              "\t<tr><th scope=col>&lt;fct&gt;</th><th scope=col>&lt;dbl&gt;</th><th scope=col>&lt;int&gt;</th><th scope=col>&lt;dbl&gt;</th><th scope=col>&lt;dbl&gt;</th></tr>\n",
              "</thead>\n",
              "<tbody>\n",
              "\t<tr><td>9th grade </td><td>1</td><td> 176</td><td>0.04864566</td><td>0.05113306</td></tr>\n",
              "\t<tr><td>10th grade</td><td>1</td><td> 449</td><td>0.12168022</td><td>0.13853749</td></tr>\n",
              "\t<tr><td>11th grade</td><td>1</td><td> 933</td><td>0.28204353</td><td>0.39284211</td></tr>\n",
              "\t<tr><td>12th grade</td><td>1</td><td>1168</td><td>0.41257506</td><td>0.70234516</td></tr>\n",
              "</tbody>\n",
              "</table>\n"
            ],
            "text/markdown": "\nA grouped_df: 4 × 5\n\n| Grade &lt;fct&gt; | Textdrive &lt;dbl&gt; | cnt &lt;int&gt; | pct &lt;dbl&gt; | odds &lt;dbl&gt; |\n|---|---|---|---|---|\n| 9th grade  | 1 |  176 | 0.04864566 | 0.05113306 |\n| 10th grade | 1 |  449 | 0.12168022 | 0.13853749 |\n| 11th grade | 1 |  933 | 0.28204353 | 0.39284211 |\n| 12th grade | 1 | 1168 | 0.41257506 | 0.70234516 |\n\n",
            "text/latex": "A grouped\\_df: 4 × 5\n\\begin{tabular}{lllll}\n Grade & Textdrive & cnt & pct & odds\\\\\n <fct> & <dbl> & <int> & <dbl> & <dbl>\\\\\n\\hline\n\t 9th grade  & 1 &  176 & 0.04864566 & 0.05113306\\\\\n\t 10th grade & 1 &  449 & 0.12168022 & 0.13853749\\\\\n\t 11th grade & 1 &  933 & 0.28204353 & 0.39284211\\\\\n\t 12th grade & 1 & 1168 & 0.41257506 & 0.70234516\\\\\n\\end{tabular}\n",
            "text/plain": [
              "  Grade      Textdrive cnt  pct        odds      \n",
              "1 9th grade  1          176 0.04864566 0.05113306\n",
              "2 10th grade 1          449 0.12168022 0.13853749\n",
              "3 11th grade 1          933 0.28204353 0.39284211\n",
              "4 12th grade 1         1168 0.41257506 0.70234516"
            ]
          },
          "metadata": {}
        }
      ]
    },
    {
      "cell_type": "markdown",
      "source": [
        "There is a clear relationship of grade level with texting: higher grade levels are more likely to respond that they text while driving."
      ],
      "metadata": {
        "id": "uPQPaRoIuuLV"
      }
    },
    {
      "cell_type": "markdown",
      "source": [
        "## Relationship with sex, BY grade\n",
        "\n",
        "Does the slight relationship with sex depend on grade level?  To visualize this we can re-create our text/sex bar graph, faceted by grade level:"
      ],
      "metadata": {
        "id": "Aegcjdluu6N9"
      }
    },
    {
      "cell_type": "code",
      "source": [
        "options(repr.plot.width=10, repr.plot.height=10)\n",
        "ggplot(data = yrbss19) +\n",
        "  geom_bar(aes(x = Sex, fill = factor(Textdrive)), position='fill')  +\n",
        "    facet_wrap(~Grade) +\n",
        "      scale_fill_discrete(name='Text while driving?')"
      ],
      "metadata": {
        "colab": {
          "base_uri": "https://localhost:8080/",
          "height": 617
        },
        "id": "gRXx19j3vGnv",
        "outputId": "e097d949-b6d8-4c35-e557-722614e8cf04"
      },
      "execution_count": 7,
      "outputs": [
        {
          "output_type": "display_data",
          "data": {
            "text/plain": [
              "plot without title"
            ],
            "image/png": "[encoded data removed]"
          },
          "metadata": {
            "image/png": {
              "width": 600,
              "height": 600
            }
          }
        }
      ]
    },
    {
      "cell_type": "markdown",
      "source": [
        "It looks like the sex relationship is strongest for 9th graders, and weakest for 11th graders.  "
      ],
      "metadata": {
        "id": "y476dT7Yva5e"
      }
    },
    {
      "cell_type": "markdown",
      "source": [
        "# Modeling"
      ],
      "metadata": {
        "id": "6cGRAb6YvxCh"
      }
    },
    {
      "cell_type": "markdown",
      "source": [
        "## Relationship with sex"
      ],
      "metadata": {
        "id": "r8aEFF_oxi8r"
      }
    },
    {
      "cell_type": "markdown",
      "source": [
        "Let's first fit a simple logistic model of the form:\n",
        "\n",
        "$$ logit(p_i) = \\beta_0 + \\beta_1 X_i,$$\n",
        "\n",
        "where:\n",
        "\n",
        "$X_i = \\begin{cases} 1 & Males \\\\\n",
        "0 & Females \\\\\n",
        "\\end{cases}\n",
        "$"
      ],
      "metadata": {
        "id": "0p801TJ8vyhg"
      }
    },
    {
      "cell_type": "code",
      "source": [
        "sexfit <- glm(Textdrive~Sex, data = yrbss19, family=binomial)\n",
        "summary(sexfit)"
      ],
      "metadata": {
        "colab": {
          "base_uri": "https://localhost:8080/",
          "height": 329
        },
        "id": "i12l5lEWhaQk",
        "outputId": "590944fe-ff72-49bb-ad4c-36d807182c2a"
      },
      "execution_count": 8,
      "outputs": [
        {
          "output_type": "display_data",
          "data": {
            "text/plain": [
              "\n",
              "Call:\n",
              "glm(formula = Textdrive ~ Sex, family = binomial, data = yrbss19)\n",
              "\n",
              "Coefficients:\n",
              "            Estimate Std. Error z value Pr(>|z|)    \n",
              "(Intercept) -1.44705    0.03077 -47.034  < 2e-16 ***\n",
              "SexMale      0.15477    0.04294   3.605 0.000313 ***\n",
              "---\n",
              "Signif. codes:  0 ‘***’ 0.001 ‘**’ 0.01 ‘*’ 0.05 ‘.’ 0.1 ‘ ’ 1\n",
              "\n",
              "(Dispersion parameter for binomial family taken to be 1)\n",
              "\n",
              "    Null deviance: 13559  on 13446  degrees of freedom\n",
              "Residual deviance: 13546  on 13445  degrees of freedom\n",
              "AIC: 13550\n",
              "\n",
              "Number of Fisher Scoring iterations: 4\n"
            ]
          },
          "metadata": {}
        }
      ]
    },
    {
      "cell_type": "code",
      "source": [
        "exp(coefficients(sexfit))"
      ],
      "metadata": {
        "colab": {
          "base_uri": "https://localhost:8080/",
          "height": 34
        },
        "id": "8bmX9j9Qxe06",
        "outputId": "72347648-fa64-4163-f572-86fec85e603a"
      },
      "execution_count": 9,
      "outputs": [
        {
          "output_type": "display_data",
          "data": {
            "text/html": [
              "<style>\n",
              ".dl-inline {width: auto; margin:0; padding: 0}\n",
              ".dl-inline>dt, .dl-inline>dd {float: none; width: auto; display: inline-block}\n",
              ".dl-inline>dt::after {content: \":\\0020\"; padding-right: .5ex}\n",
              ".dl-inline>dt:not(:first-of-type) {padding-left: .5ex}\n",
              "</style><dl class=dl-inline><dt>(Intercept)</dt><dd>0.235262303948091</dd><dt>SexMale</dt><dd>1.16738822316815</dd></dl>\n"
            ],
            "text/markdown": "(Intercept)\n:   0.235262303948091SexMale\n:   1.16738822316815\n\n",
            "text/latex": "\\begin{description*}\n\\item[(Intercept)] 0.235262303948091\n\\item[SexMale] 1.16738822316815\n\\end{description*}\n",
            "text/plain": [
              "(Intercept)     SexMale \n",
              "  0.2352623   1.1673882 "
            ]
          },
          "metadata": {}
        }
      ]
    },
    {
      "cell_type": "code",
      "source": [
        "exp(confint(sexfit))"
      ],
      "metadata": {
        "colab": {
          "base_uri": "https://localhost:8080/",
          "height": 164
        },
        "id": "PU-fTGYixdCk",
        "outputId": "b92194ac-ac92-4a0a-d8c8-53ba29c1eff3"
      },
      "execution_count": 10,
      "outputs": [
        {
          "output_type": "stream",
          "name": "stderr",
          "text": [
            "Waiting for profiling to be done...\n",
            "\n"
          ]
        },
        {
          "output_type": "display_data",
          "data": {
            "text/html": [
              "<table class=\"dataframe\">\n",
              "<caption>A matrix: 2 × 2 of type dbl</caption>\n",
              "<thead>\n",
              "\t<tr><th></th><th scope=col>2.5 %</th><th scope=col>97.5 %</th></tr>\n",
              "</thead>\n",
              "<tbody>\n",
              "\t<tr><th scope=row>(Intercept)</th><td>0.2214107</td><td>0.2497926</td></tr>\n",
              "\t<tr><th scope=row>SexMale</th><td>1.0731966</td><td>1.2699323</td></tr>\n",
              "</tbody>\n",
              "</table>\n"
            ],
            "text/markdown": "\nA matrix: 2 × 2 of type dbl\n\n| <!--/--> | 2.5 % | 97.5 % |\n|---|---|---|\n| (Intercept) | 0.2214107 | 0.2497926 |\n| SexMale | 1.0731966 | 1.2699323 |\n\n",
            "text/latex": "A matrix: 2 × 2 of type dbl\n\\begin{tabular}{r|ll}\n  & 2.5 \\% & 97.5 \\%\\\\\n\\hline\n\t(Intercept) & 0.2214107 & 0.2497926\\\\\n\tSexMale & 1.0731966 & 1.2699323\\\\\n\\end{tabular}\n",
            "text/plain": [
              "            2.5 %     97.5 %   \n",
              "(Intercept) 0.2214107 0.2497926\n",
              "SexMale     1.0731966 1.2699323"
            ]
          },
          "metadata": {}
        }
      ]
    },
    {
      "cell_type": "markdown",
      "source": [
        "*  $\\exp(\\hat\\beta_0) = 0.24$, the odds of texting while driving are 0.24 for females (24 females text for every 100 that do not).\n",
        "* $\\exp(\\hat\\beta_1) = 1.17$, the odds of texting while driving for males are 1.17 times higher than for females.\n",
        "* Is there evidence that texting is related to sex?\n",
        "\n",
        "**YES: p-value for the odds ratio = 0.0003 < 0.05, 95% CI for the odds ratio (1.07, 1.27) does not overlap 1.**"
      ],
      "metadata": {
        "id": "My3o8UA9xR9G"
      }
    },
    {
      "cell_type": "markdown",
      "source": [
        "## Adjusting for grade level\n"
      ],
      "metadata": {
        "id": "_Px5k2LxyEkZ"
      }
    },
    {
      "cell_type": "markdown",
      "source": [
        "Next, we can adjust for grade level.  Since there are 4 grades, we'll have 3 grade indicator variables:\n",
        "\n",
        "$$ logit(p) = \\beta_0 + \\beta_1 X + \\beta_2 U_{10} + \\beta_3 U_{11} + \\beta_4 U_{12}$$\n",
        "\n",
        "where:\n",
        "\n",
        "$U_k = \\begin{cases} 1 & \\mbox{Student is in grade }k\\\\\n",
        "0& otherwise \\\\\n",
        "\\end{cases}\n",
        "$"
      ],
      "metadata": {
        "id": "oEV3muS01AkS"
      }
    },
    {
      "cell_type": "code",
      "source": [
        "sex.grade.additive.fit <- glm(Textdrive~Sex + Grade, data = yrbss19, family=binomial)\n",
        "summary(sex.grade.additive.fit)"
      ],
      "metadata": {
        "colab": {
          "base_uri": "https://localhost:8080/",
          "height": 381
        },
        "id": "bmuKY8ja1TmD",
        "outputId": "796a4234-d723-4e92-af9f-72bf2fbc8e02"
      },
      "execution_count": 11,
      "outputs": [
        {
          "output_type": "display_data",
          "data": {
            "text/plain": [
              "\n",
              "Call:\n",
              "glm(formula = Textdrive ~ Sex + Grade, family = binomial, data = yrbss19)\n",
              "\n",
              "Coefficients:\n",
              "                Estimate Std. Error z value Pr(>|z|)    \n",
              "(Intercept)     -3.04976    0.08072 -37.783  < 2e-16 ***\n",
              "SexMale          0.15541    0.04572   3.399 0.000676 ***\n",
              "Grade10th grade  0.99349    0.09226  10.769  < 2e-16 ***\n",
              "Grade11th grade  2.03653    0.08642  23.566  < 2e-16 ***\n",
              "Grade12th grade  2.61954    0.08622  30.384  < 2e-16 ***\n",
              "---\n",
              "Signif. codes:  0 ‘***’ 0.001 ‘**’ 0.01 ‘*’ 0.05 ‘.’ 0.1 ‘ ’ 1\n",
              "\n",
              "(Dispersion parameter for binomial family taken to be 1)\n",
              "\n",
              "    Null deviance: 13559  on 13446  degrees of freedom\n",
              "Residual deviance: 11902  on 13442  degrees of freedom\n",
              "AIC: 11912\n",
              "\n",
              "Number of Fisher Scoring iterations: 5\n"
            ]
          },
          "metadata": {}
        }
      ]
    },
    {
      "cell_type": "code",
      "source": [
        "exp(coefficients(sex.grade.additive.fit ))"
      ],
      "metadata": {
        "colab": {
          "base_uri": "https://localhost:8080/",
          "height": 34
        },
        "id": "NyoAIqey1XB_",
        "outputId": "95c8b8f9-1292-4e09-be98-df809f90618d"
      },
      "execution_count": 12,
      "outputs": [
        {
          "output_type": "display_data",
          "data": {
            "text/html": [
              "<style>\n",
              ".dl-inline {width: auto; margin:0; padding: 0}\n",
              ".dl-inline>dt, .dl-inline>dd {float: none; width: auto; display: inline-block}\n",
              ".dl-inline>dt::after {content: \":\\0020\"; padding-right: .5ex}\n",
              ".dl-inline>dt:not(:first-of-type) {padding-left: .5ex}\n",
              "</style><dl class=dl-inline><dt>(Intercept)</dt><dd>0.047370512099267</dd><dt>SexMale</dt><dd>1.16813504803067</dd><dt>Grade10th grade</dt><dd>2.70064345949605</dd><dt>Grade11th grade</dt><dd>7.66395596266129</dd><dt>Grade12th grade</dt><dd>13.7293928535713</dd></dl>\n"
            ],
            "text/markdown": "(Intercept)\n:   0.047370512099267SexMale\n:   1.16813504803067Grade10th grade\n:   2.70064345949605Grade11th grade\n:   7.66395596266129Grade12th grade\n:   13.7293928535713\n\n",
            "text/latex": "\\begin{description*}\n\\item[(Intercept)] 0.047370512099267\n\\item[SexMale] 1.16813504803067\n\\item[Grade10th grade] 2.70064345949605\n\\item[Grade11th grade] 7.66395596266129\n\\item[Grade12th grade] 13.7293928535713\n\\end{description*}\n",
            "text/plain": [
              "    (Intercept)         SexMale Grade10th grade Grade11th grade Grade12th grade \n",
              "     0.04737051      1.16813505      2.70064346      7.66395596     13.72939285 "
            ]
          },
          "metadata": {}
        }
      ]
    },
    {
      "cell_type": "markdown",
      "source": [
        "* Interpret $\\exp(\\hat\\beta_1)$.  How does its interpretation change from the simple model fit on sex alone?  Does this interpretation seem valid, given what we know about how the sex relationship depends on grade level?"
      ],
      "metadata": {
        "id": "xK5aLOB_1heE"
      }
    },
    {
      "cell_type": "markdown",
      "source": [
        "**The odds of texting while driving for males are 1.17 times higher than for females, comparing students in the same grade level.**"
      ],
      "metadata": {
        "id": "1EHFDnaz3Kkp"
      }
    },
    {
      "cell_type": "markdown",
      "source": [
        "## Modeling an interaction\n"
      ],
      "metadata": {
        "id": "ZUv5bfTH15Fa"
      }
    },
    {
      "cell_type": "markdown",
      "source": [
        "We know from our exploratory analysis that the texting/sex relationship is strongest for 9th graders, and might not even be there at all for the higher grade levels.  Modeling an interaction between sex and grade allows relationship of the log-odds of texting with sex to vary by grade level.  The full interaction model is:\n",
        "\n",
        "\n",
        "$$ logit(p) = \\beta_0 + \\beta_1 X + \\beta_2 U_{10} + \\beta_3 U_{11} + \\beta_4 U_{12} + \\beta_5 X\\cdot U_{10} + \\beta_6 X\\cdot U_{11} + \\beta_7 X \\cdot U_{12} $$"
      ],
      "metadata": {
        "id": "Jd8cTly_18PQ"
      }
    },
    {
      "cell_type": "code",
      "source": [
        "sex.grade.interaction.fit <- glm(Textdrive~Sex + Grade + Sex *  Grade, data = yrbss19, family=binomial)\n",
        "summary(sex.grade.interaction.fit)"
      ],
      "metadata": {
        "id": "7ypOKRQh170T",
        "colab": {
          "base_uri": "https://localhost:8080/",
          "height": 451
        },
        "outputId": "59966399-6530-4880-f181-e01a413e9e01"
      },
      "execution_count": 13,
      "outputs": [
        {
          "output_type": "display_data",
          "data": {
            "text/plain": [
              "\n",
              "Call:\n",
              "glm(formula = Textdrive ~ Sex + Grade + Sex * Grade, family = binomial, \n",
              "    data = yrbss19)\n",
              "\n",
              "Coefficients:\n",
              "                        Estimate Std. Error z value Pr(>|z|)    \n",
              "(Intercept)              -3.4772     0.1345 -25.856  < 2e-16 ***\n",
              "SexMale                   0.8804     0.1647   5.347 8.96e-08 ***\n",
              "Grade10th grade           1.4038     0.1534   9.153  < 2e-16 ***\n",
              "Grade11th grade           2.5358     0.1452  17.468  < 2e-16 ***\n",
              "Grade12th grade           3.0717     0.1448  21.207  < 2e-16 ***\n",
              "SexMale:Grade10th grade  -0.6927     0.1932  -3.586 0.000336 ***\n",
              "SexMale:Grade11th grade  -0.8664     0.1819  -4.763 1.91e-06 ***\n",
              "SexMale:Grade12th grade  -0.7748     0.1815  -4.268 1.97e-05 ***\n",
              "---\n",
              "Signif. codes:  0 ‘***’ 0.001 ‘**’ 0.01 ‘*’ 0.05 ‘.’ 0.1 ‘ ’ 1\n",
              "\n",
              "(Dispersion parameter for binomial family taken to be 1)\n",
              "\n",
              "    Null deviance: 13559  on 13446  degrees of freedom\n",
              "Residual deviance: 11877  on 13439  degrees of freedom\n",
              "AIC: 11893\n",
              "\n",
              "Number of Fisher Scoring iterations: 6\n"
            ]
          },
          "metadata": {}
        }
      ]
    },
    {
      "cell_type": "markdown",
      "source": [
        "All the interaction terms individually appear significant.  We can test whether modeling an interaciton term is an improvement on the no-interaction model with the drop-in-deviance/likelihood ratio test of the hypotheses:\n",
        "\n",
        "$$H_0: \\mbox{Additive sex + grade model sufficient; } \\beta_5 = \\beta_6 = \\beta_7 = 0$$\n",
        "$$H_a: \\mbox{Interaction between sex and grade is an improvement; at least one of } \\beta_5, \\beta_6, \\beta_7 \\ne 0$$"
      ],
      "metadata": {
        "id": "697hLk0G29NJ"
      }
    },
    {
      "cell_type": "code",
      "source": [
        "anova(sex.grade.additive.fit,sex.grade.interaction.fit, test = 'Chisq')"
      ],
      "metadata": {
        "id": "taSd1iLP6EGJ",
        "colab": {
          "base_uri": "https://localhost:8080/",
          "height": 161
        },
        "outputId": "ab3aa4a6-a3eb-40ff-c0e8-28a2bf222894"
      },
      "execution_count": 14,
      "outputs": [
        {
          "output_type": "display_data",
          "data": {
            "text/html": [
              "<table class=\"dataframe\">\n",
              "<caption>A anova: 2 × 5</caption>\n",
              "<thead>\n",
              "\t<tr><th></th><th scope=col>Resid. Df</th><th scope=col>Resid. Dev</th><th scope=col>Df</th><th scope=col>Deviance</th><th scope=col>Pr(&gt;Chi)</th></tr>\n",
              "\t<tr><th></th><th scope=col>&lt;dbl&gt;</th><th scope=col>&lt;dbl&gt;</th><th scope=col>&lt;dbl&gt;</th><th scope=col>&lt;dbl&gt;</th><th scope=col>&lt;dbl&gt;</th></tr>\n",
              "</thead>\n",
              "<tbody>\n",
              "\t<tr><th scope=row>1</th><td>13442</td><td>11901.69</td><td>NA</td><td>      NA</td><td>          NA</td></tr>\n",
              "\t<tr><th scope=row>2</th><td>13439</td><td>11877.21</td><td> 3</td><td>24.47681</td><td>1.986148e-05</td></tr>\n",
              "</tbody>\n",
              "</table>\n"
            ],
            "text/markdown": "\nA anova: 2 × 5\n\n| <!--/--> | Resid. Df &lt;dbl&gt; | Resid. Dev &lt;dbl&gt; | Df &lt;dbl&gt; | Deviance &lt;dbl&gt; | Pr(&gt;Chi) &lt;dbl&gt; |\n|---|---|---|---|---|---|\n| 1 | 13442 | 11901.69 | NA |       NA |           NA |\n| 2 | 13439 | 11877.21 |  3 | 24.47681 | 1.986148e-05 |\n\n",
            "text/latex": "A anova: 2 × 5\n\\begin{tabular}{r|lllll}\n  & Resid. Df & Resid. Dev & Df & Deviance & Pr(>Chi)\\\\\n  & <dbl> & <dbl> & <dbl> & <dbl> & <dbl>\\\\\n\\hline\n\t1 & 13442 & 11901.69 & NA &       NA &           NA\\\\\n\t2 & 13439 & 11877.21 &  3 & 24.47681 & 1.986148e-05\\\\\n\\end{tabular}\n",
            "text/plain": [
              "  Resid. Df Resid. Dev Df Deviance Pr(>Chi)    \n",
              "1 13442     11901.69   NA       NA           NA\n",
              "2 13439     11877.21    3 24.47681 1.986148e-05"
            ]
          },
          "metadata": {}
        }
      ]
    },
    {
      "cell_type": "markdown",
      "source": [
        "Since the p-value < .0001, there is statistically significant evidence to support including an interaction between grade and sex when modeling the log-odds of texting while driving.  "
      ],
      "metadata": {
        "id": "Rd409pnp6REe"
      }
    },
    {
      "cell_type": "markdown",
      "source": [
        "# Grade-specific sex contrasts\n"
      ],
      "metadata": {
        "id": "o2ssDfzv_BsK"
      }
    },
    {
      "cell_type": "markdown",
      "source": [
        "With our interaction model, we can investigate the texting/sex relationship separately for each grade level.  How can we do this?\n",
        "\n",
        "Reconsider the interaction model coefficients:"
      ],
      "metadata": {
        "id": "rVQf9AtR_in_"
      }
    },
    {
      "cell_type": "code",
      "source": [
        "summary(sex.grade.interaction.fit)$coefficients"
      ],
      "metadata": {
        "id": "0m4XQsit_EdP",
        "colab": {
          "base_uri": "https://localhost:8080/",
          "height": 317
        },
        "outputId": "d2508d83-5f55-4b70-900f-a81994127639"
      },
      "execution_count": 15,
      "outputs": [
        {
          "output_type": "display_data",
          "data": {
            "text/html": [
              "<table class=\"dataframe\">\n",
              "<caption>A matrix: 8 × 4 of type dbl</caption>\n",
              "<thead>\n",
              "\t<tr><th></th><th scope=col>Estimate</th><th scope=col>Std. Error</th><th scope=col>z value</th><th scope=col>Pr(&gt;|z|)</th></tr>\n",
              "</thead>\n",
              "<tbody>\n",
              "\t<tr><th scope=row>(Intercept)</th><td>-3.4771833</td><td>0.1344834</td><td>-25.855848</td><td>2.091247e-147</td></tr>\n",
              "\t<tr><th scope=row>SexMale</th><td> 0.8804246</td><td>0.1646673</td><td>  5.346687</td><td> 8.957889e-08</td></tr>\n",
              "\t<tr><th scope=row>Grade10th grade</th><td> 1.4037987</td><td>0.1533762</td><td>  9.152653</td><td> 5.555242e-20</td></tr>\n",
              "\t<tr><th scope=row>Grade11th grade</th><td> 2.5358328</td><td>0.1451732</td><td> 17.467637</td><td> 2.527471e-68</td></tr>\n",
              "\t<tr><th scope=row>Grade12th grade</th><td> 3.0717182</td><td>0.1448424</td><td> 21.207317</td><td>8.174427e-100</td></tr>\n",
              "\t<tr><th scope=row>SexMale:Grade10th grade</th><td>-0.6927313</td><td>0.1931657</td><td> -3.586203</td><td> 3.355274e-04</td></tr>\n",
              "\t<tr><th scope=row>SexMale:Grade11th grade</th><td>-0.8664148</td><td>0.1818979</td><td> -4.763192</td><td> 1.905543e-06</td></tr>\n",
              "\t<tr><th scope=row>SexMale:Grade12th grade</th><td>-0.7748138</td><td>0.1815203</td><td> -4.268470</td><td> 1.968179e-05</td></tr>\n",
              "</tbody>\n",
              "</table>\n"
            ],
            "text/markdown": "\nA matrix: 8 × 4 of type dbl\n\n| <!--/--> | Estimate | Std. Error | z value | Pr(&gt;|z|) |\n|---|---|---|---|---|\n| (Intercept) | -3.4771833 | 0.1344834 | -25.855848 | 2.091247e-147 |\n| SexMale |  0.8804246 | 0.1646673 |   5.346687 |  8.957889e-08 |\n| Grade10th grade |  1.4037987 | 0.1533762 |   9.152653 |  5.555242e-20 |\n| Grade11th grade |  2.5358328 | 0.1451732 |  17.467637 |  2.527471e-68 |\n| Grade12th grade |  3.0717182 | 0.1448424 |  21.207317 | 8.174427e-100 |\n| SexMale:Grade10th grade | -0.6927313 | 0.1931657 |  -3.586203 |  3.355274e-04 |\n| SexMale:Grade11th grade | -0.8664148 | 0.1818979 |  -4.763192 |  1.905543e-06 |\n| SexMale:Grade12th grade | -0.7748138 | 0.1815203 |  -4.268470 |  1.968179e-05 |\n\n",
            "text/latex": "A matrix: 8 × 4 of type dbl\n\\begin{tabular}{r|llll}\n  & Estimate & Std. Error & z value & Pr(>\\textbar{}z\\textbar{})\\\\\n\\hline\n\t(Intercept) & -3.4771833 & 0.1344834 & -25.855848 & 2.091247e-147\\\\\n\tSexMale &  0.8804246 & 0.1646673 &   5.346687 &  8.957889e-08\\\\\n\tGrade10th grade &  1.4037987 & 0.1533762 &   9.152653 &  5.555242e-20\\\\\n\tGrade11th grade &  2.5358328 & 0.1451732 &  17.467637 &  2.527471e-68\\\\\n\tGrade12th grade &  3.0717182 & 0.1448424 &  21.207317 & 8.174427e-100\\\\\n\tSexMale:Grade10th grade & -0.6927313 & 0.1931657 &  -3.586203 &  3.355274e-04\\\\\n\tSexMale:Grade11th grade & -0.8664148 & 0.1818979 &  -4.763192 &  1.905543e-06\\\\\n\tSexMale:Grade12th grade & -0.7748138 & 0.1815203 &  -4.268470 &  1.968179e-05\\\\\n\\end{tabular}\n",
            "text/plain": [
              "                        Estimate   Std. Error z value    Pr(>|z|)     \n",
              "(Intercept)             -3.4771833 0.1344834  -25.855848 2.091247e-147\n",
              "SexMale                  0.8804246 0.1646673    5.346687  8.957889e-08\n",
              "Grade10th grade          1.4037987 0.1533762    9.152653  5.555242e-20\n",
              "Grade11th grade          2.5358328 0.1451732   17.467637  2.527471e-68\n",
              "Grade12th grade          3.0717182 0.1448424   21.207317 8.174427e-100\n",
              "SexMale:Grade10th grade -0.6927313 0.1931657   -3.586203  3.355274e-04\n",
              "SexMale:Grade11th grade -0.8664148 0.1818979   -4.763192  1.905543e-06\n",
              "SexMale:Grade12th grade -0.7748138 0.1815203   -4.268470  1.968179e-05"
            ]
          },
          "metadata": {}
        }
      ]
    },
    {
      "cell_type": "markdown",
      "source": [
        "* Suppose we want to test whether the log-odds of texting while driving differ significantly by sex, ***among 9th graders***.  Which coefficient(s) represent this contrast?\n",
        "\n",
        "$$\\mbox{9th grade males: }logit(p|male, 9th) = \\hat\\beta_0 + \\hatΒ_1$$\n",
        "$$\\mbox{9th grade females: }logit(p|female, 9th) = \\hat\\beta_0$$\n",
        "$$\\mbox{9th grade male-female contrast: } logit(p|male, 9th) - logit(p|female, 9th) = \\hat\\beta_1  $$\n",
        "\n",
        "* Can we test this contrast directly from the `summary()` output?"
      ],
      "metadata": {
        "id": "sWdSsoZU_xQc"
      }
    },
    {
      "cell_type": "code",
      "source": [
        "# SexMale\n",
        "# males texting is 2.41 times higher than females\n",
        "exp(0.88)"
      ],
      "metadata": {
        "colab": {
          "base_uri": "https://localhost:8080/",
          "height": 34
        },
        "id": "eV60LCiO5ZKg",
        "outputId": "00a6ff9e-334b-4bf7-bb15-4ee0462bacad"
      },
      "execution_count": 27,
      "outputs": [
        {
          "output_type": "display_data",
          "data": {
            "text/html": [
              "2.41089970641721"
            ],
            "text/markdown": "2.41089970641721",
            "text/latex": "2.41089970641721",
            "text/plain": [
              "[1] 2.4109"
            ]
          },
          "metadata": {}
        }
      ]
    },
    {
      "cell_type": "markdown",
      "source": [
        "\n",
        "* Suppose we want to test whether the log-odds of texting while driving differ significantly by sex, ***among 10th graders***.  Which coefficient(s) represent this contrast?\n",
        "\n",
        "$$\\mbox{10th grade males: }logit(p|male, 10th) = \\beta_0 + \\beta_1 + \\beta_2 + \\beta_5$$\n",
        "$$\\mbox{10th grade females: }logit(p|female, 10th) = $$\n",
        "$$\\mbox{10th grade male-female contrast: } logit(p|male, 10th) - logit(p|female, 10th)  $$\n",
        "\n",
        "* Can we test this contrast directly from the `summary()` output?"
      ],
      "metadata": {
        "id": "Upzt3uoTAfhq"
      }
    },
    {
      "cell_type": "code",
      "source": [
        "# Find odds ratio for 10th grade males/ 10th grade females:\n",
        "exp(0.880424 + - 0.692731)\n",
        "\n",
        "# is this statistically significant odds ratio?"
      ],
      "metadata": {
        "colab": {
          "base_uri": "https://localhost:8080/",
          "height": 34
        },
        "id": "5iSGN5ALAQZg",
        "outputId": "9f32e55e-9aa5-4528-c583-764d49f831d9"
      },
      "execution_count": 29,
      "outputs": [
        {
          "output_type": "display_data",
          "data": {
            "text/html": [
              "1.206463074326"
            ],
            "text/markdown": "1.206463074326",
            "text/latex": "1.206463074326",
            "text/plain": [
              "[1] 1.206463"
            ]
          },
          "metadata": {}
        }
      ]
    },
    {
      "cell_type": "markdown",
      "source": [
        "Determining whether there is a texting/sex relationship for the upper grade levels requires testing linear combinations of coefficients, which are best facilitated with `emmeans()`."
      ],
      "metadata": {
        "id": "sccLiVrmAbMQ"
      }
    },
    {
      "cell_type": "code",
      "source": [
        "install.packages('emmeans')\n",
        "library(emmeans)"
      ],
      "metadata": {
        "id": "xvrEGdC2HfVP",
        "colab": {
          "base_uri": "https://localhost:8080/"
        },
        "outputId": "0b8c3319-b512-49d3-9c41-ad86360e9721"
      },
      "execution_count": 17,
      "outputs": [
        {
          "output_type": "stream",
          "name": "stderr",
          "text": [
            "Installing package into ‘/usr/local/lib/R/site-library’\n",
            "(as ‘lib’ is unspecified)\n",
            "\n",
            "also installing the dependencies ‘estimability’, ‘numDeriv’, ‘mvtnorm’\n",
            "\n",
            "\n",
            "Welcome to emmeans.\n",
            "Caution: You lose important information if you filter this package's results.\n",
            "See '? untidy'\n",
            "\n"
          ]
        }
      ]
    },
    {
      "cell_type": "markdown",
      "source": [
        "The structure of `emmeans`:\n",
        "\n",
        "1. Produce the fitted values you want to contrast:\n",
        "\n",
        "```modeled_values <- emmeans(model, specs, type, at)```\n",
        " * `model`: the GLM\n",
        " * `specs`: specifies for which variable you want the fitted values\n",
        " * `type`: do you want the fittd values on the linear (logit) or response ($p$) scale?\n",
        " * `at`: specific values of covariates for which you want fitted values computed\n",
        "\n",
        "2. Contrast the fitted values; this produces contrast estimates and p-values:\n",
        "\n",
        "```contrast_them <- contrast(modeled_values, method = )```\n",
        "\n",
        "Most useful methods: \"pairwise\", \"revpairwise\", \"consec\"\n",
        "\n",
        "3.  Produce confidence intervals for contrast:\n",
        "\n",
        "```confint(contrast_them)```\n"
      ],
      "metadata": {
        "id": "XTwNkPRQd10X"
      }
    },
    {
      "cell_type": "markdown",
      "source": [
        "First step for us, set up the `emmeans` object.  To prepare for the contrasts we want, we are interested in the odds of texting for males and females, ***grouped by*** grade level:"
      ],
      "metadata": {
        "id": "jffv1AABHhSe"
      }
    },
    {
      "cell_type": "code",
      "source": [
        "(fitted_values_by_sex_grade_prob <- emmeans(sex.grade.interaction.fit, specs = ~Sex|Grade))"
      ],
      "metadata": {
        "colab": {
          "base_uri": "https://localhost:8080/",
          "height": 399
        },
        "id": "x_vfApbyCzYe",
        "outputId": "1c52fda2-34e0-41e7-c821-f8486081f6a8"
      },
      "execution_count": 33,
      "outputs": [
        {
          "output_type": "display_data",
          "data": {
            "text/plain": [
              "Grade = 9th grade:\n",
              " Sex    emmean     SE  df asymp.LCL asymp.UCL\n",
              " Female -3.477 0.1340 Inf    -3.741    -3.214\n",
              " Male   -2.597 0.0950 Inf    -2.783    -2.411\n",
              "\n",
              "Grade = 10th grade:\n",
              " Sex    emmean     SE  df asymp.LCL asymp.UCL\n",
              " Female -2.073 0.0737 Inf    -2.218    -1.929\n",
              " Male   -1.886 0.0690 Inf    -2.021    -1.750\n",
              "\n",
              "Grade = 11th grade:\n",
              " Sex    emmean     SE  df asymp.LCL asymp.UCL\n",
              " Female -0.941 0.0547 Inf    -1.049    -0.834\n",
              " Male   -0.927 0.0546 Inf    -1.034    -0.820\n",
              "\n",
              "Grade = 12th grade:\n",
              " Sex    emmean     SE  df asymp.LCL asymp.UCL\n",
              " Female -0.405 0.0538 Inf    -0.511    -0.300\n",
              " Male   -0.300 0.0542 Inf    -0.406    -0.194\n",
              "\n",
              "Results are given on the logit (not the response) scale. \n",
              "Confidence level used: 0.95 "
            ]
          },
          "metadata": {}
        }
      ]
    },
    {
      "cell_type": "code",
      "source": [
        "# -3.477 = intercept\n",
        "# -2.597 = B0 + B1\n",
        "# type = 'response' -- proportion scale\n",
        "\n",
        "(fitted_values_by_sex_grade_logit <- emmeans(sex.grade.interaction.fit, specs = ~Sex|Grade, at = list(Grade='10th grade'), type = 'response'))"
      ],
      "metadata": {
        "colab": {
          "base_uri": "https://localhost:8080/",
          "height": 138
        },
        "id": "vDyE4XnOHz7N",
        "outputId": "ff05cefb-6af0-454c-e59d-2e1faaa3640e"
      },
      "execution_count": 36,
      "outputs": [
        {
          "output_type": "display_data",
          "data": {
            "text/plain": [
              "Grade = 10th grade:\n",
              " Sex     prob      SE  df asymp.LCL asymp.UCL\n",
              " Female 0.112 0.00732 Inf    0.0982     0.127\n",
              " Male   0.132 0.00789 Inf    0.1170     0.148\n",
              "\n",
              "Confidence level used: 0.95 \n",
              "Intervals are back-transformed from the logit scale "
            ]
          },
          "metadata": {}
        }
      ]
    },
    {
      "cell_type": "markdown",
      "source": [
        "Remember that the default linear combinations are on the ***logit (log-odds)*** scale!  To get these on the odds scale, we specify `type = 'response'`:"
      ],
      "metadata": {
        "id": "cEeINQJkID-Z"
      }
    },
    {
      "cell_type": "code",
      "source": [
        "(fitted_values_by_sex_grade_logit <- emmeans(sex.grade.interaction.fit, specs = ~Sex|Grade, type = 'response'))"
      ],
      "metadata": {
        "colab": {
          "base_uri": "https://localhost:8080/",
          "height": 399
        },
        "id": "guWQYDlXH32e",
        "outputId": "1757c17a-93d5-4753-849f-67cb43807b36"
      },
      "execution_count": 19,
      "outputs": [
        {
          "output_type": "display_data",
          "data": {
            "text/plain": [
              "Grade = 9th grade:\n",
              " Sex      prob      SE  df asymp.LCL asymp.UCL\n",
              " Female 0.0300 0.00391 Inf    0.0232    0.0387\n",
              " Male   0.0693 0.00613 Inf    0.0582    0.0824\n",
              "\n",
              "Grade = 10th grade:\n",
              " Sex      prob      SE  df asymp.LCL asymp.UCL\n",
              " Female 0.1117 0.00732 Inf    0.0982    0.1269\n",
              " Male   0.1317 0.00789 Inf    0.1170    0.1480\n",
              "\n",
              "Grade = 11th grade:\n",
              " Sex      prob      SE  df asymp.LCL asymp.UCL\n",
              " Female 0.2806 0.01100 Inf    0.2595    0.3028\n",
              " Male   0.2835 0.01110 Inf    0.2622    0.3057\n",
              "\n",
              "Grade = 12th grade:\n",
              " Sex      prob      SE  df asymp.LCL asymp.UCL\n",
              " Female 0.4000 0.01290 Inf    0.3750    0.4255\n",
              " Male   0.4256 0.01330 Inf    0.3998    0.4518\n",
              "\n",
              "Confidence level used: 0.95 \n",
              "Intervals are back-transformed from the logit scale "
            ]
          },
          "metadata": {}
        }
      ]
    },
    {
      "cell_type": "markdown",
      "source": [
        "Now when specifying `method='pairwise'` in our `contrast()` command, the contrasts will take place by grade level, which is what we want:"
      ],
      "metadata": {
        "id": "RfZvqDdlIQ0e"
      }
    },
    {
      "cell_type": "code",
      "source": [
        "contrast(fitted_values_by_sex_grade_prob, method = 'revpairwise')"
      ],
      "metadata": {
        "colab": {
          "base_uri": "https://localhost:8080/",
          "height": 312
        },
        "id": "arLWkCS5Ib_W",
        "outputId": "faaf53b9-bc1f-497e-a018-51c8ffd20975"
      },
      "execution_count": 35,
      "outputs": [
        {
          "output_type": "display_data",
          "data": {
            "text/plain": [
              "Grade = 9th grade:\n",
              " contrast      estimate     SE  df z.ratio p.value\n",
              " Male - Female    0.880 0.1650 Inf   5.347  <.0001\n",
              "\n",
              "Grade = 10th grade:\n",
              " contrast      estimate     SE  df z.ratio p.value\n",
              " Male - Female    0.188 0.1010 Inf   1.859  0.0631\n",
              "\n",
              "Grade = 11th grade:\n",
              " contrast      estimate     SE  df z.ratio p.value\n",
              " Male - Female    0.014 0.0773 Inf   0.181  0.8561\n",
              "\n",
              "Grade = 12th grade:\n",
              " contrast      estimate     SE  df z.ratio p.value\n",
              " Male - Female    0.106 0.0764 Inf   1.383  0.1668\n",
              "\n",
              "Results are given on the log odds ratio (not the response) scale. "
            ]
          },
          "metadata": {}
        }
      ]
    },
    {
      "cell_type": "code",
      "source": [
        "# We don't need this code ?\n",
        "confint(contrast(fitted_values_by_sex_grade_logit, method = 'pairwise'))"
      ],
      "metadata": {
        "colab": {
          "base_uri": "https://localhost:8080/",
          "height": 223
        },
        "id": "1pPKawTUKCJA",
        "outputId": "9f77d71c-0c0c-4576-ca99-01a73626f978"
      },
      "execution_count": 21,
      "outputs": [
        {
          "output_type": "display_data",
          "data": {
            "text/html": [
              "<table class=\"dataframe\">\n",
              "<caption>A summary_emm: 4 × 7</caption>\n",
              "<thead>\n",
              "\t<tr><th></th><th scope=col>contrast</th><th scope=col>Grade</th><th scope=col>odds.ratio</th><th scope=col>SE</th><th scope=col>df</th><th scope=col>asymp.LCL</th><th scope=col>asymp.UCL</th></tr>\n",
              "\t<tr><th></th><th scope=col>&lt;fct&gt;</th><th scope=col>&lt;fct&gt;</th><th scope=col>&lt;dbl&gt;</th><th scope=col>&lt;dbl&gt;</th><th scope=col>&lt;dbl&gt;</th><th scope=col>&lt;dbl&gt;</th><th scope=col>&lt;dbl&gt;</th></tr>\n",
              "</thead>\n",
              "<tbody>\n",
              "\t<tr><th scope=row>1</th><td>Female / Male</td><td>9th grade </td><td>0.4146068</td><td>0.06827220</td><td>Inf</td><td>0.3002419</td><td>0.5725343</td></tr>\n",
              "\t<tr><th scope=row>2</th><td>Female / Male</td><td>10th grade</td><td>0.8288689</td><td>0.08370198</td><td>Inf</td><td>0.6800309</td><td>1.0102830</td></tr>\n",
              "\t<tr><th scope=row>3</th><td>Female / Male</td><td>11th grade</td><td>0.9860878</td><td>0.07620057</td><td>Inf</td><td>0.8474975</td><td>1.1473416</td></tr>\n",
              "\t<tr><th scope=row>4</th><td>Female / Male</td><td>12th grade</td><td>0.8997748</td><td>0.06872696</td><td>Inf</td><td>0.7746705</td><td>1.0450826</td></tr>\n",
              "</tbody>\n",
              "</table>\n"
            ],
            "text/markdown": "\nA summary_emm: 4 × 7\n\n| <!--/--> | contrast &lt;fct&gt; | Grade &lt;fct&gt; | odds.ratio &lt;dbl&gt; | SE &lt;dbl&gt; | df &lt;dbl&gt; | asymp.LCL &lt;dbl&gt; | asymp.UCL &lt;dbl&gt; |\n|---|---|---|---|---|---|---|---|\n| 1 | Female / Male | 9th grade  | 0.4146068 | 0.06827220 | Inf | 0.3002419 | 0.5725343 |\n| 2 | Female / Male | 10th grade | 0.8288689 | 0.08370198 | Inf | 0.6800309 | 1.0102830 |\n| 3 | Female / Male | 11th grade | 0.9860878 | 0.07620057 | Inf | 0.8474975 | 1.1473416 |\n| 4 | Female / Male | 12th grade | 0.8997748 | 0.06872696 | Inf | 0.7746705 | 1.0450826 |\n\n",
            "text/latex": "A summary\\_emm: 4 × 7\n\\begin{tabular}{r|lllllll}\n  & contrast & Grade & odds.ratio & SE & df & asymp.LCL & asymp.UCL\\\\\n  & <fct> & <fct> & <dbl> & <dbl> & <dbl> & <dbl> & <dbl>\\\\\n\\hline\n\t1 & Female / Male & 9th grade  & 0.4146068 & 0.06827220 & Inf & 0.3002419 & 0.5725343\\\\\n\t2 & Female / Male & 10th grade & 0.8288689 & 0.08370198 & Inf & 0.6800309 & 1.0102830\\\\\n\t3 & Female / Male & 11th grade & 0.9860878 & 0.07620057 & Inf & 0.8474975 & 1.1473416\\\\\n\t4 & Female / Male & 12th grade & 0.8997748 & 0.06872696 & Inf & 0.7746705 & 1.0450826\\\\\n\\end{tabular}\n",
            "text/plain": [
              "  contrast      Grade      odds.ratio SE         df  asymp.LCL asymp.UCL\n",
              "1 Female / Male 9th grade  0.4146068  0.06827220 Inf 0.3002419 0.5725343\n",
              "2 Female / Male 10th grade 0.8288689  0.08370198 Inf 0.6800309 1.0102830\n",
              "3 Female / Male 11th grade 0.9860878  0.07620057 Inf 0.8474975 1.1473416\n",
              "4 Female / Male 12th grade 0.8997748  0.06872696 Inf 0.7746705 1.0450826"
            ]
          },
          "metadata": {}
        }
      ]
    },
    {
      "cell_type": "markdown",
      "source": [
        "By default the odds ratios are odds of texting for females/males, if desired we can obtain the odds ratios on the males/females scale with `method='revpairwise')"
      ],
      "metadata": {
        "id": "XzCDrM4rIg34"
      }
    },
    {
      "cell_type": "code",
      "source": [
        "contrast(fitted_values_by_sex_grade_logit, method = 'revpairwise')"
      ],
      "metadata": {
        "colab": {
          "base_uri": "https://localhost:8080/",
          "height": 312
        },
        "id": "ep1WJ43_IehW",
        "outputId": "5962544b-7aab-4886-94ff-5f65798d9dc0"
      },
      "execution_count": 22,
      "outputs": [
        {
          "output_type": "display_data",
          "data": {
            "text/plain": [
              "Grade = 9th grade:\n",
              " contrast      odds.ratio     SE  df null z.ratio p.value\n",
              " Male / Female       2.41 0.3970 Inf    1   5.347  <.0001\n",
              "\n",
              "Grade = 10th grade:\n",
              " contrast      odds.ratio     SE  df null z.ratio p.value\n",
              " Male / Female       1.21 0.1220 Inf    1   1.859  0.0631\n",
              "\n",
              "Grade = 11th grade:\n",
              " contrast      odds.ratio     SE  df null z.ratio p.value\n",
              " Male / Female       1.01 0.0784 Inf    1   0.181  0.8561\n",
              "\n",
              "Grade = 12th grade:\n",
              " contrast      odds.ratio     SE  df null z.ratio p.value\n",
              " Male / Female       1.11 0.0849 Inf    1   1.383  0.1668\n",
              "\n",
              "Tests are performed on the log odds ratio scale "
            ]
          },
          "metadata": {}
        }
      ]
    },
    {
      "cell_type": "code",
      "source": [
        "# CI overlaps 1?\n",
        "confint(contrast(fitted_values_by_sex_grade_prob, method = 'revpairwise'))"
      ],
      "metadata": {
        "colab": {
          "base_uri": "https://localhost:8080/",
          "height": 223
        },
        "id": "VI1zPyoVIyZf",
        "outputId": "450cf5bd-4885-434f-b306-522bf1d77391"
      },
      "execution_count": 38,
      "outputs": [
        {
          "output_type": "display_data",
          "data": {
            "text/html": [
              "<table class=\"dataframe\">\n",
              "<caption>A summary_emm: 4 × 7</caption>\n",
              "<thead>\n",
              "\t<tr><th></th><th scope=col>contrast</th><th scope=col>Grade</th><th scope=col>estimate</th><th scope=col>SE</th><th scope=col>df</th><th scope=col>asymp.LCL</th><th scope=col>asymp.UCL</th></tr>\n",
              "\t<tr><th></th><th scope=col>&lt;fct&gt;</th><th scope=col>&lt;fct&gt;</th><th scope=col>&lt;dbl&gt;</th><th scope=col>&lt;dbl&gt;</th><th scope=col>&lt;dbl&gt;</th><th scope=col>&lt;dbl&gt;</th><th scope=col>&lt;dbl&gt;</th></tr>\n",
              "</thead>\n",
              "<tbody>\n",
              "\t<tr><th scope=row>1</th><td>Male - Female</td><td>9th grade </td><td>0.88042463</td><td>0.16466733</td><td>Inf</td><td> 0.55768259</td><td>1.2031667</td></tr>\n",
              "\t<tr><th scope=row>2</th><td>Male - Female</td><td>10th grade</td><td>0.18769330</td><td>0.10098337</td><td>Inf</td><td>-0.01023048</td><td>0.3856171</td></tr>\n",
              "\t<tr><th scope=row>3</th><td>Male - Female</td><td>11th grade</td><td>0.01400987</td><td>0.07727564</td><td>Inf</td><td>-0.13744760</td><td>0.1654673</td></tr>\n",
              "\t<tr><th scope=row>4</th><td>Male - Female</td><td>12th grade</td><td>0.10561080</td><td>0.07638241</td><td>Inf</td><td>-0.04409597</td><td>0.2553176</td></tr>\n",
              "</tbody>\n",
              "</table>\n"
            ],
            "text/markdown": "\nA summary_emm: 4 × 7\n\n| <!--/--> | contrast &lt;fct&gt; | Grade &lt;fct&gt; | estimate &lt;dbl&gt; | SE &lt;dbl&gt; | df &lt;dbl&gt; | asymp.LCL &lt;dbl&gt; | asymp.UCL &lt;dbl&gt; |\n|---|---|---|---|---|---|---|---|\n| 1 | Male - Female | 9th grade  | 0.88042463 | 0.16466733 | Inf |  0.55768259 | 1.2031667 |\n| 2 | Male - Female | 10th grade | 0.18769330 | 0.10098337 | Inf | -0.01023048 | 0.3856171 |\n| 3 | Male - Female | 11th grade | 0.01400987 | 0.07727564 | Inf | -0.13744760 | 0.1654673 |\n| 4 | Male - Female | 12th grade | 0.10561080 | 0.07638241 | Inf | -0.04409597 | 0.2553176 |\n\n",
            "text/latex": "A summary\\_emm: 4 × 7\n\\begin{tabular}{r|lllllll}\n  & contrast & Grade & estimate & SE & df & asymp.LCL & asymp.UCL\\\\\n  & <fct> & <fct> & <dbl> & <dbl> & <dbl> & <dbl> & <dbl>\\\\\n\\hline\n\t1 & Male - Female & 9th grade  & 0.88042463 & 0.16466733 & Inf &  0.55768259 & 1.2031667\\\\\n\t2 & Male - Female & 10th grade & 0.18769330 & 0.10098337 & Inf & -0.01023048 & 0.3856171\\\\\n\t3 & Male - Female & 11th grade & 0.01400987 & 0.07727564 & Inf & -0.13744760 & 0.1654673\\\\\n\t4 & Male - Female & 12th grade & 0.10561080 & 0.07638241 & Inf & -0.04409597 & 0.2553176\\\\\n\\end{tabular}\n",
            "text/plain": [
              "  contrast      Grade      estimate   SE         df  asymp.LCL   asymp.UCL\n",
              "1 Male - Female 9th grade  0.88042463 0.16466733 Inf  0.55768259 1.2031667\n",
              "2 Male - Female 10th grade 0.18769330 0.10098337 Inf -0.01023048 0.3856171\n",
              "3 Male - Female 11th grade 0.01400987 0.07727564 Inf -0.13744760 0.1654673\n",
              "4 Male - Female 12th grade 0.10561080 0.07638241 Inf -0.04409597 0.2553176"
            ]
          },
          "metadata": {}
        }
      ]
    },
    {
      "cell_type": "markdown",
      "source": [
        "Interpretation of the 9th grade sex relationship:\n",
        "\n",
        "* ***The odds of 9th grade males texting while driving are 2.4 times higher than for 9th grade females, a significantly higher odds (p-value < .0001, 95% CI for odds ratio: 1.7, 3.3 lies entirely above 1).***\n",
        "* If we interpreted Female/Male: ***The odds of 9th grade females texting while driving are 41% as high as the odds for 9th grade males, a significantly lower odds (p-value < .0001, 95% CI for odds ratio: 0.3, 0.6 lies entirely below 1).***"
      ],
      "metadata": {
        "id": "mnSKH4qWIz5X"
      }
    },
    {
      "cell_type": "markdown",
      "source": [
        "Interpretation of the 10 grade sex relationship:\n",
        "\n",
        "* ***The odds of 10th grade males texting while driving are 1.2 times higher than for 10th grade females, however this is not statistically significant (p-value = 0.06, 95% CI for odds ratio: 0.99, 1.47 includes 1).***\n",
        "\n",
        "\n",
        "Similarly, the texting/sex relationships are not significant for 11th and 12th graders -- it appears the only significant relationship is for the 9th graders."
      ],
      "metadata": {
        "id": "z2JMN63vKXcS"
      }
    },
    {
      "cell_type": "markdown",
      "source": [
        "# Sex-specific grade contrasts\n",
        "\n",
        "Your turn!  We saw early on that there was a strong relationship of texting with grade level. ***Does this relationship depend on sex, and if so, how?***\n"
      ],
      "metadata": {
        "id": "3xznOEfaJ2gY"
      }
    },
    {
      "cell_type": "markdown",
      "source": [
        "## Explore\n",
        "\n",
        "Re-create the grade/texting stacked bar graph, but now facet by sex.  What do you think?"
      ],
      "metadata": {
        "id": "b_uOpycQK7wk"
      }
    },
    {
      "cell_type": "code",
      "source": [
        "ggplot(data = yrbss19) +\n",
        "  geom_bar(aes(x = Grade, fill = factor(Textdrive)), position='fill') +\n",
        "  #scale_fill_discrete(name = '') +\n",
        "  ylab('Proportion') +\n",
        "  facet_wrap(~ Sex)"
      ],
      "metadata": {
        "id": "ZPN2KGyxK6YB",
        "colab": {
          "base_uri": "https://localhost:8080/",
          "height": 617
        },
        "outputId": "f4ad6c2d-146c-405f-da58-19070feec30d"
      },
      "execution_count": 44,
      "outputs": [
        {
          "output_type": "display_data",
          "data": {
            "text/plain": [
              "plot without title"
            ],
            "image/png": "[encoded data removed]"
          },
          "metadata": {
            "image/png": {
              "width": 600,
              "height": 600
            }
          }
        }
      ]
    },
    {
      "cell_type": "markdown",
      "source": [
        "## Contrast\n",
        "\n",
        "Use the full sex $\\times$ grade interaction model, set up an `emmeans()` object that will allow you to compare consecutive grade levels to each other, ***separately by sex***.  Then contrast ***consecutive*** grade levels (9th to 10th, 10th to 11th, 11th to 12th) for males and females (hint: `method='consec'` when you contrast the fitted odds).  \n",
        "\n",
        "* Is the 9th-to-10th contrast stronger for males or females? **Females. Odds ratio: 4 vs. 2.**\n",
        "* Is the 10th-to-11th contrast stronger for males or females? **Females. 3.1 vs. 2.6**\n",
        "* Is the 11th-to-12th contrast stronger for males or females? **Males. 1.7 vs 1.87**\n"
      ],
      "metadata": {
        "id": "ev5Eht_LLCT0"
      }
    },
    {
      "cell_type": "code",
      "source": [
        "emmeans(sex.grade.interaction.fit, specs = ~Grade|Sex, type='response') %>%\n",
        "  contrast(method = 'consec')"
      ],
      "metadata": {
        "colab": {
          "base_uri": "https://localhost:8080/",
          "height": 260
        },
        "id": "Ef7tCgxpFsbc",
        "outputId": "c3bc0fc5-4fde-4c1d-f278-1ddfe2da0c8b"
      },
      "execution_count": 47,
      "outputs": [
        {
          "output_type": "display_data",
          "data": {
            "text/plain": [
              "Sex = Female:\n",
              " contrast                odds.ratio    SE  df null z.ratio p.value\n",
              " 10th grade / 9th grade        4.07 0.624 Inf    1   9.153  <.0001\n",
              " 11th grade / 10th grade       3.10 0.285 Inf    1  12.331  <.0001\n",
              " 12th grade / 11th grade       1.71 0.131 Inf    1   6.987  <.0001\n",
              "\n",
              "Sex = Male:\n",
              " contrast                odds.ratio    SE  df null z.ratio p.value\n",
              " 10th grade / 9th grade        2.04 0.239 Inf    1   6.055  <.0001\n",
              " 11th grade / 10th grade       2.61 0.229 Inf    1  10.892  <.0001\n",
              " 12th grade / 11th grade       1.87 0.144 Inf    1   8.153  <.0001\n",
              "\n",
              "P value adjustment: mvt method for 3 tests \n",
              "Tests are performed on the log odds ratio scale "
            ]
          },
          "metadata": {}
        }
      ]
    }
  ]
}