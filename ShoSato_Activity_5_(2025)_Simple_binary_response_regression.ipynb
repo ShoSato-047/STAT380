{
  "nbformat": 4,
  "nbformat_minor": 0,
  "metadata": {
    "colab": {
      "provenance": [],
      "include_colab_link": true
    },
    "kernelspec": {
      "name": "ir",
      "display_name": "R"
    },
    "language_info": {
      "name": "R"
    }
  },
  "cells": [
    {
      "cell_type": "markdown",
      "metadata": {
        "id": "view-in-github",
        "colab_type": "text"
      },
      "source": [
        "<a href=\"https://colab.research.google.com/github/ShoSato-047/STAT380/blob/main/ShoSato_Activity_5_(2025)_Simple_binary_response_regression.ipynb\" target=\"_parent\"><img src=\"https://colab.research.google.com/assets/colab-badge.svg\" alt=\"Open In Colab\"/></a>"
      ]
    },
    {
      "cell_type": "markdown",
      "source": [
        "# 1)\n",
        "\n",
        "Members of several tennis clubs in the greater Boston area were surveyed.  Each participant was asked whether he or she had ever had tennis elbow and if so, how many episodes.  One factor that may be associated with ever having had tennis elbow is the type of racquet used (wood versus aluminum).  (Source: Rosner 10th ed, pg 445.)  The data are shown in the table below.\n",
        "\n",
        "Racquet type | No tennis elbow |\tTennis elbow |\tTotals\n",
        "---|---|---|---\n",
        "Wood |\t50 |\t60| \t110|\n",
        "Aluminum |\t66|\t110|\t176|\n",
        "Totals |\t116\t|170| \t286\n",
        "\n",
        "We want to fit a regression model that relates having tennis elbow to the racquet type.\n"
      ],
      "metadata": {
        "id": "1VuHebzKVbyI"
      }
    },
    {
      "cell_type": "markdown",
      "source": [
        "## A )\n",
        "\n",
        "Find the following, for $Y_i = 1$ for tennis elbow and $Y_i = 0$ for no tennis elbow:\n",
        "\n",
        "# **A - Answer:**\n",
        "* $P(Y_i = 1 | Wood)$ = **60/110 = 0.5454**\n",
        "* $P(Y_i = 1 | Aluminum)$ = **110/176 = 0.625**\n",
        "* $Odds(Y_i = 1 | Aluminum)$ = **110/66 = 1.67**\n",
        "* $Odds(Y_i = 1 | Wood)$ = **60/50 = 1.2**"
      ],
      "metadata": {
        "id": "iF-PEIt_yxPG"
      }
    },
    {
      "cell_type": "code",
      "source": [
        "60/110"
      ],
      "metadata": {
        "colab": {
          "base_uri": "https://localhost:8080/",
          "height": 34
        },
        "id": "i21_qYwmJCyd",
        "outputId": "d4e48d30-eb7c-44ad-c447-5f274628db21"
      },
      "execution_count": null,
      "outputs": [
        {
          "output_type": "display_data",
          "data": {
            "text/html": [
              "0.545454545454545"
            ],
            "text/markdown": "0.545454545454545",
            "text/latex": "0.545454545454545",
            "text/plain": [
              "[1] 0.5454545"
            ]
          },
          "metadata": {}
        }
      ]
    },
    {
      "cell_type": "code",
      "source": [
        "110/176"
      ],
      "metadata": {
        "colab": {
          "base_uri": "https://localhost:8080/",
          "height": 34
        },
        "id": "B1rWtLuPJF3T",
        "outputId": "e69005e8-252d-4764-8b2b-a0efd73c9aac"
      },
      "execution_count": null,
      "outputs": [
        {
          "output_type": "display_data",
          "data": {
            "text/html": [
              "0.625"
            ],
            "text/markdown": "0.625",
            "text/latex": "0.625",
            "text/plain": [
              "[1] 0.625"
            ]
          },
          "metadata": {}
        }
      ]
    },
    {
      "cell_type": "code",
      "source": [
        "110/66"
      ],
      "metadata": {
        "colab": {
          "base_uri": "https://localhost:8080/",
          "height": 34
        },
        "id": "cYWdiZ0LIpUl",
        "outputId": "e355cd7e-8005-40e9-f089-3ed0823ecfa5"
      },
      "execution_count": null,
      "outputs": [
        {
          "output_type": "display_data",
          "data": {
            "text/html": [
              "1.66666666666667"
            ],
            "text/markdown": "1.66666666666667",
            "text/latex": "1.66666666666667",
            "text/plain": [
              "[1] 1.666667"
            ]
          },
          "metadata": {}
        }
      ]
    },
    {
      "cell_type": "code",
      "source": [
        "60/50"
      ],
      "metadata": {
        "colab": {
          "base_uri": "https://localhost:8080/",
          "height": 34
        },
        "id": "xsmY3-DGIwVC",
        "outputId": "608a62f0-76f7-495e-8bfc-a92667cb9211"
      },
      "execution_count": null,
      "outputs": [
        {
          "output_type": "display_data",
          "data": {
            "text/html": [
              "1.2"
            ],
            "text/markdown": "1.2",
            "text/latex": "1.2",
            "text/plain": [
              "[1] 1.2"
            ]
          },
          "metadata": {}
        }
      ]
    },
    {
      "cell_type": "markdown",
      "source": [
        "## B)\n",
        "\n",
        "Suppose we code the racquet type used by person $i$ as $X_i=1$ if they use aluminum and $X_i=0$ if they use wood.  We will then fit the logistic regression model of $p_i\\equiv$ probability that individual $i$ has tennis elbow:\n",
        "\n",
        "$$\\log\\left(\\frac{p_i}{1-p_i}\\right) = \\beta_0 + \\beta_1 X_i$$\n",
        "\n",
        "Find $\\hat\\beta_0$ and $\\hat\\beta_1$ *without* using `glm()`.  Also find and interpret $e^{\\hat\\beta_1}$.\n",
        "\n",
        "# ***Note: This is the logistic model***"
      ],
      "metadata": {
        "id": "5kTzXjbM1GxI"
      }
    },
    {
      "cell_type": "markdown",
      "source": [
        " # **B - Answer:**\n",
        "  - $\\hat\\beta_0$ : (log odds when x = 0) = **0.18**\n",
        "  - $\\hat\\beta_1$ = **0.33**\n",
        "  - $e^{\\hat\\beta_1}$ = **1.39**\n",
        "\n",
        "\n",
        "  **The odds of having tennis elbow are 1.39 times higher for those using an aluminum racquet compared to those using a wood racquet.**"
      ],
      "metadata": {
        "id": "xcGCNuaJaOAv"
      }
    },
    {
      "cell_type": "code",
      "source": [
        "# B_0\n",
        "# # use the odds of wood\n",
        "log(60/50)"
      ],
      "metadata": {
        "colab": {
          "base_uri": "https://localhost:8080/",
          "height": 34
        },
        "id": "NgPAUwhQGUqa",
        "outputId": "35a7e6bd-3d00-42ff-b387-66cb4c24f645"
      },
      "execution_count": null,
      "outputs": [
        {
          "output_type": "display_data",
          "data": {
            "text/html": [
              "0.182321556793955"
            ],
            "text/markdown": "0.182321556793955",
            "text/latex": "0.182321556793955",
            "text/plain": [
              "[1] 0.1823216"
            ]
          },
          "metadata": {}
        }
      ]
    },
    {
      "cell_type": "code",
      "source": [
        "# B_1\n",
        "log(1.67) - log(1.2)"
      ],
      "metadata": {
        "colab": {
          "base_uri": "https://localhost:8080/",
          "height": 34
        },
        "id": "qa8nYPzuHCJT",
        "outputId": "f25d616b-b347-4a04-9d07-78a729a632ed"
      },
      "execution_count": null,
      "outputs": [
        {
          "output_type": "display_data",
          "data": {
            "text/html": [
              "0.330502069634709"
            ],
            "text/markdown": "0.330502069634709",
            "text/latex": "0.330502069634709",
            "text/plain": [
              "[1] 0.3305021"
            ]
          },
          "metadata": {}
        }
      ]
    },
    {
      "cell_type": "code",
      "source": [
        "OR = 1.67/1.2\n",
        "OR\n",
        "\n",
        "# The odds of haivng tennis elbows is 1.39 times higher for those who use an aluminium racquet."
      ],
      "metadata": {
        "colab": {
          "base_uri": "https://localhost:8080/",
          "height": 34
        },
        "id": "O1bT16G0HvuY",
        "outputId": "1f2aedee-67f9-4137-f381-d8e9eb7906a8"
      },
      "execution_count": null,
      "outputs": [
        {
          "output_type": "display_data",
          "data": {
            "text/html": [
              "1.39166666666667"
            ],
            "text/markdown": "1.39166666666667",
            "text/latex": "1.39166666666667",
            "text/plain": [
              "[1] 1.391667"
            ]
          },
          "metadata": {}
        }
      ]
    },
    {
      "cell_type": "markdown",
      "source": [
        "## C)\n",
        "Suppose we instead code the racquet type used by person $i$ as $X_i=1$ if they use wood and $X_i=0$ if they use aluminmum, and fit the same model.  Given this coding, find $\\hat\\beta_0$ and $\\hat\\beta_1$ *without* using `glm()`.  Also find and interpret $e^{\\hat\\beta_1}$."
      ],
      "metadata": {
        "id": "HQFmBrJaGqf_"
      }
    },
    {
      "cell_type": "markdown",
      "source": [
        "# **C - Answer:**\n",
        "  - $\\hat\\beta_0$ : (log odds when x = 0) = **0.51**\n",
        "  - $\\hat\\beta_1$ = **-0.33**\n",
        "  - $e^{\\hat\\beta_1}$ = **0.72**\n",
        "\n",
        "\n",
        "  **The odds of having tennis elbow are 0.72 times higher for those using an wood racquet compared to those using a aluminum racquet.**"
      ],
      "metadata": {
        "id": "-Nusjz6UaYPT"
      }
    },
    {
      "cell_type": "code",
      "source": [
        "# Opposite of Question B (just change the order of each variable)\n",
        "# B_0 and B_1 change??"
      ],
      "metadata": {
        "id": "Yk0wO04cZCui"
      },
      "execution_count": 49,
      "outputs": []
    },
    {
      "cell_type": "code",
      "source": [
        "# B_0\n",
        "# use the odds of aluminmum\n",
        "log(110/66)"
      ],
      "metadata": {
        "colab": {
          "base_uri": "https://localhost:8080/",
          "height": 34
        },
        "id": "h-8__dDvZVBc",
        "outputId": "01808061-c277-409c-a71d-5cd29b0763ab"
      },
      "execution_count": 52,
      "outputs": [
        {
          "output_type": "display_data",
          "data": {
            "text/html": [
              "0.510825623765991"
            ],
            "text/markdown": "0.510825623765991",
            "text/latex": "0.510825623765991",
            "text/plain": [
              "[1] 0.5108256"
            ]
          },
          "metadata": {}
        }
      ]
    },
    {
      "cell_type": "code",
      "source": [
        "# B_1\n",
        "log(1.2) - log(1.67)"
      ],
      "metadata": {
        "colab": {
          "base_uri": "https://localhost:8080/",
          "height": 34
        },
        "id": "NbHOicNgISHF",
        "outputId": "7e96c74f-782f-4f32-e9b7-d700398b6a0f"
      },
      "execution_count": 53,
      "outputs": [
        {
          "output_type": "display_data",
          "data": {
            "text/html": [
              "-0.330502069634709"
            ],
            "text/markdown": "-0.330502069634709",
            "text/latex": "-0.330502069634709",
            "text/plain": [
              "[1] -0.3305021"
            ]
          },
          "metadata": {}
        }
      ]
    },
    {
      "cell_type": "code",
      "source": [
        "OR = 1.2/1.67\n",
        "OR\n",
        "\n",
        "# The odds of wood user is 71% times higher than aluminimu users."
      ],
      "metadata": {
        "colab": {
          "base_uri": "https://localhost:8080/",
          "height": 34
        },
        "id": "hyN3dgekIejN",
        "outputId": "7b774fe4-38d3-4757-8ed7-8013229372ab"
      },
      "execution_count": 54,
      "outputs": [
        {
          "output_type": "display_data",
          "data": {
            "text/html": [
              "0.718562874251497"
            ],
            "text/markdown": "0.718562874251497",
            "text/latex": "0.718562874251497",
            "text/plain": [
              "[1] 0.7185629"
            ]
          },
          "metadata": {}
        }
      ]
    },
    {
      "cell_type": "markdown",
      "source": [
        "## D)\n",
        "\n",
        "What if instead we fit the following model:\n",
        "\n",
        "$$\\log(p_i) = \\beta_0 + \\beta_1 X_i$$\n",
        "\n",
        "Where $X_i$ = 1 for aluminum racquets and 0 for wood racquets.  Find $\\hat\\beta_0$ and $\\hat\\beta_1$ *without* using `glm()`.  Also find and interpret $e^{\\hat\\beta_1}$.\n",
        "\n",
        "# ***Note: This is the rate ratio model***\n",
        "From A:\n",
        "* $P(Y_i = 1 | Wood)$ = **60/110 = 0.5454**\n",
        "* $P(Y_i = 1 | Aluminum)$ = **110/176 = 0.625**\n"
      ],
      "metadata": {
        "id": "ieNxa-vXHE8L"
      }
    },
    {
      "cell_type": "markdown",
      "source": [
        "# **D - Answer:**\n",
        "  - $\\hat\\beta_0$ : (log odds when x = 0) = **-0.61**\n",
        "  - $\\hat\\beta_1$ = **-0.13**\n",
        "  - $e^{\\hat\\beta_1}$ = **1.15**\n",
        "\n",
        "\n",
        "  **The probability of having tennis elbow is 1.15 times higher for those using an aluminum racquet compared to those using a wood racquet.**"
      ],
      "metadata": {
        "id": "sBUQzvp3d47E"
      }
    },
    {
      "cell_type": "code",
      "source": [
        "# B_0\n",
        "# Y = 1 when X = 0\n",
        "log(0.5454)"
      ],
      "metadata": {
        "colab": {
          "base_uri": "https://localhost:8080/",
          "height": 34
        },
        "id": "kF7aE72lcidp",
        "outputId": "1da63a6f-35d5-40be-f6df-83496f99043d"
      },
      "execution_count": 55,
      "outputs": [
        {
          "output_type": "display_data",
          "data": {
            "text/html": [
              "-0.606235808570649"
            ],
            "text/markdown": "-0.606235808570649",
            "text/latex": "-0.606235808570649",
            "text/plain": [
              "[1] -0.6062358"
            ]
          },
          "metadata": {}
        }
      ]
    },
    {
      "cell_type": "code",
      "source": [
        "# B_1\n",
        "# change in the log probability of Y = 1 for a one-unit change in X = 1\n",
        "log(0.5454) - log(0.625)"
      ],
      "metadata": {
        "colab": {
          "base_uri": "https://localhost:8080/",
          "height": 34
        },
        "id": "GShdh11Sc3bQ",
        "outputId": "73dc48d7-a22f-4811-8abd-9b3bde2c059f"
      },
      "execution_count": 57,
      "outputs": [
        {
          "output_type": "display_data",
          "data": {
            "text/html": [
              "-0.136232179324913"
            ],
            "text/markdown": "-0.136232179324913",
            "text/latex": "-0.136232179324913",
            "text/plain": [
              "[1] -0.1362322"
            ]
          },
          "metadata": {}
        }
      ]
    },
    {
      "cell_type": "code",
      "source": [
        "RR = 0.625/0.5454\n",
        "RR\n",
        "# The probability of tenis elbows is 1.15 times higher for aluminium users."
      ],
      "metadata": {
        "colab": {
          "base_uri": "https://localhost:8080/",
          "height": 34
        },
        "id": "r888WqWKJOoD",
        "outputId": "dfcd6672-df10-4a2e-ad97-1537ea445059"
      },
      "execution_count": 58,
      "outputs": [
        {
          "output_type": "display_data",
          "data": {
            "text/html": [
              "1.14594792812615"
            ],
            "text/markdown": "1.14594792812615",
            "text/latex": "1.14594792812615",
            "text/plain": [
              "[1] 1.145948"
            ]
          },
          "metadata": {}
        }
      ]
    },
    {
      "cell_type": "markdown",
      "source": [
        "## E)\n",
        "\n",
        "Repeat D) but using the coding $X_i = 1$ for wood and 0 for aluminum."
      ],
      "metadata": {
        "id": "XSbsKpt0HdXt"
      }
    },
    {
      "cell_type": "markdown",
      "source": [
        "# **E - Answer:**\n",
        "  - $\\hat\\beta_0$ : (log odds when x = 0) = **-0.47**\n",
        "  - $\\hat\\beta_1$ = **0.14**\n",
        "  - $e^{\\hat\\beta_1}$ = **0.87**\n",
        "\n",
        "\n",
        "  **The probability of having tennis elbow is 0.87 times higher for those using a wood racquet compared to those using a aluminum racquet.**"
      ],
      "metadata": {
        "id": "tzRSbXT3fjiE"
      }
    },
    {
      "cell_type": "code",
      "source": [
        "# B_0\n",
        "# Y = 1 when X = 0\n",
        "log(0.625)"
      ],
      "metadata": {
        "id": "b214Cy17JeO2",
        "colab": {
          "base_uri": "https://localhost:8080/",
          "height": 34
        },
        "outputId": "64a1dbbf-c05b-4306-9154-714d900cb459"
      },
      "execution_count": 59,
      "outputs": [
        {
          "output_type": "display_data",
          "data": {
            "text/html": [
              "-0.470003629245736"
            ],
            "text/markdown": "-0.470003629245736",
            "text/latex": "-0.470003629245736",
            "text/plain": [
              "[1] -0.4700036"
            ]
          },
          "metadata": {}
        }
      ]
    },
    {
      "cell_type": "code",
      "source": [
        "# B_1\n",
        "# change in the log probability of Y = 1 for a one-unit change in X = 1\n",
        "log(0.625) - log(0.5454)"
      ],
      "metadata": {
        "colab": {
          "base_uri": "https://localhost:8080/",
          "height": 34
        },
        "id": "FTgeZw25fB1f",
        "outputId": "7e032072-c77f-4c74-c40e-2ecc2fb4a086"
      },
      "execution_count": 60,
      "outputs": [
        {
          "output_type": "display_data",
          "data": {
            "text/html": [
              "0.136232179324913"
            ],
            "text/markdown": "0.136232179324913",
            "text/latex": "0.136232179324913",
            "text/plain": [
              "[1] 0.1362322"
            ]
          },
          "metadata": {}
        }
      ]
    },
    {
      "cell_type": "code",
      "source": [
        "RR = 0.5454/0.625\n",
        "RR\n",
        "# The probability of tenis elbows is 0.873 times higher for wood users."
      ],
      "metadata": {
        "colab": {
          "base_uri": "https://localhost:8080/",
          "height": 34
        },
        "id": "BpSlkEZgfI8p",
        "outputId": "305c1c74-3995-4b70-da73-cb8bc0d9116b"
      },
      "execution_count": 62,
      "outputs": [
        {
          "output_type": "display_data",
          "data": {
            "text/html": [
              "0.87264"
            ],
            "text/markdown": "0.87264",
            "text/latex": "0.87264",
            "text/plain": [
              "[1] 0.87264"
            ]
          },
          "metadata": {}
        }
      ]
    },
    {
      "cell_type": "markdown",
      "source": [
        "## F)\n",
        "\n",
        "Check your answers with `glm()` (you don't have to check them all, but you should check at least one logit fit and one log fit).  To fit a binomial GLM using counts, specify `weights = frq` in the `glm()` call."
      ],
      "metadata": {
        "id": "5g3_RlUlHjVe"
      }
    },
    {
      "cell_type": "code",
      "source": [
        "df <- data.frame(racquet = c('wood','wood','aluminum','aluminum'),\n",
        "                  tennis.elbow = c(0,1,0,1),\n",
        "                  frq = c(50,60,66,110))\n",
        "df"
      ],
      "metadata": {
        "id": "Tgn1f3uP125B",
        "colab": {
          "base_uri": "https://localhost:8080/",
          "height": 223
        },
        "outputId": "453b78e3-fe8a-4c65-d60c-e04f2b13ec91"
      },
      "execution_count": null,
      "outputs": [
        {
          "output_type": "display_data",
          "data": {
            "text/html": [
              "<table class=\"dataframe\">\n",
              "<caption>A data.frame: 4 × 3</caption>\n",
              "<thead>\n",
              "\t<tr><th scope=col>racquet</th><th scope=col>tennis.elbow</th><th scope=col>frq</th></tr>\n",
              "\t<tr><th scope=col>&lt;chr&gt;</th><th scope=col>&lt;dbl&gt;</th><th scope=col>&lt;dbl&gt;</th></tr>\n",
              "</thead>\n",
              "<tbody>\n",
              "\t<tr><td>wood    </td><td>0</td><td> 50</td></tr>\n",
              "\t<tr><td>wood    </td><td>1</td><td> 60</td></tr>\n",
              "\t<tr><td>aluminum</td><td>0</td><td> 66</td></tr>\n",
              "\t<tr><td>aluminum</td><td>1</td><td>110</td></tr>\n",
              "</tbody>\n",
              "</table>\n"
            ],
            "text/markdown": "\nA data.frame: 4 × 3\n\n| racquet &lt;chr&gt; | tennis.elbow &lt;dbl&gt; | frq &lt;dbl&gt; |\n|---|---|---|\n| wood     | 0 |  50 |\n| wood     | 1 |  60 |\n| aluminum | 0 |  66 |\n| aluminum | 1 | 110 |\n\n",
            "text/latex": "A data.frame: 4 × 3\n\\begin{tabular}{lll}\n racquet & tennis.elbow & frq\\\\\n <chr> & <dbl> & <dbl>\\\\\n\\hline\n\t wood     & 0 &  50\\\\\n\t wood     & 1 &  60\\\\\n\t aluminum & 0 &  66\\\\\n\t aluminum & 1 & 110\\\\\n\\end{tabular}\n",
            "text/plain": [
              "  racquet  tennis.elbow frq\n",
              "1 wood     0             50\n",
              "2 wood     1             60\n",
              "3 aluminum 0             66\n",
              "4 aluminum 1            110"
            ]
          },
          "metadata": {}
        }
      ]
    },
    {
      "cell_type": "markdown",
      "source": [
        "# **F - Answer:**"
      ],
      "metadata": {
        "id": "lV12S7-7jaVQ"
      }
    },
    {
      "cell_type": "code",
      "source": [
        "# glm(y~x, data=df, family = binomial(link='log'), weights=frq)\n",
        "# When wood = 1\n",
        "# How can I change x variable in glm??? Change to x = 1 when aluminum\n",
        "\n",
        "model <- glm(tennis.elbow ~ racquet, data=df, family = binomial, weights=frq)\n",
        "summary(model)"
      ],
      "metadata": {
        "colab": {
          "base_uri": "https://localhost:8080/",
          "height": 347
        },
        "id": "UEfl7mr0Jpoh",
        "outputId": "c1a3c4c6-81d8-4fdc-efb4-6c529930d69d"
      },
      "execution_count": 68,
      "outputs": [
        {
          "output_type": "display_data",
          "data": {
            "text/plain": [
              "\n",
              "Call:\n",
              "glm(formula = tennis.elbow ~ racquet, family = binomial, data = df, \n",
              "    weights = frq)\n",
              "\n",
              "Coefficients:\n",
              "            Estimate Std. Error z value Pr(>|z|)   \n",
              "(Intercept)   0.5108     0.1557   3.281  0.00103 **\n",
              "racquetwood  -0.3285     0.2468  -1.331  0.18317   \n",
              "---\n",
              "Signif. codes:  0 ‘***’ 0.001 ‘**’ 0.01 ‘*’ 0.05 ‘.’ 0.1 ‘ ’ 1\n",
              "\n",
              "(Dispersion parameter for binomial family taken to be 1)\n",
              "\n",
              "    Null deviance: 386.22  on 3  degrees of freedom\n",
              "Residual deviance: 384.45  on 2  degrees of freedom\n",
              "AIC: 388.45\n",
              "\n",
              "Number of Fisher Scoring iterations: 4\n"
            ]
          },
          "metadata": {}
        }
      ]
    },
    {
      "cell_type": "markdown",
      "source": [
        "# 2)\n",
        "\n",
        "The King County birth weight data set contains information on 2500 infants born in King County, Washington, and their mothers."
      ],
      "metadata": {
        "id": "WBM8F6_I5Icw"
      }
    },
    {
      "cell_type": "code",
      "source": [
        "library(dplyr)\n",
        "bwtdf <- read.csv('https://www.dropbox.com/s/l2xgt232y93zej6/Birthweight.csv?dl=1') %>%\n",
        "   mutate(LBW = ifelse(bwt <=2500, 1, 0), premature = cut(gestation, c(0, 27, 32, 34, 36, 50), labels = c('Extremely','Very','Moderately','Late','Normal') ))"
      ],
      "metadata": {
        "id": "5KdYH3pu5LSL"
      },
      "execution_count": 69,
      "outputs": []
    },
    {
      "cell_type": "code",
      "source": [
        "head(bwtdf)"
      ],
      "metadata": {
        "colab": {
          "base_uri": "https://localhost:8080/",
          "height": 286
        },
        "id": "bHHGGzm05L8F",
        "outputId": "3febeac5-1c60-44d9-af86-2fb66b8f03c6"
      },
      "execution_count": 70,
      "outputs": [
        {
          "output_type": "display_data",
          "data": {
            "text/html": [
              "<table class=\"dataframe\">\n",
              "<caption>A data.frame: 6 × 20</caption>\n",
              "<thead>\n",
              "\t<tr><th></th><th scope=col>gender</th><th scope=col>age</th><th scope=col>race</th><th scope=col>parity</th><th scope=col>married</th><th scope=col>bwt</th><th scope=col>smokeN</th><th scope=col>drinkN</th><th scope=col>firstep</th><th scope=col>welfare</th><th scope=col>smoker</th><th scope=col>drinker</th><th scope=col>wpre</th><th scope=col>wgain</th><th scope=col>education</th><th scope=col>gestation</th><th scope=col>Preterm.</th><th scope=col>gest_cat</th><th scope=col>LBW</th><th scope=col>premature</th></tr>\n",
              "\t<tr><th></th><th scope=col>&lt;chr&gt;</th><th scope=col>&lt;int&gt;</th><th scope=col>&lt;chr&gt;</th><th scope=col>&lt;int&gt;</th><th scope=col>&lt;chr&gt;</th><th scope=col>&lt;int&gt;</th><th scope=col>&lt;int&gt;</th><th scope=col>&lt;int&gt;</th><th scope=col>&lt;int&gt;</th><th scope=col>&lt;chr&gt;</th><th scope=col>&lt;chr&gt;</th><th scope=col>&lt;chr&gt;</th><th scope=col>&lt;int&gt;</th><th scope=col>&lt;int&gt;</th><th scope=col>&lt;int&gt;</th><th scope=col>&lt;int&gt;</th><th scope=col>&lt;chr&gt;</th><th scope=col>&lt;chr&gt;</th><th scope=col>&lt;dbl&gt;</th><th scope=col>&lt;fct&gt;</th></tr>\n",
              "</thead>\n",
              "<tbody>\n",
              "\t<tr><th scope=row>1</th><td>M</td><td>14</td><td>hispanic</td><td>0</td><td>single </td><td>3033</td><td>0</td><td>0</td><td>0</td><td>non-recipient</td><td>N</td><td>N</td><td>115</td><td>19</td><td> 7</td><td>36</td><td>Yes</td><td>36 weeks   </td><td>0</td><td>Late  </td></tr>\n",
              "\t<tr><th scope=row>2</th><td>M</td><td>14</td><td>asian   </td><td>0</td><td>single </td><td>2977</td><td>0</td><td>0</td><td>0</td><td>non-recipient</td><td>N</td><td>N</td><td> 95</td><td>35</td><td> 7</td><td>37</td><td>No </td><td>37+ weeks  </td><td>0</td><td>Normal</td></tr>\n",
              "\t<tr><th scope=row>3</th><td>M</td><td>15</td><td>asian   </td><td>0</td><td>single </td><td>2992</td><td>0</td><td>0</td><td>0</td><td>non-recipient</td><td>N</td><td>N</td><td>122</td><td> 7</td><td>10</td><td>32</td><td>Yes</td><td>32-35 weeks</td><td>0</td><td>Very  </td></tr>\n",
              "\t<tr><th scope=row>4</th><td>M</td><td>15</td><td>black   </td><td>0</td><td>single </td><td>2920</td><td>0</td><td>0</td><td>1</td><td>non-recipient</td><td>N</td><td>N</td><td>180</td><td>12</td><td> 9</td><td>36</td><td>Yes</td><td>36 weeks   </td><td>0</td><td>Late  </td></tr>\n",
              "\t<tr><th scope=row>5</th><td>F</td><td>15</td><td>hispanic</td><td>0</td><td>married</td><td>2863</td><td>0</td><td>0</td><td>1</td><td>non-recipient</td><td>N</td><td>N</td><td>136</td><td>22</td><td> 9</td><td>37</td><td>No </td><td>37+ weeks  </td><td>0</td><td>Normal</td></tr>\n",
              "\t<tr><th scope=row>6</th><td>F</td><td>15</td><td>black   </td><td>0</td><td>single </td><td>3374</td><td>0</td><td>0</td><td>1</td><td>non-recipient</td><td>N</td><td>N</td><td>102</td><td>39</td><td> 9</td><td>40</td><td>No </td><td>37+ weeks  </td><td>0</td><td>Normal</td></tr>\n",
              "</tbody>\n",
              "</table>\n"
            ],
            "text/markdown": "\nA data.frame: 6 × 20\n\n| <!--/--> | gender &lt;chr&gt; | age &lt;int&gt; | race &lt;chr&gt; | parity &lt;int&gt; | married &lt;chr&gt; | bwt &lt;int&gt; | smokeN &lt;int&gt; | drinkN &lt;int&gt; | firstep &lt;int&gt; | welfare &lt;chr&gt; | smoker &lt;chr&gt; | drinker &lt;chr&gt; | wpre &lt;int&gt; | wgain &lt;int&gt; | education &lt;int&gt; | gestation &lt;int&gt; | Preterm. &lt;chr&gt; | gest_cat &lt;chr&gt; | LBW &lt;dbl&gt; | premature &lt;fct&gt; |\n|---|---|---|---|---|---|---|---|---|---|---|---|---|---|---|---|---|---|---|---|---|\n| 1 | M | 14 | hispanic | 0 | single  | 3033 | 0 | 0 | 0 | non-recipient | N | N | 115 | 19 |  7 | 36 | Yes | 36 weeks    | 0 | Late   |\n| 2 | M | 14 | asian    | 0 | single  | 2977 | 0 | 0 | 0 | non-recipient | N | N |  95 | 35 |  7 | 37 | No  | 37+ weeks   | 0 | Normal |\n| 3 | M | 15 | asian    | 0 | single  | 2992 | 0 | 0 | 0 | non-recipient | N | N | 122 |  7 | 10 | 32 | Yes | 32-35 weeks | 0 | Very   |\n| 4 | M | 15 | black    | 0 | single  | 2920 | 0 | 0 | 1 | non-recipient | N | N | 180 | 12 |  9 | 36 | Yes | 36 weeks    | 0 | Late   |\n| 5 | F | 15 | hispanic | 0 | married | 2863 | 0 | 0 | 1 | non-recipient | N | N | 136 | 22 |  9 | 37 | No  | 37+ weeks   | 0 | Normal |\n| 6 | F | 15 | black    | 0 | single  | 3374 | 0 | 0 | 1 | non-recipient | N | N | 102 | 39 |  9 | 40 | No  | 37+ weeks   | 0 | Normal |\n\n",
            "text/latex": "A data.frame: 6 × 20\n\\begin{tabular}{r|llllllllllllllllllll}\n  & gender & age & race & parity & married & bwt & smokeN & drinkN & firstep & welfare & smoker & drinker & wpre & wgain & education & gestation & Preterm. & gest\\_cat & LBW & premature\\\\\n  & <chr> & <int> & <chr> & <int> & <chr> & <int> & <int> & <int> & <int> & <chr> & <chr> & <chr> & <int> & <int> & <int> & <int> & <chr> & <chr> & <dbl> & <fct>\\\\\n\\hline\n\t1 & M & 14 & hispanic & 0 & single  & 3033 & 0 & 0 & 0 & non-recipient & N & N & 115 & 19 &  7 & 36 & Yes & 36 weeks    & 0 & Late  \\\\\n\t2 & M & 14 & asian    & 0 & single  & 2977 & 0 & 0 & 0 & non-recipient & N & N &  95 & 35 &  7 & 37 & No  & 37+ weeks   & 0 & Normal\\\\\n\t3 & M & 15 & asian    & 0 & single  & 2992 & 0 & 0 & 0 & non-recipient & N & N & 122 &  7 & 10 & 32 & Yes & 32-35 weeks & 0 & Very  \\\\\n\t4 & M & 15 & black    & 0 & single  & 2920 & 0 & 0 & 1 & non-recipient & N & N & 180 & 12 &  9 & 36 & Yes & 36 weeks    & 0 & Late  \\\\\n\t5 & F & 15 & hispanic & 0 & married & 2863 & 0 & 0 & 1 & non-recipient & N & N & 136 & 22 &  9 & 37 & No  & 37+ weeks   & 0 & Normal\\\\\n\t6 & F & 15 & black    & 0 & single  & 3374 & 0 & 0 & 1 & non-recipient & N & N & 102 & 39 &  9 & 40 & No  & 37+ weeks   & 0 & Normal\\\\\n\\end{tabular}\n",
            "text/plain": [
              "  gender age race     parity married bwt  smokeN drinkN firstep welfare      \n",
              "1 M      14  hispanic 0      single  3033 0      0      0       non-recipient\n",
              "2 M      14  asian    0      single  2977 0      0      0       non-recipient\n",
              "3 M      15  asian    0      single  2992 0      0      0       non-recipient\n",
              "4 M      15  black    0      single  2920 0      0      1       non-recipient\n",
              "5 F      15  hispanic 0      married 2863 0      0      1       non-recipient\n",
              "6 F      15  black    0      single  3374 0      0      1       non-recipient\n",
              "  smoker drinker wpre wgain education gestation Preterm. gest_cat    LBW\n",
              "1 N      N       115  19     7        36        Yes      36 weeks    0  \n",
              "2 N      N        95  35     7        37        No       37+ weeks   0  \n",
              "3 N      N       122   7    10        32        Yes      32-35 weeks 0  \n",
              "4 N      N       180  12     9        36        Yes      36 weeks    0  \n",
              "5 N      N       136  22     9        37        No       37+ weeks   0  \n",
              "6 N      N       102  39     9        40        No       37+ weeks   0  \n",
              "  premature\n",
              "1 Late     \n",
              "2 Normal   \n",
              "3 Very     \n",
              "4 Late     \n",
              "5 Normal   \n",
              "6 Normal   "
            ]
          },
          "metadata": {}
        }
      ]
    },
    {
      "cell_type": "markdown",
      "source": [
        "We are interested in modeling $Y_i$, which is 1 for low birth weight infants (`LBW=1`) and 0 otherwise.  We will consider two $X$ variables: gestational age, in weeks (variable `gestation`, a quantitative variable) and `premature`, a categorical variable.  `premature` indicates how premature the infant was born, and is one of `'Extremely'`, `'Very'`, `'Moderately'`, `'Late'`,or `'Normal'`.\n",
        "\n"
      ],
      "metadata": {
        "id": "DB9Bz0aF5oxM"
      }
    },
    {
      "cell_type": "markdown",
      "source": [
        "## A)\n",
        "\n",
        "Using `dplyr`, find the observed $\\hat p$ (percent of infants born LBW) and $logit(\\hat p)$ for each gestational age.  Filter out the infinite $logit(\\hat p)$, then make a scatterplot of the relationship bteween gestational age and $logit(\\hat p)$; do the log-odds of low birth weight appear linearly related to gestational age?\n",
        "\n",
        "* y = LBW\n",
        "* x = gestation, premature"
      ],
      "metadata": {
        "id": "vZ_Ggh-89wXj"
      }
    },
    {
      "cell_type": "code",
      "source": [
        "(bwtdf\n",
        "  %>% group_by(gestation)\n",
        "  %>% summarise(nLBN = sum(LBW), total = n())\n",
        "  %>% mutate(p = nLBN/total)\n",
        "  %>% mutate(logitp = log(p/(1-p)))\n",
        "  %>% filter(p > 0 & p < 1)\n",
        ") -> summarized_bwts\n",
        "\n",
        "head(summarized_bwts)"
      ],
      "metadata": {
        "colab": {
          "base_uri": "https://localhost:8080/",
          "height": 286
        },
        "id": "HY-PEm8CKyYj",
        "outputId": "f9e52767-c576-4a28-98e4-d8d671567af2"
      },
      "execution_count": 75,
      "outputs": [
        {
          "output_type": "display_data",
          "data": {
            "text/html": [
              "<table class=\"dataframe\">\n",
              "<caption>A tibble: 6 × 5</caption>\n",
              "<thead>\n",
              "\t<tr><th scope=col>gestation</th><th scope=col>nLBN</th><th scope=col>total</th><th scope=col>p</th><th scope=col>logitp</th></tr>\n",
              "\t<tr><th scope=col>&lt;int&gt;</th><th scope=col>&lt;dbl&gt;</th><th scope=col>&lt;int&gt;</th><th scope=col>&lt;dbl&gt;</th><th scope=col>&lt;dbl&gt;</th></tr>\n",
              "</thead>\n",
              "<tbody>\n",
              "\t<tr><td>28</td><td> 1</td><td> 2</td><td>0.5000000</td><td> 0.0000000</td></tr>\n",
              "\t<tr><td>29</td><td> 2</td><td> 3</td><td>0.6666667</td><td> 0.6931472</td></tr>\n",
              "\t<tr><td>30</td><td> 7</td><td> 8</td><td>0.8750000</td><td> 1.9459101</td></tr>\n",
              "\t<tr><td>31</td><td> 4</td><td> 8</td><td>0.5000000</td><td> 0.0000000</td></tr>\n",
              "\t<tr><td>32</td><td>11</td><td>15</td><td>0.7333333</td><td> 1.0116009</td></tr>\n",
              "\t<tr><td>33</td><td> 9</td><td>20</td><td>0.4500000</td><td>-0.2006707</td></tr>\n",
              "</tbody>\n",
              "</table>\n"
            ],
            "text/markdown": "\nA tibble: 6 × 5\n\n| gestation &lt;int&gt; | nLBN &lt;dbl&gt; | total &lt;int&gt; | p &lt;dbl&gt; | logitp &lt;dbl&gt; |\n|---|---|---|---|---|\n| 28 |  1 |  2 | 0.5000000 |  0.0000000 |\n| 29 |  2 |  3 | 0.6666667 |  0.6931472 |\n| 30 |  7 |  8 | 0.8750000 |  1.9459101 |\n| 31 |  4 |  8 | 0.5000000 |  0.0000000 |\n| 32 | 11 | 15 | 0.7333333 |  1.0116009 |\n| 33 |  9 | 20 | 0.4500000 | -0.2006707 |\n\n",
            "text/latex": "A tibble: 6 × 5\n\\begin{tabular}{lllll}\n gestation & nLBN & total & p & logitp\\\\\n <int> & <dbl> & <int> & <dbl> & <dbl>\\\\\n\\hline\n\t 28 &  1 &  2 & 0.5000000 &  0.0000000\\\\\n\t 29 &  2 &  3 & 0.6666667 &  0.6931472\\\\\n\t 30 &  7 &  8 & 0.8750000 &  1.9459101\\\\\n\t 31 &  4 &  8 & 0.5000000 &  0.0000000\\\\\n\t 32 & 11 & 15 & 0.7333333 &  1.0116009\\\\\n\t 33 &  9 & 20 & 0.4500000 & -0.2006707\\\\\n\\end{tabular}\n",
            "text/plain": [
              "  gestation nLBN total p         logitp    \n",
              "1 28         1    2    0.5000000  0.0000000\n",
              "2 29         2    3    0.6666667  0.6931472\n",
              "3 30         7    8    0.8750000  1.9459101\n",
              "4 31         4    8    0.5000000  0.0000000\n",
              "5 32        11   15    0.7333333  1.0116009\n",
              "6 33         9   20    0.4500000 -0.2006707"
            ]
          },
          "metadata": {}
        }
      ]
    },
    {
      "cell_type": "code",
      "source": [
        "library(tidyverse)\n",
        "ggplot(data = summarized_bwts) +\n",
        "  geom_point(aes(x = gestation, y= logitp))\n",
        "\n",
        "# There seems to be a linear relationship with gestaion and logitp of low-birth.\n",
        "# As the gastaion age increases, the logitp of low birth decreases."
      ],
      "metadata": {
        "colab": {
          "base_uri": "https://localhost:8080/",
          "height": 437
        },
        "id": "nyJ4d3wqMx0D",
        "outputId": "b21094da-6682-4c96-ee83-a59f47fab022"
      },
      "execution_count": 76,
      "outputs": [
        {
          "output_type": "display_data",
          "data": {
            "text/plain": [
              "plot without title"
            ],
            "image/png": "[encoded data removed]"
          },
          "metadata": {
            "image/png": {
              "width": 420,
              "height": 420
            }
          }
        }
      ]
    },
    {
      "cell_type": "markdown",
      "source": [
        "## B)\n",
        "\n",
        "\n",
        "Fit the following model:\n",
        "\n",
        "$$logit(P(Y_i = 1 | gestation_i)) = \\beta_0 + \\beta_1 gestation_i$$\n",
        "\n",
        "Here, $gestation_i$ is the gestational age (in weeks) of each infant.  Interpret the slope coefficient (or a function of it).  Determine whether there is evidence of a relationship between gestational age and low birth weight."
      ],
      "metadata": {
        "id": "ImaQITtK5jB1"
      }
    },
    {
      "cell_type": "markdown",
      "source": [
        "# <font color = red>**What is the difference between \"family = binomial\" and \"family = binomial(link='log')\"?**\n",
        "\n",
        "* **family = binomial** (Default: Logit Link)\n",
        "\n",
        "  This is a logistic regression, which models the odds of the outcome.\n",
        "\n",
        "* **family = binomial(link = 'log')** (Log Link)\n",
        "\n",
        "  This models the probability (p) rather than the odds."
      ],
      "metadata": {
        "id": "Srdhz_xam4ye"
      }
    },
    {
      "cell_type": "code",
      "source": [
        "# What is the difference between family = binomial and family = binomial(link='log')?\n",
        "gaussian_model <- glm(LBW~ gestation, family = binomial, data = bwtdf)\n",
        "gaussian_model"
      ],
      "metadata": {
        "colab": {
          "base_uri": "https://localhost:8080/",
          "height": 191
        },
        "id": "yGBKRAqeNkGj",
        "outputId": "21e07b7c-efcf-4cc5-ae58-a68a450b860e"
      },
      "execution_count": 77,
      "outputs": [
        {
          "output_type": "display_data",
          "data": {
            "text/plain": [
              "\n",
              "Call:  glm(formula = LBW ~ gestation, family = binomial, data = bwtdf)\n",
              "\n",
              "Coefficients:\n",
              "(Intercept)    gestation  \n",
              "    21.3810      -0.6512  \n",
              "\n",
              "Degrees of Freedom: 2499 Total (i.e. Null);  2498 Residual\n",
              "Null Deviance:\t    1004 \n",
              "Residual Deviance: 655.2 \tAIC: 659.2"
            ]
          },
          "metadata": {}
        }
      ]
    },
    {
      "cell_type": "code",
      "source": [
        "exp(-0.6512)"
      ],
      "metadata": {
        "colab": {
          "base_uri": "https://localhost:8080/",
          "height": 34
        },
        "id": "hLMdghvXN9_y",
        "outputId": "3fef06eb-21f9-4a84-fd05-96034a42f6d8"
      },
      "execution_count": null,
      "outputs": [
        {
          "output_type": "display_data",
          "data": {
            "text/html": [
              "0.521419697551558"
            ],
            "text/markdown": "0.521419697551558",
            "text/latex": "0.521419697551558",
            "text/plain": [
              "[1] 0.5214197"
            ]
          },
          "metadata": {}
        }
      ]
    },
    {
      "cell_type": "markdown",
      "source": [
        "# **B - Answer:**\n",
        "**A 1-week increase in gastational age is associated with 52.1% decrease in the odds of being low birth weight.**"
      ],
      "metadata": {
        "id": "uCXptjd2OA3h"
      }
    },
    {
      "cell_type": "markdown",
      "source": [
        "## C)\n",
        "\n",
        "Consider the `premature` variable, which categorizes the gestational age into the following categories:\n",
        "\n",
        "* Extremely preterm: < 27 weeks\n",
        "* Very preterm: 28-32 weeks\n",
        "* Moderately preterm: 33-34 weeks\n",
        "* Late preterm: 35-36 weeks\n",
        "* Not preterm: 37+ weeks"
      ],
      "metadata": {
        "id": "upDo9Hym5ZPz"
      }
    },
    {
      "cell_type": "markdown",
      "source": [
        "Create a bar graph summarizing the relationship between this variable and $Y$."
      ],
      "metadata": {
        "id": "REOY4SMZ-qt_"
      }
    },
    {
      "cell_type": "markdown",
      "source": [
        "## D)\n",
        "\n",
        "Fit a logistic model that characterizes the relationship between the odds of being born LBW and the premature status.  Interpret the intercept term and one of the other coefficients."
      ],
      "metadata": {
        "id": "i_dA2bhE6eys"
      }
    },
    {
      "cell_type": "markdown",
      "source": [
        "## E)\n",
        "\n",
        "Use `emmeans` to contrast *consecutive* premature levels (e.g., extremely vs very; very vs moderately; etc.)  Summarize your findings.  (Hint: set up the `emmeans` object then use `contrast()`, with `method = 'consec'` to contrast only consecutive levels.)"
      ],
      "metadata": {
        "id": "nn3azQM-_mpQ"
      }
    },
    {
      "cell_type": "code",
      "source": [
        "install.packages('emmeans')\n",
        "library(emmeans)"
      ],
      "metadata": {
        "colab": {
          "base_uri": "https://localhost:8080/"
        },
        "id": "ryAifFHF_CrK",
        "outputId": "0428ea4c-64bf-46e8-88d3-2caa2993267d"
      },
      "execution_count": null,
      "outputs": [
        {
          "output_type": "stream",
          "name": "stderr",
          "text": [
            "Installing package into ‘/usr/local/lib/R/site-library’\n",
            "(as ‘lib’ is unspecified)\n",
            "\n",
            "also installing the dependencies ‘estimability’, ‘numDeriv’, ‘mvtnorm’\n",
            "\n",
            "\n"
          ]
        }
      ]
    }
  ]
}